{
  "nbformat": 4,
  "nbformat_minor": 0,
  "metadata": {
    "anaconda-cloud": {},
    "kernelspec": {
      "display_name": "Python 3",
      "language": "python",
      "name": "python3"
    },
    "language_info": {
      "codemirror_mode": {
        "name": "ipython",
        "version": 3
      },
      "file_extension": ".py",
      "mimetype": "text/x-python",
      "name": "python",
      "nbconvert_exporter": "python",
      "pygments_lexer": "ipython3",
      "version": "3.7.4"
    },
    "colab": {
      "provenance": [],
      "include_colab_link": true
    }
  },
  "cells": [
    {
      "cell_type": "markdown",
      "metadata": {
        "id": "view-in-github",
        "colab_type": "text"
      },
      "source": [
        "<a href=\"https://colab.research.google.com/github/Rogerio-mack/IMT_Ciencia_de_Dados/blob/main/IMT_Regressao_ex.ipynb\" target=\"_parent\"><img src=\"https://colab.research.google.com/assets/colab-badge.svg\" alt=\"Open In Colab\"/></a>"
      ]
    },
    {
      "cell_type": "markdown",
      "metadata": {
        "id": "80CF3Eq9EXDW"
      },
      "source": [
        "<head>\n",
        "  <meta name=\"author\" content=\"Rogério de Oliveira\">\n",
        "  <meta institution=\"author\" content=\"ITM\">\n",
        "</head>\n",
        "\n",
        "<img src=\"https://maua.br/images/selo-60-anos-maua.svg\" width=300, align=\"right\">\n",
        "<!-- <h1 align=left><font size = 6, style=\"color:rgb(200,0,0)\"> optional title </font></h1> -->\n"
      ]
    },
    {
      "cell_type": "markdown",
      "source": [
        "# Lab: Regressão Linear\n",
        "\n",
        "Referências e Materiais úteis para este Lab: *ver notas de aula de regressão linear*.\n",
        "\n",
        "<br>\n",
        "\n",
        "---\n",
        "\n",
        "\n",
        "\n"
      ],
      "metadata": {
        "id": "dEyV_GqcqtL1"
      }
    },
    {
      "cell_type": "markdown",
      "metadata": {
        "_uuid": "9dd9e07c590ca22f0c525222f60f0ebff4e092c6",
        "id": "SLTshJXLA4LT"
      },
      "source": [
        "# Caso: **Estimando a emissão de gases CO2 de veículos** \n",
        "\n",
        "Neste Lab você vai empregar modelos de regressão simples e múltipla para estimar as emissões de CO2 de veículos a partir de suas características como consumo de combustível, marca ou tamanho do motor.\n",
        "\n",
        "Dados [aqui](https://github.com/Rogerio-mack/IMT_Ciencia_de_Dados/raw/main/data/FuelConsumptionCo2.csv)"
      ]
    },
    {
      "cell_type": "markdown",
      "metadata": {
        "id": "zEpuYqjxwStL"
      },
      "source": [
        "# Exercício. Acesse e Explore os dados. \n",
        "\n",
        "Acesse e explore os dados antes de contruir os seus modelos. Verifique as quantidades e tipos de dados envolvidos, a qualidade dos dados etc. é fundamental conhecer os dados antes de se construir modelos sobre eles.\n"
      ]
    },
    {
      "cell_type": "code",
      "source": [
        "# seu código"
      ],
      "metadata": {
        "id": "fTVpdsFY8Cyf"
      },
      "execution_count": null,
      "outputs": []
    },
    {
      "cell_type": "markdown",
      "metadata": {
        "id": "p1Bze9msxNEh"
      },
      "source": [
        "# Exercício. Faça um gráfico de dispersão entre todos os pares de variáveis\n",
        "\n",
        "Isso irá permitir você visualizar as relações de cada par de variáveis dos dados.\n",
        "\n",
        "**Dica**: Empregue `sns.pairplot(df)`\n",
        "\n"
      ]
    },
    {
      "cell_type": "code",
      "metadata": {
        "id": "_AgJXt_DWS3a"
      },
      "source": [
        "# seu código"
      ],
      "execution_count": null,
      "outputs": []
    },
    {
      "cell_type": "markdown",
      "metadata": {
        "id": "dPcQ68i-yjSN"
      },
      "source": [
        "# Exercício. Modelo Regressão Simples\n",
        "\n",
        "Crie um modelo de regressão simples para estimar valores `CO2EMISSIONS` com base nos dados de consumo combinado dos veículos `FUELCONSUMPTION_COMB`. Encontre os coeficientes, seus p-values, e o R2 do modelo. \n"
      ]
    },
    {
      "cell_type": "code",
      "metadata": {
        "id": "cFBs6P51kKHB"
      },
      "source": [
        "# seu código"
      ],
      "execution_count": null,
      "outputs": []
    },
    {
      "cell_type": "markdown",
      "metadata": {
        "id": "9UiFiUPW1x46"
      },
      "source": [
        "# Exercício. Predição\n",
        "A partir do seu modelo empregue a função `result.predict(x)` para estimar a emissão de gases por veículos que apresentam consumo de combustível com valores 4 e 28.\n",
        "\n"
      ]
    },
    {
      "cell_type": "code",
      "metadata": {
        "id": "Rc7ckqg98J8V"
      },
      "source": [
        "# seu código"
      ],
      "execution_count": null,
      "outputs": []
    },
    {
      "cell_type": "markdown",
      "metadata": {
        "id": "bEF8Bdde3NE5"
      },
      "source": [
        "# Exercício. Regressão Múltipla\n",
        "\n",
        "Faça agora um modelo de regressão múltipla para estimar as emissões de CO2 a partir de `FUELCONSUMPTION_COMB` e `ENGINESIZE`. Em seguida faça a predição de emissões para um veículo com `FUELCONSUMPTION_COMB` = 10 e `ENGINESIZE` = 2. "
      ]
    },
    {
      "cell_type": "code",
      "metadata": {
        "id": "kOapb27G3cPj"
      },
      "source": [
        "# seu código"
      ],
      "execution_count": null,
      "outputs": []
    },
    {
      "cell_type": "markdown",
      "metadata": {
        "id": "9JqOhO0IlYut"
      },
      "source": [
        "# Exercício. Regressão com Atributos Categóricos `FUELTYPE`\n",
        "\n",
        "Faça agora um modelo de Regressão Múltipla adicionando o atributo categórico `FUELTYPE` ao modelo anterior. \n",
        "\n"
      ]
    },
    {
      "cell_type": "code",
      "source": [
        "# seu código"
      ],
      "metadata": {
        "id": "MEZ1F61yfy6d"
      },
      "execution_count": null,
      "outputs": []
    },
    {
      "cell_type": "markdown",
      "source": [
        "# Exercício. Predição de Emissões\n",
        "\n",
        "A AUDI deseja construir um novo veículo como o tamanho do motor e consumo médio de combustível 20% inferior aos valores de média encontrados nos veículos atualmente produzidos por ela (considere médias por tipo de combustível). Qual o consumo estimado desses veículos com base no modelo anterior? "
      ],
      "metadata": {
        "id": "xDM5SlLdcJBQ"
      }
    },
    {
      "cell_type": "code",
      "source": [
        "# seu código"
      ],
      "metadata": {
        "id": "e3o8HT87c5ni"
      },
      "execution_count": null,
      "outputs": []
    },
    {
      "cell_type": "markdown",
      "metadata": {
        "id": "-2XQli1YgNE2"
      },
      "source": [
        "# Exercício. Regressão com Atributos Categóricos `TRASMISSION`\n",
        "\n",
        "Faça agora um modelo de Regressão Múltipla adicionando o atributo categórico `TRANSMISSION` ao modelo anterior. \n",
        "\n"
      ]
    },
    {
      "cell_type": "code",
      "metadata": {
        "id": "9DNuK_Y0gNE5"
      },
      "source": [
        "# seu código"
      ],
      "execution_count": null,
      "outputs": []
    }
  ]
}