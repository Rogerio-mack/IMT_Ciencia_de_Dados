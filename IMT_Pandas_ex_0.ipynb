{
  "nbformat": 4,
  "nbformat_minor": 0,
  "metadata": {
    "kernelspec": {
      "display_name": "Python 3",
      "language": "python",
      "name": "python3"
    },
    "language_info": {
      "codemirror_mode": {
        "name": "ipython",
        "version": 3
      },
      "file_extension": ".py",
      "mimetype": "text/x-python",
      "name": "python",
      "nbconvert_exporter": "python",
      "pygments_lexer": "ipython3",
      "version": "3.7.4"
    },
    "colab": {
      "provenance": [],
      "include_colab_link": true
    }
  },
  "cells": [
    {
      "cell_type": "markdown",
      "metadata": {
        "id": "view-in-github",
        "colab_type": "text"
      },
      "source": [
        "<a href=\"https://colab.research.google.com/github/Rogerio-mack/IMT_Ciencia_de_Dados/blob/main/IMT_Pandas_ex_0.ipynb\" target=\"_parent\"><img src=\"https://colab.research.google.com/assets/colab-badge.svg\" alt=\"Open In Colab\"/></a>"
      ]
    },
    {
      "cell_type": "markdown",
      "metadata": {
        "id": "RJiGvGqyPEzF"
      },
      "source": [
        "<head>\n",
        "  <meta name=\"author\" content=\"Rogério de Oliveira\">\n",
        "  <meta institution=\"author\" content=\"ITM\">\n",
        "</head>\n",
        "\n",
        "<img src=\"https://maua.br/images/selo-60-anos-maua.svg\" width=300, align=\"right\">\n",
        "<!-- <h1 align=left><font size = 6, style=\"color:rgb(200,0,0)\"> optional title </font></h1> -->\n"
      ]
    },
    {
      "cell_type": "markdown",
      "source": [
        "# Lab: Seleção de Dados em Pandas \n",
        "\n",
        "Referências e Materiais úteis para este Lab:\n",
        "\n",
        "- [Notas de Aula](https://colab.research.google.com/github/Rogerio-mack/IMT_Ciencia_de_Dados/blob/main/IMT_Pandas_I.ipynb)\n",
        "- [Pandas User Guide](https://pandas.pydata.org/docs/user_guide/index.html#user-guide)\n",
        "\n",
        "---\n",
        "\n"
      ],
      "metadata": {
        "id": "ofY6xb3TPEzF"
      }
    },
    {
      "cell_type": "markdown",
      "metadata": {
        "id": "te1NO4UoLvgn"
      },
      "source": [
        "## **CASE Insurance** \n",
        "\n",
        "Acesse a base de dados [`insurance`](https://github.com/Rogerio-mack/IMT_Ciencia_de_Dados/raw/main/data/insurance.csv) para as questões a seguir.\n",
        "\n"
      ]
    },
    {
      "cell_type": "markdown",
      "metadata": {
        "id": "1M0SwWQ-bH7M"
      },
      "source": [
        "##### Q1. Acesse os dados explore a estrutura básica dos dados de `insurance`.\n",
        "\n",
        "> * Qual o número de caso de seguro? \n",
        "> * Quantos atributos são numéricos? \n",
        "> * Há quantos valores diferentes para região? \n",
        "> * Qual a maior quantidade de filhos? "
      ]
    },
    {
      "cell_type": "markdown",
      "metadata": {
        "id": "dgzrRcDUcOXo"
      },
      "source": [
        "##### Q2. Qual a quantidade de casos por região?"
      ]
    },
    {
      "cell_type": "markdown",
      "metadata": {
        "id": "QQxhcHxLd0eE"
      },
      "source": [
        "##### Q3. Qual a média dos pagamentos (charges) efetuados?"
      ]
    },
    {
      "cell_type": "markdown",
      "metadata": {
        "id": "C8u7kGA1eCIn"
      },
      "source": [
        "##### Q4. Qual a média dos pagamentos (charges) dos 10 maiores pagamentos efetuados?"
      ]
    },
    {
      "cell_type": "markdown",
      "metadata": {
        "id": "vJiFmcL7fCdt"
      },
      "source": [
        "##### Q5. Calcule a distância interquartis dos pagamentos.\n",
        "\n",
        "**Dica** Empregue a função `quantile()` do `Pandas` e use IQR = Q3 - Q1.\n",
        "\n"
      ]
    },
    {
      "cell_type": "markdown",
      "metadata": {
        "id": "Mjn6AADVfpUf"
      },
      "source": [
        "##### Q6. Empregue o valor IQR da questão anterior para verificar se existem *outliers* dos pagamentos.\n",
        "\n",
        "**Dica** *outliers* são dados fora do intervalo $[Q1 - 1.5 IQR, Q3 + 1.5 IQR]$ "
      ]
    },
    {
      "cell_type": "markdown",
      "metadata": {
        "id": "PBL5PVSoimHl"
      },
      "source": [
        "##### Q7. Qual a média dos pagamentos efetuados para os 10 casos com menor idade dos segurados? Aqui, empregue a função `nsmallest()`."
      ]
    },
    {
      "cell_type": "markdown",
      "metadata": {
        "id": "0NCuzlXHjtWp"
      },
      "source": [
        "##### Q8. Revise a questão anterior. De fato calculamos a média de *todos* os seguros de indivíduos com idade entre as 10 menores idades?\n",
        "\n",
        "**Dica** Verifique quantos indivíduos há com a menor idade"
      ]
    }
  ]
}