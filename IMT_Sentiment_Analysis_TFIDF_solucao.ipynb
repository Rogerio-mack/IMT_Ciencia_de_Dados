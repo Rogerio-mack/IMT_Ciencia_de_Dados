{
  "nbformat": 4,
  "nbformat_minor": 0,
  "metadata": {
    "colab": {
      "provenance": [],
      "toc_visible": true,
      "include_colab_link": true
    },
    "kernelspec": {
      "name": "python3",
      "display_name": "Python 3"
    }
  },
  "cells": [
    {
      "cell_type": "markdown",
      "metadata": {
        "id": "view-in-github",
        "colab_type": "text"
      },
      "source": [
        "<a href=\"https://colab.research.google.com/github/Rogerio-mack/IMT_Ciencia_de_Dados/blob/main/IMT_Sentiment_Analysis_TFIDF_solucao.ipynb\" target=\"_parent\"><img src=\"https://colab.research.google.com/assets/colab-badge.svg\" alt=\"Open In Colab\"/></a>"
      ]
    },
    {
      "cell_type": "markdown",
      "metadata": {
        "id": "80CF3Eq9EXDW"
      },
      "source": [
        "<head>\n",
        "  <meta name=\"author\" content=\"Rogério de Oliveira\">\n",
        "  <meta institution=\"author\" content=\"ITM\">\n",
        "</head>\n",
        "\n",
        "<img src=\"https://maua.br/images/selo-60-anos-maua.svg\" width=300, align=\"right\">\n",
        "<!-- <h1 align=left><font size = 6, style=\"color:rgb(200,0,0)\"> optional title </font></h1> -->\n"
      ]
    },
    {
      "cell_type": "markdown",
      "source": [
        "# **CASE**: Avaliação de aplicativos de comida do Google Play"
      ],
      "metadata": {
        "id": "WtiXMksjxBK4"
      }
    },
    {
      "cell_type": "code",
      "metadata": {
        "id": "U4Xpam-YYN0D"
      },
      "source": [
        "import numpy as np\n",
        "import pandas as pd\n",
        "import matplotlib.pyplot as plt\n",
        "%matplotlib inline\n",
        "import seaborn as sns"
      ],
      "execution_count": null,
      "outputs": []
    },
    {
      "cell_type": "markdown",
      "source": [
        "# Scraping"
      ],
      "metadata": {
        "id": "Ce_56xuXyHfz"
      }
    },
    {
      "cell_type": "code",
      "metadata": {
        "colab": {
          "base_uri": "https://localhost:8080/"
        },
        "id": "hhjGIJPwT4jD",
        "outputId": "283db81e-d59e-49f3-a29a-90b1cbad6636"
      },
      "source": [
        "# Google play scraper: https://github.com/JoMingyu/google-play-scraper\n",
        "!pip install google_play_scraper"
      ],
      "execution_count": null,
      "outputs": [
        {
          "output_type": "stream",
          "name": "stdout",
          "text": [
            "Collecting google_play_scraper\n",
            "  Downloading google_play_scraper-1.2.4-py3-none-any.whl (28 kB)\n",
            "Installing collected packages: google_play_scraper\n",
            "Successfully installed google_play_scraper-1.2.4\n"
          ]
        }
      ]
    },
    {
      "cell_type": "markdown",
      "source": [
        "## Select apps_ids\n",
        "\n",
        "Vamos selecionar apps nacionais de comida."
      ],
      "metadata": {
        "id": "JqSC3n9PyNQS"
      }
    },
    {
      "cell_type": "code",
      "metadata": {
        "id": "bNfxsZbfT1M8"
      },
      "source": [
        "apps_ids = ['br.com.brainweb.ifood',\n",
        "            'com.mcdo.mcdonalds',\n",
        "            'habibs.alphacode.com.br',\n",
        "            'com.ubercab.eats',\n",
        "            'burgerking.com.br.appandroid',\n",
        "            'com.grability.rappi',\n",
        "            'com.xiaojukeji.didi.brazil.customer',\n",
        "            'com.vanuatu.aiqfome',\n",
        "            ]\n"
      ],
      "execution_count": null,
      "outputs": []
    },
    {
      "cell_type": "markdown",
      "metadata": {
        "id": "lJcV4fGKWKub"
      },
      "source": [
        "## Get app info (app_id)"
      ]
    },
    {
      "cell_type": "code",
      "metadata": {
        "colab": {
          "base_uri": "https://localhost:8080/",
          "height": 707
        },
        "id": "7KHikUDCWM0E",
        "outputId": "e1a93553-3ff2-44a8-c819-f075635da446"
      },
      "source": [
        "from tqdm import tqdm\n",
        "from google_play_scraper import Sort, reviews, app\n",
        "\n",
        "app_infos = []\n",
        "\n",
        "for ap in tqdm(apps_ids):\n",
        "    info = app(ap, lang='en', country='us')\n",
        "    del info['comments']\n",
        "    app_infos.append(info)\n",
        "\n",
        "app_infos_df = pd.DataFrame(app_infos)\n",
        "app_infos_df.head()"
      ],
      "execution_count": null,
      "outputs": [
        {
          "output_type": "stream",
          "name": "stderr",
          "text": [
            "100%|██████████| 8/8 [00:04<00:00,  1.68it/s]\n"
          ]
        },
        {
          "output_type": "execute_result",
          "data": {
            "text/plain": [
              "                            title  \\\n",
              "0  iFood comida e mercado em casa   \n",
              "1  McDonald's Offers and Delivery   \n",
              "2                         Habib's   \n",
              "3        Uber Eats: Food Delivery   \n",
              "4              Burger King Brasil   \n",
              "\n",
              "                                         description  \\\n",
              "0  Buy in markets, restaurants, pharmacies and pe...   \n",
              "1  Enter the new McDonald's App and get exclusive...   \n",
              "2  Our menu is filled with Arab delicacies prepar...   \n",
              "3  Get food delivery to your doorstep from thousa...   \n",
              "4  Do you already know the BK® rewards program? C...   \n",
              "\n",
              "                                     descriptionHTML  \\\n",
              "0  Buy in markets, restaurants, pharmacies and pe...   \n",
              "1  Enter the new McDonald&#39;s App and get exclu...   \n",
              "2  Our menu is filled with Arab delicacies prepar...   \n",
              "3  Get food delivery to your doorstep from thousa...   \n",
              "4  Do you already know the BK® rewards program? C...   \n",
              "\n",
              "                                             summary      installs  \\\n",
              "0  Order food delivery, market, drinks, pharmacy ...  100,000,000+   \n",
              "1  Enjoy esclusive discounts, promotions and coup...   50,000,000+   \n",
              "2  Want to end your hunger? Come to the Habib's App!    5,000,000+   \n",
              "3  Food & Grocery Delivery App. Order Pizza, Sush...  100,000,000+   \n",
              "4  Get exclusive coupons with the official applic...   10,000,000+   \n",
              "\n",
              "   minInstalls  realInstalls     score   ratings  reviews  ... videoImage  \\\n",
              "0    100000000     106963054  4.639570  12659808     2615  ...       None   \n",
              "1     50000000      68969742  4.579838   1285862     3200  ...       None   \n",
              "2      5000000       8411175  3.852941    254015       18  ...       None   \n",
              "3    100000000     223739025  4.375628   5242366   312838  ...       None   \n",
              "4     10000000      22948154  4.555555    400274        6  ...       None   \n",
              "\n",
              "   contentRating  contentRatingDescription adSupported  containsAds  \\\n",
              "0       Everyone                      None       False        False   \n",
              "1       Everyone                      None        True         True   \n",
              "2       Everyone                      None       False        False   \n",
              "3       Everyone                      None        True         True   \n",
              "4       Everyone                      None       False        False   \n",
              "\n",
              "       released     updated version                         appId  \\\n",
              "0  Apr 25, 2012  1696879289    None         br.com.brainweb.ifood   \n",
              "1  Mar 27, 2017  1696842000  3.34.0            com.mcdo.mcdonalds   \n",
              "2          None  1696336521  3.10.8       habibs.alphacode.com.br   \n",
              "3  Feb 29, 2016  1697478920    None              com.ubercab.eats   \n",
              "4          None  1697057297  4.0.11  burgerking.com.br.appandroid   \n",
              "\n",
              "                                                 url  \n",
              "0  https://play.google.com/store/apps/details?id=...  \n",
              "1  https://play.google.com/store/apps/details?id=...  \n",
              "2  https://play.google.com/store/apps/details?id=...  \n",
              "3  https://play.google.com/store/apps/details?id=...  \n",
              "4  https://play.google.com/store/apps/details?id=...  \n",
              "\n",
              "[5 rows x 43 columns]"
            ],
            "text/html": [
              "\n",
              "  <div id=\"df-3d2828b3-9940-4e21-8e72-86062de9d3d0\" class=\"colab-df-container\">\n",
              "    <div>\n",
              "<style scoped>\n",
              "    .dataframe tbody tr th:only-of-type {\n",
              "        vertical-align: middle;\n",
              "    }\n",
              "\n",
              "    .dataframe tbody tr th {\n",
              "        vertical-align: top;\n",
              "    }\n",
              "\n",
              "    .dataframe thead th {\n",
              "        text-align: right;\n",
              "    }\n",
              "</style>\n",
              "<table border=\"1\" class=\"dataframe\">\n",
              "  <thead>\n",
              "    <tr style=\"text-align: right;\">\n",
              "      <th></th>\n",
              "      <th>title</th>\n",
              "      <th>description</th>\n",
              "      <th>descriptionHTML</th>\n",
              "      <th>summary</th>\n",
              "      <th>installs</th>\n",
              "      <th>minInstalls</th>\n",
              "      <th>realInstalls</th>\n",
              "      <th>score</th>\n",
              "      <th>ratings</th>\n",
              "      <th>reviews</th>\n",
              "      <th>...</th>\n",
              "      <th>videoImage</th>\n",
              "      <th>contentRating</th>\n",
              "      <th>contentRatingDescription</th>\n",
              "      <th>adSupported</th>\n",
              "      <th>containsAds</th>\n",
              "      <th>released</th>\n",
              "      <th>updated</th>\n",
              "      <th>version</th>\n",
              "      <th>appId</th>\n",
              "      <th>url</th>\n",
              "    </tr>\n",
              "  </thead>\n",
              "  <tbody>\n",
              "    <tr>\n",
              "      <th>0</th>\n",
              "      <td>iFood comida e mercado em casa</td>\n",
              "      <td>Buy in markets, restaurants, pharmacies and pe...</td>\n",
              "      <td>Buy in markets, restaurants, pharmacies and pe...</td>\n",
              "      <td>Order food delivery, market, drinks, pharmacy ...</td>\n",
              "      <td>100,000,000+</td>\n",
              "      <td>100000000</td>\n",
              "      <td>106963054</td>\n",
              "      <td>4.639570</td>\n",
              "      <td>12659808</td>\n",
              "      <td>2615</td>\n",
              "      <td>...</td>\n",
              "      <td>None</td>\n",
              "      <td>Everyone</td>\n",
              "      <td>None</td>\n",
              "      <td>False</td>\n",
              "      <td>False</td>\n",
              "      <td>Apr 25, 2012</td>\n",
              "      <td>1696879289</td>\n",
              "      <td>None</td>\n",
              "      <td>br.com.brainweb.ifood</td>\n",
              "      <td>https://play.google.com/store/apps/details?id=...</td>\n",
              "    </tr>\n",
              "    <tr>\n",
              "      <th>1</th>\n",
              "      <td>McDonald's Offers and Delivery</td>\n",
              "      <td>Enter the new McDonald's App and get exclusive...</td>\n",
              "      <td>Enter the new McDonald&amp;#39;s App and get exclu...</td>\n",
              "      <td>Enjoy esclusive discounts, promotions and coup...</td>\n",
              "      <td>50,000,000+</td>\n",
              "      <td>50000000</td>\n",
              "      <td>68969742</td>\n",
              "      <td>4.579838</td>\n",
              "      <td>1285862</td>\n",
              "      <td>3200</td>\n",
              "      <td>...</td>\n",
              "      <td>None</td>\n",
              "      <td>Everyone</td>\n",
              "      <td>None</td>\n",
              "      <td>True</td>\n",
              "      <td>True</td>\n",
              "      <td>Mar 27, 2017</td>\n",
              "      <td>1696842000</td>\n",
              "      <td>3.34.0</td>\n",
              "      <td>com.mcdo.mcdonalds</td>\n",
              "      <td>https://play.google.com/store/apps/details?id=...</td>\n",
              "    </tr>\n",
              "    <tr>\n",
              "      <th>2</th>\n",
              "      <td>Habib's</td>\n",
              "      <td>Our menu is filled with Arab delicacies prepar...</td>\n",
              "      <td>Our menu is filled with Arab delicacies prepar...</td>\n",
              "      <td>Want to end your hunger? Come to the Habib's App!</td>\n",
              "      <td>5,000,000+</td>\n",
              "      <td>5000000</td>\n",
              "      <td>8411175</td>\n",
              "      <td>3.852941</td>\n",
              "      <td>254015</td>\n",
              "      <td>18</td>\n",
              "      <td>...</td>\n",
              "      <td>None</td>\n",
              "      <td>Everyone</td>\n",
              "      <td>None</td>\n",
              "      <td>False</td>\n",
              "      <td>False</td>\n",
              "      <td>None</td>\n",
              "      <td>1696336521</td>\n",
              "      <td>3.10.8</td>\n",
              "      <td>habibs.alphacode.com.br</td>\n",
              "      <td>https://play.google.com/store/apps/details?id=...</td>\n",
              "    </tr>\n",
              "    <tr>\n",
              "      <th>3</th>\n",
              "      <td>Uber Eats: Food Delivery</td>\n",
              "      <td>Get food delivery to your doorstep from thousa...</td>\n",
              "      <td>Get food delivery to your doorstep from thousa...</td>\n",
              "      <td>Food &amp; Grocery Delivery App. Order Pizza, Sush...</td>\n",
              "      <td>100,000,000+</td>\n",
              "      <td>100000000</td>\n",
              "      <td>223739025</td>\n",
              "      <td>4.375628</td>\n",
              "      <td>5242366</td>\n",
              "      <td>312838</td>\n",
              "      <td>...</td>\n",
              "      <td>None</td>\n",
              "      <td>Everyone</td>\n",
              "      <td>None</td>\n",
              "      <td>True</td>\n",
              "      <td>True</td>\n",
              "      <td>Feb 29, 2016</td>\n",
              "      <td>1697478920</td>\n",
              "      <td>None</td>\n",
              "      <td>com.ubercab.eats</td>\n",
              "      <td>https://play.google.com/store/apps/details?id=...</td>\n",
              "    </tr>\n",
              "    <tr>\n",
              "      <th>4</th>\n",
              "      <td>Burger King Brasil</td>\n",
              "      <td>Do you already know the BK® rewards program? C...</td>\n",
              "      <td>Do you already know the BK® rewards program? C...</td>\n",
              "      <td>Get exclusive coupons with the official applic...</td>\n",
              "      <td>10,000,000+</td>\n",
              "      <td>10000000</td>\n",
              "      <td>22948154</td>\n",
              "      <td>4.555555</td>\n",
              "      <td>400274</td>\n",
              "      <td>6</td>\n",
              "      <td>...</td>\n",
              "      <td>None</td>\n",
              "      <td>Everyone</td>\n",
              "      <td>None</td>\n",
              "      <td>False</td>\n",
              "      <td>False</td>\n",
              "      <td>None</td>\n",
              "      <td>1697057297</td>\n",
              "      <td>4.0.11</td>\n",
              "      <td>burgerking.com.br.appandroid</td>\n",
              "      <td>https://play.google.com/store/apps/details?id=...</td>\n",
              "    </tr>\n",
              "  </tbody>\n",
              "</table>\n",
              "<p>5 rows × 43 columns</p>\n",
              "</div>\n",
              "    <div class=\"colab-df-buttons\">\n",
              "\n",
              "  <div class=\"colab-df-container\">\n",
              "    <button class=\"colab-df-convert\" onclick=\"convertToInteractive('df-3d2828b3-9940-4e21-8e72-86062de9d3d0')\"\n",
              "            title=\"Convert this dataframe to an interactive table.\"\n",
              "            style=\"display:none;\">\n",
              "\n",
              "  <svg xmlns=\"http://www.w3.org/2000/svg\" height=\"24px\" viewBox=\"0 -960 960 960\">\n",
              "    <path d=\"M120-120v-720h720v720H120Zm60-500h600v-160H180v160Zm220 220h160v-160H400v160Zm0 220h160v-160H400v160ZM180-400h160v-160H180v160Zm440 0h160v-160H620v160ZM180-180h160v-160H180v160Zm440 0h160v-160H620v160Z\"/>\n",
              "  </svg>\n",
              "    </button>\n",
              "\n",
              "  <style>\n",
              "    .colab-df-container {\n",
              "      display:flex;\n",
              "      gap: 12px;\n",
              "    }\n",
              "\n",
              "    .colab-df-convert {\n",
              "      background-color: #E8F0FE;\n",
              "      border: none;\n",
              "      border-radius: 50%;\n",
              "      cursor: pointer;\n",
              "      display: none;\n",
              "      fill: #1967D2;\n",
              "      height: 32px;\n",
              "      padding: 0 0 0 0;\n",
              "      width: 32px;\n",
              "    }\n",
              "\n",
              "    .colab-df-convert:hover {\n",
              "      background-color: #E2EBFA;\n",
              "      box-shadow: 0px 1px 2px rgba(60, 64, 67, 0.3), 0px 1px 3px 1px rgba(60, 64, 67, 0.15);\n",
              "      fill: #174EA6;\n",
              "    }\n",
              "\n",
              "    .colab-df-buttons div {\n",
              "      margin-bottom: 4px;\n",
              "    }\n",
              "\n",
              "    [theme=dark] .colab-df-convert {\n",
              "      background-color: #3B4455;\n",
              "      fill: #D2E3FC;\n",
              "    }\n",
              "\n",
              "    [theme=dark] .colab-df-convert:hover {\n",
              "      background-color: #434B5C;\n",
              "      box-shadow: 0px 1px 3px 1px rgba(0, 0, 0, 0.15);\n",
              "      filter: drop-shadow(0px 1px 2px rgba(0, 0, 0, 0.3));\n",
              "      fill: #FFFFFF;\n",
              "    }\n",
              "  </style>\n",
              "\n",
              "    <script>\n",
              "      const buttonEl =\n",
              "        document.querySelector('#df-3d2828b3-9940-4e21-8e72-86062de9d3d0 button.colab-df-convert');\n",
              "      buttonEl.style.display =\n",
              "        google.colab.kernel.accessAllowed ? 'block' : 'none';\n",
              "\n",
              "      async function convertToInteractive(key) {\n",
              "        const element = document.querySelector('#df-3d2828b3-9940-4e21-8e72-86062de9d3d0');\n",
              "        const dataTable =\n",
              "          await google.colab.kernel.invokeFunction('convertToInteractive',\n",
              "                                                    [key], {});\n",
              "        if (!dataTable) return;\n",
              "\n",
              "        const docLinkHtml = 'Like what you see? Visit the ' +\n",
              "          '<a target=\"_blank\" href=https://colab.research.google.com/notebooks/data_table.ipynb>data table notebook</a>'\n",
              "          + ' to learn more about interactive tables.';\n",
              "        element.innerHTML = '';\n",
              "        dataTable['output_type'] = 'display_data';\n",
              "        await google.colab.output.renderOutput(dataTable, element);\n",
              "        const docLink = document.createElement('div');\n",
              "        docLink.innerHTML = docLinkHtml;\n",
              "        element.appendChild(docLink);\n",
              "      }\n",
              "    </script>\n",
              "  </div>\n",
              "\n",
              "\n",
              "<div id=\"df-90a69b8a-cd62-4574-8388-099dfc350f61\">\n",
              "  <button class=\"colab-df-quickchart\" onclick=\"quickchart('df-90a69b8a-cd62-4574-8388-099dfc350f61')\"\n",
              "            title=\"Suggest charts.\"\n",
              "            style=\"display:none;\">\n",
              "\n",
              "<svg xmlns=\"http://www.w3.org/2000/svg\" height=\"24px\"viewBox=\"0 0 24 24\"\n",
              "     width=\"24px\">\n",
              "    <g>\n",
              "        <path d=\"M19 3H5c-1.1 0-2 .9-2 2v14c0 1.1.9 2 2 2h14c1.1 0 2-.9 2-2V5c0-1.1-.9-2-2-2zM9 17H7v-7h2v7zm4 0h-2V7h2v10zm4 0h-2v-4h2v4z\"/>\n",
              "    </g>\n",
              "</svg>\n",
              "  </button>\n",
              "\n",
              "<style>\n",
              "  .colab-df-quickchart {\n",
              "      --bg-color: #E8F0FE;\n",
              "      --fill-color: #1967D2;\n",
              "      --hover-bg-color: #E2EBFA;\n",
              "      --hover-fill-color: #174EA6;\n",
              "      --disabled-fill-color: #AAA;\n",
              "      --disabled-bg-color: #DDD;\n",
              "  }\n",
              "\n",
              "  [theme=dark] .colab-df-quickchart {\n",
              "      --bg-color: #3B4455;\n",
              "      --fill-color: #D2E3FC;\n",
              "      --hover-bg-color: #434B5C;\n",
              "      --hover-fill-color: #FFFFFF;\n",
              "      --disabled-bg-color: #3B4455;\n",
              "      --disabled-fill-color: #666;\n",
              "  }\n",
              "\n",
              "  .colab-df-quickchart {\n",
              "    background-color: var(--bg-color);\n",
              "    border: none;\n",
              "    border-radius: 50%;\n",
              "    cursor: pointer;\n",
              "    display: none;\n",
              "    fill: var(--fill-color);\n",
              "    height: 32px;\n",
              "    padding: 0;\n",
              "    width: 32px;\n",
              "  }\n",
              "\n",
              "  .colab-df-quickchart:hover {\n",
              "    background-color: var(--hover-bg-color);\n",
              "    box-shadow: 0 1px 2px rgba(60, 64, 67, 0.3), 0 1px 3px 1px rgba(60, 64, 67, 0.15);\n",
              "    fill: var(--button-hover-fill-color);\n",
              "  }\n",
              "\n",
              "  .colab-df-quickchart-complete:disabled,\n",
              "  .colab-df-quickchart-complete:disabled:hover {\n",
              "    background-color: var(--disabled-bg-color);\n",
              "    fill: var(--disabled-fill-color);\n",
              "    box-shadow: none;\n",
              "  }\n",
              "\n",
              "  .colab-df-spinner {\n",
              "    border: 2px solid var(--fill-color);\n",
              "    border-color: transparent;\n",
              "    border-bottom-color: var(--fill-color);\n",
              "    animation:\n",
              "      spin 1s steps(1) infinite;\n",
              "  }\n",
              "\n",
              "  @keyframes spin {\n",
              "    0% {\n",
              "      border-color: transparent;\n",
              "      border-bottom-color: var(--fill-color);\n",
              "      border-left-color: var(--fill-color);\n",
              "    }\n",
              "    20% {\n",
              "      border-color: transparent;\n",
              "      border-left-color: var(--fill-color);\n",
              "      border-top-color: var(--fill-color);\n",
              "    }\n",
              "    30% {\n",
              "      border-color: transparent;\n",
              "      border-left-color: var(--fill-color);\n",
              "      border-top-color: var(--fill-color);\n",
              "      border-right-color: var(--fill-color);\n",
              "    }\n",
              "    40% {\n",
              "      border-color: transparent;\n",
              "      border-right-color: var(--fill-color);\n",
              "      border-top-color: var(--fill-color);\n",
              "    }\n",
              "    60% {\n",
              "      border-color: transparent;\n",
              "      border-right-color: var(--fill-color);\n",
              "    }\n",
              "    80% {\n",
              "      border-color: transparent;\n",
              "      border-right-color: var(--fill-color);\n",
              "      border-bottom-color: var(--fill-color);\n",
              "    }\n",
              "    90% {\n",
              "      border-color: transparent;\n",
              "      border-bottom-color: var(--fill-color);\n",
              "    }\n",
              "  }\n",
              "</style>\n",
              "\n",
              "  <script>\n",
              "    async function quickchart(key) {\n",
              "      const quickchartButtonEl =\n",
              "        document.querySelector('#' + key + ' button');\n",
              "      quickchartButtonEl.disabled = true;  // To prevent multiple clicks.\n",
              "      quickchartButtonEl.classList.add('colab-df-spinner');\n",
              "      try {\n",
              "        const charts = await google.colab.kernel.invokeFunction(\n",
              "            'suggestCharts', [key], {});\n",
              "      } catch (error) {\n",
              "        console.error('Error during call to suggestCharts:', error);\n",
              "      }\n",
              "      quickchartButtonEl.classList.remove('colab-df-spinner');\n",
              "      quickchartButtonEl.classList.add('colab-df-quickchart-complete');\n",
              "    }\n",
              "    (() => {\n",
              "      let quickchartButtonEl =\n",
              "        document.querySelector('#df-90a69b8a-cd62-4574-8388-099dfc350f61 button');\n",
              "      quickchartButtonEl.style.display =\n",
              "        google.colab.kernel.accessAllowed ? 'block' : 'none';\n",
              "    })();\n",
              "  </script>\n",
              "</div>\n",
              "    </div>\n",
              "  </div>\n"
            ]
          },
          "metadata": {},
          "execution_count": 5
        }
      ]
    },
    {
      "cell_type": "markdown",
      "metadata": {
        "id": "o_Sbkh5NWe4E"
      },
      "source": [
        "## Scraping App Reviews\n",
        "\n"
      ]
    },
    {
      "cell_type": "code",
      "metadata": {
        "colab": {
          "base_uri": "https://localhost:8080/"
        },
        "id": "LskH3ZFPWfy3",
        "outputId": "0ff20135-bfb9-42c5-c323-a92268da233b"
      },
      "source": [
        "app_reviews = []\n",
        "\n",
        "for ap in tqdm(apps_ids):\n",
        "    for score in list(range(1, 6)):\n",
        "        for sort_order in [Sort.MOST_RELEVANT, Sort.NEWEST]:\n",
        "            rvs, _ = reviews(\n",
        "                ap,\n",
        "                lang='pt',\n",
        "                country='br',\n",
        "                sort=sort_order,\n",
        "            )\n",
        "            for r in rvs:\n",
        "                r['sortOrder'] = 'most_relevant' if sort_order == Sort.MOST_RELEVANT else 'newest'\n",
        "                r['appId'] = ap\n",
        "            app_reviews.extend(rvs)"
      ],
      "execution_count": null,
      "outputs": [
        {
          "output_type": "stream",
          "name": "stderr",
          "text": [
            "100%|██████████| 8/8 [00:17<00:00,  2.22s/it]\n"
          ]
        }
      ]
    },
    {
      "cell_type": "markdown",
      "metadata": {
        "id": "U4FSjNC8WrB6"
      },
      "source": [
        "## Saving reviews in a DataFrame"
      ]
    },
    {
      "cell_type": "code",
      "metadata": {
        "id": "M6g1bxdjWrb7"
      },
      "source": [
        "app_reviews_df = pd.DataFrame(app_reviews)"
      ],
      "execution_count": null,
      "outputs": []
    },
    {
      "cell_type": "code",
      "metadata": {
        "colab": {
          "base_uri": "https://localhost:8080/",
          "height": 486
        },
        "id": "8aPS9GSpXaan",
        "outputId": "70694222-22e1-4880-e25b-5ec2c1af49ef"
      },
      "source": [
        "app_reviews_df.head()"
      ],
      "execution_count": null,
      "outputs": [
        {
          "output_type": "execute_result",
          "data": {
            "text/plain": [
              "                               reviewId                     userName  \\\n",
              "0  5bb50b12-d3c0-4410-a7c7-d58931eecefc              Reinaldo Castro   \n",
              "1  23438b56-fc66-49a5-bab8-b340b2ba20ac      Karina F S (Akarinaluz)   \n",
              "2  04326939-0402-4fba-8fa9-c804c6990638  Luiz Felipe Tavares Cancian   \n",
              "3  eb08efe5-184d-46aa-b9a1-21b0315961a1               Rodrigo Jordão   \n",
              "4  34a866ed-31db-4329-bbbb-3e9d3d806447               César de Lucca   \n",
              "\n",
              "                                           userImage  \\\n",
              "0  https://play-lh.googleusercontent.com/a-/ALV-U...   \n",
              "1  https://play-lh.googleusercontent.com/a-/ALV-U...   \n",
              "2  https://play-lh.googleusercontent.com/a-/ALV-U...   \n",
              "3  https://play-lh.googleusercontent.com/a-/ALV-U...   \n",
              "4  https://play-lh.googleusercontent.com/a-/ALV-U...   \n",
              "\n",
              "                                             content  score  thumbsUpCount  \\\n",
              "0  Uso bastante pra fazer mercado, mas, nas últim...      2            213   \n",
              "1  Fiz uma compra que tinha desconto e não entrou...      1            487   \n",
              "2  Aplicativo não funciona mais, os pedidos são f...      1            237   \n",
              "3  Quando o carrinho de mercado está muito cheio,...      1            423   \n",
              "4  O app é muito bom! O problema é o atendimento....      5             53   \n",
              "\n",
              "  reviewCreatedVersion                  at replyContent repliedAt appVersion  \\\n",
              "0              9.227.0 2023-10-10 21:03:49         None       NaT    9.227.0   \n",
              "1              9.226.0 2023-10-01 10:53:46         None       NaT    9.226.0   \n",
              "2              9.226.0 2023-09-29 23:06:49         None       NaT    9.226.0   \n",
              "3              9.228.0 2023-10-14 21:18:28         None       NaT    9.228.0   \n",
              "4              9.226.0 2023-09-30 03:13:12         None       NaT    9.226.0   \n",
              "\n",
              "       sortOrder                  appId  \n",
              "0  most_relevant  br.com.brainweb.ifood  \n",
              "1  most_relevant  br.com.brainweb.ifood  \n",
              "2  most_relevant  br.com.brainweb.ifood  \n",
              "3  most_relevant  br.com.brainweb.ifood  \n",
              "4  most_relevant  br.com.brainweb.ifood  "
            ],
            "text/html": [
              "\n",
              "  <div id=\"df-c84524f1-ec17-4b27-b831-d6ea9b745ca3\" class=\"colab-df-container\">\n",
              "    <div>\n",
              "<style scoped>\n",
              "    .dataframe tbody tr th:only-of-type {\n",
              "        vertical-align: middle;\n",
              "    }\n",
              "\n",
              "    .dataframe tbody tr th {\n",
              "        vertical-align: top;\n",
              "    }\n",
              "\n",
              "    .dataframe thead th {\n",
              "        text-align: right;\n",
              "    }\n",
              "</style>\n",
              "<table border=\"1\" class=\"dataframe\">\n",
              "  <thead>\n",
              "    <tr style=\"text-align: right;\">\n",
              "      <th></th>\n",
              "      <th>reviewId</th>\n",
              "      <th>userName</th>\n",
              "      <th>userImage</th>\n",
              "      <th>content</th>\n",
              "      <th>score</th>\n",
              "      <th>thumbsUpCount</th>\n",
              "      <th>reviewCreatedVersion</th>\n",
              "      <th>at</th>\n",
              "      <th>replyContent</th>\n",
              "      <th>repliedAt</th>\n",
              "      <th>appVersion</th>\n",
              "      <th>sortOrder</th>\n",
              "      <th>appId</th>\n",
              "    </tr>\n",
              "  </thead>\n",
              "  <tbody>\n",
              "    <tr>\n",
              "      <th>0</th>\n",
              "      <td>5bb50b12-d3c0-4410-a7c7-d58931eecefc</td>\n",
              "      <td>Reinaldo Castro</td>\n",
              "      <td>https://play-lh.googleusercontent.com/a-/ALV-U...</td>\n",
              "      <td>Uso bastante pra fazer mercado, mas, nas últim...</td>\n",
              "      <td>2</td>\n",
              "      <td>213</td>\n",
              "      <td>9.227.0</td>\n",
              "      <td>2023-10-10 21:03:49</td>\n",
              "      <td>None</td>\n",
              "      <td>NaT</td>\n",
              "      <td>9.227.0</td>\n",
              "      <td>most_relevant</td>\n",
              "      <td>br.com.brainweb.ifood</td>\n",
              "    </tr>\n",
              "    <tr>\n",
              "      <th>1</th>\n",
              "      <td>23438b56-fc66-49a5-bab8-b340b2ba20ac</td>\n",
              "      <td>Karina F S (Akarinaluz)</td>\n",
              "      <td>https://play-lh.googleusercontent.com/a-/ALV-U...</td>\n",
              "      <td>Fiz uma compra que tinha desconto e não entrou...</td>\n",
              "      <td>1</td>\n",
              "      <td>487</td>\n",
              "      <td>9.226.0</td>\n",
              "      <td>2023-10-01 10:53:46</td>\n",
              "      <td>None</td>\n",
              "      <td>NaT</td>\n",
              "      <td>9.226.0</td>\n",
              "      <td>most_relevant</td>\n",
              "      <td>br.com.brainweb.ifood</td>\n",
              "    </tr>\n",
              "    <tr>\n",
              "      <th>2</th>\n",
              "      <td>04326939-0402-4fba-8fa9-c804c6990638</td>\n",
              "      <td>Luiz Felipe Tavares Cancian</td>\n",
              "      <td>https://play-lh.googleusercontent.com/a-/ALV-U...</td>\n",
              "      <td>Aplicativo não funciona mais, os pedidos são f...</td>\n",
              "      <td>1</td>\n",
              "      <td>237</td>\n",
              "      <td>9.226.0</td>\n",
              "      <td>2023-09-29 23:06:49</td>\n",
              "      <td>None</td>\n",
              "      <td>NaT</td>\n",
              "      <td>9.226.0</td>\n",
              "      <td>most_relevant</td>\n",
              "      <td>br.com.brainweb.ifood</td>\n",
              "    </tr>\n",
              "    <tr>\n",
              "      <th>3</th>\n",
              "      <td>eb08efe5-184d-46aa-b9a1-21b0315961a1</td>\n",
              "      <td>Rodrigo Jordão</td>\n",
              "      <td>https://play-lh.googleusercontent.com/a-/ALV-U...</td>\n",
              "      <td>Quando o carrinho de mercado está muito cheio,...</td>\n",
              "      <td>1</td>\n",
              "      <td>423</td>\n",
              "      <td>9.228.0</td>\n",
              "      <td>2023-10-14 21:18:28</td>\n",
              "      <td>None</td>\n",
              "      <td>NaT</td>\n",
              "      <td>9.228.0</td>\n",
              "      <td>most_relevant</td>\n",
              "      <td>br.com.brainweb.ifood</td>\n",
              "    </tr>\n",
              "    <tr>\n",
              "      <th>4</th>\n",
              "      <td>34a866ed-31db-4329-bbbb-3e9d3d806447</td>\n",
              "      <td>César de Lucca</td>\n",
              "      <td>https://play-lh.googleusercontent.com/a-/ALV-U...</td>\n",
              "      <td>O app é muito bom! O problema é o atendimento....</td>\n",
              "      <td>5</td>\n",
              "      <td>53</td>\n",
              "      <td>9.226.0</td>\n",
              "      <td>2023-09-30 03:13:12</td>\n",
              "      <td>None</td>\n",
              "      <td>NaT</td>\n",
              "      <td>9.226.0</td>\n",
              "      <td>most_relevant</td>\n",
              "      <td>br.com.brainweb.ifood</td>\n",
              "    </tr>\n",
              "  </tbody>\n",
              "</table>\n",
              "</div>\n",
              "    <div class=\"colab-df-buttons\">\n",
              "\n",
              "  <div class=\"colab-df-container\">\n",
              "    <button class=\"colab-df-convert\" onclick=\"convertToInteractive('df-c84524f1-ec17-4b27-b831-d6ea9b745ca3')\"\n",
              "            title=\"Convert this dataframe to an interactive table.\"\n",
              "            style=\"display:none;\">\n",
              "\n",
              "  <svg xmlns=\"http://www.w3.org/2000/svg\" height=\"24px\" viewBox=\"0 -960 960 960\">\n",
              "    <path d=\"M120-120v-720h720v720H120Zm60-500h600v-160H180v160Zm220 220h160v-160H400v160Zm0 220h160v-160H400v160ZM180-400h160v-160H180v160Zm440 0h160v-160H620v160ZM180-180h160v-160H180v160Zm440 0h160v-160H620v160Z\"/>\n",
              "  </svg>\n",
              "    </button>\n",
              "\n",
              "  <style>\n",
              "    .colab-df-container {\n",
              "      display:flex;\n",
              "      gap: 12px;\n",
              "    }\n",
              "\n",
              "    .colab-df-convert {\n",
              "      background-color: #E8F0FE;\n",
              "      border: none;\n",
              "      border-radius: 50%;\n",
              "      cursor: pointer;\n",
              "      display: none;\n",
              "      fill: #1967D2;\n",
              "      height: 32px;\n",
              "      padding: 0 0 0 0;\n",
              "      width: 32px;\n",
              "    }\n",
              "\n",
              "    .colab-df-convert:hover {\n",
              "      background-color: #E2EBFA;\n",
              "      box-shadow: 0px 1px 2px rgba(60, 64, 67, 0.3), 0px 1px 3px 1px rgba(60, 64, 67, 0.15);\n",
              "      fill: #174EA6;\n",
              "    }\n",
              "\n",
              "    .colab-df-buttons div {\n",
              "      margin-bottom: 4px;\n",
              "    }\n",
              "\n",
              "    [theme=dark] .colab-df-convert {\n",
              "      background-color: #3B4455;\n",
              "      fill: #D2E3FC;\n",
              "    }\n",
              "\n",
              "    [theme=dark] .colab-df-convert:hover {\n",
              "      background-color: #434B5C;\n",
              "      box-shadow: 0px 1px 3px 1px rgba(0, 0, 0, 0.15);\n",
              "      filter: drop-shadow(0px 1px 2px rgba(0, 0, 0, 0.3));\n",
              "      fill: #FFFFFF;\n",
              "    }\n",
              "  </style>\n",
              "\n",
              "    <script>\n",
              "      const buttonEl =\n",
              "        document.querySelector('#df-c84524f1-ec17-4b27-b831-d6ea9b745ca3 button.colab-df-convert');\n",
              "      buttonEl.style.display =\n",
              "        google.colab.kernel.accessAllowed ? 'block' : 'none';\n",
              "\n",
              "      async function convertToInteractive(key) {\n",
              "        const element = document.querySelector('#df-c84524f1-ec17-4b27-b831-d6ea9b745ca3');\n",
              "        const dataTable =\n",
              "          await google.colab.kernel.invokeFunction('convertToInteractive',\n",
              "                                                    [key], {});\n",
              "        if (!dataTable) return;\n",
              "\n",
              "        const docLinkHtml = 'Like what you see? Visit the ' +\n",
              "          '<a target=\"_blank\" href=https://colab.research.google.com/notebooks/data_table.ipynb>data table notebook</a>'\n",
              "          + ' to learn more about interactive tables.';\n",
              "        element.innerHTML = '';\n",
              "        dataTable['output_type'] = 'display_data';\n",
              "        await google.colab.output.renderOutput(dataTable, element);\n",
              "        const docLink = document.createElement('div');\n",
              "        docLink.innerHTML = docLinkHtml;\n",
              "        element.appendChild(docLink);\n",
              "      }\n",
              "    </script>\n",
              "  </div>\n",
              "\n",
              "\n",
              "<div id=\"df-027c198e-6a04-4989-8f32-97cc763f956d\">\n",
              "  <button class=\"colab-df-quickchart\" onclick=\"quickchart('df-027c198e-6a04-4989-8f32-97cc763f956d')\"\n",
              "            title=\"Suggest charts.\"\n",
              "            style=\"display:none;\">\n",
              "\n",
              "<svg xmlns=\"http://www.w3.org/2000/svg\" height=\"24px\"viewBox=\"0 0 24 24\"\n",
              "     width=\"24px\">\n",
              "    <g>\n",
              "        <path d=\"M19 3H5c-1.1 0-2 .9-2 2v14c0 1.1.9 2 2 2h14c1.1 0 2-.9 2-2V5c0-1.1-.9-2-2-2zM9 17H7v-7h2v7zm4 0h-2V7h2v10zm4 0h-2v-4h2v4z\"/>\n",
              "    </g>\n",
              "</svg>\n",
              "  </button>\n",
              "\n",
              "<style>\n",
              "  .colab-df-quickchart {\n",
              "      --bg-color: #E8F0FE;\n",
              "      --fill-color: #1967D2;\n",
              "      --hover-bg-color: #E2EBFA;\n",
              "      --hover-fill-color: #174EA6;\n",
              "      --disabled-fill-color: #AAA;\n",
              "      --disabled-bg-color: #DDD;\n",
              "  }\n",
              "\n",
              "  [theme=dark] .colab-df-quickchart {\n",
              "      --bg-color: #3B4455;\n",
              "      --fill-color: #D2E3FC;\n",
              "      --hover-bg-color: #434B5C;\n",
              "      --hover-fill-color: #FFFFFF;\n",
              "      --disabled-bg-color: #3B4455;\n",
              "      --disabled-fill-color: #666;\n",
              "  }\n",
              "\n",
              "  .colab-df-quickchart {\n",
              "    background-color: var(--bg-color);\n",
              "    border: none;\n",
              "    border-radius: 50%;\n",
              "    cursor: pointer;\n",
              "    display: none;\n",
              "    fill: var(--fill-color);\n",
              "    height: 32px;\n",
              "    padding: 0;\n",
              "    width: 32px;\n",
              "  }\n",
              "\n",
              "  .colab-df-quickchart:hover {\n",
              "    background-color: var(--hover-bg-color);\n",
              "    box-shadow: 0 1px 2px rgba(60, 64, 67, 0.3), 0 1px 3px 1px rgba(60, 64, 67, 0.15);\n",
              "    fill: var(--button-hover-fill-color);\n",
              "  }\n",
              "\n",
              "  .colab-df-quickchart-complete:disabled,\n",
              "  .colab-df-quickchart-complete:disabled:hover {\n",
              "    background-color: var(--disabled-bg-color);\n",
              "    fill: var(--disabled-fill-color);\n",
              "    box-shadow: none;\n",
              "  }\n",
              "\n",
              "  .colab-df-spinner {\n",
              "    border: 2px solid var(--fill-color);\n",
              "    border-color: transparent;\n",
              "    border-bottom-color: var(--fill-color);\n",
              "    animation:\n",
              "      spin 1s steps(1) infinite;\n",
              "  }\n",
              "\n",
              "  @keyframes spin {\n",
              "    0% {\n",
              "      border-color: transparent;\n",
              "      border-bottom-color: var(--fill-color);\n",
              "      border-left-color: var(--fill-color);\n",
              "    }\n",
              "    20% {\n",
              "      border-color: transparent;\n",
              "      border-left-color: var(--fill-color);\n",
              "      border-top-color: var(--fill-color);\n",
              "    }\n",
              "    30% {\n",
              "      border-color: transparent;\n",
              "      border-left-color: var(--fill-color);\n",
              "      border-top-color: var(--fill-color);\n",
              "      border-right-color: var(--fill-color);\n",
              "    }\n",
              "    40% {\n",
              "      border-color: transparent;\n",
              "      border-right-color: var(--fill-color);\n",
              "      border-top-color: var(--fill-color);\n",
              "    }\n",
              "    60% {\n",
              "      border-color: transparent;\n",
              "      border-right-color: var(--fill-color);\n",
              "    }\n",
              "    80% {\n",
              "      border-color: transparent;\n",
              "      border-right-color: var(--fill-color);\n",
              "      border-bottom-color: var(--fill-color);\n",
              "    }\n",
              "    90% {\n",
              "      border-color: transparent;\n",
              "      border-bottom-color: var(--fill-color);\n",
              "    }\n",
              "  }\n",
              "</style>\n",
              "\n",
              "  <script>\n",
              "    async function quickchart(key) {\n",
              "      const quickchartButtonEl =\n",
              "        document.querySelector('#' + key + ' button');\n",
              "      quickchartButtonEl.disabled = true;  // To prevent multiple clicks.\n",
              "      quickchartButtonEl.classList.add('colab-df-spinner');\n",
              "      try {\n",
              "        const charts = await google.colab.kernel.invokeFunction(\n",
              "            'suggestCharts', [key], {});\n",
              "      } catch (error) {\n",
              "        console.error('Error during call to suggestCharts:', error);\n",
              "      }\n",
              "      quickchartButtonEl.classList.remove('colab-df-spinner');\n",
              "      quickchartButtonEl.classList.add('colab-df-quickchart-complete');\n",
              "    }\n",
              "    (() => {\n",
              "      let quickchartButtonEl =\n",
              "        document.querySelector('#df-027c198e-6a04-4989-8f32-97cc763f956d button');\n",
              "      quickchartButtonEl.style.display =\n",
              "        google.colab.kernel.accessAllowed ? 'block' : 'none';\n",
              "    })();\n",
              "  </script>\n",
              "</div>\n",
              "    </div>\n",
              "  </div>\n"
            ]
          },
          "metadata": {},
          "execution_count": 11
        }
      ]
    },
    {
      "cell_type": "code",
      "source": [
        "plt.figure(figsize=(5,3))\n",
        "\n",
        "sns.countplot(x='score',data=app_reviews_df)\n",
        "plt.title('Score distribution')\n",
        "plt.show()"
      ],
      "metadata": {
        "id": "JWn-Wzh9kGbq",
        "outputId": "3012cb4f-07fc-4319-e4b4-22a41f4e5906",
        "colab": {
          "base_uri": "https://localhost:8080/",
          "height": 333
        }
      },
      "execution_count": null,
      "outputs": [
        {
          "output_type": "display_data",
          "data": {
            "text/plain": [
              "<Figure size 500x300 with 1 Axes>"
            ],
            "image/png": "[encoded data removed]"
          },
          "metadata": {}
        }
      ]
    },
    {
      "cell_type": "markdown",
      "source": [
        "#### Q1. Quantos reviews foram coletados de cada appId?"
      ],
      "metadata": {
        "id": "3NoSJHG22Xx1"
      }
    },
    {
      "cell_type": "code",
      "source": [
        "app_reviews_df.appId.value_counts()"
      ],
      "metadata": {
        "colab": {
          "base_uri": "https://localhost:8080/"
        },
        "id": "cxMcqBUB2Hty",
        "outputId": "4de38cba-b49c-4f75-dd6f-9e48df2b6adf"
      },
      "execution_count": null,
      "outputs": [
        {
          "output_type": "execute_result",
          "data": {
            "text/plain": [
              "br.com.brainweb.ifood                  1000\n",
              "com.mcdo.mcdonalds                     1000\n",
              "habibs.alphacode.com.br                1000\n",
              "com.ubercab.eats                       1000\n",
              "burgerking.com.br.appandroid           1000\n",
              "com.grability.rappi                    1000\n",
              "com.xiaojukeji.didi.brazil.customer    1000\n",
              "com.vanuatu.aiqfome                    1000\n",
              "Name: appId, dtype: int64"
            ]
          },
          "metadata": {},
          "execution_count": 21
        }
      ]
    },
    {
      "cell_type": "code",
      "source": [
        "app_reviews_df.to_csv('app_reviews_df.csv',index=None)"
      ],
      "metadata": {
        "id": "vqUhEycjR1Gb"
      },
      "execution_count": null,
      "outputs": []
    },
    {
      "cell_type": "markdown",
      "source": [
        "# **Importante: WITHOUT SCRAPING**\n",
        "\n",
        "As informações que você coletou mudam a toda hora... afinal, aparecem novas revisões a cada dia. Então vamos empregar um dataset comum a todos."
      ],
      "metadata": {
        "id": "DF2gZ9fi1cgC"
      }
    },
    {
      "cell_type": "code",
      "metadata": {
        "id": "_PhgD2fiWmTo",
        "colab": {
          "base_uri": "https://localhost:8080/",
          "height": 486
        },
        "outputId": "36390164-1eed-4740-d9d3-1cd8c93ba773"
      },
      "source": [
        "df = pd.read_csv(\"https://github.com/Rogerio-mack/IMT_Ciencia_de_Dados/raw/main/data/app_reviews_df.csv\")\n",
        "df.head()"
      ],
      "execution_count": null,
      "outputs": [
        {
          "output_type": "execute_result",
          "data": {
            "text/plain": [
              "                               reviewId                     userName  \\\n",
              "0  5bb50b12-d3c0-4410-a7c7-d58931eecefc              Reinaldo Castro   \n",
              "1  23438b56-fc66-49a5-bab8-b340b2ba20ac      Karina F S (Akarinaluz)   \n",
              "2  04326939-0402-4fba-8fa9-c804c6990638  Luiz Felipe Tavares Cancian   \n",
              "3  eb08efe5-184d-46aa-b9a1-21b0315961a1               Rodrigo Jordão   \n",
              "4  34a866ed-31db-4329-bbbb-3e9d3d806447               César de Lucca   \n",
              "\n",
              "                                           userImage  \\\n",
              "0  https://play-lh.googleusercontent.com/a-/ALV-U...   \n",
              "1  https://play-lh.googleusercontent.com/a-/ALV-U...   \n",
              "2  https://play-lh.googleusercontent.com/a-/ALV-U...   \n",
              "3  https://play-lh.googleusercontent.com/a-/ALV-U...   \n",
              "4  https://play-lh.googleusercontent.com/a-/ALV-U...   \n",
              "\n",
              "                                             content  score  thumbsUpCount  \\\n",
              "0  Uso bastante pra fazer mercado, mas, nas últim...      2            213   \n",
              "1  Fiz uma compra que tinha desconto e não entrou...      1            487   \n",
              "2  Aplicativo não funciona mais, os pedidos são f...      1            237   \n",
              "3  Quando o carrinho de mercado está muito cheio,...      1            423   \n",
              "4  O app é muito bom! O problema é o atendimento....      5             53   \n",
              "\n",
              "  reviewCreatedVersion                   at replyContent repliedAt appVersion  \\\n",
              "0              9.227.0  2023-10-10 21:03:49          NaN       NaN    9.227.0   \n",
              "1              9.226.0  2023-10-01 10:53:46          NaN       NaN    9.226.0   \n",
              "2              9.226.0  2023-09-29 23:06:49          NaN       NaN    9.226.0   \n",
              "3              9.228.0  2023-10-14 21:18:28          NaN       NaN    9.228.0   \n",
              "4              9.226.0  2023-09-30 03:13:12          NaN       NaN    9.226.0   \n",
              "\n",
              "       sortOrder                  appId  \n",
              "0  most_relevant  br.com.brainweb.ifood  \n",
              "1  most_relevant  br.com.brainweb.ifood  \n",
              "2  most_relevant  br.com.brainweb.ifood  \n",
              "3  most_relevant  br.com.brainweb.ifood  \n",
              "4  most_relevant  br.com.brainweb.ifood  "
            ],
            "text/html": [
              "\n",
              "  <div id=\"df-aa2d725c-e8dd-4468-82ac-e923a1e998a1\" class=\"colab-df-container\">\n",
              "    <div>\n",
              "<style scoped>\n",
              "    .dataframe tbody tr th:only-of-type {\n",
              "        vertical-align: middle;\n",
              "    }\n",
              "\n",
              "    .dataframe tbody tr th {\n",
              "        vertical-align: top;\n",
              "    }\n",
              "\n",
              "    .dataframe thead th {\n",
              "        text-align: right;\n",
              "    }\n",
              "</style>\n",
              "<table border=\"1\" class=\"dataframe\">\n",
              "  <thead>\n",
              "    <tr style=\"text-align: right;\">\n",
              "      <th></th>\n",
              "      <th>reviewId</th>\n",
              "      <th>userName</th>\n",
              "      <th>userImage</th>\n",
              "      <th>content</th>\n",
              "      <th>score</th>\n",
              "      <th>thumbsUpCount</th>\n",
              "      <th>reviewCreatedVersion</th>\n",
              "      <th>at</th>\n",
              "      <th>replyContent</th>\n",
              "      <th>repliedAt</th>\n",
              "      <th>appVersion</th>\n",
              "      <th>sortOrder</th>\n",
              "      <th>appId</th>\n",
              "    </tr>\n",
              "  </thead>\n",
              "  <tbody>\n",
              "    <tr>\n",
              "      <th>0</th>\n",
              "      <td>5bb50b12-d3c0-4410-a7c7-d58931eecefc</td>\n",
              "      <td>Reinaldo Castro</td>\n",
              "      <td>https://play-lh.googleusercontent.com/a-/ALV-U...</td>\n",
              "      <td>Uso bastante pra fazer mercado, mas, nas últim...</td>\n",
              "      <td>2</td>\n",
              "      <td>213</td>\n",
              "      <td>9.227.0</td>\n",
              "      <td>2023-10-10 21:03:49</td>\n",
              "      <td>NaN</td>\n",
              "      <td>NaN</td>\n",
              "      <td>9.227.0</td>\n",
              "      <td>most_relevant</td>\n",
              "      <td>br.com.brainweb.ifood</td>\n",
              "    </tr>\n",
              "    <tr>\n",
              "      <th>1</th>\n",
              "      <td>23438b56-fc66-49a5-bab8-b340b2ba20ac</td>\n",
              "      <td>Karina F S (Akarinaluz)</td>\n",
              "      <td>https://play-lh.googleusercontent.com/a-/ALV-U...</td>\n",
              "      <td>Fiz uma compra que tinha desconto e não entrou...</td>\n",
              "      <td>1</td>\n",
              "      <td>487</td>\n",
              "      <td>9.226.0</td>\n",
              "      <td>2023-10-01 10:53:46</td>\n",
              "      <td>NaN</td>\n",
              "      <td>NaN</td>\n",
              "      <td>9.226.0</td>\n",
              "      <td>most_relevant</td>\n",
              "      <td>br.com.brainweb.ifood</td>\n",
              "    </tr>\n",
              "    <tr>\n",
              "      <th>2</th>\n",
              "      <td>04326939-0402-4fba-8fa9-c804c6990638</td>\n",
              "      <td>Luiz Felipe Tavares Cancian</td>\n",
              "      <td>https://play-lh.googleusercontent.com/a-/ALV-U...</td>\n",
              "      <td>Aplicativo não funciona mais, os pedidos são f...</td>\n",
              "      <td>1</td>\n",
              "      <td>237</td>\n",
              "      <td>9.226.0</td>\n",
              "      <td>2023-09-29 23:06:49</td>\n",
              "      <td>NaN</td>\n",
              "      <td>NaN</td>\n",
              "      <td>9.226.0</td>\n",
              "      <td>most_relevant</td>\n",
              "      <td>br.com.brainweb.ifood</td>\n",
              "    </tr>\n",
              "    <tr>\n",
              "      <th>3</th>\n",
              "      <td>eb08efe5-184d-46aa-b9a1-21b0315961a1</td>\n",
              "      <td>Rodrigo Jordão</td>\n",
              "      <td>https://play-lh.googleusercontent.com/a-/ALV-U...</td>\n",
              "      <td>Quando o carrinho de mercado está muito cheio,...</td>\n",
              "      <td>1</td>\n",
              "      <td>423</td>\n",
              "      <td>9.228.0</td>\n",
              "      <td>2023-10-14 21:18:28</td>\n",
              "      <td>NaN</td>\n",
              "      <td>NaN</td>\n",
              "      <td>9.228.0</td>\n",
              "      <td>most_relevant</td>\n",
              "      <td>br.com.brainweb.ifood</td>\n",
              "    </tr>\n",
              "    <tr>\n",
              "      <th>4</th>\n",
              "      <td>34a866ed-31db-4329-bbbb-3e9d3d806447</td>\n",
              "      <td>César de Lucca</td>\n",
              "      <td>https://play-lh.googleusercontent.com/a-/ALV-U...</td>\n",
              "      <td>O app é muito bom! O problema é o atendimento....</td>\n",
              "      <td>5</td>\n",
              "      <td>53</td>\n",
              "      <td>9.226.0</td>\n",
              "      <td>2023-09-30 03:13:12</td>\n",
              "      <td>NaN</td>\n",
              "      <td>NaN</td>\n",
              "      <td>9.226.0</td>\n",
              "      <td>most_relevant</td>\n",
              "      <td>br.com.brainweb.ifood</td>\n",
              "    </tr>\n",
              "  </tbody>\n",
              "</table>\n",
              "</div>\n",
              "    <div class=\"colab-df-buttons\">\n",
              "\n",
              "  <div class=\"colab-df-container\">\n",
              "    <button class=\"colab-df-convert\" onclick=\"convertToInteractive('df-aa2d725c-e8dd-4468-82ac-e923a1e998a1')\"\n",
              "            title=\"Convert this dataframe to an interactive table.\"\n",
              "            style=\"display:none;\">\n",
              "\n",
              "  <svg xmlns=\"http://www.w3.org/2000/svg\" height=\"24px\" viewBox=\"0 -960 960 960\">\n",
              "    <path d=\"M120-120v-720h720v720H120Zm60-500h600v-160H180v160Zm220 220h160v-160H400v160Zm0 220h160v-160H400v160ZM180-400h160v-160H180v160Zm440 0h160v-160H620v160ZM180-180h160v-160H180v160Zm440 0h160v-160H620v160Z\"/>\n",
              "  </svg>\n",
              "    </button>\n",
              "\n",
              "  <style>\n",
              "    .colab-df-container {\n",
              "      display:flex;\n",
              "      gap: 12px;\n",
              "    }\n",
              "\n",
              "    .colab-df-convert {\n",
              "      background-color: #E8F0FE;\n",
              "      border: none;\n",
              "      border-radius: 50%;\n",
              "      cursor: pointer;\n",
              "      display: none;\n",
              "      fill: #1967D2;\n",
              "      height: 32px;\n",
              "      padding: 0 0 0 0;\n",
              "      width: 32px;\n",
              "    }\n",
              "\n",
              "    .colab-df-convert:hover {\n",
              "      background-color: #E2EBFA;\n",
              "      box-shadow: 0px 1px 2px rgba(60, 64, 67, 0.3), 0px 1px 3px 1px rgba(60, 64, 67, 0.15);\n",
              "      fill: #174EA6;\n",
              "    }\n",
              "\n",
              "    .colab-df-buttons div {\n",
              "      margin-bottom: 4px;\n",
              "    }\n",
              "\n",
              "    [theme=dark] .colab-df-convert {\n",
              "      background-color: #3B4455;\n",
              "      fill: #D2E3FC;\n",
              "    }\n",
              "\n",
              "    [theme=dark] .colab-df-convert:hover {\n",
              "      background-color: #434B5C;\n",
              "      box-shadow: 0px 1px 3px 1px rgba(0, 0, 0, 0.15);\n",
              "      filter: drop-shadow(0px 1px 2px rgba(0, 0, 0, 0.3));\n",
              "      fill: #FFFFFF;\n",
              "    }\n",
              "  </style>\n",
              "\n",
              "    <script>\n",
              "      const buttonEl =\n",
              "        document.querySelector('#df-aa2d725c-e8dd-4468-82ac-e923a1e998a1 button.colab-df-convert');\n",
              "      buttonEl.style.display =\n",
              "        google.colab.kernel.accessAllowed ? 'block' : 'none';\n",
              "\n",
              "      async function convertToInteractive(key) {\n",
              "        const element = document.querySelector('#df-aa2d725c-e8dd-4468-82ac-e923a1e998a1');\n",
              "        const dataTable =\n",
              "          await google.colab.kernel.invokeFunction('convertToInteractive',\n",
              "                                                    [key], {});\n",
              "        if (!dataTable) return;\n",
              "\n",
              "        const docLinkHtml = 'Like what you see? Visit the ' +\n",
              "          '<a target=\"_blank\" href=https://colab.research.google.com/notebooks/data_table.ipynb>data table notebook</a>'\n",
              "          + ' to learn more about interactive tables.';\n",
              "        element.innerHTML = '';\n",
              "        dataTable['output_type'] = 'display_data';\n",
              "        await google.colab.output.renderOutput(dataTable, element);\n",
              "        const docLink = document.createElement('div');\n",
              "        docLink.innerHTML = docLinkHtml;\n",
              "        element.appendChild(docLink);\n",
              "      }\n",
              "    </script>\n",
              "  </div>\n",
              "\n",
              "\n",
              "<div id=\"df-7596b497-2618-41f3-b15c-5ddbed504e13\">\n",
              "  <button class=\"colab-df-quickchart\" onclick=\"quickchart('df-7596b497-2618-41f3-b15c-5ddbed504e13')\"\n",
              "            title=\"Suggest charts.\"\n",
              "            style=\"display:none;\">\n",
              "\n",
              "<svg xmlns=\"http://www.w3.org/2000/svg\" height=\"24px\"viewBox=\"0 0 24 24\"\n",
              "     width=\"24px\">\n",
              "    <g>\n",
              "        <path d=\"M19 3H5c-1.1 0-2 .9-2 2v14c0 1.1.9 2 2 2h14c1.1 0 2-.9 2-2V5c0-1.1-.9-2-2-2zM9 17H7v-7h2v7zm4 0h-2V7h2v10zm4 0h-2v-4h2v4z\"/>\n",
              "    </g>\n",
              "</svg>\n",
              "  </button>\n",
              "\n",
              "<style>\n",
              "  .colab-df-quickchart {\n",
              "      --bg-color: #E8F0FE;\n",
              "      --fill-color: #1967D2;\n",
              "      --hover-bg-color: #E2EBFA;\n",
              "      --hover-fill-color: #174EA6;\n",
              "      --disabled-fill-color: #AAA;\n",
              "      --disabled-bg-color: #DDD;\n",
              "  }\n",
              "\n",
              "  [theme=dark] .colab-df-quickchart {\n",
              "      --bg-color: #3B4455;\n",
              "      --fill-color: #D2E3FC;\n",
              "      --hover-bg-color: #434B5C;\n",
              "      --hover-fill-color: #FFFFFF;\n",
              "      --disabled-bg-color: #3B4455;\n",
              "      --disabled-fill-color: #666;\n",
              "  }\n",
              "\n",
              "  .colab-df-quickchart {\n",
              "    background-color: var(--bg-color);\n",
              "    border: none;\n",
              "    border-radius: 50%;\n",
              "    cursor: pointer;\n",
              "    display: none;\n",
              "    fill: var(--fill-color);\n",
              "    height: 32px;\n",
              "    padding: 0;\n",
              "    width: 32px;\n",
              "  }\n",
              "\n",
              "  .colab-df-quickchart:hover {\n",
              "    background-color: var(--hover-bg-color);\n",
              "    box-shadow: 0 1px 2px rgba(60, 64, 67, 0.3), 0 1px 3px 1px rgba(60, 64, 67, 0.15);\n",
              "    fill: var(--button-hover-fill-color);\n",
              "  }\n",
              "\n",
              "  .colab-df-quickchart-complete:disabled,\n",
              "  .colab-df-quickchart-complete:disabled:hover {\n",
              "    background-color: var(--disabled-bg-color);\n",
              "    fill: var(--disabled-fill-color);\n",
              "    box-shadow: none;\n",
              "  }\n",
              "\n",
              "  .colab-df-spinner {\n",
              "    border: 2px solid var(--fill-color);\n",
              "    border-color: transparent;\n",
              "    border-bottom-color: var(--fill-color);\n",
              "    animation:\n",
              "      spin 1s steps(1) infinite;\n",
              "  }\n",
              "\n",
              "  @keyframes spin {\n",
              "    0% {\n",
              "      border-color: transparent;\n",
              "      border-bottom-color: var(--fill-color);\n",
              "      border-left-color: var(--fill-color);\n",
              "    }\n",
              "    20% {\n",
              "      border-color: transparent;\n",
              "      border-left-color: var(--fill-color);\n",
              "      border-top-color: var(--fill-color);\n",
              "    }\n",
              "    30% {\n",
              "      border-color: transparent;\n",
              "      border-left-color: var(--fill-color);\n",
              "      border-top-color: var(--fill-color);\n",
              "      border-right-color: var(--fill-color);\n",
              "    }\n",
              "    40% {\n",
              "      border-color: transparent;\n",
              "      border-right-color: var(--fill-color);\n",
              "      border-top-color: var(--fill-color);\n",
              "    }\n",
              "    60% {\n",
              "      border-color: transparent;\n",
              "      border-right-color: var(--fill-color);\n",
              "    }\n",
              "    80% {\n",
              "      border-color: transparent;\n",
              "      border-right-color: var(--fill-color);\n",
              "      border-bottom-color: var(--fill-color);\n",
              "    }\n",
              "    90% {\n",
              "      border-color: transparent;\n",
              "      border-bottom-color: var(--fill-color);\n",
              "    }\n",
              "  }\n",
              "</style>\n",
              "\n",
              "  <script>\n",
              "    async function quickchart(key) {\n",
              "      const quickchartButtonEl =\n",
              "        document.querySelector('#' + key + ' button');\n",
              "      quickchartButtonEl.disabled = true;  // To prevent multiple clicks.\n",
              "      quickchartButtonEl.classList.add('colab-df-spinner');\n",
              "      try {\n",
              "        const charts = await google.colab.kernel.invokeFunction(\n",
              "            'suggestCharts', [key], {});\n",
              "      } catch (error) {\n",
              "        console.error('Error during call to suggestCharts:', error);\n",
              "      }\n",
              "      quickchartButtonEl.classList.remove('colab-df-spinner');\n",
              "      quickchartButtonEl.classList.add('colab-df-quickchart-complete');\n",
              "    }\n",
              "    (() => {\n",
              "      let quickchartButtonEl =\n",
              "        document.querySelector('#df-7596b497-2618-41f3-b15c-5ddbed504e13 button');\n",
              "      quickchartButtonEl.style.display =\n",
              "        google.colab.kernel.accessAllowed ? 'block' : 'none';\n",
              "    })();\n",
              "  </script>\n",
              "</div>\n",
              "    </div>\n",
              "  </div>\n"
            ]
          },
          "metadata": {},
          "execution_count": 2
        }
      ]
    },
    {
      "cell_type": "code",
      "metadata": {
        "colab": {
          "base_uri": "https://localhost:8080/"
        },
        "id": "9C1BU77AEFgI",
        "outputId": "33ec5dbd-cb41-4027-8b38-b82cd0e8ea84"
      },
      "source": [
        "df.shape"
      ],
      "execution_count": null,
      "outputs": [
        {
          "output_type": "execute_result",
          "data": {
            "text/plain": [
              "(8000, 13)"
            ]
          },
          "metadata": {},
          "execution_count": 22
        }
      ]
    },
    {
      "cell_type": "markdown",
      "source": [
        "#### Q2. Quais scores estão mais presentes na base de dados?"
      ],
      "metadata": {
        "id": "rcdFzh7l3J8b"
      }
    },
    {
      "cell_type": "code",
      "source": [
        "plt.figure(figsize=(5,3))\n",
        "\n",
        "sns.countplot(x='score',data=app_reviews_df)\n",
        "plt.title('Score distribution')\n",
        "plt.show()"
      ],
      "metadata": {
        "colab": {
          "base_uri": "https://localhost:8080/",
          "height": 333
        },
        "id": "fOICoHfl3GFg",
        "outputId": "1ac6128a-04bc-4b49-d869-eb5f30556d09"
      },
      "execution_count": null,
      "outputs": [
        {
          "output_type": "display_data",
          "data": {
            "text/plain": [
              "<Figure size 500x300 with 1 Axes>"
            ],
            "image/png": "[encoded data removed]"
          },
          "metadata": {}
        }
      ]
    },
    {
      "cell_type": "markdown",
      "source": [
        "## Sentiment from score\n",
        "\n",
        "Crie uma atributo `sentiment` em `df` atribuindo os seguintes sentimentos a cada review:\n",
        "\n",
        "<br>\n",
        "\n",
        "$-1$, negativo se `score` $\\le 2$,\n",
        "\n",
        "$0$, neutro se `score` $= 3$,\n",
        "\n",
        "$+1$, positivo se `score` $\\gt 3$"
      ],
      "metadata": {
        "id": "LGk68d3y4liU"
      }
    },
    {
      "cell_type": "code",
      "source": [
        "df['sentiment'] = df.score.replace([1,2,3,4,5],[-1,-1,0,1,1])"
      ],
      "metadata": {
        "id": "Tbxym8iCeswa"
      },
      "execution_count": null,
      "outputs": []
    },
    {
      "cell_type": "markdown",
      "source": [
        "## Load `nltk`"
      ],
      "metadata": {
        "id": "XVmj-ycu5tM1"
      }
    },
    {
      "cell_type": "code",
      "source": [
        "import nltk\n",
        "nltk.download(\"stopwords\")\n",
        "from nltk.corpus import stopwords\n",
        "import re"
      ],
      "metadata": {
        "colab": {
          "base_uri": "https://localhost:8080/"
        },
        "id": "YAOkhFFW5waU",
        "outputId": "cb5af745-b17a-43d1-adca-3f053c3b0715"
      },
      "execution_count": null,
      "outputs": [
        {
          "output_type": "stream",
          "name": "stderr",
          "text": [
            "[nltk_data] Downloading package stopwords to /root/nltk_data...\n",
            "[nltk_data]   Unzipping corpora/stopwords.zip.\n"
          ]
        }
      ]
    },
    {
      "cell_type": "markdown",
      "source": [
        "#### Q3. Acesse a lista de `stopwords` em português (`stopwords.words('portuguese')`). Qual a posição da `stopword` \"não\"?"
      ],
      "metadata": {
        "id": "slNAVDYM643t"
      }
    },
    {
      "cell_type": "code",
      "source": [
        "stopwords.words('portuguese')[0:10]"
      ],
      "metadata": {
        "colab": {
          "base_uri": "https://localhost:8080/"
        },
        "id": "7K1feI275zhw",
        "outputId": "6bf8acfb-059f-48a1-c707-fdf8b2c85626"
      },
      "execution_count": null,
      "outputs": [
        {
          "output_type": "execute_result",
          "data": {
            "text/plain": [
              "['a',\n",
              " 'à',\n",
              " 'ao',\n",
              " 'aos',\n",
              " 'aquela',\n",
              " 'aquelas',\n",
              " 'aquele',\n",
              " 'aqueles',\n",
              " 'aquilo',\n",
              " 'as']"
            ]
          },
          "metadata": {},
          "execution_count": 28
        }
      ]
    },
    {
      "cell_type": "code",
      "source": [
        "len( stopwords.words('portuguese') )"
      ],
      "metadata": {
        "colab": {
          "base_uri": "https://localhost:8080/"
        },
        "id": "sdgc9tV66D0L",
        "outputId": "2382ca48-c64c-46c1-fe51-e75670b54b1d"
      },
      "execution_count": null,
      "outputs": [
        {
          "output_type": "execute_result",
          "data": {
            "text/plain": [
              "207"
            ]
          },
          "metadata": {},
          "execution_count": 31
        }
      ]
    },
    {
      "cell_type": "code",
      "source": [
        " stopwords.words('portuguese').index('não')"
      ],
      "metadata": {
        "colab": {
          "base_uri": "https://localhost:8080/"
        },
        "id": "sX8xcXj56NzW",
        "outputId": "e07c9f9b-2189-4861-f9f7-0016164a4561"
      },
      "execution_count": null,
      "outputs": [
        {
          "output_type": "execute_result",
          "data": {
            "text/plain": [
              "120"
            ]
          },
          "metadata": {},
          "execution_count": 38
        }
      ]
    },
    {
      "cell_type": "markdown",
      "source": [
        "## Use a seguinte função de pré-processamento de textos"
      ],
      "metadata": {
        "id": "RvJX2dHg7S8U"
      }
    },
    {
      "cell_type": "code",
      "source": [
        "def text_preprocessing(s):\n",
        "    # Always lower\n",
        "    s = s.lower()\n",
        "    # Remove @name\n",
        "    s = re.sub(r'(@.*?)[\\s]', ' ', s)\n",
        "    # Isolate and remove punctuations except '?'\n",
        "    s = re.sub(r'([\\'\\\"\\.\\!\\?\\\\/\\,])', r' \\1 ', s)\n",
        "    s = re.sub(r'[^\\w\\s\\?]', ' ', s)\n",
        "    # Remove some special characters\n",
        "    s = re.sub(r'([\\;\\:\\|•«\\n])', ' ', s)\n",
        "    # Remove trailing whitespace\n",
        "    s = re.sub(r'\\s+', ' ', s).strip()\n",
        "    # Remove stopwords except 'não' e 'nem'\n",
        "    s = \" \".join([word for word in s.split()\n",
        "                  if word not in stopwords.words('portuguese')\n",
        "                  or word in ['não','nem']])\n",
        "\n",
        "    return s\n"
      ],
      "metadata": {
        "id": "n9TQZ1YLpypE"
      },
      "execution_count": null,
      "outputs": []
    },
    {
      "cell_type": "markdown",
      "source": [
        "Crie uma lista `X_preprocessed` em que cada elemento é texto de revisão (`df.content`) pré-processado pela função acima.\n",
        "\n",
        "<small>\n",
        "nota: talvez pudéssemos empregar o preprocessor na função de tokenização, ou mesmo o stop_words da função, mas aqui vamos por partes..."
      ],
      "metadata": {
        "id": "7M4j_otP7nFT"
      }
    },
    {
      "cell_type": "code",
      "source": [
        "X_preprocessed = np.array([text_preprocessing(text) for text in df.content])"
      ],
      "metadata": {
        "id": "rtlIXC187ips"
      },
      "execution_count": null,
      "outputs": []
    },
    {
      "cell_type": "code",
      "source": [
        "#@markdown Check if True\n",
        "X_preprocessed[7000][0:100] == 'última atualização fica apresentando erro conexão parece internet caiu sendo verifiquei tá tudo ok a'"
      ],
      "metadata": {
        "colab": {
          "base_uri": "https://localhost:8080/"
        },
        "cellView": "form",
        "id": "WBCcltxfALfE",
        "outputId": "c1156e49-1799-48fd-b98d-91cd83e1d7ab"
      },
      "execution_count": null,
      "outputs": [
        {
          "output_type": "execute_result",
          "data": {
            "text/plain": [
              "True"
            ]
          },
          "metadata": {},
          "execution_count": 65
        }
      ]
    },
    {
      "cell_type": "markdown",
      "source": [
        "## TF-IDF\n",
        "\n",
        "Empregue o estimador de TF-IDF de textos do `scikit-learn` com os seguintes parâmetros,\n",
        "\n",
        "```\n",
        "tf_idf = TfidfVectorizer(ngram_range=(1, 3),\n",
        "                         binary=True,\n",
        "                         smooth_idf=False,\n",
        "                         ...\n",
        "```\n",
        "\n",
        "e o máximo tamanho de representação dos texto com 4096, para criar representações TF-IDF dos textos pré-processados de `X_preprocessed`.\n",
        "\n",
        "**Lembre-se**, um estimador possui métodos `fit()` e `transform()`...\n",
        "\n",
        "\n",
        "\n",
        "\n",
        "\n"
      ],
      "metadata": {
        "id": "j6ZgdSWYA9Dk"
      }
    },
    {
      "cell_type": "code",
      "source": [
        "%%time\n",
        "from sklearn.feature_extraction.text import TfidfVectorizer\n",
        "\n",
        "# Calculate TF-IDF\n",
        "tf_idf = TfidfVectorizer(ngram_range=(1, 3),\n",
        "                         binary=True,\n",
        "                         smooth_idf=False,\n",
        "                         max_features=4096)\n",
        "\n",
        "X_tfidf = tf_idf.fit_transform(X_preprocessed)\n"
      ],
      "metadata": {
        "id": "2XBjtKWbsrBP",
        "outputId": "47aa2266-4a07-4324-8d1e-6918d792458d",
        "colab": {
          "base_uri": "https://localhost:8080/"
        }
      },
      "execution_count": null,
      "outputs": [
        {
          "output_type": "stream",
          "name": "stdout",
          "text": [
            "CPU times: user 458 ms, sys: 8.12 ms, total: 466 ms\n",
            "Wall time: 495 ms\n"
          ]
        }
      ]
    },
    {
      "cell_type": "code",
      "source": [
        "X_tfidf"
      ],
      "metadata": {
        "id": "qPxQmbLXtMyD",
        "outputId": "7892e6c9-53bd-4a34-b06b-920c299bb2a0",
        "colab": {
          "base_uri": "https://localhost:8080/"
        }
      },
      "execution_count": null,
      "outputs": [
        {
          "output_type": "execute_result",
          "data": {
            "text/plain": [
              "<8000x4096 sparse matrix of type '<class 'numpy.float64'>'\n",
              "\twith 179985 stored elements in Compressed Sparse Row format>"
            ]
          },
          "metadata": {},
          "execution_count": 42
        }
      ]
    },
    {
      "cell_type": "code",
      "source": [
        "X_tfidf.toarray().shape"
      ],
      "metadata": {
        "id": "yaY4d3bduKYl",
        "outputId": "7d3348ab-91be-4ef4-814f-7d7e824f9f0f",
        "colab": {
          "base_uri": "https://localhost:8080/"
        }
      },
      "execution_count": null,
      "outputs": [
        {
          "output_type": "execute_result",
          "data": {
            "text/plain": [
              "(8000, 4096)"
            ]
          },
          "metadata": {},
          "execution_count": 43
        }
      ]
    },
    {
      "cell_type": "code",
      "source": [
        "X_tfidf.toarray()"
      ],
      "metadata": {
        "colab": {
          "base_uri": "https://localhost:8080/"
        },
        "id": "rDigi8PDC1fe",
        "outputId": "ee553d44-9d72-4bd6-b5bc-9570b60e9ae8"
      },
      "execution_count": null,
      "outputs": [
        {
          "output_type": "execute_result",
          "data": {
            "text/plain": [
              "array([[0., 0., 0., ..., 0., 0., 0.],\n",
              "       [0., 0., 0., ..., 0., 0., 0.],\n",
              "       [0., 0., 0., ..., 0., 0., 0.],\n",
              "       ...,\n",
              "       [0., 0., 0., ..., 0., 0., 0.],\n",
              "       [0., 0., 0., ..., 0., 0., 0.],\n",
              "       [0., 0., 0., ..., 0., 0., 0.]])"
            ]
          },
          "metadata": {},
          "execution_count": 69
        }
      ]
    },
    {
      "cell_type": "code",
      "source": [
        "X_tfidf.toarray()[ X_tfidf.toarray() != 0 ]"
      ],
      "metadata": {
        "colab": {
          "base_uri": "https://localhost:8080/"
        },
        "id": "7QqibmPhC5N8",
        "outputId": "f62ba879-a85b-4278-a5f7-8b5dc7d1d945"
      },
      "execution_count": null,
      "outputs": [
        {
          "output_type": "execute_result",
          "data": {
            "text/plain": [
              "array([0.19757539, 0.12594436, 0.06847243, ..., 0.49119569, 0.60585667,\n",
              "       0.62583104])"
            ]
          },
          "metadata": {},
          "execution_count": 70
        }
      ]
    },
    {
      "cell_type": "code",
      "source": [
        "#@markdown Check if True\n",
        "X_tfidf.toarray()[ X_tfidf.toarray() != 0 ].sum() == 32607.820314182558"
      ],
      "metadata": {
        "colab": {
          "base_uri": "https://localhost:8080/"
        },
        "cellView": "form",
        "id": "8KaFm8OrCflf",
        "outputId": "ac96559b-a36c-4427-84ee-7ba8837d26b3"
      },
      "execution_count": null,
      "outputs": [
        {
          "output_type": "execute_result",
          "data": {
            "text/plain": [
              "True"
            ]
          },
          "metadata": {},
          "execution_count": 68
        }
      ]
    },
    {
      "cell_type": "code",
      "source": [
        "X0 = X_tfidf.toarray() != 0\n",
        "sns.heatmap(X0)\n",
        "plt.show()"
      ],
      "metadata": {
        "colab": {
          "base_uri": "https://localhost:8080/",
          "height": 458
        },
        "id": "dj6T1Rhv9_w-",
        "outputId": "25786a59-76ba-462d-9ba0-2171a8edcc64"
      },
      "execution_count": null,
      "outputs": [
        {
          "output_type": "display_data",
          "data": {
            "text/plain": [
              "<Figure size 640x480 with 2 Axes>"
            ],
            "image/png": "[encoded data removed]"
          },
          "metadata": {}
        }
      ]
    },
    {
      "cell_type": "markdown",
      "source": [
        "## KNeighborsClassifier\n",
        "\n",
        "Empregue os valores TF-IDF obtidos dos textos de review acima, `X_tfidf`, para fazer uma classificação do sentimento das revisões. **Empregue o modelo de K-vizinhos mais próximos, com `k=8` e função distância cosseno.**\n",
        "\n",
        "Empregue `random_state=1`, 0.3 de dados de teste estratificados."
      ],
      "metadata": {
        "id": "oQrhElU8DVp_"
      }
    },
    {
      "cell_type": "code",
      "source": [
        "from sklearn.neighbors import KNeighborsClassifier\n",
        "from sklearn.metrics import classification_report\n",
        "from sklearn.model_selection import train_test_split\n",
        "\n",
        "y = df.sentiment\n",
        "\n",
        "X_train, X_test, y_train, y_test = train_test_split(X_tfidf, y, stratify=y, test_size=0.3, random_state=1)\n",
        "\n",
        "clf = KNeighborsClassifier(n_neighbors=8,metric='cosine')\n",
        "\n",
        "clf.fit(X_train,y_train)\n",
        "\n",
        "print(classification_report(y_test, clf.predict(X_test)))"
      ],
      "metadata": {
        "outputId": "77bdbcc7-d224-435d-bf4b-4ea1e03ad0c6",
        "colab": {
          "base_uri": "https://localhost:8080/"
        },
        "id": "uGn8UOkztNTO"
      },
      "execution_count": null,
      "outputs": [
        {
          "output_type": "stream",
          "name": "stdout",
          "text": [
            "              precision    recall  f1-score   support\n",
            "\n",
            "          -1       0.86      0.91      0.89      1465\n",
            "           0       0.52      0.27      0.35       164\n",
            "           1       0.82      0.83      0.82       771\n",
            "\n",
            "    accuracy                           0.84      2400\n",
            "   macro avg       0.74      0.67      0.69      2400\n",
            "weighted avg       0.83      0.84      0.83      2400\n",
            "\n"
          ]
        }
      ]
    },
    {
      "cell_type": "markdown",
      "source": [
        "#### Q4. Qual a acuracidade obtida do modelo de K-vizinhos mais próximos?\n",
        "\n",
        "\n",
        "\n",
        "\n",
        "\n"
      ],
      "metadata": {
        "id": "edtI7TfnE1vu"
      }
    },
    {
      "cell_type": "markdown",
      "source": [
        "#### Q5. Classifique quanto ao sentimento as expressões 'Aplicativo Lixo' e 'Maravilha!'. Ambas deram o resultado esperado?"
      ],
      "metadata": {
        "id": "4iVLJJuCE9K9"
      }
    },
    {
      "cell_type": "code",
      "source": [
        "my_test = tf_idf.transform(['Aplicativo Lixo'])\n",
        "clf.predict(my_test)"
      ],
      "metadata": {
        "id": "jQu1FBOru8le",
        "outputId": "1a948c3e-cb51-4327-aec2-ba5e9ec64b50",
        "colab": {
          "base_uri": "https://localhost:8080/"
        }
      },
      "execution_count": null,
      "outputs": [
        {
          "output_type": "execute_result",
          "data": {
            "text/plain": [
              "array([-1])"
            ]
          },
          "metadata": {},
          "execution_count": 79
        }
      ]
    },
    {
      "cell_type": "code",
      "source": [
        "my_test = tf_idf.transform(['Maravilha!'])\n",
        "clf.predict(my_test)"
      ],
      "metadata": {
        "id": "13IF_Lflvui9",
        "outputId": "2654a111-dbb9-41bc-a21e-d9f6aa1b0bb3",
        "colab": {
          "base_uri": "https://localhost:8080/"
        }
      },
      "execution_count": null,
      "outputs": [
        {
          "output_type": "execute_result",
          "data": {
            "text/plain": [
              "array([-1])"
            ]
          },
          "metadata": {},
          "execution_count": 80
        }
      ]
    },
    {
      "cell_type": "markdown",
      "source": [
        "## RandomForestClassifier\n",
        "\n",
        "Altere o código do modelo anterior para empregar uma Floresta de Árvores Aleatórias não esquecendo de empregar `random_state=1`."
      ],
      "metadata": {
        "id": "uJdz8YQpFyay"
      }
    },
    {
      "cell_type": "code",
      "source": [
        "from sklearn.ensemble import RandomForestClassifier\n",
        "from sklearn.metrics import classification_report\n",
        "from sklearn.model_selection import train_test_split\n",
        "\n",
        "y = df.sentiment\n",
        "\n",
        "X_train, X_test, y_train, y_test = train_test_split(X_tfidf, y, stratify=y, test_size=0.3, random_state=1)\n",
        "\n",
        "clf = RandomForestClassifier(random_state=1)\n",
        "\n",
        "clf.fit(X_train,y_train)\n",
        "\n",
        "print(classification_report(y_test, clf.predict(X_test)))"
      ],
      "metadata": {
        "outputId": "8cfb2c81-0d7e-4b30-8b6c-b930ffa13b16",
        "colab": {
          "base_uri": "https://localhost:8080/"
        },
        "id": "58Q4NDL8EuRl"
      },
      "execution_count": null,
      "outputs": [
        {
          "output_type": "stream",
          "name": "stdout",
          "text": [
            "              precision    recall  f1-score   support\n",
            "\n",
            "          -1       0.99      0.99      0.99      1465\n",
            "           0       0.98      0.96      0.97       164\n",
            "           1       0.98      0.99      0.98       771\n",
            "\n",
            "    accuracy                           0.98      2400\n",
            "   macro avg       0.98      0.98      0.98      2400\n",
            "weighted avg       0.99      0.98      0.98      2400\n",
            "\n"
          ]
        }
      ]
    },
    {
      "cell_type": "markdown",
      "source": [
        "#### Q6. Qual a acuracidade obtida do modelo de Floresta?\n",
        "\n",
        "\n",
        "\n",
        "\n",
        "\n"
      ],
      "metadata": {
        "id": "YkuHh5_IGGzN"
      }
    },
    {
      "cell_type": "markdown",
      "source": [
        "#### Q7. Classifique quanto ao sentimento as expressões 'Aplicativo Lixo' e 'Maravilha!' com o novo modelo. Ambas deram o resultado esperado?"
      ],
      "metadata": {
        "id": "ZdDBS1INFp5U"
      }
    },
    {
      "cell_type": "code",
      "source": [
        "my_test = tf_idf.transform(['Aplicativo Lixo'])\n",
        "clf.predict(my_test)"
      ],
      "metadata": {
        "outputId": "209a0a82-3ea5-403b-dde1-c95a91a39a34",
        "colab": {
          "base_uri": "https://localhost:8080/"
        },
        "id": "p9FLrPF9Fp5U"
      },
      "execution_count": null,
      "outputs": [
        {
          "output_type": "execute_result",
          "data": {
            "text/plain": [
              "array([-1])"
            ]
          },
          "metadata": {},
          "execution_count": 82
        }
      ]
    },
    {
      "cell_type": "code",
      "source": [
        "my_test = tf_idf.transform(['Maravilha!'])\n",
        "clf.predict(my_test)"
      ],
      "metadata": {
        "outputId": "29f6b380-15bd-48bf-fb13-d2f893cb0ee9",
        "colab": {
          "base_uri": "https://localhost:8080/"
        },
        "id": "_mTqDwkOFp5U"
      },
      "execution_count": null,
      "outputs": [
        {
          "output_type": "execute_result",
          "data": {
            "text/plain": [
              "array([1])"
            ]
          },
          "metadata": {},
          "execution_count": 83
        }
      ]
    },
    {
      "cell_type": "markdown",
      "source": [
        "## RandomForestClassifier\n",
        "\n",
        "Altere o código do modelo Floresta de Árvores Aleatórias anterior agora para classificar o score dos reviews."
      ],
      "metadata": {
        "id": "yZvc83NCGzqT"
      }
    },
    {
      "cell_type": "code",
      "source": [
        "from sklearn.ensemble import RandomForestClassifier\n",
        "from sklearn.metrics import classification_report\n",
        "from sklearn.model_selection import train_test_split\n",
        "\n",
        "y = df.score\n",
        "\n",
        "X_train, X_test, y_train, y_test = train_test_split(X_tfidf, y, stratify=y, test_size=0.3, random_state=1)\n",
        "\n",
        "clf = RandomForestClassifier(random_state=1)\n",
        "\n",
        "clf.fit(X_train,y_train)\n",
        "\n",
        "print(classification_report(y_test, clf.predict(X_test)))"
      ],
      "metadata": {
        "outputId": "4cb92212-252d-4bae-a509-b01a2b28835d",
        "colab": {
          "base_uri": "https://localhost:8080/"
        },
        "id": "Q3VOvoEZGzqe"
      },
      "execution_count": null,
      "outputs": [
        {
          "output_type": "stream",
          "name": "stdout",
          "text": [
            "              precision    recall  f1-score   support\n",
            "\n",
            "           1       0.99      0.99      0.99      1288\n",
            "           2       1.00      0.95      0.97       177\n",
            "           3       0.99      0.95      0.97       164\n",
            "           4       1.00      0.89      0.94       156\n",
            "           5       0.95      1.00      0.98       615\n",
            "\n",
            "    accuracy                           0.98      2400\n",
            "   macro avg       0.99      0.96      0.97      2400\n",
            "weighted avg       0.98      0.98      0.98      2400\n",
            "\n"
          ]
        }
      ]
    },
    {
      "cell_type": "markdown",
      "source": [
        "#### Q8. Qual a acuracidade obtida na classificação do score dos reviews?"
      ],
      "metadata": {
        "id": "BANHPwYqHIVU"
      }
    }
  ]
}