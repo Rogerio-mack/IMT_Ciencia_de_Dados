{
  "nbformat": 4,
  "nbformat_minor": 0,
  "metadata": {
    "anaconda-cloud": {},
    "kernelspec": {
      "display_name": "Python 3",
      "language": "python",
      "name": "python3"
    },
    "language_info": {
      "codemirror_mode": {
        "name": "ipython",
        "version": 3
      },
      "file_extension": ".py",
      "mimetype": "text/x-python",
      "name": "python",
      "nbconvert_exporter": "python",
      "pygments_lexer": "ipython3",
      "version": "3.7.4"
    },
    "colab": {
      "provenance": [],
      "include_colab_link": true
    }
  },
  "cells": [
    {
      "cell_type": "markdown",
      "metadata": {
        "id": "view-in-github",
        "colab_type": "text"
      },
      "source": [
        "<a href=\"https://colab.research.google.com/github/Rogerio-mack/IMT_Ciencia_de_Dados/blob/main/IMT_RForest_SelModels_Desafio.ipynb\" target=\"_parent\"><img src=\"https://colab.research.google.com/assets/colab-badge.svg\" alt=\"Open In Colab\"/></a>"
      ]
    },
    {
      "cell_type": "markdown",
      "metadata": {
        "id": "80CF3Eq9EXDW"
      },
      "source": [
        "<head>\n",
        "  <meta name=\"author\" content=\"Rogério de Oliveira\">\n",
        "  <meta institution=\"author\" content=\"ITM\">\n",
        "</head>\n",
        "\n",
        "<img src=\"https://maua.br/images/selo-60-anos-maua.svg\" width=300, align=\"right\">\n",
        "<!-- <h1 align=left><font size = 6, style=\"color:rgb(200,0,0)\"> optional title </font></h1> -->\n"
      ]
    },
    {
      "cell_type": "markdown",
      "source": [
        "# Random Forest & Seleção de Modelos & DESAFIO\n",
        "\n",
        "Nesta aula você vai:\n",
        "\n",
        "1. Aprender sobre mais um modelo de classificação muito empregado, as Florestas de Árvores Aleatórias\n",
        "2. Recordar as métricas para a Seleção de Modelos\n",
        "3. Além disso será desafiado a obter um melhor modelo de classificação com sua equipe"
      ],
      "metadata": {
        "id": "-FadhN22Nll3"
      }
    },
    {
      "cell_type": "code",
      "metadata": {
        "id": "xyywcuI7p1kG"
      },
      "source": [
        "import numpy as np\n",
        "import pandas as pd\n",
        "import matplotlib.pyplot as plt\n",
        "%matplotlib inline\n",
        "from matplotlib.lines import Line2D\n",
        "import seaborn as sns"
      ],
      "execution_count": 1,
      "outputs": []
    },
    {
      "cell_type": "markdown",
      "metadata": {
        "id": "xkIxewlH6CDT"
      },
      "source": [
        "# Ensemble Models e Random Forests"
      ]
    },
    {
      "cell_type": "markdown",
      "metadata": {
        "id": "6iQ0cyeRT-uk"
      },
      "source": [
        "*Ensemble models* são combinações de modelos. Eles são as mais eficazes\n",
        "abordagens em aprendizado de máquina, geralmente alcançando melhor desempenho  que um único\n",
        "modelo. Trazem um custo algorítmico alto, uma maior complexidade e muitas vezes dificultam a interpretabilidade dos modelos.\n",
        "Existem duas motivações principais por trás da aprendizagem com *Ensemble models*: calcular a média das medidas pode fornecer uma\n",
        "estimativa mais confiável e estável e, portanto, se pudermos construir um modelo de conjunto a partir dos mesmos dados de treinamento,\n",
        "podemos reduzir o efeito de variações aleatórias em modelos únicos."
      ]
    },
    {
      "cell_type": "markdown",
      "source": [
        "### Outros *ensemble* models"
      ],
      "metadata": {
        "id": "TrwpPAfqUoyX"
      }
    },
    {
      "cell_type": "code",
      "source": [
        "from sklearn.ensemble import RandomForestClassifier\n",
        "from sklearn.ensemble import AdaBoostClassifier\n",
        "from sklearn.ensemble import GradientBoostingClassifier"
      ],
      "metadata": {
        "id": "Y7a_PeUNUno2"
      },
      "execution_count": 2,
      "outputs": []
    },
    {
      "cell_type": "markdown",
      "metadata": {
        "id": "QGCtIPXmZbeH"
      },
      "source": [
        "## Treinando uma Floresta Aleatória\n",
        "\n",
        "Uma Floresta Aleatória consiste basicamente em empregarmos várias diferentes  Árvores de Decisão sobre os mesmos dados e obtermos a média dessas árvores para a predição. Na construção de um modelo de conjunto, *ensemble model*, em que todos modelos do conjunto são árvores de decisão é importante garantir que cada árvore individual não esteja muito correlacionada a qualquer uma das outras árvores no modelo. Para garantir isso a construção de florestas aleatórias baseia-se em dois princípios: a *agregação bootstrap*, ou *bagging*; e a seleção aleatória de atributos.\n",
        "\n"
      ]
    },
    {
      "cell_type": "markdown",
      "metadata": {
        "id": "CaW5aMoD58gG"
      },
      "source": [
        "### Bagging, *Bootstrap Aggregation*\n",
        "\n",
        "As árvores de decisão são muito sensíveis aos dados de treinamento com pequenas mudanças dos dados resultando em árvores significativamente diferentes. A floresta aleatória tira vantagem disso, permitindo que cada árvore individual faça uma amostra aleatória do conjunto de dados com substituição, resultando em árvores bastante diferentes. Este processo é conhecido como *bagging*.\n",
        "Note que não estamos subdividindo os dados de treinamento em partes menores e treinando cada árvore em uma parte diferente. O número de amostras de treinamento em cada árvore será o mesmo, mas em vez de empregarem os dados de  treinamento originais, cada árvore emprega uma amostra aleatória do mesmo tamanho $n$ dos dados originais com substituição. No exemplo abaixo, para os dados $[1, 2, 3, 4, 5, 6]$ originais são empregadas as amostras $[1,2,3,3,6,6]$,\n",
        "$[1,2,3,4,5,5]$ e $[2,2,3,4,5,6]$, no que se assemelha muito ao CV, embora seja diferente.\n",
        "\n",
        "![imagem](https://github.com/Rogerio-mack/BIG_DATA_Analytics_Mineracao_e_Analise_de_Dados/blob/main/figuras/randomforest2.png?raw=true)\n",
        "\n",
        "\n",
        "<small>\n",
        "<b>\n",
        "Figura 7. Esquema de Funcionamento de Random Forests."
      ]
    },
    {
      "cell_type": "markdown",
      "metadata": {
        "id": "kJfZdUM58bqm"
      },
      "source": [
        "### Seleção Aleatória de Atributos\n",
        "\n",
        "Como você viu na construção de uma árvore de decisão normal escolhemos a cada nível os atributos que produzem a maior separação entre as amostras. Se adotássemos isso em uma Floresta de Árvores, certamente iríamos obter Árvores bastante correlacionadas. Uma Floresta Aleatória se utiliza do fato de que podemos empregar outros atributos e outra ordem dos atributos para construir a árvore, assim cada árvore em uma floresta aleatória escolhe atributos apenas de um subconjunto aleatório o que permite uma maior variação entre as árvores no modelo de conjunto.\n",
        "\n",
        "\n"
      ]
    },
    {
      "cell_type": "markdown",
      "metadata": {
        "id": "ah3R6nXU9tuu"
      },
      "source": [
        "## Predição Final\n",
        "\n",
        "A final, a predição do modelo é obtida como uma média do resultado de cada árvore do conjunto (modelos de regressão) ou o *majority-voting* (classificação)."
      ]
    },
    {
      "cell_type": "markdown",
      "metadata": {
        "id": "aKQdejWl_-vf"
      },
      "source": [
        "# Um exemplo clássico\n",
        "\n",
        "Antes de prosseguir talvez você queira revisar aqui alguns pontos de como empregar o classificador `DecisionTreeClassifier` no exemplo clássico de Mitchell, Tom Michael (1997). Machine Learning."
      ]
    },
    {
      "cell_type": "code",
      "metadata": {
        "id": "kUemGdu_WwkS",
        "colab": {
          "base_uri": "https://localhost:8080/",
          "height": 206
        },
        "outputId": "5915fe54-67c5-4197-ece3-f33ecea89fdc"
      },
      "source": [
        "df = pd.read_csv('http://meusite.mackenzie.br/rogerio/ML/PlayBallcsv.csv')\n",
        "df.head()"
      ],
      "execution_count": 3,
      "outputs": [
        {
          "output_type": "execute_result",
          "data": {
            "text/plain": [
              "  Day   Outlook Temperature Humidity    Wind Play ball\n",
              "0  D1     Sunny         Hot     High    Weak        No\n",
              "1  D2     Sunny         Hot     High  Strong        No\n",
              "2  D3  Overcast         Hot     High    Weak       Yes\n",
              "3  D4      Rain        Mild     High    Weak       Yes\n",
              "4  D5      Rain        Cool   Normal    Weak       Yes"
            ],
            "text/html": [
              "\n",
              "  <div id=\"df-419e2de5-cadb-402d-8081-bd1a5a34adca\" class=\"colab-df-container\">\n",
              "    <div>\n",
              "<style scoped>\n",
              "    .dataframe tbody tr th:only-of-type {\n",
              "        vertical-align: middle;\n",
              "    }\n",
              "\n",
              "    .dataframe tbody tr th {\n",
              "        vertical-align: top;\n",
              "    }\n",
              "\n",
              "    .dataframe thead th {\n",
              "        text-align: right;\n",
              "    }\n",
              "</style>\n",
              "<table border=\"1\" class=\"dataframe\">\n",
              "  <thead>\n",
              "    <tr style=\"text-align: right;\">\n",
              "      <th></th>\n",
              "      <th>Day</th>\n",
              "      <th>Outlook</th>\n",
              "      <th>Temperature</th>\n",
              "      <th>Humidity</th>\n",
              "      <th>Wind</th>\n",
              "      <th>Play ball</th>\n",
              "    </tr>\n",
              "  </thead>\n",
              "  <tbody>\n",
              "    <tr>\n",
              "      <th>0</th>\n",
              "      <td>D1</td>\n",
              "      <td>Sunny</td>\n",
              "      <td>Hot</td>\n",
              "      <td>High</td>\n",
              "      <td>Weak</td>\n",
              "      <td>No</td>\n",
              "    </tr>\n",
              "    <tr>\n",
              "      <th>1</th>\n",
              "      <td>D2</td>\n",
              "      <td>Sunny</td>\n",
              "      <td>Hot</td>\n",
              "      <td>High</td>\n",
              "      <td>Strong</td>\n",
              "      <td>No</td>\n",
              "    </tr>\n",
              "    <tr>\n",
              "      <th>2</th>\n",
              "      <td>D3</td>\n",
              "      <td>Overcast</td>\n",
              "      <td>Hot</td>\n",
              "      <td>High</td>\n",
              "      <td>Weak</td>\n",
              "      <td>Yes</td>\n",
              "    </tr>\n",
              "    <tr>\n",
              "      <th>3</th>\n",
              "      <td>D4</td>\n",
              "      <td>Rain</td>\n",
              "      <td>Mild</td>\n",
              "      <td>High</td>\n",
              "      <td>Weak</td>\n",
              "      <td>Yes</td>\n",
              "    </tr>\n",
              "    <tr>\n",
              "      <th>4</th>\n",
              "      <td>D5</td>\n",
              "      <td>Rain</td>\n",
              "      <td>Cool</td>\n",
              "      <td>Normal</td>\n",
              "      <td>Weak</td>\n",
              "      <td>Yes</td>\n",
              "    </tr>\n",
              "  </tbody>\n",
              "</table>\n",
              "</div>\n",
              "    <div class=\"colab-df-buttons\">\n",
              "\n",
              "  <div class=\"colab-df-container\">\n",
              "    <button class=\"colab-df-convert\" onclick=\"convertToInteractive('df-419e2de5-cadb-402d-8081-bd1a5a34adca')\"\n",
              "            title=\"Convert this dataframe to an interactive table.\"\n",
              "            style=\"display:none;\">\n",
              "\n",
              "  <svg xmlns=\"http://www.w3.org/2000/svg\" height=\"24px\" viewBox=\"0 -960 960 960\">\n",
              "    <path d=\"M120-120v-720h720v720H120Zm60-500h600v-160H180v160Zm220 220h160v-160H400v160Zm0 220h160v-160H400v160ZM180-400h160v-160H180v160Zm440 0h160v-160H620v160ZM180-180h160v-160H180v160Zm440 0h160v-160H620v160Z\"/>\n",
              "  </svg>\n",
              "    </button>\n",
              "\n",
              "  <style>\n",
              "    .colab-df-container {\n",
              "      display:flex;\n",
              "      gap: 12px;\n",
              "    }\n",
              "\n",
              "    .colab-df-convert {\n",
              "      background-color: #E8F0FE;\n",
              "      border: none;\n",
              "      border-radius: 50%;\n",
              "      cursor: pointer;\n",
              "      display: none;\n",
              "      fill: #1967D2;\n",
              "      height: 32px;\n",
              "      padding: 0 0 0 0;\n",
              "      width: 32px;\n",
              "    }\n",
              "\n",
              "    .colab-df-convert:hover {\n",
              "      background-color: #E2EBFA;\n",
              "      box-shadow: 0px 1px 2px rgba(60, 64, 67, 0.3), 0px 1px 3px 1px rgba(60, 64, 67, 0.15);\n",
              "      fill: #174EA6;\n",
              "    }\n",
              "\n",
              "    .colab-df-buttons div {\n",
              "      margin-bottom: 4px;\n",
              "    }\n",
              "\n",
              "    [theme=dark] .colab-df-convert {\n",
              "      background-color: #3B4455;\n",
              "      fill: #D2E3FC;\n",
              "    }\n",
              "\n",
              "    [theme=dark] .colab-df-convert:hover {\n",
              "      background-color: #434B5C;\n",
              "      box-shadow: 0px 1px 3px 1px rgba(0, 0, 0, 0.15);\n",
              "      filter: drop-shadow(0px 1px 2px rgba(0, 0, 0, 0.3));\n",
              "      fill: #FFFFFF;\n",
              "    }\n",
              "  </style>\n",
              "\n",
              "    <script>\n",
              "      const buttonEl =\n",
              "        document.querySelector('#df-419e2de5-cadb-402d-8081-bd1a5a34adca button.colab-df-convert');\n",
              "      buttonEl.style.display =\n",
              "        google.colab.kernel.accessAllowed ? 'block' : 'none';\n",
              "\n",
              "      async function convertToInteractive(key) {\n",
              "        const element = document.querySelector('#df-419e2de5-cadb-402d-8081-bd1a5a34adca');\n",
              "        const dataTable =\n",
              "          await google.colab.kernel.invokeFunction('convertToInteractive',\n",
              "                                                    [key], {});\n",
              "        if (!dataTable) return;\n",
              "\n",
              "        const docLinkHtml = 'Like what you see? Visit the ' +\n",
              "          '<a target=\"_blank\" href=https://colab.research.google.com/notebooks/data_table.ipynb>data table notebook</a>'\n",
              "          + ' to learn more about interactive tables.';\n",
              "        element.innerHTML = '';\n",
              "        dataTable['output_type'] = 'display_data';\n",
              "        await google.colab.output.renderOutput(dataTable, element);\n",
              "        const docLink = document.createElement('div');\n",
              "        docLink.innerHTML = docLinkHtml;\n",
              "        element.appendChild(docLink);\n",
              "      }\n",
              "    </script>\n",
              "  </div>\n",
              "\n",
              "\n",
              "<div id=\"df-86a95021-9834-4d02-b5f3-f23450c34af7\">\n",
              "  <button class=\"colab-df-quickchart\" onclick=\"quickchart('df-86a95021-9834-4d02-b5f3-f23450c34af7')\"\n",
              "            title=\"Suggest charts.\"\n",
              "            style=\"display:none;\">\n",
              "\n",
              "<svg xmlns=\"http://www.w3.org/2000/svg\" height=\"24px\"viewBox=\"0 0 24 24\"\n",
              "     width=\"24px\">\n",
              "    <g>\n",
              "        <path d=\"M19 3H5c-1.1 0-2 .9-2 2v14c0 1.1.9 2 2 2h14c1.1 0 2-.9 2-2V5c0-1.1-.9-2-2-2zM9 17H7v-7h2v7zm4 0h-2V7h2v10zm4 0h-2v-4h2v4z\"/>\n",
              "    </g>\n",
              "</svg>\n",
              "  </button>\n",
              "\n",
              "<style>\n",
              "  .colab-df-quickchart {\n",
              "    background-color: #E8F0FE;\n",
              "    border: none;\n",
              "    border-radius: 50%;\n",
              "    cursor: pointer;\n",
              "    display: none;\n",
              "    fill: #1967D2;\n",
              "    height: 32px;\n",
              "    padding: 0 0 0 0;\n",
              "    width: 32px;\n",
              "  }\n",
              "\n",
              "  .colab-df-quickchart:hover {\n",
              "    background-color: #E2EBFA;\n",
              "    box-shadow: 0px 1px 2px rgba(60, 64, 67, 0.3), 0px 1px 3px 1px rgba(60, 64, 67, 0.15);\n",
              "    fill: #174EA6;\n",
              "  }\n",
              "\n",
              "  [theme=dark] .colab-df-quickchart {\n",
              "    background-color: #3B4455;\n",
              "    fill: #D2E3FC;\n",
              "  }\n",
              "\n",
              "  [theme=dark] .colab-df-quickchart:hover {\n",
              "    background-color: #434B5C;\n",
              "    box-shadow: 0px 1px 3px 1px rgba(0, 0, 0, 0.15);\n",
              "    filter: drop-shadow(0px 1px 2px rgba(0, 0, 0, 0.3));\n",
              "    fill: #FFFFFF;\n",
              "  }\n",
              "</style>\n",
              "\n",
              "  <script>\n",
              "    async function quickchart(key) {\n",
              "      const charts = await google.colab.kernel.invokeFunction(\n",
              "          'suggestCharts', [key], {});\n",
              "    }\n",
              "    (() => {\n",
              "      let quickchartButtonEl =\n",
              "        document.querySelector('#df-86a95021-9834-4d02-b5f3-f23450c34af7 button');\n",
              "      quickchartButtonEl.style.display =\n",
              "        google.colab.kernel.accessAllowed ? 'block' : 'none';\n",
              "    })();\n",
              "  </script>\n",
              "</div>\n",
              "    </div>\n",
              "  </div>\n"
            ]
          },
          "metadata": {},
          "execution_count": 3
        }
      ]
    },
    {
      "cell_type": "markdown",
      "metadata": {
        "id": "DoL6MGynAhAN"
      },
      "source": [
        "Primeiramente você precisa fazer o encode dos dados, uma restrição da implementação do `scikit-learn`."
      ]
    },
    {
      "cell_type": "code",
      "metadata": {
        "id": "NwMqHcMLsA0_",
        "colab": {
          "base_uri": "https://localhost:8080/",
          "height": 206
        },
        "outputId": "2c42e2f4-cae8-4b3b-e82b-e4bbce01afab"
      },
      "source": [
        "from sklearn.preprocessing import OneHotEncoder, LabelEncoder\n",
        "\n",
        "df_labels = df.drop(columns=['Day','Play ball']).apply(LabelEncoder().fit_transform)\n",
        "\n",
        "pd.concat([ df_labels, df[['Play ball']] ], axis=1).head()"
      ],
      "execution_count": 4,
      "outputs": [
        {
          "output_type": "execute_result",
          "data": {
            "text/plain": [
              "   Outlook  Temperature  Humidity  Wind Play ball\n",
              "0        2            1         0     1        No\n",
              "1        2            1         0     0        No\n",
              "2        0            1         0     1       Yes\n",
              "3        1            2         0     1       Yes\n",
              "4        1            0         1     1       Yes"
            ],
            "text/html": [
              "\n",
              "  <div id=\"df-310e236d-0632-4d3c-94f5-8ca9b3e8da4d\" class=\"colab-df-container\">\n",
              "    <div>\n",
              "<style scoped>\n",
              "    .dataframe tbody tr th:only-of-type {\n",
              "        vertical-align: middle;\n",
              "    }\n",
              "\n",
              "    .dataframe tbody tr th {\n",
              "        vertical-align: top;\n",
              "    }\n",
              "\n",
              "    .dataframe thead th {\n",
              "        text-align: right;\n",
              "    }\n",
              "</style>\n",
              "<table border=\"1\" class=\"dataframe\">\n",
              "  <thead>\n",
              "    <tr style=\"text-align: right;\">\n",
              "      <th></th>\n",
              "      <th>Outlook</th>\n",
              "      <th>Temperature</th>\n",
              "      <th>Humidity</th>\n",
              "      <th>Wind</th>\n",
              "      <th>Play ball</th>\n",
              "    </tr>\n",
              "  </thead>\n",
              "  <tbody>\n",
              "    <tr>\n",
              "      <th>0</th>\n",
              "      <td>2</td>\n",
              "      <td>1</td>\n",
              "      <td>0</td>\n",
              "      <td>1</td>\n",
              "      <td>No</td>\n",
              "    </tr>\n",
              "    <tr>\n",
              "      <th>1</th>\n",
              "      <td>2</td>\n",
              "      <td>1</td>\n",
              "      <td>0</td>\n",
              "      <td>0</td>\n",
              "      <td>No</td>\n",
              "    </tr>\n",
              "    <tr>\n",
              "      <th>2</th>\n",
              "      <td>0</td>\n",
              "      <td>1</td>\n",
              "      <td>0</td>\n",
              "      <td>1</td>\n",
              "      <td>Yes</td>\n",
              "    </tr>\n",
              "    <tr>\n",
              "      <th>3</th>\n",
              "      <td>1</td>\n",
              "      <td>2</td>\n",
              "      <td>0</td>\n",
              "      <td>1</td>\n",
              "      <td>Yes</td>\n",
              "    </tr>\n",
              "    <tr>\n",
              "      <th>4</th>\n",
              "      <td>1</td>\n",
              "      <td>0</td>\n",
              "      <td>1</td>\n",
              "      <td>1</td>\n",
              "      <td>Yes</td>\n",
              "    </tr>\n",
              "  </tbody>\n",
              "</table>\n",
              "</div>\n",
              "    <div class=\"colab-df-buttons\">\n",
              "\n",
              "  <div class=\"colab-df-container\">\n",
              "    <button class=\"colab-df-convert\" onclick=\"convertToInteractive('df-310e236d-0632-4d3c-94f5-8ca9b3e8da4d')\"\n",
              "            title=\"Convert this dataframe to an interactive table.\"\n",
              "            style=\"display:none;\">\n",
              "\n",
              "  <svg xmlns=\"http://www.w3.org/2000/svg\" height=\"24px\" viewBox=\"0 -960 960 960\">\n",
              "    <path d=\"M120-120v-720h720v720H120Zm60-500h600v-160H180v160Zm220 220h160v-160H400v160Zm0 220h160v-160H400v160ZM180-400h160v-160H180v160Zm440 0h160v-160H620v160ZM180-180h160v-160H180v160Zm440 0h160v-160H620v160Z\"/>\n",
              "  </svg>\n",
              "    </button>\n",
              "\n",
              "  <style>\n",
              "    .colab-df-container {\n",
              "      display:flex;\n",
              "      gap: 12px;\n",
              "    }\n",
              "\n",
              "    .colab-df-convert {\n",
              "      background-color: #E8F0FE;\n",
              "      border: none;\n",
              "      border-radius: 50%;\n",
              "      cursor: pointer;\n",
              "      display: none;\n",
              "      fill: #1967D2;\n",
              "      height: 32px;\n",
              "      padding: 0 0 0 0;\n",
              "      width: 32px;\n",
              "    }\n",
              "\n",
              "    .colab-df-convert:hover {\n",
              "      background-color: #E2EBFA;\n",
              "      box-shadow: 0px 1px 2px rgba(60, 64, 67, 0.3), 0px 1px 3px 1px rgba(60, 64, 67, 0.15);\n",
              "      fill: #174EA6;\n",
              "    }\n",
              "\n",
              "    .colab-df-buttons div {\n",
              "      margin-bottom: 4px;\n",
              "    }\n",
              "\n",
              "    [theme=dark] .colab-df-convert {\n",
              "      background-color: #3B4455;\n",
              "      fill: #D2E3FC;\n",
              "    }\n",
              "\n",
              "    [theme=dark] .colab-df-convert:hover {\n",
              "      background-color: #434B5C;\n",
              "      box-shadow: 0px 1px 3px 1px rgba(0, 0, 0, 0.15);\n",
              "      filter: drop-shadow(0px 1px 2px rgba(0, 0, 0, 0.3));\n",
              "      fill: #FFFFFF;\n",
              "    }\n",
              "  </style>\n",
              "\n",
              "    <script>\n",
              "      const buttonEl =\n",
              "        document.querySelector('#df-310e236d-0632-4d3c-94f5-8ca9b3e8da4d button.colab-df-convert');\n",
              "      buttonEl.style.display =\n",
              "        google.colab.kernel.accessAllowed ? 'block' : 'none';\n",
              "\n",
              "      async function convertToInteractive(key) {\n",
              "        const element = document.querySelector('#df-310e236d-0632-4d3c-94f5-8ca9b3e8da4d');\n",
              "        const dataTable =\n",
              "          await google.colab.kernel.invokeFunction('convertToInteractive',\n",
              "                                                    [key], {});\n",
              "        if (!dataTable) return;\n",
              "\n",
              "        const docLinkHtml = 'Like what you see? Visit the ' +\n",
              "          '<a target=\"_blank\" href=https://colab.research.google.com/notebooks/data_table.ipynb>data table notebook</a>'\n",
              "          + ' to learn more about interactive tables.';\n",
              "        element.innerHTML = '';\n",
              "        dataTable['output_type'] = 'display_data';\n",
              "        await google.colab.output.renderOutput(dataTable, element);\n",
              "        const docLink = document.createElement('div');\n",
              "        docLink.innerHTML = docLinkHtml;\n",
              "        element.appendChild(docLink);\n",
              "      }\n",
              "    </script>\n",
              "  </div>\n",
              "\n",
              "\n",
              "<div id=\"df-4a9cdb86-0f48-4456-900c-76f7027c416d\">\n",
              "  <button class=\"colab-df-quickchart\" onclick=\"quickchart('df-4a9cdb86-0f48-4456-900c-76f7027c416d')\"\n",
              "            title=\"Suggest charts.\"\n",
              "            style=\"display:none;\">\n",
              "\n",
              "<svg xmlns=\"http://www.w3.org/2000/svg\" height=\"24px\"viewBox=\"0 0 24 24\"\n",
              "     width=\"24px\">\n",
              "    <g>\n",
              "        <path d=\"M19 3H5c-1.1 0-2 .9-2 2v14c0 1.1.9 2 2 2h14c1.1 0 2-.9 2-2V5c0-1.1-.9-2-2-2zM9 17H7v-7h2v7zm4 0h-2V7h2v10zm4 0h-2v-4h2v4z\"/>\n",
              "    </g>\n",
              "</svg>\n",
              "  </button>\n",
              "\n",
              "<style>\n",
              "  .colab-df-quickchart {\n",
              "    background-color: #E8F0FE;\n",
              "    border: none;\n",
              "    border-radius: 50%;\n",
              "    cursor: pointer;\n",
              "    display: none;\n",
              "    fill: #1967D2;\n",
              "    height: 32px;\n",
              "    padding: 0 0 0 0;\n",
              "    width: 32px;\n",
              "  }\n",
              "\n",
              "  .colab-df-quickchart:hover {\n",
              "    background-color: #E2EBFA;\n",
              "    box-shadow: 0px 1px 2px rgba(60, 64, 67, 0.3), 0px 1px 3px 1px rgba(60, 64, 67, 0.15);\n",
              "    fill: #174EA6;\n",
              "  }\n",
              "\n",
              "  [theme=dark] .colab-df-quickchart {\n",
              "    background-color: #3B4455;\n",
              "    fill: #D2E3FC;\n",
              "  }\n",
              "\n",
              "  [theme=dark] .colab-df-quickchart:hover {\n",
              "    background-color: #434B5C;\n",
              "    box-shadow: 0px 1px 3px 1px rgba(0, 0, 0, 0.15);\n",
              "    filter: drop-shadow(0px 1px 2px rgba(0, 0, 0, 0.3));\n",
              "    fill: #FFFFFF;\n",
              "  }\n",
              "</style>\n",
              "\n",
              "  <script>\n",
              "    async function quickchart(key) {\n",
              "      const charts = await google.colab.kernel.invokeFunction(\n",
              "          'suggestCharts', [key], {});\n",
              "    }\n",
              "    (() => {\n",
              "      let quickchartButtonEl =\n",
              "        document.querySelector('#df-4a9cdb86-0f48-4456-900c-76f7027c416d button');\n",
              "      quickchartButtonEl.style.display =\n",
              "        google.colab.kernel.accessAllowed ? 'block' : 'none';\n",
              "    })();\n",
              "  </script>\n",
              "</div>\n",
              "    </div>\n",
              "  </div>\n"
            ]
          },
          "metadata": {},
          "execution_count": 4
        }
      ]
    },
    {
      "cell_type": "markdown",
      "metadata": {
        "id": "8-0y3D5XAq2l"
      },
      "source": [
        "O uso do estimador segue do mesmo modo que já empregamos para o estimador logístico, o Knn e é a forma de empregarmos qualquer modelo de aprendizado supervisinado."
      ]
    },
    {
      "cell_type": "code",
      "metadata": {
        "id": "sQENADrLpDhQ",
        "colab": {
          "base_uri": "https://localhost:8080/"
        },
        "outputId": "0e68bf32-5d4e-4298-a6d7-0fa718d838ef"
      },
      "source": [
        "from sklearn.tree import DecisionTreeClassifier\n",
        "\n",
        "X = df_labels\n",
        "y = df['Play ball']\n",
        "\n",
        "clf = DecisionTreeClassifier()\n",
        "\n",
        "clf.fit(X,y)\n",
        "y_pred = clf.predict(X)\n",
        "print( clf.score(X,y) )\n"
      ],
      "execution_count": 5,
      "outputs": [
        {
          "output_type": "stream",
          "name": "stdout",
          "text": [
            "1.0\n"
          ]
        }
      ]
    },
    {
      "cell_type": "markdown",
      "metadata": {
        "id": "z9mc4zQ7A71l"
      },
      "source": [
        "Você pode achar útil visualizar a árvore de decisão criada  com o `graphviz`."
      ]
    },
    {
      "cell_type": "code",
      "metadata": {
        "colab": {
          "base_uri": "https://localhost:8080/",
          "height": 657
        },
        "id": "AKR9WM9I_EC-",
        "outputId": "790e69f7-e78e-4695-99a1-31137daec9dd"
      },
      "source": [
        "from sklearn import tree\n",
        "import graphviz\n",
        "dot_data = tree.export_graphviz(clf, out_file=None,\n",
        "                     feature_names=list(df_labels.columns.values),\n",
        "                     class_names=list(sorted(df['Play ball'].unique())),\n",
        "                     filled=True, rounded=True,\n",
        "                     special_characters=False,\n",
        "                     proportion=False, impurity=False, node_ids=False,label=None)\n",
        "graph = graphviz.Source(dot_data)\n",
        "graph.render('graph_cartoons') # para gravação em .pdf\n",
        "graph"
      ],
      "execution_count": 6,
      "outputs": [
        {
          "output_type": "execute_result",
          "data": {
            "image/svg+xml": "<?xml version=\"1.0\" encoding=\"UTF-8\" standalone=\"no\"?>\n<!DOCTYPE svg PUBLIC \"-//W3C//DTD SVG 1.1//EN\"\n \"http://www.w3.org/Graphics/SVG/1.1/DTD/svg11.dtd\">\n<!-- Generated by graphviz version 2.43.0 (0)\n -->\n<!-- Title: Tree Pages: 1 -->\n<svg width=\"400pt\" height=\"477pt\"\n viewBox=\"0.00 0.00 399.50 477.00\" xmlns=\"http://www.w3.org/2000/svg\" xmlns:xlink=\"http://www.w3.org/1999/xlink\">\n<g id=\"graph0\" class=\"graph\" transform=\"scale(1 1) rotate(0) translate(4 473)\">\n<title>Tree</title>\n<polygon fill=\"white\" stroke=\"transparent\" points=\"-4,4 -4,-473 395.5,-473 395.5,4 -4,4\"/>\n<!-- 0 -->\n<g id=\"node1\" class=\"node\">\n<title>0</title>\n<path fill=\"#a7d3f3\" stroke=\"black\" d=\"M184,-469C184,-469 101,-469 101,-469 95,-469 89,-463 89,-457 89,-457 89,-413 89,-413 89,-407 95,-401 101,-401 101,-401 184,-401 184,-401 190,-401 196,-407 196,-413 196,-413 196,-457 196,-457 196,-463 190,-469 184,-469\"/>\n<text text-anchor=\"middle\" x=\"142.5\" y=\"-453.8\" font-family=\"Helvetica,sans-Serif\" font-size=\"14.00\">Outlook &lt;= 0.5</text>\n<text text-anchor=\"middle\" x=\"142.5\" y=\"-438.8\" font-family=\"Helvetica,sans-Serif\" font-size=\"14.00\">14</text>\n<text text-anchor=\"middle\" x=\"142.5\" y=\"-423.8\" font-family=\"Helvetica,sans-Serif\" font-size=\"14.00\">[5, 9]</text>\n<text text-anchor=\"middle\" x=\"142.5\" y=\"-408.8\" font-family=\"Helvetica,sans-Serif\" font-size=\"14.00\">Yes</text>\n</g>\n<!-- 1 -->\n<g id=\"node2\" class=\"node\">\n<title>1</title>\n<path fill=\"#399de5\" stroke=\"black\" d=\"M106.5,-357.5C106.5,-357.5 76.5,-357.5 76.5,-357.5 70.5,-357.5 64.5,-351.5 64.5,-345.5 64.5,-345.5 64.5,-316.5 64.5,-316.5 64.5,-310.5 70.5,-304.5 76.5,-304.5 76.5,-304.5 106.5,-304.5 106.5,-304.5 112.5,-304.5 118.5,-310.5 118.5,-316.5 118.5,-316.5 118.5,-345.5 118.5,-345.5 118.5,-351.5 112.5,-357.5 106.5,-357.5\"/>\n<text text-anchor=\"middle\" x=\"91.5\" y=\"-342.3\" font-family=\"Helvetica,sans-Serif\" font-size=\"14.00\">4</text>\n<text text-anchor=\"middle\" x=\"91.5\" y=\"-327.3\" font-family=\"Helvetica,sans-Serif\" font-size=\"14.00\">[0, 4]</text>\n<text text-anchor=\"middle\" x=\"91.5\" y=\"-312.3\" font-family=\"Helvetica,sans-Serif\" font-size=\"14.00\">Yes</text>\n</g>\n<!-- 0&#45;&gt;1 -->\n<g id=\"edge1\" class=\"edge\">\n<title>0&#45;&gt;1</title>\n<path fill=\"none\" stroke=\"black\" d=\"M125.94,-400.88C120.44,-389.89 114.31,-377.62 108.76,-366.52\"/>\n<polygon fill=\"black\" stroke=\"black\" points=\"111.86,-364.9 104.26,-357.52 105.6,-368.03 111.86,-364.9\"/>\n<text text-anchor=\"middle\" x=\"96.35\" y=\"-377.54\" font-family=\"Helvetica,sans-Serif\" font-size=\"14.00\">True</text>\n</g>\n<!-- 2 -->\n<g id=\"node3\" class=\"node\">\n<title>2</title>\n<path fill=\"#ffffff\" stroke=\"black\" d=\"M238,-365C238,-365 149,-365 149,-365 143,-365 137,-359 137,-353 137,-353 137,-309 137,-309 137,-303 143,-297 149,-297 149,-297 238,-297 238,-297 244,-297 250,-303 250,-309 250,-309 250,-353 250,-353 250,-359 244,-365 238,-365\"/>\n<text text-anchor=\"middle\" x=\"193.5\" y=\"-349.8\" font-family=\"Helvetica,sans-Serif\" font-size=\"14.00\">Humidity &lt;= 0.5</text>\n<text text-anchor=\"middle\" x=\"193.5\" y=\"-334.8\" font-family=\"Helvetica,sans-Serif\" font-size=\"14.00\">10</text>\n<text text-anchor=\"middle\" x=\"193.5\" y=\"-319.8\" font-family=\"Helvetica,sans-Serif\" font-size=\"14.00\">[5, 5]</text>\n<text text-anchor=\"middle\" x=\"193.5\" y=\"-304.8\" font-family=\"Helvetica,sans-Serif\" font-size=\"14.00\">No</text>\n</g>\n<!-- 0&#45;&gt;2 -->\n<g id=\"edge2\" class=\"edge\">\n<title>0&#45;&gt;2</title>\n<path fill=\"none\" stroke=\"black\" d=\"M159.06,-400.88C163.29,-392.42 167.9,-383.21 172.32,-374.35\"/>\n<polygon fill=\"black\" stroke=\"black\" points=\"175.51,-375.81 176.85,-365.3 169.25,-372.68 175.51,-375.81\"/>\n<text text-anchor=\"middle\" x=\"184.76\" y=\"-385.32\" font-family=\"Helvetica,sans-Serif\" font-size=\"14.00\">False</text>\n</g>\n<!-- 3 -->\n<g id=\"node4\" class=\"node\">\n<title>3</title>\n<path fill=\"#eca06a\" stroke=\"black\" d=\"M177,-261C177,-261 94,-261 94,-261 88,-261 82,-255 82,-249 82,-249 82,-205 82,-205 82,-199 88,-193 94,-193 94,-193 177,-193 177,-193 183,-193 189,-199 189,-205 189,-205 189,-249 189,-249 189,-255 183,-261 177,-261\"/>\n<text text-anchor=\"middle\" x=\"135.5\" y=\"-245.8\" font-family=\"Helvetica,sans-Serif\" font-size=\"14.00\">Outlook &lt;= 1.5</text>\n<text text-anchor=\"middle\" x=\"135.5\" y=\"-230.8\" font-family=\"Helvetica,sans-Serif\" font-size=\"14.00\">5</text>\n<text text-anchor=\"middle\" x=\"135.5\" y=\"-215.8\" font-family=\"Helvetica,sans-Serif\" font-size=\"14.00\">[4, 1]</text>\n<text text-anchor=\"middle\" x=\"135.5\" y=\"-200.8\" font-family=\"Helvetica,sans-Serif\" font-size=\"14.00\">No</text>\n</g>\n<!-- 2&#45;&gt;3 -->\n<g id=\"edge3\" class=\"edge\">\n<title>2&#45;&gt;3</title>\n<path fill=\"none\" stroke=\"black\" d=\"M174.67,-296.88C169.81,-288.33 164.51,-279.01 159.42,-270.07\"/>\n<polygon fill=\"black\" stroke=\"black\" points=\"162.42,-268.26 154.43,-261.3 156.34,-271.72 162.42,-268.26\"/>\n</g>\n<!-- 8 -->\n<g id=\"node9\" class=\"node\">\n<title>8</title>\n<path fill=\"#6ab6ec\" stroke=\"black\" d=\"M286,-261C286,-261 219,-261 219,-261 213,-261 207,-255 207,-249 207,-249 207,-205 207,-205 207,-199 213,-193 219,-193 219,-193 286,-193 286,-193 292,-193 298,-199 298,-205 298,-205 298,-249 298,-249 298,-255 292,-261 286,-261\"/>\n<text text-anchor=\"middle\" x=\"252.5\" y=\"-245.8\" font-family=\"Helvetica,sans-Serif\" font-size=\"14.00\">Wind &lt;= 0.5</text>\n<text text-anchor=\"middle\" x=\"252.5\" y=\"-230.8\" font-family=\"Helvetica,sans-Serif\" font-size=\"14.00\">5</text>\n<text text-anchor=\"middle\" x=\"252.5\" y=\"-215.8\" font-family=\"Helvetica,sans-Serif\" font-size=\"14.00\">[1, 4]</text>\n<text text-anchor=\"middle\" x=\"252.5\" y=\"-200.8\" font-family=\"Helvetica,sans-Serif\" font-size=\"14.00\">Yes</text>\n</g>\n<!-- 2&#45;&gt;8 -->\n<g id=\"edge8\" class=\"edge\">\n<title>2&#45;&gt;8</title>\n<path fill=\"none\" stroke=\"black\" d=\"M212.66,-296.88C217.6,-288.33 222.99,-279.01 228.16,-270.07\"/>\n<polygon fill=\"black\" stroke=\"black\" points=\"231.26,-271.71 233.24,-261.3 225.2,-268.2 231.26,-271.71\"/>\n</g>\n<!-- 4 -->\n<g id=\"node5\" class=\"node\">\n<title>4</title>\n<path fill=\"#ffffff\" stroke=\"black\" d=\"M79,-157C79,-157 12,-157 12,-157 6,-157 0,-151 0,-145 0,-145 0,-101 0,-101 0,-95 6,-89 12,-89 12,-89 79,-89 79,-89 85,-89 91,-95 91,-101 91,-101 91,-145 91,-145 91,-151 85,-157 79,-157\"/>\n<text text-anchor=\"middle\" x=\"45.5\" y=\"-141.8\" font-family=\"Helvetica,sans-Serif\" font-size=\"14.00\">Wind &lt;= 0.5</text>\n<text text-anchor=\"middle\" x=\"45.5\" y=\"-126.8\" font-family=\"Helvetica,sans-Serif\" font-size=\"14.00\">2</text>\n<text text-anchor=\"middle\" x=\"45.5\" y=\"-111.8\" font-family=\"Helvetica,sans-Serif\" font-size=\"14.00\">[1, 1]</text>\n<text text-anchor=\"middle\" x=\"45.5\" y=\"-96.8\" font-family=\"Helvetica,sans-Serif\" font-size=\"14.00\">No</text>\n</g>\n<!-- 3&#45;&gt;4 -->\n<g id=\"edge4\" class=\"edge\">\n<title>3&#45;&gt;4</title>\n<path fill=\"none\" stroke=\"black\" d=\"M106.28,-192.88C98.42,-183.98 89.83,-174.24 81.64,-164.96\"/>\n<polygon fill=\"black\" stroke=\"black\" points=\"84.12,-162.48 74.88,-157.3 78.87,-167.11 84.12,-162.48\"/>\n</g>\n<!-- 7 -->\n<g id=\"node8\" class=\"node\">\n<title>7</title>\n<path fill=\"#e58139\" stroke=\"black\" d=\"M151.5,-149.5C151.5,-149.5 121.5,-149.5 121.5,-149.5 115.5,-149.5 109.5,-143.5 109.5,-137.5 109.5,-137.5 109.5,-108.5 109.5,-108.5 109.5,-102.5 115.5,-96.5 121.5,-96.5 121.5,-96.5 151.5,-96.5 151.5,-96.5 157.5,-96.5 163.5,-102.5 163.5,-108.5 163.5,-108.5 163.5,-137.5 163.5,-137.5 163.5,-143.5 157.5,-149.5 151.5,-149.5\"/>\n<text text-anchor=\"middle\" x=\"136.5\" y=\"-134.3\" font-family=\"Helvetica,sans-Serif\" font-size=\"14.00\">3</text>\n<text text-anchor=\"middle\" x=\"136.5\" y=\"-119.3\" font-family=\"Helvetica,sans-Serif\" font-size=\"14.00\">[3, 0]</text>\n<text text-anchor=\"middle\" x=\"136.5\" y=\"-104.3\" font-family=\"Helvetica,sans-Serif\" font-size=\"14.00\">No</text>\n</g>\n<!-- 3&#45;&gt;7 -->\n<g id=\"edge7\" class=\"edge\">\n<title>3&#45;&gt;7</title>\n<path fill=\"none\" stroke=\"black\" d=\"M135.82,-192.88C135.93,-182.33 136.04,-170.6 136.15,-159.85\"/>\n<polygon fill=\"black\" stroke=\"black\" points=\"139.65,-159.55 136.25,-149.52 132.65,-159.49 139.65,-159.55\"/>\n</g>\n<!-- 5 -->\n<g id=\"node6\" class=\"node\">\n<title>5</title>\n<path fill=\"#e58139\" stroke=\"black\" d=\"M54.5,-53C54.5,-53 24.5,-53 24.5,-53 18.5,-53 12.5,-47 12.5,-41 12.5,-41 12.5,-12 12.5,-12 12.5,-6 18.5,0 24.5,0 24.5,0 54.5,0 54.5,0 60.5,0 66.5,-6 66.5,-12 66.5,-12 66.5,-41 66.5,-41 66.5,-47 60.5,-53 54.5,-53\"/>\n<text text-anchor=\"middle\" x=\"39.5\" y=\"-37.8\" font-family=\"Helvetica,sans-Serif\" font-size=\"14.00\">1</text>\n<text text-anchor=\"middle\" x=\"39.5\" y=\"-22.8\" font-family=\"Helvetica,sans-Serif\" font-size=\"14.00\">[1, 0]</text>\n<text text-anchor=\"middle\" x=\"39.5\" y=\"-7.8\" font-family=\"Helvetica,sans-Serif\" font-size=\"14.00\">No</text>\n</g>\n<!-- 4&#45;&gt;5 -->\n<g id=\"edge5\" class=\"edge\">\n<title>4&#45;&gt;5</title>\n<path fill=\"none\" stroke=\"black\" d=\"M43.4,-88.95C42.88,-80.72 42.32,-71.85 41.78,-63.48\"/>\n<polygon fill=\"black\" stroke=\"black\" points=\"45.26,-62.99 41.13,-53.24 38.27,-63.44 45.26,-62.99\"/>\n</g>\n<!-- 6 -->\n<g id=\"node7\" class=\"node\">\n<title>6</title>\n<path fill=\"#399de5\" stroke=\"black\" d=\"M126.5,-53C126.5,-53 96.5,-53 96.5,-53 90.5,-53 84.5,-47 84.5,-41 84.5,-41 84.5,-12 84.5,-12 84.5,-6 90.5,0 96.5,0 96.5,0 126.5,0 126.5,0 132.5,0 138.5,-6 138.5,-12 138.5,-12 138.5,-41 138.5,-41 138.5,-47 132.5,-53 126.5,-53\"/>\n<text text-anchor=\"middle\" x=\"111.5\" y=\"-37.8\" font-family=\"Helvetica,sans-Serif\" font-size=\"14.00\">1</text>\n<text text-anchor=\"middle\" x=\"111.5\" y=\"-22.8\" font-family=\"Helvetica,sans-Serif\" font-size=\"14.00\">[0, 1]</text>\n<text text-anchor=\"middle\" x=\"111.5\" y=\"-7.8\" font-family=\"Helvetica,sans-Serif\" font-size=\"14.00\">Yes</text>\n</g>\n<!-- 4&#45;&gt;6 -->\n<g id=\"edge6\" class=\"edge\">\n<title>4&#45;&gt;6</title>\n<path fill=\"none\" stroke=\"black\" d=\"M68.58,-88.95C74.78,-80.07 81.49,-70.46 87.73,-61.54\"/>\n<polygon fill=\"black\" stroke=\"black\" points=\"90.67,-63.44 93.53,-53.24 84.93,-59.43 90.67,-63.44\"/>\n</g>\n<!-- 9 -->\n<g id=\"node10\" class=\"node\">\n<title>9</title>\n<path fill=\"#ffffff\" stroke=\"black\" d=\"M307.5,-157C307.5,-157 195.5,-157 195.5,-157 189.5,-157 183.5,-151 183.5,-145 183.5,-145 183.5,-101 183.5,-101 183.5,-95 189.5,-89 195.5,-89 195.5,-89 307.5,-89 307.5,-89 313.5,-89 319.5,-95 319.5,-101 319.5,-101 319.5,-145 319.5,-145 319.5,-151 313.5,-157 307.5,-157\"/>\n<text text-anchor=\"middle\" x=\"251.5\" y=\"-141.8\" font-family=\"Helvetica,sans-Serif\" font-size=\"14.00\">Temperature &lt;= 1.0</text>\n<text text-anchor=\"middle\" x=\"251.5\" y=\"-126.8\" font-family=\"Helvetica,sans-Serif\" font-size=\"14.00\">2</text>\n<text text-anchor=\"middle\" x=\"251.5\" y=\"-111.8\" font-family=\"Helvetica,sans-Serif\" font-size=\"14.00\">[1, 1]</text>\n<text text-anchor=\"middle\" x=\"251.5\" y=\"-96.8\" font-family=\"Helvetica,sans-Serif\" font-size=\"14.00\">No</text>\n</g>\n<!-- 8&#45;&gt;9 -->\n<g id=\"edge9\" class=\"edge\">\n<title>8&#45;&gt;9</title>\n<path fill=\"none\" stroke=\"black\" d=\"M252.18,-192.88C252.1,-184.78 252.01,-175.98 251.93,-167.47\"/>\n<polygon fill=\"black\" stroke=\"black\" points=\"255.42,-167.26 251.83,-157.3 248.42,-167.33 255.42,-167.26\"/>\n</g>\n<!-- 12 -->\n<g id=\"node13\" class=\"node\">\n<title>12</title>\n<path fill=\"#399de5\" stroke=\"black\" d=\"M379.5,-149.5C379.5,-149.5 349.5,-149.5 349.5,-149.5 343.5,-149.5 337.5,-143.5 337.5,-137.5 337.5,-137.5 337.5,-108.5 337.5,-108.5 337.5,-102.5 343.5,-96.5 349.5,-96.5 349.5,-96.5 379.5,-96.5 379.5,-96.5 385.5,-96.5 391.5,-102.5 391.5,-108.5 391.5,-108.5 391.5,-137.5 391.5,-137.5 391.5,-143.5 385.5,-149.5 379.5,-149.5\"/>\n<text text-anchor=\"middle\" x=\"364.5\" y=\"-134.3\" font-family=\"Helvetica,sans-Serif\" font-size=\"14.00\">3</text>\n<text text-anchor=\"middle\" x=\"364.5\" y=\"-119.3\" font-family=\"Helvetica,sans-Serif\" font-size=\"14.00\">[0, 3]</text>\n<text text-anchor=\"middle\" x=\"364.5\" y=\"-104.3\" font-family=\"Helvetica,sans-Serif\" font-size=\"14.00\">Yes</text>\n</g>\n<!-- 8&#45;&gt;12 -->\n<g id=\"edge12\" class=\"edge\">\n<title>8&#45;&gt;12</title>\n<path fill=\"none\" stroke=\"black\" d=\"M289.26,-192.69C301.73,-181.38 315.73,-168.65 328.5,-157 328.95,-156.59 329.4,-156.18 329.86,-155.76\"/>\n<polygon fill=\"black\" stroke=\"black\" points=\"332.37,-158.21 337.39,-148.88 327.64,-153.04 332.37,-158.21\"/>\n</g>\n<!-- 10 -->\n<g id=\"node11\" class=\"node\">\n<title>10</title>\n<path fill=\"#e58139\" stroke=\"black\" d=\"M231.5,-53C231.5,-53 201.5,-53 201.5,-53 195.5,-53 189.5,-47 189.5,-41 189.5,-41 189.5,-12 189.5,-12 189.5,-6 195.5,0 201.5,0 201.5,0 231.5,0 231.5,0 237.5,0 243.5,-6 243.5,-12 243.5,-12 243.5,-41 243.5,-41 243.5,-47 237.5,-53 231.5,-53\"/>\n<text text-anchor=\"middle\" x=\"216.5\" y=\"-37.8\" font-family=\"Helvetica,sans-Serif\" font-size=\"14.00\">1</text>\n<text text-anchor=\"middle\" x=\"216.5\" y=\"-22.8\" font-family=\"Helvetica,sans-Serif\" font-size=\"14.00\">[1, 0]</text>\n<text text-anchor=\"middle\" x=\"216.5\" y=\"-7.8\" font-family=\"Helvetica,sans-Serif\" font-size=\"14.00\">No</text>\n</g>\n<!-- 9&#45;&gt;10 -->\n<g id=\"edge10\" class=\"edge\">\n<title>9&#45;&gt;10</title>\n<path fill=\"none\" stroke=\"black\" d=\"M239.26,-88.95C236.11,-80.44 232.71,-71.26 229.52,-62.65\"/>\n<polygon fill=\"black\" stroke=\"black\" points=\"232.79,-61.4 226.03,-53.24 226.22,-63.83 232.79,-61.4\"/>\n</g>\n<!-- 11 -->\n<g id=\"node12\" class=\"node\">\n<title>11</title>\n<path fill=\"#399de5\" stroke=\"black\" d=\"M303.5,-53C303.5,-53 273.5,-53 273.5,-53 267.5,-53 261.5,-47 261.5,-41 261.5,-41 261.5,-12 261.5,-12 261.5,-6 267.5,0 273.5,0 273.5,0 303.5,0 303.5,0 309.5,0 315.5,-6 315.5,-12 315.5,-12 315.5,-41 315.5,-41 315.5,-47 309.5,-53 303.5,-53\"/>\n<text text-anchor=\"middle\" x=\"288.5\" y=\"-37.8\" font-family=\"Helvetica,sans-Serif\" font-size=\"14.00\">1</text>\n<text text-anchor=\"middle\" x=\"288.5\" y=\"-22.8\" font-family=\"Helvetica,sans-Serif\" font-size=\"14.00\">[0, 1]</text>\n<text text-anchor=\"middle\" x=\"288.5\" y=\"-7.8\" font-family=\"Helvetica,sans-Serif\" font-size=\"14.00\">Yes</text>\n</g>\n<!-- 9&#45;&gt;11 -->\n<g id=\"edge11\" class=\"edge\">\n<title>9&#45;&gt;11</title>\n<path fill=\"none\" stroke=\"black\" d=\"M264.44,-88.95C267.77,-80.44 271.37,-71.26 274.74,-62.65\"/>\n<polygon fill=\"black\" stroke=\"black\" points=\"278.04,-63.82 278.42,-53.24 271.52,-61.27 278.04,-63.82\"/>\n</g>\n</g>\n</svg>\n",
            "text/plain": [
              "<graphviz.sources.Source at 0x7f7ba7dbbc40>"
            ]
          },
          "metadata": {},
          "execution_count": 6
        }
      ]
    },
    {
      "cell_type": "markdown",
      "metadata": {
        "id": "LkJBfJnqBIjd"
      },
      "source": [
        "E a informação mútua e o peso dos atributos no classificador fornecem informações úteis para análises dos modelos em muitos casos."
      ]
    },
    {
      "cell_type": "code",
      "metadata": {
        "id": "LxWA1cUZr7aM",
        "colab": {
          "base_uri": "https://localhost:8080/"
        },
        "outputId": "56353641-3e92-484c-b74f-082f22987f15"
      },
      "source": [
        "from sklearn.feature_selection import mutual_info_classif\n",
        "\n",
        "print(X.columns)\n",
        "print(mutual_info_classif(X, y, discrete_features=True))\n",
        "print(clf.feature_importances_)"
      ],
      "execution_count": 7,
      "outputs": [
        {
          "output_type": "stream",
          "name": "stdout",
          "text": [
            "Index(['Outlook', 'Temperature', 'Humidity', 'Wind'], dtype='object')\n",
            "[0.17103394 0.02025554 0.10524435 0.03335912]\n",
            "[0.31555556 0.15555556 0.28       0.24888889]\n"
          ]
        }
      ]
    },
    {
      "cell_type": "code",
      "source": [
        "from sklearn.ensemble import RandomForestClassifier\n",
        "\n",
        "X = df_labels\n",
        "y = df['Play ball']\n",
        "\n",
        "clf = RandomForestClassifier()\n",
        "\n",
        "clf.fit(X,y)\n",
        "y_pred = clf.predict(X)\n",
        "print( clf.score(X,y) )"
      ],
      "metadata": {
        "colab": {
          "base_uri": "https://localhost:8080/"
        },
        "id": "j9WKdXKiUIy1",
        "outputId": "d1cdfa17-161c-4261-8be4-6f09cb0334ee"
      },
      "execution_count": 8,
      "outputs": [
        {
          "output_type": "stream",
          "name": "stdout",
          "text": [
            "1.0\n"
          ]
        }
      ]
    },
    {
      "cell_type": "markdown",
      "metadata": {
        "id": "UN5aelmtCra9"
      },
      "source": [
        "# Selecionando Diferentes Modelos\n",
        "\n",
        "Diferentes modelos criam fronteiras de decisão diferentes para os mesmos conjuntos de dados. Eles empregam critérios diferentes e, por isso, produzem classificações de modo diferente o que torna difícil você escolher empregar um modelo ou outro, muitas vezes, essa é a parte mais difícil de resolver um problema de aprendizado de máquina: *qual o estimador certo para empregar?* Não há um melhor estimador *apriori* para quaisquer dados e estimadores diferentes são mais adequados para diferentes tipos de dados e problemas. O `scikit-learn` fornece em https://scikit-learn.org/stable/tutorial/machine_learning_map/index.html um diagrama, e que fornecemos abaixo, que funciona como um guia, embora aproximado, de como abordar problemas com relação a quais estimadores empregar.\n",
        "\n",
        "![imagem](https://scikit-learn.org/stable/_static/ml_map.png)\n",
        "\n",
        "<small>\n",
        "<b>\n",
        "Figura 8. Diagrama do scikit-learn para seleção de modelos. <br></b>(Fonte: https://scikit-learn.org/)\n",
        "\n",
        "\n",
        "\n",
        "\n",
        "\n",
        "\n"
      ]
    },
    {
      "cell_type": "markdown",
      "metadata": {
        "id": "njVtqxtNM0VA"
      },
      "source": [
        "De qualquer modo uma abordagem comum e que você encontra em sistemas de *Auto ML*, consiste em adotarmos alguma métrica, como a acuracidade ou a precisão, para selecionar diferentes modelos, experimentando cada um deles, muito à exemplo do que fizemos na trilha anterior para a escolha dos melhores hiperparâmetros.\n",
        "\n",
        "Vamos adaptar então o código modelo final da trilha anterior para explorar agora, não só diferentes hiperparâmetros, mas diferentes estimadores. Afinal você já estudou aqui ao menos 4 estimadores para classificação e está na hora de você buscar escolher o melhor modelo dentre esses classificadores para um conjunto de dados de sua escolha. Vamos adionar ainda um quinto modelo, que você ainda não estudou, para que você entenda que você já pode explorar quaisquer modelos de classificação com o que aprendeu aqui.\n",
        "\n",
        "Abaixo os principais classificadores do `scikit-learn` e os que empregaremos, com (*), para seleção de um estimador para o nosso conjunto de dados *moons*:       \n",
        "\n",
        "```\n",
        "from sklearn.linear_model import LogisticRegression # (*)\n",
        "from sklearn.neighbors import KNeighborsClassifier # (*)\n",
        "from sklearn.tree import DecisionTreeClassifier # (*)\n",
        "from sklearn.model_selection import KFold\n",
        "from sklearn.model_selection import cross_val_score\n",
        "from sklearn.naive_bayes import GaussianNB\n",
        "from sklearn.tree import DecisionTreeClassifier\n",
        "from sklearn.svm import SVC\n",
        "from sklearn.neural_network import MLPClassifier\n",
        "from sklearn.ensemble import RandomForestClassifier\n",
        "from sklearn.ensemble import AdaBoostClassifier\n",
        "from sklearn.ensemble import GradientBoostingClassifier # (*)\n",
        "```\n",
        "\n"
      ]
    },
    {
      "cell_type": "code",
      "metadata": {
        "id": "gJnhfWGxg9OI",
        "colab": {
          "base_uri": "https://localhost:8080/",
          "height": 295
        },
        "outputId": "1c13add8-65ce-4db2-8ca6-e5edbb9ddd00"
      },
      "source": [
        "df = pd.read_csv('http://archive.ics.uci.edu/ml/machine-learning-databases/voting-records/house-votes-84.data',header=None,prefix='Vote_')\n",
        "df.rename(columns={'Vote_0':'class'},inplace=True)\n",
        "df.head()"
      ],
      "execution_count": 9,
      "outputs": [
        {
          "output_type": "stream",
          "name": "stderr",
          "text": [
            "<ipython-input-9-7274ab72e254>:1: FutureWarning: The prefix argument has been deprecated and will be removed in a future version. Use a list comprehension on the column names in the future.\n",
            "\n",
            "\n",
            "  df = pd.read_csv('http://archive.ics.uci.edu/ml/machine-learning-databases/voting-records/house-votes-84.data',header=None,prefix='Vote_')\n"
          ]
        },
        {
          "output_type": "execute_result",
          "data": {
            "text/plain": [
              "        class Vote_1 Vote_2 Vote_3 Vote_4 Vote_5 Vote_6 Vote_7 Vote_8 Vote_9  \\\n",
              "0  republican      n      y      n      y      y      y      n      n      n   \n",
              "1  republican      n      y      n      y      y      y      n      n      n   \n",
              "2    democrat      ?      y      y      ?      y      y      n      n      n   \n",
              "3    democrat      n      y      y      n      ?      y      n      n      n   \n",
              "4    democrat      y      y      y      n      y      y      n      n      n   \n",
              "\n",
              "  Vote_10 Vote_11 Vote_12 Vote_13 Vote_14 Vote_15 Vote_16  \n",
              "0       y       ?       y       y       y       n       y  \n",
              "1       n       n       y       y       y       n       ?  \n",
              "2       n       y       n       y       y       n       n  \n",
              "3       n       y       n       y       n       n       y  \n",
              "4       n       y       ?       y       y       y       y  "
            ],
            "text/html": [
              "\n",
              "  <div id=\"df-f9004232-d20f-4500-8dae-45bfab337738\" class=\"colab-df-container\">\n",
              "    <div>\n",
              "<style scoped>\n",
              "    .dataframe tbody tr th:only-of-type {\n",
              "        vertical-align: middle;\n",
              "    }\n",
              "\n",
              "    .dataframe tbody tr th {\n",
              "        vertical-align: top;\n",
              "    }\n",
              "\n",
              "    .dataframe thead th {\n",
              "        text-align: right;\n",
              "    }\n",
              "</style>\n",
              "<table border=\"1\" class=\"dataframe\">\n",
              "  <thead>\n",
              "    <tr style=\"text-align: right;\">\n",
              "      <th></th>\n",
              "      <th>class</th>\n",
              "      <th>Vote_1</th>\n",
              "      <th>Vote_2</th>\n",
              "      <th>Vote_3</th>\n",
              "      <th>Vote_4</th>\n",
              "      <th>Vote_5</th>\n",
              "      <th>Vote_6</th>\n",
              "      <th>Vote_7</th>\n",
              "      <th>Vote_8</th>\n",
              "      <th>Vote_9</th>\n",
              "      <th>Vote_10</th>\n",
              "      <th>Vote_11</th>\n",
              "      <th>Vote_12</th>\n",
              "      <th>Vote_13</th>\n",
              "      <th>Vote_14</th>\n",
              "      <th>Vote_15</th>\n",
              "      <th>Vote_16</th>\n",
              "    </tr>\n",
              "  </thead>\n",
              "  <tbody>\n",
              "    <tr>\n",
              "      <th>0</th>\n",
              "      <td>republican</td>\n",
              "      <td>n</td>\n",
              "      <td>y</td>\n",
              "      <td>n</td>\n",
              "      <td>y</td>\n",
              "      <td>y</td>\n",
              "      <td>y</td>\n",
              "      <td>n</td>\n",
              "      <td>n</td>\n",
              "      <td>n</td>\n",
              "      <td>y</td>\n",
              "      <td>?</td>\n",
              "      <td>y</td>\n",
              "      <td>y</td>\n",
              "      <td>y</td>\n",
              "      <td>n</td>\n",
              "      <td>y</td>\n",
              "    </tr>\n",
              "    <tr>\n",
              "      <th>1</th>\n",
              "      <td>republican</td>\n",
              "      <td>n</td>\n",
              "      <td>y</td>\n",
              "      <td>n</td>\n",
              "      <td>y</td>\n",
              "      <td>y</td>\n",
              "      <td>y</td>\n",
              "      <td>n</td>\n",
              "      <td>n</td>\n",
              "      <td>n</td>\n",
              "      <td>n</td>\n",
              "      <td>n</td>\n",
              "      <td>y</td>\n",
              "      <td>y</td>\n",
              "      <td>y</td>\n",
              "      <td>n</td>\n",
              "      <td>?</td>\n",
              "    </tr>\n",
              "    <tr>\n",
              "      <th>2</th>\n",
              "      <td>democrat</td>\n",
              "      <td>?</td>\n",
              "      <td>y</td>\n",
              "      <td>y</td>\n",
              "      <td>?</td>\n",
              "      <td>y</td>\n",
              "      <td>y</td>\n",
              "      <td>n</td>\n",
              "      <td>n</td>\n",
              "      <td>n</td>\n",
              "      <td>n</td>\n",
              "      <td>y</td>\n",
              "      <td>n</td>\n",
              "      <td>y</td>\n",
              "      <td>y</td>\n",
              "      <td>n</td>\n",
              "      <td>n</td>\n",
              "    </tr>\n",
              "    <tr>\n",
              "      <th>3</th>\n",
              "      <td>democrat</td>\n",
              "      <td>n</td>\n",
              "      <td>y</td>\n",
              "      <td>y</td>\n",
              "      <td>n</td>\n",
              "      <td>?</td>\n",
              "      <td>y</td>\n",
              "      <td>n</td>\n",
              "      <td>n</td>\n",
              "      <td>n</td>\n",
              "      <td>n</td>\n",
              "      <td>y</td>\n",
              "      <td>n</td>\n",
              "      <td>y</td>\n",
              "      <td>n</td>\n",
              "      <td>n</td>\n",
              "      <td>y</td>\n",
              "    </tr>\n",
              "    <tr>\n",
              "      <th>4</th>\n",
              "      <td>democrat</td>\n",
              "      <td>y</td>\n",
              "      <td>y</td>\n",
              "      <td>y</td>\n",
              "      <td>n</td>\n",
              "      <td>y</td>\n",
              "      <td>y</td>\n",
              "      <td>n</td>\n",
              "      <td>n</td>\n",
              "      <td>n</td>\n",
              "      <td>n</td>\n",
              "      <td>y</td>\n",
              "      <td>?</td>\n",
              "      <td>y</td>\n",
              "      <td>y</td>\n",
              "      <td>y</td>\n",
              "      <td>y</td>\n",
              "    </tr>\n",
              "  </tbody>\n",
              "</table>\n",
              "</div>\n",
              "    <div class=\"colab-df-buttons\">\n",
              "\n",
              "  <div class=\"colab-df-container\">\n",
              "    <button class=\"colab-df-convert\" onclick=\"convertToInteractive('df-f9004232-d20f-4500-8dae-45bfab337738')\"\n",
              "            title=\"Convert this dataframe to an interactive table.\"\n",
              "            style=\"display:none;\">\n",
              "\n",
              "  <svg xmlns=\"http://www.w3.org/2000/svg\" height=\"24px\" viewBox=\"0 -960 960 960\">\n",
              "    <path d=\"M120-120v-720h720v720H120Zm60-500h600v-160H180v160Zm220 220h160v-160H400v160Zm0 220h160v-160H400v160ZM180-400h160v-160H180v160Zm440 0h160v-160H620v160ZM180-180h160v-160H180v160Zm440 0h160v-160H620v160Z\"/>\n",
              "  </svg>\n",
              "    </button>\n",
              "\n",
              "  <style>\n",
              "    .colab-df-container {\n",
              "      display:flex;\n",
              "      gap: 12px;\n",
              "    }\n",
              "\n",
              "    .colab-df-convert {\n",
              "      background-color: #E8F0FE;\n",
              "      border: none;\n",
              "      border-radius: 50%;\n",
              "      cursor: pointer;\n",
              "      display: none;\n",
              "      fill: #1967D2;\n",
              "      height: 32px;\n",
              "      padding: 0 0 0 0;\n",
              "      width: 32px;\n",
              "    }\n",
              "\n",
              "    .colab-df-convert:hover {\n",
              "      background-color: #E2EBFA;\n",
              "      box-shadow: 0px 1px 2px rgba(60, 64, 67, 0.3), 0px 1px 3px 1px rgba(60, 64, 67, 0.15);\n",
              "      fill: #174EA6;\n",
              "    }\n",
              "\n",
              "    .colab-df-buttons div {\n",
              "      margin-bottom: 4px;\n",
              "    }\n",
              "\n",
              "    [theme=dark] .colab-df-convert {\n",
              "      background-color: #3B4455;\n",
              "      fill: #D2E3FC;\n",
              "    }\n",
              "\n",
              "    [theme=dark] .colab-df-convert:hover {\n",
              "      background-color: #434B5C;\n",
              "      box-shadow: 0px 1px 3px 1px rgba(0, 0, 0, 0.15);\n",
              "      filter: drop-shadow(0px 1px 2px rgba(0, 0, 0, 0.3));\n",
              "      fill: #FFFFFF;\n",
              "    }\n",
              "  </style>\n",
              "\n",
              "    <script>\n",
              "      const buttonEl =\n",
              "        document.querySelector('#df-f9004232-d20f-4500-8dae-45bfab337738 button.colab-df-convert');\n",
              "      buttonEl.style.display =\n",
              "        google.colab.kernel.accessAllowed ? 'block' : 'none';\n",
              "\n",
              "      async function convertToInteractive(key) {\n",
              "        const element = document.querySelector('#df-f9004232-d20f-4500-8dae-45bfab337738');\n",
              "        const dataTable =\n",
              "          await google.colab.kernel.invokeFunction('convertToInteractive',\n",
              "                                                    [key], {});\n",
              "        if (!dataTable) return;\n",
              "\n",
              "        const docLinkHtml = 'Like what you see? Visit the ' +\n",
              "          '<a target=\"_blank\" href=https://colab.research.google.com/notebooks/data_table.ipynb>data table notebook</a>'\n",
              "          + ' to learn more about interactive tables.';\n",
              "        element.innerHTML = '';\n",
              "        dataTable['output_type'] = 'display_data';\n",
              "        await google.colab.output.renderOutput(dataTable, element);\n",
              "        const docLink = document.createElement('div');\n",
              "        docLink.innerHTML = docLinkHtml;\n",
              "        element.appendChild(docLink);\n",
              "      }\n",
              "    </script>\n",
              "  </div>\n",
              "\n",
              "\n",
              "<div id=\"df-1c2e6c0c-10c8-43c0-8db4-5f1dc2c06fa6\">\n",
              "  <button class=\"colab-df-quickchart\" onclick=\"quickchart('df-1c2e6c0c-10c8-43c0-8db4-5f1dc2c06fa6')\"\n",
              "            title=\"Suggest charts.\"\n",
              "            style=\"display:none;\">\n",
              "\n",
              "<svg xmlns=\"http://www.w3.org/2000/svg\" height=\"24px\"viewBox=\"0 0 24 24\"\n",
              "     width=\"24px\">\n",
              "    <g>\n",
              "        <path d=\"M19 3H5c-1.1 0-2 .9-2 2v14c0 1.1.9 2 2 2h14c1.1 0 2-.9 2-2V5c0-1.1-.9-2-2-2zM9 17H7v-7h2v7zm4 0h-2V7h2v10zm4 0h-2v-4h2v4z\"/>\n",
              "    </g>\n",
              "</svg>\n",
              "  </button>\n",
              "\n",
              "<style>\n",
              "  .colab-df-quickchart {\n",
              "    background-color: #E8F0FE;\n",
              "    border: none;\n",
              "    border-radius: 50%;\n",
              "    cursor: pointer;\n",
              "    display: none;\n",
              "    fill: #1967D2;\n",
              "    height: 32px;\n",
              "    padding: 0 0 0 0;\n",
              "    width: 32px;\n",
              "  }\n",
              "\n",
              "  .colab-df-quickchart:hover {\n",
              "    background-color: #E2EBFA;\n",
              "    box-shadow: 0px 1px 2px rgba(60, 64, 67, 0.3), 0px 1px 3px 1px rgba(60, 64, 67, 0.15);\n",
              "    fill: #174EA6;\n",
              "  }\n",
              "\n",
              "  [theme=dark] .colab-df-quickchart {\n",
              "    background-color: #3B4455;\n",
              "    fill: #D2E3FC;\n",
              "  }\n",
              "\n",
              "  [theme=dark] .colab-df-quickchart:hover {\n",
              "    background-color: #434B5C;\n",
              "    box-shadow: 0px 1px 3px 1px rgba(0, 0, 0, 0.15);\n",
              "    filter: drop-shadow(0px 1px 2px rgba(0, 0, 0, 0.3));\n",
              "    fill: #FFFFFF;\n",
              "  }\n",
              "</style>\n",
              "\n",
              "  <script>\n",
              "    async function quickchart(key) {\n",
              "      const charts = await google.colab.kernel.invokeFunction(\n",
              "          'suggestCharts', [key], {});\n",
              "    }\n",
              "    (() => {\n",
              "      let quickchartButtonEl =\n",
              "        document.querySelector('#df-1c2e6c0c-10c8-43c0-8db4-5f1dc2c06fa6 button');\n",
              "      quickchartButtonEl.style.display =\n",
              "        google.colab.kernel.accessAllowed ? 'block' : 'none';\n",
              "    })();\n",
              "  </script>\n",
              "</div>\n",
              "    </div>\n",
              "  </div>\n"
            ]
          },
          "metadata": {},
          "execution_count": 9
        }
      ]
    },
    {
      "cell_type": "code",
      "metadata": {
        "colab": {
          "base_uri": "https://localhost:8080/"
        },
        "id": "0Vwpy_qERekW",
        "outputId": "6831c783-cc71-4e97-8ddd-b6fd54d68b86"
      },
      "source": [
        "df.shape"
      ],
      "execution_count": 10,
      "outputs": [
        {
          "output_type": "execute_result",
          "data": {
            "text/plain": [
              "(435, 17)"
            ]
          },
          "metadata": {},
          "execution_count": 10
        }
      ]
    },
    {
      "cell_type": "markdown",
      "metadata": {
        "id": "Zp2b3etoryDq"
      },
      "source": [
        "## Preparação dos Dados\n",
        "\n",
        "Não existem dados ausentes, mas as abstenções '?' são um grande número de casos. Vamos esperar que elas possam também ajudar a identificar o partido do congressista uma vez que isso parece ser mais uma informação importante do que exatamente ausência de informação."
      ]
    },
    {
      "cell_type": "code",
      "metadata": {
        "colab": {
          "base_uri": "https://localhost:8080/"
        },
        "id": "CSs8mDLPRSlv",
        "outputId": "e37beb25-ef5e-4485-cee6-bd46380dce53"
      },
      "source": [
        "df.isnull().sum().sum()"
      ],
      "execution_count": 11,
      "outputs": [
        {
          "output_type": "execute_result",
          "data": {
            "text/plain": [
              "0"
            ]
          },
          "metadata": {},
          "execution_count": 11
        }
      ]
    },
    {
      "cell_type": "code",
      "metadata": {
        "colab": {
          "base_uri": "https://localhost:8080/"
        },
        "id": "RnjnDtYsTSqB",
        "outputId": "81e0ebd3-eb43-498f-9c3e-5c87011b56af"
      },
      "source": [
        "(df == '?').sum()"
      ],
      "execution_count": 12,
      "outputs": [
        {
          "output_type": "execute_result",
          "data": {
            "text/plain": [
              "class        0\n",
              "Vote_1      12\n",
              "Vote_2      48\n",
              "Vote_3      11\n",
              "Vote_4      11\n",
              "Vote_5      15\n",
              "Vote_6      11\n",
              "Vote_7      14\n",
              "Vote_8      15\n",
              "Vote_9      22\n",
              "Vote_10      7\n",
              "Vote_11     21\n",
              "Vote_12     31\n",
              "Vote_13     25\n",
              "Vote_14     17\n",
              "Vote_15     28\n",
              "Vote_16    104\n",
              "dtype: int64"
            ]
          },
          "metadata": {},
          "execution_count": 12
        }
      ]
    },
    {
      "cell_type": "markdown",
      "metadata": {
        "id": "Pd-T6ICbSWgH"
      },
      "source": [
        "Agora precisamos fazer o encode dos dados. A rigor deveríamos fazer o hot encode, mas por simplicidade será suficiente aqui fazermos apenas o label encode do dados."
      ]
    },
    {
      "cell_type": "code",
      "metadata": {
        "colab": {
          "base_uri": "https://localhost:8080/",
          "height": 226
        },
        "id": "ez5xNF-ASU_D",
        "outputId": "b3f98507-33cc-4800-b9a1-6238fe847ee7"
      },
      "source": [
        "from sklearn.preprocessing import OneHotEncoder, LabelEncoder\n",
        "\n",
        "df_labels = df.drop(columns=['class']).apply(LabelEncoder().fit_transform)\n",
        "\n",
        "pd.concat([ df_labels, df[['class']] ], axis=1).head()"
      ],
      "execution_count": 13,
      "outputs": [
        {
          "output_type": "execute_result",
          "data": {
            "text/plain": [
              "   Vote_1  Vote_2  Vote_3  Vote_4  Vote_5  Vote_6  Vote_7  Vote_8  Vote_9  \\\n",
              "0       1       2       1       2       2       2       1       1       1   \n",
              "1       1       2       1       2       2       2       1       1       1   \n",
              "2       0       2       2       0       2       2       1       1       1   \n",
              "3       1       2       2       1       0       2       1       1       1   \n",
              "4       2       2       2       1       2       2       1       1       1   \n",
              "\n",
              "   Vote_10  Vote_11  Vote_12  Vote_13  Vote_14  Vote_15  Vote_16       class  \n",
              "0        2        0        2        2        2        1        2  republican  \n",
              "1        1        1        2        2        2        1        0  republican  \n",
              "2        1        2        1        2        2        1        1    democrat  \n",
              "3        1        2        1        2        1        1        2    democrat  \n",
              "4        1        2        0        2        2        2        2    democrat  "
            ],
            "text/html": [
              "\n",
              "  <div id=\"df-08d28a59-722c-4f56-91ec-3c69b896b5b7\" class=\"colab-df-container\">\n",
              "    <div>\n",
              "<style scoped>\n",
              "    .dataframe tbody tr th:only-of-type {\n",
              "        vertical-align: middle;\n",
              "    }\n",
              "\n",
              "    .dataframe tbody tr th {\n",
              "        vertical-align: top;\n",
              "    }\n",
              "\n",
              "    .dataframe thead th {\n",
              "        text-align: right;\n",
              "    }\n",
              "</style>\n",
              "<table border=\"1\" class=\"dataframe\">\n",
              "  <thead>\n",
              "    <tr style=\"text-align: right;\">\n",
              "      <th></th>\n",
              "      <th>Vote_1</th>\n",
              "      <th>Vote_2</th>\n",
              "      <th>Vote_3</th>\n",
              "      <th>Vote_4</th>\n",
              "      <th>Vote_5</th>\n",
              "      <th>Vote_6</th>\n",
              "      <th>Vote_7</th>\n",
              "      <th>Vote_8</th>\n",
              "      <th>Vote_9</th>\n",
              "      <th>Vote_10</th>\n",
              "      <th>Vote_11</th>\n",
              "      <th>Vote_12</th>\n",
              "      <th>Vote_13</th>\n",
              "      <th>Vote_14</th>\n",
              "      <th>Vote_15</th>\n",
              "      <th>Vote_16</th>\n",
              "      <th>class</th>\n",
              "    </tr>\n",
              "  </thead>\n",
              "  <tbody>\n",
              "    <tr>\n",
              "      <th>0</th>\n",
              "      <td>1</td>\n",
              "      <td>2</td>\n",
              "      <td>1</td>\n",
              "      <td>2</td>\n",
              "      <td>2</td>\n",
              "      <td>2</td>\n",
              "      <td>1</td>\n",
              "      <td>1</td>\n",
              "      <td>1</td>\n",
              "      <td>2</td>\n",
              "      <td>0</td>\n",
              "      <td>2</td>\n",
              "      <td>2</td>\n",
              "      <td>2</td>\n",
              "      <td>1</td>\n",
              "      <td>2</td>\n",
              "      <td>republican</td>\n",
              "    </tr>\n",
              "    <tr>\n",
              "      <th>1</th>\n",
              "      <td>1</td>\n",
              "      <td>2</td>\n",
              "      <td>1</td>\n",
              "      <td>2</td>\n",
              "      <td>2</td>\n",
              "      <td>2</td>\n",
              "      <td>1</td>\n",
              "      <td>1</td>\n",
              "      <td>1</td>\n",
              "      <td>1</td>\n",
              "      <td>1</td>\n",
              "      <td>2</td>\n",
              "      <td>2</td>\n",
              "      <td>2</td>\n",
              "      <td>1</td>\n",
              "      <td>0</td>\n",
              "      <td>republican</td>\n",
              "    </tr>\n",
              "    <tr>\n",
              "      <th>2</th>\n",
              "      <td>0</td>\n",
              "      <td>2</td>\n",
              "      <td>2</td>\n",
              "      <td>0</td>\n",
              "      <td>2</td>\n",
              "      <td>2</td>\n",
              "      <td>1</td>\n",
              "      <td>1</td>\n",
              "      <td>1</td>\n",
              "      <td>1</td>\n",
              "      <td>2</td>\n",
              "      <td>1</td>\n",
              "      <td>2</td>\n",
              "      <td>2</td>\n",
              "      <td>1</td>\n",
              "      <td>1</td>\n",
              "      <td>democrat</td>\n",
              "    </tr>\n",
              "    <tr>\n",
              "      <th>3</th>\n",
              "      <td>1</td>\n",
              "      <td>2</td>\n",
              "      <td>2</td>\n",
              "      <td>1</td>\n",
              "      <td>0</td>\n",
              "      <td>2</td>\n",
              "      <td>1</td>\n",
              "      <td>1</td>\n",
              "      <td>1</td>\n",
              "      <td>1</td>\n",
              "      <td>2</td>\n",
              "      <td>1</td>\n",
              "      <td>2</td>\n",
              "      <td>1</td>\n",
              "      <td>1</td>\n",
              "      <td>2</td>\n",
              "      <td>democrat</td>\n",
              "    </tr>\n",
              "    <tr>\n",
              "      <th>4</th>\n",
              "      <td>2</td>\n",
              "      <td>2</td>\n",
              "      <td>2</td>\n",
              "      <td>1</td>\n",
              "      <td>2</td>\n",
              "      <td>2</td>\n",
              "      <td>1</td>\n",
              "      <td>1</td>\n",
              "      <td>1</td>\n",
              "      <td>1</td>\n",
              "      <td>2</td>\n",
              "      <td>0</td>\n",
              "      <td>2</td>\n",
              "      <td>2</td>\n",
              "      <td>2</td>\n",
              "      <td>2</td>\n",
              "      <td>democrat</td>\n",
              "    </tr>\n",
              "  </tbody>\n",
              "</table>\n",
              "</div>\n",
              "    <div class=\"colab-df-buttons\">\n",
              "\n",
              "  <div class=\"colab-df-container\">\n",
              "    <button class=\"colab-df-convert\" onclick=\"convertToInteractive('df-08d28a59-722c-4f56-91ec-3c69b896b5b7')\"\n",
              "            title=\"Convert this dataframe to an interactive table.\"\n",
              "            style=\"display:none;\">\n",
              "\n",
              "  <svg xmlns=\"http://www.w3.org/2000/svg\" height=\"24px\" viewBox=\"0 -960 960 960\">\n",
              "    <path d=\"M120-120v-720h720v720H120Zm60-500h600v-160H180v160Zm220 220h160v-160H400v160Zm0 220h160v-160H400v160ZM180-400h160v-160H180v160Zm440 0h160v-160H620v160ZM180-180h160v-160H180v160Zm440 0h160v-160H620v160Z\"/>\n",
              "  </svg>\n",
              "    </button>\n",
              "\n",
              "  <style>\n",
              "    .colab-df-container {\n",
              "      display:flex;\n",
              "      gap: 12px;\n",
              "    }\n",
              "\n",
              "    .colab-df-convert {\n",
              "      background-color: #E8F0FE;\n",
              "      border: none;\n",
              "      border-radius: 50%;\n",
              "      cursor: pointer;\n",
              "      display: none;\n",
              "      fill: #1967D2;\n",
              "      height: 32px;\n",
              "      padding: 0 0 0 0;\n",
              "      width: 32px;\n",
              "    }\n",
              "\n",
              "    .colab-df-convert:hover {\n",
              "      background-color: #E2EBFA;\n",
              "      box-shadow: 0px 1px 2px rgba(60, 64, 67, 0.3), 0px 1px 3px 1px rgba(60, 64, 67, 0.15);\n",
              "      fill: #174EA6;\n",
              "    }\n",
              "\n",
              "    .colab-df-buttons div {\n",
              "      margin-bottom: 4px;\n",
              "    }\n",
              "\n",
              "    [theme=dark] .colab-df-convert {\n",
              "      background-color: #3B4455;\n",
              "      fill: #D2E3FC;\n",
              "    }\n",
              "\n",
              "    [theme=dark] .colab-df-convert:hover {\n",
              "      background-color: #434B5C;\n",
              "      box-shadow: 0px 1px 3px 1px rgba(0, 0, 0, 0.15);\n",
              "      filter: drop-shadow(0px 1px 2px rgba(0, 0, 0, 0.3));\n",
              "      fill: #FFFFFF;\n",
              "    }\n",
              "  </style>\n",
              "\n",
              "    <script>\n",
              "      const buttonEl =\n",
              "        document.querySelector('#df-08d28a59-722c-4f56-91ec-3c69b896b5b7 button.colab-df-convert');\n",
              "      buttonEl.style.display =\n",
              "        google.colab.kernel.accessAllowed ? 'block' : 'none';\n",
              "\n",
              "      async function convertToInteractive(key) {\n",
              "        const element = document.querySelector('#df-08d28a59-722c-4f56-91ec-3c69b896b5b7');\n",
              "        const dataTable =\n",
              "          await google.colab.kernel.invokeFunction('convertToInteractive',\n",
              "                                                    [key], {});\n",
              "        if (!dataTable) return;\n",
              "\n",
              "        const docLinkHtml = 'Like what you see? Visit the ' +\n",
              "          '<a target=\"_blank\" href=https://colab.research.google.com/notebooks/data_table.ipynb>data table notebook</a>'\n",
              "          + ' to learn more about interactive tables.';\n",
              "        element.innerHTML = '';\n",
              "        dataTable['output_type'] = 'display_data';\n",
              "        await google.colab.output.renderOutput(dataTable, element);\n",
              "        const docLink = document.createElement('div');\n",
              "        docLink.innerHTML = docLinkHtml;\n",
              "        element.appendChild(docLink);\n",
              "      }\n",
              "    </script>\n",
              "  </div>\n",
              "\n",
              "\n",
              "<div id=\"df-10c908af-a962-4788-9def-b23a0a372f55\">\n",
              "  <button class=\"colab-df-quickchart\" onclick=\"quickchart('df-10c908af-a962-4788-9def-b23a0a372f55')\"\n",
              "            title=\"Suggest charts.\"\n",
              "            style=\"display:none;\">\n",
              "\n",
              "<svg xmlns=\"http://www.w3.org/2000/svg\" height=\"24px\"viewBox=\"0 0 24 24\"\n",
              "     width=\"24px\">\n",
              "    <g>\n",
              "        <path d=\"M19 3H5c-1.1 0-2 .9-2 2v14c0 1.1.9 2 2 2h14c1.1 0 2-.9 2-2V5c0-1.1-.9-2-2-2zM9 17H7v-7h2v7zm4 0h-2V7h2v10zm4 0h-2v-4h2v4z\"/>\n",
              "    </g>\n",
              "</svg>\n",
              "  </button>\n",
              "\n",
              "<style>\n",
              "  .colab-df-quickchart {\n",
              "    background-color: #E8F0FE;\n",
              "    border: none;\n",
              "    border-radius: 50%;\n",
              "    cursor: pointer;\n",
              "    display: none;\n",
              "    fill: #1967D2;\n",
              "    height: 32px;\n",
              "    padding: 0 0 0 0;\n",
              "    width: 32px;\n",
              "  }\n",
              "\n",
              "  .colab-df-quickchart:hover {\n",
              "    background-color: #E2EBFA;\n",
              "    box-shadow: 0px 1px 2px rgba(60, 64, 67, 0.3), 0px 1px 3px 1px rgba(60, 64, 67, 0.15);\n",
              "    fill: #174EA6;\n",
              "  }\n",
              "\n",
              "  [theme=dark] .colab-df-quickchart {\n",
              "    background-color: #3B4455;\n",
              "    fill: #D2E3FC;\n",
              "  }\n",
              "\n",
              "  [theme=dark] .colab-df-quickchart:hover {\n",
              "    background-color: #434B5C;\n",
              "    box-shadow: 0px 1px 3px 1px rgba(0, 0, 0, 0.15);\n",
              "    filter: drop-shadow(0px 1px 2px rgba(0, 0, 0, 0.3));\n",
              "    fill: #FFFFFF;\n",
              "  }\n",
              "</style>\n",
              "\n",
              "  <script>\n",
              "    async function quickchart(key) {\n",
              "      const charts = await google.colab.kernel.invokeFunction(\n",
              "          'suggestCharts', [key], {});\n",
              "    }\n",
              "    (() => {\n",
              "      let quickchartButtonEl =\n",
              "        document.querySelector('#df-10c908af-a962-4788-9def-b23a0a372f55 button');\n",
              "      quickchartButtonEl.style.display =\n",
              "        google.colab.kernel.accessAllowed ? 'block' : 'none';\n",
              "    })();\n",
              "  </script>\n",
              "</div>\n",
              "    </div>\n",
              "  </div>\n"
            ]
          },
          "metadata": {},
          "execution_count": 13
        }
      ]
    },
    {
      "cell_type": "markdown",
      "metadata": {
        "id": "7s9pgzpu9YBG"
      },
      "source": [
        "Antes de testarmos diferentes classificadores vamos aplicar um modelo básico para verificar o formato dos dados para aplicação do modelo."
      ]
    },
    {
      "cell_type": "code",
      "metadata": {
        "colab": {
          "base_uri": "https://localhost:8080/"
        },
        "id": "0y5DheBgSU_D",
        "outputId": "e04f0875-d329-4884-feee-0090eeefa948"
      },
      "source": [
        "from sklearn.tree import DecisionTreeClassifier\n",
        "from sklearn.model_selection import train_test_split\n",
        "from sklearn import neighbors\n",
        "from sklearn.metrics import classification_report\n",
        "\n",
        "X = df_labels\n",
        "y = df['class']\n",
        "\n",
        "X_train, X_test, y_train, y_test = train_test_split(X, y, stratify=y, test_size=0.3, random_state=123)\n",
        "\n",
        "clf = DecisionTreeClassifier()\n",
        "\n",
        "clf.fit(X_train,y_train)\n",
        "\n",
        "y_pred = clf.predict(X_test)\n",
        "\n",
        "accuracy = clf.score(X_test, y_test)\n",
        "print('\\nScore de Acuracidade (2):\\n')\n",
        "print(f'{accuracy:.2f}')\n",
        "\n",
        "print('\\nClassification Report:\\n')\n",
        "print(classification_report(y_test, y_pred))\n"
      ],
      "execution_count": 14,
      "outputs": [
        {
          "output_type": "stream",
          "name": "stdout",
          "text": [
            "\n",
            "Score de Acuracidade (2):\n",
            "\n",
            "0.92\n",
            "\n",
            "Classification Report:\n",
            "\n",
            "              precision    recall  f1-score   support\n",
            "\n",
            "    democrat       0.91      0.97      0.94        80\n",
            "  republican       0.96      0.84      0.90        51\n",
            "\n",
            "    accuracy                           0.92       131\n",
            "   macro avg       0.93      0.91      0.92       131\n",
            "weighted avg       0.93      0.92      0.92       131\n",
            "\n"
          ]
        }
      ]
    },
    {
      "cell_type": "markdown",
      "metadata": {
        "id": "SRGCiRV09qzt"
      },
      "source": [
        "Parece tudo certo e podemos ainda verificar a árvore produzida neste treinamento."
      ]
    },
    {
      "cell_type": "code",
      "metadata": {
        "colab": {
          "base_uri": "https://localhost:8080/",
          "height": 1000
        },
        "id": "P29JgD6ASU_D",
        "outputId": "afd81bd7-4cc1-4b19-bac7-86c8258c1a5e"
      },
      "source": [
        "import graphviz\n",
        "dot_data = tree.export_graphviz(clf, out_file=None,\n",
        "                     feature_names=list(df_labels.columns.values),\n",
        "                     class_names=list(sorted(df['class'].unique())),\n",
        "                     filled=True, rounded=True,\n",
        "                     special_characters=False,\n",
        "                     proportion=False, impurity=False, node_ids=False,label=None)\n",
        "graph = graphviz.Source(dot_data)\n",
        "graph.render('graph_democratic') # para gravação em .pdf\n",
        "graph"
      ],
      "execution_count": 15,
      "outputs": [
        {
          "output_type": "execute_result",
          "data": {
            "image/svg+xml": "<?xml version=\"1.0\" encoding=\"UTF-8\" standalone=\"no\"?>\n<!DOCTYPE svg PUBLIC \"-//W3C//DTD SVG 1.1//EN\"\n \"http://www.w3.org/Graphics/SVG/1.1/DTD/svg11.dtd\">\n<!-- Generated by graphviz version 2.43.0 (0)\n -->\n<!-- Title: Tree Pages: 1 -->\n<svg width=\"1126pt\" height=\"789pt\"\n viewBox=\"0.00 0.00 1125.50 789.00\" xmlns=\"http://www.w3.org/2000/svg\" xmlns:xlink=\"http://www.w3.org/1999/xlink\">\n<g id=\"graph0\" class=\"graph\" transform=\"scale(1 1) rotate(0) translate(4 785)\">\n<title>Tree</title>\n<polygon fill=\"white\" stroke=\"transparent\" points=\"-4,4 -4,-785 1121.5,-785 1121.5,4 -4,4\"/>\n<!-- 0 -->\n<g id=\"node1\" class=\"node\">\n<title>0</title>\n<path fill=\"#f5d0b5\" stroke=\"black\" d=\"M440.5,-781C440.5,-781 363.5,-781 363.5,-781 357.5,-781 351.5,-775 351.5,-769 351.5,-769 351.5,-725 351.5,-725 351.5,-719 357.5,-713 363.5,-713 363.5,-713 440.5,-713 440.5,-713 446.5,-713 452.5,-719 452.5,-725 452.5,-725 452.5,-769 452.5,-769 452.5,-775 446.5,-781 440.5,-781\"/>\n<text text-anchor=\"middle\" x=\"402\" y=\"-765.8\" font-family=\"Helvetica,sans-Serif\" font-size=\"14.00\">Vote_4 &lt;= 1.5</text>\n<text text-anchor=\"middle\" x=\"402\" y=\"-750.8\" font-family=\"Helvetica,sans-Serif\" font-size=\"14.00\">304</text>\n<text text-anchor=\"middle\" x=\"402\" y=\"-735.8\" font-family=\"Helvetica,sans-Serif\" font-size=\"14.00\">[187, 117]</text>\n<text text-anchor=\"middle\" x=\"402\" y=\"-720.8\" font-family=\"Helvetica,sans-Serif\" font-size=\"14.00\">democrat</text>\n</g>\n<!-- 1 -->\n<g id=\"node2\" class=\"node\">\n<title>1</title>\n<path fill=\"#e5823a\" stroke=\"black\" d=\"M320.5,-677C320.5,-677 243.5,-677 243.5,-677 237.5,-677 231.5,-671 231.5,-665 231.5,-665 231.5,-621 231.5,-621 231.5,-615 237.5,-609 243.5,-609 243.5,-609 320.5,-609 320.5,-609 326.5,-609 332.5,-615 332.5,-621 332.5,-621 332.5,-665 332.5,-665 332.5,-671 326.5,-677 320.5,-677\"/>\n<text text-anchor=\"middle\" x=\"282\" y=\"-661.8\" font-family=\"Helvetica,sans-Serif\" font-size=\"14.00\">Vote_3 &lt;= 1.5</text>\n<text text-anchor=\"middle\" x=\"282\" y=\"-646.8\" font-family=\"Helvetica,sans-Serif\" font-size=\"14.00\">177</text>\n<text text-anchor=\"middle\" x=\"282\" y=\"-631.8\" font-family=\"Helvetica,sans-Serif\" font-size=\"14.00\">[176, 1]</text>\n<text text-anchor=\"middle\" x=\"282\" y=\"-616.8\" font-family=\"Helvetica,sans-Serif\" font-size=\"14.00\">democrat</text>\n</g>\n<!-- 0&#45;&gt;1 -->\n<g id=\"edge1\" class=\"edge\">\n<title>0&#45;&gt;1</title>\n<path fill=\"none\" stroke=\"black\" d=\"M363.04,-712.88C352.14,-703.62 340.18,-693.45 328.88,-683.85\"/>\n<polygon fill=\"black\" stroke=\"black\" points=\"331.06,-681.11 321.18,-677.3 326.53,-686.44 331.06,-681.11\"/>\n<text text-anchor=\"middle\" x=\"323.2\" y=\"-698.52\" font-family=\"Helvetica,sans-Serif\" font-size=\"14.00\">True</text>\n</g>\n<!-- 10 -->\n<g id=\"node11\" class=\"node\">\n<title>10</title>\n<path fill=\"#4ca6e7\" stroke=\"black\" d=\"M477.5,-677C477.5,-677 392.5,-677 392.5,-677 386.5,-677 380.5,-671 380.5,-665 380.5,-665 380.5,-621 380.5,-621 380.5,-615 386.5,-609 392.5,-609 392.5,-609 477.5,-609 477.5,-609 483.5,-609 489.5,-615 489.5,-621 489.5,-621 489.5,-665 489.5,-665 489.5,-671 483.5,-677 477.5,-677\"/>\n<text text-anchor=\"middle\" x=\"435\" y=\"-661.8\" font-family=\"Helvetica,sans-Serif\" font-size=\"14.00\">Vote_11 &lt;= 1.5</text>\n<text text-anchor=\"middle\" x=\"435\" y=\"-646.8\" font-family=\"Helvetica,sans-Serif\" font-size=\"14.00\">127</text>\n<text text-anchor=\"middle\" x=\"435\" y=\"-631.8\" font-family=\"Helvetica,sans-Serif\" font-size=\"14.00\">[11, 116]</text>\n<text text-anchor=\"middle\" x=\"435\" y=\"-616.8\" font-family=\"Helvetica,sans-Serif\" font-size=\"14.00\">republican</text>\n</g>\n<!-- 0&#45;&gt;10 -->\n<g id=\"edge10\" class=\"edge\">\n<title>0&#45;&gt;10</title>\n<path fill=\"none\" stroke=\"black\" d=\"M412.71,-712.88C415.39,-704.6 418.31,-695.6 421.12,-686.91\"/>\n<polygon fill=\"black\" stroke=\"black\" points=\"424.48,-687.89 424.23,-677.3 417.82,-685.74 424.48,-687.89\"/>\n<text text-anchor=\"middle\" x=\"435.6\" y=\"-695.86\" font-family=\"Helvetica,sans-Serif\" font-size=\"14.00\">False</text>\n</g>\n<!-- 2 -->\n<g id=\"node3\" class=\"node\">\n<title>2</title>\n<path fill=\"#e68742\" stroke=\"black\" d=\"M185.5,-573C185.5,-573 108.5,-573 108.5,-573 102.5,-573 96.5,-567 96.5,-561 96.5,-561 96.5,-517 96.5,-517 96.5,-511 102.5,-505 108.5,-505 108.5,-505 185.5,-505 185.5,-505 191.5,-505 197.5,-511 197.5,-517 197.5,-517 197.5,-561 197.5,-561 197.5,-567 191.5,-573 185.5,-573\"/>\n<text text-anchor=\"middle\" x=\"147\" y=\"-557.8\" font-family=\"Helvetica,sans-Serif\" font-size=\"14.00\">Vote_1 &lt;= 1.5</text>\n<text text-anchor=\"middle\" x=\"147\" y=\"-542.8\" font-family=\"Helvetica,sans-Serif\" font-size=\"14.00\">23</text>\n<text text-anchor=\"middle\" x=\"147\" y=\"-527.8\" font-family=\"Helvetica,sans-Serif\" font-size=\"14.00\">[22, 1]</text>\n<text text-anchor=\"middle\" x=\"147\" y=\"-512.8\" font-family=\"Helvetica,sans-Serif\" font-size=\"14.00\">democrat</text>\n</g>\n<!-- 1&#45;&gt;2 -->\n<g id=\"edge2\" class=\"edge\">\n<title>1&#45;&gt;2</title>\n<path fill=\"none\" stroke=\"black\" d=\"M238.17,-608.88C225.79,-599.53 212.2,-589.26 199.37,-579.57\"/>\n<polygon fill=\"black\" stroke=\"black\" points=\"201.16,-576.54 191.07,-573.3 196.94,-582.12 201.16,-576.54\"/>\n</g>\n<!-- 9 -->\n<g id=\"node10\" class=\"node\">\n<title>9</title>\n<path fill=\"#e58139\" stroke=\"black\" d=\"M307,-565.5C307,-565.5 257,-565.5 257,-565.5 251,-565.5 245,-559.5 245,-553.5 245,-553.5 245,-524.5 245,-524.5 245,-518.5 251,-512.5 257,-512.5 257,-512.5 307,-512.5 307,-512.5 313,-512.5 319,-518.5 319,-524.5 319,-524.5 319,-553.5 319,-553.5 319,-559.5 313,-565.5 307,-565.5\"/>\n<text text-anchor=\"middle\" x=\"282\" y=\"-550.3\" font-family=\"Helvetica,sans-Serif\" font-size=\"14.00\">154</text>\n<text text-anchor=\"middle\" x=\"282\" y=\"-535.3\" font-family=\"Helvetica,sans-Serif\" font-size=\"14.00\">[154, 0]</text>\n<text text-anchor=\"middle\" x=\"282\" y=\"-520.3\" font-family=\"Helvetica,sans-Serif\" font-size=\"14.00\">democrat</text>\n</g>\n<!-- 1&#45;&gt;9 -->\n<g id=\"edge9\" class=\"edge\">\n<title>1&#45;&gt;9</title>\n<path fill=\"none\" stroke=\"black\" d=\"M282,-608.88C282,-598.33 282,-586.6 282,-575.85\"/>\n<polygon fill=\"black\" stroke=\"black\" points=\"285.5,-575.52 282,-565.52 278.5,-575.52 285.5,-575.52\"/>\n</g>\n<!-- 3 -->\n<g id=\"node4\" class=\"node\">\n<title>3</title>\n<path fill=\"#e58139\" stroke=\"black\" d=\"M66,-461.5C66,-461.5 16,-461.5 16,-461.5 10,-461.5 4,-455.5 4,-449.5 4,-449.5 4,-420.5 4,-420.5 4,-414.5 10,-408.5 16,-408.5 16,-408.5 66,-408.5 66,-408.5 72,-408.5 78,-414.5 78,-420.5 78,-420.5 78,-449.5 78,-449.5 78,-455.5 72,-461.5 66,-461.5\"/>\n<text text-anchor=\"middle\" x=\"41\" y=\"-446.3\" font-family=\"Helvetica,sans-Serif\" font-size=\"14.00\">15</text>\n<text text-anchor=\"middle\" x=\"41\" y=\"-431.3\" font-family=\"Helvetica,sans-Serif\" font-size=\"14.00\">[15, 0]</text>\n<text text-anchor=\"middle\" x=\"41\" y=\"-416.3\" font-family=\"Helvetica,sans-Serif\" font-size=\"14.00\">democrat</text>\n</g>\n<!-- 2&#45;&gt;3 -->\n<g id=\"edge3\" class=\"edge\">\n<title>2&#45;&gt;3</title>\n<path fill=\"none\" stroke=\"black\" d=\"M112.58,-504.88C100.47,-493.23 86.87,-480.14 74.81,-468.53\"/>\n<polygon fill=\"black\" stroke=\"black\" points=\"77.15,-465.93 67.52,-461.52 72.3,-470.98 77.15,-465.93\"/>\n</g>\n<!-- 4 -->\n<g id=\"node5\" class=\"node\">\n<title>4</title>\n<path fill=\"#e99355\" stroke=\"black\" d=\"M185.5,-469C185.5,-469 108.5,-469 108.5,-469 102.5,-469 96.5,-463 96.5,-457 96.5,-457 96.5,-413 96.5,-413 96.5,-407 102.5,-401 108.5,-401 108.5,-401 185.5,-401 185.5,-401 191.5,-401 197.5,-407 197.5,-413 197.5,-413 197.5,-457 197.5,-457 197.5,-463 191.5,-469 185.5,-469\"/>\n<text text-anchor=\"middle\" x=\"147\" y=\"-453.8\" font-family=\"Helvetica,sans-Serif\" font-size=\"14.00\">Vote_9 &lt;= 1.5</text>\n<text text-anchor=\"middle\" x=\"147\" y=\"-438.8\" font-family=\"Helvetica,sans-Serif\" font-size=\"14.00\">8</text>\n<text text-anchor=\"middle\" x=\"147\" y=\"-423.8\" font-family=\"Helvetica,sans-Serif\" font-size=\"14.00\">[7, 1]</text>\n<text text-anchor=\"middle\" x=\"147\" y=\"-408.8\" font-family=\"Helvetica,sans-Serif\" font-size=\"14.00\">democrat</text>\n</g>\n<!-- 2&#45;&gt;4 -->\n<g id=\"edge4\" class=\"edge\">\n<title>2&#45;&gt;4</title>\n<path fill=\"none\" stroke=\"black\" d=\"M147,-504.88C147,-496.78 147,-487.98 147,-479.47\"/>\n<polygon fill=\"black\" stroke=\"black\" points=\"150.5,-479.3 147,-469.3 143.5,-479.3 150.5,-479.3\"/>\n</g>\n<!-- 5 -->\n<g id=\"node6\" class=\"node\">\n<title>5</title>\n<path fill=\"#e58139\" stroke=\"black\" d=\"M62,-357.5C62,-357.5 12,-357.5 12,-357.5 6,-357.5 0,-351.5 0,-345.5 0,-345.5 0,-316.5 0,-316.5 0,-310.5 6,-304.5 12,-304.5 12,-304.5 62,-304.5 62,-304.5 68,-304.5 74,-310.5 74,-316.5 74,-316.5 74,-345.5 74,-345.5 74,-351.5 68,-357.5 62,-357.5\"/>\n<text text-anchor=\"middle\" x=\"37\" y=\"-342.3\" font-family=\"Helvetica,sans-Serif\" font-size=\"14.00\">5</text>\n<text text-anchor=\"middle\" x=\"37\" y=\"-327.3\" font-family=\"Helvetica,sans-Serif\" font-size=\"14.00\">[5, 0]</text>\n<text text-anchor=\"middle\" x=\"37\" y=\"-312.3\" font-family=\"Helvetica,sans-Serif\" font-size=\"14.00\">democrat</text>\n</g>\n<!-- 4&#45;&gt;5 -->\n<g id=\"edge5\" class=\"edge\">\n<title>4&#45;&gt;5</title>\n<path fill=\"none\" stroke=\"black\" d=\"M111.29,-400.88C98.71,-389.23 84.6,-376.14 72.08,-364.53\"/>\n<polygon fill=\"black\" stroke=\"black\" points=\"74.23,-361.75 64.52,-357.52 69.47,-366.89 74.23,-361.75\"/>\n</g>\n<!-- 6 -->\n<g id=\"node7\" class=\"node\">\n<title>6</title>\n<path fill=\"#f2c09c\" stroke=\"black\" d=\"M189.5,-365C189.5,-365 104.5,-365 104.5,-365 98.5,-365 92.5,-359 92.5,-353 92.5,-353 92.5,-309 92.5,-309 92.5,-303 98.5,-297 104.5,-297 104.5,-297 189.5,-297 189.5,-297 195.5,-297 201.5,-303 201.5,-309 201.5,-309 201.5,-353 201.5,-353 201.5,-359 195.5,-365 189.5,-365\"/>\n<text text-anchor=\"middle\" x=\"147\" y=\"-349.8\" font-family=\"Helvetica,sans-Serif\" font-size=\"14.00\">Vote_15 &lt;= 1.5</text>\n<text text-anchor=\"middle\" x=\"147\" y=\"-334.8\" font-family=\"Helvetica,sans-Serif\" font-size=\"14.00\">3</text>\n<text text-anchor=\"middle\" x=\"147\" y=\"-319.8\" font-family=\"Helvetica,sans-Serif\" font-size=\"14.00\">[2, 1]</text>\n<text text-anchor=\"middle\" x=\"147\" y=\"-304.8\" font-family=\"Helvetica,sans-Serif\" font-size=\"14.00\">democrat</text>\n</g>\n<!-- 4&#45;&gt;6 -->\n<g id=\"edge6\" class=\"edge\">\n<title>4&#45;&gt;6</title>\n<path fill=\"none\" stroke=\"black\" d=\"M147,-400.88C147,-392.78 147,-383.98 147,-375.47\"/>\n<polygon fill=\"black\" stroke=\"black\" points=\"150.5,-375.3 147,-365.3 143.5,-375.3 150.5,-375.3\"/>\n</g>\n<!-- 7 -->\n<g id=\"node8\" class=\"node\">\n<title>7</title>\n<path fill=\"#399de5\" stroke=\"black\" d=\"M92.5,-253.5C92.5,-253.5 37.5,-253.5 37.5,-253.5 31.5,-253.5 25.5,-247.5 25.5,-241.5 25.5,-241.5 25.5,-212.5 25.5,-212.5 25.5,-206.5 31.5,-200.5 37.5,-200.5 37.5,-200.5 92.5,-200.5 92.5,-200.5 98.5,-200.5 104.5,-206.5 104.5,-212.5 104.5,-212.5 104.5,-241.5 104.5,-241.5 104.5,-247.5 98.5,-253.5 92.5,-253.5\"/>\n<text text-anchor=\"middle\" x=\"65\" y=\"-238.3\" font-family=\"Helvetica,sans-Serif\" font-size=\"14.00\">1</text>\n<text text-anchor=\"middle\" x=\"65\" y=\"-223.3\" font-family=\"Helvetica,sans-Serif\" font-size=\"14.00\">[0, 1]</text>\n<text text-anchor=\"middle\" x=\"65\" y=\"-208.3\" font-family=\"Helvetica,sans-Serif\" font-size=\"14.00\">republican</text>\n</g>\n<!-- 6&#45;&gt;7 -->\n<g id=\"edge7\" class=\"edge\">\n<title>6&#45;&gt;7</title>\n<path fill=\"none\" stroke=\"black\" d=\"M120.38,-296.88C111.27,-285.56 101.08,-272.88 91.95,-261.52\"/>\n<polygon fill=\"black\" stroke=\"black\" points=\"94.51,-259.12 85.52,-253.52 89.05,-263.51 94.51,-259.12\"/>\n</g>\n<!-- 8 -->\n<g id=\"node9\" class=\"node\">\n<title>8</title>\n<path fill=\"#e58139\" stroke=\"black\" d=\"M185,-253.5C185,-253.5 135,-253.5 135,-253.5 129,-253.5 123,-247.5 123,-241.5 123,-241.5 123,-212.5 123,-212.5 123,-206.5 129,-200.5 135,-200.5 135,-200.5 185,-200.5 185,-200.5 191,-200.5 197,-206.5 197,-212.5 197,-212.5 197,-241.5 197,-241.5 197,-247.5 191,-253.5 185,-253.5\"/>\n<text text-anchor=\"middle\" x=\"160\" y=\"-238.3\" font-family=\"Helvetica,sans-Serif\" font-size=\"14.00\">2</text>\n<text text-anchor=\"middle\" x=\"160\" y=\"-223.3\" font-family=\"Helvetica,sans-Serif\" font-size=\"14.00\">[2, 0]</text>\n<text text-anchor=\"middle\" x=\"160\" y=\"-208.3\" font-family=\"Helvetica,sans-Serif\" font-size=\"14.00\">democrat</text>\n</g>\n<!-- 6&#45;&gt;8 -->\n<g id=\"edge8\" class=\"edge\">\n<title>6&#45;&gt;8</title>\n<path fill=\"none\" stroke=\"black\" d=\"M151.22,-296.88C152.58,-286.22 154.09,-274.35 155.47,-263.52\"/>\n<polygon fill=\"black\" stroke=\"black\" points=\"158.96,-263.88 156.75,-253.52 152.01,-263 158.96,-263.88\"/>\n</g>\n<!-- 11 -->\n<g id=\"node12\" class=\"node\">\n<title>11</title>\n<path fill=\"#3fa0e6\" stroke=\"black\" d=\"M477.5,-573C477.5,-573 392.5,-573 392.5,-573 386.5,-573 380.5,-567 380.5,-561 380.5,-561 380.5,-517 380.5,-517 380.5,-511 386.5,-505 392.5,-505 392.5,-505 477.5,-505 477.5,-505 483.5,-505 489.5,-511 489.5,-517 489.5,-517 489.5,-561 489.5,-561 489.5,-567 483.5,-573 477.5,-573\"/>\n<text text-anchor=\"middle\" x=\"435\" y=\"-557.8\" font-family=\"Helvetica,sans-Serif\" font-size=\"14.00\">Vote_15 &lt;= 1.5</text>\n<text text-anchor=\"middle\" x=\"435\" y=\"-542.8\" font-family=\"Helvetica,sans-Serif\" font-size=\"14.00\">106</text>\n<text text-anchor=\"middle\" x=\"435\" y=\"-527.8\" font-family=\"Helvetica,sans-Serif\" font-size=\"14.00\">[3, 103]</text>\n<text text-anchor=\"middle\" x=\"435\" y=\"-512.8\" font-family=\"Helvetica,sans-Serif\" font-size=\"14.00\">republican</text>\n</g>\n<!-- 10&#45;&gt;11 -->\n<g id=\"edge11\" class=\"edge\">\n<title>10&#45;&gt;11</title>\n<path fill=\"none\" stroke=\"black\" d=\"M435,-608.88C435,-600.78 435,-591.98 435,-583.47\"/>\n<polygon fill=\"black\" stroke=\"black\" points=\"438.5,-583.3 435,-573.3 431.5,-583.3 438.5,-583.3\"/>\n</g>\n<!-- 22 -->\n<g id=\"node23\" class=\"node\">\n<title>22</title>\n<path fill=\"#b3d9f5\" stroke=\"black\" d=\"M799.5,-573C799.5,-573 714.5,-573 714.5,-573 708.5,-573 702.5,-567 702.5,-561 702.5,-561 702.5,-517 702.5,-517 702.5,-511 708.5,-505 714.5,-505 714.5,-505 799.5,-505 799.5,-505 805.5,-505 811.5,-511 811.5,-517 811.5,-517 811.5,-561 811.5,-561 811.5,-567 805.5,-573 799.5,-573\"/>\n<text text-anchor=\"middle\" x=\"757\" y=\"-557.8\" font-family=\"Helvetica,sans-Serif\" font-size=\"14.00\">Vote_16 &lt;= 1.5</text>\n<text text-anchor=\"middle\" x=\"757\" y=\"-542.8\" font-family=\"Helvetica,sans-Serif\" font-size=\"14.00\">21</text>\n<text text-anchor=\"middle\" x=\"757\" y=\"-527.8\" font-family=\"Helvetica,sans-Serif\" font-size=\"14.00\">[8, 13]</text>\n<text text-anchor=\"middle\" x=\"757\" y=\"-512.8\" font-family=\"Helvetica,sans-Serif\" font-size=\"14.00\">republican</text>\n</g>\n<!-- 10&#45;&gt;22 -->\n<g id=\"edge22\" class=\"edge\">\n<title>10&#45;&gt;22</title>\n<path fill=\"none\" stroke=\"black\" d=\"M489.62,-624.7C545.8,-606.9 633.24,-579.2 692.72,-560.36\"/>\n<polygon fill=\"black\" stroke=\"black\" points=\"693.9,-563.66 702.38,-557.3 691.79,-556.99 693.9,-563.66\"/>\n</g>\n<!-- 12 -->\n<g id=\"node13\" class=\"node\">\n<title>12</title>\n<path fill=\"#3b9ee5\" stroke=\"black\" d=\"M409.5,-469C409.5,-469 332.5,-469 332.5,-469 326.5,-469 320.5,-463 320.5,-457 320.5,-457 320.5,-413 320.5,-413 320.5,-407 326.5,-401 332.5,-401 332.5,-401 409.5,-401 409.5,-401 415.5,-401 421.5,-407 421.5,-413 421.5,-413 421.5,-457 421.5,-457 421.5,-463 415.5,-469 409.5,-469\"/>\n<text text-anchor=\"middle\" x=\"371\" y=\"-453.8\" font-family=\"Helvetica,sans-Serif\" font-size=\"14.00\">Vote_3 &lt;= 1.5</text>\n<text text-anchor=\"middle\" x=\"371\" y=\"-438.8\" font-family=\"Helvetica,sans-Serif\" font-size=\"14.00\">96</text>\n<text text-anchor=\"middle\" x=\"371\" y=\"-423.8\" font-family=\"Helvetica,sans-Serif\" font-size=\"14.00\">[1, 95]</text>\n<text text-anchor=\"middle\" x=\"371\" y=\"-408.8\" font-family=\"Helvetica,sans-Serif\" font-size=\"14.00\">republican</text>\n</g>\n<!-- 11&#45;&gt;12 -->\n<g id=\"edge12\" class=\"edge\">\n<title>11&#45;&gt;12</title>\n<path fill=\"none\" stroke=\"black\" d=\"M414.22,-504.88C408.8,-496.24 402.89,-486.82 397.22,-477.79\"/>\n<polygon fill=\"black\" stroke=\"black\" points=\"400.17,-475.91 391.89,-469.3 394.24,-479.63 400.17,-475.91\"/>\n</g>\n<!-- 17 -->\n<g id=\"node18\" class=\"node\">\n<title>17</title>\n<path fill=\"#6ab6ec\" stroke=\"black\" d=\"M536.5,-469C536.5,-469 451.5,-469 451.5,-469 445.5,-469 439.5,-463 439.5,-457 439.5,-457 439.5,-413 439.5,-413 439.5,-407 445.5,-401 451.5,-401 451.5,-401 536.5,-401 536.5,-401 542.5,-401 548.5,-407 548.5,-413 548.5,-413 548.5,-457 548.5,-457 548.5,-463 542.5,-469 536.5,-469\"/>\n<text text-anchor=\"middle\" x=\"494\" y=\"-453.8\" font-family=\"Helvetica,sans-Serif\" font-size=\"14.00\">Vote_10 &lt;= 1.5</text>\n<text text-anchor=\"middle\" x=\"494\" y=\"-438.8\" font-family=\"Helvetica,sans-Serif\" font-size=\"14.00\">10</text>\n<text text-anchor=\"middle\" x=\"494\" y=\"-423.8\" font-family=\"Helvetica,sans-Serif\" font-size=\"14.00\">[2, 8]</text>\n<text text-anchor=\"middle\" x=\"494\" y=\"-408.8\" font-family=\"Helvetica,sans-Serif\" font-size=\"14.00\">republican</text>\n</g>\n<!-- 11&#45;&gt;17 -->\n<g id=\"edge17\" class=\"edge\">\n<title>11&#45;&gt;17</title>\n<path fill=\"none\" stroke=\"black\" d=\"M454.16,-504.88C459.1,-496.33 464.49,-487.01 469.66,-478.07\"/>\n<polygon fill=\"black\" stroke=\"black\" points=\"472.76,-479.71 474.74,-469.3 466.7,-476.2 472.76,-479.71\"/>\n</g>\n<!-- 13 -->\n<g id=\"node14\" class=\"node\">\n<title>13</title>\n<path fill=\"#399de5\" stroke=\"black\" d=\"M286.5,-357.5C286.5,-357.5 231.5,-357.5 231.5,-357.5 225.5,-357.5 219.5,-351.5 219.5,-345.5 219.5,-345.5 219.5,-316.5 219.5,-316.5 219.5,-310.5 225.5,-304.5 231.5,-304.5 231.5,-304.5 286.5,-304.5 286.5,-304.5 292.5,-304.5 298.5,-310.5 298.5,-316.5 298.5,-316.5 298.5,-345.5 298.5,-345.5 298.5,-351.5 292.5,-357.5 286.5,-357.5\"/>\n<text text-anchor=\"middle\" x=\"259\" y=\"-342.3\" font-family=\"Helvetica,sans-Serif\" font-size=\"14.00\">87</text>\n<text text-anchor=\"middle\" x=\"259\" y=\"-327.3\" font-family=\"Helvetica,sans-Serif\" font-size=\"14.00\">[0, 87]</text>\n<text text-anchor=\"middle\" x=\"259\" y=\"-312.3\" font-family=\"Helvetica,sans-Serif\" font-size=\"14.00\">republican</text>\n</g>\n<!-- 12&#45;&gt;13 -->\n<g id=\"edge13\" class=\"edge\">\n<title>12&#45;&gt;13</title>\n<path fill=\"none\" stroke=\"black\" d=\"M334.64,-400.88C321.84,-389.23 307.47,-376.14 294.72,-364.53\"/>\n<polygon fill=\"black\" stroke=\"black\" points=\"296.77,-361.67 287.02,-357.52 292.06,-366.84 296.77,-361.67\"/>\n</g>\n<!-- 14 -->\n<g id=\"node15\" class=\"node\">\n<title>14</title>\n<path fill=\"#52a9e8\" stroke=\"black\" d=\"M413.5,-365C413.5,-365 328.5,-365 328.5,-365 322.5,-365 316.5,-359 316.5,-353 316.5,-353 316.5,-309 316.5,-309 316.5,-303 322.5,-297 328.5,-297 328.5,-297 413.5,-297 413.5,-297 419.5,-297 425.5,-303 425.5,-309 425.5,-309 425.5,-353 425.5,-353 425.5,-359 419.5,-365 413.5,-365\"/>\n<text text-anchor=\"middle\" x=\"371\" y=\"-349.8\" font-family=\"Helvetica,sans-Serif\" font-size=\"14.00\">Vote_16 &lt;= 1.0</text>\n<text text-anchor=\"middle\" x=\"371\" y=\"-334.8\" font-family=\"Helvetica,sans-Serif\" font-size=\"14.00\">9</text>\n<text text-anchor=\"middle\" x=\"371\" y=\"-319.8\" font-family=\"Helvetica,sans-Serif\" font-size=\"14.00\">[1, 8]</text>\n<text text-anchor=\"middle\" x=\"371\" y=\"-304.8\" font-family=\"Helvetica,sans-Serif\" font-size=\"14.00\">republican</text>\n</g>\n<!-- 12&#45;&gt;14 -->\n<g id=\"edge14\" class=\"edge\">\n<title>12&#45;&gt;14</title>\n<path fill=\"none\" stroke=\"black\" d=\"M371,-400.88C371,-392.78 371,-383.98 371,-375.47\"/>\n<polygon fill=\"black\" stroke=\"black\" points=\"374.5,-375.3 371,-365.3 367.5,-375.3 374.5,-375.3\"/>\n</g>\n<!-- 15 -->\n<g id=\"node16\" class=\"node\">\n<title>15</title>\n<path fill=\"#e58139\" stroke=\"black\" d=\"M308,-253.5C308,-253.5 258,-253.5 258,-253.5 252,-253.5 246,-247.5 246,-241.5 246,-241.5 246,-212.5 246,-212.5 246,-206.5 252,-200.5 258,-200.5 258,-200.5 308,-200.5 308,-200.5 314,-200.5 320,-206.5 320,-212.5 320,-212.5 320,-241.5 320,-241.5 320,-247.5 314,-253.5 308,-253.5\"/>\n<text text-anchor=\"middle\" x=\"283\" y=\"-238.3\" font-family=\"Helvetica,sans-Serif\" font-size=\"14.00\">1</text>\n<text text-anchor=\"middle\" x=\"283\" y=\"-223.3\" font-family=\"Helvetica,sans-Serif\" font-size=\"14.00\">[1, 0]</text>\n<text text-anchor=\"middle\" x=\"283\" y=\"-208.3\" font-family=\"Helvetica,sans-Serif\" font-size=\"14.00\">democrat</text>\n</g>\n<!-- 14&#45;&gt;15 -->\n<g id=\"edge15\" class=\"edge\">\n<title>14&#45;&gt;15</title>\n<path fill=\"none\" stroke=\"black\" d=\"M342.43,-296.88C332.56,-285.45 321.51,-272.63 311.63,-261.19\"/>\n<polygon fill=\"black\" stroke=\"black\" points=\"314.2,-258.81 305.02,-253.52 308.9,-263.38 314.2,-258.81\"/>\n</g>\n<!-- 16 -->\n<g id=\"node17\" class=\"node\">\n<title>16</title>\n<path fill=\"#399de5\" stroke=\"black\" d=\"M405.5,-253.5C405.5,-253.5 350.5,-253.5 350.5,-253.5 344.5,-253.5 338.5,-247.5 338.5,-241.5 338.5,-241.5 338.5,-212.5 338.5,-212.5 338.5,-206.5 344.5,-200.5 350.5,-200.5 350.5,-200.5 405.5,-200.5 405.5,-200.5 411.5,-200.5 417.5,-206.5 417.5,-212.5 417.5,-212.5 417.5,-241.5 417.5,-241.5 417.5,-247.5 411.5,-253.5 405.5,-253.5\"/>\n<text text-anchor=\"middle\" x=\"378\" y=\"-238.3\" font-family=\"Helvetica,sans-Serif\" font-size=\"14.00\">8</text>\n<text text-anchor=\"middle\" x=\"378\" y=\"-223.3\" font-family=\"Helvetica,sans-Serif\" font-size=\"14.00\">[0, 8]</text>\n<text text-anchor=\"middle\" x=\"378\" y=\"-208.3\" font-family=\"Helvetica,sans-Serif\" font-size=\"14.00\">republican</text>\n</g>\n<!-- 14&#45;&gt;16 -->\n<g id=\"edge16\" class=\"edge\">\n<title>14&#45;&gt;16</title>\n<path fill=\"none\" stroke=\"black\" d=\"M373.27,-296.88C374,-286.22 374.82,-274.35 375.56,-263.52\"/>\n<polygon fill=\"black\" stroke=\"black\" points=\"379.06,-263.74 376.25,-253.52 372.07,-263.26 379.06,-263.74\"/>\n</g>\n<!-- 18 -->\n<g id=\"node19\" class=\"node\">\n<title>18</title>\n<path fill=\"#f2c09c\" stroke=\"black\" d=\"M532.5,-365C532.5,-365 455.5,-365 455.5,-365 449.5,-365 443.5,-359 443.5,-353 443.5,-353 443.5,-309 443.5,-309 443.5,-303 449.5,-297 455.5,-297 455.5,-297 532.5,-297 532.5,-297 538.5,-297 544.5,-303 544.5,-309 544.5,-309 544.5,-353 544.5,-353 544.5,-359 538.5,-365 532.5,-365\"/>\n<text text-anchor=\"middle\" x=\"494\" y=\"-349.8\" font-family=\"Helvetica,sans-Serif\" font-size=\"14.00\">Vote_8 &lt;= 0.5</text>\n<text text-anchor=\"middle\" x=\"494\" y=\"-334.8\" font-family=\"Helvetica,sans-Serif\" font-size=\"14.00\">3</text>\n<text text-anchor=\"middle\" x=\"494\" y=\"-319.8\" font-family=\"Helvetica,sans-Serif\" font-size=\"14.00\">[2, 1]</text>\n<text text-anchor=\"middle\" x=\"494\" y=\"-304.8\" font-family=\"Helvetica,sans-Serif\" font-size=\"14.00\">democrat</text>\n</g>\n<!-- 17&#45;&gt;18 -->\n<g id=\"edge18\" class=\"edge\">\n<title>17&#45;&gt;18</title>\n<path fill=\"none\" stroke=\"black\" d=\"M494,-400.88C494,-392.78 494,-383.98 494,-375.47\"/>\n<polygon fill=\"black\" stroke=\"black\" points=\"497.5,-375.3 494,-365.3 490.5,-375.3 497.5,-375.3\"/>\n</g>\n<!-- 21 -->\n<g id=\"node22\" class=\"node\">\n<title>21</title>\n<path fill=\"#399de5\" stroke=\"black\" d=\"M629.5,-357.5C629.5,-357.5 574.5,-357.5 574.5,-357.5 568.5,-357.5 562.5,-351.5 562.5,-345.5 562.5,-345.5 562.5,-316.5 562.5,-316.5 562.5,-310.5 568.5,-304.5 574.5,-304.5 574.5,-304.5 629.5,-304.5 629.5,-304.5 635.5,-304.5 641.5,-310.5 641.5,-316.5 641.5,-316.5 641.5,-345.5 641.5,-345.5 641.5,-351.5 635.5,-357.5 629.5,-357.5\"/>\n<text text-anchor=\"middle\" x=\"602\" y=\"-342.3\" font-family=\"Helvetica,sans-Serif\" font-size=\"14.00\">7</text>\n<text text-anchor=\"middle\" x=\"602\" y=\"-327.3\" font-family=\"Helvetica,sans-Serif\" font-size=\"14.00\">[0, 7]</text>\n<text text-anchor=\"middle\" x=\"602\" y=\"-312.3\" font-family=\"Helvetica,sans-Serif\" font-size=\"14.00\">republican</text>\n</g>\n<!-- 17&#45;&gt;21 -->\n<g id=\"edge21\" class=\"edge\">\n<title>17&#45;&gt;21</title>\n<path fill=\"none\" stroke=\"black\" d=\"M529.06,-400.88C541.41,-389.23 555.26,-376.14 567.55,-364.53\"/>\n<polygon fill=\"black\" stroke=\"black\" points=\"570.11,-366.93 574.98,-357.52 565.31,-361.84 570.11,-366.93\"/>\n</g>\n<!-- 19 -->\n<g id=\"node20\" class=\"node\">\n<title>19</title>\n<path fill=\"#399de5\" stroke=\"black\" d=\"M515.5,-253.5C515.5,-253.5 460.5,-253.5 460.5,-253.5 454.5,-253.5 448.5,-247.5 448.5,-241.5 448.5,-241.5 448.5,-212.5 448.5,-212.5 448.5,-206.5 454.5,-200.5 460.5,-200.5 460.5,-200.5 515.5,-200.5 515.5,-200.5 521.5,-200.5 527.5,-206.5 527.5,-212.5 527.5,-212.5 527.5,-241.5 527.5,-241.5 527.5,-247.5 521.5,-253.5 515.5,-253.5\"/>\n<text text-anchor=\"middle\" x=\"488\" y=\"-238.3\" font-family=\"Helvetica,sans-Serif\" font-size=\"14.00\">1</text>\n<text text-anchor=\"middle\" x=\"488\" y=\"-223.3\" font-family=\"Helvetica,sans-Serif\" font-size=\"14.00\">[0, 1]</text>\n<text text-anchor=\"middle\" x=\"488\" y=\"-208.3\" font-family=\"Helvetica,sans-Serif\" font-size=\"14.00\">republican</text>\n</g>\n<!-- 18&#45;&gt;19 -->\n<g id=\"edge19\" class=\"edge\">\n<title>18&#45;&gt;19</title>\n<path fill=\"none\" stroke=\"black\" d=\"M492.05,-296.88C491.42,-286.22 490.73,-274.35 490.09,-263.52\"/>\n<polygon fill=\"black\" stroke=\"black\" points=\"493.58,-263.3 489.5,-253.52 486.59,-263.71 493.58,-263.3\"/>\n</g>\n<!-- 20 -->\n<g id=\"node21\" class=\"node\">\n<title>20</title>\n<path fill=\"#e58139\" stroke=\"black\" d=\"M608,-253.5C608,-253.5 558,-253.5 558,-253.5 552,-253.5 546,-247.5 546,-241.5 546,-241.5 546,-212.5 546,-212.5 546,-206.5 552,-200.5 558,-200.5 558,-200.5 608,-200.5 608,-200.5 614,-200.5 620,-206.5 620,-212.5 620,-212.5 620,-241.5 620,-241.5 620,-247.5 614,-253.5 608,-253.5\"/>\n<text text-anchor=\"middle\" x=\"583\" y=\"-238.3\" font-family=\"Helvetica,sans-Serif\" font-size=\"14.00\">2</text>\n<text text-anchor=\"middle\" x=\"583\" y=\"-223.3\" font-family=\"Helvetica,sans-Serif\" font-size=\"14.00\">[2, 0]</text>\n<text text-anchor=\"middle\" x=\"583\" y=\"-208.3\" font-family=\"Helvetica,sans-Serif\" font-size=\"14.00\">democrat</text>\n</g>\n<!-- 18&#45;&gt;20 -->\n<g id=\"edge20\" class=\"edge\">\n<title>18&#45;&gt;20</title>\n<path fill=\"none\" stroke=\"black\" d=\"M522.9,-296.88C532.88,-285.45 544.05,-272.63 554.04,-261.19\"/>\n<polygon fill=\"black\" stroke=\"black\" points=\"556.8,-263.36 560.73,-253.52 551.52,-258.75 556.8,-263.36\"/>\n</g>\n<!-- 23 -->\n<g id=\"node24\" class=\"node\">\n<title>23</title>\n<path fill=\"#eeab7b\" stroke=\"black\" d=\"M795.5,-469C795.5,-469 718.5,-469 718.5,-469 712.5,-469 706.5,-463 706.5,-457 706.5,-457 706.5,-413 706.5,-413 706.5,-407 712.5,-401 718.5,-401 718.5,-401 795.5,-401 795.5,-401 801.5,-401 807.5,-407 807.5,-413 807.5,-413 807.5,-457 807.5,-457 807.5,-463 801.5,-469 795.5,-469\"/>\n<text text-anchor=\"middle\" x=\"757\" y=\"-453.8\" font-family=\"Helvetica,sans-Serif\" font-size=\"14.00\">Vote_3 &lt;= 1.5</text>\n<text text-anchor=\"middle\" x=\"757\" y=\"-438.8\" font-family=\"Helvetica,sans-Serif\" font-size=\"14.00\">8</text>\n<text text-anchor=\"middle\" x=\"757\" y=\"-423.8\" font-family=\"Helvetica,sans-Serif\" font-size=\"14.00\">[6, 2]</text>\n<text text-anchor=\"middle\" x=\"757\" y=\"-408.8\" font-family=\"Helvetica,sans-Serif\" font-size=\"14.00\">democrat</text>\n</g>\n<!-- 22&#45;&gt;23 -->\n<g id=\"edge23\" class=\"edge\">\n<title>22&#45;&gt;23</title>\n<path fill=\"none\" stroke=\"black\" d=\"M757,-504.88C757,-496.78 757,-487.98 757,-479.47\"/>\n<polygon fill=\"black\" stroke=\"black\" points=\"760.5,-479.3 757,-469.3 753.5,-479.3 760.5,-479.3\"/>\n</g>\n<!-- 32 -->\n<g id=\"node33\" class=\"node\">\n<title>32</title>\n<path fill=\"#5dafea\" stroke=\"black\" d=\"M957.5,-469C957.5,-469 880.5,-469 880.5,-469 874.5,-469 868.5,-463 868.5,-457 868.5,-457 868.5,-413 868.5,-413 868.5,-407 874.5,-401 880.5,-401 880.5,-401 957.5,-401 957.5,-401 963.5,-401 969.5,-407 969.5,-413 969.5,-413 969.5,-457 969.5,-457 969.5,-463 963.5,-469 957.5,-469\"/>\n<text text-anchor=\"middle\" x=\"919\" y=\"-453.8\" font-family=\"Helvetica,sans-Serif\" font-size=\"14.00\">Vote_1 &lt;= 1.5</text>\n<text text-anchor=\"middle\" x=\"919\" y=\"-438.8\" font-family=\"Helvetica,sans-Serif\" font-size=\"14.00\">13</text>\n<text text-anchor=\"middle\" x=\"919\" y=\"-423.8\" font-family=\"Helvetica,sans-Serif\" font-size=\"14.00\">[2, 11]</text>\n<text text-anchor=\"middle\" x=\"919\" y=\"-408.8\" font-family=\"Helvetica,sans-Serif\" font-size=\"14.00\">republican</text>\n</g>\n<!-- 22&#45;&gt;32 -->\n<g id=\"edge32\" class=\"edge\">\n<title>22&#45;&gt;32</title>\n<path fill=\"none\" stroke=\"black\" d=\"M809.6,-504.88C825.65,-494.78 843.4,-483.6 859.85,-473.24\"/>\n<polygon fill=\"black\" stroke=\"black\" points=\"861.72,-476.2 868.32,-467.91 857.99,-470.27 861.72,-476.2\"/>\n</g>\n<!-- 24 -->\n<g id=\"node25\" class=\"node\">\n<title>24</title>\n<path fill=\"#f2c09c\" stroke=\"black\" d=\"M756.5,-365C756.5,-365 671.5,-365 671.5,-365 665.5,-365 659.5,-359 659.5,-353 659.5,-353 659.5,-309 659.5,-309 659.5,-303 665.5,-297 671.5,-297 671.5,-297 756.5,-297 756.5,-297 762.5,-297 768.5,-303 768.5,-309 768.5,-309 768.5,-353 768.5,-353 768.5,-359 762.5,-365 756.5,-365\"/>\n<text text-anchor=\"middle\" x=\"714\" y=\"-349.8\" font-family=\"Helvetica,sans-Serif\" font-size=\"14.00\">Vote_10 &lt;= 1.5</text>\n<text text-anchor=\"middle\" x=\"714\" y=\"-334.8\" font-family=\"Helvetica,sans-Serif\" font-size=\"14.00\">6</text>\n<text text-anchor=\"middle\" x=\"714\" y=\"-319.8\" font-family=\"Helvetica,sans-Serif\" font-size=\"14.00\">[4, 2]</text>\n<text text-anchor=\"middle\" x=\"714\" y=\"-304.8\" font-family=\"Helvetica,sans-Serif\" font-size=\"14.00\">democrat</text>\n</g>\n<!-- 23&#45;&gt;24 -->\n<g id=\"edge24\" class=\"edge\">\n<title>23&#45;&gt;24</title>\n<path fill=\"none\" stroke=\"black\" d=\"M743.04,-400.88C739.51,-392.51 735.67,-383.4 731.97,-374.63\"/>\n<polygon fill=\"black\" stroke=\"black\" points=\"735.15,-373.15 728.04,-365.3 728.7,-375.87 735.15,-373.15\"/>\n</g>\n<!-- 31 -->\n<g id=\"node32\" class=\"node\">\n<title>31</title>\n<path fill=\"#e58139\" stroke=\"black\" d=\"M849,-357.5C849,-357.5 799,-357.5 799,-357.5 793,-357.5 787,-351.5 787,-345.5 787,-345.5 787,-316.5 787,-316.5 787,-310.5 793,-304.5 799,-304.5 799,-304.5 849,-304.5 849,-304.5 855,-304.5 861,-310.5 861,-316.5 861,-316.5 861,-345.5 861,-345.5 861,-351.5 855,-357.5 849,-357.5\"/>\n<text text-anchor=\"middle\" x=\"824\" y=\"-342.3\" font-family=\"Helvetica,sans-Serif\" font-size=\"14.00\">2</text>\n<text text-anchor=\"middle\" x=\"824\" y=\"-327.3\" font-family=\"Helvetica,sans-Serif\" font-size=\"14.00\">[2, 0]</text>\n<text text-anchor=\"middle\" x=\"824\" y=\"-312.3\" font-family=\"Helvetica,sans-Serif\" font-size=\"14.00\">democrat</text>\n</g>\n<!-- 23&#45;&gt;31 -->\n<g id=\"edge31\" class=\"edge\">\n<title>23&#45;&gt;31</title>\n<path fill=\"none\" stroke=\"black\" d=\"M778.75,-400.88C786.05,-389.78 794.2,-377.37 801.55,-366.18\"/>\n<polygon fill=\"black\" stroke=\"black\" points=\"804.67,-367.8 807.24,-357.52 798.82,-363.96 804.67,-367.8\"/>\n</g>\n<!-- 25 -->\n<g id=\"node26\" class=\"node\">\n<title>25</title>\n<path fill=\"#eca06a\" stroke=\"black\" d=\"M746.5,-261C746.5,-261 661.5,-261 661.5,-261 655.5,-261 649.5,-255 649.5,-249 649.5,-249 649.5,-205 649.5,-205 649.5,-199 655.5,-193 661.5,-193 661.5,-193 746.5,-193 746.5,-193 752.5,-193 758.5,-199 758.5,-205 758.5,-205 758.5,-249 758.5,-249 758.5,-255 752.5,-261 746.5,-261\"/>\n<text text-anchor=\"middle\" x=\"704\" y=\"-245.8\" font-family=\"Helvetica,sans-Serif\" font-size=\"14.00\">Vote_12 &lt;= 1.5</text>\n<text text-anchor=\"middle\" x=\"704\" y=\"-230.8\" font-family=\"Helvetica,sans-Serif\" font-size=\"14.00\">5</text>\n<text text-anchor=\"middle\" x=\"704\" y=\"-215.8\" font-family=\"Helvetica,sans-Serif\" font-size=\"14.00\">[4, 1]</text>\n<text text-anchor=\"middle\" x=\"704\" y=\"-200.8\" font-family=\"Helvetica,sans-Serif\" font-size=\"14.00\">democrat</text>\n</g>\n<!-- 24&#45;&gt;25 -->\n<g id=\"edge25\" class=\"edge\">\n<title>24&#45;&gt;25</title>\n<path fill=\"none\" stroke=\"black\" d=\"M710.75,-296.88C709.96,-288.78 709.1,-279.98 708.26,-271.47\"/>\n<polygon fill=\"black\" stroke=\"black\" points=\"711.72,-270.91 707.26,-261.3 704.76,-271.59 711.72,-270.91\"/>\n</g>\n<!-- 30 -->\n<g id=\"node31\" class=\"node\">\n<title>30</title>\n<path fill=\"#399de5\" stroke=\"black\" d=\"M843.5,-253.5C843.5,-253.5 788.5,-253.5 788.5,-253.5 782.5,-253.5 776.5,-247.5 776.5,-241.5 776.5,-241.5 776.5,-212.5 776.5,-212.5 776.5,-206.5 782.5,-200.5 788.5,-200.5 788.5,-200.5 843.5,-200.5 843.5,-200.5 849.5,-200.5 855.5,-206.5 855.5,-212.5 855.5,-212.5 855.5,-241.5 855.5,-241.5 855.5,-247.5 849.5,-253.5 843.5,-253.5\"/>\n<text text-anchor=\"middle\" x=\"816\" y=\"-238.3\" font-family=\"Helvetica,sans-Serif\" font-size=\"14.00\">1</text>\n<text text-anchor=\"middle\" x=\"816\" y=\"-223.3\" font-family=\"Helvetica,sans-Serif\" font-size=\"14.00\">[0, 1]</text>\n<text text-anchor=\"middle\" x=\"816\" y=\"-208.3\" font-family=\"Helvetica,sans-Serif\" font-size=\"14.00\">republican</text>\n</g>\n<!-- 24&#45;&gt;30 -->\n<g id=\"edge30\" class=\"edge\">\n<title>24&#45;&gt;30</title>\n<path fill=\"none\" stroke=\"black\" d=\"M747.12,-296.88C758.66,-285.34 771.61,-272.39 783.14,-260.86\"/>\n<polygon fill=\"black\" stroke=\"black\" points=\"785.88,-263.07 790.48,-253.52 780.93,-258.12 785.88,-263.07\"/>\n</g>\n<!-- 26 -->\n<g id=\"node27\" class=\"node\">\n<title>26</title>\n<path fill=\"#e58139\" stroke=\"black\" d=\"M664,-149.5C664,-149.5 614,-149.5 614,-149.5 608,-149.5 602,-143.5 602,-137.5 602,-137.5 602,-108.5 602,-108.5 602,-102.5 608,-96.5 614,-96.5 614,-96.5 664,-96.5 664,-96.5 670,-96.5 676,-102.5 676,-108.5 676,-108.5 676,-137.5 676,-137.5 676,-143.5 670,-149.5 664,-149.5\"/>\n<text text-anchor=\"middle\" x=\"639\" y=\"-134.3\" font-family=\"Helvetica,sans-Serif\" font-size=\"14.00\">3</text>\n<text text-anchor=\"middle\" x=\"639\" y=\"-119.3\" font-family=\"Helvetica,sans-Serif\" font-size=\"14.00\">[3, 0]</text>\n<text text-anchor=\"middle\" x=\"639\" y=\"-104.3\" font-family=\"Helvetica,sans-Serif\" font-size=\"14.00\">democrat</text>\n</g>\n<!-- 25&#45;&gt;26 -->\n<g id=\"edge26\" class=\"edge\">\n<title>25&#45;&gt;26</title>\n<path fill=\"none\" stroke=\"black\" d=\"M682.9,-192.88C675.82,-181.78 667.91,-169.37 660.78,-158.18\"/>\n<polygon fill=\"black\" stroke=\"black\" points=\"663.59,-156.07 655.26,-149.52 657.69,-159.83 663.59,-156.07\"/>\n</g>\n<!-- 27 -->\n<g id=\"node28\" class=\"node\">\n<title>27</title>\n<path fill=\"#ffffff\" stroke=\"black\" d=\"M783.5,-157C783.5,-157 706.5,-157 706.5,-157 700.5,-157 694.5,-151 694.5,-145 694.5,-145 694.5,-101 694.5,-101 694.5,-95 700.5,-89 706.5,-89 706.5,-89 783.5,-89 783.5,-89 789.5,-89 795.5,-95 795.5,-101 795.5,-101 795.5,-145 795.5,-145 795.5,-151 789.5,-157 783.5,-157\"/>\n<text text-anchor=\"middle\" x=\"745\" y=\"-141.8\" font-family=\"Helvetica,sans-Serif\" font-size=\"14.00\">Vote_2 &lt;= 1.5</text>\n<text text-anchor=\"middle\" x=\"745\" y=\"-126.8\" font-family=\"Helvetica,sans-Serif\" font-size=\"14.00\">2</text>\n<text text-anchor=\"middle\" x=\"745\" y=\"-111.8\" font-family=\"Helvetica,sans-Serif\" font-size=\"14.00\">[1, 1]</text>\n<text text-anchor=\"middle\" x=\"745\" y=\"-96.8\" font-family=\"Helvetica,sans-Serif\" font-size=\"14.00\">democrat</text>\n</g>\n<!-- 25&#45;&gt;27 -->\n<g id=\"edge27\" class=\"edge\">\n<title>25&#45;&gt;27</title>\n<path fill=\"none\" stroke=\"black\" d=\"M717.31,-192.88C720.68,-184.51 724.34,-175.4 727.86,-166.63\"/>\n<polygon fill=\"black\" stroke=\"black\" points=\"731.13,-167.88 731.61,-157.3 724.64,-165.27 731.13,-167.88\"/>\n</g>\n<!-- 28 -->\n<g id=\"node29\" class=\"node\">\n<title>28</title>\n<path fill=\"#e58139\" stroke=\"black\" d=\"M696,-53C696,-53 646,-53 646,-53 640,-53 634,-47 634,-41 634,-41 634,-12 634,-12 634,-6 640,0 646,0 646,0 696,0 696,0 702,0 708,-6 708,-12 708,-12 708,-41 708,-41 708,-47 702,-53 696,-53\"/>\n<text text-anchor=\"middle\" x=\"671\" y=\"-37.8\" font-family=\"Helvetica,sans-Serif\" font-size=\"14.00\">1</text>\n<text text-anchor=\"middle\" x=\"671\" y=\"-22.8\" font-family=\"Helvetica,sans-Serif\" font-size=\"14.00\">[1, 0]</text>\n<text text-anchor=\"middle\" x=\"671\" y=\"-7.8\" font-family=\"Helvetica,sans-Serif\" font-size=\"14.00\">democrat</text>\n</g>\n<!-- 27&#45;&gt;28 -->\n<g id=\"edge28\" class=\"edge\">\n<title>27&#45;&gt;28</title>\n<path fill=\"none\" stroke=\"black\" d=\"M719.12,-88.95C712.1,-79.98 704.49,-70.27 697.44,-61.26\"/>\n<polygon fill=\"black\" stroke=\"black\" points=\"700.07,-58.95 691.15,-53.24 694.56,-63.27 700.07,-58.95\"/>\n</g>\n<!-- 29 -->\n<g id=\"node30\" class=\"node\">\n<title>29</title>\n<path fill=\"#399de5\" stroke=\"black\" d=\"M793.5,-53C793.5,-53 738.5,-53 738.5,-53 732.5,-53 726.5,-47 726.5,-41 726.5,-41 726.5,-12 726.5,-12 726.5,-6 732.5,0 738.5,0 738.5,0 793.5,0 793.5,0 799.5,0 805.5,-6 805.5,-12 805.5,-12 805.5,-41 805.5,-41 805.5,-47 799.5,-53 793.5,-53\"/>\n<text text-anchor=\"middle\" x=\"766\" y=\"-37.8\" font-family=\"Helvetica,sans-Serif\" font-size=\"14.00\">1</text>\n<text text-anchor=\"middle\" x=\"766\" y=\"-22.8\" font-family=\"Helvetica,sans-Serif\" font-size=\"14.00\">[0, 1]</text>\n<text text-anchor=\"middle\" x=\"766\" y=\"-7.8\" font-family=\"Helvetica,sans-Serif\" font-size=\"14.00\">republican</text>\n</g>\n<!-- 27&#45;&gt;29 -->\n<g id=\"edge29\" class=\"edge\">\n<title>27&#45;&gt;29</title>\n<path fill=\"none\" stroke=\"black\" d=\"M752.34,-88.95C754.19,-80.62 756.19,-71.65 758.07,-63.2\"/>\n<polygon fill=\"black\" stroke=\"black\" points=\"761.53,-63.76 760.28,-53.24 754.69,-62.24 761.53,-63.76\"/>\n</g>\n<!-- 33 -->\n<g id=\"node34\" class=\"node\">\n<title>33</title>\n<path fill=\"#399de5\" stroke=\"black\" d=\"M946.5,-357.5C946.5,-357.5 891.5,-357.5 891.5,-357.5 885.5,-357.5 879.5,-351.5 879.5,-345.5 879.5,-345.5 879.5,-316.5 879.5,-316.5 879.5,-310.5 885.5,-304.5 891.5,-304.5 891.5,-304.5 946.5,-304.5 946.5,-304.5 952.5,-304.5 958.5,-310.5 958.5,-316.5 958.5,-316.5 958.5,-345.5 958.5,-345.5 958.5,-351.5 952.5,-357.5 946.5,-357.5\"/>\n<text text-anchor=\"middle\" x=\"919\" y=\"-342.3\" font-family=\"Helvetica,sans-Serif\" font-size=\"14.00\">7</text>\n<text text-anchor=\"middle\" x=\"919\" y=\"-327.3\" font-family=\"Helvetica,sans-Serif\" font-size=\"14.00\">[0, 7]</text>\n<text text-anchor=\"middle\" x=\"919\" y=\"-312.3\" font-family=\"Helvetica,sans-Serif\" font-size=\"14.00\">republican</text>\n</g>\n<!-- 32&#45;&gt;33 -->\n<g id=\"edge33\" class=\"edge\">\n<title>32&#45;&gt;33</title>\n<path fill=\"none\" stroke=\"black\" d=\"M919,-400.88C919,-390.33 919,-378.6 919,-367.85\"/>\n<polygon fill=\"black\" stroke=\"black\" points=\"922.5,-367.52 919,-357.52 915.5,-367.52 922.5,-367.52\"/>\n</g>\n<!-- 34 -->\n<g id=\"node35\" class=\"node\">\n<title>34</title>\n<path fill=\"#9ccef2\" stroke=\"black\" d=\"M1073.5,-365C1073.5,-365 988.5,-365 988.5,-365 982.5,-365 976.5,-359 976.5,-353 976.5,-353 976.5,-309 976.5,-309 976.5,-303 982.5,-297 988.5,-297 988.5,-297 1073.5,-297 1073.5,-297 1079.5,-297 1085.5,-303 1085.5,-309 1085.5,-309 1085.5,-353 1085.5,-353 1085.5,-359 1079.5,-365 1073.5,-365\"/>\n<text text-anchor=\"middle\" x=\"1031\" y=\"-349.8\" font-family=\"Helvetica,sans-Serif\" font-size=\"14.00\">Vote_10 &lt;= 1.5</text>\n<text text-anchor=\"middle\" x=\"1031\" y=\"-334.8\" font-family=\"Helvetica,sans-Serif\" font-size=\"14.00\">6</text>\n<text text-anchor=\"middle\" x=\"1031\" y=\"-319.8\" font-family=\"Helvetica,sans-Serif\" font-size=\"14.00\">[2, 4]</text>\n<text text-anchor=\"middle\" x=\"1031\" y=\"-304.8\" font-family=\"Helvetica,sans-Serif\" font-size=\"14.00\">republican</text>\n</g>\n<!-- 32&#45;&gt;34 -->\n<g id=\"edge34\" class=\"edge\">\n<title>32&#45;&gt;34</title>\n<path fill=\"none\" stroke=\"black\" d=\"M955.36,-400.88C965.44,-391.71 976.48,-381.65 986.94,-372.12\"/>\n<polygon fill=\"black\" stroke=\"black\" points=\"989.4,-374.62 994.44,-365.3 984.69,-369.44 989.4,-374.62\"/>\n</g>\n<!-- 35 -->\n<g id=\"node36\" class=\"node\">\n<title>35</title>\n<path fill=\"#ffffff\" stroke=\"black\" d=\"M1008.5,-261C1008.5,-261 931.5,-261 931.5,-261 925.5,-261 919.5,-255 919.5,-249 919.5,-249 919.5,-205 919.5,-205 919.5,-199 925.5,-193 931.5,-193 931.5,-193 1008.5,-193 1008.5,-193 1014.5,-193 1020.5,-199 1020.5,-205 1020.5,-205 1020.5,-249 1020.5,-249 1020.5,-255 1014.5,-261 1008.5,-261\"/>\n<text text-anchor=\"middle\" x=\"970\" y=\"-245.8\" font-family=\"Helvetica,sans-Serif\" font-size=\"14.00\">Vote_7 &lt;= 1.5</text>\n<text text-anchor=\"middle\" x=\"970\" y=\"-230.8\" font-family=\"Helvetica,sans-Serif\" font-size=\"14.00\">4</text>\n<text text-anchor=\"middle\" x=\"970\" y=\"-215.8\" font-family=\"Helvetica,sans-Serif\" font-size=\"14.00\">[2, 2]</text>\n<text text-anchor=\"middle\" x=\"970\" y=\"-200.8\" font-family=\"Helvetica,sans-Serif\" font-size=\"14.00\">democrat</text>\n</g>\n<!-- 34&#45;&gt;35 -->\n<g id=\"edge35\" class=\"edge\">\n<title>34&#45;&gt;35</title>\n<path fill=\"none\" stroke=\"black\" d=\"M1011.2,-296.88C1006.08,-288.33 1000.51,-279.01 995.16,-270.07\"/>\n<polygon fill=\"black\" stroke=\"black\" points=\"998.05,-268.09 989.91,-261.3 992.04,-271.68 998.05,-268.09\"/>\n</g>\n<!-- 40 -->\n<g id=\"node41\" class=\"node\">\n<title>40</title>\n<path fill=\"#399de5\" stroke=\"black\" d=\"M1105.5,-253.5C1105.5,-253.5 1050.5,-253.5 1050.5,-253.5 1044.5,-253.5 1038.5,-247.5 1038.5,-241.5 1038.5,-241.5 1038.5,-212.5 1038.5,-212.5 1038.5,-206.5 1044.5,-200.5 1050.5,-200.5 1050.5,-200.5 1105.5,-200.5 1105.5,-200.5 1111.5,-200.5 1117.5,-206.5 1117.5,-212.5 1117.5,-212.5 1117.5,-241.5 1117.5,-241.5 1117.5,-247.5 1111.5,-253.5 1105.5,-253.5\"/>\n<text text-anchor=\"middle\" x=\"1078\" y=\"-238.3\" font-family=\"Helvetica,sans-Serif\" font-size=\"14.00\">2</text>\n<text text-anchor=\"middle\" x=\"1078\" y=\"-223.3\" font-family=\"Helvetica,sans-Serif\" font-size=\"14.00\">[0, 2]</text>\n<text text-anchor=\"middle\" x=\"1078\" y=\"-208.3\" font-family=\"Helvetica,sans-Serif\" font-size=\"14.00\">republican</text>\n</g>\n<!-- 34&#45;&gt;40 -->\n<g id=\"edge40\" class=\"edge\">\n<title>34&#45;&gt;40</title>\n<path fill=\"none\" stroke=\"black\" d=\"M1046.26,-296.88C1051.28,-286 1056.87,-273.86 1061.94,-262.85\"/>\n<polygon fill=\"black\" stroke=\"black\" points=\"1065.23,-264.07 1066.24,-253.52 1058.88,-261.14 1065.23,-264.07\"/>\n</g>\n<!-- 36 -->\n<g id=\"node37\" class=\"node\">\n<title>36</title>\n<path fill=\"#9ccef2\" stroke=\"black\" d=\"M987.5,-157C987.5,-157 910.5,-157 910.5,-157 904.5,-157 898.5,-151 898.5,-145 898.5,-145 898.5,-101 898.5,-101 898.5,-95 904.5,-89 910.5,-89 910.5,-89 987.5,-89 987.5,-89 993.5,-89 999.5,-95 999.5,-101 999.5,-101 999.5,-145 999.5,-145 999.5,-151 993.5,-157 987.5,-157\"/>\n<text text-anchor=\"middle\" x=\"949\" y=\"-141.8\" font-family=\"Helvetica,sans-Serif\" font-size=\"14.00\">Vote_3 &lt;= 1.5</text>\n<text text-anchor=\"middle\" x=\"949\" y=\"-126.8\" font-family=\"Helvetica,sans-Serif\" font-size=\"14.00\">3</text>\n<text text-anchor=\"middle\" x=\"949\" y=\"-111.8\" font-family=\"Helvetica,sans-Serif\" font-size=\"14.00\">[1, 2]</text>\n<text text-anchor=\"middle\" x=\"949\" y=\"-96.8\" font-family=\"Helvetica,sans-Serif\" font-size=\"14.00\">republican</text>\n</g>\n<!-- 35&#45;&gt;36 -->\n<g id=\"edge36\" class=\"edge\">\n<title>35&#45;&gt;36</title>\n<path fill=\"none\" stroke=\"black\" d=\"M963.18,-192.88C961.49,-184.69 959.66,-175.79 957.89,-167.19\"/>\n<polygon fill=\"black\" stroke=\"black\" points=\"961.3,-166.39 955.86,-157.3 954.44,-167.8 961.3,-166.39\"/>\n</g>\n<!-- 39 -->\n<g id=\"node40\" class=\"node\">\n<title>39</title>\n<path fill=\"#e58139\" stroke=\"black\" d=\"M1080,-149.5C1080,-149.5 1030,-149.5 1030,-149.5 1024,-149.5 1018,-143.5 1018,-137.5 1018,-137.5 1018,-108.5 1018,-108.5 1018,-102.5 1024,-96.5 1030,-96.5 1030,-96.5 1080,-96.5 1080,-96.5 1086,-96.5 1092,-102.5 1092,-108.5 1092,-108.5 1092,-137.5 1092,-137.5 1092,-143.5 1086,-149.5 1080,-149.5\"/>\n<text text-anchor=\"middle\" x=\"1055\" y=\"-134.3\" font-family=\"Helvetica,sans-Serif\" font-size=\"14.00\">1</text>\n<text text-anchor=\"middle\" x=\"1055\" y=\"-119.3\" font-family=\"Helvetica,sans-Serif\" font-size=\"14.00\">[1, 0]</text>\n<text text-anchor=\"middle\" x=\"1055\" y=\"-104.3\" font-family=\"Helvetica,sans-Serif\" font-size=\"14.00\">democrat</text>\n</g>\n<!-- 35&#45;&gt;39 -->\n<g id=\"edge39\" class=\"edge\">\n<title>35&#45;&gt;39</title>\n<path fill=\"none\" stroke=\"black\" d=\"M997.6,-192.88C1007.04,-181.56 1017.6,-168.88 1027.07,-157.52\"/>\n<polygon fill=\"black\" stroke=\"black\" points=\"1030.02,-159.44 1033.73,-149.52 1024.64,-154.96 1030.02,-159.44\"/>\n</g>\n<!-- 37 -->\n<g id=\"node38\" class=\"node\">\n<title>37</title>\n<path fill=\"#399de5\" stroke=\"black\" d=\"M904.5,-53C904.5,-53 849.5,-53 849.5,-53 843.5,-53 837.5,-47 837.5,-41 837.5,-41 837.5,-12 837.5,-12 837.5,-6 843.5,0 849.5,0 849.5,0 904.5,0 904.5,0 910.5,0 916.5,-6 916.5,-12 916.5,-12 916.5,-41 916.5,-41 916.5,-47 910.5,-53 904.5,-53\"/>\n<text text-anchor=\"middle\" x=\"877\" y=\"-37.8\" font-family=\"Helvetica,sans-Serif\" font-size=\"14.00\">2</text>\n<text text-anchor=\"middle\" x=\"877\" y=\"-22.8\" font-family=\"Helvetica,sans-Serif\" font-size=\"14.00\">[0, 2]</text>\n<text text-anchor=\"middle\" x=\"877\" y=\"-7.8\" font-family=\"Helvetica,sans-Serif\" font-size=\"14.00\">republican</text>\n</g>\n<!-- 36&#45;&gt;37 -->\n<g id=\"edge37\" class=\"edge\">\n<title>36&#45;&gt;37</title>\n<path fill=\"none\" stroke=\"black\" d=\"M923.82,-88.95C916.99,-79.98 909.58,-70.27 902.72,-61.26\"/>\n<polygon fill=\"black\" stroke=\"black\" points=\"905.45,-59.07 896.61,-53.24 899.89,-63.31 905.45,-59.07\"/>\n</g>\n<!-- 38 -->\n<g id=\"node39\" class=\"node\">\n<title>38</title>\n<path fill=\"#e58139\" stroke=\"black\" d=\"M997,-53C997,-53 947,-53 947,-53 941,-53 935,-47 935,-41 935,-41 935,-12 935,-12 935,-6 941,0 947,0 947,0 997,0 997,0 1003,0 1009,-6 1009,-12 1009,-12 1009,-41 1009,-41 1009,-47 1003,-53 997,-53\"/>\n<text text-anchor=\"middle\" x=\"972\" y=\"-37.8\" font-family=\"Helvetica,sans-Serif\" font-size=\"14.00\">1</text>\n<text text-anchor=\"middle\" x=\"972\" y=\"-22.8\" font-family=\"Helvetica,sans-Serif\" font-size=\"14.00\">[1, 0]</text>\n<text text-anchor=\"middle\" x=\"972\" y=\"-7.8\" font-family=\"Helvetica,sans-Serif\" font-size=\"14.00\">democrat</text>\n</g>\n<!-- 36&#45;&gt;38 -->\n<g id=\"edge38\" class=\"edge\">\n<title>36&#45;&gt;38</title>\n<path fill=\"none\" stroke=\"black\" d=\"M957.04,-88.95C959.07,-80.62 961.25,-71.65 963.31,-63.2\"/>\n<polygon fill=\"black\" stroke=\"black\" points=\"966.77,-63.78 965.74,-53.24 959.97,-62.13 966.77,-63.78\"/>\n</g>\n</g>\n</svg>\n",
            "text/plain": [
              "<graphviz.sources.Source at 0x7f7ba7dbaec0>"
            ]
          },
          "metadata": {},
          "execution_count": 15
        }
      ]
    },
    {
      "cell_type": "markdown",
      "metadata": {
        "id": "gsiwZZ6Z_S-i"
      },
      "source": [
        "e os valores de informações mútua e importância dos atributos mostram a concordância dos principais atributos que encabeçam a Árvore."
      ]
    },
    {
      "cell_type": "code",
      "metadata": {
        "colab": {
          "base_uri": "https://localhost:8080/"
        },
        "id": "QnMfsbK6UJYL",
        "outputId": "8821519d-f986-4ac1-d503-4474849c56b9"
      },
      "source": [
        "print('Mutual information and the attribute with higher Mutual Info: \\n')\n",
        "print(mutual_info_classif(X, y, discrete_features=True))\n",
        "print(X.columns[ mutual_info_classif(X, y, discrete_features=True).argmax() ])\n",
        "print()\n",
        "print('Feature Importances and the attribute with higher Feature Importances: \\n')\n",
        "print(clf.feature_importances_)\n",
        "print(X.columns[ clf.feature_importances_.argmax() ])"
      ],
      "execution_count": 16,
      "outputs": [
        {
          "output_type": "stream",
          "name": "stdout",
          "text": [
            "Mutual information and the attribute with higher Mutual Info: \n",
            "\n",
            "[8.73872293e-02 2.49962316e-04 2.99660509e-01 5.12951549e-01\n",
            " 2.92820364e-01 1.02055280e-01 1.37023508e-01 2.35826473e-01\n",
            " 2.15261646e-01 3.52248115e-03 7.43690939e-02 2.59411124e-01\n",
            " 1.57899640e-01 2.32400929e-01 1.52771138e-01 7.06865546e-02]\n",
            "Vote_4\n",
            "\n",
            "Feature Importances and the attribute with higher Feature Importances: \n",
            "\n",
            "[0.00612052 0.0069473  0.01350356 0.84658144 0.         0.\n",
            " 0.00463153 0.00926307 0.00289471 0.02501028 0.03028702 0.00416838\n",
            " 0.         0.         0.01378591 0.03680628]\n",
            "Vote_4\n"
          ]
        }
      ]
    },
    {
      "cell_type": "code",
      "source": [
        "X.columns[ np.argsort(- mutual_info_classif(X, y, discrete_features=True))[0:5] ]"
      ],
      "metadata": {
        "colab": {
          "base_uri": "https://localhost:8080/"
        },
        "id": "43PBZjVZugOC",
        "outputId": "9d2c7afb-fcce-42fb-f2d6-55eed81256ad"
      },
      "execution_count": 17,
      "outputs": [
        {
          "output_type": "execute_result",
          "data": {
            "text/plain": [
              "Index(['Vote_4', 'Vote_3', 'Vote_5', 'Vote_12', 'Vote_8'], dtype='object')"
            ]
          },
          "metadata": {},
          "execution_count": 17
        }
      ]
    },
    {
      "cell_type": "code",
      "source": [
        "X.columns[ np.argsort(- clf.feature_importances_)[0:5] ]"
      ],
      "metadata": {
        "colab": {
          "base_uri": "https://localhost:8080/"
        },
        "id": "97_O-kaQtrh2",
        "outputId": "4b5593fb-2537-4a3b-de9b-f25f46707a59"
      },
      "execution_count": 18,
      "outputs": [
        {
          "output_type": "execute_result",
          "data": {
            "text/plain": [
              "Index(['Vote_4', 'Vote_16', 'Vote_11', 'Vote_10', 'Vote_15'], dtype='object')"
            ]
          },
          "metadata": {},
          "execution_count": 18
        }
      ]
    },
    {
      "cell_type": "markdown",
      "source": [
        "# Comparando os Modelos\n",
        "\n",
        "Vamos agora comparar os modelos que você já conhece de classificação e o modelo de Árvore de Decisão."
      ],
      "metadata": {
        "id": "7Twxl_wVxqsI"
      }
    },
    {
      "cell_type": "code",
      "metadata": {
        "colab": {
          "base_uri": "https://localhost:8080/"
        },
        "id": "59WHDVSCUXdG",
        "outputId": "b7de4da8-079f-410a-ea3b-32a05e47a8bb"
      },
      "source": [
        "from sklearn.linear_model import LogisticRegression\n",
        "from sklearn.neighbors import KNeighborsClassifier\n",
        "from sklearn.tree import DecisionTreeClassifier\n",
        "\n",
        "X_train, X_test, y_train, y_test = train_test_split(X, y, stratify=y, test_size=0.3, random_state=123)\n",
        "\n",
        "base_estimators = [ LogisticRegression(),\n",
        "                    neighbors.KNeighborsClassifier(5),\n",
        "                    DecisionTreeClassifier(),\n",
        "                    DecisionTreeClassifier(max_depth=2) ]\n",
        "\n",
        "best_score = 0\n",
        "\n",
        "for estimator in base_estimators:\n",
        "  clf = estimator\n",
        "  clf.fit(X_train, y_train)\n",
        "\n",
        "  y_pred = clf.predict(X_test)\n",
        "\n",
        "  print(clf)\n",
        "\n",
        "  accuracy = clf.score(X_test, y_test)\n",
        "  print('\\nScore de Acuracidade (2):\\n')\n",
        "  print(f'{accuracy:.2f}')\n",
        "\n",
        "  if accuracy > best_score:\n",
        "    best_score = accuracy\n",
        "    best_model = clf\n",
        "\n",
        "  print('\\nClassification Report:\\n')\n",
        "  print(classification_report(y_test, y_pred))\n",
        "\n",
        "\n",
        "print('\\n Best Model: ' , best_model, ' score = ', best_score)\n",
        "\n",
        "\n",
        "\n"
      ],
      "execution_count": 19,
      "outputs": [
        {
          "output_type": "stream",
          "name": "stdout",
          "text": [
            "LogisticRegression()\n",
            "\n",
            "Score de Acuracidade (2):\n",
            "\n",
            "0.94\n",
            "\n",
            "Classification Report:\n",
            "\n",
            "              precision    recall  f1-score   support\n",
            "\n",
            "    democrat       0.93      0.97      0.95        80\n",
            "  republican       0.96      0.88      0.92        51\n",
            "\n",
            "    accuracy                           0.94       131\n",
            "   macro avg       0.94      0.93      0.93       131\n",
            "weighted avg       0.94      0.94      0.94       131\n",
            "\n",
            "KNeighborsClassifier()\n",
            "\n",
            "Score de Acuracidade (2):\n",
            "\n",
            "0.92\n",
            "\n",
            "Classification Report:\n",
            "\n",
            "              precision    recall  f1-score   support\n",
            "\n",
            "    democrat       0.94      0.94      0.94        80\n",
            "  republican       0.90      0.90      0.90        51\n",
            "\n",
            "    accuracy                           0.92       131\n",
            "   macro avg       0.92      0.92      0.92       131\n",
            "weighted avg       0.92      0.92      0.92       131\n",
            "\n",
            "DecisionTreeClassifier()\n",
            "\n",
            "Score de Acuracidade (2):\n",
            "\n",
            "0.92\n",
            "\n",
            "Classification Report:\n",
            "\n",
            "              precision    recall  f1-score   support\n",
            "\n",
            "    democrat       0.92      0.96      0.94        80\n",
            "  republican       0.94      0.86      0.90        51\n",
            "\n",
            "    accuracy                           0.92       131\n",
            "   macro avg       0.93      0.91      0.92       131\n",
            "weighted avg       0.92      0.92      0.92       131\n",
            "\n",
            "DecisionTreeClassifier(max_depth=2)\n",
            "\n",
            "Score de Acuracidade (2):\n",
            "\n",
            "0.95\n",
            "\n",
            "Classification Report:\n",
            "\n",
            "              precision    recall  f1-score   support\n",
            "\n",
            "    democrat       0.95      0.96      0.96        80\n",
            "  republican       0.94      0.92      0.93        51\n",
            "\n",
            "    accuracy                           0.95       131\n",
            "   macro avg       0.95      0.94      0.94       131\n",
            "weighted avg       0.95      0.95      0.95       131\n",
            "\n",
            "\n",
            " Best Model:  DecisionTreeClassifier(max_depth=2)  score =  0.9465648854961832\n"
          ]
        }
      ]
    },
    {
      "cell_type": "markdown",
      "metadata": {
        "id": "HwXpG1wEBRIe"
      },
      "source": [
        "Com os parâmetros acima o melhor estimador, levando em consideração apenas o critério de acuracidade (*score*), foi a Árvore de Decisão com o critério `gini` de seleção dos atributos (é o padrão) e com uma profundidade máxima de 2 da Árvore.\n",
        "\n",
        "> *Poda: A técnica de reduzir a profundidade da Árvore de Decisão é chamada de Poda e permite reduzir o overfitting (sobreajuste) dos modelos, um problema geralmente encontrado em Árvores de Decisão*.\n",
        "\n",
        "\n",
        "\n"
      ]
    },
    {
      "cell_type": "markdown",
      "source": [
        "O melhor modelo produz então a seguinte Árvore de Decisão."
      ],
      "metadata": {
        "id": "KXKDgVL4I81-"
      }
    },
    {
      "cell_type": "code",
      "metadata": {
        "colab": {
          "base_uri": "https://localhost:8080/",
          "height": 380
        },
        "id": "nwrdbTK-VYS6",
        "outputId": "e124504b-78d9-4585-a60b-0cbfebe4eafe"
      },
      "source": [
        "clf = best_model\n",
        "\n",
        "import graphviz\n",
        "dot_data = tree.export_graphviz(clf, out_file=None,\n",
        "                     feature_names=list(df_labels.columns.values),\n",
        "                     class_names=list(sorted(df['class'].unique())),\n",
        "                     filled=True, rounded=True,\n",
        "                     special_characters=False,\n",
        "                     proportion=False, impurity=False, node_ids=False,label=None)\n",
        "graph = graphviz.Source(dot_data)\n",
        "graph.render('graph_democratic') # para gravação em .pdf\n",
        "graph"
      ],
      "execution_count": 20,
      "outputs": [
        {
          "output_type": "execute_result",
          "data": {
            "image/svg+xml": "<?xml version=\"1.0\" encoding=\"UTF-8\" standalone=\"no\"?>\n<!DOCTYPE svg PUBLIC \"-//W3C//DTD SVG 1.1//EN\"\n \"http://www.w3.org/Graphics/SVG/1.1/DTD/svg11.dtd\">\n<!-- Generated by graphviz version 2.43.0 (0)\n -->\n<!-- Title: Tree Pages: 1 -->\n<svg width=\"383pt\" height=\"269pt\"\n viewBox=\"0.00 0.00 382.50 269.00\" xmlns=\"http://www.w3.org/2000/svg\" xmlns:xlink=\"http://www.w3.org/1999/xlink\">\n<g id=\"graph0\" class=\"graph\" transform=\"scale(1 1) rotate(0) translate(4 265)\">\n<title>Tree</title>\n<polygon fill=\"white\" stroke=\"transparent\" points=\"-4,4 -4,-265 378.5,-265 378.5,4 -4,4\"/>\n<!-- 0 -->\n<g id=\"node1\" class=\"node\">\n<title>0</title>\n<path fill=\"#f5d0b5\" stroke=\"black\" d=\"M221.5,-261C221.5,-261 144.5,-261 144.5,-261 138.5,-261 132.5,-255 132.5,-249 132.5,-249 132.5,-205 132.5,-205 132.5,-199 138.5,-193 144.5,-193 144.5,-193 221.5,-193 221.5,-193 227.5,-193 233.5,-199 233.5,-205 233.5,-205 233.5,-249 233.5,-249 233.5,-255 227.5,-261 221.5,-261\"/>\n<text text-anchor=\"middle\" x=\"183\" y=\"-245.8\" font-family=\"Helvetica,sans-Serif\" font-size=\"14.00\">Vote_4 &lt;= 1.5</text>\n<text text-anchor=\"middle\" x=\"183\" y=\"-230.8\" font-family=\"Helvetica,sans-Serif\" font-size=\"14.00\">304</text>\n<text text-anchor=\"middle\" x=\"183\" y=\"-215.8\" font-family=\"Helvetica,sans-Serif\" font-size=\"14.00\">[187, 117]</text>\n<text text-anchor=\"middle\" x=\"183\" y=\"-200.8\" font-family=\"Helvetica,sans-Serif\" font-size=\"14.00\">democrat</text>\n</g>\n<!-- 1 -->\n<g id=\"node2\" class=\"node\">\n<title>1</title>\n<path fill=\"#e5823a\" stroke=\"black\" d=\"M160.5,-157C160.5,-157 83.5,-157 83.5,-157 77.5,-157 71.5,-151 71.5,-145 71.5,-145 71.5,-101 71.5,-101 71.5,-95 77.5,-89 83.5,-89 83.5,-89 160.5,-89 160.5,-89 166.5,-89 172.5,-95 172.5,-101 172.5,-101 172.5,-145 172.5,-145 172.5,-151 166.5,-157 160.5,-157\"/>\n<text text-anchor=\"middle\" x=\"122\" y=\"-141.8\" font-family=\"Helvetica,sans-Serif\" font-size=\"14.00\">Vote_3 &lt;= 1.5</text>\n<text text-anchor=\"middle\" x=\"122\" y=\"-126.8\" font-family=\"Helvetica,sans-Serif\" font-size=\"14.00\">177</text>\n<text text-anchor=\"middle\" x=\"122\" y=\"-111.8\" font-family=\"Helvetica,sans-Serif\" font-size=\"14.00\">[176, 1]</text>\n<text text-anchor=\"middle\" x=\"122\" y=\"-96.8\" font-family=\"Helvetica,sans-Serif\" font-size=\"14.00\">democrat</text>\n</g>\n<!-- 0&#45;&gt;1 -->\n<g id=\"edge1\" class=\"edge\">\n<title>0&#45;&gt;1</title>\n<path fill=\"none\" stroke=\"black\" d=\"M163.2,-192.88C158.08,-184.33 152.51,-175.01 147.16,-166.07\"/>\n<polygon fill=\"black\" stroke=\"black\" points=\"150.05,-164.09 141.91,-157.3 144.04,-167.68 150.05,-164.09\"/>\n<text text-anchor=\"middle\" x=\"135.82\" y=\"-177.84\" font-family=\"Helvetica,sans-Serif\" font-size=\"14.00\">True</text>\n</g>\n<!-- 4 -->\n<g id=\"node5\" class=\"node\">\n<title>4</title>\n<path fill=\"#4ca6e7\" stroke=\"black\" d=\"M287.5,-157C287.5,-157 202.5,-157 202.5,-157 196.5,-157 190.5,-151 190.5,-145 190.5,-145 190.5,-101 190.5,-101 190.5,-95 196.5,-89 202.5,-89 202.5,-89 287.5,-89 287.5,-89 293.5,-89 299.5,-95 299.5,-101 299.5,-101 299.5,-145 299.5,-145 299.5,-151 293.5,-157 287.5,-157\"/>\n<text text-anchor=\"middle\" x=\"245\" y=\"-141.8\" font-family=\"Helvetica,sans-Serif\" font-size=\"14.00\">Vote_11 &lt;= 1.5</text>\n<text text-anchor=\"middle\" x=\"245\" y=\"-126.8\" font-family=\"Helvetica,sans-Serif\" font-size=\"14.00\">127</text>\n<text text-anchor=\"middle\" x=\"245\" y=\"-111.8\" font-family=\"Helvetica,sans-Serif\" font-size=\"14.00\">[11, 116]</text>\n<text text-anchor=\"middle\" x=\"245\" y=\"-96.8\" font-family=\"Helvetica,sans-Serif\" font-size=\"14.00\">republican</text>\n</g>\n<!-- 0&#45;&gt;4 -->\n<g id=\"edge4\" class=\"edge\">\n<title>0&#45;&gt;4</title>\n<path fill=\"none\" stroke=\"black\" d=\"M203.13,-192.88C208.33,-184.33 213.99,-175.01 219.43,-166.07\"/>\n<polygon fill=\"black\" stroke=\"black\" points=\"222.56,-167.66 224.76,-157.3 216.57,-164.03 222.56,-167.66\"/>\n<text text-anchor=\"middle\" x=\"230.68\" y=\"-177.89\" font-family=\"Helvetica,sans-Serif\" font-size=\"14.00\">False</text>\n</g>\n<!-- 2 -->\n<g id=\"node3\" class=\"node\">\n<title>2</title>\n<path fill=\"#e68742\" stroke=\"black\" d=\"M62,-53C62,-53 12,-53 12,-53 6,-53 0,-47 0,-41 0,-41 0,-12 0,-12 0,-6 6,0 12,0 12,0 62,0 62,0 68,0 74,-6 74,-12 74,-12 74,-41 74,-41 74,-47 68,-53 62,-53\"/>\n<text text-anchor=\"middle\" x=\"37\" y=\"-37.8\" font-family=\"Helvetica,sans-Serif\" font-size=\"14.00\">23</text>\n<text text-anchor=\"middle\" x=\"37\" y=\"-22.8\" font-family=\"Helvetica,sans-Serif\" font-size=\"14.00\">[22, 1]</text>\n<text text-anchor=\"middle\" x=\"37\" y=\"-7.8\" font-family=\"Helvetica,sans-Serif\" font-size=\"14.00\">democrat</text>\n</g>\n<!-- 1&#45;&gt;2 -->\n<g id=\"edge2\" class=\"edge\">\n<title>1&#45;&gt;2</title>\n<path fill=\"none\" stroke=\"black\" d=\"M92.27,-88.95C84.04,-79.8 75.11,-69.87 66.87,-60.71\"/>\n<polygon fill=\"black\" stroke=\"black\" points=\"69.44,-58.33 60.15,-53.24 64.23,-63.01 69.44,-58.33\"/>\n</g>\n<!-- 3 -->\n<g id=\"node4\" class=\"node\">\n<title>3</title>\n<path fill=\"#e58139\" stroke=\"black\" d=\"M154,-53C154,-53 104,-53 104,-53 98,-53 92,-47 92,-41 92,-41 92,-12 92,-12 92,-6 98,0 104,0 104,0 154,0 154,0 160,0 166,-6 166,-12 166,-12 166,-41 166,-41 166,-47 160,-53 154,-53\"/>\n<text text-anchor=\"middle\" x=\"129\" y=\"-37.8\" font-family=\"Helvetica,sans-Serif\" font-size=\"14.00\">154</text>\n<text text-anchor=\"middle\" x=\"129\" y=\"-22.8\" font-family=\"Helvetica,sans-Serif\" font-size=\"14.00\">[154, 0]</text>\n<text text-anchor=\"middle\" x=\"129\" y=\"-7.8\" font-family=\"Helvetica,sans-Serif\" font-size=\"14.00\">democrat</text>\n</g>\n<!-- 1&#45;&gt;3 -->\n<g id=\"edge3\" class=\"edge\">\n<title>1&#45;&gt;3</title>\n<path fill=\"none\" stroke=\"black\" d=\"M124.45,-88.95C125.06,-80.72 125.71,-71.85 126.33,-63.48\"/>\n<polygon fill=\"black\" stroke=\"black\" points=\"129.85,-63.47 127.09,-53.24 122.86,-62.95 129.85,-63.47\"/>\n</g>\n<!-- 5 -->\n<g id=\"node6\" class=\"node\">\n<title>5</title>\n<path fill=\"#3fa0e6\" stroke=\"black\" d=\"M265.5,-53C265.5,-53 210.5,-53 210.5,-53 204.5,-53 198.5,-47 198.5,-41 198.5,-41 198.5,-12 198.5,-12 198.5,-6 204.5,0 210.5,0 210.5,0 265.5,0 265.5,0 271.5,0 277.5,-6 277.5,-12 277.5,-12 277.5,-41 277.5,-41 277.5,-47 271.5,-53 265.5,-53\"/>\n<text text-anchor=\"middle\" x=\"238\" y=\"-37.8\" font-family=\"Helvetica,sans-Serif\" font-size=\"14.00\">106</text>\n<text text-anchor=\"middle\" x=\"238\" y=\"-22.8\" font-family=\"Helvetica,sans-Serif\" font-size=\"14.00\">[3, 103]</text>\n<text text-anchor=\"middle\" x=\"238\" y=\"-7.8\" font-family=\"Helvetica,sans-Serif\" font-size=\"14.00\">republican</text>\n</g>\n<!-- 4&#45;&gt;5 -->\n<g id=\"edge5\" class=\"edge\">\n<title>4&#45;&gt;5</title>\n<path fill=\"none\" stroke=\"black\" d=\"M242.55,-88.95C241.94,-80.72 241.29,-71.85 240.67,-63.48\"/>\n<polygon fill=\"black\" stroke=\"black\" points=\"244.14,-62.95 239.91,-53.24 237.15,-63.47 244.14,-62.95\"/>\n</g>\n<!-- 6 -->\n<g id=\"node7\" class=\"node\">\n<title>6</title>\n<path fill=\"#b3d9f5\" stroke=\"black\" d=\"M362.5,-53C362.5,-53 307.5,-53 307.5,-53 301.5,-53 295.5,-47 295.5,-41 295.5,-41 295.5,-12 295.5,-12 295.5,-6 301.5,0 307.5,0 307.5,0 362.5,0 362.5,0 368.5,0 374.5,-6 374.5,-12 374.5,-12 374.5,-41 374.5,-41 374.5,-47 368.5,-53 362.5,-53\"/>\n<text text-anchor=\"middle\" x=\"335\" y=\"-37.8\" font-family=\"Helvetica,sans-Serif\" font-size=\"14.00\">21</text>\n<text text-anchor=\"middle\" x=\"335\" y=\"-22.8\" font-family=\"Helvetica,sans-Serif\" font-size=\"14.00\">[8, 13]</text>\n<text text-anchor=\"middle\" x=\"335\" y=\"-7.8\" font-family=\"Helvetica,sans-Serif\" font-size=\"14.00\">republican</text>\n</g>\n<!-- 4&#45;&gt;6 -->\n<g id=\"edge6\" class=\"edge\">\n<title>4&#45;&gt;6</title>\n<path fill=\"none\" stroke=\"black\" d=\"M276.48,-88.95C285.19,-79.8 294.65,-69.87 303.37,-60.71\"/>\n<polygon fill=\"black\" stroke=\"black\" points=\"306.13,-62.89 310.49,-53.24 301.06,-58.06 306.13,-62.89\"/>\n</g>\n</g>\n</svg>\n",
            "text/plain": [
              "<graphviz.sources.Source at 0x7f7bec0da470>"
            ]
          },
          "metadata": {},
          "execution_count": 20
        }
      ]
    },
    {
      "cell_type": "markdown",
      "metadata": {
        "id": "hvdu6gtXWzNb"
      },
      "source": [
        "Você pode acessar a documentação dos dados (http://archive.ics.uci.edu/ml/machine-learning-databases/voting-records/house-votes-84.names) e verificar a que eleições se referem os votos acima:\n",
        "\n",
        "* Vote_4: physician-fee-freeze\n",
        "* Vote_3: adoption-of-the-budget-resolution\n",
        "* Vote_11: synfuels-corporation-cutback\n",
        "\n",
        "E, de fato, seria suficiente ainda somente a informação do Vote_4: physician-fee-freeze para classificar os congressistas. Em 1984, o governo federal impõe um congelamento de um ano nos pagamentos para os serviços de saúde, sendo os serviços de saúde  um tema polêmico que ainda hoje divide republicamos e democratas.\n"
      ]
    },
    {
      "cell_type": "markdown",
      "source": [
        "# Selecionando outros Modelos"
      ],
      "metadata": {
        "id": "Xl5UfpgZJtcq"
      }
    },
    {
      "cell_type": "markdown",
      "source": [
        "> *Você pode adaptar o código de seleção de modelos acima para explorar, por exemplo, diferentes valores de $k$ para o K-vizinhos mais Próximos ou ainda diferentes profundidades da Árvore. Para isso basta implementar no código original um procedimento mais ou menos como abaixo:*"
      ],
      "metadata": {
        "id": "DJcOESojJFuo"
      }
    },
    {
      "cell_type": "code",
      "source": [
        "%%script false --no-raise-error\n",
        "\n",
        "for k in range(2,10):\n",
        "  clf = neighbors.KNeighborsClassifier(k)\n",
        "  ...\n",
        "\n",
        "# OU\n",
        "\n",
        "for deep in range(2,10):\n",
        "  clf = DecisionTreeClassifier(max_depth=deep)\n",
        "  ..."
      ],
      "metadata": {
        "id": "-SlQWN7sHxiE"
      },
      "execution_count": 21,
      "outputs": []
    },
    {
      "cell_type": "markdown",
      "source": [
        "Nas próximas aulas você aprenderá como fazer isso com uma função do Scikit-learn."
      ],
      "metadata": {
        "id": "qaI-QbsOJyB4"
      }
    },
    {
      "cell_type": "markdown",
      "source": [
        "# Exercício **Mini-desafio**\n",
        "\n",
        "Mini-desafio em grupo. Empregando os recursos e algoritmos conhecidos até aqui (caso queira empregar um recurso não visto em sala, verifique antes com o professor) cada equipe deve buscar chegar no melhor resultado da acuracidade determinação do Risco de Pacientes.\n",
        "\n",
        "Após a construção dos modelos os modelos serão testados em dois novos conjuntos de dados.\n",
        "\n",
        "* [0 25 50 75 **100**] Melhores resultados nos 2 dois novos conjuntos de dados, $10.0$\n",
        "* [0 25 50 **75** **99**] Melhores resultados nos 2 dois novos conjuntos de dados, $9.0$\n",
        "* [0 25 **50** **74** 100] Melhores resultados nos 2 dois novos conjuntos de dados, $7.0$\n",
        "* [**0 25 49** 75 100] Melhores resultados nos 2 dois novos conjuntos de dados, $6.0$\n",
        "\n"
      ],
      "metadata": {
        "id": "xiOStfUKWzUP"
      }
    },
    {
      "cell_type": "code",
      "source": [
        "df = pd.read_csv('https://github.com/Rogerio-mack/IMT_Ciencia_de_Dados/raw/main/data/blood_risk.csv')\n",
        "df.head()"
      ],
      "metadata": {
        "colab": {
          "base_uri": "https://localhost:8080/",
          "height": 330
        },
        "id": "T1KnpqxNv1rl",
        "outputId": "e32188bc-1bda-4be1-80cb-0dfb37454507"
      },
      "execution_count": 22,
      "outputs": [
        {
          "output_type": "execute_result",
          "data": {
            "text/plain": [
              "   record              name          cpf    birthday  Gluconise  \\\n",
              "0   89256     Bryan Cardoso  83619570221  2006-11-14   916.6484   \n",
              "1   72173  Sr. Vicente Lima  30861597230  2013-11-22   988.7466   \n",
              "2   95816    Otávio da Rosa  89532614737  2008-10-23   572.7608   \n",
              "3   44566    Alícia da Cruz  53027691406  2011-07-25  1328.0542   \n",
              "4   31019      Maysa Novaes  53817096259  2021-06-25   641.3129   \n",
              "\n",
              "   Adrino_posina  Gamma_R  Nitro_K     H278 Plate  Factor_risk  \\\n",
              "0      Uncovered        2     3.07  5749.42    DD            5   \n",
              "1  Clinical Done        5     2.53   285.18   NaN            2   \n",
              "2      Uncovered        4     3.30  8000.08     X            5   \n",
              "3  Clinical Done        5     3.07  5737.50    DD            5   \n",
              "4  Clinical Done        3     3.05  5476.12     B            5   \n",
              "\n",
              "   norm_gamma_type Blood_type Blood_Rh  Low_Risk  Medium_Risk  High_Risk  \n",
              "0                1         AB        +      True        False      False  \n",
              "1                1          O        +      True        False      False  \n",
              "2                1          O        -      True        False      False  \n",
              "3                1         AB        -     False         True       True  \n",
              "4                1        NaN        +     False         True       True  "
            ],
            "text/html": [
              "\n",
              "  <div id=\"df-7b5185d8-6ca0-4a35-a306-f80818ff2c16\" class=\"colab-df-container\">\n",
              "    <div>\n",
              "<style scoped>\n",
              "    .dataframe tbody tr th:only-of-type {\n",
              "        vertical-align: middle;\n",
              "    }\n",
              "\n",
              "    .dataframe tbody tr th {\n",
              "        vertical-align: top;\n",
              "    }\n",
              "\n",
              "    .dataframe thead th {\n",
              "        text-align: right;\n",
              "    }\n",
              "</style>\n",
              "<table border=\"1\" class=\"dataframe\">\n",
              "  <thead>\n",
              "    <tr style=\"text-align: right;\">\n",
              "      <th></th>\n",
              "      <th>record</th>\n",
              "      <th>name</th>\n",
              "      <th>cpf</th>\n",
              "      <th>birthday</th>\n",
              "      <th>Gluconise</th>\n",
              "      <th>Adrino_posina</th>\n",
              "      <th>Gamma_R</th>\n",
              "      <th>Nitro_K</th>\n",
              "      <th>H278</th>\n",
              "      <th>Plate</th>\n",
              "      <th>Factor_risk</th>\n",
              "      <th>norm_gamma_type</th>\n",
              "      <th>Blood_type</th>\n",
              "      <th>Blood_Rh</th>\n",
              "      <th>Low_Risk</th>\n",
              "      <th>Medium_Risk</th>\n",
              "      <th>High_Risk</th>\n",
              "    </tr>\n",
              "  </thead>\n",
              "  <tbody>\n",
              "    <tr>\n",
              "      <th>0</th>\n",
              "      <td>89256</td>\n",
              "      <td>Bryan Cardoso</td>\n",
              "      <td>83619570221</td>\n",
              "      <td>2006-11-14</td>\n",
              "      <td>916.6484</td>\n",
              "      <td>Uncovered</td>\n",
              "      <td>2</td>\n",
              "      <td>3.07</td>\n",
              "      <td>5749.42</td>\n",
              "      <td>DD</td>\n",
              "      <td>5</td>\n",
              "      <td>1</td>\n",
              "      <td>AB</td>\n",
              "      <td>+</td>\n",
              "      <td>True</td>\n",
              "      <td>False</td>\n",
              "      <td>False</td>\n",
              "    </tr>\n",
              "    <tr>\n",
              "      <th>1</th>\n",
              "      <td>72173</td>\n",
              "      <td>Sr. Vicente Lima</td>\n",
              "      <td>30861597230</td>\n",
              "      <td>2013-11-22</td>\n",
              "      <td>988.7466</td>\n",
              "      <td>Clinical Done</td>\n",
              "      <td>5</td>\n",
              "      <td>2.53</td>\n",
              "      <td>285.18</td>\n",
              "      <td>NaN</td>\n",
              "      <td>2</td>\n",
              "      <td>1</td>\n",
              "      <td>O</td>\n",
              "      <td>+</td>\n",
              "      <td>True</td>\n",
              "      <td>False</td>\n",
              "      <td>False</td>\n",
              "    </tr>\n",
              "    <tr>\n",
              "      <th>2</th>\n",
              "      <td>95816</td>\n",
              "      <td>Otávio da Rosa</td>\n",
              "      <td>89532614737</td>\n",
              "      <td>2008-10-23</td>\n",
              "      <td>572.7608</td>\n",
              "      <td>Uncovered</td>\n",
              "      <td>4</td>\n",
              "      <td>3.30</td>\n",
              "      <td>8000.08</td>\n",
              "      <td>X</td>\n",
              "      <td>5</td>\n",
              "      <td>1</td>\n",
              "      <td>O</td>\n",
              "      <td>-</td>\n",
              "      <td>True</td>\n",
              "      <td>False</td>\n",
              "      <td>False</td>\n",
              "    </tr>\n",
              "    <tr>\n",
              "      <th>3</th>\n",
              "      <td>44566</td>\n",
              "      <td>Alícia da Cruz</td>\n",
              "      <td>53027691406</td>\n",
              "      <td>2011-07-25</td>\n",
              "      <td>1328.0542</td>\n",
              "      <td>Clinical Done</td>\n",
              "      <td>5</td>\n",
              "      <td>3.07</td>\n",
              "      <td>5737.50</td>\n",
              "      <td>DD</td>\n",
              "      <td>5</td>\n",
              "      <td>1</td>\n",
              "      <td>AB</td>\n",
              "      <td>-</td>\n",
              "      <td>False</td>\n",
              "      <td>True</td>\n",
              "      <td>True</td>\n",
              "    </tr>\n",
              "    <tr>\n",
              "      <th>4</th>\n",
              "      <td>31019</td>\n",
              "      <td>Maysa Novaes</td>\n",
              "      <td>53817096259</td>\n",
              "      <td>2021-06-25</td>\n",
              "      <td>641.3129</td>\n",
              "      <td>Clinical Done</td>\n",
              "      <td>3</td>\n",
              "      <td>3.05</td>\n",
              "      <td>5476.12</td>\n",
              "      <td>B</td>\n",
              "      <td>5</td>\n",
              "      <td>1</td>\n",
              "      <td>NaN</td>\n",
              "      <td>+</td>\n",
              "      <td>False</td>\n",
              "      <td>True</td>\n",
              "      <td>True</td>\n",
              "    </tr>\n",
              "  </tbody>\n",
              "</table>\n",
              "</div>\n",
              "    <div class=\"colab-df-buttons\">\n",
              "\n",
              "  <div class=\"colab-df-container\">\n",
              "    <button class=\"colab-df-convert\" onclick=\"convertToInteractive('df-7b5185d8-6ca0-4a35-a306-f80818ff2c16')\"\n",
              "            title=\"Convert this dataframe to an interactive table.\"\n",
              "            style=\"display:none;\">\n",
              "\n",
              "  <svg xmlns=\"http://www.w3.org/2000/svg\" height=\"24px\" viewBox=\"0 -960 960 960\">\n",
              "    <path d=\"M120-120v-720h720v720H120Zm60-500h600v-160H180v160Zm220 220h160v-160H400v160Zm0 220h160v-160H400v160ZM180-400h160v-160H180v160Zm440 0h160v-160H620v160ZM180-180h160v-160H180v160Zm440 0h160v-160H620v160Z\"/>\n",
              "  </svg>\n",
              "    </button>\n",
              "\n",
              "  <style>\n",
              "    .colab-df-container {\n",
              "      display:flex;\n",
              "      gap: 12px;\n",
              "    }\n",
              "\n",
              "    .colab-df-convert {\n",
              "      background-color: #E8F0FE;\n",
              "      border: none;\n",
              "      border-radius: 50%;\n",
              "      cursor: pointer;\n",
              "      display: none;\n",
              "      fill: #1967D2;\n",
              "      height: 32px;\n",
              "      padding: 0 0 0 0;\n",
              "      width: 32px;\n",
              "    }\n",
              "\n",
              "    .colab-df-convert:hover {\n",
              "      background-color: #E2EBFA;\n",
              "      box-shadow: 0px 1px 2px rgba(60, 64, 67, 0.3), 0px 1px 3px 1px rgba(60, 64, 67, 0.15);\n",
              "      fill: #174EA6;\n",
              "    }\n",
              "\n",
              "    .colab-df-buttons div {\n",
              "      margin-bottom: 4px;\n",
              "    }\n",
              "\n",
              "    [theme=dark] .colab-df-convert {\n",
              "      background-color: #3B4455;\n",
              "      fill: #D2E3FC;\n",
              "    }\n",
              "\n",
              "    [theme=dark] .colab-df-convert:hover {\n",
              "      background-color: #434B5C;\n",
              "      box-shadow: 0px 1px 3px 1px rgba(0, 0, 0, 0.15);\n",
              "      filter: drop-shadow(0px 1px 2px rgba(0, 0, 0, 0.3));\n",
              "      fill: #FFFFFF;\n",
              "    }\n",
              "  </style>\n",
              "\n",
              "    <script>\n",
              "      const buttonEl =\n",
              "        document.querySelector('#df-7b5185d8-6ca0-4a35-a306-f80818ff2c16 button.colab-df-convert');\n",
              "      buttonEl.style.display =\n",
              "        google.colab.kernel.accessAllowed ? 'block' : 'none';\n",
              "\n",
              "      async function convertToInteractive(key) {\n",
              "        const element = document.querySelector('#df-7b5185d8-6ca0-4a35-a306-f80818ff2c16');\n",
              "        const dataTable =\n",
              "          await google.colab.kernel.invokeFunction('convertToInteractive',\n",
              "                                                    [key], {});\n",
              "        if (!dataTable) return;\n",
              "\n",
              "        const docLinkHtml = 'Like what you see? Visit the ' +\n",
              "          '<a target=\"_blank\" href=https://colab.research.google.com/notebooks/data_table.ipynb>data table notebook</a>'\n",
              "          + ' to learn more about interactive tables.';\n",
              "        element.innerHTML = '';\n",
              "        dataTable['output_type'] = 'display_data';\n",
              "        await google.colab.output.renderOutput(dataTable, element);\n",
              "        const docLink = document.createElement('div');\n",
              "        docLink.innerHTML = docLinkHtml;\n",
              "        element.appendChild(docLink);\n",
              "      }\n",
              "    </script>\n",
              "  </div>\n",
              "\n",
              "\n",
              "<div id=\"df-32d5a300-8f3e-4ad7-bbf1-af1084da5c74\">\n",
              "  <button class=\"colab-df-quickchart\" onclick=\"quickchart('df-32d5a300-8f3e-4ad7-bbf1-af1084da5c74')\"\n",
              "            title=\"Suggest charts.\"\n",
              "            style=\"display:none;\">\n",
              "\n",
              "<svg xmlns=\"http://www.w3.org/2000/svg\" height=\"24px\"viewBox=\"0 0 24 24\"\n",
              "     width=\"24px\">\n",
              "    <g>\n",
              "        <path d=\"M19 3H5c-1.1 0-2 .9-2 2v14c0 1.1.9 2 2 2h14c1.1 0 2-.9 2-2V5c0-1.1-.9-2-2-2zM9 17H7v-7h2v7zm4 0h-2V7h2v10zm4 0h-2v-4h2v4z\"/>\n",
              "    </g>\n",
              "</svg>\n",
              "  </button>\n",
              "\n",
              "<style>\n",
              "  .colab-df-quickchart {\n",
              "    background-color: #E8F0FE;\n",
              "    border: none;\n",
              "    border-radius: 50%;\n",
              "    cursor: pointer;\n",
              "    display: none;\n",
              "    fill: #1967D2;\n",
              "    height: 32px;\n",
              "    padding: 0 0 0 0;\n",
              "    width: 32px;\n",
              "  }\n",
              "\n",
              "  .colab-df-quickchart:hover {\n",
              "    background-color: #E2EBFA;\n",
              "    box-shadow: 0px 1px 2px rgba(60, 64, 67, 0.3), 0px 1px 3px 1px rgba(60, 64, 67, 0.15);\n",
              "    fill: #174EA6;\n",
              "  }\n",
              "\n",
              "  [theme=dark] .colab-df-quickchart {\n",
              "    background-color: #3B4455;\n",
              "    fill: #D2E3FC;\n",
              "  }\n",
              "\n",
              "  [theme=dark] .colab-df-quickchart:hover {\n",
              "    background-color: #434B5C;\n",
              "    box-shadow: 0px 1px 3px 1px rgba(0, 0, 0, 0.15);\n",
              "    filter: drop-shadow(0px 1px 2px rgba(0, 0, 0, 0.3));\n",
              "    fill: #FFFFFF;\n",
              "  }\n",
              "</style>\n",
              "\n",
              "  <script>\n",
              "    async function quickchart(key) {\n",
              "      const charts = await google.colab.kernel.invokeFunction(\n",
              "          'suggestCharts', [key], {});\n",
              "    }\n",
              "    (() => {\n",
              "      let quickchartButtonEl =\n",
              "        document.querySelector('#df-32d5a300-8f3e-4ad7-bbf1-af1084da5c74 button');\n",
              "      quickchartButtonEl.style.display =\n",
              "        google.colab.kernel.accessAllowed ? 'block' : 'none';\n",
              "    })();\n",
              "  </script>\n",
              "</div>\n",
              "    </div>\n",
              "  </div>\n"
            ]
          },
          "metadata": {},
          "execution_count": 22
        }
      ]
    }
  ]
}