{
  "nbformat": 4,
  "nbformat_minor": 0,
  "metadata": {
    "anaconda-cloud": {},
    "kernelspec": {
      "display_name": "Python 3",
      "language": "python",
      "name": "python3"
    },
    "language_info": {
      "codemirror_mode": {
        "name": "ipython",
        "version": 3
      },
      "file_extension": ".py",
      "mimetype": "text/x-python",
      "name": "python",
      "nbconvert_exporter": "python",
      "pygments_lexer": "ipython3",
      "version": "3.7.4"
    },
    "colab": {
      "provenance": [],
      "include_colab_link": true
    }
  },
  "cells": [
    {
      "cell_type": "markdown",
      "metadata": {
        "id": "view-in-github",
        "colab_type": "text"
      },
      "source": [
        "<a href=\"https://colab.research.google.com/github/Rogerio-mack/IMT_Ciencia_de_Dados/blob/main/IMT_RForest_SelModels_Desafio.ipynb\" target=\"_parent\"><img src=\"https://colab.research.google.com/assets/colab-badge.svg\" alt=\"Open In Colab\"/></a>"
      ]
    },
    {
      "cell_type": "markdown",
      "metadata": {
        "id": "80CF3Eq9EXDW"
      },
      "source": [
        "<head>\n",
        "  <meta name=\"author\" content=\"Rogério de Oliveira\">\n",
        "  <meta institution=\"author\" content=\"ITM\">\n",
        "</head>\n",
        "\n",
        "<img src=\"https://maua.br/images/selo-60-anos-maua.svg\" width=300, align=\"right\">\n",
        "<!-- <h1 align=left><font size = 6, style=\"color:rgb(200,0,0)\"> optional title </font></h1> -->\n"
      ]
    },
    {
      "cell_type": "markdown",
      "source": [
        "# Random Forest & Seleção de Modelos & DESAFIO\n",
        "\n",
        "Nesta aula você vai:\n",
        "\n",
        "1. Aprender sobre mais um modelo de classificação muito empregado, as Florestas de Árvores Aleatórias\n",
        "2. Recordar as métricas para a Seleção de Modelos\n",
        "3. Além disso será desafiado a obter um melhor modelo de classificação com sua equipe"
      ],
      "metadata": {
        "id": "-FadhN22Nll3"
      }
    },
    {
      "cell_type": "code",
      "metadata": {
        "id": "xyywcuI7p1kG"
      },
      "source": [
        "import numpy as np\n",
        "import pandas as pd\n",
        "import matplotlib.pyplot as plt\n",
        "%matplotlib inline\n",
        "from matplotlib.lines import Line2D\n",
        "import seaborn as sns"
      ],
      "execution_count": 12,
      "outputs": []
    },
    {
      "cell_type": "markdown",
      "metadata": {
        "id": "xkIxewlH6CDT"
      },
      "source": [
        "# Ensemble Models e Random Forests"
      ]
    },
    {
      "cell_type": "markdown",
      "metadata": {
        "id": "6iQ0cyeRT-uk"
      },
      "source": [
        "*Ensemble models* são combinações de modelos. Eles são as mais eficazes\n",
        "abordagens em aprendizado de máquina, geralmente alcançando melhor desempenho  que um único\n",
        "modelo. Trazem um custo algorítmico alto, uma maior complexidade e muitas vezes dificultam a interpretabilidade dos modelos.\n",
        "Existem duas motivações principais por trás da aprendizagem com *Ensemble models*: calcular a média das medidas pode fornecer uma\n",
        "estimativa mais confiável e estável e, portanto, se pudermos construir um modelo de conjunto a partir dos mesmos dados de treinamento,\n",
        "podemos reduzir o efeito de variações aleatórias em modelos únicos."
      ]
    },
    {
      "cell_type": "markdown",
      "source": [
        "### Outros *ensemble* models"
      ],
      "metadata": {
        "id": "TrwpPAfqUoyX"
      }
    },
    {
      "cell_type": "code",
      "source": [
        "from sklearn.ensemble import RandomForestClassifier\n",
        "from sklearn.ensemble import AdaBoostClassifier\n",
        "from sklearn.ensemble import GradientBoostingClassifier"
      ],
      "metadata": {
        "id": "Y7a_PeUNUno2"
      },
      "execution_count": 13,
      "outputs": []
    },
    {
      "cell_type": "markdown",
      "metadata": {
        "id": "QGCtIPXmZbeH"
      },
      "source": [
        "## Treinando uma Floresta Aleatória\n",
        "\n",
        "Uma Floresta Aleatória consiste basicamente em empregarmos várias diferentes  Árvores de Decisão sobre os mesmos dados e obtermos a média dessas árvores para a predição. Na construção de um modelo de conjunto, *ensemble model*, em que todos modelos do conjunto são árvores de decisão é importante garantir que cada árvore individual não esteja muito correlacionada a qualquer uma das outras árvores no modelo. Para garantir isso a construção de florestas aleatórias baseia-se em dois princípios: a *agregação bootstrap*, ou *bagging*; e a seleção aleatória de atributos.\n",
        "\n"
      ]
    },
    {
      "cell_type": "markdown",
      "metadata": {
        "id": "CaW5aMoD58gG"
      },
      "source": [
        "### Bagging, *Bootstrap Aggregation*\n",
        "\n",
        "As árvores de decisão são muito sensíveis aos dados de treinamento com pequenas mudanças dos dados resultando em árvores significativamente diferentes. A floresta aleatória tira vantagem disso, permitindo que cada árvore individual faça uma amostra aleatória do conjunto de dados com substituição, resultando em árvores bastante diferentes. Este processo é conhecido como *bagging*.\n",
        "Note que não estamos subdividindo os dados de treinamento em partes menores e treinando cada árvore em uma parte diferente. O número de amostras de treinamento em cada árvore será o mesmo, mas em vez de empregarem os dados de  treinamento originais, cada árvore emprega uma amostra aleatória do mesmo tamanho $n$ dos dados originais com substituição. No exemplo abaixo, para os dados $[1, 2, 3, 4, 5, 6]$ originais são empregadas as amostras $[1,2,3,3,6,6]$,\n",
        "$[1,2,3,4,5,5]$ e $[2,2,3,4,5,6]$, no que se assemelha muito ao CV, embora seja diferente.\n",
        "\n",
        "![imagem](https://github.com/Rogerio-mack/BIG_DATA_Analytics_Mineracao_e_Analise_de_Dados/blob/main/figuras/randomforest2.png?raw=true)\n",
        "\n",
        "\n",
        "<small>\n",
        "<b>\n",
        "Figura 7. Esquema de Funcionamento de Random Forests."
      ]
    },
    {
      "cell_type": "markdown",
      "metadata": {
        "id": "kJfZdUM58bqm"
      },
      "source": [
        "### Seleção Aleatória de Atributos\n",
        "\n",
        "Como você viu na construção de uma árvore de decisão normal escolhemos a cada nível os atributos que produzem a maior separação entre as amostras. Se adotássemos isso em uma Floresta de Árvores, certamente iríamos obter Árvores bastante correlacionadas. Uma Floresta Aleatória se utiliza do fato de que podemos empregar outros atributos e outra ordem dos atributos para construir a árvore, assim cada árvore em uma floresta aleatória escolhe atributos apenas de um subconjunto aleatório o que permite uma maior variação entre as árvores no modelo de conjunto.\n",
        "\n",
        "\n"
      ]
    },
    {
      "cell_type": "markdown",
      "metadata": {
        "id": "ah3R6nXU9tuu"
      },
      "source": [
        "## Predição Final\n",
        "\n",
        "A final, a predição do modelo é obtida como uma média do resultado de cada árvore do conjunto (modelos de regressão) ou o *majority-voting* (classificação)."
      ]
    },
    {
      "cell_type": "markdown",
      "metadata": {
        "id": "aKQdejWl_-vf"
      },
      "source": [
        "# Um exemplo clássico\n",
        "\n",
        "Antes de prosseguir talvez você queira revisar aqui alguns pontos de como empregar o classificador `DecisionTreeClassifier` no exemplo clássico de Mitchell, Tom Michael (1997). Machine Learning."
      ]
    },
    {
      "cell_type": "code",
      "metadata": {
        "id": "kUemGdu_WwkS",
        "colab": {
          "base_uri": "https://localhost:8080/",
          "height": 206
        },
        "outputId": "0c75935e-0235-4292-a7a0-2466fced84bf"
      },
      "source": [
        "df = pd.read_csv('http://meusite.mackenzie.br/rogerio/ML/PlayBallcsv.csv')\n",
        "df.head()"
      ],
      "execution_count": 14,
      "outputs": [
        {
          "output_type": "execute_result",
          "data": {
            "text/plain": [
              "  Day   Outlook Temperature Humidity    Wind Play ball\n",
              "0  D1     Sunny         Hot     High    Weak        No\n",
              "1  D2     Sunny         Hot     High  Strong        No\n",
              "2  D3  Overcast         Hot     High    Weak       Yes\n",
              "3  D4      Rain        Mild     High    Weak       Yes\n",
              "4  D5      Rain        Cool   Normal    Weak       Yes"
            ],
            "text/html": [
              "\n",
              "  <div id=\"df-18ea4e8a-383e-43fc-8a01-adc1f0446e4b\" class=\"colab-df-container\">\n",
              "    <div>\n",
              "<style scoped>\n",
              "    .dataframe tbody tr th:only-of-type {\n",
              "        vertical-align: middle;\n",
              "    }\n",
              "\n",
              "    .dataframe tbody tr th {\n",
              "        vertical-align: top;\n",
              "    }\n",
              "\n",
              "    .dataframe thead th {\n",
              "        text-align: right;\n",
              "    }\n",
              "</style>\n",
              "<table border=\"1\" class=\"dataframe\">\n",
              "  <thead>\n",
              "    <tr style=\"text-align: right;\">\n",
              "      <th></th>\n",
              "      <th>Day</th>\n",
              "      <th>Outlook</th>\n",
              "      <th>Temperature</th>\n",
              "      <th>Humidity</th>\n",
              "      <th>Wind</th>\n",
              "      <th>Play ball</th>\n",
              "    </tr>\n",
              "  </thead>\n",
              "  <tbody>\n",
              "    <tr>\n",
              "      <th>0</th>\n",
              "      <td>D1</td>\n",
              "      <td>Sunny</td>\n",
              "      <td>Hot</td>\n",
              "      <td>High</td>\n",
              "      <td>Weak</td>\n",
              "      <td>No</td>\n",
              "    </tr>\n",
              "    <tr>\n",
              "      <th>1</th>\n",
              "      <td>D2</td>\n",
              "      <td>Sunny</td>\n",
              "      <td>Hot</td>\n",
              "      <td>High</td>\n",
              "      <td>Strong</td>\n",
              "      <td>No</td>\n",
              "    </tr>\n",
              "    <tr>\n",
              "      <th>2</th>\n",
              "      <td>D3</td>\n",
              "      <td>Overcast</td>\n",
              "      <td>Hot</td>\n",
              "      <td>High</td>\n",
              "      <td>Weak</td>\n",
              "      <td>Yes</td>\n",
              "    </tr>\n",
              "    <tr>\n",
              "      <th>3</th>\n",
              "      <td>D4</td>\n",
              "      <td>Rain</td>\n",
              "      <td>Mild</td>\n",
              "      <td>High</td>\n",
              "      <td>Weak</td>\n",
              "      <td>Yes</td>\n",
              "    </tr>\n",
              "    <tr>\n",
              "      <th>4</th>\n",
              "      <td>D5</td>\n",
              "      <td>Rain</td>\n",
              "      <td>Cool</td>\n",
              "      <td>Normal</td>\n",
              "      <td>Weak</td>\n",
              "      <td>Yes</td>\n",
              "    </tr>\n",
              "  </tbody>\n",
              "</table>\n",
              "</div>\n",
              "    <div class=\"colab-df-buttons\">\n",
              "\n",
              "  <div class=\"colab-df-container\">\n",
              "    <button class=\"colab-df-convert\" onclick=\"convertToInteractive('df-18ea4e8a-383e-43fc-8a01-adc1f0446e4b')\"\n",
              "            title=\"Convert this dataframe to an interactive table.\"\n",
              "            style=\"display:none;\">\n",
              "\n",
              "  <svg xmlns=\"http://www.w3.org/2000/svg\" height=\"24px\" viewBox=\"0 -960 960 960\">\n",
              "    <path d=\"M120-120v-720h720v720H120Zm60-500h600v-160H180v160Zm220 220h160v-160H400v160Zm0 220h160v-160H400v160ZM180-400h160v-160H180v160Zm440 0h160v-160H620v160ZM180-180h160v-160H180v160Zm440 0h160v-160H620v160Z\"/>\n",
              "  </svg>\n",
              "    </button>\n",
              "\n",
              "  <style>\n",
              "    .colab-df-container {\n",
              "      display:flex;\n",
              "      gap: 12px;\n",
              "    }\n",
              "\n",
              "    .colab-df-convert {\n",
              "      background-color: #E8F0FE;\n",
              "      border: none;\n",
              "      border-radius: 50%;\n",
              "      cursor: pointer;\n",
              "      display: none;\n",
              "      fill: #1967D2;\n",
              "      height: 32px;\n",
              "      padding: 0 0 0 0;\n",
              "      width: 32px;\n",
              "    }\n",
              "\n",
              "    .colab-df-convert:hover {\n",
              "      background-color: #E2EBFA;\n",
              "      box-shadow: 0px 1px 2px rgba(60, 64, 67, 0.3), 0px 1px 3px 1px rgba(60, 64, 67, 0.15);\n",
              "      fill: #174EA6;\n",
              "    }\n",
              "\n",
              "    .colab-df-buttons div {\n",
              "      margin-bottom: 4px;\n",
              "    }\n",
              "\n",
              "    [theme=dark] .colab-df-convert {\n",
              "      background-color: #3B4455;\n",
              "      fill: #D2E3FC;\n",
              "    }\n",
              "\n",
              "    [theme=dark] .colab-df-convert:hover {\n",
              "      background-color: #434B5C;\n",
              "      box-shadow: 0px 1px 3px 1px rgba(0, 0, 0, 0.15);\n",
              "      filter: drop-shadow(0px 1px 2px rgba(0, 0, 0, 0.3));\n",
              "      fill: #FFFFFF;\n",
              "    }\n",
              "  </style>\n",
              "\n",
              "    <script>\n",
              "      const buttonEl =\n",
              "        document.querySelector('#df-18ea4e8a-383e-43fc-8a01-adc1f0446e4b button.colab-df-convert');\n",
              "      buttonEl.style.display =\n",
              "        google.colab.kernel.accessAllowed ? 'block' : 'none';\n",
              "\n",
              "      async function convertToInteractive(key) {\n",
              "        const element = document.querySelector('#df-18ea4e8a-383e-43fc-8a01-adc1f0446e4b');\n",
              "        const dataTable =\n",
              "          await google.colab.kernel.invokeFunction('convertToInteractive',\n",
              "                                                    [key], {});\n",
              "        if (!dataTable) return;\n",
              "\n",
              "        const docLinkHtml = 'Like what you see? Visit the ' +\n",
              "          '<a target=\"_blank\" href=https://colab.research.google.com/notebooks/data_table.ipynb>data table notebook</a>'\n",
              "          + ' to learn more about interactive tables.';\n",
              "        element.innerHTML = '';\n",
              "        dataTable['output_type'] = 'display_data';\n",
              "        await google.colab.output.renderOutput(dataTable, element);\n",
              "        const docLink = document.createElement('div');\n",
              "        docLink.innerHTML = docLinkHtml;\n",
              "        element.appendChild(docLink);\n",
              "      }\n",
              "    </script>\n",
              "  </div>\n",
              "\n",
              "\n",
              "<div id=\"df-d257ab3e-a2c8-49db-8a8f-d7df68b26a26\">\n",
              "  <button class=\"colab-df-quickchart\" onclick=\"quickchart('df-d257ab3e-a2c8-49db-8a8f-d7df68b26a26')\"\n",
              "            title=\"Suggest charts.\"\n",
              "            style=\"display:none;\">\n",
              "\n",
              "<svg xmlns=\"http://www.w3.org/2000/svg\" height=\"24px\"viewBox=\"0 0 24 24\"\n",
              "     width=\"24px\">\n",
              "    <g>\n",
              "        <path d=\"M19 3H5c-1.1 0-2 .9-2 2v14c0 1.1.9 2 2 2h14c1.1 0 2-.9 2-2V5c0-1.1-.9-2-2-2zM9 17H7v-7h2v7zm4 0h-2V7h2v10zm4 0h-2v-4h2v4z\"/>\n",
              "    </g>\n",
              "</svg>\n",
              "  </button>\n",
              "\n",
              "<style>\n",
              "  .colab-df-quickchart {\n",
              "    background-color: #E8F0FE;\n",
              "    border: none;\n",
              "    border-radius: 50%;\n",
              "    cursor: pointer;\n",
              "    display: none;\n",
              "    fill: #1967D2;\n",
              "    height: 32px;\n",
              "    padding: 0 0 0 0;\n",
              "    width: 32px;\n",
              "  }\n",
              "\n",
              "  .colab-df-quickchart:hover {\n",
              "    background-color: #E2EBFA;\n",
              "    box-shadow: 0px 1px 2px rgba(60, 64, 67, 0.3), 0px 1px 3px 1px rgba(60, 64, 67, 0.15);\n",
              "    fill: #174EA6;\n",
              "  }\n",
              "\n",
              "  [theme=dark] .colab-df-quickchart {\n",
              "    background-color: #3B4455;\n",
              "    fill: #D2E3FC;\n",
              "  }\n",
              "\n",
              "  [theme=dark] .colab-df-quickchart:hover {\n",
              "    background-color: #434B5C;\n",
              "    box-shadow: 0px 1px 3px 1px rgba(0, 0, 0, 0.15);\n",
              "    filter: drop-shadow(0px 1px 2px rgba(0, 0, 0, 0.3));\n",
              "    fill: #FFFFFF;\n",
              "  }\n",
              "</style>\n",
              "\n",
              "  <script>\n",
              "    async function quickchart(key) {\n",
              "      const charts = await google.colab.kernel.invokeFunction(\n",
              "          'suggestCharts', [key], {});\n",
              "    }\n",
              "    (() => {\n",
              "      let quickchartButtonEl =\n",
              "        document.querySelector('#df-d257ab3e-a2c8-49db-8a8f-d7df68b26a26 button');\n",
              "      quickchartButtonEl.style.display =\n",
              "        google.colab.kernel.accessAllowed ? 'block' : 'none';\n",
              "    })();\n",
              "  </script>\n",
              "</div>\n",
              "    </div>\n",
              "  </div>\n"
            ]
          },
          "metadata": {},
          "execution_count": 14
        }
      ]
    },
    {
      "cell_type": "markdown",
      "metadata": {
        "id": "DoL6MGynAhAN"
      },
      "source": [
        "Primeiramente você precisa fazer o encode dos dados, uma restrição da implementação do `scikit-learn`."
      ]
    },
    {
      "cell_type": "code",
      "metadata": {
        "id": "NwMqHcMLsA0_",
        "colab": {
          "base_uri": "https://localhost:8080/",
          "height": 206
        },
        "outputId": "1cc31d9f-1226-43fd-9503-6c94b47d7461"
      },
      "source": [
        "from sklearn.preprocessing import OneHotEncoder, LabelEncoder\n",
        "\n",
        "df_labels = df.drop(columns=['Day','Play ball']).apply(LabelEncoder().fit_transform)\n",
        "\n",
        "pd.concat([ df_labels, df[['Play ball']] ], axis=1).head()"
      ],
      "execution_count": 15,
      "outputs": [
        {
          "output_type": "execute_result",
          "data": {
            "text/plain": [
              "   Outlook  Temperature  Humidity  Wind Play ball\n",
              "0        2            1         0     1        No\n",
              "1        2            1         0     0        No\n",
              "2        0            1         0     1       Yes\n",
              "3        1            2         0     1       Yes\n",
              "4        1            0         1     1       Yes"
            ],
            "text/html": [
              "\n",
              "  <div id=\"df-4b8c6f74-9330-4b33-80d4-0b0648c0e8f8\" class=\"colab-df-container\">\n",
              "    <div>\n",
              "<style scoped>\n",
              "    .dataframe tbody tr th:only-of-type {\n",
              "        vertical-align: middle;\n",
              "    }\n",
              "\n",
              "    .dataframe tbody tr th {\n",
              "        vertical-align: top;\n",
              "    }\n",
              "\n",
              "    .dataframe thead th {\n",
              "        text-align: right;\n",
              "    }\n",
              "</style>\n",
              "<table border=\"1\" class=\"dataframe\">\n",
              "  <thead>\n",
              "    <tr style=\"text-align: right;\">\n",
              "      <th></th>\n",
              "      <th>Outlook</th>\n",
              "      <th>Temperature</th>\n",
              "      <th>Humidity</th>\n",
              "      <th>Wind</th>\n",
              "      <th>Play ball</th>\n",
              "    </tr>\n",
              "  </thead>\n",
              "  <tbody>\n",
              "    <tr>\n",
              "      <th>0</th>\n",
              "      <td>2</td>\n",
              "      <td>1</td>\n",
              "      <td>0</td>\n",
              "      <td>1</td>\n",
              "      <td>No</td>\n",
              "    </tr>\n",
              "    <tr>\n",
              "      <th>1</th>\n",
              "      <td>2</td>\n",
              "      <td>1</td>\n",
              "      <td>0</td>\n",
              "      <td>0</td>\n",
              "      <td>No</td>\n",
              "    </tr>\n",
              "    <tr>\n",
              "      <th>2</th>\n",
              "      <td>0</td>\n",
              "      <td>1</td>\n",
              "      <td>0</td>\n",
              "      <td>1</td>\n",
              "      <td>Yes</td>\n",
              "    </tr>\n",
              "    <tr>\n",
              "      <th>3</th>\n",
              "      <td>1</td>\n",
              "      <td>2</td>\n",
              "      <td>0</td>\n",
              "      <td>1</td>\n",
              "      <td>Yes</td>\n",
              "    </tr>\n",
              "    <tr>\n",
              "      <th>4</th>\n",
              "      <td>1</td>\n",
              "      <td>0</td>\n",
              "      <td>1</td>\n",
              "      <td>1</td>\n",
              "      <td>Yes</td>\n",
              "    </tr>\n",
              "  </tbody>\n",
              "</table>\n",
              "</div>\n",
              "    <div class=\"colab-df-buttons\">\n",
              "\n",
              "  <div class=\"colab-df-container\">\n",
              "    <button class=\"colab-df-convert\" onclick=\"convertToInteractive('df-4b8c6f74-9330-4b33-80d4-0b0648c0e8f8')\"\n",
              "            title=\"Convert this dataframe to an interactive table.\"\n",
              "            style=\"display:none;\">\n",
              "\n",
              "  <svg xmlns=\"http://www.w3.org/2000/svg\" height=\"24px\" viewBox=\"0 -960 960 960\">\n",
              "    <path d=\"M120-120v-720h720v720H120Zm60-500h600v-160H180v160Zm220 220h160v-160H400v160Zm0 220h160v-160H400v160ZM180-400h160v-160H180v160Zm440 0h160v-160H620v160ZM180-180h160v-160H180v160Zm440 0h160v-160H620v160Z\"/>\n",
              "  </svg>\n",
              "    </button>\n",
              "\n",
              "  <style>\n",
              "    .colab-df-container {\n",
              "      display:flex;\n",
              "      gap: 12px;\n",
              "    }\n",
              "\n",
              "    .colab-df-convert {\n",
              "      background-color: #E8F0FE;\n",
              "      border: none;\n",
              "      border-radius: 50%;\n",
              "      cursor: pointer;\n",
              "      display: none;\n",
              "      fill: #1967D2;\n",
              "      height: 32px;\n",
              "      padding: 0 0 0 0;\n",
              "      width: 32px;\n",
              "    }\n",
              "\n",
              "    .colab-df-convert:hover {\n",
              "      background-color: #E2EBFA;\n",
              "      box-shadow: 0px 1px 2px rgba(60, 64, 67, 0.3), 0px 1px 3px 1px rgba(60, 64, 67, 0.15);\n",
              "      fill: #174EA6;\n",
              "    }\n",
              "\n",
              "    .colab-df-buttons div {\n",
              "      margin-bottom: 4px;\n",
              "    }\n",
              "\n",
              "    [theme=dark] .colab-df-convert {\n",
              "      background-color: #3B4455;\n",
              "      fill: #D2E3FC;\n",
              "    }\n",
              "\n",
              "    [theme=dark] .colab-df-convert:hover {\n",
              "      background-color: #434B5C;\n",
              "      box-shadow: 0px 1px 3px 1px rgba(0, 0, 0, 0.15);\n",
              "      filter: drop-shadow(0px 1px 2px rgba(0, 0, 0, 0.3));\n",
              "      fill: #FFFFFF;\n",
              "    }\n",
              "  </style>\n",
              "\n",
              "    <script>\n",
              "      const buttonEl =\n",
              "        document.querySelector('#df-4b8c6f74-9330-4b33-80d4-0b0648c0e8f8 button.colab-df-convert');\n",
              "      buttonEl.style.display =\n",
              "        google.colab.kernel.accessAllowed ? 'block' : 'none';\n",
              "\n",
              "      async function convertToInteractive(key) {\n",
              "        const element = document.querySelector('#df-4b8c6f74-9330-4b33-80d4-0b0648c0e8f8');\n",
              "        const dataTable =\n",
              "          await google.colab.kernel.invokeFunction('convertToInteractive',\n",
              "                                                    [key], {});\n",
              "        if (!dataTable) return;\n",
              "\n",
              "        const docLinkHtml = 'Like what you see? Visit the ' +\n",
              "          '<a target=\"_blank\" href=https://colab.research.google.com/notebooks/data_table.ipynb>data table notebook</a>'\n",
              "          + ' to learn more about interactive tables.';\n",
              "        element.innerHTML = '';\n",
              "        dataTable['output_type'] = 'display_data';\n",
              "        await google.colab.output.renderOutput(dataTable, element);\n",
              "        const docLink = document.createElement('div');\n",
              "        docLink.innerHTML = docLinkHtml;\n",
              "        element.appendChild(docLink);\n",
              "      }\n",
              "    </script>\n",
              "  </div>\n",
              "\n",
              "\n",
              "<div id=\"df-f0991a5e-5e6c-4870-be2b-da5a521b739e\">\n",
              "  <button class=\"colab-df-quickchart\" onclick=\"quickchart('df-f0991a5e-5e6c-4870-be2b-da5a521b739e')\"\n",
              "            title=\"Suggest charts.\"\n",
              "            style=\"display:none;\">\n",
              "\n",
              "<svg xmlns=\"http://www.w3.org/2000/svg\" height=\"24px\"viewBox=\"0 0 24 24\"\n",
              "     width=\"24px\">\n",
              "    <g>\n",
              "        <path d=\"M19 3H5c-1.1 0-2 .9-2 2v14c0 1.1.9 2 2 2h14c1.1 0 2-.9 2-2V5c0-1.1-.9-2-2-2zM9 17H7v-7h2v7zm4 0h-2V7h2v10zm4 0h-2v-4h2v4z\"/>\n",
              "    </g>\n",
              "</svg>\n",
              "  </button>\n",
              "\n",
              "<style>\n",
              "  .colab-df-quickchart {\n",
              "    background-color: #E8F0FE;\n",
              "    border: none;\n",
              "    border-radius: 50%;\n",
              "    cursor: pointer;\n",
              "    display: none;\n",
              "    fill: #1967D2;\n",
              "    height: 32px;\n",
              "    padding: 0 0 0 0;\n",
              "    width: 32px;\n",
              "  }\n",
              "\n",
              "  .colab-df-quickchart:hover {\n",
              "    background-color: #E2EBFA;\n",
              "    box-shadow: 0px 1px 2px rgba(60, 64, 67, 0.3), 0px 1px 3px 1px rgba(60, 64, 67, 0.15);\n",
              "    fill: #174EA6;\n",
              "  }\n",
              "\n",
              "  [theme=dark] .colab-df-quickchart {\n",
              "    background-color: #3B4455;\n",
              "    fill: #D2E3FC;\n",
              "  }\n",
              "\n",
              "  [theme=dark] .colab-df-quickchart:hover {\n",
              "    background-color: #434B5C;\n",
              "    box-shadow: 0px 1px 3px 1px rgba(0, 0, 0, 0.15);\n",
              "    filter: drop-shadow(0px 1px 2px rgba(0, 0, 0, 0.3));\n",
              "    fill: #FFFFFF;\n",
              "  }\n",
              "</style>\n",
              "\n",
              "  <script>\n",
              "    async function quickchart(key) {\n",
              "      const charts = await google.colab.kernel.invokeFunction(\n",
              "          'suggestCharts', [key], {});\n",
              "    }\n",
              "    (() => {\n",
              "      let quickchartButtonEl =\n",
              "        document.querySelector('#df-f0991a5e-5e6c-4870-be2b-da5a521b739e button');\n",
              "      quickchartButtonEl.style.display =\n",
              "        google.colab.kernel.accessAllowed ? 'block' : 'none';\n",
              "    })();\n",
              "  </script>\n",
              "</div>\n",
              "    </div>\n",
              "  </div>\n"
            ]
          },
          "metadata": {},
          "execution_count": 15
        }
      ]
    },
    {
      "cell_type": "markdown",
      "metadata": {
        "id": "8-0y3D5XAq2l"
      },
      "source": [
        "O uso do estimador segue do mesmo modo que já empregamos para o estimador logístico, o Knn e é a forma de empregarmos qualquer modelo de aprendizado supervisinado."
      ]
    },
    {
      "cell_type": "code",
      "metadata": {
        "id": "sQENADrLpDhQ",
        "colab": {
          "base_uri": "https://localhost:8080/"
        },
        "outputId": "2fc67912-265a-4347-df0e-53e8ced57238"
      },
      "source": [
        "from sklearn.tree import DecisionTreeClassifier\n",
        "\n",
        "X = df_labels\n",
        "y = df['Play ball']\n",
        "\n",
        "clf = DecisionTreeClassifier()\n",
        "\n",
        "clf.fit(X,y)\n",
        "y_pred = clf.predict(X)\n",
        "print( clf.score(X,y) )\n"
      ],
      "execution_count": 16,
      "outputs": [
        {
          "output_type": "stream",
          "name": "stdout",
          "text": [
            "1.0\n"
          ]
        }
      ]
    },
    {
      "cell_type": "markdown",
      "metadata": {
        "id": "z9mc4zQ7A71l"
      },
      "source": [
        "Você pode achar útil visualizar a árvore de decisão criada  com o `graphviz`."
      ]
    },
    {
      "cell_type": "code",
      "metadata": {
        "colab": {
          "base_uri": "https://localhost:8080/",
          "height": 657
        },
        "id": "AKR9WM9I_EC-",
        "outputId": "142f37fa-9753-43f5-8bbc-f51ff1bf4d6a"
      },
      "source": [
        "from sklearn import tree\n",
        "import graphviz\n",
        "dot_data = tree.export_graphviz(clf, out_file=None,\n",
        "                     feature_names=list(df_labels.columns.values),\n",
        "                     class_names=list(sorted(df['Play ball'].unique())),\n",
        "                     filled=True, rounded=True,\n",
        "                     special_characters=False,\n",
        "                     proportion=False, impurity=False, node_ids=False,label=None)\n",
        "graph = graphviz.Source(dot_data)\n",
        "graph.render('graph_cartoons') # para gravação em .pdf\n",
        "graph"
      ],
      "execution_count": 17,
      "outputs": [
        {
          "output_type": "execute_result",
          "data": {
            "image/svg+xml": "<?xml version=\"1.0\" encoding=\"UTF-8\" standalone=\"no\"?>\n<!DOCTYPE svg PUBLIC \"-//W3C//DTD SVG 1.1//EN\"\n \"http://www.w3.org/Graphics/SVG/1.1/DTD/svg11.dtd\">\n<!-- Generated by graphviz version 2.43.0 (0)\n -->\n<!-- Title: Tree Pages: 1 -->\n<svg width=\"379pt\" height=\"477pt\"\n viewBox=\"0.00 0.00 378.50 477.00\" xmlns=\"http://www.w3.org/2000/svg\" xmlns:xlink=\"http://www.w3.org/1999/xlink\">\n<g id=\"graph0\" class=\"graph\" transform=\"scale(1 1) rotate(0) translate(4 473)\">\n<title>Tree</title>\n<polygon fill=\"white\" stroke=\"transparent\" points=\"-4,4 -4,-473 374.5,-473 374.5,4 -4,4\"/>\n<!-- 0 -->\n<g id=\"node1\" class=\"node\">\n<title>0</title>\n<path fill=\"#a7d3f3\" stroke=\"black\" d=\"M180,-469C180,-469 97,-469 97,-469 91,-469 85,-463 85,-457 85,-457 85,-413 85,-413 85,-407 91,-401 97,-401 97,-401 180,-401 180,-401 186,-401 192,-407 192,-413 192,-413 192,-457 192,-457 192,-463 186,-469 180,-469\"/>\n<text text-anchor=\"middle\" x=\"138.5\" y=\"-453.8\" font-family=\"Helvetica,sans-Serif\" font-size=\"14.00\">Outlook &lt;= 0.5</text>\n<text text-anchor=\"middle\" x=\"138.5\" y=\"-438.8\" font-family=\"Helvetica,sans-Serif\" font-size=\"14.00\">14</text>\n<text text-anchor=\"middle\" x=\"138.5\" y=\"-423.8\" font-family=\"Helvetica,sans-Serif\" font-size=\"14.00\">[5, 9]</text>\n<text text-anchor=\"middle\" x=\"138.5\" y=\"-408.8\" font-family=\"Helvetica,sans-Serif\" font-size=\"14.00\">Yes</text>\n</g>\n<!-- 1 -->\n<g id=\"node2\" class=\"node\">\n<title>1</title>\n<path fill=\"#399de5\" stroke=\"black\" d=\"M102.5,-357.5C102.5,-357.5 72.5,-357.5 72.5,-357.5 66.5,-357.5 60.5,-351.5 60.5,-345.5 60.5,-345.5 60.5,-316.5 60.5,-316.5 60.5,-310.5 66.5,-304.5 72.5,-304.5 72.5,-304.5 102.5,-304.5 102.5,-304.5 108.5,-304.5 114.5,-310.5 114.5,-316.5 114.5,-316.5 114.5,-345.5 114.5,-345.5 114.5,-351.5 108.5,-357.5 102.5,-357.5\"/>\n<text text-anchor=\"middle\" x=\"87.5\" y=\"-342.3\" font-family=\"Helvetica,sans-Serif\" font-size=\"14.00\">4</text>\n<text text-anchor=\"middle\" x=\"87.5\" y=\"-327.3\" font-family=\"Helvetica,sans-Serif\" font-size=\"14.00\">[0, 4]</text>\n<text text-anchor=\"middle\" x=\"87.5\" y=\"-312.3\" font-family=\"Helvetica,sans-Serif\" font-size=\"14.00\">Yes</text>\n</g>\n<!-- 0&#45;&gt;1 -->\n<g id=\"edge1\" class=\"edge\">\n<title>0&#45;&gt;1</title>\n<path fill=\"none\" stroke=\"black\" d=\"M121.94,-400.88C116.44,-389.89 110.31,-377.62 104.76,-366.52\"/>\n<polygon fill=\"black\" stroke=\"black\" points=\"107.86,-364.9 100.26,-357.52 101.6,-368.03 107.86,-364.9\"/>\n<text text-anchor=\"middle\" x=\"92.35\" y=\"-377.54\" font-family=\"Helvetica,sans-Serif\" font-size=\"14.00\">True</text>\n</g>\n<!-- 2 -->\n<g id=\"node3\" class=\"node\">\n<title>2</title>\n<path fill=\"#ffffff\" stroke=\"black\" d=\"M234,-365C234,-365 145,-365 145,-365 139,-365 133,-359 133,-353 133,-353 133,-309 133,-309 133,-303 139,-297 145,-297 145,-297 234,-297 234,-297 240,-297 246,-303 246,-309 246,-309 246,-353 246,-353 246,-359 240,-365 234,-365\"/>\n<text text-anchor=\"middle\" x=\"189.5\" y=\"-349.8\" font-family=\"Helvetica,sans-Serif\" font-size=\"14.00\">Humidity &lt;= 0.5</text>\n<text text-anchor=\"middle\" x=\"189.5\" y=\"-334.8\" font-family=\"Helvetica,sans-Serif\" font-size=\"14.00\">10</text>\n<text text-anchor=\"middle\" x=\"189.5\" y=\"-319.8\" font-family=\"Helvetica,sans-Serif\" font-size=\"14.00\">[5, 5]</text>\n<text text-anchor=\"middle\" x=\"189.5\" y=\"-304.8\" font-family=\"Helvetica,sans-Serif\" font-size=\"14.00\">No</text>\n</g>\n<!-- 0&#45;&gt;2 -->\n<g id=\"edge2\" class=\"edge\">\n<title>0&#45;&gt;2</title>\n<path fill=\"none\" stroke=\"black\" d=\"M155.06,-400.88C159.29,-392.42 163.9,-383.21 168.32,-374.35\"/>\n<polygon fill=\"black\" stroke=\"black\" points=\"171.51,-375.81 172.85,-365.3 165.25,-372.68 171.51,-375.81\"/>\n<text text-anchor=\"middle\" x=\"180.76\" y=\"-385.32\" font-family=\"Helvetica,sans-Serif\" font-size=\"14.00\">False</text>\n</g>\n<!-- 3 -->\n<g id=\"node4\" class=\"node\">\n<title>3</title>\n<path fill=\"#eca06a\" stroke=\"black\" d=\"M173,-261C173,-261 90,-261 90,-261 84,-261 78,-255 78,-249 78,-249 78,-205 78,-205 78,-199 84,-193 90,-193 90,-193 173,-193 173,-193 179,-193 185,-199 185,-205 185,-205 185,-249 185,-249 185,-255 179,-261 173,-261\"/>\n<text text-anchor=\"middle\" x=\"131.5\" y=\"-245.8\" font-family=\"Helvetica,sans-Serif\" font-size=\"14.00\">Outlook &lt;= 1.5</text>\n<text text-anchor=\"middle\" x=\"131.5\" y=\"-230.8\" font-family=\"Helvetica,sans-Serif\" font-size=\"14.00\">5</text>\n<text text-anchor=\"middle\" x=\"131.5\" y=\"-215.8\" font-family=\"Helvetica,sans-Serif\" font-size=\"14.00\">[4, 1]</text>\n<text text-anchor=\"middle\" x=\"131.5\" y=\"-200.8\" font-family=\"Helvetica,sans-Serif\" font-size=\"14.00\">No</text>\n</g>\n<!-- 2&#45;&gt;3 -->\n<g id=\"edge3\" class=\"edge\">\n<title>2&#45;&gt;3</title>\n<path fill=\"none\" stroke=\"black\" d=\"M170.67,-296.88C165.81,-288.33 160.51,-279.01 155.42,-270.07\"/>\n<polygon fill=\"black\" stroke=\"black\" points=\"158.42,-268.26 150.43,-261.3 152.34,-271.72 158.42,-268.26\"/>\n</g>\n<!-- 8 -->\n<g id=\"node9\" class=\"node\">\n<title>8</title>\n<path fill=\"#6ab6ec\" stroke=\"black\" d=\"M282,-261C282,-261 215,-261 215,-261 209,-261 203,-255 203,-249 203,-249 203,-205 203,-205 203,-199 209,-193 215,-193 215,-193 282,-193 282,-193 288,-193 294,-199 294,-205 294,-205 294,-249 294,-249 294,-255 288,-261 282,-261\"/>\n<text text-anchor=\"middle\" x=\"248.5\" y=\"-245.8\" font-family=\"Helvetica,sans-Serif\" font-size=\"14.00\">Wind &lt;= 0.5</text>\n<text text-anchor=\"middle\" x=\"248.5\" y=\"-230.8\" font-family=\"Helvetica,sans-Serif\" font-size=\"14.00\">5</text>\n<text text-anchor=\"middle\" x=\"248.5\" y=\"-215.8\" font-family=\"Helvetica,sans-Serif\" font-size=\"14.00\">[1, 4]</text>\n<text text-anchor=\"middle\" x=\"248.5\" y=\"-200.8\" font-family=\"Helvetica,sans-Serif\" font-size=\"14.00\">Yes</text>\n</g>\n<!-- 2&#45;&gt;8 -->\n<g id=\"edge8\" class=\"edge\">\n<title>2&#45;&gt;8</title>\n<path fill=\"none\" stroke=\"black\" d=\"M208.66,-296.88C213.6,-288.33 218.99,-279.01 224.16,-270.07\"/>\n<polygon fill=\"black\" stroke=\"black\" points=\"227.26,-271.71 229.24,-261.3 221.2,-268.2 227.26,-271.71\"/>\n</g>\n<!-- 4 -->\n<g id=\"node5\" class=\"node\">\n<title>4</title>\n<path fill=\"#ffffff\" stroke=\"black\" d=\"M79,-157C79,-157 12,-157 12,-157 6,-157 0,-151 0,-145 0,-145 0,-101 0,-101 0,-95 6,-89 12,-89 12,-89 79,-89 79,-89 85,-89 91,-95 91,-101 91,-101 91,-145 91,-145 91,-151 85,-157 79,-157\"/>\n<text text-anchor=\"middle\" x=\"45.5\" y=\"-141.8\" font-family=\"Helvetica,sans-Serif\" font-size=\"14.00\">Wind &lt;= 0.5</text>\n<text text-anchor=\"middle\" x=\"45.5\" y=\"-126.8\" font-family=\"Helvetica,sans-Serif\" font-size=\"14.00\">2</text>\n<text text-anchor=\"middle\" x=\"45.5\" y=\"-111.8\" font-family=\"Helvetica,sans-Serif\" font-size=\"14.00\">[1, 1]</text>\n<text text-anchor=\"middle\" x=\"45.5\" y=\"-96.8\" font-family=\"Helvetica,sans-Serif\" font-size=\"14.00\">No</text>\n</g>\n<!-- 3&#45;&gt;4 -->\n<g id=\"edge4\" class=\"edge\">\n<title>3&#45;&gt;4</title>\n<path fill=\"none\" stroke=\"black\" d=\"M103.58,-192.88C96.07,-183.98 87.86,-174.24 80.03,-164.96\"/>\n<polygon fill=\"black\" stroke=\"black\" points=\"82.7,-162.69 73.58,-157.3 77.35,-167.2 82.7,-162.69\"/>\n</g>\n<!-- 7 -->\n<g id=\"node8\" class=\"node\">\n<title>7</title>\n<path fill=\"#e58139\" stroke=\"black\" d=\"M151.5,-149.5C151.5,-149.5 121.5,-149.5 121.5,-149.5 115.5,-149.5 109.5,-143.5 109.5,-137.5 109.5,-137.5 109.5,-108.5 109.5,-108.5 109.5,-102.5 115.5,-96.5 121.5,-96.5 121.5,-96.5 151.5,-96.5 151.5,-96.5 157.5,-96.5 163.5,-102.5 163.5,-108.5 163.5,-108.5 163.5,-137.5 163.5,-137.5 163.5,-143.5 157.5,-149.5 151.5,-149.5\"/>\n<text text-anchor=\"middle\" x=\"136.5\" y=\"-134.3\" font-family=\"Helvetica,sans-Serif\" font-size=\"14.00\">3</text>\n<text text-anchor=\"middle\" x=\"136.5\" y=\"-119.3\" font-family=\"Helvetica,sans-Serif\" font-size=\"14.00\">[3, 0]</text>\n<text text-anchor=\"middle\" x=\"136.5\" y=\"-104.3\" font-family=\"Helvetica,sans-Serif\" font-size=\"14.00\">No</text>\n</g>\n<!-- 3&#45;&gt;7 -->\n<g id=\"edge7\" class=\"edge\">\n<title>3&#45;&gt;7</title>\n<path fill=\"none\" stroke=\"black\" d=\"M133.12,-192.88C133.65,-182.22 134.23,-170.35 134.76,-159.52\"/>\n<polygon fill=\"black\" stroke=\"black\" points=\"138.26,-159.68 135.25,-149.52 131.26,-159.34 138.26,-159.68\"/>\n</g>\n<!-- 5 -->\n<g id=\"node6\" class=\"node\">\n<title>5</title>\n<path fill=\"#e58139\" stroke=\"black\" d=\"M47.5,-53C47.5,-53 17.5,-53 17.5,-53 11.5,-53 5.5,-47 5.5,-41 5.5,-41 5.5,-12 5.5,-12 5.5,-6 11.5,0 17.5,0 17.5,0 47.5,0 47.5,0 53.5,0 59.5,-6 59.5,-12 59.5,-12 59.5,-41 59.5,-41 59.5,-47 53.5,-53 47.5,-53\"/>\n<text text-anchor=\"middle\" x=\"32.5\" y=\"-37.8\" font-family=\"Helvetica,sans-Serif\" font-size=\"14.00\">1</text>\n<text text-anchor=\"middle\" x=\"32.5\" y=\"-22.8\" font-family=\"Helvetica,sans-Serif\" font-size=\"14.00\">[1, 0]</text>\n<text text-anchor=\"middle\" x=\"32.5\" y=\"-7.8\" font-family=\"Helvetica,sans-Serif\" font-size=\"14.00\">No</text>\n</g>\n<!-- 4&#45;&gt;5 -->\n<g id=\"edge5\" class=\"edge\">\n<title>4&#45;&gt;5</title>\n<path fill=\"none\" stroke=\"black\" d=\"M40.95,-88.95C39.81,-80.62 38.57,-71.65 37.41,-63.2\"/>\n<polygon fill=\"black\" stroke=\"black\" points=\"40.87,-62.67 36.04,-53.24 33.94,-63.62 40.87,-62.67\"/>\n</g>\n<!-- 6 -->\n<g id=\"node7\" class=\"node\">\n<title>6</title>\n<path fill=\"#399de5\" stroke=\"black\" d=\"M119.5,-53C119.5,-53 89.5,-53 89.5,-53 83.5,-53 77.5,-47 77.5,-41 77.5,-41 77.5,-12 77.5,-12 77.5,-6 83.5,0 89.5,0 89.5,0 119.5,0 119.5,0 125.5,0 131.5,-6 131.5,-12 131.5,-12 131.5,-41 131.5,-41 131.5,-47 125.5,-53 119.5,-53\"/>\n<text text-anchor=\"middle\" x=\"104.5\" y=\"-37.8\" font-family=\"Helvetica,sans-Serif\" font-size=\"14.00\">1</text>\n<text text-anchor=\"middle\" x=\"104.5\" y=\"-22.8\" font-family=\"Helvetica,sans-Serif\" font-size=\"14.00\">[0, 1]</text>\n<text text-anchor=\"middle\" x=\"104.5\" y=\"-7.8\" font-family=\"Helvetica,sans-Serif\" font-size=\"14.00\">Yes</text>\n</g>\n<!-- 4&#45;&gt;6 -->\n<g id=\"edge6\" class=\"edge\">\n<title>4&#45;&gt;6</title>\n<path fill=\"none\" stroke=\"black\" d=\"M66.14,-88.95C71.62,-80.17 77.55,-70.66 83.08,-61.82\"/>\n<polygon fill=\"black\" stroke=\"black\" points=\"86.1,-63.57 88.43,-53.24 80.17,-59.87 86.1,-63.57\"/>\n</g>\n<!-- 9 -->\n<g id=\"node10\" class=\"node\">\n<title>9</title>\n<path fill=\"#ffffff\" stroke=\"black\" d=\"M286,-157C286,-157 203,-157 203,-157 197,-157 191,-151 191,-145 191,-145 191,-101 191,-101 191,-95 197,-89 203,-89 203,-89 286,-89 286,-89 292,-89 298,-95 298,-101 298,-101 298,-145 298,-145 298,-151 292,-157 286,-157\"/>\n<text text-anchor=\"middle\" x=\"244.5\" y=\"-141.8\" font-family=\"Helvetica,sans-Serif\" font-size=\"14.00\">Outlook &lt;= 1.5</text>\n<text text-anchor=\"middle\" x=\"244.5\" y=\"-126.8\" font-family=\"Helvetica,sans-Serif\" font-size=\"14.00\">2</text>\n<text text-anchor=\"middle\" x=\"244.5\" y=\"-111.8\" font-family=\"Helvetica,sans-Serif\" font-size=\"14.00\">[1, 1]</text>\n<text text-anchor=\"middle\" x=\"244.5\" y=\"-96.8\" font-family=\"Helvetica,sans-Serif\" font-size=\"14.00\">No</text>\n</g>\n<!-- 8&#45;&gt;9 -->\n<g id=\"edge9\" class=\"edge\">\n<title>8&#45;&gt;9</title>\n<path fill=\"none\" stroke=\"black\" d=\"M247.2,-192.88C246.88,-184.78 246.54,-175.98 246.2,-167.47\"/>\n<polygon fill=\"black\" stroke=\"black\" points=\"249.7,-167.15 245.81,-157.3 242.7,-167.43 249.7,-167.15\"/>\n</g>\n<!-- 12 -->\n<g id=\"node13\" class=\"node\">\n<title>12</title>\n<path fill=\"#399de5\" stroke=\"black\" d=\"M358.5,-149.5C358.5,-149.5 328.5,-149.5 328.5,-149.5 322.5,-149.5 316.5,-143.5 316.5,-137.5 316.5,-137.5 316.5,-108.5 316.5,-108.5 316.5,-102.5 322.5,-96.5 328.5,-96.5 328.5,-96.5 358.5,-96.5 358.5,-96.5 364.5,-96.5 370.5,-102.5 370.5,-108.5 370.5,-108.5 370.5,-137.5 370.5,-137.5 370.5,-143.5 364.5,-149.5 358.5,-149.5\"/>\n<text text-anchor=\"middle\" x=\"343.5\" y=\"-134.3\" font-family=\"Helvetica,sans-Serif\" font-size=\"14.00\">3</text>\n<text text-anchor=\"middle\" x=\"343.5\" y=\"-119.3\" font-family=\"Helvetica,sans-Serif\" font-size=\"14.00\">[0, 3]</text>\n<text text-anchor=\"middle\" x=\"343.5\" y=\"-104.3\" font-family=\"Helvetica,sans-Serif\" font-size=\"14.00\">Yes</text>\n</g>\n<!-- 8&#45;&gt;12 -->\n<g id=\"edge12\" class=\"edge\">\n<title>8&#45;&gt;12</title>\n<path fill=\"none\" stroke=\"black\" d=\"M279.34,-192.88C290.1,-181.34 302.16,-168.39 312.89,-156.86\"/>\n<polygon fill=\"black\" stroke=\"black\" points=\"315.48,-159.22 319.73,-149.52 310.35,-154.45 315.48,-159.22\"/>\n</g>\n<!-- 10 -->\n<g id=\"node11\" class=\"node\">\n<title>10</title>\n<path fill=\"#e58139\" stroke=\"black\" d=\"M220.5,-53C220.5,-53 190.5,-53 190.5,-53 184.5,-53 178.5,-47 178.5,-41 178.5,-41 178.5,-12 178.5,-12 178.5,-6 184.5,0 190.5,0 190.5,0 220.5,0 220.5,0 226.5,0 232.5,-6 232.5,-12 232.5,-12 232.5,-41 232.5,-41 232.5,-47 226.5,-53 220.5,-53\"/>\n<text text-anchor=\"middle\" x=\"205.5\" y=\"-37.8\" font-family=\"Helvetica,sans-Serif\" font-size=\"14.00\">1</text>\n<text text-anchor=\"middle\" x=\"205.5\" y=\"-22.8\" font-family=\"Helvetica,sans-Serif\" font-size=\"14.00\">[1, 0]</text>\n<text text-anchor=\"middle\" x=\"205.5\" y=\"-7.8\" font-family=\"Helvetica,sans-Serif\" font-size=\"14.00\">No</text>\n</g>\n<!-- 9&#45;&gt;10 -->\n<g id=\"edge10\" class=\"edge\">\n<title>9&#45;&gt;10</title>\n<path fill=\"none\" stroke=\"black\" d=\"M230.86,-88.95C227.35,-80.44 223.56,-71.26 220,-62.65\"/>\n<polygon fill=\"black\" stroke=\"black\" points=\"223.17,-61.15 216.12,-53.24 216.7,-63.82 223.17,-61.15\"/>\n</g>\n<!-- 11 -->\n<g id=\"node12\" class=\"node\">\n<title>11</title>\n<path fill=\"#399de5\" stroke=\"black\" d=\"M292.5,-53C292.5,-53 262.5,-53 262.5,-53 256.5,-53 250.5,-47 250.5,-41 250.5,-41 250.5,-12 250.5,-12 250.5,-6 256.5,0 262.5,0 262.5,0 292.5,0 292.5,0 298.5,0 304.5,-6 304.5,-12 304.5,-12 304.5,-41 304.5,-41 304.5,-47 298.5,-53 292.5,-53\"/>\n<text text-anchor=\"middle\" x=\"277.5\" y=\"-37.8\" font-family=\"Helvetica,sans-Serif\" font-size=\"14.00\">1</text>\n<text text-anchor=\"middle\" x=\"277.5\" y=\"-22.8\" font-family=\"Helvetica,sans-Serif\" font-size=\"14.00\">[0, 1]</text>\n<text text-anchor=\"middle\" x=\"277.5\" y=\"-7.8\" font-family=\"Helvetica,sans-Serif\" font-size=\"14.00\">Yes</text>\n</g>\n<!-- 9&#45;&gt;11 -->\n<g id=\"edge11\" class=\"edge\">\n<title>9&#45;&gt;11</title>\n<path fill=\"none\" stroke=\"black\" d=\"M256.04,-88.95C258.98,-80.53 262.15,-71.45 265.13,-62.92\"/>\n<polygon fill=\"black\" stroke=\"black\" points=\"268.52,-63.83 268.51,-53.24 261.91,-61.52 268.52,-63.83\"/>\n</g>\n</g>\n</svg>\n",
            "text/plain": [
              "<graphviz.sources.Source at 0x7ad16fb66a10>"
            ]
          },
          "metadata": {},
          "execution_count": 17
        }
      ]
    },
    {
      "cell_type": "markdown",
      "metadata": {
        "id": "LkJBfJnqBIjd"
      },
      "source": [
        "E a informação mútua e o peso dos atributos no classificador fornecem informações úteis para análises dos modelos em muitos casos."
      ]
    },
    {
      "cell_type": "code",
      "metadata": {
        "id": "LxWA1cUZr7aM",
        "colab": {
          "base_uri": "https://localhost:8080/"
        },
        "outputId": "542ec06e-fdb7-48fd-87ad-fe508a150cff"
      },
      "source": [
        "from sklearn.feature_selection import mutual_info_classif\n",
        "\n",
        "print(X.columns)\n",
        "print(mutual_info_classif(X, y, discrete_features=True))\n",
        "print(clf.feature_importances_)"
      ],
      "execution_count": 18,
      "outputs": [
        {
          "output_type": "stream",
          "name": "stdout",
          "text": [
            "Index(['Outlook', 'Temperature', 'Humidity', 'Wind'], dtype='object')\n",
            "[0.17103394 0.02025554 0.10524435 0.03335912]\n",
            "[0.47111111 0.         0.28       0.24888889]\n"
          ]
        }
      ]
    },
    {
      "cell_type": "code",
      "source": [
        "from sklearn.ensemble import RandomForestClassifier\n",
        "\n",
        "X = df_labels\n",
        "y = df['Play ball']\n",
        "\n",
        "clf = RandomForestClassifier()\n",
        "\n",
        "clf.fit(X,y)\n",
        "y_pred = clf.predict(X)\n",
        "print( clf.score(X,y) )"
      ],
      "metadata": {
        "colab": {
          "base_uri": "https://localhost:8080/"
        },
        "id": "j9WKdXKiUIy1",
        "outputId": "f28454a9-1575-4482-d5b9-85947684bdde"
      },
      "execution_count": 19,
      "outputs": [
        {
          "output_type": "stream",
          "name": "stdout",
          "text": [
            "1.0\n"
          ]
        }
      ]
    },
    {
      "cell_type": "markdown",
      "metadata": {
        "id": "UN5aelmtCra9"
      },
      "source": [
        "# Selecionando Diferentes Modelos\n",
        "\n",
        "Diferentes modelos criam fronteiras de decisão diferentes para os mesmos conjuntos de dados. Eles empregam critérios diferentes e, por isso, produzem classificações de modo diferente o que torna difícil você escolher empregar um modelo ou outro, muitas vezes, essa é a parte mais difícil de resolver um problema de aprendizado de máquina: *qual o estimador certo para empregar?* Não há um melhor estimador *apriori* para quaisquer dados e estimadores diferentes são mais adequados para diferentes tipos de dados e problemas. O `scikit-learn` fornece em https://scikit-learn.org/stable/tutorial/machine_learning_map/index.html um diagrama, e que fornecemos abaixo, que funciona como um guia, embora aproximado, de como abordar problemas com relação a quais estimadores empregar.\n",
        "\n",
        "![imagem](https://scikit-learn.org/stable/_static/ml_map.png)\n",
        "\n",
        "<small>\n",
        "<b>\n",
        "Figura 8. Diagrama do scikit-learn para seleção de modelos. <br></b>(Fonte: https://scikit-learn.org/)\n",
        "\n",
        "\n",
        "\n",
        "\n",
        "\n",
        "\n"
      ]
    },
    {
      "cell_type": "markdown",
      "metadata": {
        "id": "njVtqxtNM0VA"
      },
      "source": [
        "De qualquer modo uma abordagem comum e que você encontra em sistemas de *Auto ML*, consiste em adotarmos alguma métrica, como a acuracidade ou a precisão, para selecionar diferentes modelos, experimentando cada um deles, muito à exemplo do que fizemos na trilha anterior para a escolha dos melhores hiperparâmetros.\n",
        "\n",
        "Vamos adaptar então o código modelo final da trilha anterior para explorar agora, não só diferentes hiperparâmetros, mas diferentes estimadores. Afinal você já estudou aqui ao menos 4 estimadores para classificação e está na hora de você buscar escolher o melhor modelo dentre esses classificadores para um conjunto de dados de sua escolha. Vamos adionar ainda um quinto modelo, que você ainda não estudou, para que você entenda que você já pode explorar quaisquer modelos de classificação com o que aprendeu aqui.\n",
        "\n",
        "Abaixo os principais classificadores do `scikit-learn` e os que empregaremos, com (*), para seleção de um estimador para o nosso conjunto de dados *moons*:       \n",
        "\n",
        "```\n",
        "from sklearn.linear_model import LogisticRegression # (*)\n",
        "from sklearn.neighbors import KNeighborsClassifier # (*)\n",
        "from sklearn.tree import DecisionTreeClassifier # (*)\n",
        "from sklearn.model_selection import KFold\n",
        "from sklearn.model_selection import cross_val_score\n",
        "from sklearn.naive_bayes import GaussianNB\n",
        "from sklearn.tree import DecisionTreeClassifier\n",
        "from sklearn.svm import SVC\n",
        "from sklearn.neural_network import MLPClassifier\n",
        "from sklearn.ensemble import RandomForestClassifier\n",
        "from sklearn.ensemble import AdaBoostClassifier\n",
        "from sklearn.ensemble import GradientBoostingClassifier # (*)\n",
        "```\n",
        "\n"
      ]
    },
    {
      "cell_type": "code",
      "metadata": {
        "id": "gJnhfWGxg9OI",
        "colab": {
          "base_uri": "https://localhost:8080/",
          "height": 299
        },
        "outputId": "40d0ef8d-a9c6-496a-8b53-c379eee4f7c7"
      },
      "source": [
        "df = pd.read_csv('http://archive.ics.uci.edu/ml/machine-learning-databases/voting-records/house-votes-84.data',header=None,prefix='Vote_')\n",
        "df.rename(columns={'Vote_0':'class'},inplace=True)\n",
        "df.head()"
      ],
      "execution_count": 20,
      "outputs": [
        {
          "output_type": "stream",
          "name": "stderr",
          "text": [
            "<ipython-input-20-7274ab72e254>:1: FutureWarning: The prefix argument has been deprecated and will be removed in a future version. Use a list comprehension on the column names in the future.\n",
            "\n",
            "\n",
            "  df = pd.read_csv('http://archive.ics.uci.edu/ml/machine-learning-databases/voting-records/house-votes-84.data',header=None,prefix='Vote_')\n"
          ]
        },
        {
          "output_type": "execute_result",
          "data": {
            "text/plain": [
              "        class Vote_1 Vote_2 Vote_3 Vote_4 Vote_5 Vote_6 Vote_7 Vote_8 Vote_9  \\\n",
              "0  republican      n      y      n      y      y      y      n      n      n   \n",
              "1  republican      n      y      n      y      y      y      n      n      n   \n",
              "2    democrat      ?      y      y      ?      y      y      n      n      n   \n",
              "3    democrat      n      y      y      n      ?      y      n      n      n   \n",
              "4    democrat      y      y      y      n      y      y      n      n      n   \n",
              "\n",
              "  Vote_10 Vote_11 Vote_12 Vote_13 Vote_14 Vote_15 Vote_16  \n",
              "0       y       ?       y       y       y       n       y  \n",
              "1       n       n       y       y       y       n       ?  \n",
              "2       n       y       n       y       y       n       n  \n",
              "3       n       y       n       y       n       n       y  \n",
              "4       n       y       ?       y       y       y       y  "
            ],
            "text/html": [
              "\n",
              "  <div id=\"df-78536582-f2a0-44f9-9b05-b88d344b8e45\" class=\"colab-df-container\">\n",
              "    <div>\n",
              "<style scoped>\n",
              "    .dataframe tbody tr th:only-of-type {\n",
              "        vertical-align: middle;\n",
              "    }\n",
              "\n",
              "    .dataframe tbody tr th {\n",
              "        vertical-align: top;\n",
              "    }\n",
              "\n",
              "    .dataframe thead th {\n",
              "        text-align: right;\n",
              "    }\n",
              "</style>\n",
              "<table border=\"1\" class=\"dataframe\">\n",
              "  <thead>\n",
              "    <tr style=\"text-align: right;\">\n",
              "      <th></th>\n",
              "      <th>class</th>\n",
              "      <th>Vote_1</th>\n",
              "      <th>Vote_2</th>\n",
              "      <th>Vote_3</th>\n",
              "      <th>Vote_4</th>\n",
              "      <th>Vote_5</th>\n",
              "      <th>Vote_6</th>\n",
              "      <th>Vote_7</th>\n",
              "      <th>Vote_8</th>\n",
              "      <th>Vote_9</th>\n",
              "      <th>Vote_10</th>\n",
              "      <th>Vote_11</th>\n",
              "      <th>Vote_12</th>\n",
              "      <th>Vote_13</th>\n",
              "      <th>Vote_14</th>\n",
              "      <th>Vote_15</th>\n",
              "      <th>Vote_16</th>\n",
              "    </tr>\n",
              "  </thead>\n",
              "  <tbody>\n",
              "    <tr>\n",
              "      <th>0</th>\n",
              "      <td>republican</td>\n",
              "      <td>n</td>\n",
              "      <td>y</td>\n",
              "      <td>n</td>\n",
              "      <td>y</td>\n",
              "      <td>y</td>\n",
              "      <td>y</td>\n",
              "      <td>n</td>\n",
              "      <td>n</td>\n",
              "      <td>n</td>\n",
              "      <td>y</td>\n",
              "      <td>?</td>\n",
              "      <td>y</td>\n",
              "      <td>y</td>\n",
              "      <td>y</td>\n",
              "      <td>n</td>\n",
              "      <td>y</td>\n",
              "    </tr>\n",
              "    <tr>\n",
              "      <th>1</th>\n",
              "      <td>republican</td>\n",
              "      <td>n</td>\n",
              "      <td>y</td>\n",
              "      <td>n</td>\n",
              "      <td>y</td>\n",
              "      <td>y</td>\n",
              "      <td>y</td>\n",
              "      <td>n</td>\n",
              "      <td>n</td>\n",
              "      <td>n</td>\n",
              "      <td>n</td>\n",
              "      <td>n</td>\n",
              "      <td>y</td>\n",
              "      <td>y</td>\n",
              "      <td>y</td>\n",
              "      <td>n</td>\n",
              "      <td>?</td>\n",
              "    </tr>\n",
              "    <tr>\n",
              "      <th>2</th>\n",
              "      <td>democrat</td>\n",
              "      <td>?</td>\n",
              "      <td>y</td>\n",
              "      <td>y</td>\n",
              "      <td>?</td>\n",
              "      <td>y</td>\n",
              "      <td>y</td>\n",
              "      <td>n</td>\n",
              "      <td>n</td>\n",
              "      <td>n</td>\n",
              "      <td>n</td>\n",
              "      <td>y</td>\n",
              "      <td>n</td>\n",
              "      <td>y</td>\n",
              "      <td>y</td>\n",
              "      <td>n</td>\n",
              "      <td>n</td>\n",
              "    </tr>\n",
              "    <tr>\n",
              "      <th>3</th>\n",
              "      <td>democrat</td>\n",
              "      <td>n</td>\n",
              "      <td>y</td>\n",
              "      <td>y</td>\n",
              "      <td>n</td>\n",
              "      <td>?</td>\n",
              "      <td>y</td>\n",
              "      <td>n</td>\n",
              "      <td>n</td>\n",
              "      <td>n</td>\n",
              "      <td>n</td>\n",
              "      <td>y</td>\n",
              "      <td>n</td>\n",
              "      <td>y</td>\n",
              "      <td>n</td>\n",
              "      <td>n</td>\n",
              "      <td>y</td>\n",
              "    </tr>\n",
              "    <tr>\n",
              "      <th>4</th>\n",
              "      <td>democrat</td>\n",
              "      <td>y</td>\n",
              "      <td>y</td>\n",
              "      <td>y</td>\n",
              "      <td>n</td>\n",
              "      <td>y</td>\n",
              "      <td>y</td>\n",
              "      <td>n</td>\n",
              "      <td>n</td>\n",
              "      <td>n</td>\n",
              "      <td>n</td>\n",
              "      <td>y</td>\n",
              "      <td>?</td>\n",
              "      <td>y</td>\n",
              "      <td>y</td>\n",
              "      <td>y</td>\n",
              "      <td>y</td>\n",
              "    </tr>\n",
              "  </tbody>\n",
              "</table>\n",
              "</div>\n",
              "    <div class=\"colab-df-buttons\">\n",
              "\n",
              "  <div class=\"colab-df-container\">\n",
              "    <button class=\"colab-df-convert\" onclick=\"convertToInteractive('df-78536582-f2a0-44f9-9b05-b88d344b8e45')\"\n",
              "            title=\"Convert this dataframe to an interactive table.\"\n",
              "            style=\"display:none;\">\n",
              "\n",
              "  <svg xmlns=\"http://www.w3.org/2000/svg\" height=\"24px\" viewBox=\"0 -960 960 960\">\n",
              "    <path d=\"M120-120v-720h720v720H120Zm60-500h600v-160H180v160Zm220 220h160v-160H400v160Zm0 220h160v-160H400v160ZM180-400h160v-160H180v160Zm440 0h160v-160H620v160ZM180-180h160v-160H180v160Zm440 0h160v-160H620v160Z\"/>\n",
              "  </svg>\n",
              "    </button>\n",
              "\n",
              "  <style>\n",
              "    .colab-df-container {\n",
              "      display:flex;\n",
              "      gap: 12px;\n",
              "    }\n",
              "\n",
              "    .colab-df-convert {\n",
              "      background-color: #E8F0FE;\n",
              "      border: none;\n",
              "      border-radius: 50%;\n",
              "      cursor: pointer;\n",
              "      display: none;\n",
              "      fill: #1967D2;\n",
              "      height: 32px;\n",
              "      padding: 0 0 0 0;\n",
              "      width: 32px;\n",
              "    }\n",
              "\n",
              "    .colab-df-convert:hover {\n",
              "      background-color: #E2EBFA;\n",
              "      box-shadow: 0px 1px 2px rgba(60, 64, 67, 0.3), 0px 1px 3px 1px rgba(60, 64, 67, 0.15);\n",
              "      fill: #174EA6;\n",
              "    }\n",
              "\n",
              "    .colab-df-buttons div {\n",
              "      margin-bottom: 4px;\n",
              "    }\n",
              "\n",
              "    [theme=dark] .colab-df-convert {\n",
              "      background-color: #3B4455;\n",
              "      fill: #D2E3FC;\n",
              "    }\n",
              "\n",
              "    [theme=dark] .colab-df-convert:hover {\n",
              "      background-color: #434B5C;\n",
              "      box-shadow: 0px 1px 3px 1px rgba(0, 0, 0, 0.15);\n",
              "      filter: drop-shadow(0px 1px 2px rgba(0, 0, 0, 0.3));\n",
              "      fill: #FFFFFF;\n",
              "    }\n",
              "  </style>\n",
              "\n",
              "    <script>\n",
              "      const buttonEl =\n",
              "        document.querySelector('#df-78536582-f2a0-44f9-9b05-b88d344b8e45 button.colab-df-convert');\n",
              "      buttonEl.style.display =\n",
              "        google.colab.kernel.accessAllowed ? 'block' : 'none';\n",
              "\n",
              "      async function convertToInteractive(key) {\n",
              "        const element = document.querySelector('#df-78536582-f2a0-44f9-9b05-b88d344b8e45');\n",
              "        const dataTable =\n",
              "          await google.colab.kernel.invokeFunction('convertToInteractive',\n",
              "                                                    [key], {});\n",
              "        if (!dataTable) return;\n",
              "\n",
              "        const docLinkHtml = 'Like what you see? Visit the ' +\n",
              "          '<a target=\"_blank\" href=https://colab.research.google.com/notebooks/data_table.ipynb>data table notebook</a>'\n",
              "          + ' to learn more about interactive tables.';\n",
              "        element.innerHTML = '';\n",
              "        dataTable['output_type'] = 'display_data';\n",
              "        await google.colab.output.renderOutput(dataTable, element);\n",
              "        const docLink = document.createElement('div');\n",
              "        docLink.innerHTML = docLinkHtml;\n",
              "        element.appendChild(docLink);\n",
              "      }\n",
              "    </script>\n",
              "  </div>\n",
              "\n",
              "\n",
              "<div id=\"df-b5f3a9ad-95eb-4d09-8dd7-180cb367366a\">\n",
              "  <button class=\"colab-df-quickchart\" onclick=\"quickchart('df-b5f3a9ad-95eb-4d09-8dd7-180cb367366a')\"\n",
              "            title=\"Suggest charts.\"\n",
              "            style=\"display:none;\">\n",
              "\n",
              "<svg xmlns=\"http://www.w3.org/2000/svg\" height=\"24px\"viewBox=\"0 0 24 24\"\n",
              "     width=\"24px\">\n",
              "    <g>\n",
              "        <path d=\"M19 3H5c-1.1 0-2 .9-2 2v14c0 1.1.9 2 2 2h14c1.1 0 2-.9 2-2V5c0-1.1-.9-2-2-2zM9 17H7v-7h2v7zm4 0h-2V7h2v10zm4 0h-2v-4h2v4z\"/>\n",
              "    </g>\n",
              "</svg>\n",
              "  </button>\n",
              "\n",
              "<style>\n",
              "  .colab-df-quickchart {\n",
              "    background-color: #E8F0FE;\n",
              "    border: none;\n",
              "    border-radius: 50%;\n",
              "    cursor: pointer;\n",
              "    display: none;\n",
              "    fill: #1967D2;\n",
              "    height: 32px;\n",
              "    padding: 0 0 0 0;\n",
              "    width: 32px;\n",
              "  }\n",
              "\n",
              "  .colab-df-quickchart:hover {\n",
              "    background-color: #E2EBFA;\n",
              "    box-shadow: 0px 1px 2px rgba(60, 64, 67, 0.3), 0px 1px 3px 1px rgba(60, 64, 67, 0.15);\n",
              "    fill: #174EA6;\n",
              "  }\n",
              "\n",
              "  [theme=dark] .colab-df-quickchart {\n",
              "    background-color: #3B4455;\n",
              "    fill: #D2E3FC;\n",
              "  }\n",
              "\n",
              "  [theme=dark] .colab-df-quickchart:hover {\n",
              "    background-color: #434B5C;\n",
              "    box-shadow: 0px 1px 3px 1px rgba(0, 0, 0, 0.15);\n",
              "    filter: drop-shadow(0px 1px 2px rgba(0, 0, 0, 0.3));\n",
              "    fill: #FFFFFF;\n",
              "  }\n",
              "</style>\n",
              "\n",
              "  <script>\n",
              "    async function quickchart(key) {\n",
              "      const charts = await google.colab.kernel.invokeFunction(\n",
              "          'suggestCharts', [key], {});\n",
              "    }\n",
              "    (() => {\n",
              "      let quickchartButtonEl =\n",
              "        document.querySelector('#df-b5f3a9ad-95eb-4d09-8dd7-180cb367366a button');\n",
              "      quickchartButtonEl.style.display =\n",
              "        google.colab.kernel.accessAllowed ? 'block' : 'none';\n",
              "    })();\n",
              "  </script>\n",
              "</div>\n",
              "    </div>\n",
              "  </div>\n"
            ]
          },
          "metadata": {},
          "execution_count": 20
        }
      ]
    },
    {
      "cell_type": "code",
      "metadata": {
        "colab": {
          "base_uri": "https://localhost:8080/"
        },
        "id": "0Vwpy_qERekW",
        "outputId": "cf0a5bf5-87f8-4c29-a35a-469f9f95f3c6"
      },
      "source": [
        "df.shape"
      ],
      "execution_count": 21,
      "outputs": [
        {
          "output_type": "execute_result",
          "data": {
            "text/plain": [
              "(435, 17)"
            ]
          },
          "metadata": {},
          "execution_count": 21
        }
      ]
    },
    {
      "cell_type": "markdown",
      "metadata": {
        "id": "Zp2b3etoryDq"
      },
      "source": [
        "## Preparação dos Dados\n",
        "\n",
        "Não existem dados ausentes, mas as abstenções '?' são um grande número de casos. Vamos esperar que elas possam também ajudar a identificar o partido do congressista uma vez que isso parece ser mais uma informação importante do que exatamente ausência de informação."
      ]
    },
    {
      "cell_type": "code",
      "metadata": {
        "colab": {
          "base_uri": "https://localhost:8080/"
        },
        "id": "CSs8mDLPRSlv",
        "outputId": "6eadf91e-61ad-4327-a022-b7f340e9fa66"
      },
      "source": [
        "df.isnull().sum().sum()"
      ],
      "execution_count": 22,
      "outputs": [
        {
          "output_type": "execute_result",
          "data": {
            "text/plain": [
              "0"
            ]
          },
          "metadata": {},
          "execution_count": 22
        }
      ]
    },
    {
      "cell_type": "code",
      "metadata": {
        "colab": {
          "base_uri": "https://localhost:8080/"
        },
        "id": "RnjnDtYsTSqB",
        "outputId": "b7aa5ebc-115f-472d-f01d-a7f1626062c5"
      },
      "source": [
        "(df == '?').sum()"
      ],
      "execution_count": 23,
      "outputs": [
        {
          "output_type": "execute_result",
          "data": {
            "text/plain": [
              "class        0\n",
              "Vote_1      12\n",
              "Vote_2      48\n",
              "Vote_3      11\n",
              "Vote_4      11\n",
              "Vote_5      15\n",
              "Vote_6      11\n",
              "Vote_7      14\n",
              "Vote_8      15\n",
              "Vote_9      22\n",
              "Vote_10      7\n",
              "Vote_11     21\n",
              "Vote_12     31\n",
              "Vote_13     25\n",
              "Vote_14     17\n",
              "Vote_15     28\n",
              "Vote_16    104\n",
              "dtype: int64"
            ]
          },
          "metadata": {},
          "execution_count": 23
        }
      ]
    },
    {
      "cell_type": "markdown",
      "metadata": {
        "id": "Pd-T6ICbSWgH"
      },
      "source": [
        "Agora precisamos fazer o encode dos dados. A rigor deveríamos fazer o hot encode, mas por simplicidade será suficiente aqui fazermos apenas o label encode do dados."
      ]
    },
    {
      "cell_type": "code",
      "metadata": {
        "colab": {
          "base_uri": "https://localhost:8080/",
          "height": 226
        },
        "id": "ez5xNF-ASU_D",
        "outputId": "45476bd8-e91e-4518-f261-bbd16d2d97c8"
      },
      "source": [
        "from sklearn.preprocessing import OneHotEncoder, LabelEncoder\n",
        "\n",
        "df_labels = df.drop(columns=['class']).apply(LabelEncoder().fit_transform)\n",
        "\n",
        "pd.concat([ df_labels, df[['class']] ], axis=1).head()"
      ],
      "execution_count": 24,
      "outputs": [
        {
          "output_type": "execute_result",
          "data": {
            "text/plain": [
              "   Vote_1  Vote_2  Vote_3  Vote_4  Vote_5  Vote_6  Vote_7  Vote_8  Vote_9  \\\n",
              "0       1       2       1       2       2       2       1       1       1   \n",
              "1       1       2       1       2       2       2       1       1       1   \n",
              "2       0       2       2       0       2       2       1       1       1   \n",
              "3       1       2       2       1       0       2       1       1       1   \n",
              "4       2       2       2       1       2       2       1       1       1   \n",
              "\n",
              "   Vote_10  Vote_11  Vote_12  Vote_13  Vote_14  Vote_15  Vote_16       class  \n",
              "0        2        0        2        2        2        1        2  republican  \n",
              "1        1        1        2        2        2        1        0  republican  \n",
              "2        1        2        1        2        2        1        1    democrat  \n",
              "3        1        2        1        2        1        1        2    democrat  \n",
              "4        1        2        0        2        2        2        2    democrat  "
            ],
            "text/html": [
              "\n",
              "  <div id=\"df-bfe0dbf8-ec74-4490-9485-f70ac9001c33\" class=\"colab-df-container\">\n",
              "    <div>\n",
              "<style scoped>\n",
              "    .dataframe tbody tr th:only-of-type {\n",
              "        vertical-align: middle;\n",
              "    }\n",
              "\n",
              "    .dataframe tbody tr th {\n",
              "        vertical-align: top;\n",
              "    }\n",
              "\n",
              "    .dataframe thead th {\n",
              "        text-align: right;\n",
              "    }\n",
              "</style>\n",
              "<table border=\"1\" class=\"dataframe\">\n",
              "  <thead>\n",
              "    <tr style=\"text-align: right;\">\n",
              "      <th></th>\n",
              "      <th>Vote_1</th>\n",
              "      <th>Vote_2</th>\n",
              "      <th>Vote_3</th>\n",
              "      <th>Vote_4</th>\n",
              "      <th>Vote_5</th>\n",
              "      <th>Vote_6</th>\n",
              "      <th>Vote_7</th>\n",
              "      <th>Vote_8</th>\n",
              "      <th>Vote_9</th>\n",
              "      <th>Vote_10</th>\n",
              "      <th>Vote_11</th>\n",
              "      <th>Vote_12</th>\n",
              "      <th>Vote_13</th>\n",
              "      <th>Vote_14</th>\n",
              "      <th>Vote_15</th>\n",
              "      <th>Vote_16</th>\n",
              "      <th>class</th>\n",
              "    </tr>\n",
              "  </thead>\n",
              "  <tbody>\n",
              "    <tr>\n",
              "      <th>0</th>\n",
              "      <td>1</td>\n",
              "      <td>2</td>\n",
              "      <td>1</td>\n",
              "      <td>2</td>\n",
              "      <td>2</td>\n",
              "      <td>2</td>\n",
              "      <td>1</td>\n",
              "      <td>1</td>\n",
              "      <td>1</td>\n",
              "      <td>2</td>\n",
              "      <td>0</td>\n",
              "      <td>2</td>\n",
              "      <td>2</td>\n",
              "      <td>2</td>\n",
              "      <td>1</td>\n",
              "      <td>2</td>\n",
              "      <td>republican</td>\n",
              "    </tr>\n",
              "    <tr>\n",
              "      <th>1</th>\n",
              "      <td>1</td>\n",
              "      <td>2</td>\n",
              "      <td>1</td>\n",
              "      <td>2</td>\n",
              "      <td>2</td>\n",
              "      <td>2</td>\n",
              "      <td>1</td>\n",
              "      <td>1</td>\n",
              "      <td>1</td>\n",
              "      <td>1</td>\n",
              "      <td>1</td>\n",
              "      <td>2</td>\n",
              "      <td>2</td>\n",
              "      <td>2</td>\n",
              "      <td>1</td>\n",
              "      <td>0</td>\n",
              "      <td>republican</td>\n",
              "    </tr>\n",
              "    <tr>\n",
              "      <th>2</th>\n",
              "      <td>0</td>\n",
              "      <td>2</td>\n",
              "      <td>2</td>\n",
              "      <td>0</td>\n",
              "      <td>2</td>\n",
              "      <td>2</td>\n",
              "      <td>1</td>\n",
              "      <td>1</td>\n",
              "      <td>1</td>\n",
              "      <td>1</td>\n",
              "      <td>2</td>\n",
              "      <td>1</td>\n",
              "      <td>2</td>\n",
              "      <td>2</td>\n",
              "      <td>1</td>\n",
              "      <td>1</td>\n",
              "      <td>democrat</td>\n",
              "    </tr>\n",
              "    <tr>\n",
              "      <th>3</th>\n",
              "      <td>1</td>\n",
              "      <td>2</td>\n",
              "      <td>2</td>\n",
              "      <td>1</td>\n",
              "      <td>0</td>\n",
              "      <td>2</td>\n",
              "      <td>1</td>\n",
              "      <td>1</td>\n",
              "      <td>1</td>\n",
              "      <td>1</td>\n",
              "      <td>2</td>\n",
              "      <td>1</td>\n",
              "      <td>2</td>\n",
              "      <td>1</td>\n",
              "      <td>1</td>\n",
              "      <td>2</td>\n",
              "      <td>democrat</td>\n",
              "    </tr>\n",
              "    <tr>\n",
              "      <th>4</th>\n",
              "      <td>2</td>\n",
              "      <td>2</td>\n",
              "      <td>2</td>\n",
              "      <td>1</td>\n",
              "      <td>2</td>\n",
              "      <td>2</td>\n",
              "      <td>1</td>\n",
              "      <td>1</td>\n",
              "      <td>1</td>\n",
              "      <td>1</td>\n",
              "      <td>2</td>\n",
              "      <td>0</td>\n",
              "      <td>2</td>\n",
              "      <td>2</td>\n",
              "      <td>2</td>\n",
              "      <td>2</td>\n",
              "      <td>democrat</td>\n",
              "    </tr>\n",
              "  </tbody>\n",
              "</table>\n",
              "</div>\n",
              "    <div class=\"colab-df-buttons\">\n",
              "\n",
              "  <div class=\"colab-df-container\">\n",
              "    <button class=\"colab-df-convert\" onclick=\"convertToInteractive('df-bfe0dbf8-ec74-4490-9485-f70ac9001c33')\"\n",
              "            title=\"Convert this dataframe to an interactive table.\"\n",
              "            style=\"display:none;\">\n",
              "\n",
              "  <svg xmlns=\"http://www.w3.org/2000/svg\" height=\"24px\" viewBox=\"0 -960 960 960\">\n",
              "    <path d=\"M120-120v-720h720v720H120Zm60-500h600v-160H180v160Zm220 220h160v-160H400v160Zm0 220h160v-160H400v160ZM180-400h160v-160H180v160Zm440 0h160v-160H620v160ZM180-180h160v-160H180v160Zm440 0h160v-160H620v160Z\"/>\n",
              "  </svg>\n",
              "    </button>\n",
              "\n",
              "  <style>\n",
              "    .colab-df-container {\n",
              "      display:flex;\n",
              "      gap: 12px;\n",
              "    }\n",
              "\n",
              "    .colab-df-convert {\n",
              "      background-color: #E8F0FE;\n",
              "      border: none;\n",
              "      border-radius: 50%;\n",
              "      cursor: pointer;\n",
              "      display: none;\n",
              "      fill: #1967D2;\n",
              "      height: 32px;\n",
              "      padding: 0 0 0 0;\n",
              "      width: 32px;\n",
              "    }\n",
              "\n",
              "    .colab-df-convert:hover {\n",
              "      background-color: #E2EBFA;\n",
              "      box-shadow: 0px 1px 2px rgba(60, 64, 67, 0.3), 0px 1px 3px 1px rgba(60, 64, 67, 0.15);\n",
              "      fill: #174EA6;\n",
              "    }\n",
              "\n",
              "    .colab-df-buttons div {\n",
              "      margin-bottom: 4px;\n",
              "    }\n",
              "\n",
              "    [theme=dark] .colab-df-convert {\n",
              "      background-color: #3B4455;\n",
              "      fill: #D2E3FC;\n",
              "    }\n",
              "\n",
              "    [theme=dark] .colab-df-convert:hover {\n",
              "      background-color: #434B5C;\n",
              "      box-shadow: 0px 1px 3px 1px rgba(0, 0, 0, 0.15);\n",
              "      filter: drop-shadow(0px 1px 2px rgba(0, 0, 0, 0.3));\n",
              "      fill: #FFFFFF;\n",
              "    }\n",
              "  </style>\n",
              "\n",
              "    <script>\n",
              "      const buttonEl =\n",
              "        document.querySelector('#df-bfe0dbf8-ec74-4490-9485-f70ac9001c33 button.colab-df-convert');\n",
              "      buttonEl.style.display =\n",
              "        google.colab.kernel.accessAllowed ? 'block' : 'none';\n",
              "\n",
              "      async function convertToInteractive(key) {\n",
              "        const element = document.querySelector('#df-bfe0dbf8-ec74-4490-9485-f70ac9001c33');\n",
              "        const dataTable =\n",
              "          await google.colab.kernel.invokeFunction('convertToInteractive',\n",
              "                                                    [key], {});\n",
              "        if (!dataTable) return;\n",
              "\n",
              "        const docLinkHtml = 'Like what you see? Visit the ' +\n",
              "          '<a target=\"_blank\" href=https://colab.research.google.com/notebooks/data_table.ipynb>data table notebook</a>'\n",
              "          + ' to learn more about interactive tables.';\n",
              "        element.innerHTML = '';\n",
              "        dataTable['output_type'] = 'display_data';\n",
              "        await google.colab.output.renderOutput(dataTable, element);\n",
              "        const docLink = document.createElement('div');\n",
              "        docLink.innerHTML = docLinkHtml;\n",
              "        element.appendChild(docLink);\n",
              "      }\n",
              "    </script>\n",
              "  </div>\n",
              "\n",
              "\n",
              "<div id=\"df-0aafc6d8-3611-4cb3-bdc8-887eb0c41356\">\n",
              "  <button class=\"colab-df-quickchart\" onclick=\"quickchart('df-0aafc6d8-3611-4cb3-bdc8-887eb0c41356')\"\n",
              "            title=\"Suggest charts.\"\n",
              "            style=\"display:none;\">\n",
              "\n",
              "<svg xmlns=\"http://www.w3.org/2000/svg\" height=\"24px\"viewBox=\"0 0 24 24\"\n",
              "     width=\"24px\">\n",
              "    <g>\n",
              "        <path d=\"M19 3H5c-1.1 0-2 .9-2 2v14c0 1.1.9 2 2 2h14c1.1 0 2-.9 2-2V5c0-1.1-.9-2-2-2zM9 17H7v-7h2v7zm4 0h-2V7h2v10zm4 0h-2v-4h2v4z\"/>\n",
              "    </g>\n",
              "</svg>\n",
              "  </button>\n",
              "\n",
              "<style>\n",
              "  .colab-df-quickchart {\n",
              "    background-color: #E8F0FE;\n",
              "    border: none;\n",
              "    border-radius: 50%;\n",
              "    cursor: pointer;\n",
              "    display: none;\n",
              "    fill: #1967D2;\n",
              "    height: 32px;\n",
              "    padding: 0 0 0 0;\n",
              "    width: 32px;\n",
              "  }\n",
              "\n",
              "  .colab-df-quickchart:hover {\n",
              "    background-color: #E2EBFA;\n",
              "    box-shadow: 0px 1px 2px rgba(60, 64, 67, 0.3), 0px 1px 3px 1px rgba(60, 64, 67, 0.15);\n",
              "    fill: #174EA6;\n",
              "  }\n",
              "\n",
              "  [theme=dark] .colab-df-quickchart {\n",
              "    background-color: #3B4455;\n",
              "    fill: #D2E3FC;\n",
              "  }\n",
              "\n",
              "  [theme=dark] .colab-df-quickchart:hover {\n",
              "    background-color: #434B5C;\n",
              "    box-shadow: 0px 1px 3px 1px rgba(0, 0, 0, 0.15);\n",
              "    filter: drop-shadow(0px 1px 2px rgba(0, 0, 0, 0.3));\n",
              "    fill: #FFFFFF;\n",
              "  }\n",
              "</style>\n",
              "\n",
              "  <script>\n",
              "    async function quickchart(key) {\n",
              "      const charts = await google.colab.kernel.invokeFunction(\n",
              "          'suggestCharts', [key], {});\n",
              "    }\n",
              "    (() => {\n",
              "      let quickchartButtonEl =\n",
              "        document.querySelector('#df-0aafc6d8-3611-4cb3-bdc8-887eb0c41356 button');\n",
              "      quickchartButtonEl.style.display =\n",
              "        google.colab.kernel.accessAllowed ? 'block' : 'none';\n",
              "    })();\n",
              "  </script>\n",
              "</div>\n",
              "    </div>\n",
              "  </div>\n"
            ]
          },
          "metadata": {},
          "execution_count": 24
        }
      ]
    },
    {
      "cell_type": "markdown",
      "metadata": {
        "id": "7s9pgzpu9YBG"
      },
      "source": [
        "Antes de testarmos diferentes classificadores vamos aplicar um modelo básico para verificar o formato dos dados para aplicação do modelo."
      ]
    },
    {
      "cell_type": "code",
      "metadata": {
        "colab": {
          "base_uri": "https://localhost:8080/"
        },
        "id": "0y5DheBgSU_D",
        "outputId": "48208538-d696-416e-b8c4-269f1e208ea2"
      },
      "source": [
        "from sklearn.tree import DecisionTreeClassifier\n",
        "from sklearn.model_selection import train_test_split\n",
        "from sklearn import neighbors\n",
        "from sklearn.metrics import classification_report\n",
        "\n",
        "X = df_labels\n",
        "y = df['class']\n",
        "\n",
        "X_train, X_test, y_train, y_test = train_test_split(X, y, stratify=y, test_size=0.3, random_state=123)\n",
        "\n",
        "clf = DecisionTreeClassifier()\n",
        "\n",
        "clf.fit(X_train,y_train)\n",
        "\n",
        "y_pred = clf.predict(X_test)\n",
        "\n",
        "accuracy = clf.score(X_test, y_test)\n",
        "print('\\nScore de Acuracidade (2):\\n')\n",
        "print(f'{accuracy:.2f}')\n",
        "\n",
        "print('\\nClassification Report:\\n')\n",
        "print(classification_report(y_test, y_pred))\n"
      ],
      "execution_count": 25,
      "outputs": [
        {
          "output_type": "stream",
          "name": "stdout",
          "text": [
            "\n",
            "Score de Acuracidade (2):\n",
            "\n",
            "0.93\n",
            "\n",
            "Classification Report:\n",
            "\n",
            "              precision    recall  f1-score   support\n",
            "\n",
            "    democrat       0.93      0.96      0.94        80\n",
            "  republican       0.94      0.88      0.91        51\n",
            "\n",
            "    accuracy                           0.93       131\n",
            "   macro avg       0.93      0.92      0.93       131\n",
            "weighted avg       0.93      0.93      0.93       131\n",
            "\n"
          ]
        }
      ]
    },
    {
      "cell_type": "markdown",
      "metadata": {
        "id": "SRGCiRV09qzt"
      },
      "source": [
        "Parece tudo certo e podemos ainda verificar a árvore produzida neste treinamento."
      ]
    },
    {
      "cell_type": "code",
      "metadata": {
        "colab": {
          "base_uri": "https://localhost:8080/",
          "height": 1000
        },
        "id": "P29JgD6ASU_D",
        "outputId": "9166234c-974b-4825-a864-1aaffc971326"
      },
      "source": [
        "import graphviz\n",
        "dot_data = tree.export_graphviz(clf, out_file=None,\n",
        "                     feature_names=list(df_labels.columns.values),\n",
        "                     class_names=list(sorted(df['class'].unique())),\n",
        "                     filled=True, rounded=True,\n",
        "                     special_characters=False,\n",
        "                     proportion=False, impurity=False, node_ids=False,label=None)\n",
        "graph = graphviz.Source(dot_data)\n",
        "graph.render('graph_democratic') # para gravação em .pdf\n",
        "graph"
      ],
      "execution_count": 26,
      "outputs": [
        {
          "output_type": "execute_result",
          "data": {
            "image/svg+xml": "<?xml version=\"1.0\" encoding=\"UTF-8\" standalone=\"no\"?>\n<!DOCTYPE svg PUBLIC \"-//W3C//DTD SVG 1.1//EN\"\n \"http://www.w3.org/Graphics/SVG/1.1/DTD/svg11.dtd\">\n<!-- Generated by graphviz version 2.43.0 (0)\n -->\n<!-- Title: Tree Pages: 1 -->\n<svg width=\"1133pt\" height=\"789pt\"\n viewBox=\"0.00 0.00 1133.00 789.00\" xmlns=\"http://www.w3.org/2000/svg\" xmlns:xlink=\"http://www.w3.org/1999/xlink\">\n<g id=\"graph0\" class=\"graph\" transform=\"scale(1 1) rotate(0) translate(4 785)\">\n<title>Tree</title>\n<polygon fill=\"white\" stroke=\"transparent\" points=\"-4,4 -4,-785 1129,-785 1129,4 -4,4\"/>\n<!-- 0 -->\n<g id=\"node1\" class=\"node\">\n<title>0</title>\n<path fill=\"#f5d0b5\" stroke=\"black\" d=\"M504,-781C504,-781 427,-781 427,-781 421,-781 415,-775 415,-769 415,-769 415,-725 415,-725 415,-719 421,-713 427,-713 427,-713 504,-713 504,-713 510,-713 516,-719 516,-725 516,-725 516,-769 516,-769 516,-775 510,-781 504,-781\"/>\n<text text-anchor=\"middle\" x=\"465.5\" y=\"-765.8\" font-family=\"Helvetica,sans-Serif\" font-size=\"14.00\">Vote_4 &lt;= 1.5</text>\n<text text-anchor=\"middle\" x=\"465.5\" y=\"-750.8\" font-family=\"Helvetica,sans-Serif\" font-size=\"14.00\">304</text>\n<text text-anchor=\"middle\" x=\"465.5\" y=\"-735.8\" font-family=\"Helvetica,sans-Serif\" font-size=\"14.00\">[187, 117]</text>\n<text text-anchor=\"middle\" x=\"465.5\" y=\"-720.8\" font-family=\"Helvetica,sans-Serif\" font-size=\"14.00\">democrat</text>\n</g>\n<!-- 1 -->\n<g id=\"node2\" class=\"node\">\n<title>1</title>\n<path fill=\"#e5823a\" stroke=\"black\" d=\"M443,-677C443,-677 366,-677 366,-677 360,-677 354,-671 354,-665 354,-665 354,-621 354,-621 354,-615 360,-609 366,-609 366,-609 443,-609 443,-609 449,-609 455,-615 455,-621 455,-621 455,-665 455,-665 455,-671 449,-677 443,-677\"/>\n<text text-anchor=\"middle\" x=\"404.5\" y=\"-661.8\" font-family=\"Helvetica,sans-Serif\" font-size=\"14.00\">Vote_3 &lt;= 1.5</text>\n<text text-anchor=\"middle\" x=\"404.5\" y=\"-646.8\" font-family=\"Helvetica,sans-Serif\" font-size=\"14.00\">177</text>\n<text text-anchor=\"middle\" x=\"404.5\" y=\"-631.8\" font-family=\"Helvetica,sans-Serif\" font-size=\"14.00\">[176, 1]</text>\n<text text-anchor=\"middle\" x=\"404.5\" y=\"-616.8\" font-family=\"Helvetica,sans-Serif\" font-size=\"14.00\">democrat</text>\n</g>\n<!-- 0&#45;&gt;1 -->\n<g id=\"edge1\" class=\"edge\">\n<title>0&#45;&gt;1</title>\n<path fill=\"none\" stroke=\"black\" d=\"M445.7,-712.88C440.58,-704.33 435.01,-695.01 429.66,-686.07\"/>\n<polygon fill=\"black\" stroke=\"black\" points=\"432.55,-684.09 424.41,-677.3 426.54,-687.68 432.55,-684.09\"/>\n<text text-anchor=\"middle\" x=\"418.32\" y=\"-697.84\" font-family=\"Helvetica,sans-Serif\" font-size=\"14.00\">True</text>\n</g>\n<!-- 10 -->\n<g id=\"node11\" class=\"node\">\n<title>10</title>\n<path fill=\"#4ca6e7\" stroke=\"black\" d=\"M572,-677C572,-677 487,-677 487,-677 481,-677 475,-671 475,-665 475,-665 475,-621 475,-621 475,-615 481,-609 487,-609 487,-609 572,-609 572,-609 578,-609 584,-615 584,-621 584,-621 584,-665 584,-665 584,-671 578,-677 572,-677\"/>\n<text text-anchor=\"middle\" x=\"529.5\" y=\"-661.8\" font-family=\"Helvetica,sans-Serif\" font-size=\"14.00\">Vote_11 &lt;= 1.5</text>\n<text text-anchor=\"middle\" x=\"529.5\" y=\"-646.8\" font-family=\"Helvetica,sans-Serif\" font-size=\"14.00\">127</text>\n<text text-anchor=\"middle\" x=\"529.5\" y=\"-631.8\" font-family=\"Helvetica,sans-Serif\" font-size=\"14.00\">[11, 116]</text>\n<text text-anchor=\"middle\" x=\"529.5\" y=\"-616.8\" font-family=\"Helvetica,sans-Serif\" font-size=\"14.00\">republican</text>\n</g>\n<!-- 0&#45;&gt;10 -->\n<g id=\"edge10\" class=\"edge\">\n<title>0&#45;&gt;10</title>\n<path fill=\"none\" stroke=\"black\" d=\"M486.28,-712.88C491.7,-704.24 497.61,-694.82 503.28,-685.79\"/>\n<polygon fill=\"black\" stroke=\"black\" points=\"506.26,-687.63 508.61,-677.3 500.33,-683.91 506.26,-687.63\"/>\n<text text-anchor=\"middle\" x=\"514.18\" y=\"-697.97\" font-family=\"Helvetica,sans-Serif\" font-size=\"14.00\">False</text>\n</g>\n<!-- 2 -->\n<g id=\"node3\" class=\"node\">\n<title>2</title>\n<path fill=\"#e68742\" stroke=\"black\" d=\"M337,-573C337,-573 260,-573 260,-573 254,-573 248,-567 248,-561 248,-561 248,-517 248,-517 248,-511 254,-505 260,-505 260,-505 337,-505 337,-505 343,-505 349,-511 349,-517 349,-517 349,-561 349,-561 349,-567 343,-573 337,-573\"/>\n<text text-anchor=\"middle\" x=\"298.5\" y=\"-557.8\" font-family=\"Helvetica,sans-Serif\" font-size=\"14.00\">Vote_6 &lt;= 1.5</text>\n<text text-anchor=\"middle\" x=\"298.5\" y=\"-542.8\" font-family=\"Helvetica,sans-Serif\" font-size=\"14.00\">23</text>\n<text text-anchor=\"middle\" x=\"298.5\" y=\"-527.8\" font-family=\"Helvetica,sans-Serif\" font-size=\"14.00\">[22, 1]</text>\n<text text-anchor=\"middle\" x=\"298.5\" y=\"-512.8\" font-family=\"Helvetica,sans-Serif\" font-size=\"14.00\">democrat</text>\n</g>\n<!-- 1&#45;&gt;2 -->\n<g id=\"edge2\" class=\"edge\">\n<title>1&#45;&gt;2</title>\n<path fill=\"none\" stroke=\"black\" d=\"M370.08,-608.88C360.64,-599.8 350.3,-589.85 340.48,-580.4\"/>\n<polygon fill=\"black\" stroke=\"black\" points=\"342.74,-577.71 333.11,-573.3 337.88,-582.76 342.74,-577.71\"/>\n</g>\n<!-- 9 -->\n<g id=\"node10\" class=\"node\">\n<title>9</title>\n<path fill=\"#e58139\" stroke=\"black\" d=\"M429.5,-565.5C429.5,-565.5 379.5,-565.5 379.5,-565.5 373.5,-565.5 367.5,-559.5 367.5,-553.5 367.5,-553.5 367.5,-524.5 367.5,-524.5 367.5,-518.5 373.5,-512.5 379.5,-512.5 379.5,-512.5 429.5,-512.5 429.5,-512.5 435.5,-512.5 441.5,-518.5 441.5,-524.5 441.5,-524.5 441.5,-553.5 441.5,-553.5 441.5,-559.5 435.5,-565.5 429.5,-565.5\"/>\n<text text-anchor=\"middle\" x=\"404.5\" y=\"-550.3\" font-family=\"Helvetica,sans-Serif\" font-size=\"14.00\">154</text>\n<text text-anchor=\"middle\" x=\"404.5\" y=\"-535.3\" font-family=\"Helvetica,sans-Serif\" font-size=\"14.00\">[154, 0]</text>\n<text text-anchor=\"middle\" x=\"404.5\" y=\"-520.3\" font-family=\"Helvetica,sans-Serif\" font-size=\"14.00\">democrat</text>\n</g>\n<!-- 1&#45;&gt;9 -->\n<g id=\"edge9\" class=\"edge\">\n<title>1&#45;&gt;9</title>\n<path fill=\"none\" stroke=\"black\" d=\"M404.5,-608.88C404.5,-598.33 404.5,-586.6 404.5,-575.85\"/>\n<polygon fill=\"black\" stroke=\"black\" points=\"408,-575.52 404.5,-565.52 401,-575.52 408,-575.52\"/>\n</g>\n<!-- 3 -->\n<g id=\"node4\" class=\"node\">\n<title>3</title>\n<path fill=\"#e99355\" stroke=\"black\" d=\"M231,-469C231,-469 146,-469 146,-469 140,-469 134,-463 134,-457 134,-457 134,-413 134,-413 134,-407 140,-401 146,-401 146,-401 231,-401 231,-401 237,-401 243,-407 243,-413 243,-413 243,-457 243,-457 243,-463 237,-469 231,-469\"/>\n<text text-anchor=\"middle\" x=\"188.5\" y=\"-453.8\" font-family=\"Helvetica,sans-Serif\" font-size=\"14.00\">Vote_15 &lt;= 1.5</text>\n<text text-anchor=\"middle\" x=\"188.5\" y=\"-438.8\" font-family=\"Helvetica,sans-Serif\" font-size=\"14.00\">8</text>\n<text text-anchor=\"middle\" x=\"188.5\" y=\"-423.8\" font-family=\"Helvetica,sans-Serif\" font-size=\"14.00\">[7, 1]</text>\n<text text-anchor=\"middle\" x=\"188.5\" y=\"-408.8\" font-family=\"Helvetica,sans-Serif\" font-size=\"14.00\">democrat</text>\n</g>\n<!-- 2&#45;&gt;3 -->\n<g id=\"edge3\" class=\"edge\">\n<title>2&#45;&gt;3</title>\n<path fill=\"none\" stroke=\"black\" d=\"M262.79,-504.88C252.89,-495.71 242.04,-485.65 231.77,-476.12\"/>\n<polygon fill=\"black\" stroke=\"black\" points=\"234.12,-473.53 224.41,-469.3 229.36,-478.67 234.12,-473.53\"/>\n</g>\n<!-- 8 -->\n<g id=\"node9\" class=\"node\">\n<title>8</title>\n<path fill=\"#e58139\" stroke=\"black\" d=\"M323.5,-461.5C323.5,-461.5 273.5,-461.5 273.5,-461.5 267.5,-461.5 261.5,-455.5 261.5,-449.5 261.5,-449.5 261.5,-420.5 261.5,-420.5 261.5,-414.5 267.5,-408.5 273.5,-408.5 273.5,-408.5 323.5,-408.5 323.5,-408.5 329.5,-408.5 335.5,-414.5 335.5,-420.5 335.5,-420.5 335.5,-449.5 335.5,-449.5 335.5,-455.5 329.5,-461.5 323.5,-461.5\"/>\n<text text-anchor=\"middle\" x=\"298.5\" y=\"-446.3\" font-family=\"Helvetica,sans-Serif\" font-size=\"14.00\">15</text>\n<text text-anchor=\"middle\" x=\"298.5\" y=\"-431.3\" font-family=\"Helvetica,sans-Serif\" font-size=\"14.00\">[15, 0]</text>\n<text text-anchor=\"middle\" x=\"298.5\" y=\"-416.3\" font-family=\"Helvetica,sans-Serif\" font-size=\"14.00\">democrat</text>\n</g>\n<!-- 2&#45;&gt;8 -->\n<g id=\"edge8\" class=\"edge\">\n<title>2&#45;&gt;8</title>\n<path fill=\"none\" stroke=\"black\" d=\"M298.5,-504.88C298.5,-494.33 298.5,-482.6 298.5,-471.85\"/>\n<polygon fill=\"black\" stroke=\"black\" points=\"302,-471.52 298.5,-461.52 295,-471.52 302,-471.52\"/>\n</g>\n<!-- 4 -->\n<g id=\"node5\" class=\"node\">\n<title>4</title>\n<path fill=\"#ffffff\" stroke=\"black\" d=\"M125,-365C125,-365 48,-365 48,-365 42,-365 36,-359 36,-353 36,-353 36,-309 36,-309 36,-303 42,-297 48,-297 48,-297 125,-297 125,-297 131,-297 137,-303 137,-309 137,-309 137,-353 137,-353 137,-359 131,-365 125,-365\"/>\n<text text-anchor=\"middle\" x=\"86.5\" y=\"-349.8\" font-family=\"Helvetica,sans-Serif\" font-size=\"14.00\">Vote_5 &lt;= 1.5</text>\n<text text-anchor=\"middle\" x=\"86.5\" y=\"-334.8\" font-family=\"Helvetica,sans-Serif\" font-size=\"14.00\">2</text>\n<text text-anchor=\"middle\" x=\"86.5\" y=\"-319.8\" font-family=\"Helvetica,sans-Serif\" font-size=\"14.00\">[1, 1]</text>\n<text text-anchor=\"middle\" x=\"86.5\" y=\"-304.8\" font-family=\"Helvetica,sans-Serif\" font-size=\"14.00\">democrat</text>\n</g>\n<!-- 3&#45;&gt;4 -->\n<g id=\"edge4\" class=\"edge\">\n<title>3&#45;&gt;4</title>\n<path fill=\"none\" stroke=\"black\" d=\"M155.38,-400.88C146.3,-391.8 136.35,-381.85 126.9,-372.4\"/>\n<polygon fill=\"black\" stroke=\"black\" points=\"129.35,-369.9 119.8,-365.3 124.4,-374.85 129.35,-369.9\"/>\n</g>\n<!-- 7 -->\n<g id=\"node8\" class=\"node\">\n<title>7</title>\n<path fill=\"#e58139\" stroke=\"black\" d=\"M217.5,-357.5C217.5,-357.5 167.5,-357.5 167.5,-357.5 161.5,-357.5 155.5,-351.5 155.5,-345.5 155.5,-345.5 155.5,-316.5 155.5,-316.5 155.5,-310.5 161.5,-304.5 167.5,-304.5 167.5,-304.5 217.5,-304.5 217.5,-304.5 223.5,-304.5 229.5,-310.5 229.5,-316.5 229.5,-316.5 229.5,-345.5 229.5,-345.5 229.5,-351.5 223.5,-357.5 217.5,-357.5\"/>\n<text text-anchor=\"middle\" x=\"192.5\" y=\"-342.3\" font-family=\"Helvetica,sans-Serif\" font-size=\"14.00\">6</text>\n<text text-anchor=\"middle\" x=\"192.5\" y=\"-327.3\" font-family=\"Helvetica,sans-Serif\" font-size=\"14.00\">[6, 0]</text>\n<text text-anchor=\"middle\" x=\"192.5\" y=\"-312.3\" font-family=\"Helvetica,sans-Serif\" font-size=\"14.00\">democrat</text>\n</g>\n<!-- 3&#45;&gt;7 -->\n<g id=\"edge7\" class=\"edge\">\n<title>3&#45;&gt;7</title>\n<path fill=\"none\" stroke=\"black\" d=\"M189.8,-400.88C190.22,-390.22 190.68,-378.35 191.11,-367.52\"/>\n<polygon fill=\"black\" stroke=\"black\" points=\"194.6,-367.65 191.5,-357.52 187.61,-367.38 194.6,-367.65\"/>\n</g>\n<!-- 5 -->\n<g id=\"node6\" class=\"node\">\n<title>5</title>\n<path fill=\"#399de5\" stroke=\"black\" d=\"M67,-253.5C67,-253.5 12,-253.5 12,-253.5 6,-253.5 0,-247.5 0,-241.5 0,-241.5 0,-212.5 0,-212.5 0,-206.5 6,-200.5 12,-200.5 12,-200.5 67,-200.5 67,-200.5 73,-200.5 79,-206.5 79,-212.5 79,-212.5 79,-241.5 79,-241.5 79,-247.5 73,-253.5 67,-253.5\"/>\n<text text-anchor=\"middle\" x=\"39.5\" y=\"-238.3\" font-family=\"Helvetica,sans-Serif\" font-size=\"14.00\">1</text>\n<text text-anchor=\"middle\" x=\"39.5\" y=\"-223.3\" font-family=\"Helvetica,sans-Serif\" font-size=\"14.00\">[0, 1]</text>\n<text text-anchor=\"middle\" x=\"39.5\" y=\"-208.3\" font-family=\"Helvetica,sans-Serif\" font-size=\"14.00\">republican</text>\n</g>\n<!-- 4&#45;&gt;5 -->\n<g id=\"edge5\" class=\"edge\">\n<title>4&#45;&gt;5</title>\n<path fill=\"none\" stroke=\"black\" d=\"M71.24,-296.88C66.22,-286 60.63,-273.86 55.56,-262.85\"/>\n<polygon fill=\"black\" stroke=\"black\" points=\"58.62,-261.14 51.26,-253.52 52.27,-264.07 58.62,-261.14\"/>\n</g>\n<!-- 6 -->\n<g id=\"node7\" class=\"node\">\n<title>6</title>\n<path fill=\"#e58139\" stroke=\"black\" d=\"M159.5,-253.5C159.5,-253.5 109.5,-253.5 109.5,-253.5 103.5,-253.5 97.5,-247.5 97.5,-241.5 97.5,-241.5 97.5,-212.5 97.5,-212.5 97.5,-206.5 103.5,-200.5 109.5,-200.5 109.5,-200.5 159.5,-200.5 159.5,-200.5 165.5,-200.5 171.5,-206.5 171.5,-212.5 171.5,-212.5 171.5,-241.5 171.5,-241.5 171.5,-247.5 165.5,-253.5 159.5,-253.5\"/>\n<text text-anchor=\"middle\" x=\"134.5\" y=\"-238.3\" font-family=\"Helvetica,sans-Serif\" font-size=\"14.00\">1</text>\n<text text-anchor=\"middle\" x=\"134.5\" y=\"-223.3\" font-family=\"Helvetica,sans-Serif\" font-size=\"14.00\">[1, 0]</text>\n<text text-anchor=\"middle\" x=\"134.5\" y=\"-208.3\" font-family=\"Helvetica,sans-Serif\" font-size=\"14.00\">democrat</text>\n</g>\n<!-- 4&#45;&gt;6 -->\n<g id=\"edge6\" class=\"edge\">\n<title>4&#45;&gt;6</title>\n<path fill=\"none\" stroke=\"black\" d=\"M102.08,-296.88C107.21,-286 112.92,-273.86 118.1,-262.85\"/>\n<polygon fill=\"black\" stroke=\"black\" points=\"121.4,-264.06 122.49,-253.52 115.07,-261.08 121.4,-264.06\"/>\n</g>\n<!-- 11 -->\n<g id=\"node12\" class=\"node\">\n<title>11</title>\n<path fill=\"#3fa0e6\" stroke=\"black\" d=\"M572,-573C572,-573 487,-573 487,-573 481,-573 475,-567 475,-561 475,-561 475,-517 475,-517 475,-511 481,-505 487,-505 487,-505 572,-505 572,-505 578,-505 584,-511 584,-517 584,-517 584,-561 584,-561 584,-567 578,-573 572,-573\"/>\n<text text-anchor=\"middle\" x=\"529.5\" y=\"-557.8\" font-family=\"Helvetica,sans-Serif\" font-size=\"14.00\">Vote_15 &lt;= 1.5</text>\n<text text-anchor=\"middle\" x=\"529.5\" y=\"-542.8\" font-family=\"Helvetica,sans-Serif\" font-size=\"14.00\">106</text>\n<text text-anchor=\"middle\" x=\"529.5\" y=\"-527.8\" font-family=\"Helvetica,sans-Serif\" font-size=\"14.00\">[3, 103]</text>\n<text text-anchor=\"middle\" x=\"529.5\" y=\"-512.8\" font-family=\"Helvetica,sans-Serif\" font-size=\"14.00\">republican</text>\n</g>\n<!-- 10&#45;&gt;11 -->\n<g id=\"edge11\" class=\"edge\">\n<title>10&#45;&gt;11</title>\n<path fill=\"none\" stroke=\"black\" d=\"M529.5,-608.88C529.5,-600.78 529.5,-591.98 529.5,-583.47\"/>\n<polygon fill=\"black\" stroke=\"black\" points=\"533,-583.3 529.5,-573.3 526,-583.3 533,-583.3\"/>\n</g>\n<!-- 22 -->\n<g id=\"node23\" class=\"node\">\n<title>22</title>\n<path fill=\"#b3d9f5\" stroke=\"black\" d=\"M839,-573C839,-573 754,-573 754,-573 748,-573 742,-567 742,-561 742,-561 742,-517 742,-517 742,-511 748,-505 754,-505 754,-505 839,-505 839,-505 845,-505 851,-511 851,-517 851,-517 851,-561 851,-561 851,-567 845,-573 839,-573\"/>\n<text text-anchor=\"middle\" x=\"796.5\" y=\"-557.8\" font-family=\"Helvetica,sans-Serif\" font-size=\"14.00\">Vote_16 &lt;= 1.5</text>\n<text text-anchor=\"middle\" x=\"796.5\" y=\"-542.8\" font-family=\"Helvetica,sans-Serif\" font-size=\"14.00\">21</text>\n<text text-anchor=\"middle\" x=\"796.5\" y=\"-527.8\" font-family=\"Helvetica,sans-Serif\" font-size=\"14.00\">[8, 13]</text>\n<text text-anchor=\"middle\" x=\"796.5\" y=\"-512.8\" font-family=\"Helvetica,sans-Serif\" font-size=\"14.00\">republican</text>\n</g>\n<!-- 10&#45;&gt;22 -->\n<g id=\"edge22\" class=\"edge\">\n<title>10&#45;&gt;22</title>\n<path fill=\"none\" stroke=\"black\" d=\"M584.18,-621.11C627.19,-604.68 687.22,-581.75 732.48,-564.46\"/>\n<polygon fill=\"black\" stroke=\"black\" points=\"733.8,-567.7 741.9,-560.86 731.31,-561.16 733.8,-567.7\"/>\n</g>\n<!-- 12 -->\n<g id=\"node13\" class=\"node\">\n<title>12</title>\n<path fill=\"#3b9ee5\" stroke=\"black\" d=\"M443,-469C443,-469 366,-469 366,-469 360,-469 354,-463 354,-457 354,-457 354,-413 354,-413 354,-407 360,-401 366,-401 366,-401 443,-401 443,-401 449,-401 455,-407 455,-413 455,-413 455,-457 455,-457 455,-463 449,-469 443,-469\"/>\n<text text-anchor=\"middle\" x=\"404.5\" y=\"-453.8\" font-family=\"Helvetica,sans-Serif\" font-size=\"14.00\">Vote_3 &lt;= 1.5</text>\n<text text-anchor=\"middle\" x=\"404.5\" y=\"-438.8\" font-family=\"Helvetica,sans-Serif\" font-size=\"14.00\">96</text>\n<text text-anchor=\"middle\" x=\"404.5\" y=\"-423.8\" font-family=\"Helvetica,sans-Serif\" font-size=\"14.00\">[1, 95]</text>\n<text text-anchor=\"middle\" x=\"404.5\" y=\"-408.8\" font-family=\"Helvetica,sans-Serif\" font-size=\"14.00\">republican</text>\n</g>\n<!-- 11&#45;&gt;12 -->\n<g id=\"edge12\" class=\"edge\">\n<title>11&#45;&gt;12</title>\n<path fill=\"none\" stroke=\"black\" d=\"M488.92,-504.88C477.56,-495.62 465.11,-485.45 453.33,-475.85\"/>\n<polygon fill=\"black\" stroke=\"black\" points=\"455.27,-472.91 445.31,-469.3 450.84,-478.33 455.27,-472.91\"/>\n</g>\n<!-- 17 -->\n<g id=\"node18\" class=\"node\">\n<title>17</title>\n<path fill=\"#6ab6ec\" stroke=\"black\" d=\"M572,-469C572,-469 487,-469 487,-469 481,-469 475,-463 475,-457 475,-457 475,-413 475,-413 475,-407 481,-401 487,-401 487,-401 572,-401 572,-401 578,-401 584,-407 584,-413 584,-413 584,-457 584,-457 584,-463 578,-469 572,-469\"/>\n<text text-anchor=\"middle\" x=\"529.5\" y=\"-453.8\" font-family=\"Helvetica,sans-Serif\" font-size=\"14.00\">Vote_10 &lt;= 1.5</text>\n<text text-anchor=\"middle\" x=\"529.5\" y=\"-438.8\" font-family=\"Helvetica,sans-Serif\" font-size=\"14.00\">10</text>\n<text text-anchor=\"middle\" x=\"529.5\" y=\"-423.8\" font-family=\"Helvetica,sans-Serif\" font-size=\"14.00\">[2, 8]</text>\n<text text-anchor=\"middle\" x=\"529.5\" y=\"-408.8\" font-family=\"Helvetica,sans-Serif\" font-size=\"14.00\">republican</text>\n</g>\n<!-- 11&#45;&gt;17 -->\n<g id=\"edge17\" class=\"edge\">\n<title>11&#45;&gt;17</title>\n<path fill=\"none\" stroke=\"black\" d=\"M529.5,-504.88C529.5,-496.78 529.5,-487.98 529.5,-479.47\"/>\n<polygon fill=\"black\" stroke=\"black\" points=\"533,-479.3 529.5,-469.3 526,-479.3 533,-479.3\"/>\n</g>\n<!-- 13 -->\n<g id=\"node14\" class=\"node\">\n<title>13</title>\n<path fill=\"#399de5\" stroke=\"black\" d=\"M318,-357.5C318,-357.5 263,-357.5 263,-357.5 257,-357.5 251,-351.5 251,-345.5 251,-345.5 251,-316.5 251,-316.5 251,-310.5 257,-304.5 263,-304.5 263,-304.5 318,-304.5 318,-304.5 324,-304.5 330,-310.5 330,-316.5 330,-316.5 330,-345.5 330,-345.5 330,-351.5 324,-357.5 318,-357.5\"/>\n<text text-anchor=\"middle\" x=\"290.5\" y=\"-342.3\" font-family=\"Helvetica,sans-Serif\" font-size=\"14.00\">87</text>\n<text text-anchor=\"middle\" x=\"290.5\" y=\"-327.3\" font-family=\"Helvetica,sans-Serif\" font-size=\"14.00\">[0, 87]</text>\n<text text-anchor=\"middle\" x=\"290.5\" y=\"-312.3\" font-family=\"Helvetica,sans-Serif\" font-size=\"14.00\">republican</text>\n</g>\n<!-- 12&#45;&gt;13 -->\n<g id=\"edge13\" class=\"edge\">\n<title>12&#45;&gt;13</title>\n<path fill=\"none\" stroke=\"black\" d=\"M367.49,-400.88C354.34,-389.12 339.56,-375.89 326.49,-364.2\"/>\n<polygon fill=\"black\" stroke=\"black\" points=\"328.81,-361.58 319.02,-357.52 324.14,-366.8 328.81,-361.58\"/>\n</g>\n<!-- 14 -->\n<g id=\"node15\" class=\"node\">\n<title>14</title>\n<path fill=\"#52a9e8\" stroke=\"black\" d=\"M445,-365C445,-365 360,-365 360,-365 354,-365 348,-359 348,-353 348,-353 348,-309 348,-309 348,-303 354,-297 360,-297 360,-297 445,-297 445,-297 451,-297 457,-303 457,-309 457,-309 457,-353 457,-353 457,-359 451,-365 445,-365\"/>\n<text text-anchor=\"middle\" x=\"402.5\" y=\"-349.8\" font-family=\"Helvetica,sans-Serif\" font-size=\"14.00\">Vote_16 &lt;= 1.0</text>\n<text text-anchor=\"middle\" x=\"402.5\" y=\"-334.8\" font-family=\"Helvetica,sans-Serif\" font-size=\"14.00\">9</text>\n<text text-anchor=\"middle\" x=\"402.5\" y=\"-319.8\" font-family=\"Helvetica,sans-Serif\" font-size=\"14.00\">[1, 8]</text>\n<text text-anchor=\"middle\" x=\"402.5\" y=\"-304.8\" font-family=\"Helvetica,sans-Serif\" font-size=\"14.00\">republican</text>\n</g>\n<!-- 12&#45;&gt;14 -->\n<g id=\"edge14\" class=\"edge\">\n<title>12&#45;&gt;14</title>\n<path fill=\"none\" stroke=\"black\" d=\"M403.85,-400.88C403.69,-392.78 403.52,-383.98 403.35,-375.47\"/>\n<polygon fill=\"black\" stroke=\"black\" points=\"406.85,-375.23 403.15,-365.3 399.85,-375.37 406.85,-375.23\"/>\n</g>\n<!-- 15 -->\n<g id=\"node16\" class=\"node\">\n<title>15</title>\n<path fill=\"#e58139\" stroke=\"black\" d=\"M339.5,-253.5C339.5,-253.5 289.5,-253.5 289.5,-253.5 283.5,-253.5 277.5,-247.5 277.5,-241.5 277.5,-241.5 277.5,-212.5 277.5,-212.5 277.5,-206.5 283.5,-200.5 289.5,-200.5 289.5,-200.5 339.5,-200.5 339.5,-200.5 345.5,-200.5 351.5,-206.5 351.5,-212.5 351.5,-212.5 351.5,-241.5 351.5,-241.5 351.5,-247.5 345.5,-253.5 339.5,-253.5\"/>\n<text text-anchor=\"middle\" x=\"314.5\" y=\"-238.3\" font-family=\"Helvetica,sans-Serif\" font-size=\"14.00\">1</text>\n<text text-anchor=\"middle\" x=\"314.5\" y=\"-223.3\" font-family=\"Helvetica,sans-Serif\" font-size=\"14.00\">[1, 0]</text>\n<text text-anchor=\"middle\" x=\"314.5\" y=\"-208.3\" font-family=\"Helvetica,sans-Serif\" font-size=\"14.00\">democrat</text>\n</g>\n<!-- 14&#45;&gt;15 -->\n<g id=\"edge15\" class=\"edge\">\n<title>14&#45;&gt;15</title>\n<path fill=\"none\" stroke=\"black\" d=\"M373.93,-296.88C364.06,-285.45 353.01,-272.63 343.13,-261.19\"/>\n<polygon fill=\"black\" stroke=\"black\" points=\"345.7,-258.81 336.52,-253.52 340.4,-263.38 345.7,-258.81\"/>\n</g>\n<!-- 16 -->\n<g id=\"node17\" class=\"node\">\n<title>16</title>\n<path fill=\"#399de5\" stroke=\"black\" d=\"M437,-253.5C437,-253.5 382,-253.5 382,-253.5 376,-253.5 370,-247.5 370,-241.5 370,-241.5 370,-212.5 370,-212.5 370,-206.5 376,-200.5 382,-200.5 382,-200.5 437,-200.5 437,-200.5 443,-200.5 449,-206.5 449,-212.5 449,-212.5 449,-241.5 449,-241.5 449,-247.5 443,-253.5 437,-253.5\"/>\n<text text-anchor=\"middle\" x=\"409.5\" y=\"-238.3\" font-family=\"Helvetica,sans-Serif\" font-size=\"14.00\">8</text>\n<text text-anchor=\"middle\" x=\"409.5\" y=\"-223.3\" font-family=\"Helvetica,sans-Serif\" font-size=\"14.00\">[0, 8]</text>\n<text text-anchor=\"middle\" x=\"409.5\" y=\"-208.3\" font-family=\"Helvetica,sans-Serif\" font-size=\"14.00\">republican</text>\n</g>\n<!-- 14&#45;&gt;16 -->\n<g id=\"edge16\" class=\"edge\">\n<title>14&#45;&gt;16</title>\n<path fill=\"none\" stroke=\"black\" d=\"M404.77,-296.88C405.5,-286.22 406.32,-274.35 407.06,-263.52\"/>\n<polygon fill=\"black\" stroke=\"black\" points=\"410.56,-263.74 407.75,-253.52 403.57,-263.26 410.56,-263.74\"/>\n</g>\n<!-- 18 -->\n<g id=\"node19\" class=\"node\">\n<title>18</title>\n<path fill=\"#f2c09c\" stroke=\"black\" d=\"M572,-365C572,-365 487,-365 487,-365 481,-365 475,-359 475,-353 475,-353 475,-309 475,-309 475,-303 481,-297 487,-297 487,-297 572,-297 572,-297 578,-297 584,-303 584,-309 584,-309 584,-353 584,-353 584,-359 578,-365 572,-365\"/>\n<text text-anchor=\"middle\" x=\"529.5\" y=\"-349.8\" font-family=\"Helvetica,sans-Serif\" font-size=\"14.00\">Vote_14 &lt;= 1.0</text>\n<text text-anchor=\"middle\" x=\"529.5\" y=\"-334.8\" font-family=\"Helvetica,sans-Serif\" font-size=\"14.00\">3</text>\n<text text-anchor=\"middle\" x=\"529.5\" y=\"-319.8\" font-family=\"Helvetica,sans-Serif\" font-size=\"14.00\">[2, 1]</text>\n<text text-anchor=\"middle\" x=\"529.5\" y=\"-304.8\" font-family=\"Helvetica,sans-Serif\" font-size=\"14.00\">democrat</text>\n</g>\n<!-- 17&#45;&gt;18 -->\n<g id=\"edge18\" class=\"edge\">\n<title>17&#45;&gt;18</title>\n<path fill=\"none\" stroke=\"black\" d=\"M529.5,-400.88C529.5,-392.78 529.5,-383.98 529.5,-375.47\"/>\n<polygon fill=\"black\" stroke=\"black\" points=\"533,-375.3 529.5,-365.3 526,-375.3 533,-375.3\"/>\n</g>\n<!-- 21 -->\n<g id=\"node22\" class=\"node\">\n<title>21</title>\n<path fill=\"#399de5\" stroke=\"black\" d=\"M669,-357.5C669,-357.5 614,-357.5 614,-357.5 608,-357.5 602,-351.5 602,-345.5 602,-345.5 602,-316.5 602,-316.5 602,-310.5 608,-304.5 614,-304.5 614,-304.5 669,-304.5 669,-304.5 675,-304.5 681,-310.5 681,-316.5 681,-316.5 681,-345.5 681,-345.5 681,-351.5 675,-357.5 669,-357.5\"/>\n<text text-anchor=\"middle\" x=\"641.5\" y=\"-342.3\" font-family=\"Helvetica,sans-Serif\" font-size=\"14.00\">7</text>\n<text text-anchor=\"middle\" x=\"641.5\" y=\"-327.3\" font-family=\"Helvetica,sans-Serif\" font-size=\"14.00\">[0, 7]</text>\n<text text-anchor=\"middle\" x=\"641.5\" y=\"-312.3\" font-family=\"Helvetica,sans-Serif\" font-size=\"14.00\">republican</text>\n</g>\n<!-- 17&#45;&gt;21 -->\n<g id=\"edge21\" class=\"edge\">\n<title>17&#45;&gt;21</title>\n<path fill=\"none\" stroke=\"black\" d=\"M565.86,-400.88C578.66,-389.23 593.03,-376.14 605.78,-364.53\"/>\n<polygon fill=\"black\" stroke=\"black\" points=\"608.44,-366.84 613.48,-357.52 603.73,-361.67 608.44,-366.84\"/>\n</g>\n<!-- 19 -->\n<g id=\"node20\" class=\"node\">\n<title>19</title>\n<path fill=\"#399de5\" stroke=\"black\" d=\"M542,-253.5C542,-253.5 487,-253.5 487,-253.5 481,-253.5 475,-247.5 475,-241.5 475,-241.5 475,-212.5 475,-212.5 475,-206.5 481,-200.5 487,-200.5 487,-200.5 542,-200.5 542,-200.5 548,-200.5 554,-206.5 554,-212.5 554,-212.5 554,-241.5 554,-241.5 554,-247.5 548,-253.5 542,-253.5\"/>\n<text text-anchor=\"middle\" x=\"514.5\" y=\"-238.3\" font-family=\"Helvetica,sans-Serif\" font-size=\"14.00\">1</text>\n<text text-anchor=\"middle\" x=\"514.5\" y=\"-223.3\" font-family=\"Helvetica,sans-Serif\" font-size=\"14.00\">[0, 1]</text>\n<text text-anchor=\"middle\" x=\"514.5\" y=\"-208.3\" font-family=\"Helvetica,sans-Serif\" font-size=\"14.00\">republican</text>\n</g>\n<!-- 18&#45;&gt;19 -->\n<g id=\"edge19\" class=\"edge\">\n<title>18&#45;&gt;19</title>\n<path fill=\"none\" stroke=\"black\" d=\"M524.63,-296.88C523.06,-286.22 521.32,-274.35 519.72,-263.52\"/>\n<polygon fill=\"black\" stroke=\"black\" points=\"523.17,-262.9 518.25,-253.52 516.25,-263.92 523.17,-262.9\"/>\n</g>\n<!-- 20 -->\n<g id=\"node21\" class=\"node\">\n<title>20</title>\n<path fill=\"#e58139\" stroke=\"black\" d=\"M634.5,-253.5C634.5,-253.5 584.5,-253.5 584.5,-253.5 578.5,-253.5 572.5,-247.5 572.5,-241.5 572.5,-241.5 572.5,-212.5 572.5,-212.5 572.5,-206.5 578.5,-200.5 584.5,-200.5 584.5,-200.5 634.5,-200.5 634.5,-200.5 640.5,-200.5 646.5,-206.5 646.5,-212.5 646.5,-212.5 646.5,-241.5 646.5,-241.5 646.5,-247.5 640.5,-253.5 634.5,-253.5\"/>\n<text text-anchor=\"middle\" x=\"609.5\" y=\"-238.3\" font-family=\"Helvetica,sans-Serif\" font-size=\"14.00\">2</text>\n<text text-anchor=\"middle\" x=\"609.5\" y=\"-223.3\" font-family=\"Helvetica,sans-Serif\" font-size=\"14.00\">[2, 0]</text>\n<text text-anchor=\"middle\" x=\"609.5\" y=\"-208.3\" font-family=\"Helvetica,sans-Serif\" font-size=\"14.00\">democrat</text>\n</g>\n<!-- 18&#45;&gt;20 -->\n<g id=\"edge20\" class=\"edge\">\n<title>18&#45;&gt;20</title>\n<path fill=\"none\" stroke=\"black\" d=\"M555.47,-296.88C564.36,-285.56 574.3,-272.88 583.21,-261.52\"/>\n<polygon fill=\"black\" stroke=\"black\" points=\"586.07,-263.55 589.48,-253.52 580.56,-259.23 586.07,-263.55\"/>\n</g>\n<!-- 23 -->\n<g id=\"node24\" class=\"node\">\n<title>23</title>\n<path fill=\"#eeab7b\" stroke=\"black\" d=\"M835,-469C835,-469 758,-469 758,-469 752,-469 746,-463 746,-457 746,-457 746,-413 746,-413 746,-407 752,-401 758,-401 758,-401 835,-401 835,-401 841,-401 847,-407 847,-413 847,-413 847,-457 847,-457 847,-463 841,-469 835,-469\"/>\n<text text-anchor=\"middle\" x=\"796.5\" y=\"-453.8\" font-family=\"Helvetica,sans-Serif\" font-size=\"14.00\">Vote_3 &lt;= 1.5</text>\n<text text-anchor=\"middle\" x=\"796.5\" y=\"-438.8\" font-family=\"Helvetica,sans-Serif\" font-size=\"14.00\">8</text>\n<text text-anchor=\"middle\" x=\"796.5\" y=\"-423.8\" font-family=\"Helvetica,sans-Serif\" font-size=\"14.00\">[6, 2]</text>\n<text text-anchor=\"middle\" x=\"796.5\" y=\"-408.8\" font-family=\"Helvetica,sans-Serif\" font-size=\"14.00\">democrat</text>\n</g>\n<!-- 22&#45;&gt;23 -->\n<g id=\"edge23\" class=\"edge\">\n<title>22&#45;&gt;23</title>\n<path fill=\"none\" stroke=\"black\" d=\"M796.5,-504.88C796.5,-496.78 796.5,-487.98 796.5,-479.47\"/>\n<polygon fill=\"black\" stroke=\"black\" points=\"800,-479.3 796.5,-469.3 793,-479.3 800,-479.3\"/>\n</g>\n<!-- 32 -->\n<g id=\"node33\" class=\"node\">\n<title>32</title>\n<path fill=\"#5dafea\" stroke=\"black\" d=\"M997,-469C997,-469 920,-469 920,-469 914,-469 908,-463 908,-457 908,-457 908,-413 908,-413 908,-407 914,-401 920,-401 920,-401 997,-401 997,-401 1003,-401 1009,-407 1009,-413 1009,-413 1009,-457 1009,-457 1009,-463 1003,-469 997,-469\"/>\n<text text-anchor=\"middle\" x=\"958.5\" y=\"-453.8\" font-family=\"Helvetica,sans-Serif\" font-size=\"14.00\">Vote_1 &lt;= 1.5</text>\n<text text-anchor=\"middle\" x=\"958.5\" y=\"-438.8\" font-family=\"Helvetica,sans-Serif\" font-size=\"14.00\">13</text>\n<text text-anchor=\"middle\" x=\"958.5\" y=\"-423.8\" font-family=\"Helvetica,sans-Serif\" font-size=\"14.00\">[2, 11]</text>\n<text text-anchor=\"middle\" x=\"958.5\" y=\"-408.8\" font-family=\"Helvetica,sans-Serif\" font-size=\"14.00\">republican</text>\n</g>\n<!-- 22&#45;&gt;32 -->\n<g id=\"edge32\" class=\"edge\">\n<title>22&#45;&gt;32</title>\n<path fill=\"none\" stroke=\"black\" d=\"M849.1,-504.88C865.15,-494.78 882.9,-483.6 899.35,-473.24\"/>\n<polygon fill=\"black\" stroke=\"black\" points=\"901.22,-476.2 907.82,-467.91 897.49,-470.27 901.22,-476.2\"/>\n</g>\n<!-- 24 -->\n<g id=\"node25\" class=\"node\">\n<title>24</title>\n<path fill=\"#f2c09c\" stroke=\"black\" d=\"M796,-365C796,-365 711,-365 711,-365 705,-365 699,-359 699,-353 699,-353 699,-309 699,-309 699,-303 705,-297 711,-297 711,-297 796,-297 796,-297 802,-297 808,-303 808,-309 808,-309 808,-353 808,-353 808,-359 802,-365 796,-365\"/>\n<text text-anchor=\"middle\" x=\"753.5\" y=\"-349.8\" font-family=\"Helvetica,sans-Serif\" font-size=\"14.00\">Vote_10 &lt;= 1.5</text>\n<text text-anchor=\"middle\" x=\"753.5\" y=\"-334.8\" font-family=\"Helvetica,sans-Serif\" font-size=\"14.00\">6</text>\n<text text-anchor=\"middle\" x=\"753.5\" y=\"-319.8\" font-family=\"Helvetica,sans-Serif\" font-size=\"14.00\">[4, 2]</text>\n<text text-anchor=\"middle\" x=\"753.5\" y=\"-304.8\" font-family=\"Helvetica,sans-Serif\" font-size=\"14.00\">democrat</text>\n</g>\n<!-- 23&#45;&gt;24 -->\n<g id=\"edge24\" class=\"edge\">\n<title>23&#45;&gt;24</title>\n<path fill=\"none\" stroke=\"black\" d=\"M782.54,-400.88C779.01,-392.51 775.17,-383.4 771.47,-374.63\"/>\n<polygon fill=\"black\" stroke=\"black\" points=\"774.65,-373.15 767.54,-365.3 768.2,-375.87 774.65,-373.15\"/>\n</g>\n<!-- 31 -->\n<g id=\"node32\" class=\"node\">\n<title>31</title>\n<path fill=\"#e58139\" stroke=\"black\" d=\"M888.5,-357.5C888.5,-357.5 838.5,-357.5 838.5,-357.5 832.5,-357.5 826.5,-351.5 826.5,-345.5 826.5,-345.5 826.5,-316.5 826.5,-316.5 826.5,-310.5 832.5,-304.5 838.5,-304.5 838.5,-304.5 888.5,-304.5 888.5,-304.5 894.5,-304.5 900.5,-310.5 900.5,-316.5 900.5,-316.5 900.5,-345.5 900.5,-345.5 900.5,-351.5 894.5,-357.5 888.5,-357.5\"/>\n<text text-anchor=\"middle\" x=\"863.5\" y=\"-342.3\" font-family=\"Helvetica,sans-Serif\" font-size=\"14.00\">2</text>\n<text text-anchor=\"middle\" x=\"863.5\" y=\"-327.3\" font-family=\"Helvetica,sans-Serif\" font-size=\"14.00\">[2, 0]</text>\n<text text-anchor=\"middle\" x=\"863.5\" y=\"-312.3\" font-family=\"Helvetica,sans-Serif\" font-size=\"14.00\">democrat</text>\n</g>\n<!-- 23&#45;&gt;31 -->\n<g id=\"edge31\" class=\"edge\">\n<title>23&#45;&gt;31</title>\n<path fill=\"none\" stroke=\"black\" d=\"M818.25,-400.88C825.55,-389.78 833.7,-377.37 841.05,-366.18\"/>\n<polygon fill=\"black\" stroke=\"black\" points=\"844.17,-367.8 846.74,-357.52 838.32,-363.96 844.17,-367.8\"/>\n</g>\n<!-- 25 -->\n<g id=\"node26\" class=\"node\">\n<title>25</title>\n<path fill=\"#eca06a\" stroke=\"black\" d=\"M783,-261C783,-261 698,-261 698,-261 692,-261 686,-255 686,-249 686,-249 686,-205 686,-205 686,-199 692,-193 698,-193 698,-193 783,-193 783,-193 789,-193 795,-199 795,-205 795,-205 795,-249 795,-249 795,-255 789,-261 783,-261\"/>\n<text text-anchor=\"middle\" x=\"740.5\" y=\"-245.8\" font-family=\"Helvetica,sans-Serif\" font-size=\"14.00\">Vote_12 &lt;= 1.5</text>\n<text text-anchor=\"middle\" x=\"740.5\" y=\"-230.8\" font-family=\"Helvetica,sans-Serif\" font-size=\"14.00\">5</text>\n<text text-anchor=\"middle\" x=\"740.5\" y=\"-215.8\" font-family=\"Helvetica,sans-Serif\" font-size=\"14.00\">[4, 1]</text>\n<text text-anchor=\"middle\" x=\"740.5\" y=\"-200.8\" font-family=\"Helvetica,sans-Serif\" font-size=\"14.00\">democrat</text>\n</g>\n<!-- 24&#45;&gt;25 -->\n<g id=\"edge25\" class=\"edge\">\n<title>24&#45;&gt;25</title>\n<path fill=\"none\" stroke=\"black\" d=\"M749.28,-296.88C748.25,-288.78 747.13,-279.98 746.04,-271.47\"/>\n<polygon fill=\"black\" stroke=\"black\" points=\"749.48,-270.78 744.74,-261.3 742.54,-271.66 749.48,-270.78\"/>\n</g>\n<!-- 30 -->\n<g id=\"node31\" class=\"node\">\n<title>30</title>\n<path fill=\"#399de5\" stroke=\"black\" d=\"M880,-253.5C880,-253.5 825,-253.5 825,-253.5 819,-253.5 813,-247.5 813,-241.5 813,-241.5 813,-212.5 813,-212.5 813,-206.5 819,-200.5 825,-200.5 825,-200.5 880,-200.5 880,-200.5 886,-200.5 892,-206.5 892,-212.5 892,-212.5 892,-241.5 892,-241.5 892,-247.5 886,-253.5 880,-253.5\"/>\n<text text-anchor=\"middle\" x=\"852.5\" y=\"-238.3\" font-family=\"Helvetica,sans-Serif\" font-size=\"14.00\">1</text>\n<text text-anchor=\"middle\" x=\"852.5\" y=\"-223.3\" font-family=\"Helvetica,sans-Serif\" font-size=\"14.00\">[0, 1]</text>\n<text text-anchor=\"middle\" x=\"852.5\" y=\"-208.3\" font-family=\"Helvetica,sans-Serif\" font-size=\"14.00\">republican</text>\n</g>\n<!-- 24&#45;&gt;30 -->\n<g id=\"edge30\" class=\"edge\">\n<title>24&#45;&gt;30</title>\n<path fill=\"none\" stroke=\"black\" d=\"M785.64,-296.88C796.85,-285.34 809.42,-272.39 820.61,-260.86\"/>\n<polygon fill=\"black\" stroke=\"black\" points=\"823.28,-263.13 827.73,-253.52 818.25,-258.26 823.28,-263.13\"/>\n</g>\n<!-- 26 -->\n<g id=\"node27\" class=\"node\">\n<title>26</title>\n<path fill=\"#e58139\" stroke=\"black\" d=\"M719.5,-149.5C719.5,-149.5 669.5,-149.5 669.5,-149.5 663.5,-149.5 657.5,-143.5 657.5,-137.5 657.5,-137.5 657.5,-108.5 657.5,-108.5 657.5,-102.5 663.5,-96.5 669.5,-96.5 669.5,-96.5 719.5,-96.5 719.5,-96.5 725.5,-96.5 731.5,-102.5 731.5,-108.5 731.5,-108.5 731.5,-137.5 731.5,-137.5 731.5,-143.5 725.5,-149.5 719.5,-149.5\"/>\n<text text-anchor=\"middle\" x=\"694.5\" y=\"-134.3\" font-family=\"Helvetica,sans-Serif\" font-size=\"14.00\">3</text>\n<text text-anchor=\"middle\" x=\"694.5\" y=\"-119.3\" font-family=\"Helvetica,sans-Serif\" font-size=\"14.00\">[3, 0]</text>\n<text text-anchor=\"middle\" x=\"694.5\" y=\"-104.3\" font-family=\"Helvetica,sans-Serif\" font-size=\"14.00\">democrat</text>\n</g>\n<!-- 25&#45;&gt;26 -->\n<g id=\"edge26\" class=\"edge\">\n<title>25&#45;&gt;26</title>\n<path fill=\"none\" stroke=\"black\" d=\"M725.57,-192.88C720.65,-182 715.18,-169.86 710.22,-158.85\"/>\n<polygon fill=\"black\" stroke=\"black\" points=\"713.31,-157.2 706.01,-149.52 706.93,-160.07 713.31,-157.2\"/>\n</g>\n<!-- 27 -->\n<g id=\"node28\" class=\"node\">\n<title>27</title>\n<path fill=\"#ffffff\" stroke=\"black\" d=\"M839,-157C839,-157 762,-157 762,-157 756,-157 750,-151 750,-145 750,-145 750,-101 750,-101 750,-95 756,-89 762,-89 762,-89 839,-89 839,-89 845,-89 851,-95 851,-101 851,-101 851,-145 851,-145 851,-151 845,-157 839,-157\"/>\n<text text-anchor=\"middle\" x=\"800.5\" y=\"-141.8\" font-family=\"Helvetica,sans-Serif\" font-size=\"14.00\">Vote_2 &lt;= 1.5</text>\n<text text-anchor=\"middle\" x=\"800.5\" y=\"-126.8\" font-family=\"Helvetica,sans-Serif\" font-size=\"14.00\">2</text>\n<text text-anchor=\"middle\" x=\"800.5\" y=\"-111.8\" font-family=\"Helvetica,sans-Serif\" font-size=\"14.00\">[1, 1]</text>\n<text text-anchor=\"middle\" x=\"800.5\" y=\"-96.8\" font-family=\"Helvetica,sans-Serif\" font-size=\"14.00\">democrat</text>\n</g>\n<!-- 25&#45;&gt;27 -->\n<g id=\"edge27\" class=\"edge\">\n<title>25&#45;&gt;27</title>\n<path fill=\"none\" stroke=\"black\" d=\"M759.98,-192.88C765.01,-184.33 770.49,-175.01 775.75,-166.07\"/>\n<polygon fill=\"black\" stroke=\"black\" points=\"778.86,-167.69 780.91,-157.3 772.83,-164.14 778.86,-167.69\"/>\n</g>\n<!-- 28 -->\n<g id=\"node29\" class=\"node\">\n<title>28</title>\n<path fill=\"#e58139\" stroke=\"black\" d=\"M785.5,-53C785.5,-53 735.5,-53 735.5,-53 729.5,-53 723.5,-47 723.5,-41 723.5,-41 723.5,-12 723.5,-12 723.5,-6 729.5,0 735.5,0 735.5,0 785.5,0 785.5,0 791.5,0 797.5,-6 797.5,-12 797.5,-12 797.5,-41 797.5,-41 797.5,-47 791.5,-53 785.5,-53\"/>\n<text text-anchor=\"middle\" x=\"760.5\" y=\"-37.8\" font-family=\"Helvetica,sans-Serif\" font-size=\"14.00\">1</text>\n<text text-anchor=\"middle\" x=\"760.5\" y=\"-22.8\" font-family=\"Helvetica,sans-Serif\" font-size=\"14.00\">[1, 0]</text>\n<text text-anchor=\"middle\" x=\"760.5\" y=\"-7.8\" font-family=\"Helvetica,sans-Serif\" font-size=\"14.00\">democrat</text>\n</g>\n<!-- 27&#45;&gt;28 -->\n<g id=\"edge28\" class=\"edge\">\n<title>27&#45;&gt;28</title>\n<path fill=\"none\" stroke=\"black\" d=\"M786.51,-88.95C782.91,-80.44 779.02,-71.26 775.38,-62.65\"/>\n<polygon fill=\"black\" stroke=\"black\" points=\"778.52,-61.08 771.39,-53.24 772.07,-63.81 778.52,-61.08\"/>\n</g>\n<!-- 29 -->\n<g id=\"node30\" class=\"node\">\n<title>29</title>\n<path fill=\"#399de5\" stroke=\"black\" d=\"M883,-53C883,-53 828,-53 828,-53 822,-53 816,-47 816,-41 816,-41 816,-12 816,-12 816,-6 822,0 828,0 828,0 883,0 883,0 889,0 895,-6 895,-12 895,-12 895,-41 895,-41 895,-47 889,-53 883,-53\"/>\n<text text-anchor=\"middle\" x=\"855.5\" y=\"-37.8\" font-family=\"Helvetica,sans-Serif\" font-size=\"14.00\">1</text>\n<text text-anchor=\"middle\" x=\"855.5\" y=\"-22.8\" font-family=\"Helvetica,sans-Serif\" font-size=\"14.00\">[0, 1]</text>\n<text text-anchor=\"middle\" x=\"855.5\" y=\"-7.8\" font-family=\"Helvetica,sans-Serif\" font-size=\"14.00\">republican</text>\n</g>\n<!-- 27&#45;&gt;29 -->\n<g id=\"edge29\" class=\"edge\">\n<title>27&#45;&gt;29</title>\n<path fill=\"none\" stroke=\"black\" d=\"M819.74,-88.95C824.79,-80.26 830.26,-70.86 835.37,-62.09\"/>\n<polygon fill=\"black\" stroke=\"black\" points=\"838.52,-63.64 840.52,-53.24 832.47,-60.12 838.52,-63.64\"/>\n</g>\n<!-- 33 -->\n<g id=\"node34\" class=\"node\">\n<title>33</title>\n<path fill=\"#399de5\" stroke=\"black\" d=\"M986,-357.5C986,-357.5 931,-357.5 931,-357.5 925,-357.5 919,-351.5 919,-345.5 919,-345.5 919,-316.5 919,-316.5 919,-310.5 925,-304.5 931,-304.5 931,-304.5 986,-304.5 986,-304.5 992,-304.5 998,-310.5 998,-316.5 998,-316.5 998,-345.5 998,-345.5 998,-351.5 992,-357.5 986,-357.5\"/>\n<text text-anchor=\"middle\" x=\"958.5\" y=\"-342.3\" font-family=\"Helvetica,sans-Serif\" font-size=\"14.00\">7</text>\n<text text-anchor=\"middle\" x=\"958.5\" y=\"-327.3\" font-family=\"Helvetica,sans-Serif\" font-size=\"14.00\">[0, 7]</text>\n<text text-anchor=\"middle\" x=\"958.5\" y=\"-312.3\" font-family=\"Helvetica,sans-Serif\" font-size=\"14.00\">republican</text>\n</g>\n<!-- 32&#45;&gt;33 -->\n<g id=\"edge33\" class=\"edge\">\n<title>32&#45;&gt;33</title>\n<path fill=\"none\" stroke=\"black\" d=\"M958.5,-400.88C958.5,-390.33 958.5,-378.6 958.5,-367.85\"/>\n<polygon fill=\"black\" stroke=\"black\" points=\"962,-367.52 958.5,-357.52 955,-367.52 962,-367.52\"/>\n</g>\n<!-- 34 -->\n<g id=\"node35\" class=\"node\">\n<title>34</title>\n<path fill=\"#9ccef2\" stroke=\"black\" d=\"M1113,-365C1113,-365 1028,-365 1028,-365 1022,-365 1016,-359 1016,-353 1016,-353 1016,-309 1016,-309 1016,-303 1022,-297 1028,-297 1028,-297 1113,-297 1113,-297 1119,-297 1125,-303 1125,-309 1125,-309 1125,-353 1125,-353 1125,-359 1119,-365 1113,-365\"/>\n<text text-anchor=\"middle\" x=\"1070.5\" y=\"-349.8\" font-family=\"Helvetica,sans-Serif\" font-size=\"14.00\">Vote_10 &lt;= 1.5</text>\n<text text-anchor=\"middle\" x=\"1070.5\" y=\"-334.8\" font-family=\"Helvetica,sans-Serif\" font-size=\"14.00\">6</text>\n<text text-anchor=\"middle\" x=\"1070.5\" y=\"-319.8\" font-family=\"Helvetica,sans-Serif\" font-size=\"14.00\">[2, 4]</text>\n<text text-anchor=\"middle\" x=\"1070.5\" y=\"-304.8\" font-family=\"Helvetica,sans-Serif\" font-size=\"14.00\">republican</text>\n</g>\n<!-- 32&#45;&gt;34 -->\n<g id=\"edge34\" class=\"edge\">\n<title>32&#45;&gt;34</title>\n<path fill=\"none\" stroke=\"black\" d=\"M994.86,-400.88C1004.94,-391.71 1015.98,-381.65 1026.44,-372.12\"/>\n<polygon fill=\"black\" stroke=\"black\" points=\"1028.9,-374.62 1033.94,-365.3 1024.19,-369.44 1028.9,-374.62\"/>\n</g>\n<!-- 35 -->\n<g id=\"node36\" class=\"node\">\n<title>35</title>\n<path fill=\"#ffffff\" stroke=\"black\" d=\"M1014,-261C1014,-261 929,-261 929,-261 923,-261 917,-255 917,-249 917,-249 917,-205 917,-205 917,-199 923,-193 929,-193 929,-193 1014,-193 1014,-193 1020,-193 1026,-199 1026,-205 1026,-205 1026,-249 1026,-249 1026,-255 1020,-261 1014,-261\"/>\n<text text-anchor=\"middle\" x=\"971.5\" y=\"-245.8\" font-family=\"Helvetica,sans-Serif\" font-size=\"14.00\">Vote_13 &lt;= 1.5</text>\n<text text-anchor=\"middle\" x=\"971.5\" y=\"-230.8\" font-family=\"Helvetica,sans-Serif\" font-size=\"14.00\">4</text>\n<text text-anchor=\"middle\" x=\"971.5\" y=\"-215.8\" font-family=\"Helvetica,sans-Serif\" font-size=\"14.00\">[2, 2]</text>\n<text text-anchor=\"middle\" x=\"971.5\" y=\"-200.8\" font-family=\"Helvetica,sans-Serif\" font-size=\"14.00\">democrat</text>\n</g>\n<!-- 34&#45;&gt;35 -->\n<g id=\"edge35\" class=\"edge\">\n<title>34&#45;&gt;35</title>\n<path fill=\"none\" stroke=\"black\" d=\"M1038.36,-296.88C1029.63,-287.89 1020.07,-278.04 1010.98,-268.68\"/>\n<polygon fill=\"black\" stroke=\"black\" points=\"1013.3,-266.04 1003.82,-261.3 1008.27,-270.91 1013.3,-266.04\"/>\n</g>\n<!-- 40 -->\n<g id=\"node41\" class=\"node\">\n<title>40</title>\n<path fill=\"#399de5\" stroke=\"black\" d=\"M1111,-253.5C1111,-253.5 1056,-253.5 1056,-253.5 1050,-253.5 1044,-247.5 1044,-241.5 1044,-241.5 1044,-212.5 1044,-212.5 1044,-206.5 1050,-200.5 1056,-200.5 1056,-200.5 1111,-200.5 1111,-200.5 1117,-200.5 1123,-206.5 1123,-212.5 1123,-212.5 1123,-241.5 1123,-241.5 1123,-247.5 1117,-253.5 1111,-253.5\"/>\n<text text-anchor=\"middle\" x=\"1083.5\" y=\"-238.3\" font-family=\"Helvetica,sans-Serif\" font-size=\"14.00\">2</text>\n<text text-anchor=\"middle\" x=\"1083.5\" y=\"-223.3\" font-family=\"Helvetica,sans-Serif\" font-size=\"14.00\">[0, 2]</text>\n<text text-anchor=\"middle\" x=\"1083.5\" y=\"-208.3\" font-family=\"Helvetica,sans-Serif\" font-size=\"14.00\">republican</text>\n</g>\n<!-- 34&#45;&gt;40 -->\n<g id=\"edge40\" class=\"edge\">\n<title>34&#45;&gt;40</title>\n<path fill=\"none\" stroke=\"black\" d=\"M1074.72,-296.88C1076.08,-286.22 1077.59,-274.35 1078.97,-263.52\"/>\n<polygon fill=\"black\" stroke=\"black\" points=\"1082.46,-263.88 1080.25,-253.52 1075.51,-263 1082.46,-263.88\"/>\n</g>\n<!-- 36 -->\n<g id=\"node37\" class=\"node\">\n<title>36</title>\n<path fill=\"#e58139\" stroke=\"black\" d=\"M937.5,-149.5C937.5,-149.5 887.5,-149.5 887.5,-149.5 881.5,-149.5 875.5,-143.5 875.5,-137.5 875.5,-137.5 875.5,-108.5 875.5,-108.5 875.5,-102.5 881.5,-96.5 887.5,-96.5 887.5,-96.5 937.5,-96.5 937.5,-96.5 943.5,-96.5 949.5,-102.5 949.5,-108.5 949.5,-108.5 949.5,-137.5 949.5,-137.5 949.5,-143.5 943.5,-149.5 937.5,-149.5\"/>\n<text text-anchor=\"middle\" x=\"912.5\" y=\"-134.3\" font-family=\"Helvetica,sans-Serif\" font-size=\"14.00\">1</text>\n<text text-anchor=\"middle\" x=\"912.5\" y=\"-119.3\" font-family=\"Helvetica,sans-Serif\" font-size=\"14.00\">[1, 0]</text>\n<text text-anchor=\"middle\" x=\"912.5\" y=\"-104.3\" font-family=\"Helvetica,sans-Serif\" font-size=\"14.00\">democrat</text>\n</g>\n<!-- 35&#45;&gt;36 -->\n<g id=\"edge36\" class=\"edge\">\n<title>35&#45;&gt;36</title>\n<path fill=\"none\" stroke=\"black\" d=\"M952.34,-192.88C945.92,-181.78 938.74,-169.37 932.27,-158.18\"/>\n<polygon fill=\"black\" stroke=\"black\" points=\"935.3,-156.42 927.26,-149.52 929.24,-159.93 935.3,-156.42\"/>\n</g>\n<!-- 37 -->\n<g id=\"node38\" class=\"node\">\n<title>37</title>\n<path fill=\"#9ccef2\" stroke=\"black\" d=\"M1057,-157C1057,-157 980,-157 980,-157 974,-157 968,-151 968,-145 968,-145 968,-101 968,-101 968,-95 974,-89 980,-89 980,-89 1057,-89 1057,-89 1063,-89 1069,-95 1069,-101 1069,-101 1069,-145 1069,-145 1069,-151 1063,-157 1057,-157\"/>\n<text text-anchor=\"middle\" x=\"1018.5\" y=\"-141.8\" font-family=\"Helvetica,sans-Serif\" font-size=\"14.00\">Vote_3 &lt;= 1.5</text>\n<text text-anchor=\"middle\" x=\"1018.5\" y=\"-126.8\" font-family=\"Helvetica,sans-Serif\" font-size=\"14.00\">3</text>\n<text text-anchor=\"middle\" x=\"1018.5\" y=\"-111.8\" font-family=\"Helvetica,sans-Serif\" font-size=\"14.00\">[1, 2]</text>\n<text text-anchor=\"middle\" x=\"1018.5\" y=\"-96.8\" font-family=\"Helvetica,sans-Serif\" font-size=\"14.00\">republican</text>\n</g>\n<!-- 35&#45;&gt;37 -->\n<g id=\"edge37\" class=\"edge\">\n<title>35&#45;&gt;37</title>\n<path fill=\"none\" stroke=\"black\" d=\"M986.76,-192.88C990.62,-184.51 994.82,-175.4 998.86,-166.63\"/>\n<polygon fill=\"black\" stroke=\"black\" points=\"1002.15,-167.85 1003.16,-157.3 995.79,-164.92 1002.15,-167.85\"/>\n</g>\n<!-- 38 -->\n<g id=\"node39\" class=\"node\">\n<title>38</title>\n<path fill=\"#399de5\" stroke=\"black\" d=\"M990,-53C990,-53 935,-53 935,-53 929,-53 923,-47 923,-41 923,-41 923,-12 923,-12 923,-6 929,0 935,0 935,0 990,0 990,0 996,0 1002,-6 1002,-12 1002,-12 1002,-41 1002,-41 1002,-47 996,-53 990,-53\"/>\n<text text-anchor=\"middle\" x=\"962.5\" y=\"-37.8\" font-family=\"Helvetica,sans-Serif\" font-size=\"14.00\">2</text>\n<text text-anchor=\"middle\" x=\"962.5\" y=\"-22.8\" font-family=\"Helvetica,sans-Serif\" font-size=\"14.00\">[0, 2]</text>\n<text text-anchor=\"middle\" x=\"962.5\" y=\"-7.8\" font-family=\"Helvetica,sans-Serif\" font-size=\"14.00\">republican</text>\n</g>\n<!-- 37&#45;&gt;38 -->\n<g id=\"edge38\" class=\"edge\">\n<title>37&#45;&gt;38</title>\n<path fill=\"none\" stroke=\"black\" d=\"M998.91,-88.95C993.76,-80.26 988.2,-70.86 983,-62.09\"/>\n<polygon fill=\"black\" stroke=\"black\" points=\"985.86,-60.06 977.75,-53.24 979.84,-63.62 985.86,-60.06\"/>\n</g>\n<!-- 39 -->\n<g id=\"node40\" class=\"node\">\n<title>39</title>\n<path fill=\"#e58139\" stroke=\"black\" d=\"M1082.5,-53C1082.5,-53 1032.5,-53 1032.5,-53 1026.5,-53 1020.5,-47 1020.5,-41 1020.5,-41 1020.5,-12 1020.5,-12 1020.5,-6 1026.5,0 1032.5,0 1032.5,0 1082.5,0 1082.5,0 1088.5,0 1094.5,-6 1094.5,-12 1094.5,-12 1094.5,-41 1094.5,-41 1094.5,-47 1088.5,-53 1082.5,-53\"/>\n<text text-anchor=\"middle\" x=\"1057.5\" y=\"-37.8\" font-family=\"Helvetica,sans-Serif\" font-size=\"14.00\">1</text>\n<text text-anchor=\"middle\" x=\"1057.5\" y=\"-22.8\" font-family=\"Helvetica,sans-Serif\" font-size=\"14.00\">[1, 0]</text>\n<text text-anchor=\"middle\" x=\"1057.5\" y=\"-7.8\" font-family=\"Helvetica,sans-Serif\" font-size=\"14.00\">democrat</text>\n</g>\n<!-- 37&#45;&gt;39 -->\n<g id=\"edge39\" class=\"edge\">\n<title>37&#45;&gt;39</title>\n<path fill=\"none\" stroke=\"black\" d=\"M1032.14,-88.95C1035.65,-80.44 1039.44,-71.26 1043,-62.65\"/>\n<polygon fill=\"black\" stroke=\"black\" points=\"1046.3,-63.82 1046.88,-53.24 1039.83,-61.15 1046.3,-63.82\"/>\n</g>\n</g>\n</svg>\n",
            "text/plain": [
              "<graphviz.sources.Source at 0x7ad16fb67220>"
            ]
          },
          "metadata": {},
          "execution_count": 26
        }
      ]
    },
    {
      "cell_type": "markdown",
      "metadata": {
        "id": "gsiwZZ6Z_S-i"
      },
      "source": [
        "e os valores de informações mútua e importância dos atributos mostram a concordância dos principais atributos que encabeçam a Árvore."
      ]
    },
    {
      "cell_type": "code",
      "metadata": {
        "colab": {
          "base_uri": "https://localhost:8080/"
        },
        "id": "QnMfsbK6UJYL",
        "outputId": "5cc54698-27a8-4eef-83a3-c219ee0ab724"
      },
      "source": [
        "print('Mutual information and the attribute with higher Mutual Info: \\n')\n",
        "print(mutual_info_classif(X, y, discrete_features=True))\n",
        "print(X.columns[ mutual_info_classif(X, y, discrete_features=True).argmax() ])\n",
        "print()\n",
        "print('Feature Importances and the attribute with higher Feature Importances: \\n')\n",
        "print(clf.feature_importances_)\n",
        "print(X.columns[ clf.feature_importances_.argmax() ])"
      ],
      "execution_count": 27,
      "outputs": [
        {
          "output_type": "stream",
          "name": "stdout",
          "text": [
            "Mutual information and the attribute with higher Mutual Info: \n",
            "\n",
            "[8.73872293e-02 2.49962316e-04 2.99660509e-01 5.12951549e-01\n",
            " 2.92820364e-01 1.02055280e-01 1.37023508e-01 2.35826473e-01\n",
            " 2.15261646e-01 3.52248115e-03 7.43690939e-02 2.59411124e-01\n",
            " 1.57899640e-01 2.32400929e-01 1.52771138e-01 7.06865546e-02]\n",
            "Vote_4\n",
            "\n",
            "Feature Importances and the attribute with higher Feature Importances: \n",
            "\n",
            "[0.00498781 0.0069473  0.01350356 0.84658144 0.0069473  0.00113271\n",
            " 0.         0.         0.         0.02501028 0.03028702 0.00416838\n",
            " 0.00463153 0.00926307 0.00973332 0.03680628]\n",
            "Vote_4\n"
          ]
        }
      ]
    },
    {
      "cell_type": "code",
      "source": [
        "X.columns[ np.argsort(- mutual_info_classif(X, y, discrete_features=True))[0:5] ]"
      ],
      "metadata": {
        "colab": {
          "base_uri": "https://localhost:8080/"
        },
        "id": "43PBZjVZugOC",
        "outputId": "96126675-d3eb-4504-dfb6-daf0d2548c1e"
      },
      "execution_count": 28,
      "outputs": [
        {
          "output_type": "execute_result",
          "data": {
            "text/plain": [
              "Index(['Vote_4', 'Vote_3', 'Vote_5', 'Vote_12', 'Vote_8'], dtype='object')"
            ]
          },
          "metadata": {},
          "execution_count": 28
        }
      ]
    },
    {
      "cell_type": "code",
      "source": [
        "X.columns[ np.argsort(- clf.feature_importances_)[0:5] ]"
      ],
      "metadata": {
        "colab": {
          "base_uri": "https://localhost:8080/"
        },
        "id": "97_O-kaQtrh2",
        "outputId": "4025b9aa-1edc-4b52-b05a-15818396f028"
      },
      "execution_count": 29,
      "outputs": [
        {
          "output_type": "execute_result",
          "data": {
            "text/plain": [
              "Index(['Vote_4', 'Vote_16', 'Vote_11', 'Vote_10', 'Vote_3'], dtype='object')"
            ]
          },
          "metadata": {},
          "execution_count": 29
        }
      ]
    },
    {
      "cell_type": "markdown",
      "source": [
        "# Comparando os Modelos\n",
        "\n",
        "Vamos agora comparar os modelos que você já conhece de classificação e o modelo de Árvore de Decisão."
      ],
      "metadata": {
        "id": "7Twxl_wVxqsI"
      }
    },
    {
      "cell_type": "code",
      "metadata": {
        "colab": {
          "base_uri": "https://localhost:8080/"
        },
        "id": "59WHDVSCUXdG",
        "outputId": "a6735b21-fb71-4b18-861e-888cee02d29e"
      },
      "source": [
        "from sklearn.linear_model import LogisticRegression\n",
        "from sklearn.neighbors import KNeighborsClassifier\n",
        "from sklearn.tree import DecisionTreeClassifier\n",
        "\n",
        "X_train, X_test, y_train, y_test = train_test_split(X, y, stratify=y, test_size=0.3, random_state=123)\n",
        "\n",
        "base_estimators = [ LogisticRegression(),\n",
        "                    neighbors.KNeighborsClassifier(5),\n",
        "                    DecisionTreeClassifier(),\n",
        "                    DecisionTreeClassifier(max_depth=2) ]\n",
        "\n",
        "best_score = 0\n",
        "\n",
        "for estimator in base_estimators:\n",
        "  clf = estimator\n",
        "  clf.fit(X_train, y_train)\n",
        "\n",
        "  y_pred = clf.predict(X_test)\n",
        "\n",
        "  print(clf)\n",
        "\n",
        "  accuracy = clf.score(X_test, y_test)\n",
        "  print('\\nScore de Acuracidade (2):\\n')\n",
        "  print(f'{accuracy:.2f}')\n",
        "\n",
        "  if accuracy > best_score:\n",
        "    best_score = accuracy\n",
        "    best_model = clf\n",
        "\n",
        "  print('\\nClassification Report:\\n')\n",
        "  print(classification_report(y_test, y_pred))\n",
        "\n",
        "\n",
        "print('\\n Best Model: ' , best_model, ' score = ', best_score)\n",
        "\n",
        "\n",
        "\n"
      ],
      "execution_count": 30,
      "outputs": [
        {
          "output_type": "stream",
          "name": "stdout",
          "text": [
            "LogisticRegression()\n",
            "\n",
            "Score de Acuracidade (2):\n",
            "\n",
            "0.94\n",
            "\n",
            "Classification Report:\n",
            "\n",
            "              precision    recall  f1-score   support\n",
            "\n",
            "    democrat       0.93      0.97      0.95        80\n",
            "  republican       0.96      0.88      0.92        51\n",
            "\n",
            "    accuracy                           0.94       131\n",
            "   macro avg       0.94      0.93      0.93       131\n",
            "weighted avg       0.94      0.94      0.94       131\n",
            "\n",
            "KNeighborsClassifier()\n",
            "\n",
            "Score de Acuracidade (2):\n",
            "\n",
            "0.92\n",
            "\n",
            "Classification Report:\n",
            "\n",
            "              precision    recall  f1-score   support\n",
            "\n",
            "    democrat       0.94      0.94      0.94        80\n",
            "  republican       0.90      0.90      0.90        51\n",
            "\n",
            "    accuracy                           0.92       131\n",
            "   macro avg       0.92      0.92      0.92       131\n",
            "weighted avg       0.92      0.92      0.92       131\n",
            "\n",
            "DecisionTreeClassifier()\n",
            "\n",
            "Score de Acuracidade (2):\n",
            "\n",
            "0.91\n",
            "\n",
            "Classification Report:\n",
            "\n",
            "              precision    recall  f1-score   support\n",
            "\n",
            "    democrat       0.90      0.96      0.93        80\n",
            "  republican       0.93      0.82      0.87        51\n",
            "\n",
            "    accuracy                           0.91       131\n",
            "   macro avg       0.91      0.89      0.90       131\n",
            "weighted avg       0.91      0.91      0.91       131\n",
            "\n",
            "DecisionTreeClassifier(max_depth=2)\n",
            "\n",
            "Score de Acuracidade (2):\n",
            "\n",
            "0.95\n",
            "\n",
            "Classification Report:\n",
            "\n",
            "              precision    recall  f1-score   support\n",
            "\n",
            "    democrat       0.95      0.96      0.96        80\n",
            "  republican       0.94      0.92      0.93        51\n",
            "\n",
            "    accuracy                           0.95       131\n",
            "   macro avg       0.95      0.94      0.94       131\n",
            "weighted avg       0.95      0.95      0.95       131\n",
            "\n",
            "\n",
            " Best Model:  DecisionTreeClassifier(max_depth=2)  score =  0.9465648854961832\n"
          ]
        }
      ]
    },
    {
      "cell_type": "markdown",
      "metadata": {
        "id": "HwXpG1wEBRIe"
      },
      "source": [
        "Com os parâmetros acima o melhor estimador, levando em consideração apenas o critério de acuracidade (*score*), foi a Árvore de Decisão com o critério `gini` de seleção dos atributos (é o padrão) e com uma profundidade máxima de 2 da Árvore.\n",
        "\n",
        "> *Poda: A técnica de reduzir a profundidade da Árvore de Decisão é chamada de Poda e permite reduzir o overfitting (sobreajuste) dos modelos, um problema geralmente encontrado em Árvores de Decisão*.\n",
        "\n",
        "\n",
        "\n"
      ]
    },
    {
      "cell_type": "markdown",
      "source": [
        "O melhor modelo produz então a seguinte Árvore de Decisão."
      ],
      "metadata": {
        "id": "KXKDgVL4I81-"
      }
    },
    {
      "cell_type": "code",
      "metadata": {
        "colab": {
          "base_uri": "https://localhost:8080/",
          "height": 379
        },
        "id": "nwrdbTK-VYS6",
        "outputId": "c17570a7-e769-4f32-9c11-c05e6dedcebe"
      },
      "source": [
        "clf = best_model\n",
        "\n",
        "import graphviz\n",
        "dot_data = tree.export_graphviz(clf, out_file=None,\n",
        "                     feature_names=list(df_labels.columns.values),\n",
        "                     class_names=list(sorted(df['class'].unique())),\n",
        "                     filled=True, rounded=True,\n",
        "                     special_characters=False,\n",
        "                     proportion=False, impurity=False, node_ids=False,label=None)\n",
        "graph = graphviz.Source(dot_data)\n",
        "graph.render('graph_democratic') # para gravação em .pdf\n",
        "graph"
      ],
      "execution_count": 31,
      "outputs": [
        {
          "output_type": "execute_result",
          "data": {
            "image/svg+xml": "<?xml version=\"1.0\" encoding=\"UTF-8\" standalone=\"no\"?>\n<!DOCTYPE svg PUBLIC \"-//W3C//DTD SVG 1.1//EN\"\n \"http://www.w3.org/Graphics/SVG/1.1/DTD/svg11.dtd\">\n<!-- Generated by graphviz version 2.43.0 (0)\n -->\n<!-- Title: Tree Pages: 1 -->\n<svg width=\"383pt\" height=\"269pt\"\n viewBox=\"0.00 0.00 382.50 269.00\" xmlns=\"http://www.w3.org/2000/svg\" xmlns:xlink=\"http://www.w3.org/1999/xlink\">\n<g id=\"graph0\" class=\"graph\" transform=\"scale(1 1) rotate(0) translate(4 265)\">\n<title>Tree</title>\n<polygon fill=\"white\" stroke=\"transparent\" points=\"-4,4 -4,-265 378.5,-265 378.5,4 -4,4\"/>\n<!-- 0 -->\n<g id=\"node1\" class=\"node\">\n<title>0</title>\n<path fill=\"#f5d0b5\" stroke=\"black\" d=\"M221.5,-261C221.5,-261 144.5,-261 144.5,-261 138.5,-261 132.5,-255 132.5,-249 132.5,-249 132.5,-205 132.5,-205 132.5,-199 138.5,-193 144.5,-193 144.5,-193 221.5,-193 221.5,-193 227.5,-193 233.5,-199 233.5,-205 233.5,-205 233.5,-249 233.5,-249 233.5,-255 227.5,-261 221.5,-261\"/>\n<text text-anchor=\"middle\" x=\"183\" y=\"-245.8\" font-family=\"Helvetica,sans-Serif\" font-size=\"14.00\">Vote_4 &lt;= 1.5</text>\n<text text-anchor=\"middle\" x=\"183\" y=\"-230.8\" font-family=\"Helvetica,sans-Serif\" font-size=\"14.00\">304</text>\n<text text-anchor=\"middle\" x=\"183\" y=\"-215.8\" font-family=\"Helvetica,sans-Serif\" font-size=\"14.00\">[187, 117]</text>\n<text text-anchor=\"middle\" x=\"183\" y=\"-200.8\" font-family=\"Helvetica,sans-Serif\" font-size=\"14.00\">democrat</text>\n</g>\n<!-- 1 -->\n<g id=\"node2\" class=\"node\">\n<title>1</title>\n<path fill=\"#e5823a\" stroke=\"black\" d=\"M160.5,-157C160.5,-157 83.5,-157 83.5,-157 77.5,-157 71.5,-151 71.5,-145 71.5,-145 71.5,-101 71.5,-101 71.5,-95 77.5,-89 83.5,-89 83.5,-89 160.5,-89 160.5,-89 166.5,-89 172.5,-95 172.5,-101 172.5,-101 172.5,-145 172.5,-145 172.5,-151 166.5,-157 160.5,-157\"/>\n<text text-anchor=\"middle\" x=\"122\" y=\"-141.8\" font-family=\"Helvetica,sans-Serif\" font-size=\"14.00\">Vote_3 &lt;= 1.5</text>\n<text text-anchor=\"middle\" x=\"122\" y=\"-126.8\" font-family=\"Helvetica,sans-Serif\" font-size=\"14.00\">177</text>\n<text text-anchor=\"middle\" x=\"122\" y=\"-111.8\" font-family=\"Helvetica,sans-Serif\" font-size=\"14.00\">[176, 1]</text>\n<text text-anchor=\"middle\" x=\"122\" y=\"-96.8\" font-family=\"Helvetica,sans-Serif\" font-size=\"14.00\">democrat</text>\n</g>\n<!-- 0&#45;&gt;1 -->\n<g id=\"edge1\" class=\"edge\">\n<title>0&#45;&gt;1</title>\n<path fill=\"none\" stroke=\"black\" d=\"M163.2,-192.88C158.08,-184.33 152.51,-175.01 147.16,-166.07\"/>\n<polygon fill=\"black\" stroke=\"black\" points=\"150.05,-164.09 141.91,-157.3 144.04,-167.68 150.05,-164.09\"/>\n<text text-anchor=\"middle\" x=\"135.82\" y=\"-177.84\" font-family=\"Helvetica,sans-Serif\" font-size=\"14.00\">True</text>\n</g>\n<!-- 4 -->\n<g id=\"node5\" class=\"node\">\n<title>4</title>\n<path fill=\"#4ca6e7\" stroke=\"black\" d=\"M287.5,-157C287.5,-157 202.5,-157 202.5,-157 196.5,-157 190.5,-151 190.5,-145 190.5,-145 190.5,-101 190.5,-101 190.5,-95 196.5,-89 202.5,-89 202.5,-89 287.5,-89 287.5,-89 293.5,-89 299.5,-95 299.5,-101 299.5,-101 299.5,-145 299.5,-145 299.5,-151 293.5,-157 287.5,-157\"/>\n<text text-anchor=\"middle\" x=\"245\" y=\"-141.8\" font-family=\"Helvetica,sans-Serif\" font-size=\"14.00\">Vote_11 &lt;= 1.5</text>\n<text text-anchor=\"middle\" x=\"245\" y=\"-126.8\" font-family=\"Helvetica,sans-Serif\" font-size=\"14.00\">127</text>\n<text text-anchor=\"middle\" x=\"245\" y=\"-111.8\" font-family=\"Helvetica,sans-Serif\" font-size=\"14.00\">[11, 116]</text>\n<text text-anchor=\"middle\" x=\"245\" y=\"-96.8\" font-family=\"Helvetica,sans-Serif\" font-size=\"14.00\">republican</text>\n</g>\n<!-- 0&#45;&gt;4 -->\n<g id=\"edge4\" class=\"edge\">\n<title>0&#45;&gt;4</title>\n<path fill=\"none\" stroke=\"black\" d=\"M203.13,-192.88C208.33,-184.33 213.99,-175.01 219.43,-166.07\"/>\n<polygon fill=\"black\" stroke=\"black\" points=\"222.56,-167.66 224.76,-157.3 216.57,-164.03 222.56,-167.66\"/>\n<text text-anchor=\"middle\" x=\"230.68\" y=\"-177.89\" font-family=\"Helvetica,sans-Serif\" font-size=\"14.00\">False</text>\n</g>\n<!-- 2 -->\n<g id=\"node3\" class=\"node\">\n<title>2</title>\n<path fill=\"#e68742\" stroke=\"black\" d=\"M62,-53C62,-53 12,-53 12,-53 6,-53 0,-47 0,-41 0,-41 0,-12 0,-12 0,-6 6,0 12,0 12,0 62,0 62,0 68,0 74,-6 74,-12 74,-12 74,-41 74,-41 74,-47 68,-53 62,-53\"/>\n<text text-anchor=\"middle\" x=\"37\" y=\"-37.8\" font-family=\"Helvetica,sans-Serif\" font-size=\"14.00\">23</text>\n<text text-anchor=\"middle\" x=\"37\" y=\"-22.8\" font-family=\"Helvetica,sans-Serif\" font-size=\"14.00\">[22, 1]</text>\n<text text-anchor=\"middle\" x=\"37\" y=\"-7.8\" font-family=\"Helvetica,sans-Serif\" font-size=\"14.00\">democrat</text>\n</g>\n<!-- 1&#45;&gt;2 -->\n<g id=\"edge2\" class=\"edge\">\n<title>1&#45;&gt;2</title>\n<path fill=\"none\" stroke=\"black\" d=\"M92.27,-88.95C84.04,-79.8 75.11,-69.87 66.87,-60.71\"/>\n<polygon fill=\"black\" stroke=\"black\" points=\"69.44,-58.33 60.15,-53.24 64.23,-63.01 69.44,-58.33\"/>\n</g>\n<!-- 3 -->\n<g id=\"node4\" class=\"node\">\n<title>3</title>\n<path fill=\"#e58139\" stroke=\"black\" d=\"M154,-53C154,-53 104,-53 104,-53 98,-53 92,-47 92,-41 92,-41 92,-12 92,-12 92,-6 98,0 104,0 104,0 154,0 154,0 160,0 166,-6 166,-12 166,-12 166,-41 166,-41 166,-47 160,-53 154,-53\"/>\n<text text-anchor=\"middle\" x=\"129\" y=\"-37.8\" font-family=\"Helvetica,sans-Serif\" font-size=\"14.00\">154</text>\n<text text-anchor=\"middle\" x=\"129\" y=\"-22.8\" font-family=\"Helvetica,sans-Serif\" font-size=\"14.00\">[154, 0]</text>\n<text text-anchor=\"middle\" x=\"129\" y=\"-7.8\" font-family=\"Helvetica,sans-Serif\" font-size=\"14.00\">democrat</text>\n</g>\n<!-- 1&#45;&gt;3 -->\n<g id=\"edge3\" class=\"edge\">\n<title>1&#45;&gt;3</title>\n<path fill=\"none\" stroke=\"black\" d=\"M124.45,-88.95C125.06,-80.72 125.71,-71.85 126.33,-63.48\"/>\n<polygon fill=\"black\" stroke=\"black\" points=\"129.85,-63.47 127.09,-53.24 122.86,-62.95 129.85,-63.47\"/>\n</g>\n<!-- 5 -->\n<g id=\"node6\" class=\"node\">\n<title>5</title>\n<path fill=\"#3fa0e6\" stroke=\"black\" d=\"M265.5,-53C265.5,-53 210.5,-53 210.5,-53 204.5,-53 198.5,-47 198.5,-41 198.5,-41 198.5,-12 198.5,-12 198.5,-6 204.5,0 210.5,0 210.5,0 265.5,0 265.5,0 271.5,0 277.5,-6 277.5,-12 277.5,-12 277.5,-41 277.5,-41 277.5,-47 271.5,-53 265.5,-53\"/>\n<text text-anchor=\"middle\" x=\"238\" y=\"-37.8\" font-family=\"Helvetica,sans-Serif\" font-size=\"14.00\">106</text>\n<text text-anchor=\"middle\" x=\"238\" y=\"-22.8\" font-family=\"Helvetica,sans-Serif\" font-size=\"14.00\">[3, 103]</text>\n<text text-anchor=\"middle\" x=\"238\" y=\"-7.8\" font-family=\"Helvetica,sans-Serif\" font-size=\"14.00\">republican</text>\n</g>\n<!-- 4&#45;&gt;5 -->\n<g id=\"edge5\" class=\"edge\">\n<title>4&#45;&gt;5</title>\n<path fill=\"none\" stroke=\"black\" d=\"M242.55,-88.95C241.94,-80.72 241.29,-71.85 240.67,-63.48\"/>\n<polygon fill=\"black\" stroke=\"black\" points=\"244.14,-62.95 239.91,-53.24 237.15,-63.47 244.14,-62.95\"/>\n</g>\n<!-- 6 -->\n<g id=\"node7\" class=\"node\">\n<title>6</title>\n<path fill=\"#b3d9f5\" stroke=\"black\" d=\"M362.5,-53C362.5,-53 307.5,-53 307.5,-53 301.5,-53 295.5,-47 295.5,-41 295.5,-41 295.5,-12 295.5,-12 295.5,-6 301.5,0 307.5,0 307.5,0 362.5,0 362.5,0 368.5,0 374.5,-6 374.5,-12 374.5,-12 374.5,-41 374.5,-41 374.5,-47 368.5,-53 362.5,-53\"/>\n<text text-anchor=\"middle\" x=\"335\" y=\"-37.8\" font-family=\"Helvetica,sans-Serif\" font-size=\"14.00\">21</text>\n<text text-anchor=\"middle\" x=\"335\" y=\"-22.8\" font-family=\"Helvetica,sans-Serif\" font-size=\"14.00\">[8, 13]</text>\n<text text-anchor=\"middle\" x=\"335\" y=\"-7.8\" font-family=\"Helvetica,sans-Serif\" font-size=\"14.00\">republican</text>\n</g>\n<!-- 4&#45;&gt;6 -->\n<g id=\"edge6\" class=\"edge\">\n<title>4&#45;&gt;6</title>\n<path fill=\"none\" stroke=\"black\" d=\"M276.48,-88.95C285.19,-79.8 294.65,-69.87 303.37,-60.71\"/>\n<polygon fill=\"black\" stroke=\"black\" points=\"306.13,-62.89 310.49,-53.24 301.06,-58.06 306.13,-62.89\"/>\n</g>\n</g>\n</svg>\n",
            "text/plain": [
              "<graphviz.sources.Source at 0x7ad16fbde5c0>"
            ]
          },
          "metadata": {},
          "execution_count": 31
        }
      ]
    },
    {
      "cell_type": "markdown",
      "metadata": {
        "id": "hvdu6gtXWzNb"
      },
      "source": [
        "Você pode acessar a documentação dos dados (http://archive.ics.uci.edu/ml/machine-learning-databases/voting-records/house-votes-84.names) e verificar a que eleições se referem os votos acima:\n",
        "\n",
        "* Vote_4: physician-fee-freeze\n",
        "* Vote_3: adoption-of-the-budget-resolution\n",
        "* Vote_11: synfuels-corporation-cutback\n",
        "\n",
        "E, de fato, seria suficiente ainda somente a informação do Vote_4: physician-fee-freeze para classificar os congressistas. Em 1984, o governo federal impõe um congelamento de um ano nos pagamentos para os serviços de saúde, sendo os serviços de saúde  um tema polêmico que ainda hoje divide republicamos e democratas.\n"
      ]
    },
    {
      "cell_type": "markdown",
      "source": [
        "# Selecionando outros Modelos"
      ],
      "metadata": {
        "id": "Xl5UfpgZJtcq"
      }
    },
    {
      "cell_type": "markdown",
      "source": [
        "> *Você pode adaptar o código de seleção de modelos acima para explorar, por exemplo, diferentes valores de $k$ para o K-vizinhos mais Próximos ou ainda diferentes profundidades da Árvore. Para isso basta implementar no código original um procedimento mais ou menos como abaixo:*"
      ],
      "metadata": {
        "id": "DJcOESojJFuo"
      }
    },
    {
      "cell_type": "code",
      "source": [
        "%%script false --no-raise-error\n",
        "\n",
        "for k in range(2,10):\n",
        "  clf = neighbors.KNeighborsClassifier(k)\n",
        "  ...\n",
        "\n",
        "# OU\n",
        "\n",
        "for deep in range(2,10):\n",
        "  clf = DecisionTreeClassifier(max_depth=deep)\n",
        "  ..."
      ],
      "metadata": {
        "id": "-SlQWN7sHxiE"
      },
      "execution_count": 33,
      "outputs": []
    },
    {
      "cell_type": "markdown",
      "source": [
        "Nas próximas aulas você aprenderá como fazer isso com uma função do Scikit-learn."
      ],
      "metadata": {
        "id": "qaI-QbsOJyB4"
      }
    },
    {
      "cell_type": "markdown",
      "source": [
        "# Exercício **Mini-desafio**\n",
        "\n",
        "Mini-desafio em grupo. Empregando os recursos e algoritmos conhecidos até aqui (caso queira empregar um recurso não visto em sala, verifique antes com o professor) cada equipe deve buscar chegar no melhor resultado da acuracidade determinação do Alto Risco de Pacientes.\n",
        "\n",
        "Após a construção dos modelos os modelos serão testados em dois novos conjuntos de dados.\n",
        "\n",
        "* [0 25 50 75 **100**] Melhores resultados nos 2 dois novos conjuntos de dados, $10.0$\n",
        "* [0 25 50 **75** **99**] Melhores resultados nos 2 dois novos conjuntos de dados, $9.0$\n",
        "* [0 25 **50** **74** 100] Melhores resultados nos 2 dois novos conjuntos de dados, $7.0$\n",
        "* [**0 25 49** 75 100] Melhores resultados nos 2 dois novos conjuntos de dados, $6.0$\n",
        "\n"
      ],
      "metadata": {
        "id": "xiOStfUKWzUP"
      }
    },
    {
      "cell_type": "code",
      "source": [
        "df = pd.read_csv('https://github.com/Rogerio-mack/IMT_Ciencia_de_Dados/raw/main/data/blood_risk.csv')\n",
        "df.head()"
      ],
      "metadata": {
        "colab": {
          "base_uri": "https://localhost:8080/",
          "height": 394
        },
        "id": "T1KnpqxNv1rl",
        "outputId": "2080f351-c7c2-4b40-df9a-842e93dc3c1a"
      },
      "execution_count": 72,
      "outputs": [
        {
          "output_type": "execute_result",
          "data": {
            "text/plain": [
              "   record              name          cpf  \\\n",
              "0   89256     Bryan Cardoso  83619570221   \n",
              "1   72173  Sr. Vicente Lima  30861597230   \n",
              "2   95816    Otávio da Rosa  89532614737   \n",
              "3   44566    Alícia da Cruz  53027691406   \n",
              "4   31019      Maysa Novaes  53817096259   \n",
              "\n",
              "                                             address    birthday  Gluconise  \\\n",
              "0  Vereda Sabrina Oliveira, 14\\nDelta\\n59803556 S...  2006-11-14   916.6484   \n",
              "1  Largo de Fogaça, 800\\nGameleira\\n24540-170 Mar...  2013-11-22   988.7466   \n",
              "2  Jardim Vieira, 809\\nGameleira\\n33533246 Teixei...  2008-10-23   572.7608   \n",
              "3  Largo Juliana Cunha, 83\\nFlavio Marques Lisboa...  2011-07-25  1328.0542   \n",
              "4  Setor Nunes, 56\\nConjunto Taquaril\\n93444-430 ...  2021-06-25   641.3129   \n",
              "\n",
              "     H2B4    H356  HB_A56  Adrino_posina  ...     H278  Positron_L  Plate  \\\n",
              "0   79.16  229.16   37.50      Uncovered  ...  5749.42     28.2269     DD   \n",
              "1   97.19  247.19   37.50  Clinical Done  ...   285.18     22.7627    NaN   \n",
              "2   -6.81  143.19   37.50      Uncovered  ...  8000.08     30.4776      X   \n",
              "3  182.01  332.01   90.83  Clinical Done  ...  5737.50     28.2150     DD   \n",
              "4   10.33  160.33   90.83  Clinical Done  ...  5476.12     27.9536      B   \n",
              "\n",
              "   Factor_risk norm_gamma_type  Blood_type  Blood_Rh Low_Risk Medium_Risk  \\\n",
              "0            5               1          AB         +     True       False   \n",
              "1            2               1           O         +     True       False   \n",
              "2            5               1           O         -     True       False   \n",
              "3            5               1          AB         -    False        True   \n",
              "4            5               1         NaN         +    False        True   \n",
              "\n",
              "   High_Risk  \n",
              "0      False  \n",
              "1      False  \n",
              "2      False  \n",
              "3       True  \n",
              "4       True  \n",
              "\n",
              "[5 rows x 22 columns]"
            ],
            "text/html": [
              "\n",
              "  <div id=\"df-5bc2ce61-132b-4b28-a57e-600eca38e003\" class=\"colab-df-container\">\n",
              "    <div>\n",
              "<style scoped>\n",
              "    .dataframe tbody tr th:only-of-type {\n",
              "        vertical-align: middle;\n",
              "    }\n",
              "\n",
              "    .dataframe tbody tr th {\n",
              "        vertical-align: top;\n",
              "    }\n",
              "\n",
              "    .dataframe thead th {\n",
              "        text-align: right;\n",
              "    }\n",
              "</style>\n",
              "<table border=\"1\" class=\"dataframe\">\n",
              "  <thead>\n",
              "    <tr style=\"text-align: right;\">\n",
              "      <th></th>\n",
              "      <th>record</th>\n",
              "      <th>name</th>\n",
              "      <th>cpf</th>\n",
              "      <th>address</th>\n",
              "      <th>birthday</th>\n",
              "      <th>Gluconise</th>\n",
              "      <th>H2B4</th>\n",
              "      <th>H356</th>\n",
              "      <th>HB_A56</th>\n",
              "      <th>Adrino_posina</th>\n",
              "      <th>...</th>\n",
              "      <th>H278</th>\n",
              "      <th>Positron_L</th>\n",
              "      <th>Plate</th>\n",
              "      <th>Factor_risk</th>\n",
              "      <th>norm_gamma_type</th>\n",
              "      <th>Blood_type</th>\n",
              "      <th>Blood_Rh</th>\n",
              "      <th>Low_Risk</th>\n",
              "      <th>Medium_Risk</th>\n",
              "      <th>High_Risk</th>\n",
              "    </tr>\n",
              "  </thead>\n",
              "  <tbody>\n",
              "    <tr>\n",
              "      <th>0</th>\n",
              "      <td>89256</td>\n",
              "      <td>Bryan Cardoso</td>\n",
              "      <td>83619570221</td>\n",
              "      <td>Vereda Sabrina Oliveira, 14\\nDelta\\n59803556 S...</td>\n",
              "      <td>2006-11-14</td>\n",
              "      <td>916.6484</td>\n",
              "      <td>79.16</td>\n",
              "      <td>229.16</td>\n",
              "      <td>37.50</td>\n",
              "      <td>Uncovered</td>\n",
              "      <td>...</td>\n",
              "      <td>5749.42</td>\n",
              "      <td>28.2269</td>\n",
              "      <td>DD</td>\n",
              "      <td>5</td>\n",
              "      <td>1</td>\n",
              "      <td>AB</td>\n",
              "      <td>+</td>\n",
              "      <td>True</td>\n",
              "      <td>False</td>\n",
              "      <td>False</td>\n",
              "    </tr>\n",
              "    <tr>\n",
              "      <th>1</th>\n",
              "      <td>72173</td>\n",
              "      <td>Sr. Vicente Lima</td>\n",
              "      <td>30861597230</td>\n",
              "      <td>Largo de Fogaça, 800\\nGameleira\\n24540-170 Mar...</td>\n",
              "      <td>2013-11-22</td>\n",
              "      <td>988.7466</td>\n",
              "      <td>97.19</td>\n",
              "      <td>247.19</td>\n",
              "      <td>37.50</td>\n",
              "      <td>Clinical Done</td>\n",
              "      <td>...</td>\n",
              "      <td>285.18</td>\n",
              "      <td>22.7627</td>\n",
              "      <td>NaN</td>\n",
              "      <td>2</td>\n",
              "      <td>1</td>\n",
              "      <td>O</td>\n",
              "      <td>+</td>\n",
              "      <td>True</td>\n",
              "      <td>False</td>\n",
              "      <td>False</td>\n",
              "    </tr>\n",
              "    <tr>\n",
              "      <th>2</th>\n",
              "      <td>95816</td>\n",
              "      <td>Otávio da Rosa</td>\n",
              "      <td>89532614737</td>\n",
              "      <td>Jardim Vieira, 809\\nGameleira\\n33533246 Teixei...</td>\n",
              "      <td>2008-10-23</td>\n",
              "      <td>572.7608</td>\n",
              "      <td>-6.81</td>\n",
              "      <td>143.19</td>\n",
              "      <td>37.50</td>\n",
              "      <td>Uncovered</td>\n",
              "      <td>...</td>\n",
              "      <td>8000.08</td>\n",
              "      <td>30.4776</td>\n",
              "      <td>X</td>\n",
              "      <td>5</td>\n",
              "      <td>1</td>\n",
              "      <td>O</td>\n",
              "      <td>-</td>\n",
              "      <td>True</td>\n",
              "      <td>False</td>\n",
              "      <td>False</td>\n",
              "    </tr>\n",
              "    <tr>\n",
              "      <th>3</th>\n",
              "      <td>44566</td>\n",
              "      <td>Alícia da Cruz</td>\n",
              "      <td>53027691406</td>\n",
              "      <td>Largo Juliana Cunha, 83\\nFlavio Marques Lisboa...</td>\n",
              "      <td>2011-07-25</td>\n",
              "      <td>1328.0542</td>\n",
              "      <td>182.01</td>\n",
              "      <td>332.01</td>\n",
              "      <td>90.83</td>\n",
              "      <td>Clinical Done</td>\n",
              "      <td>...</td>\n",
              "      <td>5737.50</td>\n",
              "      <td>28.2150</td>\n",
              "      <td>DD</td>\n",
              "      <td>5</td>\n",
              "      <td>1</td>\n",
              "      <td>AB</td>\n",
              "      <td>-</td>\n",
              "      <td>False</td>\n",
              "      <td>True</td>\n",
              "      <td>True</td>\n",
              "    </tr>\n",
              "    <tr>\n",
              "      <th>4</th>\n",
              "      <td>31019</td>\n",
              "      <td>Maysa Novaes</td>\n",
              "      <td>53817096259</td>\n",
              "      <td>Setor Nunes, 56\\nConjunto Taquaril\\n93444-430 ...</td>\n",
              "      <td>2021-06-25</td>\n",
              "      <td>641.3129</td>\n",
              "      <td>10.33</td>\n",
              "      <td>160.33</td>\n",
              "      <td>90.83</td>\n",
              "      <td>Clinical Done</td>\n",
              "      <td>...</td>\n",
              "      <td>5476.12</td>\n",
              "      <td>27.9536</td>\n",
              "      <td>B</td>\n",
              "      <td>5</td>\n",
              "      <td>1</td>\n",
              "      <td>NaN</td>\n",
              "      <td>+</td>\n",
              "      <td>False</td>\n",
              "      <td>True</td>\n",
              "      <td>True</td>\n",
              "    </tr>\n",
              "  </tbody>\n",
              "</table>\n",
              "<p>5 rows × 22 columns</p>\n",
              "</div>\n",
              "    <div class=\"colab-df-buttons\">\n",
              "\n",
              "  <div class=\"colab-df-container\">\n",
              "    <button class=\"colab-df-convert\" onclick=\"convertToInteractive('df-5bc2ce61-132b-4b28-a57e-600eca38e003')\"\n",
              "            title=\"Convert this dataframe to an interactive table.\"\n",
              "            style=\"display:none;\">\n",
              "\n",
              "  <svg xmlns=\"http://www.w3.org/2000/svg\" height=\"24px\" viewBox=\"0 -960 960 960\">\n",
              "    <path d=\"M120-120v-720h720v720H120Zm60-500h600v-160H180v160Zm220 220h160v-160H400v160Zm0 220h160v-160H400v160ZM180-400h160v-160H180v160Zm440 0h160v-160H620v160ZM180-180h160v-160H180v160Zm440 0h160v-160H620v160Z\"/>\n",
              "  </svg>\n",
              "    </button>\n",
              "\n",
              "  <style>\n",
              "    .colab-df-container {\n",
              "      display:flex;\n",
              "      gap: 12px;\n",
              "    }\n",
              "\n",
              "    .colab-df-convert {\n",
              "      background-color: #E8F0FE;\n",
              "      border: none;\n",
              "      border-radius: 50%;\n",
              "      cursor: pointer;\n",
              "      display: none;\n",
              "      fill: #1967D2;\n",
              "      height: 32px;\n",
              "      padding: 0 0 0 0;\n",
              "      width: 32px;\n",
              "    }\n",
              "\n",
              "    .colab-df-convert:hover {\n",
              "      background-color: #E2EBFA;\n",
              "      box-shadow: 0px 1px 2px rgba(60, 64, 67, 0.3), 0px 1px 3px 1px rgba(60, 64, 67, 0.15);\n",
              "      fill: #174EA6;\n",
              "    }\n",
              "\n",
              "    .colab-df-buttons div {\n",
              "      margin-bottom: 4px;\n",
              "    }\n",
              "\n",
              "    [theme=dark] .colab-df-convert {\n",
              "      background-color: #3B4455;\n",
              "      fill: #D2E3FC;\n",
              "    }\n",
              "\n",
              "    [theme=dark] .colab-df-convert:hover {\n",
              "      background-color: #434B5C;\n",
              "      box-shadow: 0px 1px 3px 1px rgba(0, 0, 0, 0.15);\n",
              "      filter: drop-shadow(0px 1px 2px rgba(0, 0, 0, 0.3));\n",
              "      fill: #FFFFFF;\n",
              "    }\n",
              "  </style>\n",
              "\n",
              "    <script>\n",
              "      const buttonEl =\n",
              "        document.querySelector('#df-5bc2ce61-132b-4b28-a57e-600eca38e003 button.colab-df-convert');\n",
              "      buttonEl.style.display =\n",
              "        google.colab.kernel.accessAllowed ? 'block' : 'none';\n",
              "\n",
              "      async function convertToInteractive(key) {\n",
              "        const element = document.querySelector('#df-5bc2ce61-132b-4b28-a57e-600eca38e003');\n",
              "        const dataTable =\n",
              "          await google.colab.kernel.invokeFunction('convertToInteractive',\n",
              "                                                    [key], {});\n",
              "        if (!dataTable) return;\n",
              "\n",
              "        const docLinkHtml = 'Like what you see? Visit the ' +\n",
              "          '<a target=\"_blank\" href=https://colab.research.google.com/notebooks/data_table.ipynb>data table notebook</a>'\n",
              "          + ' to learn more about interactive tables.';\n",
              "        element.innerHTML = '';\n",
              "        dataTable['output_type'] = 'display_data';\n",
              "        await google.colab.output.renderOutput(dataTable, element);\n",
              "        const docLink = document.createElement('div');\n",
              "        docLink.innerHTML = docLinkHtml;\n",
              "        element.appendChild(docLink);\n",
              "      }\n",
              "    </script>\n",
              "  </div>\n",
              "\n",
              "\n",
              "<div id=\"df-5ca7a16c-c8ec-4b23-8379-4a5cc6fc20ac\">\n",
              "  <button class=\"colab-df-quickchart\" onclick=\"quickchart('df-5ca7a16c-c8ec-4b23-8379-4a5cc6fc20ac')\"\n",
              "            title=\"Suggest charts.\"\n",
              "            style=\"display:none;\">\n",
              "\n",
              "<svg xmlns=\"http://www.w3.org/2000/svg\" height=\"24px\"viewBox=\"0 0 24 24\"\n",
              "     width=\"24px\">\n",
              "    <g>\n",
              "        <path d=\"M19 3H5c-1.1 0-2 .9-2 2v14c0 1.1.9 2 2 2h14c1.1 0 2-.9 2-2V5c0-1.1-.9-2-2-2zM9 17H7v-7h2v7zm4 0h-2V7h2v10zm4 0h-2v-4h2v4z\"/>\n",
              "    </g>\n",
              "</svg>\n",
              "  </button>\n",
              "\n",
              "<style>\n",
              "  .colab-df-quickchart {\n",
              "    background-color: #E8F0FE;\n",
              "    border: none;\n",
              "    border-radius: 50%;\n",
              "    cursor: pointer;\n",
              "    display: none;\n",
              "    fill: #1967D2;\n",
              "    height: 32px;\n",
              "    padding: 0 0 0 0;\n",
              "    width: 32px;\n",
              "  }\n",
              "\n",
              "  .colab-df-quickchart:hover {\n",
              "    background-color: #E2EBFA;\n",
              "    box-shadow: 0px 1px 2px rgba(60, 64, 67, 0.3), 0px 1px 3px 1px rgba(60, 64, 67, 0.15);\n",
              "    fill: #174EA6;\n",
              "  }\n",
              "\n",
              "  [theme=dark] .colab-df-quickchart {\n",
              "    background-color: #3B4455;\n",
              "    fill: #D2E3FC;\n",
              "  }\n",
              "\n",
              "  [theme=dark] .colab-df-quickchart:hover {\n",
              "    background-color: #434B5C;\n",
              "    box-shadow: 0px 1px 3px 1px rgba(0, 0, 0, 0.15);\n",
              "    filter: drop-shadow(0px 1px 2px rgba(0, 0, 0, 0.3));\n",
              "    fill: #FFFFFF;\n",
              "  }\n",
              "</style>\n",
              "\n",
              "  <script>\n",
              "    async function quickchart(key) {\n",
              "      const charts = await google.colab.kernel.invokeFunction(\n",
              "          'suggestCharts', [key], {});\n",
              "    }\n",
              "    (() => {\n",
              "      let quickchartButtonEl =\n",
              "        document.querySelector('#df-5ca7a16c-c8ec-4b23-8379-4a5cc6fc20ac button');\n",
              "      quickchartButtonEl.style.display =\n",
              "        google.colab.kernel.accessAllowed ? 'block' : 'none';\n",
              "    })();\n",
              "  </script>\n",
              "</div>\n",
              "    </div>\n",
              "  </div>\n"
            ]
          },
          "metadata": {},
          "execution_count": 72
        }
      ]
    }
  ]
}