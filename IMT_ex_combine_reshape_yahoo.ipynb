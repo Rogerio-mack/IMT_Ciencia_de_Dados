{
  "cells": [
    {
      "cell_type": "markdown",
      "metadata": {
        "id": "view-in-github",
        "colab_type": "text"
      },
      "source": [
        "<a href=\"https://colab.research.google.com/github/Rogerio-mack/IMT_Ciencia_de_Dados/blob/main/IMT_ex_combine_reshape_yahoo.ipynb\" target=\"_parent\"><img src=\"https://colab.research.google.com/assets/colab-badge.svg\" alt=\"Open In Colab\"/></a>"
      ]
    },
    {
      "cell_type": "markdown",
      "metadata": {
        "id": "80CF3Eq9EXDW"
      },
      "source": [
        "<head>\n",
        "  <meta name=\"author\" content=\"Rogério de Oliveira\">\n",
        "  <meta institution=\"author\" content=\"ITM\">\n",
        "</head>\n",
        "\n",
        "<img src=\"https://maua.br/images/selo-60-anos-maua.svg\" width=300, align=\"right\">\n",
        "<!-- <h1 align=left><font size = 6, style=\"color:rgb(200,0,0)\"> optional title </font></h1> -->\n"
      ]
    },
    {
      "cell_type": "markdown",
      "source": [
        "# Lab: Combinação, Reshape e outras transformações dos dados\n",
        "\n",
        "Referências e Materiais úteis para este Lab:\n",
        "\n",
        "- [Notas de Aula](https://colab.research.google.com/github/Rogerio-mack/IMT_Ciencia_de_Dados/blob/main/IMT_Pandas_I.ipynb)\n",
        "- [Pandas User Guide](https://pandas.pydata.org/docs/user_guide/index.html#user-guide)\n",
        "- [Pandas Reshaping](https://pandas.pydata.org/docs/user_guide/reshaping.html)\n",
        "---\n",
        "\n"
      ],
      "metadata": {
        "id": "dEyV_GqcqtL1"
      }
    },
    {
      "cell_type": "code",
      "execution_count": null,
      "metadata": {
        "id": "jf4DkEBpGdr4"
      },
      "outputs": [],
      "source": [
        "import numpy as np\n",
        "import pandas as pd\n",
        "\n",
        "path = 'https://github.com/Rogerio-mack/IMT_Ciencia_de_Dados/raw/main/data/'"
      ]
    },
    {
      "cell_type": "markdown",
      "source": [
        "# **CASE: Yahoo Finance**\n",
        "\n",
        "Nos exercícios a seguir partimos da seguinte base de dados extraída do `yahoo finance`:"
      ],
      "metadata": {
        "id": "Qq-2n4o2RxXH"
      }
    },
    {
      "cell_type": "markdown",
      "source": [
        "<small>\n",
        "Para consulta de ativos no Yahoo Finance, pesquise em: https://ca.finance.yahoo.com/lookup"
      ],
      "metadata": {
        "id": "hpZl_BbFpFQq"
      }
    },
    {
      "cell_type": "code",
      "execution_count": null,
      "metadata": {
        "id": "du86XS6HFoqN"
      },
      "outputs": [],
      "source": [
        "%%capture\n",
        "!pip install yfinance"
      ]
    },
    {
      "cell_type": "code",
      "execution_count": null,
      "metadata": {
        "colab": {
          "base_uri": "https://localhost:8080/",
          "height": 467
        },
        "id": "-s_T5xKjsZBu",
        "outputId": "8b7922e5-4bf7-42bf-ce77-931b50e743a3"
      },
      "outputs": [
        {
          "output_type": "stream",
          "name": "stdout",
          "text": [
            "[*********************100%***********************]  5 of 5 completed\n"
          ]
        },
        {
          "output_type": "execute_result",
          "data": {
            "text/plain": [
              "           Adj Close                                               Close  \\\n",
              "               BRL=X      BTC-USD   ITUB4.SA   PETR4.SA    ^BVSP   BRL=X   \n",
              "Date                                                                       \n",
              "2019-01-01    3.8800  3843.520020        NaN        NaN      NaN  3.8800   \n",
              "2019-01-02    3.8799  3943.409424  31.761532  11.060241  91012.0  3.8799   \n",
              "2019-01-03    3.7863  3836.741211  32.285156  11.331462  91564.0  3.7863   \n",
              "2019-01-04    3.7551  3857.717529  31.744375  11.363641  91841.0  3.7551   \n",
              "2019-01-05       NaN  3845.194580        NaN        NaN      NaN     NaN   \n",
              "\n",
              "                                                        ...    Open  \\\n",
              "                BTC-USD   ITUB4.SA   PETR4.SA    ^BVSP  ...   BRL=X   \n",
              "Date                                                    ...           \n",
              "2019-01-01  3843.520020        NaN        NaN      NaN  ...  3.8800   \n",
              "2019-01-02  3943.409424  37.000000  24.059999  91012.0  ...  3.8799   \n",
              "2019-01-03  3836.741211  37.610001  24.650000  91564.0  ...  3.7866   \n",
              "2019-01-04  3857.717529  36.980000  24.719999  91841.0  ...  3.7550   \n",
              "2019-01-05  3845.194580        NaN        NaN      NaN  ...     NaN   \n",
              "\n",
              "                                                       Volume              \\\n",
              "                BTC-USD   ITUB4.SA   PETR4.SA    ^BVSP  BRL=X     BTC-USD   \n",
              "Date                                                                        \n",
              "2019-01-01  3746.713379        NaN        NaN      NaN    0.0  4324200990   \n",
              "2019-01-02  3849.216309  35.439999  22.549999  87887.0    0.0  5244856836   \n",
              "2019-01-03  3931.048584  36.750000  23.959999  91011.0    0.0  4530215219   \n",
              "2019-01-04  3832.040039  37.220001  24.850000  91577.0    0.0  4847965467   \n",
              "2019-01-05  3851.973877        NaN        NaN      NaN    NaN  5137609824   \n",
              "\n",
              "                                                \n",
              "              ITUB4.SA     PETR4.SA      ^BVSP  \n",
              "Date                                            \n",
              "2019-01-01         NaN          NaN        NaN  \n",
              "2019-01-02  25581700.0  104534800.0  5615400.0  \n",
              "2019-01-03  21938600.0   95206400.0  6066200.0  \n",
              "2019-01-04  24873500.0   72119800.0  5322100.0  \n",
              "2019-01-05         NaN          NaN        NaN  \n",
              "\n",
              "[5 rows x 30 columns]"
            ],
            "text/html": [
              "\n",
              "  <div id=\"df-e0a0e005-c6af-464f-9b7d-2f3e74b3a5d5\">\n",
              "    <div class=\"colab-df-container\">\n",
              "      <div>\n",
              "<style scoped>\n",
              "    .dataframe tbody tr th:only-of-type {\n",
              "        vertical-align: middle;\n",
              "    }\n",
              "\n",
              "    .dataframe tbody tr th {\n",
              "        vertical-align: top;\n",
              "    }\n",
              "\n",
              "    .dataframe thead tr th {\n",
              "        text-align: left;\n",
              "    }\n",
              "\n",
              "    .dataframe thead tr:last-of-type th {\n",
              "        text-align: right;\n",
              "    }\n",
              "</style>\n",
              "<table border=\"1\" class=\"dataframe\">\n",
              "  <thead>\n",
              "    <tr>\n",
              "      <th></th>\n",
              "      <th colspan=\"5\" halign=\"left\">Adj Close</th>\n",
              "      <th colspan=\"5\" halign=\"left\">Close</th>\n",
              "      <th>...</th>\n",
              "      <th colspan=\"5\" halign=\"left\">Open</th>\n",
              "      <th colspan=\"5\" halign=\"left\">Volume</th>\n",
              "    </tr>\n",
              "    <tr>\n",
              "      <th></th>\n",
              "      <th>BRL=X</th>\n",
              "      <th>BTC-USD</th>\n",
              "      <th>ITUB4.SA</th>\n",
              "      <th>PETR4.SA</th>\n",
              "      <th>^BVSP</th>\n",
              "      <th>BRL=X</th>\n",
              "      <th>BTC-USD</th>\n",
              "      <th>ITUB4.SA</th>\n",
              "      <th>PETR4.SA</th>\n",
              "      <th>^BVSP</th>\n",
              "      <th>...</th>\n",
              "      <th>BRL=X</th>\n",
              "      <th>BTC-USD</th>\n",
              "      <th>ITUB4.SA</th>\n",
              "      <th>PETR4.SA</th>\n",
              "      <th>^BVSP</th>\n",
              "      <th>BRL=X</th>\n",
              "      <th>BTC-USD</th>\n",
              "      <th>ITUB4.SA</th>\n",
              "      <th>PETR4.SA</th>\n",
              "      <th>^BVSP</th>\n",
              "    </tr>\n",
              "    <tr>\n",
              "      <th>Date</th>\n",
              "      <th></th>\n",
              "      <th></th>\n",
              "      <th></th>\n",
              "      <th></th>\n",
              "      <th></th>\n",
              "      <th></th>\n",
              "      <th></th>\n",
              "      <th></th>\n",
              "      <th></th>\n",
              "      <th></th>\n",
              "      <th></th>\n",
              "      <th></th>\n",
              "      <th></th>\n",
              "      <th></th>\n",
              "      <th></th>\n",
              "      <th></th>\n",
              "      <th></th>\n",
              "      <th></th>\n",
              "      <th></th>\n",
              "      <th></th>\n",
              "      <th></th>\n",
              "    </tr>\n",
              "  </thead>\n",
              "  <tbody>\n",
              "    <tr>\n",
              "      <th>2019-01-01</th>\n",
              "      <td>3.8800</td>\n",
              "      <td>3843.520020</td>\n",
              "      <td>NaN</td>\n",
              "      <td>NaN</td>\n",
              "      <td>NaN</td>\n",
              "      <td>3.8800</td>\n",
              "      <td>3843.520020</td>\n",
              "      <td>NaN</td>\n",
              "      <td>NaN</td>\n",
              "      <td>NaN</td>\n",
              "      <td>...</td>\n",
              "      <td>3.8800</td>\n",
              "      <td>3746.713379</td>\n",
              "      <td>NaN</td>\n",
              "      <td>NaN</td>\n",
              "      <td>NaN</td>\n",
              "      <td>0.0</td>\n",
              "      <td>4324200990</td>\n",
              "      <td>NaN</td>\n",
              "      <td>NaN</td>\n",
              "      <td>NaN</td>\n",
              "    </tr>\n",
              "    <tr>\n",
              "      <th>2019-01-02</th>\n",
              "      <td>3.8799</td>\n",
              "      <td>3943.409424</td>\n",
              "      <td>31.761532</td>\n",
              "      <td>11.060241</td>\n",
              "      <td>91012.0</td>\n",
              "      <td>3.8799</td>\n",
              "      <td>3943.409424</td>\n",
              "      <td>37.000000</td>\n",
              "      <td>24.059999</td>\n",
              "      <td>91012.0</td>\n",
              "      <td>...</td>\n",
              "      <td>3.8799</td>\n",
              "      <td>3849.216309</td>\n",
              "      <td>35.439999</td>\n",
              "      <td>22.549999</td>\n",
              "      <td>87887.0</td>\n",
              "      <td>0.0</td>\n",
              "      <td>5244856836</td>\n",
              "      <td>25581700.0</td>\n",
              "      <td>104534800.0</td>\n",
              "      <td>5615400.0</td>\n",
              "    </tr>\n",
              "    <tr>\n",
              "      <th>2019-01-03</th>\n",
              "      <td>3.7863</td>\n",
              "      <td>3836.741211</td>\n",
              "      <td>32.285156</td>\n",
              "      <td>11.331462</td>\n",
              "      <td>91564.0</td>\n",
              "      <td>3.7863</td>\n",
              "      <td>3836.741211</td>\n",
              "      <td>37.610001</td>\n",
              "      <td>24.650000</td>\n",
              "      <td>91564.0</td>\n",
              "      <td>...</td>\n",
              "      <td>3.7866</td>\n",
              "      <td>3931.048584</td>\n",
              "      <td>36.750000</td>\n",
              "      <td>23.959999</td>\n",
              "      <td>91011.0</td>\n",
              "      <td>0.0</td>\n",
              "      <td>4530215219</td>\n",
              "      <td>21938600.0</td>\n",
              "      <td>95206400.0</td>\n",
              "      <td>6066200.0</td>\n",
              "    </tr>\n",
              "    <tr>\n",
              "      <th>2019-01-04</th>\n",
              "      <td>3.7551</td>\n",
              "      <td>3857.717529</td>\n",
              "      <td>31.744375</td>\n",
              "      <td>11.363641</td>\n",
              "      <td>91841.0</td>\n",
              "      <td>3.7551</td>\n",
              "      <td>3857.717529</td>\n",
              "      <td>36.980000</td>\n",
              "      <td>24.719999</td>\n",
              "      <td>91841.0</td>\n",
              "      <td>...</td>\n",
              "      <td>3.7550</td>\n",
              "      <td>3832.040039</td>\n",
              "      <td>37.220001</td>\n",
              "      <td>24.850000</td>\n",
              "      <td>91577.0</td>\n",
              "      <td>0.0</td>\n",
              "      <td>4847965467</td>\n",
              "      <td>24873500.0</td>\n",
              "      <td>72119800.0</td>\n",
              "      <td>5322100.0</td>\n",
              "    </tr>\n",
              "    <tr>\n",
              "      <th>2019-01-05</th>\n",
              "      <td>NaN</td>\n",
              "      <td>3845.194580</td>\n",
              "      <td>NaN</td>\n",
              "      <td>NaN</td>\n",
              "      <td>NaN</td>\n",
              "      <td>NaN</td>\n",
              "      <td>3845.194580</td>\n",
              "      <td>NaN</td>\n",
              "      <td>NaN</td>\n",
              "      <td>NaN</td>\n",
              "      <td>...</td>\n",
              "      <td>NaN</td>\n",
              "      <td>3851.973877</td>\n",
              "      <td>NaN</td>\n",
              "      <td>NaN</td>\n",
              "      <td>NaN</td>\n",
              "      <td>NaN</td>\n",
              "      <td>5137609824</td>\n",
              "      <td>NaN</td>\n",
              "      <td>NaN</td>\n",
              "      <td>NaN</td>\n",
              "    </tr>\n",
              "  </tbody>\n",
              "</table>\n",
              "<p>5 rows × 30 columns</p>\n",
              "</div>\n",
              "      <button class=\"colab-df-convert\" onclick=\"convertToInteractive('df-e0a0e005-c6af-464f-9b7d-2f3e74b3a5d5')\"\n",
              "              title=\"Convert this dataframe to an interactive table.\"\n",
              "              style=\"display:none;\">\n",
              "        \n",
              "  <svg xmlns=\"http://www.w3.org/2000/svg\" height=\"24px\"viewBox=\"0 0 24 24\"\n",
              "       width=\"24px\">\n",
              "    <path d=\"M0 0h24v24H0V0z\" fill=\"none\"/>\n",
              "    <path d=\"M18.56 5.44l.94 2.06.94-2.06 2.06-.94-2.06-.94-.94-2.06-.94 2.06-2.06.94zm-11 1L8.5 8.5l.94-2.06 2.06-.94-2.06-.94L8.5 2.5l-.94 2.06-2.06.94zm10 10l.94 2.06.94-2.06 2.06-.94-2.06-.94-.94-2.06-.94 2.06-2.06.94z\"/><path d=\"M17.41 7.96l-1.37-1.37c-.4-.4-.92-.59-1.43-.59-.52 0-1.04.2-1.43.59L10.3 9.45l-7.72 7.72c-.78.78-.78 2.05 0 2.83L4 21.41c.39.39.9.59 1.41.59.51 0 1.02-.2 1.41-.59l7.78-7.78 2.81-2.81c.8-.78.8-2.07 0-2.86zM5.41 20L4 18.59l7.72-7.72 1.47 1.35L5.41 20z\"/>\n",
              "  </svg>\n",
              "      </button>\n",
              "      \n",
              "  <style>\n",
              "    .colab-df-container {\n",
              "      display:flex;\n",
              "      flex-wrap:wrap;\n",
              "      gap: 12px;\n",
              "    }\n",
              "\n",
              "    .colab-df-convert {\n",
              "      background-color: #E8F0FE;\n",
              "      border: none;\n",
              "      border-radius: 50%;\n",
              "      cursor: pointer;\n",
              "      display: none;\n",
              "      fill: #1967D2;\n",
              "      height: 32px;\n",
              "      padding: 0 0 0 0;\n",
              "      width: 32px;\n",
              "    }\n",
              "\n",
              "    .colab-df-convert:hover {\n",
              "      background-color: #E2EBFA;\n",
              "      box-shadow: 0px 1px 2px rgba(60, 64, 67, 0.3), 0px 1px 3px 1px rgba(60, 64, 67, 0.15);\n",
              "      fill: #174EA6;\n",
              "    }\n",
              "\n",
              "    [theme=dark] .colab-df-convert {\n",
              "      background-color: #3B4455;\n",
              "      fill: #D2E3FC;\n",
              "    }\n",
              "\n",
              "    [theme=dark] .colab-df-convert:hover {\n",
              "      background-color: #434B5C;\n",
              "      box-shadow: 0px 1px 3px 1px rgba(0, 0, 0, 0.15);\n",
              "      filter: drop-shadow(0px 1px 2px rgba(0, 0, 0, 0.3));\n",
              "      fill: #FFFFFF;\n",
              "    }\n",
              "  </style>\n",
              "\n",
              "      <script>\n",
              "        const buttonEl =\n",
              "          document.querySelector('#df-e0a0e005-c6af-464f-9b7d-2f3e74b3a5d5 button.colab-df-convert');\n",
              "        buttonEl.style.display =\n",
              "          google.colab.kernel.accessAllowed ? 'block' : 'none';\n",
              "\n",
              "        async function convertToInteractive(key) {\n",
              "          const element = document.querySelector('#df-e0a0e005-c6af-464f-9b7d-2f3e74b3a5d5');\n",
              "          const dataTable =\n",
              "            await google.colab.kernel.invokeFunction('convertToInteractive',\n",
              "                                                     [key], {});\n",
              "          if (!dataTable) return;\n",
              "\n",
              "          const docLinkHtml = 'Like what you see? Visit the ' +\n",
              "            '<a target=\"_blank\" href=https://colab.research.google.com/notebooks/data_table.ipynb>data table notebook</a>'\n",
              "            + ' to learn more about interactive tables.';\n",
              "          element.innerHTML = '';\n",
              "          dataTable['output_type'] = 'display_data';\n",
              "          await google.colab.output.renderOutput(dataTable, element);\n",
              "          const docLink = document.createElement('div');\n",
              "          docLink.innerHTML = docLinkHtml;\n",
              "          element.appendChild(docLink);\n",
              "        }\n",
              "      </script>\n",
              "    </div>\n",
              "  </div>\n",
              "  "
            ]
          },
          "metadata": {},
          "execution_count": 3
        }
      ],
      "source": [
        "import yfinance as yf\n",
        "\n",
        "data = yf.download(['^BVSP', 'PETR4.SA', 'ITUB4.SA', 'BRL=X', 'BTC-USD'],'2019-01-01','2023-03-01')\n",
        "data.head()"
      ]
    },
    {
      "cell_type": "markdown",
      "source": [
        "## Q1. `pd.concat()`. \n",
        "\n",
        "Selecione o valor de fechamento ajustado de cada ticket produzindo um DataFrame `df` com o seguinte aspecto: \n"
      ],
      "metadata": {
        "id": "aZVLe6h4R7XZ"
      }
    },
    {
      "cell_type": "code",
      "source": [
        "#@markdown\n",
        "pd.read_csv(path + 'lab_yahoo_q1.csv').head()"
      ],
      "metadata": {
        "colab": {
          "base_uri": "https://localhost:8080/",
          "height": 206
        },
        "id": "FqS-1sMtQ8Yg",
        "outputId": "a333f820-ee17-4756-a943-58bc5621f323",
        "cellView": "form"
      },
      "execution_count": null,
      "outputs": [
        {
          "output_type": "execute_result",
          "data": {
            "text/plain": [
              "         Date   BRL=X      BTC-USD   ITUB4.SA   PETR4.SA    ^BVSP\n",
              "0  2019-01-01  3.8800  3843.520020        NaN        NaN      NaN\n",
              "1  2019-01-02  3.8799  3943.409424  31.761532  11.060242  91012.0\n",
              "2  2019-01-03  3.7863  3836.741211  32.285156  11.331462  91564.0\n",
              "3  2019-01-04  3.7551  3857.717529  31.744347  11.363639  91841.0\n",
              "4  2019-01-05     NaN  3845.194580        NaN        NaN      NaN"
            ],
            "text/html": [
              "\n",
              "  <div id=\"df-c71c067f-3a7d-4115-a1d3-7338fa2d305c\">\n",
              "    <div class=\"colab-df-container\">\n",
              "      <div>\n",
              "<style scoped>\n",
              "    .dataframe tbody tr th:only-of-type {\n",
              "        vertical-align: middle;\n",
              "    }\n",
              "\n",
              "    .dataframe tbody tr th {\n",
              "        vertical-align: top;\n",
              "    }\n",
              "\n",
              "    .dataframe thead th {\n",
              "        text-align: right;\n",
              "    }\n",
              "</style>\n",
              "<table border=\"1\" class=\"dataframe\">\n",
              "  <thead>\n",
              "    <tr style=\"text-align: right;\">\n",
              "      <th></th>\n",
              "      <th>Date</th>\n",
              "      <th>BRL=X</th>\n",
              "      <th>BTC-USD</th>\n",
              "      <th>ITUB4.SA</th>\n",
              "      <th>PETR4.SA</th>\n",
              "      <th>^BVSP</th>\n",
              "    </tr>\n",
              "  </thead>\n",
              "  <tbody>\n",
              "    <tr>\n",
              "      <th>0</th>\n",
              "      <td>2019-01-01</td>\n",
              "      <td>3.8800</td>\n",
              "      <td>3843.520020</td>\n",
              "      <td>NaN</td>\n",
              "      <td>NaN</td>\n",
              "      <td>NaN</td>\n",
              "    </tr>\n",
              "    <tr>\n",
              "      <th>1</th>\n",
              "      <td>2019-01-02</td>\n",
              "      <td>3.8799</td>\n",
              "      <td>3943.409424</td>\n",
              "      <td>31.761532</td>\n",
              "      <td>11.060242</td>\n",
              "      <td>91012.0</td>\n",
              "    </tr>\n",
              "    <tr>\n",
              "      <th>2</th>\n",
              "      <td>2019-01-03</td>\n",
              "      <td>3.7863</td>\n",
              "      <td>3836.741211</td>\n",
              "      <td>32.285156</td>\n",
              "      <td>11.331462</td>\n",
              "      <td>91564.0</td>\n",
              "    </tr>\n",
              "    <tr>\n",
              "      <th>3</th>\n",
              "      <td>2019-01-04</td>\n",
              "      <td>3.7551</td>\n",
              "      <td>3857.717529</td>\n",
              "      <td>31.744347</td>\n",
              "      <td>11.363639</td>\n",
              "      <td>91841.0</td>\n",
              "    </tr>\n",
              "    <tr>\n",
              "      <th>4</th>\n",
              "      <td>2019-01-05</td>\n",
              "      <td>NaN</td>\n",
              "      <td>3845.194580</td>\n",
              "      <td>NaN</td>\n",
              "      <td>NaN</td>\n",
              "      <td>NaN</td>\n",
              "    </tr>\n",
              "  </tbody>\n",
              "</table>\n",
              "</div>\n",
              "      <button class=\"colab-df-convert\" onclick=\"convertToInteractive('df-c71c067f-3a7d-4115-a1d3-7338fa2d305c')\"\n",
              "              title=\"Convert this dataframe to an interactive table.\"\n",
              "              style=\"display:none;\">\n",
              "        \n",
              "  <svg xmlns=\"http://www.w3.org/2000/svg\" height=\"24px\"viewBox=\"0 0 24 24\"\n",
              "       width=\"24px\">\n",
              "    <path d=\"M0 0h24v24H0V0z\" fill=\"none\"/>\n",
              "    <path d=\"M18.56 5.44l.94 2.06.94-2.06 2.06-.94-2.06-.94-.94-2.06-.94 2.06-2.06.94zm-11 1L8.5 8.5l.94-2.06 2.06-.94-2.06-.94L8.5 2.5l-.94 2.06-2.06.94zm10 10l.94 2.06.94-2.06 2.06-.94-2.06-.94-.94-2.06-.94 2.06-2.06.94z\"/><path d=\"M17.41 7.96l-1.37-1.37c-.4-.4-.92-.59-1.43-.59-.52 0-1.04.2-1.43.59L10.3 9.45l-7.72 7.72c-.78.78-.78 2.05 0 2.83L4 21.41c.39.39.9.59 1.41.59.51 0 1.02-.2 1.41-.59l7.78-7.78 2.81-2.81c.8-.78.8-2.07 0-2.86zM5.41 20L4 18.59l7.72-7.72 1.47 1.35L5.41 20z\"/>\n",
              "  </svg>\n",
              "      </button>\n",
              "      \n",
              "  <style>\n",
              "    .colab-df-container {\n",
              "      display:flex;\n",
              "      flex-wrap:wrap;\n",
              "      gap: 12px;\n",
              "    }\n",
              "\n",
              "    .colab-df-convert {\n",
              "      background-color: #E8F0FE;\n",
              "      border: none;\n",
              "      border-radius: 50%;\n",
              "      cursor: pointer;\n",
              "      display: none;\n",
              "      fill: #1967D2;\n",
              "      height: 32px;\n",
              "      padding: 0 0 0 0;\n",
              "      width: 32px;\n",
              "    }\n",
              "\n",
              "    .colab-df-convert:hover {\n",
              "      background-color: #E2EBFA;\n",
              "      box-shadow: 0px 1px 2px rgba(60, 64, 67, 0.3), 0px 1px 3px 1px rgba(60, 64, 67, 0.15);\n",
              "      fill: #174EA6;\n",
              "    }\n",
              "\n",
              "    [theme=dark] .colab-df-convert {\n",
              "      background-color: #3B4455;\n",
              "      fill: #D2E3FC;\n",
              "    }\n",
              "\n",
              "    [theme=dark] .colab-df-convert:hover {\n",
              "      background-color: #434B5C;\n",
              "      box-shadow: 0px 1px 3px 1px rgba(0, 0, 0, 0.15);\n",
              "      filter: drop-shadow(0px 1px 2px rgba(0, 0, 0, 0.3));\n",
              "      fill: #FFFFFF;\n",
              "    }\n",
              "  </style>\n",
              "\n",
              "      <script>\n",
              "        const buttonEl =\n",
              "          document.querySelector('#df-c71c067f-3a7d-4115-a1d3-7338fa2d305c button.colab-df-convert');\n",
              "        buttonEl.style.display =\n",
              "          google.colab.kernel.accessAllowed ? 'block' : 'none';\n",
              "\n",
              "        async function convertToInteractive(key) {\n",
              "          const element = document.querySelector('#df-c71c067f-3a7d-4115-a1d3-7338fa2d305c');\n",
              "          const dataTable =\n",
              "            await google.colab.kernel.invokeFunction('convertToInteractive',\n",
              "                                                     [key], {});\n",
              "          if (!dataTable) return;\n",
              "\n",
              "          const docLinkHtml = 'Like what you see? Visit the ' +\n",
              "            '<a target=\"_blank\" href=https://colab.research.google.com/notebooks/data_table.ipynb>data table notebook</a>'\n",
              "            + ' to learn more about interactive tables.';\n",
              "          element.innerHTML = '';\n",
              "          dataTable['output_type'] = 'display_data';\n",
              "          await google.colab.output.renderOutput(dataTable, element);\n",
              "          const docLink = document.createElement('div');\n",
              "          docLink.innerHTML = docLinkHtml;\n",
              "          element.appendChild(docLink);\n",
              "        }\n",
              "      </script>\n",
              "    </div>\n",
              "  </div>\n",
              "  "
            ]
          },
          "metadata": {},
          "execution_count": 4
        }
      ]
    },
    {
      "cell_type": "markdown",
      "source": [
        "As colunas acima são compostas. Veja um exemplo para extrair a cotação do Dólar em Reais. "
      ],
      "metadata": {
        "id": "OvvJ0X_ATpIB"
      }
    },
    {
      "cell_type": "code",
      "source": [
        "data[('Adj Close', 'BRL=X')]"
      ],
      "metadata": {
        "colab": {
          "base_uri": "https://localhost:8080/"
        },
        "id": "4J9DCng8PxNQ",
        "outputId": "d50957f0-cfb8-49b9-f045-623364976ac3"
      },
      "execution_count": null,
      "outputs": [
        {
          "output_type": "execute_result",
          "data": {
            "text/plain": [
              "Date\n",
              "2019-01-01    3.8800\n",
              "2019-01-02    3.8799\n",
              "2019-01-03    3.7863\n",
              "2019-01-04    3.7551\n",
              "2019-01-05       NaN\n",
              "               ...  \n",
              "2023-02-24    5.1362\n",
              "2023-02-25       NaN\n",
              "2023-02-26       NaN\n",
              "2023-02-27    5.2078\n",
              "2023-02-28    5.1997\n",
              "Freq: D, Name: (Adj Close, BRL=X), Length: 1520, dtype: float64"
            ]
          },
          "metadata": {},
          "execution_count": 275
        }
      ]
    },
    {
      "cell_type": "code",
      "source": [
        "# Seu código"
      ],
      "metadata": {
        "id": "kCCVQwFEtjSq"
      },
      "execution_count": null,
      "outputs": []
    },
    {
      "cell_type": "code",
      "source": [
        "#@markdown Must be `True`\n",
        "df.shape == (1520, 6)"
      ],
      "metadata": {
        "colab": {
          "base_uri": "https://localhost:8080/"
        },
        "id": "29MBEte_Ufdy",
        "outputId": "59185137-3f83-433b-f9e6-7b68533d48ff",
        "cellView": "form"
      },
      "execution_count": null,
      "outputs": [
        {
          "output_type": "execute_result",
          "data": {
            "text/plain": [
              "True"
            ]
          },
          "metadata": {},
          "execution_count": 277
        }
      ]
    },
    {
      "cell_type": "markdown",
      "source": [
        "(Moodle) Qual a soma de todos os valores do dataframe (exceto o campo de datas)? "
      ],
      "metadata": {
        "id": "oWcyo3XFUAmg"
      }
    },
    {
      "cell_type": "code",
      "source": [
        "# Seu código"
      ],
      "metadata": {
        "id": "HQ_lmPXWtqLi"
      },
      "execution_count": null,
      "outputs": []
    },
    {
      "cell_type": "markdown",
      "source": [
        "## Q2. `df.loc`. \n",
        "\n",
        "Crie para o ticket `BTC-USD` um DataFrame `df_day_gain` como abaixo com a informação de `day_gain`, onde `True` significa um valor maior do ativo no dia seguinte. "
      ],
      "metadata": {
        "id": "8zD3I2J1V0hQ"
      }
    },
    {
      "cell_type": "code",
      "source": [
        "#@markdown\n",
        "pd.read_csv(path + 'lab_yahoo_q2.csv').head()"
      ],
      "metadata": {
        "colab": {
          "base_uri": "https://localhost:8080/",
          "height": 206
        },
        "outputId": "18a92864-3842-41cc-f0c6-f1150220d9b2",
        "cellView": "form",
        "id": "5dd0SB9zX1vP"
      },
      "execution_count": null,
      "outputs": [
        {
          "output_type": "execute_result",
          "data": {
            "text/plain": [
              "         Date  day_gain\n",
              "0  2019-01-02      True\n",
              "1  2019-01-03     False\n",
              "2  2019-01-04      True\n",
              "3  2019-01-05     False\n",
              "4  2019-01-06      True"
            ],
            "text/html": [
              "\n",
              "  <div id=\"df-d96185f6-03e7-4e04-903b-c74d7d5e848d\">\n",
              "    <div class=\"colab-df-container\">\n",
              "      <div>\n",
              "<style scoped>\n",
              "    .dataframe tbody tr th:only-of-type {\n",
              "        vertical-align: middle;\n",
              "    }\n",
              "\n",
              "    .dataframe tbody tr th {\n",
              "        vertical-align: top;\n",
              "    }\n",
              "\n",
              "    .dataframe thead th {\n",
              "        text-align: right;\n",
              "    }\n",
              "</style>\n",
              "<table border=\"1\" class=\"dataframe\">\n",
              "  <thead>\n",
              "    <tr style=\"text-align: right;\">\n",
              "      <th></th>\n",
              "      <th>Date</th>\n",
              "      <th>day_gain</th>\n",
              "    </tr>\n",
              "  </thead>\n",
              "  <tbody>\n",
              "    <tr>\n",
              "      <th>0</th>\n",
              "      <td>2019-01-02</td>\n",
              "      <td>True</td>\n",
              "    </tr>\n",
              "    <tr>\n",
              "      <th>1</th>\n",
              "      <td>2019-01-03</td>\n",
              "      <td>False</td>\n",
              "    </tr>\n",
              "    <tr>\n",
              "      <th>2</th>\n",
              "      <td>2019-01-04</td>\n",
              "      <td>True</td>\n",
              "    </tr>\n",
              "    <tr>\n",
              "      <th>3</th>\n",
              "      <td>2019-01-05</td>\n",
              "      <td>False</td>\n",
              "    </tr>\n",
              "    <tr>\n",
              "      <th>4</th>\n",
              "      <td>2019-01-06</td>\n",
              "      <td>True</td>\n",
              "    </tr>\n",
              "  </tbody>\n",
              "</table>\n",
              "</div>\n",
              "      <button class=\"colab-df-convert\" onclick=\"convertToInteractive('df-d96185f6-03e7-4e04-903b-c74d7d5e848d')\"\n",
              "              title=\"Convert this dataframe to an interactive table.\"\n",
              "              style=\"display:none;\">\n",
              "        \n",
              "  <svg xmlns=\"http://www.w3.org/2000/svg\" height=\"24px\"viewBox=\"0 0 24 24\"\n",
              "       width=\"24px\">\n",
              "    <path d=\"M0 0h24v24H0V0z\" fill=\"none\"/>\n",
              "    <path d=\"M18.56 5.44l.94 2.06.94-2.06 2.06-.94-2.06-.94-.94-2.06-.94 2.06-2.06.94zm-11 1L8.5 8.5l.94-2.06 2.06-.94-2.06-.94L8.5 2.5l-.94 2.06-2.06.94zm10 10l.94 2.06.94-2.06 2.06-.94-2.06-.94-.94-2.06-.94 2.06-2.06.94z\"/><path d=\"M17.41 7.96l-1.37-1.37c-.4-.4-.92-.59-1.43-.59-.52 0-1.04.2-1.43.59L10.3 9.45l-7.72 7.72c-.78.78-.78 2.05 0 2.83L4 21.41c.39.39.9.59 1.41.59.51 0 1.02-.2 1.41-.59l7.78-7.78 2.81-2.81c.8-.78.8-2.07 0-2.86zM5.41 20L4 18.59l7.72-7.72 1.47 1.35L5.41 20z\"/>\n",
              "  </svg>\n",
              "      </button>\n",
              "      \n",
              "  <style>\n",
              "    .colab-df-container {\n",
              "      display:flex;\n",
              "      flex-wrap:wrap;\n",
              "      gap: 12px;\n",
              "    }\n",
              "\n",
              "    .colab-df-convert {\n",
              "      background-color: #E8F0FE;\n",
              "      border: none;\n",
              "      border-radius: 50%;\n",
              "      cursor: pointer;\n",
              "      display: none;\n",
              "      fill: #1967D2;\n",
              "      height: 32px;\n",
              "      padding: 0 0 0 0;\n",
              "      width: 32px;\n",
              "    }\n",
              "\n",
              "    .colab-df-convert:hover {\n",
              "      background-color: #E2EBFA;\n",
              "      box-shadow: 0px 1px 2px rgba(60, 64, 67, 0.3), 0px 1px 3px 1px rgba(60, 64, 67, 0.15);\n",
              "      fill: #174EA6;\n",
              "    }\n",
              "\n",
              "    [theme=dark] .colab-df-convert {\n",
              "      background-color: #3B4455;\n",
              "      fill: #D2E3FC;\n",
              "    }\n",
              "\n",
              "    [theme=dark] .colab-df-convert:hover {\n",
              "      background-color: #434B5C;\n",
              "      box-shadow: 0px 1px 3px 1px rgba(0, 0, 0, 0.15);\n",
              "      filter: drop-shadow(0px 1px 2px rgba(0, 0, 0, 0.3));\n",
              "      fill: #FFFFFF;\n",
              "    }\n",
              "  </style>\n",
              "\n",
              "      <script>\n",
              "        const buttonEl =\n",
              "          document.querySelector('#df-d96185f6-03e7-4e04-903b-c74d7d5e848d button.colab-df-convert');\n",
              "        buttonEl.style.display =\n",
              "          google.colab.kernel.accessAllowed ? 'block' : 'none';\n",
              "\n",
              "        async function convertToInteractive(key) {\n",
              "          const element = document.querySelector('#df-d96185f6-03e7-4e04-903b-c74d7d5e848d');\n",
              "          const dataTable =\n",
              "            await google.colab.kernel.invokeFunction('convertToInteractive',\n",
              "                                                     [key], {});\n",
              "          if (!dataTable) return;\n",
              "\n",
              "          const docLinkHtml = 'Like what you see? Visit the ' +\n",
              "            '<a target=\"_blank\" href=https://colab.research.google.com/notebooks/data_table.ipynb>data table notebook</a>'\n",
              "            + ' to learn more about interactive tables.';\n",
              "          element.innerHTML = '';\n",
              "          dataTable['output_type'] = 'display_data';\n",
              "          await google.colab.output.renderOutput(dataTable, element);\n",
              "          const docLink = document.createElement('div');\n",
              "          docLink.innerHTML = docLinkHtml;\n",
              "          element.appendChild(docLink);\n",
              "        }\n",
              "      </script>\n",
              "    </div>\n",
              "  </div>\n",
              "  "
            ]
          },
          "metadata": {},
          "execution_count": 5
        }
      ]
    },
    {
      "cell_type": "code",
      "source": [
        "# Seu código"
      ],
      "metadata": {
        "id": "12gX5LRUtg8j"
      },
      "execution_count": null,
      "outputs": []
    },
    {
      "cell_type": "code",
      "source": [
        "#@markdown Must be `True`\n",
        "len(df_day_gain) == 1519  "
      ],
      "metadata": {
        "colab": {
          "base_uri": "https://localhost:8080/"
        },
        "id": "LptA-DWMOY7p",
        "outputId": "c39f2d9e-4dd4-42e2-c131-2f21b509f631",
        "cellView": "form"
      },
      "execution_count": null,
      "outputs": [
        {
          "output_type": "execute_result",
          "data": {
            "text/plain": [
              "True"
            ]
          },
          "metadata": {},
          "execution_count": 281
        }
      ]
    },
    {
      "cell_type": "markdown",
      "source": [
        "(Moodle) Qual a quantidade de `day_gain`(s) `True` e `False` encontradas para o ativo  `BTC-US`? "
      ],
      "metadata": {
        "id": "uupDFQfbZLKg"
      }
    },
    {
      "cell_type": "code",
      "source": [
        "# Seu código"
      ],
      "metadata": {
        "id": "vTssmaCHtnNU"
      },
      "execution_count": null,
      "outputs": []
    },
    {
      "cell_type": "markdown",
      "source": [
        "## Q3. `df.melt()`"
      ],
      "metadata": {
        "id": "ZiaWgOsNalWp"
      }
    },
    {
      "cell_type": "markdown",
      "source": [
        "\n",
        "<img src=\"https://pandas.pydata.org/docs/_images/reshaping_melt.png\" width=800, align=\"right\">\n",
        "\n"
      ],
      "metadata": {
        "id": "8CNYGDXOq3-L"
      }
    },
    {
      "cell_type": "markdown",
      "source": [
        "Empregue o método `melt()` do `Pandas` para transformar o DataFrame `df` com abaixo.\n",
        "\n",
        "Dica: use `pd.to_datetime(df.Date).dt.day_name()` para gerar o nome dos dias da semana."
      ],
      "metadata": {
        "id": "UX7c1LQVa-C5"
      }
    },
    {
      "cell_type": "code",
      "source": [
        "#@markdown\n",
        "pd.read_csv(path + 'lab_yahoo_q3.csv').head()"
      ],
      "metadata": {
        "colab": {
          "base_uri": "https://localhost:8080/",
          "height": 206
        },
        "outputId": "d5437f8a-c435-4119-a4a3-c80721e7a5b5",
        "id": "-GxXDdDya67p",
        "cellView": "form"
      },
      "execution_count": null,
      "outputs": [
        {
          "output_type": "execute_result",
          "data": {
            "text/plain": [
              "         Date Ticket  Adj Close day_of_week\n",
              "0  2019-01-01  BRL=X     3.8800     Tuesday\n",
              "1  2019-01-02  BRL=X     3.8799   Wednesday\n",
              "2  2019-01-03  BRL=X     3.7863    Thursday\n",
              "3  2019-01-04  BRL=X     3.7551      Friday\n",
              "4  2019-01-05  BRL=X        NaN    Saturday"
            ],
            "text/html": [
              "\n",
              "  <div id=\"df-f8f5dabd-84ff-43f6-86a5-45ba293c3c22\">\n",
              "    <div class=\"colab-df-container\">\n",
              "      <div>\n",
              "<style scoped>\n",
              "    .dataframe tbody tr th:only-of-type {\n",
              "        vertical-align: middle;\n",
              "    }\n",
              "\n",
              "    .dataframe tbody tr th {\n",
              "        vertical-align: top;\n",
              "    }\n",
              "\n",
              "    .dataframe thead th {\n",
              "        text-align: right;\n",
              "    }\n",
              "</style>\n",
              "<table border=\"1\" class=\"dataframe\">\n",
              "  <thead>\n",
              "    <tr style=\"text-align: right;\">\n",
              "      <th></th>\n",
              "      <th>Date</th>\n",
              "      <th>Ticket</th>\n",
              "      <th>Adj Close</th>\n",
              "      <th>day_of_week</th>\n",
              "    </tr>\n",
              "  </thead>\n",
              "  <tbody>\n",
              "    <tr>\n",
              "      <th>0</th>\n",
              "      <td>2019-01-01</td>\n",
              "      <td>BRL=X</td>\n",
              "      <td>3.8800</td>\n",
              "      <td>Tuesday</td>\n",
              "    </tr>\n",
              "    <tr>\n",
              "      <th>1</th>\n",
              "      <td>2019-01-02</td>\n",
              "      <td>BRL=X</td>\n",
              "      <td>3.8799</td>\n",
              "      <td>Wednesday</td>\n",
              "    </tr>\n",
              "    <tr>\n",
              "      <th>2</th>\n",
              "      <td>2019-01-03</td>\n",
              "      <td>BRL=X</td>\n",
              "      <td>3.7863</td>\n",
              "      <td>Thursday</td>\n",
              "    </tr>\n",
              "    <tr>\n",
              "      <th>3</th>\n",
              "      <td>2019-01-04</td>\n",
              "      <td>BRL=X</td>\n",
              "      <td>3.7551</td>\n",
              "      <td>Friday</td>\n",
              "    </tr>\n",
              "    <tr>\n",
              "      <th>4</th>\n",
              "      <td>2019-01-05</td>\n",
              "      <td>BRL=X</td>\n",
              "      <td>NaN</td>\n",
              "      <td>Saturday</td>\n",
              "    </tr>\n",
              "  </tbody>\n",
              "</table>\n",
              "</div>\n",
              "      <button class=\"colab-df-convert\" onclick=\"convertToInteractive('df-f8f5dabd-84ff-43f6-86a5-45ba293c3c22')\"\n",
              "              title=\"Convert this dataframe to an interactive table.\"\n",
              "              style=\"display:none;\">\n",
              "        \n",
              "  <svg xmlns=\"http://www.w3.org/2000/svg\" height=\"24px\"viewBox=\"0 0 24 24\"\n",
              "       width=\"24px\">\n",
              "    <path d=\"M0 0h24v24H0V0z\" fill=\"none\"/>\n",
              "    <path d=\"M18.56 5.44l.94 2.06.94-2.06 2.06-.94-2.06-.94-.94-2.06-.94 2.06-2.06.94zm-11 1L8.5 8.5l.94-2.06 2.06-.94-2.06-.94L8.5 2.5l-.94 2.06-2.06.94zm10 10l.94 2.06.94-2.06 2.06-.94-2.06-.94-.94-2.06-.94 2.06-2.06.94z\"/><path d=\"M17.41 7.96l-1.37-1.37c-.4-.4-.92-.59-1.43-.59-.52 0-1.04.2-1.43.59L10.3 9.45l-7.72 7.72c-.78.78-.78 2.05 0 2.83L4 21.41c.39.39.9.59 1.41.59.51 0 1.02-.2 1.41-.59l7.78-7.78 2.81-2.81c.8-.78.8-2.07 0-2.86zM5.41 20L4 18.59l7.72-7.72 1.47 1.35L5.41 20z\"/>\n",
              "  </svg>\n",
              "      </button>\n",
              "      \n",
              "  <style>\n",
              "    .colab-df-container {\n",
              "      display:flex;\n",
              "      flex-wrap:wrap;\n",
              "      gap: 12px;\n",
              "    }\n",
              "\n",
              "    .colab-df-convert {\n",
              "      background-color: #E8F0FE;\n",
              "      border: none;\n",
              "      border-radius: 50%;\n",
              "      cursor: pointer;\n",
              "      display: none;\n",
              "      fill: #1967D2;\n",
              "      height: 32px;\n",
              "      padding: 0 0 0 0;\n",
              "      width: 32px;\n",
              "    }\n",
              "\n",
              "    .colab-df-convert:hover {\n",
              "      background-color: #E2EBFA;\n",
              "      box-shadow: 0px 1px 2px rgba(60, 64, 67, 0.3), 0px 1px 3px 1px rgba(60, 64, 67, 0.15);\n",
              "      fill: #174EA6;\n",
              "    }\n",
              "\n",
              "    [theme=dark] .colab-df-convert {\n",
              "      background-color: #3B4455;\n",
              "      fill: #D2E3FC;\n",
              "    }\n",
              "\n",
              "    [theme=dark] .colab-df-convert:hover {\n",
              "      background-color: #434B5C;\n",
              "      box-shadow: 0px 1px 3px 1px rgba(0, 0, 0, 0.15);\n",
              "      filter: drop-shadow(0px 1px 2px rgba(0, 0, 0, 0.3));\n",
              "      fill: #FFFFFF;\n",
              "    }\n",
              "  </style>\n",
              "\n",
              "      <script>\n",
              "        const buttonEl =\n",
              "          document.querySelector('#df-f8f5dabd-84ff-43f6-86a5-45ba293c3c22 button.colab-df-convert');\n",
              "        buttonEl.style.display =\n",
              "          google.colab.kernel.accessAllowed ? 'block' : 'none';\n",
              "\n",
              "        async function convertToInteractive(key) {\n",
              "          const element = document.querySelector('#df-f8f5dabd-84ff-43f6-86a5-45ba293c3c22');\n",
              "          const dataTable =\n",
              "            await google.colab.kernel.invokeFunction('convertToInteractive',\n",
              "                                                     [key], {});\n",
              "          if (!dataTable) return;\n",
              "\n",
              "          const docLinkHtml = 'Like what you see? Visit the ' +\n",
              "            '<a target=\"_blank\" href=https://colab.research.google.com/notebooks/data_table.ipynb>data table notebook</a>'\n",
              "            + ' to learn more about interactive tables.';\n",
              "          element.innerHTML = '';\n",
              "          dataTable['output_type'] = 'display_data';\n",
              "          await google.colab.output.renderOutput(dataTable, element);\n",
              "          const docLink = document.createElement('div');\n",
              "          docLink.innerHTML = docLinkHtml;\n",
              "          element.appendChild(docLink);\n",
              "        }\n",
              "      </script>\n",
              "    </div>\n",
              "  </div>\n",
              "  "
            ]
          },
          "metadata": {},
          "execution_count": 6
        }
      ]
    },
    {
      "cell_type": "code",
      "execution_count": null,
      "metadata": {
        "id": "7ezOK6QNzVYY"
      },
      "outputs": [],
      "source": [
        "# Seu código"
      ]
    },
    {
      "cell_type": "code",
      "source": [
        "#@markdown Must be True\n",
        "len(df[ df.day_of_week == 'Tuesday' ]) == 1090"
      ],
      "metadata": {
        "id": "pv8kP21SdEFJ",
        "cellView": "form"
      },
      "execution_count": null,
      "outputs": []
    },
    {
      "cell_type": "markdown",
      "source": [
        "(Moodle) Qual o maior valor do Real às sextas-feiras (`Friday`) dentro do perído e em que data isso ocorreu? (Atenção, a base contém cotações do dólar)."
      ],
      "metadata": {
        "id": "nIDqWqAoeJNK"
      }
    },
    {
      "cell_type": "code",
      "source": [
        "# Seu código"
      ],
      "metadata": {
        "id": "s0psKyrNfO0J"
      },
      "execution_count": null,
      "outputs": []
    },
    {
      "cell_type": "markdown",
      "source": [
        "## Q4. `df.pivot()`"
      ],
      "metadata": {
        "id": "tiG9AlrnfsTG"
      }
    },
    {
      "cell_type": "markdown",
      "source": [
        "<img src=\"https://pandas.pydata.org/docs/_images/reshaping_pivot.png\" width=800, align=\"right\">"
      ],
      "metadata": {
        "id": "R4cAb5ZurSLc"
      }
    },
    {
      "cell_type": "markdown",
      "source": [
        "Crie um DataFrame `df_Friday`, para ter o seguinte formato, somente com os valores de fechamento da semana (`Friday`) dos ativos.\n",
        "\n",
        "Dica: \n",
        "1. Selecione somente os dias desajados\n",
        "2. Aplique o `df.pivot()`\n",
        "3. Faça o `reset_index()`"
      ],
      "metadata": {
        "id": "LfQMStb7fsTG"
      }
    },
    {
      "cell_type": "code",
      "source": [
        "#@markdown\n",
        "pd.read_csv(path + 'lab_yahoo_q4.csv').head()"
      ],
      "metadata": {
        "colab": {
          "base_uri": "https://localhost:8080/",
          "height": 206
        },
        "outputId": "4670ddd9-dcf5-4fd5-9b3d-ed510d275212",
        "cellView": "form",
        "id": "jW1DHIr-fsTH"
      },
      "execution_count": null,
      "outputs": [
        {
          "output_type": "execute_result",
          "data": {
            "text/plain": [
              "         Date   BRL=X      BTC-USD   ITUB4.SA   PETR4.SA    ^BVSP\n",
              "0  2019-01-04  3.7551  3857.717529  31.744371  11.363641  91841.0\n",
              "1  2019-01-11  3.7079  3687.365479  32.276577  11.487758  93658.0\n",
              "2  2019-01-18  3.7489  3657.839355  32.328098  11.676232  96097.0\n",
              "3  2019-01-25  3.7698  3599.765869        NaN        NaN      NaN\n",
              "4  2019-02-01  3.6428  3487.945312  33.328152  11.860109  97861.0"
            ],
            "text/html": [
              "\n",
              "  <div id=\"df-bf4a6877-9d05-47dc-8e97-6c3ed4f1423b\">\n",
              "    <div class=\"colab-df-container\">\n",
              "      <div>\n",
              "<style scoped>\n",
              "    .dataframe tbody tr th:only-of-type {\n",
              "        vertical-align: middle;\n",
              "    }\n",
              "\n",
              "    .dataframe tbody tr th {\n",
              "        vertical-align: top;\n",
              "    }\n",
              "\n",
              "    .dataframe thead th {\n",
              "        text-align: right;\n",
              "    }\n",
              "</style>\n",
              "<table border=\"1\" class=\"dataframe\">\n",
              "  <thead>\n",
              "    <tr style=\"text-align: right;\">\n",
              "      <th></th>\n",
              "      <th>Date</th>\n",
              "      <th>BRL=X</th>\n",
              "      <th>BTC-USD</th>\n",
              "      <th>ITUB4.SA</th>\n",
              "      <th>PETR4.SA</th>\n",
              "      <th>^BVSP</th>\n",
              "    </tr>\n",
              "  </thead>\n",
              "  <tbody>\n",
              "    <tr>\n",
              "      <th>0</th>\n",
              "      <td>2019-01-04</td>\n",
              "      <td>3.7551</td>\n",
              "      <td>3857.717529</td>\n",
              "      <td>31.744371</td>\n",
              "      <td>11.363641</td>\n",
              "      <td>91841.0</td>\n",
              "    </tr>\n",
              "    <tr>\n",
              "      <th>1</th>\n",
              "      <td>2019-01-11</td>\n",
              "      <td>3.7079</td>\n",
              "      <td>3687.365479</td>\n",
              "      <td>32.276577</td>\n",
              "      <td>11.487758</td>\n",
              "      <td>93658.0</td>\n",
              "    </tr>\n",
              "    <tr>\n",
              "      <th>2</th>\n",
              "      <td>2019-01-18</td>\n",
              "      <td>3.7489</td>\n",
              "      <td>3657.839355</td>\n",
              "      <td>32.328098</td>\n",
              "      <td>11.676232</td>\n",
              "      <td>96097.0</td>\n",
              "    </tr>\n",
              "    <tr>\n",
              "      <th>3</th>\n",
              "      <td>2019-01-25</td>\n",
              "      <td>3.7698</td>\n",
              "      <td>3599.765869</td>\n",
              "      <td>NaN</td>\n",
              "      <td>NaN</td>\n",
              "      <td>NaN</td>\n",
              "    </tr>\n",
              "    <tr>\n",
              "      <th>4</th>\n",
              "      <td>2019-02-01</td>\n",
              "      <td>3.6428</td>\n",
              "      <td>3487.945312</td>\n",
              "      <td>33.328152</td>\n",
              "      <td>11.860109</td>\n",
              "      <td>97861.0</td>\n",
              "    </tr>\n",
              "  </tbody>\n",
              "</table>\n",
              "</div>\n",
              "      <button class=\"colab-df-convert\" onclick=\"convertToInteractive('df-bf4a6877-9d05-47dc-8e97-6c3ed4f1423b')\"\n",
              "              title=\"Convert this dataframe to an interactive table.\"\n",
              "              style=\"display:none;\">\n",
              "        \n",
              "  <svg xmlns=\"http://www.w3.org/2000/svg\" height=\"24px\"viewBox=\"0 0 24 24\"\n",
              "       width=\"24px\">\n",
              "    <path d=\"M0 0h24v24H0V0z\" fill=\"none\"/>\n",
              "    <path d=\"M18.56 5.44l.94 2.06.94-2.06 2.06-.94-2.06-.94-.94-2.06-.94 2.06-2.06.94zm-11 1L8.5 8.5l.94-2.06 2.06-.94-2.06-.94L8.5 2.5l-.94 2.06-2.06.94zm10 10l.94 2.06.94-2.06 2.06-.94-2.06-.94-.94-2.06-.94 2.06-2.06.94z\"/><path d=\"M17.41 7.96l-1.37-1.37c-.4-.4-.92-.59-1.43-.59-.52 0-1.04.2-1.43.59L10.3 9.45l-7.72 7.72c-.78.78-.78 2.05 0 2.83L4 21.41c.39.39.9.59 1.41.59.51 0 1.02-.2 1.41-.59l7.78-7.78 2.81-2.81c.8-.78.8-2.07 0-2.86zM5.41 20L4 18.59l7.72-7.72 1.47 1.35L5.41 20z\"/>\n",
              "  </svg>\n",
              "      </button>\n",
              "      \n",
              "  <style>\n",
              "    .colab-df-container {\n",
              "      display:flex;\n",
              "      flex-wrap:wrap;\n",
              "      gap: 12px;\n",
              "    }\n",
              "\n",
              "    .colab-df-convert {\n",
              "      background-color: #E8F0FE;\n",
              "      border: none;\n",
              "      border-radius: 50%;\n",
              "      cursor: pointer;\n",
              "      display: none;\n",
              "      fill: #1967D2;\n",
              "      height: 32px;\n",
              "      padding: 0 0 0 0;\n",
              "      width: 32px;\n",
              "    }\n",
              "\n",
              "    .colab-df-convert:hover {\n",
              "      background-color: #E2EBFA;\n",
              "      box-shadow: 0px 1px 2px rgba(60, 64, 67, 0.3), 0px 1px 3px 1px rgba(60, 64, 67, 0.15);\n",
              "      fill: #174EA6;\n",
              "    }\n",
              "\n",
              "    [theme=dark] .colab-df-convert {\n",
              "      background-color: #3B4455;\n",
              "      fill: #D2E3FC;\n",
              "    }\n",
              "\n",
              "    [theme=dark] .colab-df-convert:hover {\n",
              "      background-color: #434B5C;\n",
              "      box-shadow: 0px 1px 3px 1px rgba(0, 0, 0, 0.15);\n",
              "      filter: drop-shadow(0px 1px 2px rgba(0, 0, 0, 0.3));\n",
              "      fill: #FFFFFF;\n",
              "    }\n",
              "  </style>\n",
              "\n",
              "      <script>\n",
              "        const buttonEl =\n",
              "          document.querySelector('#df-bf4a6877-9d05-47dc-8e97-6c3ed4f1423b button.colab-df-convert');\n",
              "        buttonEl.style.display =\n",
              "          google.colab.kernel.accessAllowed ? 'block' : 'none';\n",
              "\n",
              "        async function convertToInteractive(key) {\n",
              "          const element = document.querySelector('#df-bf4a6877-9d05-47dc-8e97-6c3ed4f1423b');\n",
              "          const dataTable =\n",
              "            await google.colab.kernel.invokeFunction('convertToInteractive',\n",
              "                                                     [key], {});\n",
              "          if (!dataTable) return;\n",
              "\n",
              "          const docLinkHtml = 'Like what you see? Visit the ' +\n",
              "            '<a target=\"_blank\" href=https://colab.research.google.com/notebooks/data_table.ipynb>data table notebook</a>'\n",
              "            + ' to learn more about interactive tables.';\n",
              "          element.innerHTML = '';\n",
              "          dataTable['output_type'] = 'display_data';\n",
              "          await google.colab.output.renderOutput(dataTable, element);\n",
              "          const docLink = document.createElement('div');\n",
              "          docLink.innerHTML = docLinkHtml;\n",
              "          element.appendChild(docLink);\n",
              "        }\n",
              "      </script>\n",
              "    </div>\n",
              "  </div>\n",
              "  "
            ]
          },
          "metadata": {},
          "execution_count": 10
        }
      ]
    },
    {
      "cell_type": "code",
      "source": [
        "# Seu código"
      ],
      "metadata": {
        "id": "KqJHNjz2gYSC"
      },
      "execution_count": null,
      "outputs": []
    },
    {
      "cell_type": "code",
      "source": [
        "#@markdown Must be True\n",
        "int(df_Friday['BRL=X'].sum()) == 1067"
      ],
      "metadata": {
        "outputId": "a23f5f21-3ed8-4d7e-ae8c-4864e9752a4f",
        "colab": {
          "base_uri": "https://localhost:8080/"
        },
        "cellView": "form",
        "id": "PfCiJbCifsTH"
      },
      "execution_count": null,
      "outputs": [
        {
          "output_type": "execute_result",
          "data": {
            "text/plain": [
              "True"
            ]
          },
          "metadata": {},
          "execution_count": 299
        }
      ]
    },
    {
      "cell_type": "markdown",
      "source": [
        "(Moodle) Qual a média da cotação do dólar nas últimas 4 sextas-feiras da base? "
      ],
      "metadata": {
        "id": "vvqmtf3ffsTH"
      }
    },
    {
      "cell_type": "code",
      "source": [
        "# Seu código"
      ],
      "metadata": {
        "id": "5ZaQJsLpfsTI"
      },
      "execution_count": null,
      "outputs": []
    },
    {
      "cell_type": "markdown",
      "source": [
        "## Q5. Transformações dos dados.\n",
        "\n",
        "Converta os valores *cabíveis* do DataFrame anterior para reais e, em seguida, normalize o valores de cada `Ticket`.\n",
        "\n",
        "Dica: norma `minmax`, divida pelo máximo de cada `Ticket`). \n",
        "\n"
      ],
      "metadata": {
        "id": "q5nTtkXRjRpn"
      }
    },
    {
      "cell_type": "code",
      "source": [
        "# Seu código"
      ],
      "metadata": {
        "id": "qatO_gv9kQ-j"
      },
      "execution_count": null,
      "outputs": []
    },
    {
      "cell_type": "code",
      "source": [
        "#@markdown Must be True\n",
        "all(df_Friday.max()[1::] == [1,1,1,1,1])"
      ],
      "metadata": {
        "outputId": "75c567c1-11a4-4e4c-eea0-0be41f663f60",
        "colab": {
          "base_uri": "https://localhost:8080/"
        },
        "cellView": "form",
        "id": "O1ZFPJLjjRpo"
      },
      "execution_count": null,
      "outputs": [
        {
          "output_type": "execute_result",
          "data": {
            "text/plain": [
              "True"
            ]
          },
          "metadata": {},
          "execution_count": 311
        }
      ]
    },
    {
      "cell_type": "markdown",
      "source": [
        "Execute o gráfico a seguir. Seu DataFrame deve se chamar `df_Friday`."
      ],
      "metadata": {
        "id": "NPskyn6MojDD"
      }
    },
    {
      "cell_type": "code",
      "source": [
        "import matplotlib.pyplot as plt\n",
        "%matplotlib inline\n",
        "\n",
        "plt.figure(figsize=(15,4))\n",
        "\n",
        "df_Friday = df_Friday.set_index('Date')\n",
        "\n",
        "for c in ['BRL=X', 'BTC-USD', 'ITUB4.SA', 'PETR4.SA', '^BVSP']:\n",
        "  plt.plot(df_Friday[c], label=c)\n",
        "\n",
        "plt.title('Friday Adj Close', fontsize=14, weight='bold')\n",
        "plt.xlabel('Date')\n",
        "plt.ylabel('Normalized Values')\n",
        "plt.legend()\n",
        "\n",
        "plt.show()"
      ],
      "metadata": {
        "id": "a9GRsJzLjRpo"
      },
      "execution_count": null,
      "outputs": []
    },
    {
      "cell_type": "markdown",
      "source": [
        "(Moodle) Com base no gráfico produzido, qual ativo apresentou crescimento mais consistente no período? "
      ],
      "metadata": {
        "id": "sASveJp_jRpo"
      }
    }
  ],
  "metadata": {
    "celltoolbar": "Edit Metadata",
    "colab": {
      "provenance": [],
      "include_colab_link": true
    },
    "kernelspec": {
      "display_name": "Python 3",
      "language": "python",
      "name": "python3"
    },
    "language_info": {
      "codemirror_mode": {
        "name": "ipython",
        "version": 3
      },
      "file_extension": ".py",
      "mimetype": "text/x-python",
      "name": "python",
      "nbconvert_exporter": "python",
      "pygments_lexer": "ipython3",
      "version": "3.6.13"
    }
  },
  "nbformat": 4,
  "nbformat_minor": 0
}