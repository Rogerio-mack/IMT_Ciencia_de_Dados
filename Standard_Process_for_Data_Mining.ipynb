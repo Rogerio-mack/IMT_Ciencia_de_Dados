{
  "nbformat": 4,
  "nbformat_minor": 0,
  "metadata": {
    "kernelspec": {
      "display_name": "Python 3",
      "language": "python",
      "name": "python3"
    },
    "language_info": {
      "codemirror_mode": {
        "name": "ipython",
        "version": 3
      },
      "file_extension": ".py",
      "mimetype": "text/x-python",
      "name": "python",
      "nbconvert_exporter": "python",
      "pygments_lexer": "ipython3",
      "version": "3.7.4"
    },
    "colab": {
      "provenance": [],
      "include_colab_link": true
    }
  },
  "cells": [
    {
      "cell_type": "markdown",
      "metadata": {
        "id": "view-in-github",
        "colab_type": "text"
      },
      "source": [
        "<a href=\"https://colab.research.google.com/github/Rogerio-mack/IMT_Ciencia_de_Dados/blob/main/Standard_Process_for_Data_Mining.ipynb\" target=\"_parent\"><img src=\"https://colab.research.google.com/assets/colab-badge.svg\" alt=\"Open In Colab\"/></a>"
      ]
    },
    {
      "cell_type": "markdown",
      "metadata": {
        "id": "80CF3Eq9EXDW"
      },
      "source": [
        "<head>\n",
        "  <meta name=\"author\" content=\"Rogério de Oliveira\">\n",
        "  <meta institution=\"author\" content=\"ITM\">\n",
        "</head>\n",
        "\n",
        "<img src=\"https://maua.br/images/selo-60-anos-maua.svg\" width=300, align=\"right\">\n",
        "<!-- <h1 align=left><font size = 6, style=\"color:rgb(200,0,0)\"> optional title </font></h1> -->\n"
      ]
    },
    {
      "cell_type": "markdown",
      "metadata": {
        "id": "npaLwEVBG0w8"
      },
      "source": [
        "# **O Processo de Ciência de Dados**\n",
        "---\n",
        "Nesta aula vamos aprender:\n",
        "- O que é um Processo de Ciência de Dados\n",
        "- Entender o modelo de processo CRISP-DM, o ainda mais empregado pela indústria\n",
        "- Conhecer alternativas ao processo CRISP-DM\n",
        "\n",
        "\n",
        "Extrair conhecimento útil dos dados para resolver problemas práticos de seus negócios não é simples e, antes de você entender e aprender a construir modelos de Análise e Aprendizado de Máquina, é importante que você conheça padrões de processo empregados pela indústria para construção desses modelos.\n",
        "\n",
        "Esse processo pode envolver uma série de técnicas que vão da estatística ao uso de técnicas eficientes de armazenamento e processamento e muitos outros recursos para que se possa aplicar modelos de aprendizado computacional. Para lidar e organizar a  complexidade desse processo, um processo de fases é geralmente aplicado. O **CRISP-DM, Cross Industry Standard Process for Data Mining** (Processo Padrão Inter-Indústrias para Mineração de Dados) é um processo de fases bastante aceito na indústria para representar um ciclo completo de Ciência e Análise de Dados, incluido a aplicação de modelos de Aprendizado de Máquina. Esse processo tem mais de duas décadas e, de lá para cá surgiram algumas variantes desse processo, mas que de fato mudam bastante pouco o modelo CRISP e a essência do processo CRISP-DM é em geral preservada e ainda é o mais comumente empregado. "
      ]
    },
    {
      "cell_type": "markdown",
      "source": [
        "<img src=\"https://github.com/Rogerio-mack/IMT_Ciencia_de_Dados/raw/main/images/dspm-poll-2020-10.png\" width=500, align=\"center\">\n",
        "\n",
        "<br>\n",
        "<br>\n",
        "\n",
        "<small><b>Fonte: https://www.datascience-pm.com/crisp-dm-still-most-popular/"
      ],
      "metadata": {
        "id": "vEsDUjP771zv"
      }
    },
    {
      "cell_type": "markdown",
      "source": [
        "O ciclo de vida CRISP-DM de um projeto de ciência de dados consiste em seis fases (figura abaixo). A sequência das fases não é rígida e mover-se para frente e para trás entre as fases é normalmente necessário. O resultado de cada fase determina qual fase, ou tarefa particular de uma fase, tem que ser executada próximo. As setas indicam os mais importantes e frequentes dependências entre as fases. O círculo externo simboliza a natureza cíclica da própria mineração de dados:  projeto não termina com a solução implantada, e as lições aprendidas durante o processo devem desencadear novos ciclos com questões de negócios mais focadas. "
      ],
      "metadata": {
        "id": "AUneftTi9PiX"
      }
    },
    {
      "cell_type": "markdown",
      "metadata": {
        "id": "4qg_W7AKzjZE"
      },
      "source": [
        "<br>\n",
        "<br>\n",
        "<img src=\"https://github.com/Rogerio-mack/IMT_Ciencia_de_Dados/raw/main/images/CRISPDM1.png\"  width=350, align=\"center\">\n",
        "<br>\n",
        "<br>\n",
        "\n",
        "<small><b>Fases do CRISP-DM. Fonte: CRISP-DM 1.0."
      ]
    },
    {
      "cell_type": "markdown",
      "metadata": {
        "id": "mkikcHbi26Uo"
      },
      "source": [
        "# As Fases do CRISP-DM\n",
        "\n",
        "As fases do modelo de referência CRISP-DM encontram-se resumidas no quadro abaixo.\n",
        "\n",
        "\n",
        "<br>\n",
        "<br>\n",
        "<img src=\"https://github.com/Rogerio-mack/IMT_Ciencia_de_Dados/raw/main/images/crispvg.png\"  width=900, align=\"center\">\n",
        "<br>\n",
        "<br>\n",
        "\n",
        "\n",
        "Você pode também querer consultar a documentação original desse modelo de referência. \n",
        "\n",
        "* [CRISP Visual Guide](https://github.com/Rogerio-mack/IMT_Ciencia_de_Dados/blob/main/others/crisp_visualguide.pdf) | [download](https://github.com/Rogerio-mack/IMT_Ciencia_de_Dados/raw/main/others/crisp_visualguide.pdf)\n",
        "\n",
        "* [CRISP DM 1.0](https://github.com/Rogerio-mack/IMT_Ciencia_de_Dados/blob/main/others/crisp-dm.pdf) | [download](https://github.com/Rogerio-mack/IMT_Ciencia_de_Dados/raw/main/others/crisp-dm.pdf)\n",
        "\n",
        "De qualquer modo, você encontra a seguir, uma descrição resumida de cada uma dessas fases. \n",
        "\n",
        "## Entendimento do negócio \n",
        "\n",
        "Esta fase inicial concentra-se em compreender os **objetivos e requisitos do projeto ou problema** de uma perspectiva de negócios, em seguida, convertendo este conhecimento em uma definição de problema de mineração de dados e um plano preliminar projetado para alcançar os objetivos.\n",
        "\n",
        "Como qualquer projeto é uma fase fundamental para o sucesso do projeto, com o alinhamento das expectativas, definição dos recursos etc.\n",
        "\n",
        "## Entendimento dos dados \n",
        "\n",
        "A fase de entendimento dos dados começa com a coleta de dados e segue com atividades que permitem que você familiarize-se com os dados, identificar problemas de qualidade de dados, os primeiros insights sobre os dados e / ou detectar subconjuntos interessantes para formar hipóteses sobre informações ocultas.\n",
        "\n",
        "É uma fase de modelos e hipóteses simples, mas que já pode fornecer muitas respostas relevantes ao problema tratado.\n",
        "\n",
        "## Preparação de dados\n",
        "\n",
        "A fase de preparação de dados incluir todas as atividades necessárias para tornar os dados adequados para a modelagem. As tarefas de preparação de dados provavelmente serão realizadas várias vezes e não em qualquer ordem prescrita. As tarefas incluem seleção de dados e atributos, transformações como normalização e recodificação dos dados, limpeza de dados (dados faltantes, ruídos, *outliers* etc.), merge de dados etc.\n",
        "\n",
        "> É importante destacar que, na prática, a atividade de modelagem tem **80% do esforço concentrado nas fases de Entendimento e Preparação dos Dados**. Isto é, não obstante o eventual *glamour* do Cientista de Dados, seu trabalho consiste, na maior parte do tempo, em coletar e manusear grandes conjuntos de dados.\n",
        "\n",
        "## Modelagem\n",
        "\n",
        "Nesta fase, várias técnicas de modelagem são selecionadas e aplicadas, e seus parâmetros são calibrados para otimizar valores. Normalmente, existem várias técnicas para o mesmo tipo de problema de mineração de dados. Algumas técnicas têm requisitos na forma de dados. Portanto, voltar à fase de preparação de dados geralmente é necessário. Essa é uma característica importante desse modelo de referência: **as fases não necessariamente seguem sempre em uma única direção**, pois achados em uma etapa posterior podem sempre implicar na necessidade de voltar em tarefas das etapas anteriores.\n",
        "\n",
        "## Avaliação\n",
        "\n",
        "Nesta fase do projeto, você construiu um modelo (ou modelos) que parece ter alta qualidade a partir de uma análise de dados perspectiva. Antes de prosseguir para a implantação final do modelo, é importante avaliá-lo completamente e revisar as etapas executadas para criá-lo, para ter certeza de que o modelo atinja adequadamente os objetivos de negócios. \n",
        "\n",
        "Para isso é necessário **empregar métricas** que permitam avaliar os modelos. Um exemplo conhecido é o empregar o coeficiente de determinação ($R2$) para avaliação de diferentes modelos de regressão linear, existindo métricas como acuracidade, erro etc. para outros tipos de modelos.  \n",
        "\n",
        "## Distribuição\n",
        "\n",
        "A criação do modelo geralmente não é o fim do projeto. O resultado do modelo precisa ser organizado e apresentado de forma que possa ser usado. Isso\n",
        "frequentemente envolve a inclusão de modelos dentro dos processos de tomada de decisão de uma organização. \n",
        "\n",
        "Isso pode envolver uma atividade simples de geração de um relatório em uma página Web até a implantação de diversos artefatos de software para coletar dados de compras de clientes e gerar recomendações automáticas no aplicativo de vendas para outros clientes. \n",
        "\n",
        "> **Note que essas fases não são fases estanques e acontecem de forma interativa. Elas muitas vezes são fases que acontecem de modo concorrente, uma realimentando a outra. Por exemplo, durante a Preparação dos Dados podemos fazer *descobertas* que não haviam sido feitas durante a fase de Entendimento dos Dados, e mesmo na Modelagem podemos encontrar a necessidade de retornar ao Entendimento dos Dados para verificar algum padrão que não havíamos notado antes.**  "
      ]
    },
    {
      "cell_type": "markdown",
      "source": [
        "## Sua vez\n",
        "\n",
        "> ❓ **Vamos navegar no documento original do CRISP-DM e explorar as tarefas de cada uma de suas fases.**"
      ],
      "metadata": {
        "id": "KNszimfVCnD4"
      }
    },
    {
      "cell_type": "markdown",
      "source": [
        "# Prós e Contras\n",
        "\n",
        "Embora seja um modelo bastante aceito há inúmeras críticas a esse modelo em projetos mais atuais de Ciência de Dados.\n",
        "\n",
        "Como pontos positivos o CRISP-DM:\n",
        "\n",
        "* Fornece orientação robusta e clara para as atividades do projeto e ajuda a melhorar o senso comum ao iterar as fases do projeto.\n",
        "* Pode ser aplicado sem muito treinamento \n",
        "\n",
        "Como pontos negativos:\n",
        "\n",
        "* Sofre das mesmas falhas do processo Waterfall e sobrecarrega a iteração rápida \n",
        "* Não considera muitos dos desafios de um moderno projeto de ciência de dados como a ingestão de dados, uso de um eco sistemas de big data, serviços em nuvem, trabalho colaborativo e questões éticas.  \n",
        "\n",
        "Entretanto seus insights seguem bastante úteis para qualquer projeto envolvendo dados.\n",
        "\n"
      ],
      "metadata": {
        "id": "dZd34yABDj-X"
      }
    },
    {
      "cell_type": "markdown",
      "source": [
        "\n",
        "## Sua vez\n",
        "\n",
        "> ❓ **Discussão**\n",
        "\n",
        "> - ***Sempre precisamos ter em mente que *o sistema final não será aquele que o arquiteto ou o cientista de dados projetam, mas aquele que o engenheiro constrói.***\n",
        "\n",
        "> - ***No metódo científico, o modelo da Ciência, prevê a experimentação e não há garantia de resultados e nem do tempo e esforço necessários. A Ciência de Dados, entendida como uma ciência, traz isso como um grande desafio para as empresas mais tradicionais que não aceitam riscos ou empreendem na inovação.***"
      ],
      "metadata": {
        "id": "sRICktAlVLUj"
      }
    },
    {
      "cell_type": "markdown",
      "source": [
        "## Sua vez\n",
        "\n",
        "> ❓ **Vamos navegar em alguns dos outros frameworks de processos de Ciência de Dados. Acesse e levante ao menos dois aspectos que chamam a sua atenção e não são cobertos pelo modelo CRISP-DM.**\n",
        "\n"
      ],
      "metadata": {
        "id": "58LXJz6QF2xY"
      }
    },
    {
      "cell_type": "markdown",
      "source": [
        "### TDSP Microsoft\n",
        "\n",
        "O **Team Data Science Process** (TDSP) é a resposta da Microsoft para uma metodologia ágil e iterativa de ciência de dados para soluções de análise preditiva e aplicativos inteligentes. O TDSP busca melhorar a colaboração e o aprendizado da equipe, sugerindo como as funções da equipe funcionam melhor juntas. O TDSP tem os seguintes componentes principais:\n",
        "\n",
        "- Uma definição do ciclo de vida da ciência de dados\n",
        "- Uma estrutura de projeto padronizada\n",
        "- Infraestrutura e recursos recomendados para projetos de ciência de dados\n",
        "- Ferramentas e utilitários recomendados para a execução do projeto\n",
        "\n",
        "Acesse sobre este framework [aqui](https://learn.microsoft.com/en-gb/azure/architecture/data-science-process/overview)."
      ],
      "metadata": {
        "id": "D-CPbvjqHac4"
      }
    },
    {
      "cell_type": "markdown",
      "source": [
        "<br>\n",
        "<br>\n",
        "<img src=\"https://github.com/Rogerio-mack/IMT_Ciencia_de_Dados/raw/main/images/tdsp-lifecycle2.png\"  width=700, align=\"center\">\n",
        "<br>\n",
        "<br>\n",
        "\n",
        "<small><b>Ciclo de vida do Team Data Science Process.\n",
        "\n",
        "<br>\n",
        "<br>\n",
        "<img src=\"https://github.com/Rogerio-mack/IMT_Ciencia_de_Dados/raw/main/images/tdsp-tasks-by-roles.png\"  width=700, align=\"center\">\n",
        "<br>\n",
        "<br>\n",
        "\n",
        "<small><b>O diagrama acima fornece uma visualização  das tarefas (em azul) e artefatos (em verde) associados a cada estágio do ciclo de vida (eixo horizontal) para cada uma das funções ou papéis no projeto (eixo vertical).\n"
      ],
      "metadata": {
        "id": "ruLzUrbQIxF5"
      }
    },
    {
      "cell_type": "markdown",
      "source": [
        "### Google\n",
        "\n",
        "O modelo da Google não tem leva um nome em particular e apresenta uma visão bastante orientada ao uso de seus serviços em nuvem. Acesse para saber mais sobre este framework [aqui](https://cloud.google.com/blog/topics/developers-practitioners/intro-data-science-google-cloud).\n",
        "\n",
        "\n"
      ],
      "metadata": {
        "id": "kli6A3pnGBOI"
      }
    },
    {
      "cell_type": "markdown",
      "source": [
        "<br>\n",
        "<br>\n",
        "<img src=\"https://github.com/Rogerio-mack/IMT_Ciencia_de_Dados/raw/main/images/Intro_To_Data_Science.jpg\"  width=700, align=\"center\">\n",
        "<br>\n",
        "<br>\n",
        "\n",
        "<small><b>Ciclo de vida na visão da Google.\n",
        "\n",
        "<br>\n",
        "<br>\n",
        "<img src=\"https://github.com/Rogerio-mack/IMT_Ciencia_de_Dados/raw/main/images/Data_Science_on_Google_Cloud.jpg\"  width=700, align=\"center\">\n",
        "<br>\n",
        "<br>\n",
        "\n",
        "<small><b>Ciclo de vida na visão da Google com o detalhe dos seus serviços em nuvem para solução."
      ],
      "metadata": {
        "id": "_xlwqKsSIpaZ"
      }
    },
    {
      "cell_type": "markdown",
      "source": [
        "## Sua vez\n",
        "\n",
        "> ❓ **Vamos focar na primeira fase do modelo CRISP-DM. Crie em grupo de até 5 alunos uma proposta de projeto de Ciência de Dados de interesse do grupo e compartilhe com os colegas.**\n",
        "\n"
      ],
      "metadata": {
        "id": "sD7QlGT_LYlK"
      }
    },
    {
      "cell_type": "markdown",
      "source": [
        "<br>\n",
        "<br>\n",
        "<img src=\"https://github.com/Rogerio-mack/IMT_Ciencia_de_Dados/raw/main/images/Business_understanding.png\"  width=500, align=\"center\">\n",
        "<br>\n",
        "<br>\n",
        "\n",
        "<small><b>Fase de Entendimento do Negócio segundo o framework CRISP-DM."
      ],
      "metadata": {
        "id": "xK8TmFQbMVFQ"
      }
    },
    {
      "cell_type": "markdown",
      "metadata": {
        "id": "k4noMRT_YUd7"
      },
      "source": [
        "# Para Saber Mais\n",
        "\n",
        "* Acesse o documento completo [CRISP DM 1.0](https://github.com/Rogerio-mack/IMT_Ciencia_de_Dados/blob/main/others/crisp-dm.pdf) | [download](https://github.com/Rogerio-mack/IMT_Ciencia_de_Dados/raw/main/others/crisp-dm.pdf), afinal não cobrimos aqui as suas cerca de 70 páginas!\n",
        "\n",
        "* Um sistema de Ciência de Dados ou de Aprendizado de Máquina é muito mais do que apenas implementar um algoritmos de ML. Veja aqui alguns aspectos importantes disso na visão da Google.\n",
        "\n",
        "> [Production ML Systems](https://developers.google.com/machine-learning/crash-course/production-ml-systems?hl=pt-br)\n",
        "\n",
        "<br>\n",
        "<br>\n",
        "<img src=\"https://developers.google.com/static/machine-learning/crash-course/images/MlSystem.svg?hl=pt-br\"  width=500, align=\"center\">\n",
        "<br>\n",
        "<br>\n",
        "\n",
        "> [Preparação de dados e engenharia de atributos em ML](https://developers.google.com/machine-learning/data-prep?hl=pt-br)\n",
        "\n",
        "* Veja o capítulo 2 de:\n",
        "\n",
        "> Provost, F., & Fawcett, T. (2013). **Data Science for Business: What you need to know about data mining and data-analytic thinking.** O'Reilly Media, Inc.\". [PDF](https://github.com/Rogerio-mack/IMT_Ciencia_de_Dados/blob/main/others/Provost.pdf) \n",
        "\n",
        "\n",
        "* Que tal explorar alguns cases de aplicação do aprendizado de máquina dentro da sua área de interesse e compartilhar com os colegas? Acesse aqui ___.**Machine Learning and Data Science Applications in Industry** Disponível em: https://github.com/ashishpatel26/Real-time-ML-Project e explore alguns desses cases!"
      ]
    },
    {
      "cell_type": "markdown",
      "metadata": {
        "id": "fa24d435"
      },
      "source": [
        "# Referências"
      ]
    },
    {
      "cell_type": "markdown",
      "metadata": {
        "id": "zlJfWteFyhFy"
      },
      "source": [
        "Pete Chapman, Julian Clinton, Randy Kerber,\n",
        "Thomas Khabaza, Thomas Reinartz,\n",
        "Colin Shearer, Rüdiger Wirth **[CRISP DM 1.0]((https://github.com/Rogerio-mack/IMT_Ciencia_de_Dados/raw/main/others/crisp-dm.pdf)) Step-by-step data mining guide**\n",
        "Disponível em: https://github.com/Rogerio-mack/IMT_Ciencia_de_Dados/raw/main/others/crisp-dm.pdf.\n",
        "\n",
        "kelleher,John D.; Tierney, Brendan. **Data Science** (The MIT Press Essential Knowledge). The MIT Press. 2018.\n",
        "\n"
      ]
    }
  ]
}