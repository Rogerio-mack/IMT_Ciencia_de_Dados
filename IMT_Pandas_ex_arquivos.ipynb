{
  "nbformat": 4,
  "nbformat_minor": 0,
  "metadata": {
    "colab": {
      "provenance": [],
      "authorship_tag": "ABX9TyNNJ6dzPyNHTxYnMBZDk+D+",
      "include_colab_link": true
    },
    "kernelspec": {
      "name": "python3",
      "display_name": "Python 3"
    },
    "language_info": {
      "name": "python"
    }
  },
  "cells": [
    {
      "cell_type": "markdown",
      "metadata": {
        "id": "view-in-github",
        "colab_type": "text"
      },
      "source": [
        "<a href=\"https://colab.research.google.com/github/Rogerio-mack/IMT_Ciencia_de_Dados/blob/main/IMT_Pandas_ex_arquivos.ipynb\" target=\"_parent\"><img src=\"https://colab.research.google.com/assets/colab-badge.svg\" alt=\"Open In Colab\"/></a>"
      ]
    },
    {
      "cell_type": "markdown",
      "metadata": {
        "id": "80CF3Eq9EXDW"
      },
      "source": [
        "<head>\n",
        "  <meta name=\"author\" content=\"Rogério de Oliveira\">\n",
        "  <meta institution=\"author\" content=\"ITM\">\n",
        "</head>\n",
        "\n",
        "<img src=\"https://maua.br/images/selo-60-anos-maua.svg\" width=300, align=\"right\">\n",
        "<!-- <h1 align=left><font size = 6, style=\"color:rgb(200,0,0)\"> optional title </font></h1> -->\n"
      ]
    },
    {
      "cell_type": "markdown",
      "source": [
        "# Lab: Acessando arquivos\n",
        "\n",
        "Referências e Materiais úteis para este Lab:\n",
        "\n",
        "- [Carregar dados: Drive, Planilhas e Google Cloud Storage](/notebooks/io.ipynb) \n",
        "- [w3schools](https://www.w3schools.com/python/python_file_open.asp), veja aqui como ler um arquivo .txt com `Python`\n",
        "\n",
        "---\n",
        "\n"
      ],
      "metadata": {
        "id": "dEyV_GqcqtL1"
      }
    },
    {
      "cell_type": "markdown",
      "source": [
        "# Exercício 1"
      ],
      "metadata": {
        "id": "kktK0oXC1TWC"
      }
    },
    {
      "cell_type": "markdown",
      "source": [
        "a) Crie um arquivo `demo.txt` com uma mensagem texto em sua máquina local."
      ],
      "metadata": {
        "id": "MZ03CQY61dO8"
      }
    },
    {
      "cell_type": "markdown",
      "source": [
        "b) Empregue a API do Google Colab para fazer o upload do arquivo `demo.txt` no Colab e crie um programa `Python` que lê este arquivo no Colab. "
      ],
      "metadata": {
        "id": "CpbJZyaL1zbg"
      }
    },
    {
      "cell_type": "markdown",
      "source": [
        "c) Repita o exercício anterior lendo agora o arquivo `demo.txt` de seu Google Drive. Para isso, salve o arquivo `demo.txt` no seu Google Drive e empregue a API do Google Colab para conectar o Google Drive ao seu Colab.  "
      ],
      "metadata": {
        "id": "nH-p54o82ddG"
      }
    }
  ]
}