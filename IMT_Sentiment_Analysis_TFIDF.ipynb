{
  "nbformat": 4,
  "nbformat_minor": 0,
  "metadata": {
    "colab": {
      "provenance": [],
      "include_colab_link": true
    },
    "kernelspec": {
      "name": "python3",
      "display_name": "Python 3"
    }
  },
  "cells": [
    {
      "cell_type": "markdown",
      "metadata": {
        "id": "view-in-github",
        "colab_type": "text"
      },
      "source": [
        "<a href=\"https://colab.research.google.com/github/Rogerio-mack/IMT_Ciencia_de_Dados/blob/main/IMT_Sentiment_Analysis_TFIDF.ipynb\" target=\"_parent\"><img src=\"https://colab.research.google.com/assets/colab-badge.svg\" alt=\"Open In Colab\"/></a>"
      ]
    },
    {
      "cell_type": "markdown",
      "metadata": {
        "id": "80CF3Eq9EXDW"
      },
      "source": [
        "<head>\n",
        "  <meta name=\"author\" content=\"Rogério de Oliveira\">\n",
        "  <meta institution=\"author\" content=\"ITM\">\n",
        "</head>\n",
        "\n",
        "<img src=\"https://maua.br/images/selo-60-anos-maua.svg\" width=300, align=\"right\">\n",
        "<!-- <h1 align=left><font size = 6, style=\"color:rgb(200,0,0)\"> optional title </font></h1> -->\n"
      ]
    },
    {
      "cell_type": "markdown",
      "source": [
        "# **CASE**: Avaliação de aplicativos de comida do Google Play"
      ],
      "metadata": {
        "id": "WtiXMksjxBK4"
      }
    },
    {
      "cell_type": "markdown",
      "source": [
        "# Scraping"
      ],
      "metadata": {
        "id": "Ce_56xuXyHfz"
      }
    },
    {
      "cell_type": "code",
      "metadata": {
        "colab": {
          "base_uri": "https://localhost:8080/"
        },
        "id": "hhjGIJPwT4jD",
        "outputId": "283db81e-d59e-49f3-a29a-90b1cbad6636"
      },
      "source": [
        "# Google play scraper: https://github.com/JoMingyu/google-play-scraper\n",
        "!pip install google_play_scraper"
      ],
      "execution_count": null,
      "outputs": [
        {
          "output_type": "stream",
          "name": "stdout",
          "text": [
            "Collecting google_play_scraper\n",
            "  Downloading google_play_scraper-1.2.4-py3-none-any.whl (28 kB)\n",
            "Installing collected packages: google_play_scraper\n",
            "Successfully installed google_play_scraper-1.2.4\n"
          ]
        }
      ]
    },
    {
      "cell_type": "markdown",
      "source": [
        "## Select apps_ids\n",
        "\n",
        "Vamos selecionar apps nacionais de comida."
      ],
      "metadata": {
        "id": "JqSC3n9PyNQS"
      }
    },
    {
      "cell_type": "code",
      "metadata": {
        "id": "bNfxsZbfT1M8"
      },
      "source": [
        "apps_ids = ['br.com.brainweb.ifood',\n",
        "            'com.mcdo.mcdonalds',\n",
        "            'habibs.alphacode.com.br',\n",
        "            'com.ubercab.eats',\n",
        "            'burgerking.com.br.appandroid',\n",
        "            'com.grability.rappi',\n",
        "            'com.xiaojukeji.didi.brazil.customer',\n",
        "            'com.vanuatu.aiqfome',\n",
        "            ]\n"
      ],
      "execution_count": null,
      "outputs": []
    },
    {
      "cell_type": "markdown",
      "metadata": {
        "id": "lJcV4fGKWKub"
      },
      "source": [
        "## Get app info (app_id)"
      ]
    },
    {
      "cell_type": "code",
      "metadata": {
        "id": "7KHikUDCWM0E"
      },
      "source": [
        "from tqdm import tqdm\n",
        "from google_play_scraper import Sort, reviews, app\n",
        "\n",
        "app_infos = []\n",
        "\n",
        "for ap in tqdm(apps_ids):\n",
        "    info = app(ap, lang='en', country='us')\n",
        "    del info['comments']\n",
        "    app_infos.append(info)\n",
        "\n",
        "app_infos_df = pd.DataFrame(app_infos)\n",
        "app_infos_df.head()"
      ],
      "execution_count": null,
      "outputs": []
    },
    {
      "cell_type": "markdown",
      "metadata": {
        "id": "o_Sbkh5NWe4E"
      },
      "source": [
        "## Scraping App Reviews\n",
        "\n"
      ]
    },
    {
      "cell_type": "code",
      "metadata": {
        "colab": {
          "base_uri": "https://localhost:8080/"
        },
        "id": "LskH3ZFPWfy3",
        "outputId": "0ff20135-bfb9-42c5-c323-a92268da233b"
      },
      "source": [
        "app_reviews = []\n",
        "\n",
        "for ap in tqdm(apps_ids):\n",
        "    for score in list(range(1, 6)):\n",
        "        for sort_order in [Sort.MOST_RELEVANT, Sort.NEWEST]:\n",
        "            rvs, _ = reviews(\n",
        "                ap,\n",
        "                lang='pt',\n",
        "                country='br',\n",
        "                sort=sort_order,\n",
        "            )\n",
        "            for r in rvs:\n",
        "                r['sortOrder'] = 'most_relevant' if sort_order == Sort.MOST_RELEVANT else 'newest'\n",
        "                r['appId'] = ap\n",
        "            app_reviews.extend(rvs)"
      ],
      "execution_count": null,
      "outputs": [
        {
          "output_type": "stream",
          "name": "stderr",
          "text": [
            "100%|██████████| 8/8 [00:17<00:00,  2.22s/it]\n"
          ]
        }
      ]
    },
    {
      "cell_type": "markdown",
      "metadata": {
        "id": "U4FSjNC8WrB6"
      },
      "source": [
        "## Saving reviews in a DataFrame"
      ]
    },
    {
      "cell_type": "code",
      "metadata": {
        "id": "M6g1bxdjWrb7"
      },
      "source": [
        "app_reviews_df = pd.DataFrame(app_reviews)"
      ],
      "execution_count": null,
      "outputs": []
    },
    {
      "cell_type": "code",
      "metadata": {
        "id": "8aPS9GSpXaan"
      },
      "source": [
        "app_reviews_df.head()"
      ],
      "execution_count": null,
      "outputs": []
    },
    {
      "cell_type": "code",
      "source": [
        "plt.figure(figsize=(5,3))\n",
        "\n",
        "sns.countplot(x='score',data=app_reviews_df)\n",
        "plt.title('Score distribution')\n",
        "plt.show()"
      ],
      "metadata": {
        "id": "JWn-Wzh9kGbq"
      },
      "execution_count": null,
      "outputs": []
    },
    {
      "cell_type": "markdown",
      "source": [
        "#### Q1. Quantos reviews foram coletados de cada appId?"
      ],
      "metadata": {
        "id": "3NoSJHG22Xx1"
      }
    },
    {
      "cell_type": "code",
      "source": [
        "# seu código"
      ],
      "metadata": {
        "id": "cxMcqBUB2Hty"
      },
      "execution_count": null,
      "outputs": []
    },
    {
      "cell_type": "code",
      "source": [
        "app_reviews_df.to_csv('app_reviews_df.csv',index=None)"
      ],
      "metadata": {
        "id": "vqUhEycjR1Gb"
      },
      "execution_count": null,
      "outputs": []
    },
    {
      "cell_type": "markdown",
      "source": [
        "# **Importante: WITHOUT SCRAPING**\n",
        "\n",
        "As informações que você coletou mudam a toda hora... afinal, aparecem novas revisões a cada dia. Então vamos empregar um dataset comum a todos."
      ],
      "metadata": {
        "id": "DF2gZ9fi1cgC"
      }
    },
    {
      "cell_type": "code",
      "metadata": {
        "id": "_PhgD2fiWmTo"
      },
      "source": [
        "df = pd.read_csv(\"https://github.com/Rogerio-mack/IMT_Ciencia_de_Dados/raw/main/data/app_reviews_df.csv\")\n",
        "df.head()"
      ],
      "execution_count": null,
      "outputs": []
    },
    {
      "cell_type": "markdown",
      "source": [
        "#### Q2. Quais scores estão mais presentes na base de dados?"
      ],
      "metadata": {
        "id": "rcdFzh7l3J8b"
      }
    },
    {
      "cell_type": "code",
      "source": [
        "# Seu código"
      ],
      "metadata": {
        "id": "fOICoHfl3GFg"
      },
      "execution_count": null,
      "outputs": []
    },
    {
      "cell_type": "markdown",
      "source": [
        "## Sentiment from score\n",
        "\n",
        "Crie uma atributo `sentiment` em `df` atribuindo os seguintes sentimentos a cada review:\n",
        "\n",
        "<br>\n",
        "\n",
        "$-1$, negativo se `score` $\\le 2$,\n",
        "\n",
        "$0$, neutro se `score` $= 3$,\n",
        "\n",
        "$+1$, positivo se `score` $\\gt 3$"
      ],
      "metadata": {
        "id": "LGk68d3y4liU"
      }
    },
    {
      "cell_type": "code",
      "source": [
        "# Seu código"
      ],
      "metadata": {
        "id": "Tbxym8iCeswa"
      },
      "execution_count": null,
      "outputs": []
    },
    {
      "cell_type": "markdown",
      "source": [
        "## Load `nltk`"
      ],
      "metadata": {
        "id": "XVmj-ycu5tM1"
      }
    },
    {
      "cell_type": "code",
      "source": [
        "import nltk\n",
        "nltk.download(\"stopwords\")\n",
        "from nltk.corpus import stopwords\n",
        "import re"
      ],
      "metadata": {
        "colab": {
          "base_uri": "https://localhost:8080/"
        },
        "id": "YAOkhFFW5waU",
        "outputId": "cb5af745-b17a-43d1-adca-3f053c3b0715"
      },
      "execution_count": null,
      "outputs": [
        {
          "output_type": "stream",
          "name": "stderr",
          "text": [
            "[nltk_data] Downloading package stopwords to /root/nltk_data...\n",
            "[nltk_data]   Unzipping corpora/stopwords.zip.\n"
          ]
        }
      ]
    },
    {
      "cell_type": "markdown",
      "source": [
        "#### Q3. Acesse a lista de `stopwords` em português (`stopwords.words('portuguese')`). Qual a posição da `stopword` \"não\"?"
      ],
      "metadata": {
        "id": "slNAVDYM643t"
      }
    },
    {
      "cell_type": "code",
      "source": [
        "# Seu código"
      ],
      "metadata": {
        "id": "7K1feI275zhw"
      },
      "execution_count": null,
      "outputs": []
    },
    {
      "cell_type": "markdown",
      "source": [
        "## Use a seguinte função de pré-processamento de textos"
      ],
      "metadata": {
        "id": "RvJX2dHg7S8U"
      }
    },
    {
      "cell_type": "code",
      "source": [
        "def text_preprocessing(s):\n",
        "    # Always lower\n",
        "    s = s.lower()\n",
        "    # Remove @name\n",
        "    s = re.sub(r'(@.*?)[\\s]', ' ', s)\n",
        "    # Isolate and remove punctuations except '?'\n",
        "    s = re.sub(r'([\\'\\\"\\.\\!\\?\\\\/\\,])', r' \\1 ', s)\n",
        "    s = re.sub(r'[^\\w\\s\\?]', ' ', s)\n",
        "    # Remove some special characters\n",
        "    s = re.sub(r'([\\;\\:\\|•«\\n])', ' ', s)\n",
        "    # Remove trailing whitespace\n",
        "    s = re.sub(r'\\s+', ' ', s).strip()\n",
        "    # Remove stopwords except 'não' e 'nem'\n",
        "    s = \" \".join([word for word in s.split()\n",
        "                  if word not in stopwords.words('portuguese')\n",
        "                  or word in ['não','nem']])\n",
        "\n",
        "    return s\n"
      ],
      "metadata": {
        "id": "n9TQZ1YLpypE"
      },
      "execution_count": null,
      "outputs": []
    },
    {
      "cell_type": "markdown",
      "source": [
        "Crie uma lista `X_preprocessed` em que cada elemento é texto de revisão (`df.content`) pré-processado pela função acima.\n",
        "\n",
        "<small>\n",
        "nota: talvez pudéssemos empregar o preprocessor na função de tokenização, ou mesmo o stop_words da função, mas aqui vamos por partes..."
      ],
      "metadata": {
        "id": "7M4j_otP7nFT"
      }
    },
    {
      "cell_type": "code",
      "source": [
        "# Seu código"
      ],
      "metadata": {
        "id": "rtlIXC187ips"
      },
      "execution_count": null,
      "outputs": []
    },
    {
      "cell_type": "code",
      "source": [
        "#@markdown Check if True\n",
        "X_preprocessed[7000][0:100] == 'última atualização fica apresentando erro conexão parece internet caiu sendo verifiquei tá tudo ok a'"
      ],
      "metadata": {
        "colab": {
          "base_uri": "https://localhost:8080/"
        },
        "cellView": "form",
        "id": "WBCcltxfALfE",
        "outputId": "c1156e49-1799-48fd-b98d-91cd83e1d7ab"
      },
      "execution_count": null,
      "outputs": [
        {
          "output_type": "execute_result",
          "data": {
            "text/plain": [
              "True"
            ]
          },
          "metadata": {},
          "execution_count": 65
        }
      ]
    },
    {
      "cell_type": "markdown",
      "source": [
        "## TF-IDF\n",
        "\n",
        "Empregue o estimador de TF-IDF de textos do `scikit-learn` com os seguintes parâmetros,\n",
        "\n",
        "```\n",
        "tf_idf = TfidfVectorizer(ngram_range=(1, 3),\n",
        "                         binary=True,\n",
        "                         smooth_idf=False,\n",
        "                         ...\n",
        "```\n",
        "\n",
        "e o máximo tamanho de representação dos texto com 4096, para criar representações TF-IDF dos textos pré-processados de `X_preprocessed`.\n",
        "\n",
        "**Lembre-se**, um estimador possui métodos `fit()` e `transform()`...\n",
        "\n",
        "\n",
        "\n",
        "\n",
        "\n"
      ],
      "metadata": {
        "id": "j6ZgdSWYA9Dk"
      }
    },
    {
      "cell_type": "code",
      "source": [
        "# Seu código"
      ],
      "metadata": {
        "id": "2XBjtKWbsrBP"
      },
      "execution_count": null,
      "outputs": []
    },
    {
      "cell_type": "code",
      "source": [
        "#@markdown Check if True\n",
        "X_tfidf.toarray()[ X_tfidf.toarray() != 0 ].sum() == 32688.35610195654"
      ],
      "metadata": {
        "colab": {
          "base_uri": "https://localhost:8080/"
        },
        "id": "8KaFm8OrCflf",
        "outputId": "ac96559b-a36c-4427-84ee-7ba8837d26b3"
      },
      "execution_count": null,
      "outputs": [
        {
          "output_type": "execute_result",
          "data": {
            "text/plain": [
              "True"
            ]
          },
          "metadata": {},
          "execution_count": 68
        }
      ]
    },
    {
      "cell_type": "code",
      "source": [
        "X0 = X_tfidf.toarray() != 0\n",
        "sns.heatmap(X0)\n",
        "plt.show()"
      ],
      "metadata": {
        "colab": {
          "base_uri": "https://localhost:8080/",
          "height": 458
        },
        "id": "dj6T1Rhv9_w-",
        "outputId": "25786a59-76ba-462d-9ba0-2171a8edcc64"
      },
      "execution_count": null,
      "outputs": [
        {
          "output_type": "display_data",
          "data": {
            "text/plain": [
              "<Figure size 640x480 with 2 Axes>"
            ],
            "image/png": "[encoded data removed]"
          },
          "metadata": {}
        }
      ]
    },
    {
      "cell_type": "markdown",
      "source": [
        "## KNeighborsClassifier\n",
        "\n",
        "Empregue os valores TF-IDF obtidos dos textos de review acima, `X_tfidf`, para fazer uma classificação do sentimento das revisões. **Empregue o modelo de K-vizinhos mais próximos, com `k=8` e função distância cosseno.**\n",
        "\n",
        "Empregue `random_state=1`, 0.3 de dados de teste estratificados."
      ],
      "metadata": {
        "id": "oQrhElU8DVp_"
      }
    },
    {
      "cell_type": "code",
      "source": [
        "# Seu código"
      ],
      "metadata": {
        "id": "uGn8UOkztNTO"
      },
      "execution_count": null,
      "outputs": []
    },
    {
      "cell_type": "markdown",
      "source": [
        "#### Q4. Qual a acuracidade obtida do modelo de K-vizinhos mais próximos?\n",
        "\n",
        "\n",
        "\n",
        "\n",
        "\n"
      ],
      "metadata": {
        "id": "edtI7TfnE1vu"
      }
    },
    {
      "cell_type": "markdown",
      "source": [
        "#### Q5. Classifique quanto ao sentimento as expressões 'Aplicativo Lixo' e 'Maravilha!'. Ambas deram o resultado esperado?"
      ],
      "metadata": {
        "id": "4iVLJJuCE9K9"
      }
    },
    {
      "cell_type": "code",
      "source": [
        "# Seu código"
      ],
      "metadata": {
        "id": "jQu1FBOru8le"
      },
      "execution_count": null,
      "outputs": []
    },
    {
      "cell_type": "markdown",
      "source": [
        "## RandomForestClassifier\n",
        "\n",
        "Altere o código do modelo anterior para empregar uma Floresta de Árvores Aleatórias não esquecendo de empregar `random_state=1`."
      ],
      "metadata": {
        "id": "uJdz8YQpFyay"
      }
    },
    {
      "cell_type": "code",
      "source": [
        "# Seu código"
      ],
      "metadata": {
        "id": "58Q4NDL8EuRl"
      },
      "execution_count": null,
      "outputs": []
    },
    {
      "cell_type": "markdown",
      "source": [
        "#### Q6. Qual a acuracidade obtida do modelo de Floresta?\n",
        "\n",
        "\n",
        "\n",
        "\n",
        "\n"
      ],
      "metadata": {
        "id": "YkuHh5_IGGzN"
      }
    },
    {
      "cell_type": "markdown",
      "source": [
        "#### Q7. Classifique quanto ao sentimento as expressões 'Aplicativo Lixo' e 'Maravilha!' com o novo modelo. Ambas deram o resultado esperado?"
      ],
      "metadata": {
        "id": "ZdDBS1INFp5U"
      }
    },
    {
      "cell_type": "code",
      "source": [
        "# Seu código"
      ],
      "metadata": {
        "id": "p9FLrPF9Fp5U"
      },
      "execution_count": null,
      "outputs": []
    },
    {
      "cell_type": "markdown",
      "source": [
        "## RandomForestClassifier\n",
        "\n",
        "Altere o código do modelo Floresta de Árvores Aleatórias anterior agora para classificar o score dos reviews."
      ],
      "metadata": {
        "id": "yZvc83NCGzqT"
      }
    },
    {
      "cell_type": "code",
      "source": [
        "# Seu código"
      ],
      "metadata": {
        "id": "Q3VOvoEZGzqe"
      },
      "execution_count": null,
      "outputs": []
    },
    {
      "cell_type": "markdown",
      "source": [
        "#### Q8. Qual a acuracidade obtida na classificação do score dos reviews?"
      ],
      "metadata": {
        "id": "BANHPwYqHIVU"
      }
    }
  ]
}