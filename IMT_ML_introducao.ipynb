{
  "nbformat": 4,
  "nbformat_minor": 0,
  "metadata": {
    "kernelspec": {
      "display_name": "Python 3",
      "language": "python",
      "name": "python3"
    },
    "language_info": {
      "codemirror_mode": {
        "name": "ipython",
        "version": 3
      },
      "file_extension": ".py",
      "mimetype": "text/x-python",
      "name": "python",
      "nbconvert_exporter": "python",
      "pygments_lexer": "ipython3",
      "version": "3.7.4"
    },
    "colab": {
      "provenance": [],
      "toc_visible": true,
      "include_colab_link": true
    }
  },
  "cells": [
    {
      "cell_type": "markdown",
      "metadata": {
        "id": "view-in-github",
        "colab_type": "text"
      },
      "source": [
        "<a href=\"https://colab.research.google.com/github/Rogerio-mack/IMT_Ciencia_de_Dados/blob/main/IMT_ML_introducao.ipynb\" target=\"_parent\"><img src=\"https://colab.research.google.com/assets/colab-badge.svg\" alt=\"Open In Colab\"/></a>"
      ]
    },
    {
      "cell_type": "markdown",
      "metadata": {
        "id": "80CF3Eq9EXDW"
      },
      "source": [
        "<head>\n",
        "  <meta name=\"author\" content=\"Rogério de Oliveira\">\n",
        "  <meta institution=\"author\" content=\"ITM\">\n",
        "</head>\n",
        "\n",
        "<img src=\"https://maua.br/images/selo-60-anos-maua.svg\" width=300, align=\"right\">\n",
        "<!-- <h1 align=left><font size = 6, style=\"color:rgb(200,0,0)\"> optional title </font></h1> -->\n"
      ]
    },
    {
      "cell_type": "markdown",
      "metadata": {
        "id": "zQX8WQPeHTwc"
      },
      "source": [
        "# **Introdução ao Aprendizado de Máquina**\n",
        "---\n",
        "\n",
        "Nesta aula você vai aprender:\n",
        "\n",
        "* O que é o Aprendizado de Máquina e o novo paradigma de programação que ele traz\n",
        "* A importância e as aplicações do Aprendizado de Máquina\n",
        "* Alguns conceitos e termos básicos que envolvem o Aprendizado de Máquina\n",
        "\n"
      ]
    },
    {
      "cell_type": "markdown",
      "metadata": {
        "id": "Jqh0rqk8s1OO"
      },
      "source": [
        "Você certamente já teve contato com o Aprendizado de Máquina e talvez nem tenha se dado conta disso. É o Aprendizado de Máquina que está por traz dos feeds das suas redes sociais, dos anúncios do Instagram e das sugestões de filmes, músicas e compras da Netflix, Spotify e Amazon. \n",
        "São também algoritmos de Aprendizado de Máquina que estão por traz das\n",
        "transcrições e traduções automáticas de texto do Google Translator ou do YouTube e, se você já teve a experiência de um cartão bloqueado por uma suspeita de fraude sem que você tenha solicitado o bloqueio, certamente isso envolveu o Aprendizado de Máquina. Ele também alimenta chatbots e veículos autônomas, facilita o diagnóstico médico a partir de imagens, fornece preços dinâmicos para corridas de serviços como Uber, prevê falhas de uma planta industrial que envia informações de seus equipamentos por sensores e busca melhores rotas para os motoristas no Waze.\n",
        "\n",
        "Algumas pessoas usam os termos Inteligência Artificial e Aprendizado de Máquina quase como sinônimos. Mas o mais provável quando vemos  empresas fazendo uso de Inteligência Artificial, é que estejam mesmo empregando o Aprendizado de Máquina que é um subcampo da IA que permite aos computadores aprender e realizar tarefas sem serem explicitamente programados. Em 2020, mais de 65% das empresas já fazem do Aprendizado de Máquina e a quase a totalidade das empresas acredita que ele será um fator crítico de sucesso para os negócios e, embora nem todos precisem conhecer os detalhes de como isso é feito, todos precisaremos saber o que Aprendizado de Máquina pode e não pode fazer por nós, e as implicações dessa enorme transformação.\n",
        "\n",
        "\n",
        "\n",
        "\n",
        "\n",
        "\n",
        "\n",
        "\n",
        "\n",
        "\n",
        "\n",
        "\n",
        "\n",
        "\n"
      ]
    },
    {
      "cell_type": "markdown",
      "metadata": {
        "id": "jXZGMYhSHTwd"
      },
      "source": [
        "# Aprendizado de Máquina: Um Novo Paradigma\n",
        "\n",
        "O Aprendizado de Máquina, ou *Machine Learning* (ML), é um subcampo da Inteligência Artificial. A IA busca criar sistemas capazes de imitar o comportamento humano inteligente o que pode ser feito de várias formas. \n",
        "\n",
        "$$  Homem  \\rightarrow  Mortal $$\n",
        "$$ Sócrates \\rightarrow  Homem $$\n",
        "$$ Sócrates \\rightarrow  Mortal $$\n",
        "\n",
        "O uso da lógica formal como acima, ou um circuito autômato finito que controla a porta automática em um shopping, podem reproduzir comportamentos inteligentes. Eles fazem parte do estudo da IA, mas não são parte do Aprendizado de Máquina. Há também uma série de outros termos correlatos e as Ciência de Dados e Deep Learning (Redes Neurais Profundas) são áreas de comumente de interceptam e que, embora não haja fronteiras nitidamente definidas, não são a mesma coisa.\n",
        "\n",
        "\n"
      ]
    },
    {
      "cell_type": "markdown",
      "source": [
        "<img src=\"https://github.com/Rogerio-mack/Machine-Learning-I/raw/main/Figures/MLparadigmas/Slide2.PNG\" width=800, align=\"center\">\n",
        "\n",
        " "
      ],
      "metadata": {
        "id": "5pzakzl9QHjh"
      }
    },
    {
      "cell_type": "markdown",
      "source": [
        "<small>\n",
        "\n",
        "<b>\n",
        "Figura 1. Diferentes Áreas relacionadas ao Aprendizado de Máquina."
      ],
      "metadata": {
        "id": "ywLjaa08Q0kR"
      }
    },
    {
      "cell_type": "markdown",
      "source": [
        "Assim o Aprendizado de Máquina é uma, entre muitas outra maneiras, de empregarmos a IA. Há muitas definições para o Aprendizado de Máquina e podemos empregar por exemplo a definição dada pelo pioneiro de jogos e IA, ​​Arthur Samuel (1901-1990):\n",
        "\n",
        "\n",
        "> **O Aprendizado de Máquna é o campo de estudo que dá aos computadores a capacidade de aprender sem serem explicitamente programados**\n",
        "\n",
        "Essa definição traz um aspecto fundamental do Aprendizado de Máquina, que cria um novo paradigma de como *programamos*. "
      ],
      "metadata": {
        "id": "6vsmyQkyOgfG"
      }
    },
    {
      "cell_type": "markdown",
      "source": [
        "<img src=\"https://github.com/Rogerio-mack/Machine-Learning-I/raw/main/Figures/MLparadigmas/Slide1.PNG\" width=800, align=\"center\">"
      ],
      "metadata": {
        "id": "MRxxgtljRy3Z"
      }
    },
    {
      "cell_type": "markdown",
      "source": [
        "<small>\n",
        "\n",
        "<b>\n",
        "Figura 2. O Aprendizado de Máquina: cria um novo paradigma de como programamos os computadores."
      ],
      "metadata": {
        "id": "_pjVoNXeR5bB"
      }
    },
    {
      "cell_type": "markdown",
      "source": [
        "Você certamente não terá dificuldade de criar um programa para converter temperaturas de $^{o} C$ (Celsius) para $^{o} F$ (Fahrenheit)."
      ],
      "metadata": {
        "id": "-vkJQxYpSTU4"
      }
    },
    {
      "cell_type": "code",
      "source": [
        "def Celsius2Fahrenheit(Celsius):\n",
        "  return Celsius * 9/5 + 32"
      ],
      "metadata": {
        "id": "8sKVNSX8S4gQ"
      },
      "execution_count": null,
      "outputs": []
    },
    {
      "cell_type": "code",
      "source": [
        "print( Celsius2Fahrenheit(0) )\n",
        "print( Celsius2Fahrenheit(27) )"
      ],
      "metadata": {
        "id": "_xoV_zcxTJoq",
        "outputId": "7c9e76f2-a8b7-492b-be00-f19c4a31aaf2",
        "colab": {
          "base_uri": "https://localhost:8080/"
        }
      },
      "execution_count": null,
      "outputs": [
        {
          "output_type": "stream",
          "name": "stdout",
          "text": [
            "32.0\n",
            "80.6\n"
          ]
        }
      ]
    },
    {
      "cell_type": "markdown",
      "source": [
        "Mas será que um 'programa' pode criar esse programa de conversão de temperaturas? A ideia do Aprendizado de Máquina é que sim. Mas para que seja possível o aprendizado precisamos partir de algum ponto que são os dados."
      ],
      "metadata": {
        "id": "C5gtjVi3TQ_D"
      }
    },
    {
      "cell_type": "code",
      "source": [
        "import numpy as np\n",
        "import pandas as pd\n",
        "import matplotlib.pyplot as plt\n",
        "%matplotlib inline\n",
        "import seaborn as sns\n"
      ],
      "metadata": {
        "id": "NnPj7lRMSO9J"
      },
      "execution_count": null,
      "outputs": []
    },
    {
      "cell_type": "code",
      "source": [
        "df = pd.DataFrame()\n",
        "df['celsius'] = np.arange(-20,60)\n",
        "df['fahrenheit'] = Celsius2Fahrenheit( df['celsius'] )\n",
        "df.head()\n"
      ],
      "metadata": {
        "id": "L00gKtjbTyXY",
        "outputId": "4f088b47-a0df-45fc-beaf-dac3e7b752e9",
        "colab": {
          "base_uri": "https://localhost:8080/",
          "height": 206
        }
      },
      "execution_count": null,
      "outputs": [
        {
          "output_type": "execute_result",
          "data": {
            "text/html": [
              "\n",
              "  <div id=\"df-75ee12c5-2653-403a-a6ee-f499aeb485c1\">\n",
              "    <div class=\"colab-df-container\">\n",
              "      <div>\n",
              "<style scoped>\n",
              "    .dataframe tbody tr th:only-of-type {\n",
              "        vertical-align: middle;\n",
              "    }\n",
              "\n",
              "    .dataframe tbody tr th {\n",
              "        vertical-align: top;\n",
              "    }\n",
              "\n",
              "    .dataframe thead th {\n",
              "        text-align: right;\n",
              "    }\n",
              "</style>\n",
              "<table border=\"1\" class=\"dataframe\">\n",
              "  <thead>\n",
              "    <tr style=\"text-align: right;\">\n",
              "      <th></th>\n",
              "      <th>celsius</th>\n",
              "      <th>fahrenheit</th>\n",
              "    </tr>\n",
              "  </thead>\n",
              "  <tbody>\n",
              "    <tr>\n",
              "      <th>0</th>\n",
              "      <td>-20</td>\n",
              "      <td>-4.0</td>\n",
              "    </tr>\n",
              "    <tr>\n",
              "      <th>1</th>\n",
              "      <td>-19</td>\n",
              "      <td>-2.2</td>\n",
              "    </tr>\n",
              "    <tr>\n",
              "      <th>2</th>\n",
              "      <td>-18</td>\n",
              "      <td>-0.4</td>\n",
              "    </tr>\n",
              "    <tr>\n",
              "      <th>3</th>\n",
              "      <td>-17</td>\n",
              "      <td>1.4</td>\n",
              "    </tr>\n",
              "    <tr>\n",
              "      <th>4</th>\n",
              "      <td>-16</td>\n",
              "      <td>3.2</td>\n",
              "    </tr>\n",
              "  </tbody>\n",
              "</table>\n",
              "</div>\n",
              "      <button class=\"colab-df-convert\" onclick=\"convertToInteractive('df-75ee12c5-2653-403a-a6ee-f499aeb485c1')\"\n",
              "              title=\"Convert this dataframe to an interactive table.\"\n",
              "              style=\"display:none;\">\n",
              "        \n",
              "  <svg xmlns=\"http://www.w3.org/2000/svg\" height=\"24px\"viewBox=\"0 0 24 24\"\n",
              "       width=\"24px\">\n",
              "    <path d=\"M0 0h24v24H0V0z\" fill=\"none\"/>\n",
              "    <path d=\"M18.56 5.44l.94 2.06.94-2.06 2.06-.94-2.06-.94-.94-2.06-.94 2.06-2.06.94zm-11 1L8.5 8.5l.94-2.06 2.06-.94-2.06-.94L8.5 2.5l-.94 2.06-2.06.94zm10 10l.94 2.06.94-2.06 2.06-.94-2.06-.94-.94-2.06-.94 2.06-2.06.94z\"/><path d=\"M17.41 7.96l-1.37-1.37c-.4-.4-.92-.59-1.43-.59-.52 0-1.04.2-1.43.59L10.3 9.45l-7.72 7.72c-.78.78-.78 2.05 0 2.83L4 21.41c.39.39.9.59 1.41.59.51 0 1.02-.2 1.41-.59l7.78-7.78 2.81-2.81c.8-.78.8-2.07 0-2.86zM5.41 20L4 18.59l7.72-7.72 1.47 1.35L5.41 20z\"/>\n",
              "  </svg>\n",
              "      </button>\n",
              "      \n",
              "  <style>\n",
              "    .colab-df-container {\n",
              "      display:flex;\n",
              "      flex-wrap:wrap;\n",
              "      gap: 12px;\n",
              "    }\n",
              "\n",
              "    .colab-df-convert {\n",
              "      background-color: #E8F0FE;\n",
              "      border: none;\n",
              "      border-radius: 50%;\n",
              "      cursor: pointer;\n",
              "      display: none;\n",
              "      fill: #1967D2;\n",
              "      height: 32px;\n",
              "      padding: 0 0 0 0;\n",
              "      width: 32px;\n",
              "    }\n",
              "\n",
              "    .colab-df-convert:hover {\n",
              "      background-color: #E2EBFA;\n",
              "      box-shadow: 0px 1px 2px rgba(60, 64, 67, 0.3), 0px 1px 3px 1px rgba(60, 64, 67, 0.15);\n",
              "      fill: #174EA6;\n",
              "    }\n",
              "\n",
              "    [theme=dark] .colab-df-convert {\n",
              "      background-color: #3B4455;\n",
              "      fill: #D2E3FC;\n",
              "    }\n",
              "\n",
              "    [theme=dark] .colab-df-convert:hover {\n",
              "      background-color: #434B5C;\n",
              "      box-shadow: 0px 1px 3px 1px rgba(0, 0, 0, 0.15);\n",
              "      filter: drop-shadow(0px 1px 2px rgba(0, 0, 0, 0.3));\n",
              "      fill: #FFFFFF;\n",
              "    }\n",
              "  </style>\n",
              "\n",
              "      <script>\n",
              "        const buttonEl =\n",
              "          document.querySelector('#df-75ee12c5-2653-403a-a6ee-f499aeb485c1 button.colab-df-convert');\n",
              "        buttonEl.style.display =\n",
              "          google.colab.kernel.accessAllowed ? 'block' : 'none';\n",
              "\n",
              "        async function convertToInteractive(key) {\n",
              "          const element = document.querySelector('#df-75ee12c5-2653-403a-a6ee-f499aeb485c1');\n",
              "          const dataTable =\n",
              "            await google.colab.kernel.invokeFunction('convertToInteractive',\n",
              "                                                     [key], {});\n",
              "          if (!dataTable) return;\n",
              "\n",
              "          const docLinkHtml = 'Like what you see? Visit the ' +\n",
              "            '<a target=\"_blank\" href=https://colab.research.google.com/notebooks/data_table.ipynb>data table notebook</a>'\n",
              "            + ' to learn more about interactive tables.';\n",
              "          element.innerHTML = '';\n",
              "          dataTable['output_type'] = 'display_data';\n",
              "          await google.colab.output.renderOutput(dataTable, element);\n",
              "          const docLink = document.createElement('div');\n",
              "          docLink.innerHTML = docLinkHtml;\n",
              "          element.appendChild(docLink);\n",
              "        }\n",
              "      </script>\n",
              "    </div>\n",
              "  </div>\n",
              "  "
            ],
            "text/plain": [
              "   celsius  fahrenheit\n",
              "0      -20        -4.0\n",
              "1      -19        -2.2\n",
              "2      -18        -0.4\n",
              "3      -17         1.4\n",
              "4      -16         3.2"
            ]
          },
          "metadata": {},
          "execution_count": 18
        }
      ]
    },
    {
      "cell_type": "markdown",
      "source": [
        "Se tivermos um conjunto de dados com valores de temperaturas em $^{o} C$ (Celsius) e seus respectivos valores em $^{o} F$ (Fahrenheit), podemos criar um programa que *aprende* esse padrão e empregá-lo para a conversão de novos dados. "
      ],
      "metadata": {
        "id": "w4c5iFWbT6RA"
      }
    },
    {
      "cell_type": "code",
      "source": [
        "from sklearn.linear_model import LinearRegression\n",
        "\n",
        "X = df[['celsius']] \n",
        "y = df['fahrenheit']\n",
        "\n",
        "regressor = LinearRegression()\n",
        "regressor.fit(X, y)\n",
        "\n"
      ],
      "metadata": {
        "colab": {
          "base_uri": "https://localhost:8080/"
        },
        "id": "vI2svrZsUTDQ",
        "outputId": "d5d156e0-88e6-4a2c-c89e-a85c55f6f7c7"
      },
      "execution_count": null,
      "outputs": [
        {
          "output_type": "execute_result",
          "data": {
            "text/plain": [
              "LinearRegression()"
            ]
          },
          "metadata": {},
          "execution_count": 22
        }
      ]
    },
    {
      "cell_type": "markdown",
      "source": [
        "O programa acima cria um *modelo* (um modelo linear) para os dados. Esse modelo busca capturar o *padrão* dos dados, isto é, a regra que leva os valores de $^{o} C$ (Celsius) $\\rightarrow$ $^{o} F$ (Fahrenheit), e cria um *programa* com essa regra que pode ser aplicado a novos valores. "
      ],
      "metadata": {
        "id": "8jQXxXM6VKIY"
      }
    },
    {
      "cell_type": "code",
      "source": [
        "Fahrenheit_prediction = regressor.predict(pd.DataFrame({'celsius':[0,27]}))\n",
        "print(Fahrenheit_prediction)"
      ],
      "metadata": {
        "id": "tBVS7griU1lI",
        "outputId": "541a7cdd-81e0-4be1-e414-af5dfa3a0f62",
        "colab": {
          "base_uri": "https://localhost:8080/"
        }
      },
      "execution_count": null,
      "outputs": [
        {
          "output_type": "stream",
          "name": "stdout",
          "text": [
            "[32.  80.6]\n"
          ]
        }
      ]
    },
    {
      "cell_type": "markdown",
      "source": [
        "Agora, nosso novo programa `regressor`, converte as temperaturas da mesma forma que o programa `Celsius2Fahrenheit` onde explicitamente codificamos a regra de conversão de Celsius para Fahrenheit, mas *criamos* esse programa unicamente a partir de dados, sem conhecermos explicitamente a regra de conversão. "
      ],
      "metadata": {
        "id": "PoSUG8tLWYmq"
      }
    },
    {
      "cell_type": "code",
      "source": [
        "# The coefficients\n",
        "print(\"Coefficients: \\n\", regressor.coef_, regressor.intercept_)"
      ],
      "metadata": {
        "id": "we0sxSGzW1AI",
        "outputId": "51872af5-a995-4759-e18d-c00b46b526a2",
        "colab": {
          "base_uri": "https://localhost:8080/"
        }
      },
      "execution_count": null,
      "outputs": [
        {
          "output_type": "stream",
          "name": "stdout",
          "text": [
            "Coefficients: \n",
            " [1.8] 32.0\n"
          ]
        }
      ]
    },
    {
      "cell_type": "markdown",
      "source": [
        "Nosso `regressor` é um modelo de regressão linear, um dos modelos de Aprendizado de Máquina mais simples, e que mapeia dados de entrada e saída na forma de uma equação linear.\n",
        "\n",
        "$$ y = a_0 + a_1 x $$ \n",
        "\n",
        "O *aprendizado* consiste em encontrar, nesse modelo, os coeficientes que melhor se ajustam aos dados e você pode notar que os coeficientes obtidos são exatamente os mesmos da nossa fórmula colocada explicitamente no nosso código `Celsius2Fahrenheit`.\n",
        "\n",
        "$$ y = 32 + 1.8 x \\space \\Rightarrow \\space ^{o}C = 32 + \\frac{5}{9} \\times ^{o}F $$ "
      ],
      "metadata": {
        "id": "PWlVNpqXW3OZ"
      }
    },
    {
      "cell_type": "markdown",
      "source": [
        "Talvez você ache pouco interessante o exemplo que apresentamos. Afinal parece ter sido muito mais fácil criar o programa `Celsius2Fahrenheit` e, de fato, quando conhecemos a regra por traz dessas transformações é muito mais simples explicitarmos isso em um programa que empregarmos o Aprendizado de Máquina. Um modelo conhecido (a regra explícita) apresentará sempre um resultado melhor. Mas e quando você não conhece essa regra? \n",
        "\n",
        "Há muitos problemas práticos em que não conhecemos essa regra (ela pode até mesmo não existir) e não podemos, portanto, explicitá-la em um programa. É nesses casos que o Aprendizado de Máquina será útil. \n",
        "\n",
        "Suponha agora que você não saiba como converter temperaturas  $^{o} F$ (Fahrenheit) para  $^{o} C$ (Celsius). É claro que você pode pegar a fórmula anterior e *deduzir*, mas imagine por um momento que você não tem como conhecer e explicitar essa regra (e de fato, diferentemente da fórmula $^{o} C$ $\\rightarrow$  $^{o} F$  você não encontrará essa fórmula aqui no texto!). Podemos aprender essa regra apenas alterando nosso programa de Aprendizado de Máquina, trocando suas entradas e saídas,"
      ],
      "metadata": {
        "id": "hHgEVuFTaENA"
      }
    },
    {
      "cell_type": "code",
      "source": [
        "from sklearn.linear_model import LinearRegression\n",
        "\n",
        "X = df[['fahrenheit']]\n",
        "y = df['celsius'] \n",
        "\n",
        "regressor = LinearRegression()\n",
        "regressor.fit(X, y)\n",
        "\n"
      ],
      "metadata": {
        "outputId": "3234d171-d809-4945-8fe2-db3ac17bb462",
        "colab": {
          "base_uri": "https://localhost:8080/"
        },
        "id": "6NOLGuPBc3kt"
      },
      "execution_count": null,
      "outputs": [
        {
          "output_type": "execute_result",
          "data": {
            "text/plain": [
              "LinearRegression()"
            ]
          },
          "metadata": {},
          "execution_count": 23
        }
      ]
    },
    {
      "cell_type": "code",
      "source": [
        "Celsius_prediction = regressor.predict(pd.DataFrame({'fahrenheit':[32,80.6]}))\n",
        "print(Celsius_prediction)"
      ],
      "metadata": {
        "id": "-UXeSbcyc_Z5",
        "outputId": "70856a56-c27a-4bb0-a3fd-e6769884af8a",
        "colab": {
          "base_uri": "https://localhost:8080/"
        }
      },
      "execution_count": null,
      "outputs": [
        {
          "output_type": "stream",
          "name": "stdout",
          "text": [
            "[ 0. 27.]\n"
          ]
        }
      ]
    },
    {
      "cell_type": "markdown",
      "source": [
        "O mesmo programa `regressor` pode ser empregado para outras transformações de temperatura, como de Kelvin $\\leftrightarrow$ Fahrenheit $\\leftrightarrow$ Celsius, bastando para isso termos essas respectivas temperaturas. "
      ],
      "metadata": {
        "id": "CCPK884Xdt8h"
      }
    },
    {
      "cell_type": "code",
      "source": [
        "df['kelvin'] = (df['fahrenheit'] - 32) * 5/9 + 273.15"
      ],
      "metadata": {
        "id": "fK2rkr6GeFzL"
      },
      "execution_count": null,
      "outputs": []
    },
    {
      "cell_type": "code",
      "source": [
        "from sklearn.linear_model import LinearRegression\n",
        "\n",
        "X = df[['celsius']]\n",
        "y = df['kelvin'] \n",
        "\n",
        "regressor = LinearRegression()\n",
        "regressor.fit(X, y)\n",
        "\n",
        "Kelvin_prediction = regressor.predict(pd.DataFrame({'celsius':[27,0]}))\n",
        "print(Kelvin_prediction)"
      ],
      "metadata": {
        "id": "oNC9BTE8eIJr",
        "outputId": "b30f2ee9-d93c-4d4a-d625-032eb46c2c33",
        "colab": {
          "base_uri": "https://localhost:8080/"
        }
      },
      "execution_count": null,
      "outputs": [
        {
          "output_type": "stream",
          "name": "stdout",
          "text": [
            "[300.15 273.15]\n"
          ]
        }
      ]
    },
    {
      "cell_type": "markdown",
      "source": [
        "O valor aqui é aproximado, pois temos poucos valores de temperaturas Kelvin em nosso conjunto."
      ],
      "metadata": {
        "id": "lDw_cA_KfTLQ"
      }
    },
    {
      "cell_type": "markdown",
      "source": [
        "Esse é um exemplo simples, mas muitos outros problemas, como a estimativa do preço de imóveis a partir de suas características (área, idade do imóvel, localização etc.) ou o tempo de recuperação de um paciente a partir de dados de seu exame, em que não conhecemos a regra explícita (e podem mesmo não haver) para a formação de preços e do tempo para o reestabelecimento do paciente, podem ser resolvidos de modo bastante satisfatório do mesmo modo.\n",
        "\n",
        "> **O Aprendizado de Máquina se aplica a problemas em que não conhecemos as regras explícitas que mapeam as entradas e saídas desejadas. Se a regra é conhecida o modelo explícito será sempre será mais simples e terá melhores resultados.**"
      ],
      "metadata": {
        "id": "XNoftPApgmg3"
      }
    },
    {
      "cell_type": "markdown",
      "source": [
        "# Um pouco de Terminologia\n",
        "\n",
        "## Rótulos ou Variável Objetivo, $y$ \n",
        "Um rótulo ou variável objetivo é a saída que estamos buscando. No nosso exemplo buscamos temperaturas, mas poderíamos estar buscando o preço de imóveis ou tempo de recuperação de pacientes acometidos de uma doença. Muitas vezes essa saída assume valores discretos, comumente chamadas de **classes**, como os valores 'positivo' e 'negativo' para o resultado de um exame de diagnóstico ou detecção de *spam* na caixa de e-mails, ou **grupos**, como 'política', 'economia' e 'esportes' na categorização de notícias e documentos.\n",
        "\n",
        "## Recursos, Features ou Atributos, $X$ \n",
        "Um recurso, feature ou atributos, é uma variável de entrada que pode ter uma ou mais dimensões e corresponde a características daquela instância e que, imaginamos, possam dizer algo sobre o nosso objetivo $y$. Esses atributos podem ser dos mais variados dependendo do problema, de imagens de ressonância para detecção de tumor, a quantidade de palavras e número de letras maiúsculas em mensagens para a detecção de *spam*, até a hora e valores das transações para a detecção de fraudes em cartões de crédito. \n",
        "\n",
        "## Conjunto de Treinamento\n",
        "Em quaisquer casos o Aprendizado de Máquina está sempre associado a um conjunto de dados que são empregados no aprendizado. Esses dados quando apresentam um rótulo, ou variável objetivo, que desejamos conhecer, são frequentemente chamados de **conjunto de treinamento**. Há, entretanto, no Aprendizado de Máquina situações em que empregamos conjuntos dados não rotulados e você irá aprender mais sobre isso adiante. \n",
        "\n",
        "## Modelos\n",
        "Um **modelo** define a relação entre os recursos e o rótulo, isto é, entre as entradas e as saídas (não trataremos por hora os casos em que os dados não são rotulados). Por exemplo, um modelo de Regressão semelhante ao que empregamos antes, pode ser utilizado para se obter uma estimativa de preço de um imóvel a partir de seus atributos como área, idade do imóvel, localização etc.\n",
        "\n",
        "O **treinamento** ou **aprendizado**, significa criar ou treinar o modelo que melhor se ajusta aos dados. No nosso exemplo de temperaturas empregamos *um* modelo linear e o treinamento ou aprendizado consistiu em obter os coeficientes que melhor ajustavam *o* modelo aos dados (não se preocupe, você vai aprender como isso é feito mais adiante). Em um modelo para predição de valores de imóveis a partir de um modelo linear o aprendizado seria obter os coeficientes do modelo,\n",
        "\n",
        "$$ \\text{Preço Imóvel} = a_0 + a_1 \\times \\text{Área} + a_2 \\times \\text{Idade do Imóvel} + ...$$\n",
        "\n",
        "Com os valores dos coeficientes obtidos obtemos *o* modelo, dentro de todos os modelos lineares possíveis, e podemos empregá-lo na\n",
        " estimativa, predição ou **inferência** de novos preços. "
      ],
      "metadata": {
        "id": "SKfrmGLYZE2K"
      }
    },
    {
      "cell_type": "markdown",
      "source": [
        "# Tipos de Aprendizado de Máquina\n",
        "\n",
        "Os sistemas de Aprendizado de Máquina nem sempre são empregados para inferência e, embora aqui nos dediquemos unicamente a esse tipo de aprendizado (o Aprendizado Supervisionado), é importante você entender que há outras formas de aprendizado e que você aprenderá nas disciplinas subsequentes. \n",
        "\n",
        "Sistemas de Aprendizado de Máquina podem simplesmente ser **descritivos**, o que significa que o sistema emprega os dados para explicar o que aconteceu. Por exemplo, podemos *segmentar* um conjunto de consumidores com base em suas características (idade, perfil de consumo etc.) e, com isso, direcionar uma campanha de marketing. Você não faz aqui qualquer inferência. Eles são **preditivos**, quando o sistema usa os dados para prever o que pode acontecer. É o caso dos exemplos que vimos antes: você prevê que uma certa transação de cartão de crédito com base em um conjunto de exemplos de outras transações com valor, local, horário, uso do cartão nas últimas 24h etc. é com uma certa probabilidade uma fraude (e neste caso impede que isso ocorra!). E há ainda os sistemas **prescritivos**, em que o sistema usará os dados para fazer sugestões sobre quais ações tomar, como no caso de um robô-aspirador que vai tomando ações no ambiente e se tornando mais eficiente à medida que *aprende*, isto é, à medida que obtêm mais dados sobre o ambiente. Os sistemas de Aprendizado de Máquina são assim divididos em três subcategorias,\n",
        "\n",
        "* **Aprendizado Supervisionado**  \n",
        "* **Aprendizado Não Supervisionado**\n",
        "* **Aprendizado de Reforço**\n",
        "\n",
        "Havendo ainda sistemas híbridos que combinam descrição, predição e precrição."
      ],
      "metadata": {
        "id": "MaahjyU0r2Q-"
      }
    },
    {
      "cell_type": "markdown",
      "source": [
        "\n",
        "\n",
        "<img src=\"https://github.com/Rogerio-mack/Machine-Learning-I/raw/main/Figures/SUPERVISIONADO_E_REFORCO.png\" width=800, align=\"center\">"
      ],
      "metadata": {
        "id": "Qu0yB4NQEcpb"
      }
    },
    {
      "cell_type": "markdown",
      "source": [
        "<small>\n",
        "\n",
        "<b>\n",
        "Figura 3. Aprendizado de Máquina: Tipos, Tarefas e alguns algoritmos."
      ],
      "metadata": {
        "id": "BgCq7bGYJbTx"
      }
    },
    {
      "cell_type": "markdown",
      "metadata": {
        "id": "bfzvWl9sFX8m"
      },
      "source": [
        "# Aprendizado Supervisionado \n",
        "\n",
        "O aprendizado supervisionado é uma abordagem de aprendizado de máquina definida pelo uso de conjuntos de dados **rotulados**. Por exemplo você pode ter dados de transações de crédito que são previamente rotulados como fraude ou não fraude, dados de exames de tumores rotulados como malignos ou benignos, ou ainda dados de imóveis *rotulados* com os seus preços. Esses dados funcionam como um conjunto de exemplos para o aprendizado e são empregados para treinar ou *supervisionar* os algoritmos para classificar novos dados ou prever valores. \n",
        "\n",
        "Em geral o aprendizado supervisionado trata de dois tipos de problemas, ou tarefas: \n",
        "\n",
        "* **Regressão**\n",
        "* **Classificação**\n",
        "\n",
        "Modelos de **regressão** preveem valores contínuos. Por exemplo, os preços de imóveis ou a probabilidade de um usuário clicar em um anúncio. Modelos de **classificação** prevêm valores discretos, geralmente denominados como **classes**. Por exemplo, determinar se uma mensagem de e-mail é spam ou não é spam, se uma foto é de paisagem, uma pessoa ou um objeto, ou se uma transação de crédito é fraude ou não. \n",
        "\n",
        "\n"
      ]
    },
    {
      "cell_type": "markdown",
      "metadata": {
        "id": "NNDHUXAjO52R"
      },
      "source": [
        "<img src=\"https://github.com/Rogerio-mack/BIG_DATA_Analytics_Mineracao_e_Analise_de_Dados/blob/main/figuras/ClassificationRegressionBreastCancer.png?raw=true\" width=900, align=\"center\">\n",
        "\n",
        "\n",
        "<small> <b>Figura 4. Acima um mesmo conjunto de dados empregado para o aprendizado supervisionado em problemas de classificação e regressão. $y$ são os rótulos associados a cada instância de dados com variáveis preditoras $X$. Os modelos supervisionados criam, a partir dos exemplos do conjunto de treinamento, uma <i> função </i> que reproduz do mesmo padrão de mapeamento das entradas e saídas do conjunto de treinamento. A classificação trata da predição de valores discretos (as classes diagnosis à esquerda, com valores M(aligno) ou B(enigno)). A regressão trata da predição de valores contínuos, como a área média do tumor (à direita). </b>"
      ]
    },
    {
      "cell_type": "markdown",
      "metadata": {
        "id": "DvlBtw1JFzmF"
      },
      "source": [
        "# Aprendizado não Supervisionado\n",
        "\n",
        "O aprendizado não supervisionado usa algoritmos de aprendizado de máquina para analisar e agrupar conjuntos de dados não rotulados. São modelos descritivos, mais analíticos, que os modelos supervisionados e não buscam fornecer uma predição de valores ou categorias. A ideia desses algoritmos é encontrar  padrões ocultos nos dados sem a necessidade de qualquer intervenção humana ou *rótulos* pré-definidos e, por isso, denominados como *não supervisionados*. \n",
        "\n",
        "Modelos de aprendizagem não supervisionados são empregados vários tipos de tarefas ou problemas e os principais são: **agrupamentos** (ou **clusterização**), **associações**, **redução de dimensionalidade** e **detecção de anomalias**.\n",
        "\n",
        "Os modelos de **Clustering** permitem agrupar dados não rotulados com base em suas semelhanças ou diferenças e são empregados em problemas de segmentação de clientes, produtos etc. Algoritmos de **Associação**, podem ser usados ​​para análise de cesta de compras ou sistemas de recomendação e permitem identificar que, clientes que compram um determinado item, também são propensos a comprar outro. Algoritmos como PCA (*Principal Component Analysis*), permitem **reduzir a dimensionalidade** de dados centenas ou milhares de atributos para facilitar uma análise dos dados. E modelos de **detecção de anomalia**, permitem identificar um comportamento suspeito de tráfego de internet em um site, indicando uma falha do sistema ou uma tentativa de *deny-of-service*, ou ainda detectar um movimento em uma câmera de segurança.\n",
        "\n",
        "<img src=\"https://github.com/Rogerio-mack/BIG_DATA_Analytics_Mineracao_e_Analise_de_Dados/blob/main/figuras/NaoSupervisionado.png?raw=true\" width=900, align=\"center\">\n"
      ]
    },
    {
      "cell_type": "markdown",
      "metadata": {
        "id": "3P7vPuE9X7vk"
      },
      "source": [
        "<small> <b>Figura 5. Exemplos de Aprendizado não Supervisionado. Você mesmo, apenas olhando as figuras, poderia identificar tanto os agrupamentos como as anomalias sem, entretanto, ter qualquer exemplo ou rótulos indicando esses grupos e esses pontos atípicos nos dados.  </b>\n",
        "\n",
        "> Indented block\n",
        "\n"
      ]
    },
    {
      "cell_type": "markdown",
      "metadata": {
        "id": "GbgX7NDcRXxQ"
      },
      "source": [
        "# Aprendizado de Reforço\n",
        "\n",
        "O **aprendizado de reforço**  se utiliza de um sistema com um fator de recompensa para o aprendizado. O treinamento ocorre por meio de tentativa e erro estabelecendo-se um sistema de recompensa. Um agente toma uma sequência de decisões na busca de atingir uma meta (o problema que se deseja resolver). As ações que resultam em se aproximar da meta são recompensadas, e ações que se afastam da meta são penalizadas. O agente, desse modo, vai *aprendendo* e se aproximando da solução do problema ao maximizar a recompensa total que pode ser, por exemplo, obter um máximo de pontos em um jogo.Esse tipo de aprendizado é empregado principalmente em robótica e robôs-aspirador implementam  modelos simples desse tipo de aprendizado.\n",
        "\n",
        "\n",
        "\n"
      ]
    },
    {
      "cell_type": "markdown",
      "metadata": {
        "id": "8dJiYIuTHTwn"
      },
      "source": [
        "# Usos do Aprendizado de Máquina \n",
        "\n",
        "Ao longo do texto demos vários exemplos de aplicações que vem sendo feitas do Aprendizado de Máquina. Para algumas empresas o Aprendizado de Máquina está no centro de seus negócios. É caso das redes sociais, do Facebook e o Instagram, ao LinkedIn, ou a Netflix e o sistema de busca da Google. Mas de empresas do varejo à empresas de extração, saúde ou financeiras, todos os setores e mesmo a Ciência, estão adotando o Aprendizado de Máquina, mesmo que não sendo esse o seu propósito central. Revisamos aqui alguns dos usos mais comuns que encontram-se espalhados ao longo do texto para ilustrar aspectos específicos do Aprendizado de Máquina.\n",
        "\n",
        "\n",
        "* **Sistemas de recomendação**. Recomendações da Netflix, YouTube ou Instagram, de mensagens do Twitter ou de anúncios no FaceBook que queremos ver buscam extrair o padrão de preferência dos usuários. \n",
        "\n",
        "* **Detecção de fraude**. Identificação de transações de cartão de crédito ou compras fraudulentas em sites de e-commerce, tentativas fraudulentas de login etc.\n",
        "\n",
        "* **Chatbots**. Chatbots online em que os clientes, interagem por texto ou mesmo fala, com uma máquina que guia o usuário para um determinado resultado empregam uma série de recursos de Aprendizado de Máquina, do processamento de linguagem natural ao aprendizado de reforço. \n",
        "\n",
        "* **Diagnóstico médico**. Algoritmos de aprendizado de máquina são empregados para examinar imagens médicas ou outros dados de pacientes e auxiliar no diagnóstico precoce de doenças como câncer ou diabetes.\n",
        "\n",
        "* **Veículos Autônomos**. Empregam um grande número de recursos de aprendizado de máquina para segmentação de cenas (identificação de ruas, calçadas, prédios e pessoas em uma cena), movimentação autônoma, predição e tratamento de colisão etc. em geral com emprego de algoritmos de Deep Learning.\n",
        "\n",
        "* **Análise e Classificação de Risco**. Para precificação de crédito e seguros.\n",
        "\n"
      ]
    },
    {
      "cell_type": "markdown",
      "metadata": {
        "id": "p2TOw658HZa-"
      },
      "source": [
        "<br>\n",
        "<br>\n",
        "\n",
        "<img src=\"https://github.com/firmai/industry-machine-learning/raw/master/assets/industry.png\" width=500, align=\"center\">\n",
        "\n",
        "[Machine Learning and Data Science Applications in Industry](https://github.com/ashishpatel26/Real-time-ML-Project) | https://github.com/ashishpatel26/Real-time-ML-Project\n",
        "\n",
        "| <!-- -->                         | <!-- -->                         | <!-- -->                          |\n",
        "| -------------------------------- | -------------------------------- | --------------------------------- |\n",
        "| [Accommodation & Food](#accommodation)             | [Agriculture](#agriculture)           | [Banking & Insurance](#bankfin)               |\n",
        "| [Biotechnological & Life Sciences](#biotech) | [Construction & Engineering](#construction)       | [Education & Research](#education)              |\n",
        "| [Emergency & Relief](#emergency)               | [Finance](#finance) | [Manufacturing](#manufacturing)             |\n",
        "| [Government and Public Works](#public)      | [Healthcare](#healthcare)  | [Media & Publishing](#media)                |\n",
        "| [Justice, Law and Regulations](#legal)      | [Miscellaneous](#miscellaneous)                    | [Accounting](#accounting) |\n",
        "| [Real Estate, Rental & Leasing](#realestate)    | [Utilities](#utilities)              | [Wholesale & Retail](#wholesale)                  |\n",
        "\n",
        "<br>\n",
        "<br>\n",
        "\n",
        "O site acima dá uma ideia das várias áreas de aplicação e traz detalhes dos diversos *cases* em cada segmento. Você pode explorar e focar em apenas alguns desses casos que forem mais do seu interesse.\n",
        "\n",
        "\n",
        "\n",
        "\n",
        "\n"
      ]
    },
    {
      "cell_type": "markdown",
      "source": [
        "\n",
        "<img src=\"http://revistapesquisa.fapesp.br/wp-content/uploads/2015/09/Veiculos_00057830-300x212.jpg\" width=500, align=\"center\">\n",
        "\n",
        "<small><b>\n",
        "Figura 6. Carro Autônomo com Tecnologia Nacional. Fonte: https://revistapesquisa.fapesp.br/o-futuro-sem-motorista/\n",
        "\n"
      ],
      "metadata": {
        "id": "OCG7eg-KB6QA"
      }
    },
    {
      "cell_type": "markdown",
      "metadata": {
        "id": "PeyoHA6qHTw_"
      },
      "source": [
        "\n",
        "<img src=\"https://revistapesquisa.fapesp.br/wp-content/uploads/2019/12/068-073_evtol_286-1-IMG.png\" width=500, align=\"center\">\n",
        "\n",
        "<small><b>\n",
        "Figura 7. eVTOL aeronave elétrica de decolagem e pouso vertical sendo desenvolvido pela EMBRAER-UBER. Fonte: https://revistapesquisa.fapesp.br/2019/12/03/a-chegada-dos-carros-voadores/"
      ]
    },
    {
      "cell_type": "markdown",
      "metadata": {
        "id": "XlK3CFlPHTw_"
      },
      "source": [
        "\n",
        "<img src=\"https://revistapesquisa.fapesp.br/wp-content/uploads/2017/07/068-071_madeira_257-3.jpg\" width=500, align=\"center\">\n",
        "\n",
        "<small><b>\n",
        "Figura 8. Sistema Automático de identificação de lâminas de madeira para uso industrial. Fonte: https://revistapesquisa.fapesp.br/2017/07/18/identificacao-de-madeiras/\n"
      ]
    },
    {
      "cell_type": "markdown",
      "metadata": {
        "id": "9VoqvkU2RWei"
      },
      "source": [
        "\n",
        "<img src=\"https://revistapesquisa.fapesp.br/wp-content/uploads/2021/04/SITE_Petroleo-0-1140.jpg\" width=500, align=\"center\">\n",
        "\n",
        "<small><b>\n",
        "Figura 9. Sistema Híbrido combina Mecânica dos Fluídos e Aprendizado de Máquina para exploração mais eficaz do Pré-Sal pela Petrobrás. Fonte: https://revistapesquisa.fapesp.br/producao-mais-eficaz-no-pre-sal/\n"
      ]
    },
    {
      "cell_type": "markdown",
      "metadata": {
        "id": "0NmSzFrRSaDf"
      },
      "source": [
        "\n",
        "<img src=\"https://revistapesquisa.fapesp.br/wp-content/uploads/2020/03/070-074_mineracao-digital_289-3-1140.jpg\" width=500, align=\"center\">\n",
        "\n",
        "<small><b>\n",
        "Figura 10. Mina de alumínio usa sistema automatizado para tratar água de rejeito. Fonte: https://revistapesquisa.fapesp.br/mineracao-digital/ \n"
      ]
    },
    {
      "cell_type": "markdown",
      "source": [
        "<img src=\"https://images-na.ssl-images-amazon.com/images/I/41ny6mN6M1L._SX344_BO1,204,203,200_.jpg\" width=350, align=\"center\">\n",
        "\n",
        "<small><b>\n",
        "Figura 11. Aplicações em Astronomia e Astrofísica: Ciência no Aprendizado de Máquina. Fonte: https://amazon.com/.\n"
      ],
      "metadata": {
        "id": "Kri3DVSrU1pE"
      }
    },
    {
      "cell_type": "markdown",
      "metadata": {
        "id": "npaLwEVBG0w8"
      },
      "source": [
        "# Processo de Ciência de Dados X Aprendizado de Máquina\n",
        "\n",
        "O Aprendizado de Máquina permite extrair conhecimento útil dos dados para resolver problemas práticos, mas não é um processo simples. Por isso, em geral, a construção de modelos envolve uma série de etapas que envolvem tarefas como de Análise e Exploração dos Dados, Preparação dos Dados, Distribuição e Monitoramento dos Sistemas etc. que você já viu ou estará aprendendo em outros módulos. O processo  **CRISP-DM, Cross Industry Standard Process for Data Mining** (Processo Padrão Inter-Indústrias para Mineração de Dados) é um processo de fases bastante aceito na indústria para representar um ciclo completo de Ciência, Análise de Dados e construção de Modelos de Aprendizado de Máquina na Indústria e em geral seguido com poucas variações. \n",
        "\n",
        " \n",
        "\n"
      ]
    },
    {
      "cell_type": "markdown",
      "metadata": {
        "id": "mkikcHbi26Uo"
      },
      "source": [
        "<br>\n",
        "<br>\n",
        "<img src=\"http://meusite.mackenzie.br/rogerio/TIC2021S1$/T1/crispvg.png\" width=1000, align=\"center\">\n",
        "<br>\n",
        "<br>\n",
        "\n",
        "<small><b>\n",
        "Figura 12. As Fases do Processo CRISP-DM. Fonte: http://meusite.mackenzie.br/rogerio/TIC2021S1/T1/crisp_visualguide.pdf\n",
        "</small></b>\n",
        "\n",
        "<br>\n",
        "<br>\n",
        "\n",
        "Você consultar a documentação original desse modelo de referência aqui. \n",
        "\n",
        "* [CRISP Visual Guide](http://meusite.mackenzie.br/rogerio/TIC2021S1/T1/crisp_visualguide.pdf) | Acesse aqui http://meusite.mackenzie.br/rogerio/TIC2021S1/T1/crisp_visualguide.pdf\n",
        "\n",
        "* [CRISP DM 1.0](http://meusite.mackenzie.br/rogerio/TIC2021S1$/T1/crisp-dm.pdf)\n",
        "| Acesse aqui http://meusite.mackenzie.br/rogerio/TIC2021S1$/T1/crisp-dm.pdf\n",
        "\n",
        "De qualquer modo, você encontra a seguir, uma descrição resumida de cada uma dessas fases. \n",
        "\n",
        "### Entendimento do negócio \n",
        "\n",
        "Esta fase inicial concentra-se em compreender os **objetivos e requisitos do projeto ou problema** de uma perspectiva de negócios e traça um plano preliminar do projeto.\n",
        "\n",
        "### Entendimento dos dados \n",
        "\n",
        "Envolve as principais atividades da **EDA**, **Análise Exploratória de Dados**. Dentre outras tarefas, verifica-se aqui a qualidade dos dados. \n",
        "\n",
        "### Preparação de dados\n",
        "\n",
        "A fase de preparação de dados inclui todas as atividades necessárias para tornar os dados adequados para a construção dos modelos. Envolvem a seleção de dados e atributos, transformações como normalização e recodificação dos dados, limpeza dos dados e tratamento de dados faltantes, combinações de dados etc.\n",
        "\n",
        "> **Importante destacar. Na prática,  80% do esforço de se criar modelos de Aprendizado de Máquina nas empresas envolve atividades preliminares de Análise, Exploração e Preparação dos Dados, consideradas bastante enfadonhas. Apenas 20%, ou menos, é dedicado à atividades de criação e análise dos algoritmos.**\n",
        "\n",
        "### Modelagem\n",
        "\n",
        "Nesta fase várias técnicas de modelagem são selecionadas e aplicadas, e seus parâmetros são ajustados na busca de melhores modelos. Algumas técnicas têm diferentes requisitos na preparação dos dados. Portanto, voltar à fase de preparação de dados é muitas vezes necessário. E\n",
        "\n",
        "> **As fases não são completamente estanques e, frequentemente, identificamos em uma fase a necessidade de retornar a fase anterior.** \n",
        "\n",
        "### Avaliação\n",
        "\n",
        "Você construiu um modelo, ou vários modelos, mas é necessário avaliar a sua qualidade ou comparar diversos modelos que competem para atingir os objetivos do projeto. Aqui o papel das **métricas** de eficiência dos modelos é fundamental havendo diferentes métricas para diversos modelos de aprendizado.\n",
        "\n",
        "### Distribuição\n",
        "\n",
        "Concluído um modelo é necessário que ele seja organizado e distribuído para uso. Essa etapa na indústria, em geral, envolve a implementação de *pipelines* do modelo. \n",
        "\n"
      ]
    },
    {
      "cell_type": "markdown",
      "metadata": {
        "id": "oO3RnKjR44_T"
      },
      "source": [
        "# Sumário da Aula\n",
        "\n",
        "Nesta unidade você tomou contato os principais conceitos Aprendizado de Máquina e a partir de uma série de exemplos você pôde entender a sua importância em todos os setores da indústria.\n",
        "\n",
        "Você deve ter entendido as diferenças entre **Inteligência Artificial** e o **Aprendizado de Máquina**, que trata de um tipo de Inteligência baseado em Dados. Isso cria um novo paradigma para o desenvolvimento de programas e a solução de problemas. \n",
        "\n",
        "Você também aprendeu o que são e como diferenciar os Aprendizados de Máquina **Supervisionado**, **Não Supervisionado** e de **Reforço**, sendo característico de cada um a predição, a descrição ou a prescrição a partir de dados. \n",
        "\n",
        "No restante deste curso trataremos unicamente modelos de Aprendizado Supervisionado e, particularmente, estaremos interessados em construir, analisar e explorar modelos de **Regressão (predição de valores)** e **Classificação (predição de classes ou categorias)** a partir de dados previamente rotulados, os **conjuntos de treinamento**. \n",
        "\n",
        "\n",
        "\n",
        " \n"
      ]
    },
    {
      "cell_type": "markdown",
      "metadata": {
        "id": "k4noMRT_YUd7"
      },
      "source": [
        "# Para Saber Mais\n",
        "\n",
        "* Acesse * ___.**Google, Crash Course - ML Introduction**. em: https://developers.google.com/machine-learning/crash-course/ml-intro, e assista aos vídeos dos capítulos *Introduction to ML* (3min), *Framing* (15min) e *Descending into ML* (20min) para revisar boa parte dos conceitos que você aprendeu aqui em uma visão da Google.\n",
        "\n",
        "* Que tal explorar alguns cases de aplicação do aprendizado de máquina dentro da sua área de interesse e compartilhar com os colegas? Acesse aqui ___.**Machine Learning and Data Science Applications in Industry** Disponível em: https://github.com/ashishpatel26/Real-time-ML-Project e explore alguns desses cases!\n",
        "\n",
        "* Neste curso você vai entender e aplicar vários modelos de aprendizado aprendizado supervisionado. Que tal entender mais sobre esses modelos? Acesse, então ___.**What is Machine Learning?** Disponível em: https://c3.ai/introduction-what-is-machine-learning/supervised-learning/ Acesso em: 02 de Novembro de 2021. Esse texto trás e explica exmplos de aprendizado supervisionado para classificação e regressão de dados. "
      ]
    },
    {
      "cell_type": "markdown",
      "metadata": {
        "id": "fa24d435"
      },
      "source": [
        "# Referências"
      ]
    },
    {
      "cell_type": "markdown",
      "metadata": {
        "id": "zlJfWteFyhFy"
      },
      "source": [
        "\n",
        "* Brown, Sata. **Machine learning, explained**. April, 2021. Disponível em: https://mitsloan.mit.edu/ideas-made-to-matter/machine-learning-explained. Acesso em: 04 de Março de 2022.\n",
        "\n",
        "* Pete Chapman, Julian Clinton, Randy Kerber,\n",
        "Thomas Khabaza, Thomas Reinartz,\n",
        "Colin Shearer, Rüdiger Wirth **[CRISP DM 1.0](http://meusite.mackenzie.br/rogerio/TIC2021S1$/T1/crisp-dm.pdf) Step-by-step data mining guide**\n",
        "Disponível em: http://meusite.mackenzie.br/rogerio/TIC2021S1$/T1/crisp-dm.pdf Acesso em: 29 de Agosto de 2021.\n",
        "\n",
        "* Delua, Julianna **Supervised vs. Unsupervised Learning: What’s the Difference?** Disponível em: https://www.ibm.com/cloud/blog/supervised-vs-unsupervised-learning Acesso em: 02 de Novembro de 2021.\n",
        "\n",
        "* Mwiti, Derrick **10 Real-Life Applications of Reinforcement Learning** Disponível em: https://neptune.ai/blog/reinforcement-learning-applications Acesso em: 02 de Novembro de 2021.\n",
        "\n",
        "* Kotu, Vijay; Deshpande, Balachandre **Data Science: concepts and practice**. 2nd ed. Cambridge, [England]: Morgan Kaufmann, c2019. E-book (570 p.) ISBN 9780128147627 (electronic bk.). Disponível em: http://pergamum.mackenzie.br:8080/pergamumweb/vinculos/00003c/00003cef.jpg.\n",
        "\n",
        "* Alpaydin, E. **Machine Learning** (The MIT Press Essential Knowledge). The MIT Press. 2019.\n",
        "\n",
        "* Kelleher,John D.; Tierney, Brendan. **Data Science** (The MIT Press Essential Knowledge). The MIT Press. 2018.\n",
        "\n",
        "* ___.**What is Machine Learning?** Disponível em: https://c3.ai/introduction-what-is-machine-learning/supervised-learning/ Acesso em: 02 de Novembro de 2021.\n",
        "\n",
        "* ___.**Machine Learning and Data Science Applications in Industry** Disponível em: https://github.com/ashishpatel26/Real-time-ML-Project Acesso em: 02 de Novembro de 2021.\n",
        "\n",
        "* ___.**Google, Crash Course - ML Introduction**. Disponível em: https://developers.google.com/machine-learning/crash-course/ml-intro. Acesso em: 03 de Março de 2022."
      ]
    }
  ]
}