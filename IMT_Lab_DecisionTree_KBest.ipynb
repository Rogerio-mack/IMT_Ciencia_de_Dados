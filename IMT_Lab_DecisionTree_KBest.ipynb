{
  "nbformat": 4,
  "nbformat_minor": 0,
  "metadata": {
    "colab": {
      "provenance": [],
      "authorship_tag": "ABX9TyMmLDq9Y1Xo9d0acppLgmzc",
      "include_colab_link": true
    },
    "kernelspec": {
      "name": "python3",
      "display_name": "Python 3"
    },
    "language_info": {
      "name": "python"
    }
  },
  "cells": [
    {
      "cell_type": "markdown",
      "metadata": {
        "id": "view-in-github",
        "colab_type": "text"
      },
      "source": [
        "<a href=\"https://colab.research.google.com/github/Rogerio-mack/IMT_Ciencia_de_Dados/blob/main/IMT_Lab_DecisionTree_KBest.ipynb\" target=\"_parent\"><img src=\"https://colab.research.google.com/assets/colab-badge.svg\" alt=\"Open In Colab\"/></a>"
      ]
    },
    {
      "cell_type": "markdown",
      "metadata": {
        "id": "80CF3Eq9EXDW"
      },
      "source": [
        "<head>\n",
        "  <meta name=\"author\" content=\"Rogério de Oliveira\">\n",
        "  <meta institution=\"author\" content=\"ITM\">\n",
        "</head>\n",
        "\n",
        "<img src=\"https://maua.br/images/selo-60-anos-maua.svg\" width=300, align=\"right\">\n",
        "<!-- <h1 align=left><font size = 6, style=\"color:rgb(200,0,0)\"> optional title </font></h1> -->\n"
      ]
    },
    {
      "cell_type": "markdown",
      "source": [
        "# Lab: Decision Tree, LabelEncode, SelectKBest\n",
        "\n",
        "Aprenda neste Lab:\n",
        "\n",
        "1. Empregar o modelo de Árvore de Decisão\n",
        "2. Para modelos de Árvore de Decisão, é necessário normalizar os dados?\n",
        "3. Podemos criar modelos mais eficientes com menos features?"
      ],
      "metadata": {
        "id": "J7qHmzCVOGY0"
      }
    },
    {
      "cell_type": "markdown",
      "metadata": {
        "_uuid": "9dd9e07c590ca22f0c525222f60f0ebff4e092c6",
        "id": "kIr_4QzOlOOo"
      },
      "source": [
        "# Caso: **Propensão de Compra de Clientes por Telemarketing**\n",
        "\n",
        "https://archive.ics.uci.edu/ml/datasets/Bank+Marketing\n",
        "\n",
        "Os dados refere-se a campanhas de marketing direto de uma instituição bancária portuguesa. As campanhas de marketing foram baseadas em telefonemas e visavam buscar a conversão dos clientes para compra de um produto (depósito bancário), sendo `y` ('yes') ou não ('no') o resultado da aquisição ou não pelo cliente. Os clientes podem então ser avaliados para direcionar um reforço de campanha, por exemplo, fazendo uma nova ligação para clientes com propensão 'yes', mas que ainda não adquiriram o produto. Modelos semelhantes são empregados também em campanhas de *churn* de clientes.\n",
        "\n",
        "Os dados para construção do modelo estão [aqui](https://github.com/Rogerio-mack/IMT_Ciencia_de_Dados/raw/main/data/bank-full.csv) e aqui os [novos dados](https://github.com/Rogerio-mack/IMT_Ciencia_de_Dados/raw/main/data/bank-new.csv) a serem avaliados.\n",
        "\n",
        "\n"
      ]
    },
    {
      "cell_type": "markdown",
      "source": [
        "# Roteiro\n",
        "\n",
        "Neste laboratório:\n",
        "\n",
        "1. Crie um modelo de Árvore de Decisão que leva em consideração todos os atributos não normalizados\n",
        "2. Crie um modelo de Árvore de Decisão que leva em consideração todos os atributos normalizados\n",
        "3. Compare os dois modelos\n",
        "4. Crie um modelo de Árvore de Decisão que leva em consideração apenas os 8 melhores atributos (não normalizados) para predição\n",
        "5. Compare os resultados com o do primeiro modelo\n",
        "6. Faça uma predição para novos casos\n",
        "\n",
        "\n"
      ],
      "metadata": {
        "id": "iQw2jyGSPEm1"
      }
    },
    {
      "cell_type": "markdown",
      "source": [
        "# Imports"
      ],
      "metadata": {
        "id": "qY626idVOFLF"
      }
    },
    {
      "cell_type": "code",
      "source": [
        "# seu código"
      ],
      "metadata": {
        "id": "3ro1Wl1sahqH"
      },
      "execution_count": null,
      "outputs": []
    },
    {
      "cell_type": "markdown",
      "source": [
        "# Aquisição dos Dados"
      ],
      "metadata": {
        "id": "7cGDYkwOOBAV"
      }
    },
    {
      "cell_type": "code",
      "source": [
        "# seu código"
      ],
      "metadata": {
        "id": "Hu7DEKj7albm"
      },
      "execution_count": null,
      "outputs": []
    },
    {
      "cell_type": "markdown",
      "source": [
        "# Faça o `LabelEncoder` dos dados\n",
        "\n",
        "Mesmo para modelos de Árvore de Decisão, o `scikit-learn` requer rótulos numéricos. Aqui vamos aplicar o LabelEncoder também ao atributo objetivo `y` (o que seria opcional).\n",
        "\n",
        "Dicas:\n",
        "\n",
        "* Consulte as notas de aula ou a documentação do `LabelEncoder`, diferentemente do `HotOneEncoder` ele opera por atributo\n",
        "* Crie um dicionário para salvar as transformações aplicadas para cada atributo (por que?)\n",
        "* Se quiser, persista esse dicionário"
      ],
      "metadata": {
        "id": "mWdTW_VkR4yN"
      }
    },
    {
      "cell_type": "code",
      "source": [
        "# seu código"
      ],
      "metadata": {
        "id": "5Sf6s7lPldR3"
      },
      "execution_count": null,
      "outputs": []
    },
    {
      "cell_type": "markdown",
      "source": [
        "Q1. Qual o código gerado para job management, job student e education unknown?\n"
      ],
      "metadata": {
        "id": "TzFQiBIgTwcW"
      }
    },
    {
      "cell_type": "code",
      "source": [
        "# seu código"
      ],
      "metadata": {
        "id": "mqDR9enzTKFl"
      },
      "execution_count": null,
      "outputs": []
    },
    {
      "cell_type": "markdown",
      "source": [
        "# Construa um modelo de Árvore de Decisão (dados não normalizados)\n",
        "\n",
        "Empregue a separação de dados de treinamento e teste como abaixo e os parâmetros padrão de um modelo de árvore de decisão. Sugestão: chame esse modelo de `clf1` e suas predições de `y_pred1`."
      ],
      "metadata": {
        "id": "Qby8IjatUYhe"
      }
    },
    {
      "cell_type": "code",
      "source": [
        "# seu código\n",
        "\n",
        "...\n",
        "\n",
        "X_train, X_test, y_train, y_test = train_test_split(X, y, stratify=y, test_size=0.3, random_state=1)\n",
        "\n",
        "..."
      ],
      "metadata": {
        "id": "zfLpWxshDJVT"
      },
      "execution_count": null,
      "outputs": []
    },
    {
      "cell_type": "markdown",
      "source": [
        "Q2. Qual a acuracidade total obtida?\n",
        "\n",
        "Q3. Esse é um problema de classes desbalanceadas? Você pode observar isso pelo classification report?"
      ],
      "metadata": {
        "id": "ch16AZ_SUvh9"
      }
    },
    {
      "cell_type": "markdown",
      "source": [
        "# Construa um modelo de Árvore de Decisão dos dados normalizados\n",
        "\n",
        "Aplique a normalização `StandardScaler`,\n",
        "empregue a separação de dados de treinamento e teste como abaixo e os parâmetros padrão de um modelo de árvore de decisão. Os valores de `y` não serão normalizados. Sugestão: chame esse modelo de `clf2` e suas predições de `y_pred2`."
      ],
      "metadata": {
        "id": "qoy09ZzdV_VQ"
      }
    },
    {
      "cell_type": "code",
      "source": [
        "# seu código"
      ],
      "metadata": {
        "id": "tzitqd66qxG_"
      },
      "execution_count": null,
      "outputs": []
    },
    {
      "cell_type": "code",
      "source": [
        "# seu código\n",
        "\n",
        "...\n",
        "\n",
        "X_train, X_test, y_train, y_test = train_test_split(X, y, stratify=y, test_size=0.3, random_state=1)\n",
        "\n",
        "..."
      ],
      "metadata": {
        "id": "nClpNlTCp4XB"
      },
      "execution_count": null,
      "outputs": []
    },
    {
      "cell_type": "markdown",
      "source": [
        "Q4. Qual a acuracidade do novo modelo obtido com os dados normalizados?\n",
        "\n",
        "Q5. Qual a diferença entre as predições dos modelos não normalizado e normalizado? O que você pode dizer que confirma com esse resultado?"
      ],
      "metadata": {
        "id": "N92Shzx9WmHG"
      }
    },
    {
      "cell_type": "code",
      "source": [
        "# seu código"
      ],
      "metadata": {
        "id": "qanRpHVWDpat"
      },
      "execution_count": null,
      "outputs": []
    },
    {
      "cell_type": "markdown",
      "source": [
        "# Construa um modelo de Árvore de Decisão (dados não normalizados) selecionando apenas os melhores recursos.\n",
        "\n",
        "Repita o modelo `clf1` empregando agora somente os 8 atributos mais significativos (empregue o critério da ANOVA). Sugestão: chame esse modelo de `clf3` e suas predições de `y_pred3`."
      ],
      "metadata": {
        "id": "EhYx66T_XTmI"
      }
    },
    {
      "cell_type": "code",
      "source": [
        "# seu código"
      ],
      "metadata": {
        "id": "vrB0O2dCFWWT"
      },
      "execution_count": null,
      "outputs": []
    },
    {
      "cell_type": "markdown",
      "source": [
        "Q6. Assinale as alternativas em que só aparecem atributos que foram selecionados.\n",
        "\n"
      ],
      "metadata": {
        "id": "2-RLWnjjYEdd"
      }
    },
    {
      "cell_type": "code",
      "source": [
        "# seu código\n",
        "\n",
        "...\n",
        "\n",
        "X_train, X_test, y_train, y_test = train_test_split(X, y, stratify=y, test_size=0.3, random_state=1)\n",
        "\n",
        "..."
      ],
      "metadata": {
        "id": "raAhdC1lFxvN"
      },
      "execution_count": null,
      "outputs": []
    },
    {
      "cell_type": "code",
      "source": [
        "#@markdown generate bank-new\n",
        "import pandas as pd\n",
        "\n",
        "df_new = pd.read_csv('http://meusite.mackenzie.br/rogerio/TIC/bank-full.csv')\n",
        "df_new = df_new.drop(columns='y')\n",
        "df_new = df_new.iloc[[168,44781,34863,5358,35390,24158, 32728, 13395, 39697, 43203]]\n",
        "df_new = df_new.reset_index(drop=True)\n",
        "df_new.to_csv('bank-new.csv',index=None)\n",
        "\n",
        "df_new.head()"
      ],
      "metadata": {
        "cellView": "form",
        "id": "ULqsIH1yHre1"
      },
      "execution_count": null,
      "outputs": []
    },
    {
      "cell_type": "markdown",
      "source": [
        "Q7. Qual a acuracidade do novo modelo obtido somente com os atributos selecionados?"
      ],
      "metadata": {
        "id": "z05T3myWYuX-"
      }
    },
    {
      "cell_type": "markdown",
      "source": [
        "# Predição\n",
        "\n",
        "Faça a predição dos novos casos com base no último modelo. Dica: não esqueça de aplicar as mesmas tranformações de encode aplicadas antes."
      ],
      "metadata": {
        "id": "8oo_EnZ8Y-uH"
      }
    },
    {
      "cell_type": "code",
      "source": [
        "# seu código"
      ],
      "metadata": {
        "id": "Z6xwjFw8J1Mb"
      },
      "execution_count": null,
      "outputs": []
    },
    {
      "cell_type": "markdown",
      "source": [
        "Q8. Quais as predições obtidas?"
      ],
      "metadata": {
        "id": "-m7J8P2VZL5d"
      }
    }
  ]
}