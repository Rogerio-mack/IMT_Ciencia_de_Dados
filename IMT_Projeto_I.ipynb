{
  "nbformat": 4,
  "nbformat_minor": 0,
  "metadata": {
    "kernelspec": {
      "display_name": "Python 3",
      "language": "python",
      "name": "python3"
    },
    "language_info": {
      "codemirror_mode": {
        "name": "ipython",
        "version": 3
      },
      "file_extension": ".py",
      "mimetype": "text/x-python",
      "name": "python",
      "nbconvert_exporter": "python",
      "pygments_lexer": "ipython3",
      "version": "3.7.4"
    },
    "colab": {
      "provenance": [],
      "include_colab_link": true
    }
  },
  "cells": [
    {
      "cell_type": "markdown",
      "metadata": {
        "id": "view-in-github",
        "colab_type": "text"
      },
      "source": [
        "<a href=\"https://colab.research.google.com/github/Rogerio-mack/IMT_Ciencia_de_Dados/blob/main/IMT_Projeto_I.ipynb\" target=\"_parent\"><img src=\"https://colab.research.google.com/assets/colab-badge.svg\" alt=\"Open In Colab\"/></a>"
      ]
    },
    {
      "cell_type": "markdown",
      "metadata": {
        "id": "80CF3Eq9EXDW"
      },
      "source": [
        "<head>\n",
        "  <meta name=\"author\" content=\"Rogério de Oliveira\">\n",
        "  <meta institution=\"author\" content=\"ITM\">\n",
        "</head>\n",
        "\n",
        "<img src=\"https://maua.br/images/selo-60-anos-maua.svg\" width=300, align=\"right\">\n",
        "<!-- <h1 align=left><font size = 6, style=\"color:rgb(200,0,0)\"> optional title </font></h1> -->\n"
      ]
    },
    {
      "cell_type": "markdown",
      "source": [
        "# Projeto I - **EDA (Exploratory Data Analysis)**\n",
        "---\n",
        "\n",
        "<br>\n",
        "\n",
        "\n",
        "O objetivo do projeto é a construção completa de um **EDA (Exploratory Data Analysis)** sobre um conjunto de dados original fornecendo ***insights* relevantes sobre tema dos dados selecionados**. \n",
        "\n",
        "É esperado que os alunos empreguem no projeto os recursos aprendidos de seleção, preparação e visualização dos dados.\n",
        "\n",
        "## Diferenciais dos projetos\n",
        "\n",
        "São também valorizados os seguintes diferenciais nos projetos:\n",
        "\n",
        "1. Uso de **bases complementares** ao conjunto de dados principal.\n",
        "2. Em princípio os projetos podem contemplar uma análise geral de dados, mas podem, alternativamente, apresentarem uma **aplicação para análise de dados individuais** como no caso de análise de dados de um usuário particular de streaming ou de um país em particular dentro de um grande conjunto de dados.\n",
        "3. **Uso de dados próprios e originais**, como dados reais de empresas, negócio ou pesquisa.\n",
        "4. Emprego de **técnicas e ferramentas diferenciadas** do conteúdo do curso. As ferramentas devem, entretanto, estar dentro do escopo de ferramentas programáticas, livres e de acesso via Colab. "
      ],
      "metadata": {
        "id": "4E7cGBuZaOmL"
      }
    },
    {
      "cell_type": "markdown",
      "source": [
        "# Bases de dados elegíveis\n",
        "\n",
        "Cadastre [aqui](https://docs.google.com/spreadsheets/d/1wpGCrESGaXMvRrn3ocK1UXy49_NS6htT_o22ngkXcGY/edit?usp=sharing) a base selecionada para o seu projeto. São permitidos até 3 grupos por base.\n",
        "\n",
        "* [Airbnb](http://insideairbnb.com/get-the-data/), Data\n",
        "* [Inpe, Dados Abertos sobre Queimadas](https://queimadas.dgi.inpe.br/queimadas/dados-abertos/), API + Data\n",
        "* [IMDB](https://www.imdb.com/interfaces/), Data (alternativamente [OMDBAPI](https://www.omdbapi.com/), API)\n",
        "* [Spotify](https://developer.spotify.com/documentation/web-api/), API + [Data](https://research.atspotify.com/datasets/)\n",
        "* [INMET, Instituto Nacional de Meteorologia](https://portal.inmet.gov.br/dadoshistoricos), Data\n",
        "* [Gapminder](https://www.gapminder.org/), Data\n",
        "* [World Bank's Gender Data Portal](https://genderdata.worldbank.org/), Data (complementarmente use [OECD](https://www.oecd.org/gender/data/)) \n",
        "* [World Inequality Database](https://wid.world/), Data\n",
        "* [Waze](https://developers.google.com/waze?hl=pt-br), API\n",
        "* **Outra?** Verifique antes com o professor a aprovação do conjunto de dados. Preferencialmente os dados devem ser dados *não previamente tratados e  originais*, evitando-se assim fontes como o *Kaggle* e *data.world*, podendo ser ainda ser empregados dados reais de uma empresa, negócio ou pesquisa. \n"
      ],
      "metadata": {
        "id": "pftbdJn5O7Jg"
      }
    },
    {
      "cell_type": "markdown",
      "source": [
        "# Entrega\n",
        "\n",
        "**`GitHub`** do projeto (preferencialmente como organização) constando minimamente:\n",
        "\n",
        "1. **`readme`** do projeto\n",
        "\n",
        "2. Notebooks `python` do projeto, com **`.ipynb` 100% executáveis** com a aquisição, preparação e todas as análises desenvolvidas. Os notebooks devem ser contruídos na forma de um Relatório tendo, além dos códigos, \n",
        "uma  **Descrição dos Procedimentos e Resultados**.\n",
        "\n",
        "3. **Datafólio** de resultados\n",
        "\n",
        "4. Dados originais empregados (ou links de acesso) e dados intermediários produzidos. Os notebooks devem acessar os dados e executarem sem a necessidade de procedimentos externos (como download ou upload de dados pelo usuário) \n",
        "\n",
        "5. **Referências**\n",
        "\n",
        "6. Link para o vídeos (se houverem) da apresentação técnica e do datafólio. "
      ],
      "metadata": {
        "id": "leEpWNTpht5z"
      }
    },
    {
      "cell_type": "markdown",
      "source": [
        "# Critérios de Avaliação\n",
        "\n",
        "Avaliação pelo professor e os **pares**.\n",
        "\n",
        "1. **Completo**\n",
        "\n",
        "> São cumpridos todos os requisitos do projeto? A quantidade de análises realizadas é satisfatória?  \n",
        "\n",
        "2. **Relevância**\n",
        "\n",
        "> As análises apresentadas são relevantes à temática dos dados? São originais, mostrando esforço em compreender a temática dos dados além das técnicas de análise? Há referências quando do emprego de conceitos relacionados aos dados.\n",
        "\n",
        "3. **Técnicas Empregadas**\n",
        "\n",
        "> Todas as técnicas são empregadas corretamente? Há identificação de um esforço do emprego de melhores práticas? Há referências quanto ao uso de novas técnicas? \n",
        "\n",
        "4. **Apresentação Técnica e de Resultados**\n",
        "\n",
        "> A apresentação das técnicas e dos resultados é clara, objetiva e bem cuidada?  \n",
        ">* Notebook\n",
        ">* Datafólio\n",
        ">* Vídeo ou apresentações ao vivo\n",
        "\n",
        "5. **Conclusão**\n",
        "\n",
        "> As conclusões são justificadas e relevantes? \n",
        "\n",
        "**Bônus** (até 0.5), A critério do professor por inovações na abordagem e no uso de técnicas de Análise de Dados.\n",
        "\n"
      ],
      "metadata": {
        "id": "PCrZL_VCgScr"
      }
    }
  ]
}