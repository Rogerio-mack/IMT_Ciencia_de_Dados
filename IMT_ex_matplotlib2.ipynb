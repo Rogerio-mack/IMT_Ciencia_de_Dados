{
  "nbformat": 4,
  "nbformat_minor": 0,
  "metadata": {
    "celltoolbar": "Edit Metadata",
    "colab": {
      "provenance": [],
      "include_colab_link": true
    },
    "kernelspec": {
      "display_name": "Python 3",
      "language": "python",
      "name": "python3"
    },
    "language_info": {
      "codemirror_mode": {
        "name": "ipython",
        "version": 3
      },
      "file_extension": ".py",
      "mimetype": "text/x-python",
      "name": "python",
      "nbconvert_exporter": "python",
      "pygments_lexer": "ipython3",
      "version": "3.6.13"
    }
  },
  "cells": [
    {
      "cell_type": "markdown",
      "metadata": {
        "id": "view-in-github",
        "colab_type": "text"
      },
      "source": [
        "<a href=\"https://colab.research.google.com/github/Rogerio-mack/IMT_Ciencia_de_Dados/blob/main/IMT_ex_matplotlib2.ipynb\" target=\"_parent\"><img src=\"https://colab.research.google.com/assets/colab-badge.svg\" alt=\"Open In Colab\"/></a>"
      ]
    },
    {
      "cell_type": "markdown",
      "metadata": {
        "id": "80CF3Eq9EXDW"
      },
      "source": [
        "<head>\n",
        "  <meta name=\"author\" content=\"Rogério de Oliveira\">\n",
        "  <meta institution=\"author\" content=\"ITM\">\n",
        "</head>\n",
        "\n",
        "<img src=\"https://maua.br/images/selo-60-anos-maua.svg\" width=300, align=\"right\">\n",
        "<!-- <h1 align=left><font size = 6, style=\"color:rgb(200,0,0)\"> optional title </font></h1> -->\n"
      ]
    },
    {
      "cell_type": "markdown",
      "source": [
        "# Lab: Matplotlib **Evolução**\n",
        "\n",
        "Aprimore aqui como empregar o modo `artist layer` e como empregar gráficos de linha para acompanhar a tendência ou evolução dos dados.\n",
        "\n",
        "<br>\n",
        "\n",
        "Referências e Materiais úteis para este Lab:\n",
        "\n",
        "- Oliveira, R. (2022). [Visualizacao de Dados em Python](https://github.com/Rogerio-mack/Visualizacao-de-Dados-em-Python) ISBN: 978-65-5545-511-3. [Editora Mackenzie](https://www.mackenzie.br/editora/livro/n/a/i/visualizacao-de-dados-com-python), [Amazon](https://www.amazon.com.br/VISUALIZA%C3%87%C3%83O-DADOS-PYTHON-ROGERIO-OLIVEIRA/dp/655545511X) ou [Martins Fontes](https://www.martinsfontespaulista.com.br/visualizacao-de-dados-com-python-997336/p)\n",
        "<p>\n",
        "  <img src=\"https://github.com/Rogerio-mack/Visualizacao-de-Dados-em-Python/raw/main/figuras/capas/1.png\" width=\"30%\" align=\"left\"/>\n",
        "</p>\n",
        "\n",
        "<br>\n",
        "<br>\n",
        "<br>\n",
        "<br>\n",
        "<br>\n",
        "<br>\n",
        "<br>\n",
        "<br>\n",
        "<br>\n",
        "<br>\n",
        "<br>\n",
        "<br>\n",
        "<br>\n",
        "<br>\n",
        "<br>\n",
        "\n",
        "* Capítulo [Gráficos com Matplotlib](http://meusite.mackenzie.br/rogerio/MyBook/_build/html/c2_parte_1.html)\n",
        "\n",
        "* Capítulo [Evolução](http://meusite.mackenzie.br/rogerio/MyBook/_build/html/c3_parte_1.html)\n",
        "\n",
        "* https://matplotlib.org/\n",
        "\n",
        "* https://matplotlib.org/stable/tutorials/index.html\n",
        "\n",
        "* https://matplotlib.org/stable/gallery/index.html\n",
        "\n",
        "\n",
        "---\n",
        "\n"
      ],
      "metadata": {
        "id": "dEyV_GqcqtL1"
      }
    },
    {
      "cell_type": "markdown",
      "source": [
        "# Basic imports"
      ],
      "metadata": {
        "id": "6AsPs0GIlyle"
      }
    },
    {
      "cell_type": "code",
      "metadata": {
        "id": "jf4DkEBpGdr4"
      },
      "source": [
        "import numpy as np\n",
        "import pandas as pd\n",
        "import matplotlib.pyplot as plt             \n",
        "%matplotlib inline\n",
        "import seaborn as sns\n"
      ],
      "execution_count": null,
      "outputs": []
    },
    {
      "cell_type": "markdown",
      "source": [
        "# **CASE: fmri**\n",
        "\n",
        "Nos exercícios a seguir partimos da seguinte base de dados:"
      ],
      "metadata": {
        "id": "ZnHW0EDTbe0y"
      }
    },
    {
      "cell_type": "code",
      "source": [
        "df = sns.load_dataset('fmri')\n",
        "df = df.sort_values('timepoint')\n",
        "df.head()"
      ],
      "metadata": {
        "id": "noa0mQQy_Ecw",
        "outputId": "ac184329-8d18-4387-a1e7-cf9283167947",
        "colab": {
          "base_uri": "https://localhost:8080/",
          "height": 206
        }
      },
      "execution_count": null,
      "outputs": [
        {
          "output_type": "execute_result",
          "data": {
            "text/plain": [
              "     subject  timepoint event    region    signal\n",
              "1063      s0          0   cue  parietal -0.006899\n",
              "258       s7          0  stim  parietal  0.004081\n",
              "259       s6          0  stim  parietal -0.023319\n",
              "260       s5          0  stim  parietal -0.051228\n",
              "865       s5          0   cue   frontal -0.027033"
            ],
            "text/html": [
              "\n",
              "  <div id=\"df-b096f2fe-c2cd-4382-9c10-a5f1905dd6ba\">\n",
              "    <div class=\"colab-df-container\">\n",
              "      <div>\n",
              "<style scoped>\n",
              "    .dataframe tbody tr th:only-of-type {\n",
              "        vertical-align: middle;\n",
              "    }\n",
              "\n",
              "    .dataframe tbody tr th {\n",
              "        vertical-align: top;\n",
              "    }\n",
              "\n",
              "    .dataframe thead th {\n",
              "        text-align: right;\n",
              "    }\n",
              "</style>\n",
              "<table border=\"1\" class=\"dataframe\">\n",
              "  <thead>\n",
              "    <tr style=\"text-align: right;\">\n",
              "      <th></th>\n",
              "      <th>subject</th>\n",
              "      <th>timepoint</th>\n",
              "      <th>event</th>\n",
              "      <th>region</th>\n",
              "      <th>signal</th>\n",
              "    </tr>\n",
              "  </thead>\n",
              "  <tbody>\n",
              "    <tr>\n",
              "      <th>1063</th>\n",
              "      <td>s0</td>\n",
              "      <td>0</td>\n",
              "      <td>cue</td>\n",
              "      <td>parietal</td>\n",
              "      <td>-0.006899</td>\n",
              "    </tr>\n",
              "    <tr>\n",
              "      <th>258</th>\n",
              "      <td>s7</td>\n",
              "      <td>0</td>\n",
              "      <td>stim</td>\n",
              "      <td>parietal</td>\n",
              "      <td>0.004081</td>\n",
              "    </tr>\n",
              "    <tr>\n",
              "      <th>259</th>\n",
              "      <td>s6</td>\n",
              "      <td>0</td>\n",
              "      <td>stim</td>\n",
              "      <td>parietal</td>\n",
              "      <td>-0.023319</td>\n",
              "    </tr>\n",
              "    <tr>\n",
              "      <th>260</th>\n",
              "      <td>s5</td>\n",
              "      <td>0</td>\n",
              "      <td>stim</td>\n",
              "      <td>parietal</td>\n",
              "      <td>-0.051228</td>\n",
              "    </tr>\n",
              "    <tr>\n",
              "      <th>865</th>\n",
              "      <td>s5</td>\n",
              "      <td>0</td>\n",
              "      <td>cue</td>\n",
              "      <td>frontal</td>\n",
              "      <td>-0.027033</td>\n",
              "    </tr>\n",
              "  </tbody>\n",
              "</table>\n",
              "</div>\n",
              "      <button class=\"colab-df-convert\" onclick=\"convertToInteractive('df-b096f2fe-c2cd-4382-9c10-a5f1905dd6ba')\"\n",
              "              title=\"Convert this dataframe to an interactive table.\"\n",
              "              style=\"display:none;\">\n",
              "        \n",
              "  <svg xmlns=\"http://www.w3.org/2000/svg\" height=\"24px\"viewBox=\"0 0 24 24\"\n",
              "       width=\"24px\">\n",
              "    <path d=\"M0 0h24v24H0V0z\" fill=\"none\"/>\n",
              "    <path d=\"M18.56 5.44l.94 2.06.94-2.06 2.06-.94-2.06-.94-.94-2.06-.94 2.06-2.06.94zm-11 1L8.5 8.5l.94-2.06 2.06-.94-2.06-.94L8.5 2.5l-.94 2.06-2.06.94zm10 10l.94 2.06.94-2.06 2.06-.94-2.06-.94-.94-2.06-.94 2.06-2.06.94z\"/><path d=\"M17.41 7.96l-1.37-1.37c-.4-.4-.92-.59-1.43-.59-.52 0-1.04.2-1.43.59L10.3 9.45l-7.72 7.72c-.78.78-.78 2.05 0 2.83L4 21.41c.39.39.9.59 1.41.59.51 0 1.02-.2 1.41-.59l7.78-7.78 2.81-2.81c.8-.78.8-2.07 0-2.86zM5.41 20L4 18.59l7.72-7.72 1.47 1.35L5.41 20z\"/>\n",
              "  </svg>\n",
              "      </button>\n",
              "      \n",
              "  <style>\n",
              "    .colab-df-container {\n",
              "      display:flex;\n",
              "      flex-wrap:wrap;\n",
              "      gap: 12px;\n",
              "    }\n",
              "\n",
              "    .colab-df-convert {\n",
              "      background-color: #E8F0FE;\n",
              "      border: none;\n",
              "      border-radius: 50%;\n",
              "      cursor: pointer;\n",
              "      display: none;\n",
              "      fill: #1967D2;\n",
              "      height: 32px;\n",
              "      padding: 0 0 0 0;\n",
              "      width: 32px;\n",
              "    }\n",
              "\n",
              "    .colab-df-convert:hover {\n",
              "      background-color: #E2EBFA;\n",
              "      box-shadow: 0px 1px 2px rgba(60, 64, 67, 0.3), 0px 1px 3px 1px rgba(60, 64, 67, 0.15);\n",
              "      fill: #174EA6;\n",
              "    }\n",
              "\n",
              "    [theme=dark] .colab-df-convert {\n",
              "      background-color: #3B4455;\n",
              "      fill: #D2E3FC;\n",
              "    }\n",
              "\n",
              "    [theme=dark] .colab-df-convert:hover {\n",
              "      background-color: #434B5C;\n",
              "      box-shadow: 0px 1px 3px 1px rgba(0, 0, 0, 0.15);\n",
              "      filter: drop-shadow(0px 1px 2px rgba(0, 0, 0, 0.3));\n",
              "      fill: #FFFFFF;\n",
              "    }\n",
              "  </style>\n",
              "\n",
              "      <script>\n",
              "        const buttonEl =\n",
              "          document.querySelector('#df-b096f2fe-c2cd-4382-9c10-a5f1905dd6ba button.colab-df-convert');\n",
              "        buttonEl.style.display =\n",
              "          google.colab.kernel.accessAllowed ? 'block' : 'none';\n",
              "\n",
              "        async function convertToInteractive(key) {\n",
              "          const element = document.querySelector('#df-b096f2fe-c2cd-4382-9c10-a5f1905dd6ba');\n",
              "          const dataTable =\n",
              "            await google.colab.kernel.invokeFunction('convertToInteractive',\n",
              "                                                     [key], {});\n",
              "          if (!dataTable) return;\n",
              "\n",
              "          const docLinkHtml = 'Like what you see? Visit the ' +\n",
              "            '<a target=\"_blank\" href=https://colab.research.google.com/notebooks/data_table.ipynb>data table notebook</a>'\n",
              "            + ' to learn more about interactive tables.';\n",
              "          element.innerHTML = '';\n",
              "          dataTable['output_type'] = 'display_data';\n",
              "          await google.colab.output.renderOutput(dataTable, element);\n",
              "          const docLink = document.createElement('div');\n",
              "          docLink.innerHTML = docLinkHtml;\n",
              "          element.appendChild(docLink);\n",
              "        }\n",
              "      </script>\n",
              "    </div>\n",
              "  </div>\n",
              "  "
            ]
          },
          "metadata": {},
          "execution_count": 297
        }
      ]
    },
    {
      "cell_type": "code",
      "source": [
        "#@markdown This cell is configured to not execute. Do not change this.\n",
        "%%script echo skipping\n",
        "df = df.sort_values('timepoint')\n",
        "df.head()\n",
        "\n",
        "np.random.seed(1)\n",
        "r = np.random.randint(0,len(df.subject.unique())+1,len(df.subject.unique()))\n",
        "s = np.sort( df.subject.unique() )\n",
        "r = s[r]\n",
        "\n",
        "for i in range(len(s)):\n",
        "  df.subject = df.subject.replace(r[i],'x')\n",
        "  df.subject = df.subject.replace(s[i],r[i])\n",
        "  df.subject = df.subject.replace('x',s[i])\n",
        "\n",
        "df.to_csv('fmri.csv',index=None)\n",
        "\n",
        "df = pd.read_csv('fmri.csv')\n",
        "df.head()\n"
      ],
      "metadata": {
        "id": "faKx4iTugDYl",
        "outputId": "02b2e01c-e0ef-4fb3-fb09-e396c58d2927",
        "colab": {
          "base_uri": "https://localhost:8080/"
        },
        "cellView": "form"
      },
      "execution_count": null,
      "outputs": [
        {
          "output_type": "stream",
          "name": "stdout",
          "text": [
            "skipping\n"
          ]
        }
      ]
    },
    {
      "cell_type": "markdown",
      "source": [
        "# Pré Exercício Iterando no `ax[i,j]`\n",
        "\n",
        "Veja aqui formas diferentes de empregar o vetor `ax`."
      ],
      "metadata": {
        "id": "X88CCBRoQ_pi"
      }
    },
    {
      "cell_type": "code",
      "source": [
        "fig, ax = plt.subplots(2,2)\n",
        "ax"
      ],
      "metadata": {
        "id": "yvRiXCRyL8BP",
        "outputId": "76b58f7e-6dd8-4476-9e9f-2d4650b0e14f",
        "colab": {
          "base_uri": "https://localhost:8080/",
          "height": 306
        }
      },
      "execution_count": null,
      "outputs": [
        {
          "output_type": "execute_result",
          "data": {
            "text/plain": [
              "array([[<Axes: >, <Axes: >],\n",
              "       [<Axes: >, <Axes: >]], dtype=object)"
            ]
          },
          "metadata": {},
          "execution_count": 299
        },
        {
          "output_type": "display_data",
          "data": {
            "text/plain": [
              "<Figure size 432x288 with 4 Axes>"
            ],
            "image/png": "[encoded data removed]"
          },
          "metadata": {
            "needs_background": "light"
          }
        }
      ]
    },
    {
      "cell_type": "code",
      "source": [
        "ax.reshape(-1)"
      ],
      "metadata": {
        "colab": {
          "base_uri": "https://localhost:8080/"
        },
        "id": "UMl7dNoEYww8",
        "outputId": "9b6f9d1d-96d5-4c51-834d-714928944dd8"
      },
      "execution_count": null,
      "outputs": [
        {
          "output_type": "execute_result",
          "data": {
            "text/plain": [
              "array([<Axes: >, <Axes: >, <Axes: >, <Axes: >], dtype=object)"
            ]
          },
          "metadata": {},
          "execution_count": 300
        }
      ]
    },
    {
      "cell_type": "code",
      "source": [
        "( ax1, ax2 ) = ax \n",
        "ax1"
      ],
      "metadata": {
        "id": "QoiNvUdAPl_5",
        "outputId": "51249c9c-0346-4828-e354-d60bc9f18d3a",
        "colab": {
          "base_uri": "https://localhost:8080/"
        }
      },
      "execution_count": null,
      "outputs": [
        {
          "output_type": "execute_result",
          "data": {
            "text/plain": [
              "array([<Axes: >, <Axes: >], dtype=object)"
            ]
          },
          "metadata": {},
          "execution_count": 301
        }
      ]
    },
    {
      "cell_type": "code",
      "source": [
        "# using the variable axs for multiple Axes\n",
        "fig, axs = plt.subplots(2, 2)\n",
        "\n",
        "# using tuple unpacking for multiple Axes\n",
        "fig, (ax1, ax2) = plt.subplots(1, 2)\n",
        "fig, ((ax1, ax2), (ax3, ax4)) = plt.subplots(2, 2)"
      ],
      "metadata": {
        "id": "ygnHUBayVkaB",
        "colab": {
          "base_uri": "https://localhost:8080/",
          "height": 773
        },
        "outputId": "089b1c85-41c5-4a4d-b57f-6ac168a80db0"
      },
      "execution_count": null,
      "outputs": [
        {
          "output_type": "display_data",
          "data": {
            "text/plain": [
              "<Figure size 432x288 with 4 Axes>"
            ],
            "image/png": "[encoded data removed]"
          },
          "metadata": {
            "needs_background": "light"
          }
        },
        {
          "output_type": "display_data",
          "data": {
            "text/plain": [
              "<Figure size 432x288 with 2 Axes>"
            ],
            "image/png": "[encoded data removed]"
          },
          "metadata": {
            "needs_background": "light"
          }
        },
        {
          "output_type": "display_data",
          "data": {
            "text/plain": [
              "<Figure size 432x288 with 4 Axes>"
            ],
            "image/png": "[encoded data removed]"
          },
          "metadata": {
            "needs_background": "light"
          }
        }
      ]
    },
    {
      "cell_type": "markdown",
      "source": [
        "# Exercício 1  \n",
        "\n",
        "Use algumas das formas acima para, partindo do último exercício da lista anterior, produzir um gráfico como abaixo para os sujeitos `s0` a `s8`, empregando o modo `artist layer` e **iterando sobre os elementos de `ax`**. Observe todos os demais elementos do gráfico.\n",
        "\n",
        "![imagem](https://github.com/Rogerio-mack/IMT_Ciencia_de_Dados/raw/main/images/ex_matplotlib2_1.png)\n",
        "\n",
        "Q. Você pode concluir que todos os sinais, de estímulos e repouso, têm aproximadamente o mesmo comportamento para todos os sujeitos? "
      ],
      "metadata": {
        "id": "TLhgiTF-ZI4k"
      }
    },
    {
      "cell_type": "code",
      "source": [
        "# Seu código"
      ],
      "metadata": {
        "id": "TA-tvbJDPz5J"
      },
      "execution_count": null,
      "outputs": []
    },
    {
      "cell_type": "markdown",
      "source": [
        "# Exercício 2 \n",
        "\n",
        "Acima você observou 9 sujeitos com o comportamento mais ou menos semelhante tanto nas situações de estímulo como repouso. Mas você pode fazer melhor e empregar toda a base para comparar os sinais com o sinal médio de todos os sujeitos. Faça isso neste exercício produzindo um gráfico como abaixo. Observe todos os demais elementos do gráfico.\n",
        "\n",
        "![imagem](https://github.com/Rogerio-mack/IMT_Ciencia_de_Dados/raw/main/images/ex_matplotlib2_2.png)\n",
        "\n",
        "Q. Quais sujeitos mais se assemelham e quais mais se distanciam do comportamento médio? "
      ],
      "metadata": {
        "id": "QH_YvQg8aqJo"
      }
    },
    {
      "cell_type": "code",
      "source": [
        "# Seu código"
      ],
      "metadata": {
        "id": "5RM9a1XkXcqF"
      },
      "execution_count": null,
      "outputs": []
    },
    {
      "cell_type": "markdown",
      "source": [
        "# **CASE: Yahoo Finance**\n",
        "\n",
        "Nos exercícios a seguir partimos da seguinte base de dados extraída do `yahoo finance`:"
      ],
      "metadata": {
        "id": "Qq-2n4o2RxXH"
      }
    },
    {
      "cell_type": "markdown",
      "source": [
        "<small>\n",
        "Para consulta de ativos no Yahoo Finance, pesquise em: https://ca.finance.yahoo.com/lookup"
      ],
      "metadata": {
        "id": "hpZl_BbFpFQq"
      }
    },
    {
      "cell_type": "code",
      "execution_count": null,
      "metadata": {
        "id": "d293ZF4CcTqz"
      },
      "outputs": [],
      "source": [
        "%%capture\n",
        "!pip install yfinance"
      ]
    },
    {
      "cell_type": "code",
      "execution_count": null,
      "metadata": {
        "colab": {
          "base_uri": "https://localhost:8080/",
          "height": 224
        },
        "id": "-s_T5xKjsZBu",
        "outputId": "f29784a4-0d1f-480e-ee5b-d647d0d41698"
      },
      "outputs": [
        {
          "output_type": "stream",
          "name": "stdout",
          "text": [
            "[*********************100%***********************]  5 of 5 completed\n"
          ]
        },
        {
          "output_type": "execute_result",
          "data": {
            "text/plain": [
              "        Date   BRL=X   ITUB4.SA   PETR4.SA   VALE3.SA    ^BVSP\n",
              "0 2018-10-01  4.0527  24.918961   9.295508  42.865036  78624.0\n",
              "1 2018-10-02  4.0164  25.878702  10.101118  43.432785  81612.0\n",
              "2 2018-10-03  3.9395  27.049805  10.530482  42.545677  83273.0\n",
              "3 2018-10-04  3.9004  27.078373  10.632289  41.729534  82953.0\n",
              "4 2018-10-05  3.8739  26.986971  10.605729  40.799847  82322.0"
            ],
            "text/html": [
              "\n",
              "  <div id=\"df-d464e891-0de5-4506-bf71-e27e6b29900d\">\n",
              "    <div class=\"colab-df-container\">\n",
              "      <div>\n",
              "<style scoped>\n",
              "    .dataframe tbody tr th:only-of-type {\n",
              "        vertical-align: middle;\n",
              "    }\n",
              "\n",
              "    .dataframe tbody tr th {\n",
              "        vertical-align: top;\n",
              "    }\n",
              "\n",
              "    .dataframe thead th {\n",
              "        text-align: right;\n",
              "    }\n",
              "</style>\n",
              "<table border=\"1\" class=\"dataframe\">\n",
              "  <thead>\n",
              "    <tr style=\"text-align: right;\">\n",
              "      <th></th>\n",
              "      <th>Date</th>\n",
              "      <th>BRL=X</th>\n",
              "      <th>ITUB4.SA</th>\n",
              "      <th>PETR4.SA</th>\n",
              "      <th>VALE3.SA</th>\n",
              "      <th>^BVSP</th>\n",
              "    </tr>\n",
              "  </thead>\n",
              "  <tbody>\n",
              "    <tr>\n",
              "      <th>0</th>\n",
              "      <td>2018-10-01</td>\n",
              "      <td>4.0527</td>\n",
              "      <td>24.918961</td>\n",
              "      <td>9.295508</td>\n",
              "      <td>42.865036</td>\n",
              "      <td>78624.0</td>\n",
              "    </tr>\n",
              "    <tr>\n",
              "      <th>1</th>\n",
              "      <td>2018-10-02</td>\n",
              "      <td>4.0164</td>\n",
              "      <td>25.878702</td>\n",
              "      <td>10.101118</td>\n",
              "      <td>43.432785</td>\n",
              "      <td>81612.0</td>\n",
              "    </tr>\n",
              "    <tr>\n",
              "      <th>2</th>\n",
              "      <td>2018-10-03</td>\n",
              "      <td>3.9395</td>\n",
              "      <td>27.049805</td>\n",
              "      <td>10.530482</td>\n",
              "      <td>42.545677</td>\n",
              "      <td>83273.0</td>\n",
              "    </tr>\n",
              "    <tr>\n",
              "      <th>3</th>\n",
              "      <td>2018-10-04</td>\n",
              "      <td>3.9004</td>\n",
              "      <td>27.078373</td>\n",
              "      <td>10.632289</td>\n",
              "      <td>41.729534</td>\n",
              "      <td>82953.0</td>\n",
              "    </tr>\n",
              "    <tr>\n",
              "      <th>4</th>\n",
              "      <td>2018-10-05</td>\n",
              "      <td>3.8739</td>\n",
              "      <td>26.986971</td>\n",
              "      <td>10.605729</td>\n",
              "      <td>40.799847</td>\n",
              "      <td>82322.0</td>\n",
              "    </tr>\n",
              "  </tbody>\n",
              "</table>\n",
              "</div>\n",
              "      <button class=\"colab-df-convert\" onclick=\"convertToInteractive('df-d464e891-0de5-4506-bf71-e27e6b29900d')\"\n",
              "              title=\"Convert this dataframe to an interactive table.\"\n",
              "              style=\"display:none;\">\n",
              "        \n",
              "  <svg xmlns=\"http://www.w3.org/2000/svg\" height=\"24px\"viewBox=\"0 0 24 24\"\n",
              "       width=\"24px\">\n",
              "    <path d=\"M0 0h24v24H0V0z\" fill=\"none\"/>\n",
              "    <path d=\"M18.56 5.44l.94 2.06.94-2.06 2.06-.94-2.06-.94-.94-2.06-.94 2.06-2.06.94zm-11 1L8.5 8.5l.94-2.06 2.06-.94-2.06-.94L8.5 2.5l-.94 2.06-2.06.94zm10 10l.94 2.06.94-2.06 2.06-.94-2.06-.94-.94-2.06-.94 2.06-2.06.94z\"/><path d=\"M17.41 7.96l-1.37-1.37c-.4-.4-.92-.59-1.43-.59-.52 0-1.04.2-1.43.59L10.3 9.45l-7.72 7.72c-.78.78-.78 2.05 0 2.83L4 21.41c.39.39.9.59 1.41.59.51 0 1.02-.2 1.41-.59l7.78-7.78 2.81-2.81c.8-.78.8-2.07 0-2.86zM5.41 20L4 18.59l7.72-7.72 1.47 1.35L5.41 20z\"/>\n",
              "  </svg>\n",
              "      </button>\n",
              "      \n",
              "  <style>\n",
              "    .colab-df-container {\n",
              "      display:flex;\n",
              "      flex-wrap:wrap;\n",
              "      gap: 12px;\n",
              "    }\n",
              "\n",
              "    .colab-df-convert {\n",
              "      background-color: #E8F0FE;\n",
              "      border: none;\n",
              "      border-radius: 50%;\n",
              "      cursor: pointer;\n",
              "      display: none;\n",
              "      fill: #1967D2;\n",
              "      height: 32px;\n",
              "      padding: 0 0 0 0;\n",
              "      width: 32px;\n",
              "    }\n",
              "\n",
              "    .colab-df-convert:hover {\n",
              "      background-color: #E2EBFA;\n",
              "      box-shadow: 0px 1px 2px rgba(60, 64, 67, 0.3), 0px 1px 3px 1px rgba(60, 64, 67, 0.15);\n",
              "      fill: #174EA6;\n",
              "    }\n",
              "\n",
              "    [theme=dark] .colab-df-convert {\n",
              "      background-color: #3B4455;\n",
              "      fill: #D2E3FC;\n",
              "    }\n",
              "\n",
              "    [theme=dark] .colab-df-convert:hover {\n",
              "      background-color: #434B5C;\n",
              "      box-shadow: 0px 1px 3px 1px rgba(0, 0, 0, 0.15);\n",
              "      filter: drop-shadow(0px 1px 2px rgba(0, 0, 0, 0.3));\n",
              "      fill: #FFFFFF;\n",
              "    }\n",
              "  </style>\n",
              "\n",
              "      <script>\n",
              "        const buttonEl =\n",
              "          document.querySelector('#df-d464e891-0de5-4506-bf71-e27e6b29900d button.colab-df-convert');\n",
              "        buttonEl.style.display =\n",
              "          google.colab.kernel.accessAllowed ? 'block' : 'none';\n",
              "\n",
              "        async function convertToInteractive(key) {\n",
              "          const element = document.querySelector('#df-d464e891-0de5-4506-bf71-e27e6b29900d');\n",
              "          const dataTable =\n",
              "            await google.colab.kernel.invokeFunction('convertToInteractive',\n",
              "                                                     [key], {});\n",
              "          if (!dataTable) return;\n",
              "\n",
              "          const docLinkHtml = 'Like what you see? Visit the ' +\n",
              "            '<a target=\"_blank\" href=https://colab.research.google.com/notebooks/data_table.ipynb>data table notebook</a>'\n",
              "            + ' to learn more about interactive tables.';\n",
              "          element.innerHTML = '';\n",
              "          dataTable['output_type'] = 'display_data';\n",
              "          await google.colab.output.renderOutput(dataTable, element);\n",
              "          const docLink = document.createElement('div');\n",
              "          docLink.innerHTML = docLinkHtml;\n",
              "          element.appendChild(docLink);\n",
              "        }\n",
              "      </script>\n",
              "    </div>\n",
              "  </div>\n",
              "  "
            ]
          },
          "metadata": {},
          "execution_count": 308
        }
      ],
      "source": [
        "import yfinance as yf\n",
        "\n",
        "data = yf.download(['^BVSP', 'PETR4.SA', 'ITUB4.SA', 'VALE3.SA', 'BRL=X'],'2018-10-01','2022-03-01')\n",
        "\n",
        "df = data['Adj Close'].reset_index()\n",
        "df.head()"
      ]
    },
    {
      "cell_type": "code",
      "source": [
        "#@markdown This cell is configured to not execute. Do not change this.\n",
        "%%script echo skipping\n",
        "np.random.seed(1)\n",
        "\n",
        "data2 = yf.download(['MGLU3.SA', 'LREN3.SA', 'BRAP3.SA', 'BTC-USD'],'2018-10-01','2022-03-01')\n",
        "\n",
        "df2 = data2['Adj Close'].reset_index()\n",
        "\n",
        "df[['ITUB4.SA', 'PETR4.SA', 'VALE3.SA', '^BVSP']] = df2[['MGLU3.SA', 'LREN3.SA', 'BRAP3.SA', 'BTC-USD']] \n",
        "\n",
        "# df.head()"
      ],
      "metadata": {
        "colab": {
          "base_uri": "https://localhost:8080/"
        },
        "cellView": "form",
        "id": "4lMfuUfvytzq",
        "outputId": "cefe0cfa-4600-46b0-ef9c-cfb5d837d47a"
      },
      "execution_count": null,
      "outputs": [
        {
          "output_type": "stream",
          "name": "stdout",
          "text": [
            "skipping\n"
          ]
        }
      ]
    },
    {
      "cell_type": "markdown",
      "source": [
        "# Pré Exercício\n",
        "\n",
        "Os valores estão em reais. Crie para cada ticket de ação o valor em USD criando um novo atributo `<ticket>_USD`. Em seguida empregue a função `pd.to_datetime()` para converter o formato de Date."
      ],
      "metadata": {
        "id": "EXMo368LsDe5"
      }
    },
    {
      "cell_type": "code",
      "source": [
        "# Seu código"
      ],
      "metadata": {
        "id": "lTUo4xNNeGeG"
      },
      "execution_count": null,
      "outputs": []
    },
    {
      "cell_type": "code",
      "source": [
        "#@markdown Must be True\n",
        "((df.shape[1] == 9) and (df.Date.dtype == '<M8[ns]'))"
      ],
      "metadata": {
        "colab": {
          "base_uri": "https://localhost:8080/"
        },
        "id": "5sBMMYtKsm5X",
        "outputId": "87f1e32b-fbb1-46ea-cbee-536844791a15",
        "cellView": "form"
      },
      "execution_count": null,
      "outputs": [
        {
          "output_type": "execute_result",
          "data": {
            "text/plain": [
              "True"
            ]
          },
          "metadata": {},
          "execution_count": 312
        }
      ]
    },
    {
      "cell_type": "markdown",
      "source": [
        "# Exercício 3\n",
        "\n",
        "Produza um gráfico como abaixo.\n",
        "\n",
        "![imagem](https://github.com/Rogerio-mack/IMT_Ciencia_de_Dados/raw/main/images/ex_matplotlib2_3.png)\n",
        "\n",
        "Note que o eixo y é compartilhado. Depois de fazer uma primeira versão do seu gráfico você pode achar interessante consultar https://stackoverflow.com/questions/10998621/rotate-axis-text-in-python-matplotlib para ver alternativas de como ajustar as escalas do eixo `x`. \n",
        "\n",
        "Q. Qual ação teve maiores valores absolutos no período? "
      ],
      "metadata": {
        "id": "9hC240j7r_hS"
      }
    },
    {
      "cell_type": "code",
      "source": [
        "# Seu código"
      ],
      "metadata": {
        "id": "SAT_7N1PdPoN"
      },
      "execution_count": null,
      "outputs": []
    },
    {
      "cell_type": "markdown",
      "source": [
        "# Exercício 4\n",
        "\n",
        "Produza um gráfico como abaixo.\n",
        "\n",
        "![imagem](https://github.com/Rogerio-mack/IMT_Ciencia_de_Dados/raw/main/images/ex_matplotlib2_4.png)\n",
        "\n",
        "Basicamente, agora, você vai empregar duas escalas para o eixo y para representar valores em reais e em dólar.\n",
        "\n",
        "Q. Para empregar dois eixos y compartilhados...\n"
      ],
      "metadata": {
        "id": "IOrnF25FuwjH"
      }
    },
    {
      "cell_type": "code",
      "source": [
        "# Seu código\n"
      ],
      "metadata": {
        "id": "0MGFJokhkB_6"
      },
      "execution_count": null,
      "outputs": []
    },
    {
      "cell_type": "markdown",
      "source": [
        "# Exercício 5\n",
        "\n",
        "Produza um gráfico como abaixo.\n",
        "\n",
        "![imagem](https://github.com/Rogerio-mack/IMT_Ciencia_de_Dados/raw/main/images/ex_matplotlib2_5.png)\n",
        "\n",
        "O primeiro eixo y apresenta valores em dólar dos ativos e o segundo eixo y os pontos do ibovespa. \n",
        "\n",
        "Dica: use `legend(loc=...)`\n",
        "\n",
        "Q. Qual ativo teve uma recuperação mais rápida do seu valor após a maior desvalorização no período observado? \n"
      ],
      "metadata": {
        "id": "ycelRl36vJyo"
      }
    },
    {
      "cell_type": "code",
      "source": [
        "# Seu código"
      ],
      "metadata": {
        "id": "X8bd7SRXmzTB"
      },
      "execution_count": null,
      "outputs": []
    },
    {
      "cell_type": "markdown",
      "source": [
        "# Exercício 6\n",
        "\n",
        "Produza um gráfico como abaixo buscando uma função do `Pandas` para substituir os valores ausentes por valores médios entre os pontos.\n",
        "\n",
        "![imagem](https://github.com/Rogerio-mack/IMT_Ciencia_de_Dados/raw/main/images/ex_matplotlib2_6.png)\n",
        "\n",
        "Adicione ainda uma linha vertical e um rótulo (texto) no ponto que o valor das ações indica o impacto da primeira onda de Covid no mercado brasileiro.\n",
        "\n",
        "Dica: use `legend(loc=...)`\n",
        "\n",
        "Q. Qual é a função do `Pandas` que substitui os valores ausentes por valores médios entre os pontos e qual ativo teve o maior ponto de desvalorização no gráfico anterior mais *suavizado*?"
      ],
      "metadata": {
        "id": "pLVsfgoAvwZm"
      }
    },
    {
      "cell_type": "code",
      "source": [
        "# Seu código"
      ],
      "metadata": {
        "id": "zEz8BRrao9gQ"
      },
      "execution_count": null,
      "outputs": []
    }
  ]
}