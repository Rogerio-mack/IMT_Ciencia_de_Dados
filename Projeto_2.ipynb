{
  "nbformat": 4,
  "nbformat_minor": 0,
  "metadata": {
    "colab": {
      "provenance": [],
      "authorship_tag": "ABX9TyMhk8RQRRJJv+ySjnfjZdKw",
      "include_colab_link": true
    },
    "kernelspec": {
      "name": "python3",
      "display_name": "Python 3"
    },
    "language_info": {
      "name": "python"
    }
  },
  "cells": [
    {
      "cell_type": "markdown",
      "metadata": {
        "id": "view-in-github",
        "colab_type": "text"
      },
      "source": [
        "<a href=\"https://colab.research.google.com/github/Rogerio-mack/IMT_Ciencia_de_Dados/blob/main/Projeto_2.ipynb\" target=\"_parent\"><img src=\"https://colab.research.google.com/assets/colab-badge.svg\" alt=\"Open In Colab\"/></a>"
      ]
    },
    {
      "cell_type": "markdown",
      "metadata": {
        "id": "80CF3Eq9EXDW"
      },
      "source": [
        "<head>\n",
        "  <meta name=\"author\" content=\"Rogério de Oliveira\">\n",
        "  <meta institution=\"author\" content=\"ITM\">\n",
        "</head>\n",
        "\n",
        "<img src=\"https://maua.br/images/selo-60-anos-maua.svg\" width=300, align=\"right\">\n",
        "<!-- <h1 align=left><font size = 6, style=\"color:rgb(200,0,0)\"> optional title </font></h1> -->\n"
      ]
    },
    {
      "cell_type": "markdown",
      "source": [
        "# Projeto de Ciências de Dados\n",
        "\n",
        "## Objetivo\n",
        "\n",
        "O objetivo deste projeto é aplicar os conceitos e técnicas de ciência de dados para resolver um problema de negócio real.\n",
        "\n",
        "Os alunos devem escolher uma dentre as seguintes opções:\n",
        "\n",
        "> **Opção 1**: Empregar um grande modelo de linguagem para implementar uma solução de análise de dados de negócio. Para esta opção apresentamos algumas alternativas em sala (construção de contratos ou descritivos de produtos padrão,\n",
        "análise de balanço ou de documentos de relação com investidores de empresas, Chat bot baseado em histórico de conversas etc.)\n",
        "\n",
        "> **Opção 2:** Empregar o scikit-learn para solucionar um problema de classificação, predição ou clusterização de negócio.\n",
        "\n",
        "Em todos os casos os projetos devem empregar dados originais, isto é, **dados próprios de uma empresa ou negócio** (na dúvida sobre a validade dos dados a ser empregado, consulte o professor).\n",
        "\n",
        "## Entrega\n",
        "\n",
        "**Data**: TBD\n",
        "\n",
        "O projeto deve ser disponibilizado em uma organização pública no GitHub. Um notebook Python do projeto contendo:\n",
        "\n",
        "* Resumo\n",
        "* Descrição do problema\n",
        "* Descrição da metodologia aplicada\n",
        "* Resultados obtidos\n",
        "* Conclusão\n",
        "* Referências\n",
        "* Código\n",
        "* Dados (anonimizados quando necessário)\n",
        "\n",
        "## Critérios de Avaliação\n",
        "\n",
        "O projeto será avaliado com base nos seguintes critérios:\n",
        "\n",
        "* Relevância do problema de negócio\n",
        "*  Qualidade dos dados (os dados utilizados devem ser representativos do problema de negócio e tratados adequadamente)\n",
        "*  Metodologia aplicada (exploração adequada das técnicas aprendidas, abordagem, preparação dos dados, algoritmos e técnicas utilizadas)\n",
        "*  Resultados obtidos (os resultados obtidos devem ser significativos e/ou analisados adequadamente)\n",
        "*  Organização do projeto\n",
        "\n"
      ],
      "metadata": {
        "id": "5y-HHM9Ho2sg"
      }
    }
  ]
}