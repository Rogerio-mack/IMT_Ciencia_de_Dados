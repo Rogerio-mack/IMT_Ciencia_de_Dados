{
  "nbformat": 4,
  "nbformat_minor": 0,
  "metadata": {
    "kernelspec": {
      "display_name": "Python 3",
      "language": "python",
      "name": "python3"
    },
    "language_info": {
      "codemirror_mode": {
        "name": "ipython",
        "version": 3
      },
      "file_extension": ".py",
      "mimetype": "text/x-python",
      "name": "python",
      "nbconvert_exporter": "python",
      "pygments_lexer": "ipython3",
      "version": "3.7.4"
    },
    "colab": {
      "provenance": [],
      "toc_visible": true,
      "include_colab_link": true
    }
  },
  "cells": [
    {
      "cell_type": "markdown",
      "metadata": {
        "id": "view-in-github",
        "colab_type": "text"
      },
      "source": [
        "<a href=\"https://colab.research.google.com/github/Rogerio-mack/IMT_Ciencia_de_Dados/blob/main/IMT_RegressaoLogistica.ipynb\" target=\"_parent\"><img src=\"https://colab.research.google.com/assets/colab-badge.svg\" alt=\"Open In Colab\"/></a>"
      ]
    },
    {
      "cell_type": "markdown",
      "metadata": {
        "id": "LwtN8cY5AX_a"
      },
      "source": [
        "<head>\n",
        "  <meta name=\"author\" content=\"Rogério de Oliveira\">\n",
        "  <meta institution=\"author\" content=\"ITM\">\n",
        "</head>\n",
        "\n",
        "<img src=\"https://maua.br/images/selo-60-anos-maua.svg\" width=300, align=\"right\">\n",
        "<!-- <h1 align=left><font size = 6, style=\"color:rgb(200,0,0)\"> optional title </font></h1> -->\n"
      ]
    },
    {
      "cell_type": "markdown",
      "metadata": {
        "id": "g1Hap25KEXDX"
      },
      "source": [
        "# **Classificação: Regressão Logística**\n",
        "---\n",
        "\n",
        "Nesta aula você vai aprender sobre:\n",
        "\n",
        "*\tA Classificação com modelo de Regressão Logística\n",
        "*\tUma primeira Métrica de desempenho dos modelos: Acuracidade\n",
        "*\tO que é o Dilema Bias-Variância, e como empregar conjuntos de Treinamento e Teste e minimizar os riscos de sobreajuste\n",
        "\n"
      ]
    },
    {
      "cell_type": "markdown",
      "source": [
        "Na aula anterior você pôde entender a diferença entre problemas de **Regressão** e de **Classificação**, e aprendeu a criar modelos para a predição de valores com modelos de Regressão Linear. Tanto a Regressão como a Classificação são modelos de **Aprendizado Supervisionado**, e envolvem um conjunto de dados de treinamento com exemplos de entradas e saídas rotuladas.\n",
        "\n",
        "Nesta aula vamos começar a explorar os modelos Classificação. Esses modelos serão nosso foco a partir de agora ao longo de todo o curso! Mas vamos começar, nesta aula, aprendendo um único modelo de Classificação, denominado **Regressão Logística**, e algumas métricas que permitem *medir* a eficiência desse modelo à exemplo do que você viu no coeficiente de determinação ($R$-$Square$) para modelos de Regressão Linear.\n",
        "\n",
        "Você vai entender também que, nem sempre um modelo que responde corretamente à 100% dos dados de treinamento será um bom modelo. É o dilema conhecido como **Dilema Bias-Variância**, e um problema que frequentemente surge ao trabalharmos com dados e que você precisa saber lidar. \n",
        "\n",
        "\n"
      ],
      "metadata": {
        "id": "zTVyMZVSGAlB"
      }
    },
    {
      "cell_type": "markdown",
      "source": [
        "Modelos de Regressão estimam valores ou quantidades, como a área média de um tumor a partir de outras medidas como raio e textura médias. Já os Modelos de Classificação estimam a partir dos atributos de entrada categorias, como 'M'aligno ou 'B'enigno no exemplo abaixo."
      ],
      "metadata": {
        "id": "5UDgLZiXOAY4"
      }
    },
    {
      "cell_type": "markdown",
      "source": [
        "\n",
        "\n",
        "<img src=\"https://github.com/Rogerio-mack/Machine-Learning-I/raw/main/Figures/ClassificationRegressionBreastCancer2.png\" width=800, align=\"center\">\n",
        "\n"
      ],
      "metadata": {
        "id": "56FRQ0siM6tQ"
      }
    },
    {
      "cell_type": "markdown",
      "source": [
        "<small>\n",
        "\n",
        "<b>\n",
        "Figura 1. Modelos de Regressão X Classificação. Modelos de Regressão estimam valores ou quantidades, enquanto Modelos de Classificação estimam categorias como no exemplo acima 'M'aligno ou 'B'enigno."
      ],
      "metadata": {
        "id": "NGNYiBfmNl6Q"
      }
    },
    {
      "cell_type": "markdown",
      "source": [
        "Para essa tarefa de Classificação em diferentes categorias, Maligno/Benigno, Fraude/Não Fraude, Spam/Não Spam, ou mesmo categorias não binárias, como Edifícios, Pessoas ou Paisagens em uma classificação de fotos, existem diversos modelos e, nesta aula, nos deteremos no modelo de Regressão Logística. Todos os modelos que veremos, seguem o mesmo esquema de Modelos Supervisionados e, por isso, é importante que você fique atento às características que serão comuns à vários modelos de classificação (como as métricas de eficiência, esquema geral de implementação etc.)."
      ],
      "metadata": {
        "id": "YMIvdJnLOfUp"
      }
    },
    {
      "cell_type": "markdown",
      "source": [
        "<img src=\"https://github.com/Rogerio-mack/Machine-Learning-I/raw/main/Figures/ML/Slide4.PNG\" width=800, align=\"center\">"
      ],
      "metadata": {
        "id": "JqA3_T-ZNaRI"
      }
    },
    {
      "cell_type": "markdown",
      "source": [
        "<small>\n",
        "\n",
        "<b>\n",
        "Figura 2. Esquema geral dos Modelos de Aprendizado Supervisionado e diferentes Modelos de Regressão e Classificação."
      ],
      "metadata": {
        "id": "JR6IkrKuPzLU"
      }
    },
    {
      "cell_type": "code",
      "metadata": {
        "id": "xyywcuI7p1kG"
      },
      "source": [
        "import numpy as np\n",
        "import pandas as pd\n",
        "import matplotlib.pyplot as plt\n",
        "%matplotlib inline\n",
        "from matplotlib.lines import Line2D\n",
        "import seaborn as sns"
      ],
      "execution_count": null,
      "outputs": []
    },
    {
      "cell_type": "markdown",
      "metadata": {
        "id": "hHlv9BbsnJXj"
      },
      "source": [
        "# Regressão Logística: *Classificador Logístico*\n",
        "\n",
        "Antes de começarmos a falar de Regressão Logística um ponto de atenção: você não deve confundir modelos de regressão em geral, lineares ou não, que preveem valores com a Regressão Logística que é um modelo de Classificação. Embora isso possa ser claro quando você lê este texto ou vê as figuras acima, o fato de carregar o nome *Regressão*, na Regressão Logística é fonte geral de confusão. Melhor seria adotarmos a denominação *Classificador Logístico* evitando-se assim a confusão. \n",
        "\n",
        "A Regressão Logística  modela as probabilidades para problemas de classificação binários, com dois resultados possíveis, como *yes/no*, *true/false*, *fraude/não fraude*, *spam/não spam* ou *0/1*, e pode ser entendido como uma extensão dos modelos de regressão linear para problemas de classificação.\n",
        "\n",
        "> **Importante: A Regressão Logística é um classificador Binário, isto é, ele só classifica categorias Dicotômicas, como *yes/no*, *true/false*!**\n",
        "\n",
        "O fato de somente classificar categorias Dicotômicas fica claro quando você pensa que saída do modelo é uma única probabilidade $P$, por exemplo a de ser benigno $P(Y=Benigno)$ e que, portanto, podemos apenas obter agora a probabilidade de não ser benigno,  $P(Y \\ne Benigno) = 1 - P(Y = Benigno)$. Isso pode parecer uma grande limitação, mas na verdade você sempre pode dividir um problema multiclasse (Edifícios/Pessoas/Paisagens ou Conservador/Moderado/Agressivo) em vários problemas binários (pense, como você faria isso?). "
      ]
    },
    {
      "cell_type": "markdown",
      "source": [
        "<img src=\"https://github.com/Rogerio-mack/Ciencia-de-Dados-e-Aprendizado-de-Maquina/blob/main/figuras/linearregressionlogitbreast1.PNG?raw=true\" width=1200> "
      ],
      "metadata": {
        "id": "SUmn6yZiT-9D"
      }
    },
    {
      "cell_type": "markdown",
      "source": [
        "<small>\n",
        "\n",
        "<b>\n",
        "Figura 3. Modelos matemáticos da Regressão Logística e Linear. "
      ],
      "metadata": {
        "id": "e9yFWJubUH-B"
      }
    },
    {
      "cell_type": "markdown",
      "source": [
        "Para obter essa probabilidade a regressão logística buscará os melhores coeficientes em uma expressão semelhante a que empregamos na regressão linear. É uma expressão que emprega uma combinação linear das variáveis preditoras à qual aplicamos a função logística $\\sigma(x)=\\frac{1}{1+e^{-x}}$. Vamos ver como chegamos a essa expressão."
      ],
      "metadata": {
        "id": "ZcoY97iVUR6M"
      }
    },
    {
      "cell_type": "markdown",
      "metadata": {
        "id": "vZTd3mFjnyR7"
      },
      "source": [
        "\n",
        "\n",
        "\n",
        "## Modelo logístico\n",
        "\n",
        "Para obtermos essas probabilidades, a regressão logística modela o que é conhecido como log de probabilidades:\n",
        "\n",
        "$$ log( \\frac{p}{1-p}) = a_0 + a_1 x_1 + ... + a_n x_n $$\n",
        "\n",
        "Os resultados da regressão logística vão então informar sobre as chances ('Odds') e razão das chances ('Odds Ratio') e não exatamente probabilidades (por exemplo, em alguns casos os valores podem não ter soma 1), mas podemos entender de qualquer modo que uma *chance* reflete em uma probabilidade maior daquele evento ocorrer. Se um evento tem probabilidade $p$, suas chances são $p / (1-p)$, e é por isso que a esquerda lado é chamado de \"odds logarítmicas\" ou \"logit\", e podemos obter a \n",
        "probabilidade de chances invertendo a função acima:\n",
        "\n",
        "$$ p = 1 / (1 + e^{- ( a_0 + a_1 x_1 + ... + a_n x_n ) })$$\n",
        "\n",
        "Essa função é conhecida como  função logística ou sigmóide, $\\sigma$, é definida como:\n",
        "\n",
        "\n",
        "$$\\sigma(x)=\\frac{1}{1+e^{-x}}$$\n",
        "\n",
        "\n",
        "Ela tem o seguinte gráfico:\n",
        "\n"
      ]
    },
    {
      "cell_type": "code",
      "metadata": {
        "colab": {
          "base_uri": "https://localhost:8080/",
          "height": 296
        },
        "id": "0gPmQH0poRkr",
        "outputId": "da0032b8-fa64-4df3-cc34-0553988883da"
      },
      "source": [
        "x = np.arange(-5, 5, 0.01)\n",
        "y = 1 / (1 + np.exp(-x))\n",
        "\n",
        "plt.plot(x,y)\n",
        "plt.title('Logistic', fontsize=14, weight='bold')\n",
        "plt.xlabel('Input')\n",
        "plt.ylabel('Output')\n",
        "\n",
        "plt.show()"
      ],
      "execution_count": null,
      "outputs": [
        {
          "output_type": "display_data",
          "data": {
            "text/plain": [
              "<Figure size 432x288 with 1 Axes>"
            ],
            "image/png": "[encoded data removed]"
          },
          "metadata": {
            "needs_background": "light"
          }
        }
      ]
    },
    {
      "cell_type": "markdown",
      "metadata": {
        "id": "48oBzolaoc9i"
      },
      "source": [
        "e desempenha um papel importante em outros modelos, como os modelos neurais. Note que os valores dessa função variam de 0 a 1 e é portanto, possível empregar essa função como uma medida de probabilidade, ou das chances. \n",
        "\n",
        "Esse procedimento funciona muito melhor para classificação que a regressão linear e podemos usar 0.5 como o valor limite de probabilidades entre as classes, isto é, valores $p < 0.5$ para uma classe e valores $p \\ge 0.5$ para outra. \n",
        "\n",
        "## Estimando os parâmetros\n",
        "\n",
        "Estimar os valores dos coeficientes $a_0, a_1, ...$. pode seguir a mesma estratégia empregada para calcular os coeficientes de uma regressão múltipla e empregamos um otimizador, como o método de mínimos quadrados.\n",
        "\n",
        "Do mesmo modo que na regressão linear você deseja minimizar o erro ou maximizar os *acertos* do modelo. Para cada amostra que  pertence à classe '1', você irá querer que $p$ fique mais próximo de $1$ enquanto, para cada amostra que não  pertence à classe '1', você quer que $p$ seja o mais próximo de $0$ possível. As diferenças consistem no erro que queremos minimizar e podemos então, a partir de valores iniciais de dos coeficientes $a_0, a_1, ...$ empregar um método de otimização como o de mínimos quadrados, ou um método gradiente, para obter  os coeficientes que fornecem o menor erro. \n",
        "\n",
        "\n"
      ]
    },
    {
      "cell_type": "markdown",
      "metadata": {
        "id": "q5XLiJBwyK6b"
      },
      "source": [
        "# Classificando *Moons* e Empréstimos \n",
        "\n",
        "Vamos começar classificando um conjunto aleatório de dados que denominaremos *Moons*. Cada um dos 100 pontos, *moons*, possui 2 atributos e recebe uma classe $1$ ou $0$."
      ]
    },
    {
      "cell_type": "code",
      "metadata": {
        "colab": {
          "base_uri": "https://localhost:8080/",
          "height": 400
        },
        "id": "O0F_lkwP3qSK",
        "outputId": "84622570-138d-4063-d0d2-8cc805d9f8ca"
      },
      "source": [
        "from sklearn.datasets import make_moons\n",
        "cmap_data = plt.cm.coolwarm \n",
        "\n",
        "X, y = make_moons(n_samples=100, noise=0.25, random_state=1234)\n",
        "\n",
        "df = pd.DataFrame({'x1':X[:, 0], 'x2':X[:, 1], 'y':y})\n",
        "\n",
        "plt.scatter(df.x1, df.x2, c=df.y, cmap=cmap_data, alpha=0.8)\n",
        "plt.title('Moons Set',weight='bold',fontsize=14)\n",
        "plt.xlabel(\"x1\")\n",
        "plt.ylabel(\"x2\")\n",
        "\n",
        "custom_lines = [Line2D([0], [0], color=cmap_data(0.), lw=6),\n",
        "                Line2D([0], [0], color=cmap_data(1.), lw=6)]\n",
        "plt.legend(custom_lines, ['One', 'Zero'], loc='upper right',title='Moons')\n",
        "\n",
        "plt.show()\n",
        "\n",
        "print(df.head())"
      ],
      "execution_count": null,
      "outputs": [
        {
          "output_type": "display_data",
          "data": {
            "text/plain": [
              "<Figure size 432x288 with 1 Axes>"
            ],
            "image/png": "[encoded data removed]"
          },
          "metadata": {
            "needs_background": "light"
          }
        },
        {
          "output_type": "stream",
          "name": "stdout",
          "text": [
            "         x1        x2  y\n",
            "0 -0.763251  0.577354  0\n",
            "1 -0.391942  1.395641  0\n",
            "2  1.324561 -0.492319  1\n",
            "3  0.271295 -0.082532  1\n",
            "4  2.253887  0.420281  1\n"
          ]
        }
      ]
    },
    {
      "cell_type": "markdown",
      "metadata": {
        "id": "3xyRGSTtB0_a"
      },
      "source": [
        "Talvez você considere esse problema um problema pouco interessante, afinal estamos apenas gerando dados aleatórios. Esse exemplo de *brinquedo*, entretanto, já traz os elementos essenciais que precisamos saber para criar classificadores supervisionados e poderíamos  igualmente ter uma base com dados de empréstimos, com idade e valor dos empréstimos tomados pelos clientes, classificados entre empréstimos pagos ou inadimplentes (*default*) para prever concessões de novos empréstimos. "
      ]
    },
    {
      "cell_type": "code",
      "metadata": {
        "colab": {
          "base_uri": "https://localhost:8080/",
          "height": 400
        },
        "id": "nHhoi5KDy4dG",
        "outputId": "6e5a6a13-c114-4119-f8c8-89d59073a671"
      },
      "source": [
        "from sklearn.datasets import make_moons\n",
        "cmap_data = plt.cm.PiYG\n",
        "\n",
        "X, y = make_moons(n_samples=100, noise=0.25, random_state=1234)\n",
        "\n",
        "df_loans = pd.DataFrame({'age':X[:, 0], 'loan':X[:, 1], 'default':y})\n",
        "\n",
        "df_loans.age = df_loans.age + 50 + df_loans.age*10\n",
        "df_loans.loan = df_loans.loan + 3000 + df_loans.loan*3000\n",
        "\n",
        "plt.scatter(df_loans.age, df_loans.loan, c=df_loans.default, cmap=cmap_data, alpha=0.8)\n",
        "plt.title('Loans',weight='bold',fontsize=14)\n",
        "plt.xlabel(\"Age\")\n",
        "plt.ylabel(\"Loan\")\n",
        "\n",
        "custom_lines = [Line2D([0], [0], color=cmap_data(0.), lw=6),\n",
        "                Line2D([0], [0], color=cmap_data(1.), lw=6)]\n",
        "plt.legend(custom_lines, ['Yes', 'No'], loc='upper right',title='Default')\n",
        "\n",
        "plt.show()\n",
        "\n",
        "print(df_loans.head())"
      ],
      "execution_count": null,
      "outputs": [
        {
          "output_type": "display_data",
          "data": {
            "text/plain": [
              "<Figure size 432x288 with 1 Axes>"
            ],
            "image/png": "[encoded data removed]"
          },
          "metadata": {
            "needs_background": "light"
          }
        },
        {
          "output_type": "stream",
          "name": "stdout",
          "text": [
            "         age         loan  default\n",
            "0  41.604235  4732.639984        0\n",
            "1  45.688635  7188.319998        0\n",
            "2  64.570169  1522.549822        1\n",
            "3  52.984240  2752.321406        1\n",
            "4  74.792752  4261.263330        1\n"
          ]
        }
      ]
    },
    {
      "cell_type": "markdown",
      "metadata": {
        "id": "JB2L1I8QDpkh"
      },
      "source": [
        "Vamos então entender como empregar o classificador logístico do `scikit-learn` neste exemplo de brinquedo, entendendo cada passo e que são empregados depois para quaisquer outros algoritmos supervisionados."
      ]
    },
    {
      "cell_type": "markdown",
      "source": [
        "\n",
        "\n",
        "<img src=\"https://github.com/Rogerio-mack/Machine-Learning-I/raw/main/Figures/ML/Slide5.PNG\" width=800, align=\"center\">"
      ],
      "metadata": {
        "id": "zwUUPhdVrZ49"
      }
    },
    {
      "cell_type": "markdown",
      "source": [
        "<small>\n",
        "\n",
        "<b>\n",
        "Figura 4. Esquema geral de Implementação de Modelos Supervisionados com estimadores do SciKit-Learn. "
      ],
      "metadata": {
        "id": "b0RHwYrIrZ5B"
      }
    },
    {
      "cell_type": "markdown",
      "source": [
        "\n",
        "1. **Definimos as Entradas e Saídas do Modelo**. Seus recursos e rótulos.\n",
        "2. **Definimos a Classe de Modelos a ser empregada**. \n",
        "3. **Treinamos o Modelo**. Isto é, buscam-se os parâmetros que melhor ajustam o modelo aos dados.\n",
        "4. **Prevemos novos casos**. Aplicamos o modelo para novos casos."
      ],
      "metadata": {
        "id": "t2s-ZedokUFG"
      }
    },
    {
      "cell_type": "markdown",
      "metadata": {
        "id": "p9AUvHhmoh_9"
      },
      "source": [
        "\n",
        "\n",
        "## Import dos Estimadores\n",
        "\n",
        "Antes de mais nada podemos importar os pacotes necessários para a execução do nosso modelo. \n",
        "\n",
        "Cada algoritmo de aprendizado na API  do scikit-learn é exposto como  objeto chamado de *estimador*. Por exemplo, você viu que para a regressão linear há o estimador `sklearn.linear_model.LinearRegression`, para a regressão logística o estimador será o `from sklearn.linear_model import LogisticRegression`."
      ]
    },
    {
      "cell_type": "code",
      "metadata": {
        "id": "xTTA4-S7pRKd"
      },
      "source": [
        "from sklearn.linear_model import LogisticRegression \n"
      ],
      "execution_count": null,
      "outputs": []
    },
    {
      "cell_type": "markdown",
      "metadata": {
        "id": "hGezbP0yYF7S"
      },
      "source": [
        "## Definimos as Entradas e Saídas do Modelo\n",
        "\n",
        "Essa operação pode requerer uma série de transformações e seleções dos dados e, normalmente, é uma parte bastante custosa da implementação completa dos modelos. Mas aqui nossos dados são bastante simples e podem ser empregados diretamente sem qualquer preparação."
      ]
    },
    {
      "cell_type": "code",
      "source": [
        "X = df[['x1','x2']]\n",
        "y = df.y\n"
      ],
      "metadata": {
        "id": "9TAMyLuKYnOt"
      },
      "execution_count": null,
      "outputs": []
    },
    {
      "cell_type": "markdown",
      "metadata": {
        "id": "LlgRTk-6pqGF"
      },
      "source": [
        "## Definimos a Classe de Modelos com seus Parâmetros\n",
        "\n",
        "Fazemos isso isnstanciando o modelo com seus parâmetros."
      ]
    },
    {
      "cell_type": "code",
      "metadata": {
        "colab": {
          "base_uri": "https://localhost:8080/"
        },
        "id": "m1Dfkh_hqP0X",
        "outputId": "11b35da4-2d05-4bad-d9cb-c44c0d330433"
      },
      "source": [
        "clf = LogisticRegression(max_iter=1000)\n",
        "print(clf)"
      ],
      "execution_count": null,
      "outputs": [
        {
          "output_type": "stream",
          "name": "stdout",
          "text": [
            "LogisticRegression(max_iter=1000)\n"
          ]
        }
      ]
    },
    {
      "cell_type": "markdown",
      "metadata": {
        "id": "Uw6UhLbxEGZJ"
      },
      "source": [
        "E empregamos o nome `clf` arbitrariamente apenas para designar nosso classificador e o parâmetro `max_iter` define o número máximo de iterações que o otimizador irá empregar para obter numericamente, por aproximações sucessivas, os melhores coeficientes do modelo."
      ]
    },
    {
      "cell_type": "markdown",
      "metadata": {
        "id": "E7uHnFK9rHBP"
      },
      "source": [
        "## Treinamento do Modelo \n",
        "\n",
        "Os parâmetros ou coeficientes do modelo são obtidos com a função `fit()`, buscando os melhores parâmetros ou coeficientes que se ajustam aos dados através de um otimizador (`solver`)."
      ]
    },
    {
      "cell_type": "code",
      "metadata": {
        "colab": {
          "base_uri": "https://localhost:8080/"
        },
        "id": "hy4RL3gGyOyn",
        "outputId": "1dee33f3-f418-45e2-ae83-ef29dbb014dd"
      },
      "source": [
        "clf.fit(X,y)\n",
        "\n",
        "print( clf.coef_, clf.intercept_)"
      ],
      "execution_count": null,
      "outputs": [
        {
          "output_type": "stream",
          "name": "stdout",
          "text": [
            "[[ 1.21523438 -2.60803724]] [0.12484869]\n"
          ]
        }
      ]
    },
    {
      "cell_type": "markdown",
      "metadata": {
        "id": "lsPIr80aEU8p"
      },
      "source": [
        "Os valores `coef_` e `clf.intercept_` são os parâmetros estimados para regressão logística e irão variar de modelo para modelo."
      ]
    },
    {
      "cell_type": "markdown",
      "metadata": {
        "id": "D_Nu16Z20Izz"
      },
      "source": [
        "## Predição \n",
        "\n",
        "O método `predict()` fornece então a predição de dados com base nos parâmetros estimados do modelo.  "
      ]
    },
    {
      "cell_type": "code",
      "metadata": {
        "colab": {
          "base_uri": "https://localhost:8080/"
        },
        "id": "kxjR32nD0Pdo",
        "outputId": "646168bc-5167-4bf7-f9e7-86bddcd98b8a"
      },
      "source": [
        "clf.predict(X)"
      ],
      "execution_count": null,
      "outputs": [
        {
          "output_type": "execute_result",
          "data": {
            "text/plain": [
              "array([0, 0, 1, 1, 1, 1, 1, 0, 0, 0, 0, 1, 1, 1, 0, 1, 1, 1, 1, 1, 0, 0,\n",
              "       0, 1, 1, 1, 1, 1, 1, 0, 1, 1, 0, 1, 1, 1, 0, 0, 0, 1, 0, 0, 1, 1,\n",
              "       0, 0, 0, 0, 0, 0, 0, 0, 0, 0, 1, 0, 1, 1, 1, 0, 0, 0, 1, 0, 0, 0,\n",
              "       1, 0, 1, 0, 0, 1, 1, 1, 0, 1, 1, 0, 0, 1, 0, 1, 1, 1, 1, 1, 1, 1,\n",
              "       0, 0, 0, 0, 0, 0, 0, 1, 0, 0, 1, 0])"
            ]
          },
          "metadata": {},
          "execution_count": 10
        }
      ]
    },
    {
      "cell_type": "markdown",
      "metadata": {
        "id": "QZVeRAHoEjJQ"
      },
      "source": [
        "Ainda existem outros preditores úteis que retornam a probabilidade ou o log da probabilidade de cada classe, o que é  útil quando se deseja refinar os resultados ou ainda desejamos empregar esses valores para solução de problemas multiclasse."
      ]
    },
    {
      "cell_type": "code",
      "metadata": {
        "colab": {
          "base_uri": "https://localhost:8080/"
        },
        "id": "AI9SZm5IEiRn",
        "outputId": "75dde6f6-56ad-46df-f2f1-df5efb9edd3f"
      },
      "source": [
        "clf.predict_proba(X)[0:10]"
      ],
      "execution_count": null,
      "outputs": [
        {
          "output_type": "execute_result",
          "data": {
            "text/plain": [
              "array([[0.90957378, 0.09042622],\n",
              "       [0.98186015, 0.01813985],\n",
              "       [0.04659762, 0.95340238],\n",
              "       [0.33854573, 0.66145427],\n",
              "       [0.14582354, 0.85417646],\n",
              "       [0.14251362, 0.85748638],\n",
              "       [0.03145696, 0.96854304],\n",
              "       [0.91387591, 0.08612409],\n",
              "       [0.96036923, 0.03963077],\n",
              "       [0.87472292, 0.12527708]])"
            ]
          },
          "metadata": {},
          "execution_count": 11
        }
      ]
    },
    {
      "cell_type": "code",
      "metadata": {
        "colab": {
          "base_uri": "https://localhost:8080/"
        },
        "id": "EifaKz5tEtNd",
        "outputId": "bff62c8b-72f0-4df2-c127-874a31006706"
      },
      "source": [
        "clf.predict_log_proba(X)[0:10]"
      ],
      "execution_count": null,
      "outputs": [
        {
          "output_type": "execute_result",
          "data": {
            "text/plain": [
              "array([[-0.09477916, -2.40322103],\n",
              "       [-0.01830639, -4.00964435],\n",
              "       [-3.06620578, -0.04771824],\n",
              "       [-1.08309611, -0.41331442],\n",
              "       [-1.925358  , -0.15761748],\n",
              "       [-1.94831768, -0.15374999],\n",
              "       [-3.45913493, -0.03196236],\n",
              "       [-0.09006048, -2.45196614],\n",
              "       [-0.04043746, -3.22814934],\n",
              "       [-0.13384811, -2.07722732]])"
            ]
          },
          "metadata": {},
          "execution_count": 12
        }
      ]
    },
    {
      "cell_type": "markdown",
      "metadata": {
        "id": "dw0HwaFQvMf5"
      },
      "source": [
        "# Classificação de Fraudes e Tumores\n",
        "\n",
        "Para concluir, o mesmo se aplicaria, e os mesmos códigos poderiam ser empregados, se você quisesse implementar um modelo para detecção de  detecção de fraude de transações de cartão de crédito com base nos Valores da operação e uso do cartão nas últimas 24h, duas variáveis reconhecidas como fortes preditoras de fraude de cartões. O modelo empregado seria então,\n",
        "\n",
        "$$ P(\\text{Fraude} | \\text{Valor, Trans24h}) = \\frac{1}{ (1 + e^{- ( a_0 + a_1 \\text{Valor} + a_2 \\text{Trans24h} ) })}$$\n",
        "\n",
        "\n",
        "\n",
        "\n",
        " "
      ]
    },
    {
      "cell_type": "markdown",
      "source": [
        "\n",
        "\n",
        "<img src=\"https://github.com/Rogerio-mack/Machine-Learning-I/raw/main/Figures/MLLogistic.png\" width=800, align=\"center\">"
      ],
      "metadata": {
        "id": "UpEej7IJiBSy"
      }
    },
    {
      "cell_type": "markdown",
      "source": [
        "<small>\n",
        "\n",
        "<b>\n",
        "Figura 5. Esquema geral do Modelo Logístico aplicado à classificação de Fraudes em operações com Cartões. "
      ],
      "metadata": {
        "id": "NnnyMJU0iBS0"
      }
    },
    {
      "cell_type": "markdown",
      "source": [
        "Depois de estimados os coeficientes $a_0, a_1, a_2$ com base nas amostras conhecidas, você poderia aplicar dados de uma nova operação `(Valor,Trans24h)` para estimar a chance da operação ser ou não uma fraude. Um modelo análogo pode ser também aplicado igualmente à classificação dos tumores Malignos ou Benignos como apresentamos no início desta aula e você poderá ver a implementação desse modelo logo mais adiante."
      ],
      "metadata": {
        "id": "s__KxJP1iplu"
      }
    },
    {
      "cell_type": "markdown",
      "metadata": {
        "id": "9PZmucG0tPtT"
      },
      "source": [
        "# Score do Modelo: Acuracidade\n",
        "\n",
        "Por último podemos medir a eficiência do nosso modelo, diretamente ou ainda a partir do `score()`. "
      ]
    },
    {
      "cell_type": "code",
      "metadata": {
        "colab": {
          "base_uri": "https://localhost:8080/"
        },
        "id": "WbloX5Ts0VEv",
        "outputId": "e96bac60-a75d-4f3b-e87f-8d279657246d"
      },
      "source": [
        "clf.score(X,y)"
      ],
      "execution_count": null,
      "outputs": [
        {
          "output_type": "execute_result",
          "data": {
            "text/plain": [
              "0.87"
            ]
          },
          "metadata": {},
          "execution_count": 13
        }
      ]
    },
    {
      "cell_type": "markdown",
      "source": [
        "Esse score de $0.87$, corresponde à **Acuracidade do Modelo** sobre o nosso conjunto de treinamento `X`, isto é, o percentual de acerto do nosso modelo quando comparamos com os rótulos (as respostas) presentes no nosso conjunto. Você pode obter o mesmo valor apenas contando o número de acertos da predição sobre o total de casos. \n",
        "\n",
        "\n",
        " "
      ],
      "metadata": {
        "id": "Pob_OP-Wapft"
      }
    },
    {
      "cell_type": "code",
      "source": [
        "sum( clf.predict(X) == y ) / len(X)"
      ],
      "metadata": {
        "id": "fVxc5zujbZpd",
        "outputId": "46a8b4a6-ff26-43e0-9b6a-70368c50b266",
        "colab": {
          "base_uri": "https://localhost:8080/"
        }
      },
      "execution_count": null,
      "outputs": [
        {
          "output_type": "execute_result",
          "data": {
            "text/plain": [
              "0.87"
            ]
          },
          "metadata": {},
          "execution_count": 14
        }
      ]
    },
    {
      "cell_type": "markdown",
      "source": [
        "Ou ainda construir uma tabela para comparar os acertos e erros dos modelo."
      ],
      "metadata": {
        "id": "TtQiPhE1bjUU"
      }
    },
    {
      "cell_type": "code",
      "source": [
        "df['y_pred'] = clf.predict(X)\n",
        "df['prediction'] = df['y_pred'] == df['y']\n",
        "df\n"
      ],
      "metadata": {
        "id": "gO3-t49Bbpet",
        "outputId": "460d0d41-2391-4739-d1d2-c82ec89cd27b",
        "colab": {
          "base_uri": "https://localhost:8080/",
          "height": 424
        }
      },
      "execution_count": null,
      "outputs": [
        {
          "output_type": "execute_result",
          "data": {
            "text/plain": [
              "          x1        x2  y  y_pred  prediction\n",
              "0  -0.763251  0.577354  0       0        True\n",
              "1  -0.391942  1.395641  0       0        True\n",
              "2   1.324561 -0.492319  1       1        True\n",
              "3   0.271295 -0.082532  1       1        True\n",
              "4   2.253887  0.420281  1       1        True\n",
              "..       ...       ... ..     ...         ...\n",
              "95  1.491966  0.252394  1       1        True\n",
              "96 -0.159110  0.624741  1       0       False\n",
              "97 -1.289734  0.695981  0       0        True\n",
              "98  1.575789 -0.080554  1       1        True\n",
              "99 -1.423921 -0.092316  0       0        True\n",
              "\n",
              "[100 rows x 5 columns]"
            ],
            "text/html": [
              "\n",
              "  <div id=\"df-05c57dc6-4bb3-4b7e-8351-26a7a4b608c3\">\n",
              "    <div class=\"colab-df-container\">\n",
              "      <div>\n",
              "<style scoped>\n",
              "    .dataframe tbody tr th:only-of-type {\n",
              "        vertical-align: middle;\n",
              "    }\n",
              "\n",
              "    .dataframe tbody tr th {\n",
              "        vertical-align: top;\n",
              "    }\n",
              "\n",
              "    .dataframe thead th {\n",
              "        text-align: right;\n",
              "    }\n",
              "</style>\n",
              "<table border=\"1\" class=\"dataframe\">\n",
              "  <thead>\n",
              "    <tr style=\"text-align: right;\">\n",
              "      <th></th>\n",
              "      <th>x1</th>\n",
              "      <th>x2</th>\n",
              "      <th>y</th>\n",
              "      <th>y_pred</th>\n",
              "      <th>prediction</th>\n",
              "    </tr>\n",
              "  </thead>\n",
              "  <tbody>\n",
              "    <tr>\n",
              "      <th>0</th>\n",
              "      <td>-0.763251</td>\n",
              "      <td>0.577354</td>\n",
              "      <td>0</td>\n",
              "      <td>0</td>\n",
              "      <td>True</td>\n",
              "    </tr>\n",
              "    <tr>\n",
              "      <th>1</th>\n",
              "      <td>-0.391942</td>\n",
              "      <td>1.395641</td>\n",
              "      <td>0</td>\n",
              "      <td>0</td>\n",
              "      <td>True</td>\n",
              "    </tr>\n",
              "    <tr>\n",
              "      <th>2</th>\n",
              "      <td>1.324561</td>\n",
              "      <td>-0.492319</td>\n",
              "      <td>1</td>\n",
              "      <td>1</td>\n",
              "      <td>True</td>\n",
              "    </tr>\n",
              "    <tr>\n",
              "      <th>3</th>\n",
              "      <td>0.271295</td>\n",
              "      <td>-0.082532</td>\n",
              "      <td>1</td>\n",
              "      <td>1</td>\n",
              "      <td>True</td>\n",
              "    </tr>\n",
              "    <tr>\n",
              "      <th>4</th>\n",
              "      <td>2.253887</td>\n",
              "      <td>0.420281</td>\n",
              "      <td>1</td>\n",
              "      <td>1</td>\n",
              "      <td>True</td>\n",
              "    </tr>\n",
              "    <tr>\n",
              "      <th>...</th>\n",
              "      <td>...</td>\n",
              "      <td>...</td>\n",
              "      <td>...</td>\n",
              "      <td>...</td>\n",
              "      <td>...</td>\n",
              "    </tr>\n",
              "    <tr>\n",
              "      <th>95</th>\n",
              "      <td>1.491966</td>\n",
              "      <td>0.252394</td>\n",
              "      <td>1</td>\n",
              "      <td>1</td>\n",
              "      <td>True</td>\n",
              "    </tr>\n",
              "    <tr>\n",
              "      <th>96</th>\n",
              "      <td>-0.159110</td>\n",
              "      <td>0.624741</td>\n",
              "      <td>1</td>\n",
              "      <td>0</td>\n",
              "      <td>False</td>\n",
              "    </tr>\n",
              "    <tr>\n",
              "      <th>97</th>\n",
              "      <td>-1.289734</td>\n",
              "      <td>0.695981</td>\n",
              "      <td>0</td>\n",
              "      <td>0</td>\n",
              "      <td>True</td>\n",
              "    </tr>\n",
              "    <tr>\n",
              "      <th>98</th>\n",
              "      <td>1.575789</td>\n",
              "      <td>-0.080554</td>\n",
              "      <td>1</td>\n",
              "      <td>1</td>\n",
              "      <td>True</td>\n",
              "    </tr>\n",
              "    <tr>\n",
              "      <th>99</th>\n",
              "      <td>-1.423921</td>\n",
              "      <td>-0.092316</td>\n",
              "      <td>0</td>\n",
              "      <td>0</td>\n",
              "      <td>True</td>\n",
              "    </tr>\n",
              "  </tbody>\n",
              "</table>\n",
              "<p>100 rows × 5 columns</p>\n",
              "</div>\n",
              "      <button class=\"colab-df-convert\" onclick=\"convertToInteractive('df-05c57dc6-4bb3-4b7e-8351-26a7a4b608c3')\"\n",
              "              title=\"Convert this dataframe to an interactive table.\"\n",
              "              style=\"display:none;\">\n",
              "        \n",
              "  <svg xmlns=\"http://www.w3.org/2000/svg\" height=\"24px\"viewBox=\"0 0 24 24\"\n",
              "       width=\"24px\">\n",
              "    <path d=\"M0 0h24v24H0V0z\" fill=\"none\"/>\n",
              "    <path d=\"M18.56 5.44l.94 2.06.94-2.06 2.06-.94-2.06-.94-.94-2.06-.94 2.06-2.06.94zm-11 1L8.5 8.5l.94-2.06 2.06-.94-2.06-.94L8.5 2.5l-.94 2.06-2.06.94zm10 10l.94 2.06.94-2.06 2.06-.94-2.06-.94-.94-2.06-.94 2.06-2.06.94z\"/><path d=\"M17.41 7.96l-1.37-1.37c-.4-.4-.92-.59-1.43-.59-.52 0-1.04.2-1.43.59L10.3 9.45l-7.72 7.72c-.78.78-.78 2.05 0 2.83L4 21.41c.39.39.9.59 1.41.59.51 0 1.02-.2 1.41-.59l7.78-7.78 2.81-2.81c.8-.78.8-2.07 0-2.86zM5.41 20L4 18.59l7.72-7.72 1.47 1.35L5.41 20z\"/>\n",
              "  </svg>\n",
              "      </button>\n",
              "      \n",
              "  <style>\n",
              "    .colab-df-container {\n",
              "      display:flex;\n",
              "      flex-wrap:wrap;\n",
              "      gap: 12px;\n",
              "    }\n",
              "\n",
              "    .colab-df-convert {\n",
              "      background-color: #E8F0FE;\n",
              "      border: none;\n",
              "      border-radius: 50%;\n",
              "      cursor: pointer;\n",
              "      display: none;\n",
              "      fill: #1967D2;\n",
              "      height: 32px;\n",
              "      padding: 0 0 0 0;\n",
              "      width: 32px;\n",
              "    }\n",
              "\n",
              "    .colab-df-convert:hover {\n",
              "      background-color: #E2EBFA;\n",
              "      box-shadow: 0px 1px 2px rgba(60, 64, 67, 0.3), 0px 1px 3px 1px rgba(60, 64, 67, 0.15);\n",
              "      fill: #174EA6;\n",
              "    }\n",
              "\n",
              "    [theme=dark] .colab-df-convert {\n",
              "      background-color: #3B4455;\n",
              "      fill: #D2E3FC;\n",
              "    }\n",
              "\n",
              "    [theme=dark] .colab-df-convert:hover {\n",
              "      background-color: #434B5C;\n",
              "      box-shadow: 0px 1px 3px 1px rgba(0, 0, 0, 0.15);\n",
              "      filter: drop-shadow(0px 1px 2px rgba(0, 0, 0, 0.3));\n",
              "      fill: #FFFFFF;\n",
              "    }\n",
              "  </style>\n",
              "\n",
              "      <script>\n",
              "        const buttonEl =\n",
              "          document.querySelector('#df-05c57dc6-4bb3-4b7e-8351-26a7a4b608c3 button.colab-df-convert');\n",
              "        buttonEl.style.display =\n",
              "          google.colab.kernel.accessAllowed ? 'block' : 'none';\n",
              "\n",
              "        async function convertToInteractive(key) {\n",
              "          const element = document.querySelector('#df-05c57dc6-4bb3-4b7e-8351-26a7a4b608c3');\n",
              "          const dataTable =\n",
              "            await google.colab.kernel.invokeFunction('convertToInteractive',\n",
              "                                                     [key], {});\n",
              "          if (!dataTable) return;\n",
              "\n",
              "          const docLinkHtml = 'Like what you see? Visit the ' +\n",
              "            '<a target=\"_blank\" href=https://colab.research.google.com/notebooks/data_table.ipynb>data table notebook</a>'\n",
              "            + ' to learn more about interactive tables.';\n",
              "          element.innerHTML = '';\n",
              "          dataTable['output_type'] = 'display_data';\n",
              "          await google.colab.output.renderOutput(dataTable, element);\n",
              "          const docLink = document.createElement('div');\n",
              "          docLink.innerHTML = docLinkHtml;\n",
              "          element.appendChild(docLink);\n",
              "        }\n",
              "      </script>\n",
              "    </div>\n",
              "  </div>\n",
              "  "
            ]
          },
          "metadata": {},
          "execution_count": 15
        }
      ]
    },
    {
      "cell_type": "markdown",
      "source": [
        "Veja que a maioria dos casos é classificado corretamente, mas existem casos onde o valor previsto do modelo difere do valor encontrado nos dados."
      ],
      "metadata": {
        "id": "NPSshO74b7uF"
      }
    },
    {
      "cell_type": "markdown",
      "source": [
        "Essa medida é uma medida de **eficiência do modelo** e, à exemplo do $R$-$Square$ que você aprendeu na Regressão Linear, nos diz o quanto os dados correspondem ao modelo que foi obtido. Mas, como você aprenderá mais adiante, esta é apenas uma das primeiras métricas que podemos empregar para medir a eficiência do modelo e há ainda outras formas melhores de se obter esses valores. "
      ],
      "metadata": {
        "id": "DnZZVxdLckY1"
      }
    },
    {
      "cell_type": "markdown",
      "metadata": {
        "id": "6A4Rmj-lFVtw"
      },
      "source": [
        "No caso desse problema bastante simples, visualizar os erros e acertos do modelo o que, em geral, não será possível com dados com muitas dimensões e instâncias."
      ]
    },
    {
      "cell_type": "code",
      "metadata": {
        "colab": {
          "base_uri": "https://localhost:8080/",
          "height": 296
        },
        "id": "xgETQRLfwWdH",
        "outputId": "ba16a522-edc4-4764-9739-44bdec2afd34"
      },
      "source": [
        "cmap_data = plt.cm.coolwarm \n",
        "\n",
        "y_pred = clf.predict(X)\n",
        "\n",
        "plt.scatter(X.x1, X.x2, c=y, cmap=cmap_data, alpha=0.8)\n",
        "plt.scatter(X.x1, X.x2, c=y_pred, s=250,cmap=cmap_data, alpha=0.4)\n",
        "\n",
        "plt.scatter(X[y_pred != y].x1, X[y_pred != y].x2, color='y', s=350, alpha=1, label='wrong predictions')\n",
        "plt.scatter(X[y_pred != y].x1, X[y_pred != y].x2, c=y[y_pred != y], cmap=cmap_data, alpha=0.8)\n",
        "plt.title('Moons Predictions',weight='bold',fontsize=14)\n",
        "plt.xlabel(\"x1\")\n",
        "plt.ylabel(\"x2\")\n",
        "\n",
        "custom_lines = [Line2D([0], [0], color=cmap_data(0.), lw=6),\n",
        "                Line2D([0], [0], color=cmap_data(1.), lw=6),\n",
        "                Line2D([0], [0], color='y', lw=6)]\n",
        "plt.legend(custom_lines, ['One', 'Zero', 'Error'], loc='upper right',title='Moons')\n",
        "\n",
        "plt.show()\n",
        "\n"
      ],
      "execution_count": null,
      "outputs": [
        {
          "output_type": "display_data",
          "data": {
            "text/plain": [
              "<Figure size 432x288 with 1 Axes>"
            ],
            "image/png": "[encoded data removed]"
          },
          "metadata": {
            "needs_background": "light"
          }
        }
      ]
    },
    {
      "cell_type": "markdown",
      "metadata": {
        "id": "Qd7aBe_fw1ZS"
      },
      "source": [
        "E podemos ainda verificar a *fronteira de decisão* do estimador."
      ]
    },
    {
      "cell_type": "code",
      "metadata": {
        "colab": {
          "base_uri": "https://localhost:8080/",
          "height": 351
        },
        "id": "2QpqyqkifHXf",
        "outputId": "02d0bff3-9b86-4242-fed8-70c1d5c53d15"
      },
      "source": [
        "x_min, x_max = X['x1'].min() - .5, X['x1'].max() + .5\n",
        "y_min, y_max = X['x2'].min() - .5, X['x2'].max() + .5\n",
        "xx, yy = np.meshgrid(np.arange(x_min, x_max, 0.2),\n",
        "                     np.arange(y_min, y_max, 0.2))\n",
        "\n",
        "if hasattr(clf, \"decision_function\"):\n",
        "  Z = clf.decision_function(np.c_[xx.ravel(), yy.ravel()])\n",
        "else:\n",
        "  Z = clf.predict_proba(np.c_[xx.ravel(), yy.ravel()])[:, 1]\n",
        "\n",
        "Z = Z.reshape(xx.shape)\n",
        "plt.contourf(xx, yy, Z, cmap=cmap_data, alpha=0.8)  \n",
        "plt.scatter(X['x1'], X['x2'], c=y, cmap=cmap_data, alpha=0.8)\n",
        "plt.title('Moons Predictions',weight='bold',fontsize=14)\n",
        "plt.xlabel(\"x1\")\n",
        "plt.ylabel(\"x2\")\n",
        "\n",
        "custom_lines = [Line2D([0], [0], color=cmap_data(0.), lw=6),\n",
        "                Line2D([0], [0], color=cmap_data(1.), lw=6)]\n",
        "\n",
        "plt.legend(custom_lines, ['One', 'Zero'], loc='upper right',title='Moons')\n",
        "\n",
        "plt.show()"
      ],
      "execution_count": null,
      "outputs": [
        {
          "output_type": "stream",
          "name": "stderr",
          "text": [
            "/usr/local/lib/python3.7/dist-packages/sklearn/base.py:451: UserWarning: X does not have valid feature names, but LogisticRegression was fitted with feature names\n",
            "  \"X does not have valid feature names, but\"\n"
          ]
        },
        {
          "output_type": "display_data",
          "data": {
            "text/plain": [
              "<Figure size 432x288 with 1 Axes>"
            ],
            "image/png": "[encoded data removed]"
          },
          "metadata": {
            "needs_background": "light"
          }
        }
      ]
    },
    {
      "cell_type": "markdown",
      "metadata": {
        "id": "815HX_Iiw7X3"
      },
      "source": [
        "# CASO: Estimando Tumores Malignos ou Benignos.\n",
        "\n",
        "Os dados a seguir são características computadas a partir de imagens digitalizadas de um aspirado por agulha fina (PAAF) de massas mamárias. Eles descrevem características dos núcleos celulares presentes na imagem e, dado um conjunto de tumores já classificados, podemos um modelo de regressão logística para prever novos casos como Benignos ou Malignos. Para descrição detalhada desses dados você pode acessar  https://archive.ics.uci.edu/ml/datasets/Breast+Cancer+Wisconsin+(Diagnostic)\n",
        "\n"
      ]
    },
    {
      "cell_type": "markdown",
      "metadata": {
        "id": "TK5rvTrugOwz"
      },
      "source": [
        "<img src=\"https://github.com/Rogerio-mack/Ciencia-de-Dados-e-Aprendizado-de-Maquina/blob/main/figuras/linearregressionlogitbreast1.PNG?raw=true\" width=1200, align=\"right\"> "
      ]
    },
    {
      "cell_type": "markdown",
      "source": [
        "<small>\n",
        "\n",
        "<b>\n",
        "Figura 6. Modelos Logístico e de Regressão linear aplicado aos dados da base Breast-Cancer.  "
      ],
      "metadata": {
        "id": "RpKRqq0f0FzI"
      }
    },
    {
      "cell_type": "markdown",
      "source": [
        "## Acessando os dados"
      ],
      "metadata": {
        "id": "cAtquuyh0Zoh"
      }
    },
    {
      "cell_type": "markdown",
      "source": [
        "Vamos aplicar um modelo de Regressão Logística para prever o diagnóstico dos tumores empregando apenas algumas características."
      ],
      "metadata": {
        "id": "frX1hmy-0oAU"
      }
    },
    {
      "cell_type": "code",
      "metadata": {
        "id": "LZ9CxKfOrtSy",
        "colab": {
          "base_uri": "https://localhost:8080/",
          "height": 206
        },
        "outputId": "bf890352-2270-4840-9eac-35a2a73e406d"
      },
      "source": [
        "df = pd.read_csv('http://meusite.mackenzie.br/rogerio/TIC/breast-cancer-wisconsin.csv')\n",
        "df = df[['diagnosis', 'radius_mean', 'texture_mean', 'perimeter_mean']] # vamos empregar apenas uma parte dos dados\n",
        "df.head()\n"
      ],
      "execution_count": null,
      "outputs": [
        {
          "output_type": "execute_result",
          "data": {
            "text/plain": [
              "  diagnosis  radius_mean  texture_mean  perimeter_mean\n",
              "0         M        17.99         10.38          122.80\n",
              "1         M        20.57         17.77          132.90\n",
              "2         M        19.69         21.25          130.00\n",
              "3         M        11.42         20.38           77.58\n",
              "4         M        20.29         14.34          135.10"
            ],
            "text/html": [
              "\n",
              "  <div id=\"df-ce9da4f4-dcba-48b2-ae4c-4a7c8a1cf829\">\n",
              "    <div class=\"colab-df-container\">\n",
              "      <div>\n",
              "<style scoped>\n",
              "    .dataframe tbody tr th:only-of-type {\n",
              "        vertical-align: middle;\n",
              "    }\n",
              "\n",
              "    .dataframe tbody tr th {\n",
              "        vertical-align: top;\n",
              "    }\n",
              "\n",
              "    .dataframe thead th {\n",
              "        text-align: right;\n",
              "    }\n",
              "</style>\n",
              "<table border=\"1\" class=\"dataframe\">\n",
              "  <thead>\n",
              "    <tr style=\"text-align: right;\">\n",
              "      <th></th>\n",
              "      <th>diagnosis</th>\n",
              "      <th>radius_mean</th>\n",
              "      <th>texture_mean</th>\n",
              "      <th>perimeter_mean</th>\n",
              "    </tr>\n",
              "  </thead>\n",
              "  <tbody>\n",
              "    <tr>\n",
              "      <th>0</th>\n",
              "      <td>M</td>\n",
              "      <td>17.99</td>\n",
              "      <td>10.38</td>\n",
              "      <td>122.80</td>\n",
              "    </tr>\n",
              "    <tr>\n",
              "      <th>1</th>\n",
              "      <td>M</td>\n",
              "      <td>20.57</td>\n",
              "      <td>17.77</td>\n",
              "      <td>132.90</td>\n",
              "    </tr>\n",
              "    <tr>\n",
              "      <th>2</th>\n",
              "      <td>M</td>\n",
              "      <td>19.69</td>\n",
              "      <td>21.25</td>\n",
              "      <td>130.00</td>\n",
              "    </tr>\n",
              "    <tr>\n",
              "      <th>3</th>\n",
              "      <td>M</td>\n",
              "      <td>11.42</td>\n",
              "      <td>20.38</td>\n",
              "      <td>77.58</td>\n",
              "    </tr>\n",
              "    <tr>\n",
              "      <th>4</th>\n",
              "      <td>M</td>\n",
              "      <td>20.29</td>\n",
              "      <td>14.34</td>\n",
              "      <td>135.10</td>\n",
              "    </tr>\n",
              "  </tbody>\n",
              "</table>\n",
              "</div>\n",
              "      <button class=\"colab-df-convert\" onclick=\"convertToInteractive('df-ce9da4f4-dcba-48b2-ae4c-4a7c8a1cf829')\"\n",
              "              title=\"Convert this dataframe to an interactive table.\"\n",
              "              style=\"display:none;\">\n",
              "        \n",
              "  <svg xmlns=\"http://www.w3.org/2000/svg\" height=\"24px\"viewBox=\"0 0 24 24\"\n",
              "       width=\"24px\">\n",
              "    <path d=\"M0 0h24v24H0V0z\" fill=\"none\"/>\n",
              "    <path d=\"M18.56 5.44l.94 2.06.94-2.06 2.06-.94-2.06-.94-.94-2.06-.94 2.06-2.06.94zm-11 1L8.5 8.5l.94-2.06 2.06-.94-2.06-.94L8.5 2.5l-.94 2.06-2.06.94zm10 10l.94 2.06.94-2.06 2.06-.94-2.06-.94-.94-2.06-.94 2.06-2.06.94z\"/><path d=\"M17.41 7.96l-1.37-1.37c-.4-.4-.92-.59-1.43-.59-.52 0-1.04.2-1.43.59L10.3 9.45l-7.72 7.72c-.78.78-.78 2.05 0 2.83L4 21.41c.39.39.9.59 1.41.59.51 0 1.02-.2 1.41-.59l7.78-7.78 2.81-2.81c.8-.78.8-2.07 0-2.86zM5.41 20L4 18.59l7.72-7.72 1.47 1.35L5.41 20z\"/>\n",
              "  </svg>\n",
              "      </button>\n",
              "      \n",
              "  <style>\n",
              "    .colab-df-container {\n",
              "      display:flex;\n",
              "      flex-wrap:wrap;\n",
              "      gap: 12px;\n",
              "    }\n",
              "\n",
              "    .colab-df-convert {\n",
              "      background-color: #E8F0FE;\n",
              "      border: none;\n",
              "      border-radius: 50%;\n",
              "      cursor: pointer;\n",
              "      display: none;\n",
              "      fill: #1967D2;\n",
              "      height: 32px;\n",
              "      padding: 0 0 0 0;\n",
              "      width: 32px;\n",
              "    }\n",
              "\n",
              "    .colab-df-convert:hover {\n",
              "      background-color: #E2EBFA;\n",
              "      box-shadow: 0px 1px 2px rgba(60, 64, 67, 0.3), 0px 1px 3px 1px rgba(60, 64, 67, 0.15);\n",
              "      fill: #174EA6;\n",
              "    }\n",
              "\n",
              "    [theme=dark] .colab-df-convert {\n",
              "      background-color: #3B4455;\n",
              "      fill: #D2E3FC;\n",
              "    }\n",
              "\n",
              "    [theme=dark] .colab-df-convert:hover {\n",
              "      background-color: #434B5C;\n",
              "      box-shadow: 0px 1px 3px 1px rgba(0, 0, 0, 0.15);\n",
              "      filter: drop-shadow(0px 1px 2px rgba(0, 0, 0, 0.3));\n",
              "      fill: #FFFFFF;\n",
              "    }\n",
              "  </style>\n",
              "\n",
              "      <script>\n",
              "        const buttonEl =\n",
              "          document.querySelector('#df-ce9da4f4-dcba-48b2-ae4c-4a7c8a1cf829 button.colab-df-convert');\n",
              "        buttonEl.style.display =\n",
              "          google.colab.kernel.accessAllowed ? 'block' : 'none';\n",
              "\n",
              "        async function convertToInteractive(key) {\n",
              "          const element = document.querySelector('#df-ce9da4f4-dcba-48b2-ae4c-4a7c8a1cf829');\n",
              "          const dataTable =\n",
              "            await google.colab.kernel.invokeFunction('convertToInteractive',\n",
              "                                                     [key], {});\n",
              "          if (!dataTable) return;\n",
              "\n",
              "          const docLinkHtml = 'Like what you see? Visit the ' +\n",
              "            '<a target=\"_blank\" href=https://colab.research.google.com/notebooks/data_table.ipynb>data table notebook</a>'\n",
              "            + ' to learn more about interactive tables.';\n",
              "          element.innerHTML = '';\n",
              "          dataTable['output_type'] = 'display_data';\n",
              "          await google.colab.output.renderOutput(dataTable, element);\n",
              "          const docLink = document.createElement('div');\n",
              "          docLink.innerHTML = docLinkHtml;\n",
              "          element.appendChild(docLink);\n",
              "        }\n",
              "      </script>\n",
              "    </div>\n",
              "  </div>\n",
              "  "
            ]
          },
          "metadata": {},
          "execution_count": 19
        }
      ]
    },
    {
      "cell_type": "markdown",
      "metadata": {
        "id": "5S2JH7UBIVDx"
      },
      "source": [
        "## Modelo de Regressão Logística\n",
        "\n"
      ]
    },
    {
      "cell_type": "markdown",
      "source": [
        "O modelo vai fornecer uma estimativa da probabilidade de 'diagnosis' benigno, \\\\\\4P(\\text{diagnosis}=B)$ com base nos valores de 'radius_mean', 'texture_mean', 'perimeter_mean'.\n"
      ],
      "metadata": {
        "id": "0t5w_mQR07cs"
      }
    },
    {
      "cell_type": "markdown",
      "metadata": {
        "id": "Q9QLV_KTSLbD"
      },
      "source": [
        "$$ y_\\text{pred} = P(\\text{diagnosis}=B) = \\frac{exp( a_0 + a_1\t\\text{radius_mean}\t+ a_2 \\text{texture_mean}\t+ a_3 \\text{perimeter_mean})}{1 + exp( a_0 + a_1\t\\text{radius_mean}\t+ a_2 \\text{texture_mean}\t+ a_3 \\text{perimeter_mean})}$$"
      ]
    },
    {
      "cell_type": "markdown",
      "source": [
        "O modelo calcula a probabilidade de uma classe de valor $1$ (no caso de um atributo $0$ ou $1$), ou do valor primeiro valor no caso de caracteres ('B', será neste caso). \n",
        "\n",
        "Note ainda que os valores do atributo precisam ser numéricos!"
      ],
      "metadata": {
        "id": "So0L-PUs1TVD"
      }
    },
    {
      "cell_type": "markdown",
      "source": [
        "## Implementação do Modelo Logístico\n",
        "\n",
        "A implementação segue os mesmos passos do exemplo implementado anteriormente e aqui, novamente, nenhuma preparação dos dados é necessária.\n"
      ],
      "metadata": {
        "id": "bp5f1vkl1gp0"
      }
    },
    {
      "cell_type": "code",
      "source": [
        "from sklearn.linear_model import LogisticRegression\n",
        "\n",
        "# Entradas e Saídas\n",
        "X = df[['radius_mean', 'texture_mean', 'perimeter_mean']]\n",
        "y = df['diagnosis']\n",
        "\n",
        "# Definição\n",
        "clf = LogisticRegression()\n",
        "\n",
        "# Treinamento\n",
        "clf.fit(X,y)\n",
        "\n",
        "# Avaliação\n",
        "y_pred = clf.predict(X)\n",
        "\n",
        "# Acuracidade\n",
        "print(sum(y_pred == y) / len(y))\n",
        "\n"
      ],
      "metadata": {
        "id": "1viLr1Co1a2J",
        "outputId": "e9c17f46-f94b-4dd6-c070-b29ba4284244",
        "colab": {
          "base_uri": "https://localhost:8080/"
        }
      },
      "execution_count": null,
      "outputs": [
        {
          "output_type": "stream",
          "name": "stdout",
          "text": [
            "0.9086115992970123\n"
          ]
        }
      ]
    },
    {
      "cell_type": "markdown",
      "source": [
        "Obtemos um acerto de 90% dos dados sobre o conjunto de treinamento e, se você considera esse um bom resultado, pode aplicá-lo para estimar novos casos. Por exemplo, para um tumor com valores $(\\text{radius_mean,texture_mean,perimeter_mean})=$ $( 15.1, 15.8, 90)$."
      ],
      "metadata": {
        "id": "lOVUOJBj2KA9"
      }
    },
    {
      "cell_type": "code",
      "source": [
        "# Predição\n",
        "X_new = pd.DataFrame({'radius_mean': [15.1], 'texture_mean': [15.8], 'perimeter_mean': [90]  })\n",
        "y_pred_case = clf.predict(X_new)\n",
        "\n",
        "print(5*'\\n' + 'x = ' , X_new, '\\npredição = ', y_pred_case)"
      ],
      "metadata": {
        "colab": {
          "base_uri": "https://localhost:8080/"
        },
        "id": "gtmNRXgY2mGd",
        "outputId": "a3d8a8d2-d6b7-4071-8886-19624e3500fa"
      },
      "execution_count": null,
      "outputs": [
        {
          "output_type": "stream",
          "name": "stdout",
          "text": [
            "\n",
            "\n",
            "\n",
            "\n",
            "\n",
            "x =     radius_mean  texture_mean  perimeter_mean\n",
            "0         15.1          15.8              90 \n",
            "predição =  ['B']\n"
          ]
        }
      ]
    },
    {
      "cell_type": "markdown",
      "source": [
        "Se você quiser, você pode empregar os valores de `y_pred` para complementar e comparar os dados."
      ],
      "metadata": {
        "id": "HI8zWVoB3uD1"
      }
    },
    {
      "cell_type": "code",
      "source": [
        "print(y_pred[0:10],'...')"
      ],
      "metadata": {
        "colab": {
          "base_uri": "https://localhost:8080/"
        },
        "id": "X3uDLuNT36Yl",
        "outputId": "35eeaa30-e4a5-4340-b6d5-c9681bc90df9"
      },
      "execution_count": null,
      "outputs": [
        {
          "output_type": "stream",
          "name": "stdout",
          "text": [
            "['M' 'M' 'M' 'B' 'M' 'B' 'M' 'B' 'M' 'M'] ...\n"
          ]
        }
      ]
    },
    {
      "cell_type": "code",
      "source": [
        "df['y_pred'] = y_pred \n",
        "df.head()\n"
      ],
      "metadata": {
        "id": "UQR1qZua2Uhr",
        "outputId": "8f868406-42ff-4d6c-e0b6-2184615658a3",
        "colab": {
          "base_uri": "https://localhost:8080/",
          "height": 206
        }
      },
      "execution_count": null,
      "outputs": [
        {
          "output_type": "execute_result",
          "data": {
            "text/plain": [
              "  diagnosis  radius_mean  texture_mean  perimeter_mean y_pred\n",
              "0         M        17.99         10.38          122.80      M\n",
              "1         M        20.57         17.77          132.90      M\n",
              "2         M        19.69         21.25          130.00      M\n",
              "3         M        11.42         20.38           77.58      B\n",
              "4         M        20.29         14.34          135.10      M"
            ],
            "text/html": [
              "\n",
              "  <div id=\"df-27205dae-8179-45ae-9537-9a4918dfa509\">\n",
              "    <div class=\"colab-df-container\">\n",
              "      <div>\n",
              "<style scoped>\n",
              "    .dataframe tbody tr th:only-of-type {\n",
              "        vertical-align: middle;\n",
              "    }\n",
              "\n",
              "    .dataframe tbody tr th {\n",
              "        vertical-align: top;\n",
              "    }\n",
              "\n",
              "    .dataframe thead th {\n",
              "        text-align: right;\n",
              "    }\n",
              "</style>\n",
              "<table border=\"1\" class=\"dataframe\">\n",
              "  <thead>\n",
              "    <tr style=\"text-align: right;\">\n",
              "      <th></th>\n",
              "      <th>diagnosis</th>\n",
              "      <th>radius_mean</th>\n",
              "      <th>texture_mean</th>\n",
              "      <th>perimeter_mean</th>\n",
              "      <th>y_pred</th>\n",
              "    </tr>\n",
              "  </thead>\n",
              "  <tbody>\n",
              "    <tr>\n",
              "      <th>0</th>\n",
              "      <td>M</td>\n",
              "      <td>17.99</td>\n",
              "      <td>10.38</td>\n",
              "      <td>122.80</td>\n",
              "      <td>M</td>\n",
              "    </tr>\n",
              "    <tr>\n",
              "      <th>1</th>\n",
              "      <td>M</td>\n",
              "      <td>20.57</td>\n",
              "      <td>17.77</td>\n",
              "      <td>132.90</td>\n",
              "      <td>M</td>\n",
              "    </tr>\n",
              "    <tr>\n",
              "      <th>2</th>\n",
              "      <td>M</td>\n",
              "      <td>19.69</td>\n",
              "      <td>21.25</td>\n",
              "      <td>130.00</td>\n",
              "      <td>M</td>\n",
              "    </tr>\n",
              "    <tr>\n",
              "      <th>3</th>\n",
              "      <td>M</td>\n",
              "      <td>11.42</td>\n",
              "      <td>20.38</td>\n",
              "      <td>77.58</td>\n",
              "      <td>B</td>\n",
              "    </tr>\n",
              "    <tr>\n",
              "      <th>4</th>\n",
              "      <td>M</td>\n",
              "      <td>20.29</td>\n",
              "      <td>14.34</td>\n",
              "      <td>135.10</td>\n",
              "      <td>M</td>\n",
              "    </tr>\n",
              "  </tbody>\n",
              "</table>\n",
              "</div>\n",
              "      <button class=\"colab-df-convert\" onclick=\"convertToInteractive('df-27205dae-8179-45ae-9537-9a4918dfa509')\"\n",
              "              title=\"Convert this dataframe to an interactive table.\"\n",
              "              style=\"display:none;\">\n",
              "        \n",
              "  <svg xmlns=\"http://www.w3.org/2000/svg\" height=\"24px\"viewBox=\"0 0 24 24\"\n",
              "       width=\"24px\">\n",
              "    <path d=\"M0 0h24v24H0V0z\" fill=\"none\"/>\n",
              "    <path d=\"M18.56 5.44l.94 2.06.94-2.06 2.06-.94-2.06-.94-.94-2.06-.94 2.06-2.06.94zm-11 1L8.5 8.5l.94-2.06 2.06-.94-2.06-.94L8.5 2.5l-.94 2.06-2.06.94zm10 10l.94 2.06.94-2.06 2.06-.94-2.06-.94-.94-2.06-.94 2.06-2.06.94z\"/><path d=\"M17.41 7.96l-1.37-1.37c-.4-.4-.92-.59-1.43-.59-.52 0-1.04.2-1.43.59L10.3 9.45l-7.72 7.72c-.78.78-.78 2.05 0 2.83L4 21.41c.39.39.9.59 1.41.59.51 0 1.02-.2 1.41-.59l7.78-7.78 2.81-2.81c.8-.78.8-2.07 0-2.86zM5.41 20L4 18.59l7.72-7.72 1.47 1.35L5.41 20z\"/>\n",
              "  </svg>\n",
              "      </button>\n",
              "      \n",
              "  <style>\n",
              "    .colab-df-container {\n",
              "      display:flex;\n",
              "      flex-wrap:wrap;\n",
              "      gap: 12px;\n",
              "    }\n",
              "\n",
              "    .colab-df-convert {\n",
              "      background-color: #E8F0FE;\n",
              "      border: none;\n",
              "      border-radius: 50%;\n",
              "      cursor: pointer;\n",
              "      display: none;\n",
              "      fill: #1967D2;\n",
              "      height: 32px;\n",
              "      padding: 0 0 0 0;\n",
              "      width: 32px;\n",
              "    }\n",
              "\n",
              "    .colab-df-convert:hover {\n",
              "      background-color: #E2EBFA;\n",
              "      box-shadow: 0px 1px 2px rgba(60, 64, 67, 0.3), 0px 1px 3px 1px rgba(60, 64, 67, 0.15);\n",
              "      fill: #174EA6;\n",
              "    }\n",
              "\n",
              "    [theme=dark] .colab-df-convert {\n",
              "      background-color: #3B4455;\n",
              "      fill: #D2E3FC;\n",
              "    }\n",
              "\n",
              "    [theme=dark] .colab-df-convert:hover {\n",
              "      background-color: #434B5C;\n",
              "      box-shadow: 0px 1px 3px 1px rgba(0, 0, 0, 0.15);\n",
              "      filter: drop-shadow(0px 1px 2px rgba(0, 0, 0, 0.3));\n",
              "      fill: #FFFFFF;\n",
              "    }\n",
              "  </style>\n",
              "\n",
              "      <script>\n",
              "        const buttonEl =\n",
              "          document.querySelector('#df-27205dae-8179-45ae-9537-9a4918dfa509 button.colab-df-convert');\n",
              "        buttonEl.style.display =\n",
              "          google.colab.kernel.accessAllowed ? 'block' : 'none';\n",
              "\n",
              "        async function convertToInteractive(key) {\n",
              "          const element = document.querySelector('#df-27205dae-8179-45ae-9537-9a4918dfa509');\n",
              "          const dataTable =\n",
              "            await google.colab.kernel.invokeFunction('convertToInteractive',\n",
              "                                                     [key], {});\n",
              "          if (!dataTable) return;\n",
              "\n",
              "          const docLinkHtml = 'Like what you see? Visit the ' +\n",
              "            '<a target=\"_blank\" href=https://colab.research.google.com/notebooks/data_table.ipynb>data table notebook</a>'\n",
              "            + ' to learn more about interactive tables.';\n",
              "          element.innerHTML = '';\n",
              "          dataTable['output_type'] = 'display_data';\n",
              "          await google.colab.output.renderOutput(dataTable, element);\n",
              "          const docLink = document.createElement('div');\n",
              "          docLink.innerHTML = docLinkHtml;\n",
              "          element.appendChild(docLink);\n",
              "        }\n",
              "      </script>\n",
              "    </div>\n",
              "  </div>\n",
              "  "
            ]
          },
          "metadata": {},
          "execution_count": 25
        }
      ]
    },
    {
      "cell_type": "markdown",
      "source": [
        "E também pode obter explicitamente os coeficientes empregados."
      ],
      "metadata": {
        "id": "aZ8Zy3xO4abl"
      }
    },
    {
      "cell_type": "code",
      "metadata": {
        "colab": {
          "base_uri": "https://localhost:8080/"
        },
        "id": "eWSa9YYBzvD2",
        "outputId": "70722bcb-9448-4083-daa4-ebcbd6349dce"
      },
      "source": [
        "print(clf.coef_, clf.intercept_)"
      ],
      "execution_count": null,
      "outputs": [
        {
          "output_type": "stream",
          "name": "stdout",
          "text": [
            "[[-3.2954799   0.22087804  0.65043105]] [-18.17021723]\n"
          ]
        }
      ]
    },
    {
      "cell_type": "markdown",
      "source": [
        "A acuracidade do modelo pode ser obtida diretamente, como fizemos acima, mas também de duas formas empregando funções do scikit-learn para obtenção do *score* dos modelos. "
      ],
      "metadata": {
        "id": "Fmg-_tHA5UVw"
      }
    },
    {
      "cell_type": "code",
      "source": [
        "from sklearn.metrics import accuracy_score\n",
        "\n",
        "accuracy = accuracy_score(y, y_pred)\n",
        "print('\\nScore de Acuracidade (modo 1):\\n')\n",
        "print(accuracy)\n",
        "\n",
        "accuracy = clf.score(X, y)\n",
        "print('\\nScore de Acuracidade (modo 2):\\n')\n",
        "print(accuracy)"
      ],
      "metadata": {
        "colab": {
          "base_uri": "https://localhost:8080/"
        },
        "id": "-RBzeYzN4gbl",
        "outputId": "87ec1b33-cc15-489b-f819-5ada2d67204b"
      },
      "execution_count": null,
      "outputs": [
        {
          "output_type": "stream",
          "name": "stdout",
          "text": [
            "\n",
            "Score de Acuracidade (modo 1):\n",
            "\n",
            "0.9086115992970123\n",
            "\n",
            "Score de Acuracidade (modo 2):\n",
            "\n",
            "0.9086115992970123\n"
          ]
        }
      ]
    },
    {
      "cell_type": "markdown",
      "metadata": {
        "id": "SeiTWGTQRmUt"
      },
      "source": [
        "# Dilema Viés-Variância\n",
        "\n",
        "Parece bastante simples construir esses modelos, mas construir bons modelos pode ser uma tarefa bastante difícil.\n",
        "Vamos nos deter um pouco mais sobre como podemos avaliar os modelos.  \n",
        "\n",
        "Vamos começar entendo o que é conhecido como **Dilema Viés-Variância** (ou *Bias–variance tradeoff*). \n",
        "\n",
        "A capacidade de um modelo de capturar a verdadeira relação entre as variáveis preditoras e a variável objetivo é o que chamamos de viés (*bias*). Um alto erro de viés significa que o modelo não se ajusta aos dados e que, portanto, não consegue representar os dados. No limite ele não está aprendendo nada. É o que chamamos de **subajuste do modelo**, ou *underfitting*. Essa, é claro, é uma situação que não queremos. \n",
        "\n",
        "Entretanto, ao tentarmos reduzir o erro de viés dos dados podemos nos deparar com um outro problema. Com um viés muito pequeno o modelo poder ficar tão ajustado aos dados de treinamento que falha ao tentar prever novos casos que não faziam parte do conjunto de treinamento. Neste caso, o modelo captura toda a variância dos dados. Você pode entender que o modelo passa a ser muito sensível a diferentes conjuntos de treinamento e erra ao *generalizar* novos casos. Isso é o que chamamos de **subreajuste do modelo**, ou *overfitting*.  \n",
        "\n",
        "O dilema está, portanto, em obter o ponto de equilíbrio entre o subajuste e sobreajuste dos dados. \n",
        "\n"
      ]
    },
    {
      "cell_type": "markdown",
      "metadata": {
        "id": "cTH_YV0KZRqb"
      },
      "source": [
        "## Exemplo em Modelos de Regressão\n",
        "\n",
        "O underfitting/overfitting pode ocorrer tanto em modelos de regressão como em modelos de classificação. O exemplo a seguir demonstra o problema de underfitting/overfitting para um caso de regressão. "
      ]
    },
    {
      "cell_type": "code",
      "metadata": {
        "colab": {
          "base_uri": "https://localhost:8080/",
          "height": 366
        },
        "id": "rjSm8Y7Su8xM",
        "outputId": "27439a1c-52e4-4f04-b462-30845c215d3a"
      },
      "source": [
        "# fonte: https://scikit-learn.org/stable/auto_examples/model_selection/plot_underfitting_overfitting.html#sphx-glr-auto-examples-model-selection-plot-underfitting-overfitting-py\n",
        "print(__doc__)\n",
        "\n",
        "import numpy as np\n",
        "import matplotlib.pyplot as plt\n",
        "from sklearn.pipeline import Pipeline\n",
        "from sklearn.preprocessing import PolynomialFeatures\n",
        "from sklearn.linear_model import LinearRegression\n",
        "from sklearn.model_selection import cross_val_score\n",
        "\n",
        "\n",
        "def true_fun(X):\n",
        "    return np.cos(1.5 * np.pi * X)\n",
        "\n",
        "np.random.seed(0)\n",
        "\n",
        "n_samples = 30\n",
        "degrees = [1, 4, 15]\n",
        "\n",
        "X = np.sort(np.random.rand(n_samples))\n",
        "y = true_fun(X) + np.random.randn(n_samples) * 0.1\n",
        "\n",
        "plt.figure(figsize=(14, 5))\n",
        "for i in range(len(degrees)):\n",
        "    ax = plt.subplot(1, len(degrees), i + 1)\n",
        "    plt.setp(ax, xticks=(), yticks=())\n",
        "\n",
        "    polynomial_features = PolynomialFeatures(degree=degrees[i],\n",
        "                                             include_bias=False)\n",
        "    linear_regression = LinearRegression()\n",
        "    pipeline = Pipeline([(\"polynomial_features\", polynomial_features),\n",
        "                         (\"linear_regression\", linear_regression)])\n",
        "    pipeline.fit(X[:, np.newaxis], y)\n",
        "\n",
        "    # Evaluate the models using crossvalidation\n",
        "    scores = cross_val_score(pipeline, X[:, np.newaxis], y,\n",
        "                             scoring=\"neg_mean_squared_error\", cv=10)\n",
        "\n",
        "    X_test = np.linspace(0, 1, 100)\n",
        "    plt.plot(X_test, pipeline.predict(X_test[:, np.newaxis]), label=\"Model\")\n",
        "    plt.plot(X_test, true_fun(X_test), label=\"True function\")\n",
        "    plt.scatter(X, y, edgecolor='b', s=20, label=\"Samples\")\n",
        "    plt.xlabel(\"x\")\n",
        "    plt.ylabel(\"y\")\n",
        "    plt.xlim((0, 1))\n",
        "    plt.ylim((-2, 2))\n",
        "    plt.legend(loc=\"best\")\n",
        "    plt.title(\"Degree {}\\nMSE = {:.2e}(+/- {:.2e})\".format(\n",
        "        degrees[i], -scores.mean(), scores.std()))\n",
        "plt.show()"
      ],
      "execution_count": null,
      "outputs": [
        {
          "output_type": "stream",
          "name": "stdout",
          "text": [
            "Automatically created module for IPython interactive environment\n"
          ]
        },
        {
          "output_type": "display_data",
          "data": {
            "image/png": "[encoded data removed]",
            "text/plain": [
              "<Figure size 1008x360 with 3 Axes>"
            ]
          },
          "metadata": {}
        }
      ]
    },
    {
      "cell_type": "markdown",
      "metadata": {
        "id": "ZWPh66r3WBKy"
      },
      "source": [
        "A função que queremos aproximar é uma parte da função cosseno (linha laranja) e foram empregados modelos polinomiais de diferentes graus para aproximar a função (regressão). A função linear (polinômio com grau 1, linha azul) claramente é insuficiente para ajustar os dados de treinamento (underfitting). Um polinômio de grau 15 entretanto ajusta a maior parte dos pontos de dados do conjunto de treinamento, mas aprende desse modo todo o *ruído* ou variância dos dados, o que leva a um modelo (linha azul) que claramente falhará na predição de valores de novos casos (overfitting). O polinômio de grau 4, por outro lado, parece aproximar a função verdadeira quase perfeitamente. \n",
        "\n"
      ]
    },
    {
      "cell_type": "markdown",
      "metadata": {
        "id": "wno9Z6gwZAIM"
      },
      "source": [
        "## Exemplo em Modelos de Classificação\n",
        "\n",
        "Isso pode igualmente ocorrer em modelos de Classificação."
      ]
    },
    {
      "cell_type": "markdown",
      "metadata": {
        "id": "az72ZKISRb8f"
      },
      "source": [
        "![imagem](https://github.com/Rogerio-mack/BIG_DATA_Analytics_Mineracao_e_Analise_de_Dados/blob/main/figuras/SobreESubAjuste.png?raw=true)\n",
        "\n",
        "\n",
        "<small>\n",
        "<b>\n",
        "Figura 7. Exemplos de underfitting e overfitting (Produzido com https://ml-playground.com/#)"
      ]
    },
    {
      "cell_type": "markdown",
      "metadata": {
        "id": "CCAeI8YYZfOd"
      },
      "source": [
        "Na figura acima o primeiro classificador é simplesmente um separador linear e erra ao classificar vários pontos de dados do conjunto de treinamento - é um modelo muito simples que não representa um modelo da classificação dos dados. Por outro lado, o terceiro modelo, captura toda a variância do conjunto de treinamento e classifica todas as instâncias corretamente, o que certamente, levará a falha de classificação de novos casos. "
      ]
    },
    {
      "cell_type": "markdown",
      "metadata": {
        "id": "n7H7y46jcHoO"
      },
      "source": [
        ">  **Dilema Viés-Variância. Isso pode ficar mais claro se você pensar do seguinte modo. Olhe os pontos grandes em vermelho da figura abaixo. Considere que eles seriam novos casos que você deve classificar. São novos casos, e você pode pensar no nosso exemplo de empréstimos, você não sabe antecipadamente se o cliente irá ou não pagar o empréstimo, mas você deseja definir a classe mais provável com base nos casos anteriores. Em quais classificações você apostaria? Certamente a classificação do meio. O primeiro é um modelo insuficiente para capturar todo o viés dos dados, e o terceiro, erra ao capturar todo o viés dos dados não generalizando suficientemente novos casos.**"
      ]
    },
    {
      "cell_type": "markdown",
      "metadata": {
        "id": "Xx6rLqN2cDLn"
      },
      "source": [
        "![imagem](https://github.com/Rogerio-mack/BIG_DATA_Analytics_Mineracao_e_Analise_de_Dados/blob/main/figuras/SobreESubAjuste2.png?raw=true)"
      ]
    },
    {
      "cell_type": "markdown",
      "source": [
        "<small>\n",
        "<b>\n",
        "Figura 8. Underfitting e overfitting, Em que valores você appostaria? (Produzido com https://ml-playground.com/#)"
      ],
      "metadata": {
        "id": "wsAbL2FS6_7o"
      }
    },
    {
      "cell_type": "markdown",
      "metadata": {
        "id": "jUFXus8geFPQ"
      },
      "source": [
        "# Diminuido o risco de *Overfitting*: Conjuntos de Treinamento e Teste\n",
        "\n",
        "Aprender ou treinar parâmetros de um modelo de predição e testá-lo com os mesmos dados é um erro de método. É como dar uma prova para avaliar o conhecimento de um aluno somente com exercícios que já foram dados previamente na sala da aula.  Seria um modelo que apenas repete os rótulos das amostras podendo ser perfeito nesses dados, mas sem grande utilidade para predição de novos casos (sobreajuste). \n",
        "\n",
        "Para evitar o sobreajuste, temos que definir dois conjuntos diferentes de dados a partir dos dados originais, um conjunto de Treinamento e um conjunto de Teste:\n",
        "\n",
        "* O *conjunto de treinamento* `X_train`, `y_train` será a parte dos dados que empregada para o treinamento dos parâmetros do modelo \n",
        "\n",
        "* O *conjunto de teste* `X_test`, `y_test` será a parte dos dados que empregada para avaliar o modelo preditivo ajustado\n",
        "\n",
        "Essa divisão do conjunto original de dados deve ser aleatória (*por que?*) e pode ser obtida com o `scikit-learn` empregando-se a função `train_test_split()`. Seguiremos daqui em diante somente analisando modelos de classificação.\n",
        "\n",
        "Vamos então aplicar essa abordagem mais correta ao nosso conjunto de dados *Moons*. \n",
        "\n",
        "\n"
      ]
    },
    {
      "cell_type": "markdown",
      "metadata": {
        "id": "_A3S9dM33-4S"
      },
      "source": [
        "![imagem](https://github.com/Rogerio-mack/BIG_DATA_Analytics_Mineracao_e_Analise_de_Dados/blob/main/figuras/TrainTest.png?raw=true)"
      ]
    },
    {
      "cell_type": "markdown",
      "source": [
        "<small>\n",
        "<b>\n",
        "Figura 9. Evitando o Overfitting. Particionando o conjunto de dados original nos Conjuntos de Treinamento e Teste. "
      ],
      "metadata": {
        "id": "Ih4fGZ9u7Xmk"
      }
    },
    {
      "cell_type": "markdown",
      "metadata": {
        "id": "vgNDvNdZZs5g"
      },
      "source": [
        "### Recriando os dados de *Moons*"
      ]
    },
    {
      "cell_type": "code",
      "metadata": {
        "id": "LW9ynt1AkUp8"
      },
      "source": [
        "X, y = make_moons(n_samples=100, noise=0.25, random_state=1234)\n",
        "df = pd.DataFrame({'x1':X[:, 0], 'x2':X[:, 1], 'y':y})"
      ],
      "execution_count": null,
      "outputs": []
    },
    {
      "cell_type": "markdown",
      "metadata": {
        "id": "9v4QXwIaZxhZ"
      },
      "source": [
        "### Modelo *sem* a Separação dos Conjuntos de Treinamento e Teste\n",
        "\n",
        "Este é um  modelo básico, mas com uma abordagem metodologicamente pois, ao empregar o mesmo conjunto para treinamento e a medida de desempenho do modelo pode levar ao sobre ajuste do modelo, e consequente erro de generalização.  "
      ]
    },
    {
      "cell_type": "code",
      "metadata": {
        "colab": {
          "base_uri": "https://localhost:8080/"
        },
        "id": "NN_ZkFhbj5Lr",
        "outputId": "abc15fd6-bb43-4520-8d76-fe50bdb944f0"
      },
      "source": [
        "from sklearn.linear_model import LogisticRegression \n",
        "\n",
        "X = df[['x1','x2']]\n",
        "y = df.y\n",
        "\n",
        "clf = LogisticRegression(max_iter=1000)\n",
        "\n",
        "clf.fit(X,y)\n",
        "\n",
        "y_pred = clf.predict(X)\n",
        "\n",
        "print( y_pred[0:10], '...' )\n",
        "print( clf.score(X,y) )\n"
      ],
      "execution_count": null,
      "outputs": [
        {
          "output_type": "stream",
          "name": "stdout",
          "text": [
            "[0 0 1 1 1 1 1 0 0 0] ...\n",
            "0.87\n"
          ]
        }
      ]
    },
    {
      "cell_type": "markdown",
      "metadata": {
        "id": "AV_UXeJjZ5L_"
      },
      "source": [
        "### Modelo *com* a Separação dos Conjuntos de Treinamento e Teste\n",
        "\n",
        "Aqui a  abordagem correta, emprega conjunto diferentes treinamento e teste escolhidos aleatoriamente sobre os dados originais."
      ]
    },
    {
      "cell_type": "code",
      "metadata": {
        "colab": {
          "base_uri": "https://localhost:8080/"
        },
        "id": "NvLnBcGXXxFp",
        "outputId": "ca8e861e-c7b2-4e74-ef3c-430e10379e14"
      },
      "source": [
        "from sklearn.linear_model import LogisticRegression \n",
        "from sklearn.model_selection import train_test_split\n",
        "\n",
        "X = df[['x1','x2']]\n",
        "y = df.y\n",
        "\n",
        "X_train, X_test, y_train, y_test = train_test_split(X, y, stratify=y, test_size=0.3, random_state=123)\n",
        "\n",
        "clf = LogisticRegression(max_iter=1000)\n",
        "\n",
        "clf.fit(X_train,y_train)\n",
        "\n",
        "y_pred = clf.predict(X_test)\n",
        "\n",
        "print( y_pred[0:10], '...' )\n",
        "print( clf.score(X_test,y_test) )\n"
      ],
      "execution_count": null,
      "outputs": [
        {
          "output_type": "stream",
          "name": "stdout",
          "text": [
            "[0 1 0 0 0 0 1 1 0 1] ...\n",
            "0.86\n"
          ]
        }
      ]
    },
    {
      "cell_type": "markdown",
      "metadata": {
        "id": "qMmhiuI15cxE"
      },
      "source": [
        "O parâmetro `stratify=y` indica que os conjuntos de treinamento e teste manterão a mesma proporção dos valores do atributo objetivo `y`. Os parâmetros `test_size=0.3` indica o percentual (30%) dos dados que será empregado para teste. Esse valor varia, em geral, de 20-30% dos dados. Por fim, o parâmetro `random_state=123` é para a reprodutibilidade dos resultados.\n",
        "\n"
      ]
    },
    {
      "cell_type": "markdown",
      "metadata": {
        "id": "-McHy8E8dgxR"
      },
      "source": [
        "Abaixo, a inspeção visual, mostrando apenas 2 erros de classificação no conjunto de teste."
      ]
    },
    {
      "cell_type": "code",
      "metadata": {
        "colab": {
          "base_uri": "https://localhost:8080/"
        },
        "id": "JRgff7gRdsEw",
        "outputId": "50be81cd-2342-4067-8005-20d6c6eabf60"
      },
      "source": [
        "sum(y_test != y_pred)"
      ],
      "execution_count": null,
      "outputs": [
        {
          "output_type": "execute_result",
          "data": {
            "text/plain": [
              "2"
            ]
          },
          "metadata": {},
          "execution_count": 127
        }
      ]
    },
    {
      "cell_type": "code",
      "metadata": {
        "colab": {
          "base_uri": "https://localhost:8080/",
          "height": 296
        },
        "id": "tCowXL07j5Ls",
        "outputId": "d32c1c5c-282e-46b6-c8ac-5e2e1406fb49"
      },
      "source": [
        "cmap_data = plt.cm.coolwarm \n",
        "\n",
        "plt.scatter(X.x1, X.x2, c=y, cmap=cmap_data, alpha=0.4) # todos dados\n",
        "plt.scatter(X_test.x1, X_test.x2, c=y_pred, s=250,cmap=cmap_data, alpha=0.6) # somente dados de teste\n",
        "\n",
        "plt.scatter(X_test[y_pred != y_test].x1, X_test[y_pred != y_test].x2, color='y', s=350, alpha=1, label='wrong predictions')\n",
        "plt.scatter(X_test[y_pred != y_test].x1, X_test[y_pred != y_test].x2, c=y_test[y_pred != y_test], cmap=cmap_data, alpha=0.8)\n",
        "plt.title('Moons Predictions',weight='bold',fontsize=14)\n",
        "plt.xlabel(\"x1\")\n",
        "plt.ylabel(\"x2\")\n",
        "\n",
        "custom_lines = [Line2D([0], [0], color=cmap_data(0.), lw=6),\n",
        "                Line2D([0], [0], color=cmap_data(1.), lw=6),\n",
        "                Line2D([0], [0], color='y', lw=6)]\n",
        "plt.legend(custom_lines, ['One', 'Zero', 'Error'], loc='upper right',title='Moons')\n",
        "\n",
        "plt.show()\n",
        "\n"
      ],
      "execution_count": null,
      "outputs": [
        {
          "output_type": "display_data",
          "data": {
            "image/png": "[encoded data removed]",
            "text/plain": [
              "<Figure size 432x288 with 1 Axes>"
            ]
          },
          "metadata": {
            "needs_background": "light"
          }
        }
      ]
    },
    {
      "cell_type": "markdown",
      "metadata": {
        "id": "jAYKaGirkhpN"
      },
      "source": [
        "# CASO: 10 year risk of coronary heart disease CHD\n",
        "\n",
        "Aqui o objetivo da classificação é prever se o paciente tem 10 anos de risco de futura doença cardíaca coronariana (ACS). O conjunto de dados fornece informações de mais de 4.000 pacientes residentes da cidade de Framingham, Massachusettse com 15 atributos. \n",
        "\n",
        "A variável objetivo é `TenYearCHD`, *10 year risk of coronary heart disease CHD* (onde “1”, significa “Yes”, “0” significa “No”)\n"
      ]
    },
    {
      "cell_type": "code",
      "metadata": {
        "colab": {
          "base_uri": "https://localhost:8080/",
          "height": 250
        },
        "id": "gJnhfWGxg9OI",
        "outputId": "c1b5f5ae-ca40-449a-ee8c-26ab6a6434f3"
      },
      "source": [
        "df = pd.read_csv('https://raw.githubusercontent.com/TarekDib03/Analytics/master/Week3%20-%20Logistic%20Regression/Data/framingham.csv')\n",
        "df.head()"
      ],
      "execution_count": null,
      "outputs": [
        {
          "output_type": "execute_result",
          "data": {
            "text/plain": [
              "   male  age  education  currentSmoker  cigsPerDay  BPMeds  prevalentStroke  \\\n",
              "0     1   39        4.0              0         0.0     0.0                0   \n",
              "1     0   46        2.0              0         0.0     0.0                0   \n",
              "2     1   48        1.0              1        20.0     0.0                0   \n",
              "3     0   61        3.0              1        30.0     0.0                0   \n",
              "4     0   46        3.0              1        23.0     0.0                0   \n",
              "\n",
              "   prevalentHyp  diabetes  totChol  sysBP  diaBP    BMI  heartRate  glucose  \\\n",
              "0             0         0    195.0  106.0   70.0  26.97       80.0     77.0   \n",
              "1             0         0    250.0  121.0   81.0  28.73       95.0     76.0   \n",
              "2             0         0    245.0  127.5   80.0  25.34       75.0     70.0   \n",
              "3             1         0    225.0  150.0   95.0  28.58       65.0    103.0   \n",
              "4             0         0    285.0  130.0   84.0  23.10       85.0     85.0   \n",
              "\n",
              "   TenYearCHD  \n",
              "0           0  \n",
              "1           0  \n",
              "2           0  \n",
              "3           1  \n",
              "4           0  "
            ],
            "text/html": [
              "\n",
              "  <div id=\"df-6a01f000-2430-466d-9624-483dc15144fc\">\n",
              "    <div class=\"colab-df-container\">\n",
              "      <div>\n",
              "<style scoped>\n",
              "    .dataframe tbody tr th:only-of-type {\n",
              "        vertical-align: middle;\n",
              "    }\n",
              "\n",
              "    .dataframe tbody tr th {\n",
              "        vertical-align: top;\n",
              "    }\n",
              "\n",
              "    .dataframe thead th {\n",
              "        text-align: right;\n",
              "    }\n",
              "</style>\n",
              "<table border=\"1\" class=\"dataframe\">\n",
              "  <thead>\n",
              "    <tr style=\"text-align: right;\">\n",
              "      <th></th>\n",
              "      <th>male</th>\n",
              "      <th>age</th>\n",
              "      <th>education</th>\n",
              "      <th>currentSmoker</th>\n",
              "      <th>cigsPerDay</th>\n",
              "      <th>BPMeds</th>\n",
              "      <th>prevalentStroke</th>\n",
              "      <th>prevalentHyp</th>\n",
              "      <th>diabetes</th>\n",
              "      <th>totChol</th>\n",
              "      <th>sysBP</th>\n",
              "      <th>diaBP</th>\n",
              "      <th>BMI</th>\n",
              "      <th>heartRate</th>\n",
              "      <th>glucose</th>\n",
              "      <th>TenYearCHD</th>\n",
              "    </tr>\n",
              "  </thead>\n",
              "  <tbody>\n",
              "    <tr>\n",
              "      <th>0</th>\n",
              "      <td>1</td>\n",
              "      <td>39</td>\n",
              "      <td>4.0</td>\n",
              "      <td>0</td>\n",
              "      <td>0.0</td>\n",
              "      <td>0.0</td>\n",
              "      <td>0</td>\n",
              "      <td>0</td>\n",
              "      <td>0</td>\n",
              "      <td>195.0</td>\n",
              "      <td>106.0</td>\n",
              "      <td>70.0</td>\n",
              "      <td>26.97</td>\n",
              "      <td>80.0</td>\n",
              "      <td>77.0</td>\n",
              "      <td>0</td>\n",
              "    </tr>\n",
              "    <tr>\n",
              "      <th>1</th>\n",
              "      <td>0</td>\n",
              "      <td>46</td>\n",
              "      <td>2.0</td>\n",
              "      <td>0</td>\n",
              "      <td>0.0</td>\n",
              "      <td>0.0</td>\n",
              "      <td>0</td>\n",
              "      <td>0</td>\n",
              "      <td>0</td>\n",
              "      <td>250.0</td>\n",
              "      <td>121.0</td>\n",
              "      <td>81.0</td>\n",
              "      <td>28.73</td>\n",
              "      <td>95.0</td>\n",
              "      <td>76.0</td>\n",
              "      <td>0</td>\n",
              "    </tr>\n",
              "    <tr>\n",
              "      <th>2</th>\n",
              "      <td>1</td>\n",
              "      <td>48</td>\n",
              "      <td>1.0</td>\n",
              "      <td>1</td>\n",
              "      <td>20.0</td>\n",
              "      <td>0.0</td>\n",
              "      <td>0</td>\n",
              "      <td>0</td>\n",
              "      <td>0</td>\n",
              "      <td>245.0</td>\n",
              "      <td>127.5</td>\n",
              "      <td>80.0</td>\n",
              "      <td>25.34</td>\n",
              "      <td>75.0</td>\n",
              "      <td>70.0</td>\n",
              "      <td>0</td>\n",
              "    </tr>\n",
              "    <tr>\n",
              "      <th>3</th>\n",
              "      <td>0</td>\n",
              "      <td>61</td>\n",
              "      <td>3.0</td>\n",
              "      <td>1</td>\n",
              "      <td>30.0</td>\n",
              "      <td>0.0</td>\n",
              "      <td>0</td>\n",
              "      <td>1</td>\n",
              "      <td>0</td>\n",
              "      <td>225.0</td>\n",
              "      <td>150.0</td>\n",
              "      <td>95.0</td>\n",
              "      <td>28.58</td>\n",
              "      <td>65.0</td>\n",
              "      <td>103.0</td>\n",
              "      <td>1</td>\n",
              "    </tr>\n",
              "    <tr>\n",
              "      <th>4</th>\n",
              "      <td>0</td>\n",
              "      <td>46</td>\n",
              "      <td>3.0</td>\n",
              "      <td>1</td>\n",
              "      <td>23.0</td>\n",
              "      <td>0.0</td>\n",
              "      <td>0</td>\n",
              "      <td>0</td>\n",
              "      <td>0</td>\n",
              "      <td>285.0</td>\n",
              "      <td>130.0</td>\n",
              "      <td>84.0</td>\n",
              "      <td>23.10</td>\n",
              "      <td>85.0</td>\n",
              "      <td>85.0</td>\n",
              "      <td>0</td>\n",
              "    </tr>\n",
              "  </tbody>\n",
              "</table>\n",
              "</div>\n",
              "      <button class=\"colab-df-convert\" onclick=\"convertToInteractive('df-6a01f000-2430-466d-9624-483dc15144fc')\"\n",
              "              title=\"Convert this dataframe to an interactive table.\"\n",
              "              style=\"display:none;\">\n",
              "        \n",
              "  <svg xmlns=\"http://www.w3.org/2000/svg\" height=\"24px\"viewBox=\"0 0 24 24\"\n",
              "       width=\"24px\">\n",
              "    <path d=\"M0 0h24v24H0V0z\" fill=\"none\"/>\n",
              "    <path d=\"M18.56 5.44l.94 2.06.94-2.06 2.06-.94-2.06-.94-.94-2.06-.94 2.06-2.06.94zm-11 1L8.5 8.5l.94-2.06 2.06-.94-2.06-.94L8.5 2.5l-.94 2.06-2.06.94zm10 10l.94 2.06.94-2.06 2.06-.94-2.06-.94-.94-2.06-.94 2.06-2.06.94z\"/><path d=\"M17.41 7.96l-1.37-1.37c-.4-.4-.92-.59-1.43-.59-.52 0-1.04.2-1.43.59L10.3 9.45l-7.72 7.72c-.78.78-.78 2.05 0 2.83L4 21.41c.39.39.9.59 1.41.59.51 0 1.02-.2 1.41-.59l7.78-7.78 2.81-2.81c.8-.78.8-2.07 0-2.86zM5.41 20L4 18.59l7.72-7.72 1.47 1.35L5.41 20z\"/>\n",
              "  </svg>\n",
              "      </button>\n",
              "      \n",
              "  <style>\n",
              "    .colab-df-container {\n",
              "      display:flex;\n",
              "      flex-wrap:wrap;\n",
              "      gap: 12px;\n",
              "    }\n",
              "\n",
              "    .colab-df-convert {\n",
              "      background-color: #E8F0FE;\n",
              "      border: none;\n",
              "      border-radius: 50%;\n",
              "      cursor: pointer;\n",
              "      display: none;\n",
              "      fill: #1967D2;\n",
              "      height: 32px;\n",
              "      padding: 0 0 0 0;\n",
              "      width: 32px;\n",
              "    }\n",
              "\n",
              "    .colab-df-convert:hover {\n",
              "      background-color: #E2EBFA;\n",
              "      box-shadow: 0px 1px 2px rgba(60, 64, 67, 0.3), 0px 1px 3px 1px rgba(60, 64, 67, 0.15);\n",
              "      fill: #174EA6;\n",
              "    }\n",
              "\n",
              "    [theme=dark] .colab-df-convert {\n",
              "      background-color: #3B4455;\n",
              "      fill: #D2E3FC;\n",
              "    }\n",
              "\n",
              "    [theme=dark] .colab-df-convert:hover {\n",
              "      background-color: #434B5C;\n",
              "      box-shadow: 0px 1px 3px 1px rgba(0, 0, 0, 0.15);\n",
              "      filter: drop-shadow(0px 1px 2px rgba(0, 0, 0, 0.3));\n",
              "      fill: #FFFFFF;\n",
              "    }\n",
              "  </style>\n",
              "\n",
              "      <script>\n",
              "        const buttonEl =\n",
              "          document.querySelector('#df-6a01f000-2430-466d-9624-483dc15144fc button.colab-df-convert');\n",
              "        buttonEl.style.display =\n",
              "          google.colab.kernel.accessAllowed ? 'block' : 'none';\n",
              "\n",
              "        async function convertToInteractive(key) {\n",
              "          const element = document.querySelector('#df-6a01f000-2430-466d-9624-483dc15144fc');\n",
              "          const dataTable =\n",
              "            await google.colab.kernel.invokeFunction('convertToInteractive',\n",
              "                                                     [key], {});\n",
              "          if (!dataTable) return;\n",
              "\n",
              "          const docLinkHtml = 'Like what you see? Visit the ' +\n",
              "            '<a target=\"_blank\" href=https://colab.research.google.com/notebooks/data_table.ipynb>data table notebook</a>'\n",
              "            + ' to learn more about interactive tables.';\n",
              "          element.innerHTML = '';\n",
              "          dataTable['output_type'] = 'display_data';\n",
              "          await google.colab.output.renderOutput(dataTable, element);\n",
              "          const docLink = document.createElement('div');\n",
              "          docLink.innerHTML = docLinkHtml;\n",
              "          element.appendChild(docLink);\n",
              "        }\n",
              "      </script>\n",
              "    </div>\n",
              "  </div>\n",
              "  "
            ]
          },
          "metadata": {},
          "execution_count": 37
        }
      ]
    },
    {
      "cell_type": "markdown",
      "metadata": {
        "id": "Zp2b3etoryDq"
      },
      "source": [
        "## Preparação dos Dados\n",
        "\n",
        "As variáveis preditoras são todas numéricas e não há, portanto, necessidade de transformação dos dados. Há, entretanto, valores ausentes que precisam ser tratados."
      ]
    },
    {
      "cell_type": "code",
      "metadata": {
        "colab": {
          "base_uri": "https://localhost:8080/"
        },
        "id": "tLTae8Ealdqr",
        "outputId": "9476a0da-9e4a-4e92-b1cc-fdc9eb83d42e"
      },
      "source": [
        "df.isnull().sum() / len(df)"
      ],
      "execution_count": null,
      "outputs": [
        {
          "output_type": "execute_result",
          "data": {
            "text/plain": [
              "male               0.000000\n",
              "age                0.000000\n",
              "education          0.024764\n",
              "currentSmoker      0.000000\n",
              "cigsPerDay         0.006840\n",
              "BPMeds             0.012500\n",
              "prevalentStroke    0.000000\n",
              "prevalentHyp       0.000000\n",
              "diabetes           0.000000\n",
              "totChol            0.011792\n",
              "sysBP              0.000000\n",
              "diaBP              0.000000\n",
              "BMI                0.004481\n",
              "heartRate          0.000236\n",
              "glucose            0.091509\n",
              "TenYearCHD         0.000000\n",
              "dtype: float64"
            ]
          },
          "metadata": {},
          "execution_count": 130
        }
      ]
    },
    {
      "cell_type": "markdown",
      "metadata": {
        "id": "OW82YY5csHg8"
      },
      "source": [
        "O percentual é pequeno e assim vamos simplesmente excluir os dados ausentes."
      ]
    },
    {
      "cell_type": "code",
      "metadata": {
        "colab": {
          "base_uri": "https://localhost:8080/"
        },
        "id": "tYPrMrKWlijk",
        "outputId": "015ab756-49cb-47dc-c78a-b89ac07e5780"
      },
      "source": [
        "print('Before',len(df))\n",
        "df = df.dropna()\n",
        "print('After',len(df))"
      ],
      "execution_count": null,
      "outputs": [
        {
          "output_type": "stream",
          "name": "stdout",
          "text": [
            "Before 4240\n",
            "After 3658\n"
          ]
        }
      ]
    },
    {
      "cell_type": "markdown",
      "metadata": {
        "id": "Kx7qoyTcs4jt"
      },
      "source": [
        "## Aplicando o Modelo Logístico"
      ]
    },
    {
      "cell_type": "markdown",
      "metadata": {
        "id": "ecHGTs1KsRZD"
      },
      "source": [
        "Aplicamos o modelo ajustando agora as entradas `X` e `y` para o modelo. O `max_iter` do regressor também foi ajustado para $10000$ uma vez que o conjunto de dados agora é maior e um maior número de iterações será necessário para convergência dos parâmetros."
      ]
    },
    {
      "cell_type": "code",
      "metadata": {
        "colab": {
          "base_uri": "https://localhost:8080/"
        },
        "id": "GNU4IEq5mCmy",
        "outputId": "9f4dfc21-c157-4643-d1d5-76f314addef7"
      },
      "source": [
        "from sklearn.linear_model import LogisticRegression \n",
        "from sklearn.model_selection import train_test_split\n",
        "\n",
        "X = df.drop(columns=['TenYearCHD'])\n",
        "y = df.TenYearCHD\n",
        "\n",
        "X_train, X_test, y_train, y_test = train_test_split(X, y, stratify=y, test_size=0.3, random_state=123)\n",
        "\n",
        "clf = LogisticRegression(max_iter=10000)\n",
        "\n",
        "clf.fit(X_train,y_train)\n",
        "\n",
        "y_pred = clf.predict(X_test)\n",
        "\n",
        "print( y_pred[0:10], '...' )\n",
        "print( clf.score(X,y) )"
      ],
      "execution_count": null,
      "outputs": [
        {
          "output_type": "stream",
          "name": "stdout",
          "text": [
            "[0 0 1 0 0 0 0 0 0 0] ...\n",
            "0.8523783488244943\n"
          ]
        }
      ]
    },
    {
      "cell_type": "markdown",
      "metadata": {
        "id": "9YwBUR-ys8C1"
      },
      "source": [
        "## Predição de Novos Casos"
      ]
    },
    {
      "cell_type": "markdown",
      "metadata": {
        "id": "NIAMld32qhPs"
      },
      "source": [
        "Se considerarmos 0.85 um bom resultado podemos então aplicar o modelo para novos casos. Por exemplo, podemos fazer predição para pacientes homens e mulheres hipotéticos em que todos os indicadores estejam no percentil 0.75."
      ]
    },
    {
      "cell_type": "code",
      "metadata": {
        "colab": {
          "base_uri": "https://localhost:8080/",
          "height": 132
        },
        "id": "q-OzW40DpeDk",
        "outputId": "b92f9bd1-4d0b-41f9-d8e3-757a0a0eb27a"
      },
      "source": [
        "X_new = pd.DataFrame( df.drop(columns=['TenYearCHD']).groupby('male').quantile(0.75) ).reset_index()\n",
        "X_new"
      ],
      "execution_count": null,
      "outputs": [
        {
          "output_type": "execute_result",
          "data": {
            "text/html": [
              "<div>\n",
              "<style scoped>\n",
              "    .dataframe tbody tr th:only-of-type {\n",
              "        vertical-align: middle;\n",
              "    }\n",
              "\n",
              "    .dataframe tbody tr th {\n",
              "        vertical-align: top;\n",
              "    }\n",
              "\n",
              "    .dataframe thead th {\n",
              "        text-align: right;\n",
              "    }\n",
              "</style>\n",
              "<table border=\"1\" class=\"dataframe\">\n",
              "  <thead>\n",
              "    <tr style=\"text-align: right;\">\n",
              "      <th></th>\n",
              "      <th>male</th>\n",
              "      <th>age</th>\n",
              "      <th>education</th>\n",
              "      <th>currentSmoker</th>\n",
              "      <th>cigsPerDay</th>\n",
              "      <th>BPMeds</th>\n",
              "      <th>prevalentStroke</th>\n",
              "      <th>prevalentHyp</th>\n",
              "      <th>diabetes</th>\n",
              "      <th>totChol</th>\n",
              "      <th>sysBP</th>\n",
              "      <th>diaBP</th>\n",
              "      <th>BMI</th>\n",
              "      <th>heartRate</th>\n",
              "      <th>glucose</th>\n",
              "    </tr>\n",
              "  </thead>\n",
              "  <tbody>\n",
              "    <tr>\n",
              "      <th>0</th>\n",
              "      <td>0</td>\n",
              "      <td>56.0</td>\n",
              "      <td>3.0</td>\n",
              "      <td>1.0</td>\n",
              "      <td>10.0</td>\n",
              "      <td>0.0</td>\n",
              "      <td>0.0</td>\n",
              "      <td>1.0</td>\n",
              "      <td>0.0</td>\n",
              "      <td>268.0</td>\n",
              "      <td>146.0</td>\n",
              "      <td>89.0</td>\n",
              "      <td>27.71</td>\n",
              "      <td>85.0</td>\n",
              "      <td>86.0</td>\n",
              "    </tr>\n",
              "    <tr>\n",
              "      <th>1</th>\n",
              "      <td>1</td>\n",
              "      <td>56.0</td>\n",
              "      <td>3.0</td>\n",
              "      <td>1.0</td>\n",
              "      <td>20.0</td>\n",
              "      <td>0.0</td>\n",
              "      <td>0.0</td>\n",
              "      <td>1.0</td>\n",
              "      <td>0.0</td>\n",
              "      <td>259.0</td>\n",
              "      <td>141.0</td>\n",
              "      <td>90.0</td>\n",
              "      <td>28.30</td>\n",
              "      <td>80.0</td>\n",
              "      <td>87.0</td>\n",
              "    </tr>\n",
              "  </tbody>\n",
              "</table>\n",
              "</div>"
            ],
            "text/plain": [
              "   male   age  education  currentSmoker  ...  diaBP    BMI  heartRate  glucose\n",
              "0     0  56.0        3.0            1.0  ...   89.0  27.71       85.0     86.0\n",
              "1     1  56.0        3.0            1.0  ...   90.0  28.30       80.0     87.0\n",
              "\n",
              "[2 rows x 15 columns]"
            ]
          },
          "metadata": {},
          "execution_count": 133
        }
      ]
    },
    {
      "cell_type": "code",
      "metadata": {
        "colab": {
          "base_uri": "https://localhost:8080/"
        },
        "id": "1_fKUnfDnNSi",
        "outputId": "78916c6f-41d3-4f53-d882-25f252ebbc96"
      },
      "source": [
        "clf.predict(X_new)"
      ],
      "execution_count": null,
      "outputs": [
        {
          "output_type": "execute_result",
          "data": {
            "text/plain": [
              "array([0, 0])"
            ]
          },
          "metadata": {},
          "execution_count": 134
        }
      ]
    },
    {
      "cell_type": "markdown",
      "metadata": {
        "id": "RmbWeXxLrK4M"
      },
      "source": [
        "Surpreendentemente esses pacientes não apresentam risco segundo nosso modelo e você pode verificar outros percentis, como o percentil 0.9 em que já estimamos o risco para pacientes do sexo masculino."
      ]
    },
    {
      "cell_type": "code",
      "metadata": {
        "colab": {
          "base_uri": "https://localhost:8080/"
        },
        "id": "TiRFmdVcrF_D",
        "outputId": "b24d5c96-4320-432f-edfd-cab809a2c38e"
      },
      "source": [
        "X_new = pd.DataFrame( df.drop(columns=['TenYearCHD']).groupby('male').quantile(0.90) ).reset_index()\n",
        "clf.predict(X_new)"
      ],
      "execution_count": null,
      "outputs": [
        {
          "output_type": "execute_result",
          "data": {
            "text/plain": [
              "array([0, 1])"
            ]
          },
          "metadata": {},
          "execution_count": 78
        }
      ]
    },
    {
      "cell_type": "markdown",
      "metadata": {
        "id": "j0HWxkjLlqPl"
      },
      "source": [
        "# Acuracidade: Cuidado e Outras Métricas\n",
        "\n",
        "Até aqui nossos resultados parecem serem muito bons, com acuracidades acima de 0.8 mesmo quando medida sobre o conjunto de teste.\n",
        "\n",
        "Mas uma boa acuracidade geral (simplesmente o percentual total de acertos), pode não ser suficiente para produzir bons modelos e pode mesmo, mascarar modelos bastante ruins.\n",
        "\n",
        "Veja este exemplo, um problema bastante comum de classes desbalanceadas,\n",
        "\n",
        "| Real/Pred | Maligno | Benigno |\n",
        "|-|-|-|\n",
        "| Maligno | 1 | 2 |\n",
        "| Benigno | 0 | 97 |\n",
        "\n",
        "A matriz acima é chamada de **matriz de confusão**. Ela apresenta nas linhas os valores reais dos dados e nas colunas as predições. São assim 3 casos reais de casos Malignos, mas apenas 1 foi classificado  corretamente e 2 desses casos foram classificados como benignos. Já os 97 benignos foram todos classificados corretamente. O modelo tem, portanto, acuracidade de 99%!!! ($2+97=$ total de casos classificados corretamente). Entretanto, é fácil ver, o modelo falha miseravelmente ao prever os casos Malignos (acerta apenas 33% desses casos), trazendo um grande risco aos pacientes. É um mal modelo apesar da alta acuracidade geral, e você pode notar que um modelo *trivial* que atribuísse à TODOS os casos a classe 'benigno', já daria uma acuracidade de 97%. \n",
        "\n",
        "Felizmente, para nós seres humanos, as amostras de tumores malignos é bastante menor que de casos benignos, assim como são bastante menos comuns os casos de fraude ou de e-mails spam, mas classes desbalanceadas como nesses casos representam um grande desafio para o Aprendizado de Máquina. \n",
        "\n",
        "Esse é o gancho para, na próxima aula, verificarmos outras métricas dos modelos de classificação.\n"
      ]
    },
    {
      "cell_type": "markdown",
      "metadata": {
        "id": "PbPaCyqUAdcI"
      },
      "source": [
        "# Sumário da Aula\n",
        "\n",
        "Nesta aula você aprendeu o que é e como empregar o **modelo de regressão logística**. Mas mais do que isso! Este é apenas um dos modelos de Classificação que podemos empregar e, empregando o modelo logístico aprendemos uma série de conceitos que se aplicam a quaisquer modelos de Classificação! É o caso do **esquema geral de implementação dos estimadores de classificação do scikit-learn**, o uso de **conjuntos de treinamento e teste**, a medida de **acuracidade** como uma métrica da eficiência dos classificadores ou o problema do **Dilema Viés-Variância**, presente em quaisquer modelos supervisionados. Todos esses recursos serão empregados em outros modelos de classificação que você verá a seguir, como o K-Vizinhos Mais Próximos, as Árvores de Decisão ou mesmo os modelos Neurais em cursos seguintes.\n",
        "\n",
        "\n",
        "\n"
      ]
    },
    {
      "cell_type": "markdown",
      "metadata": {
        "id": "k4noMRT_YUd7"
      },
      "source": [
        "# Para Saber Mais\n",
        "\n",
        "* Pesquise e Discuta. **O que há de errado com a regressão linear para classificação?** O modelo de regressão linear pode funcionar bem para regressão, mas falha na maior parte dos casos quando é aplicado para classificação. Imagine, você poderia rotular uma das classes com 0 e a outra com 1 e usar a regressão linear. Tecnicamente isso funciona e certamente você obterá os coeficientes da regressão linear, afinal para quaisquer conjuntos de pontos $(X, y)$ podemos calcular os coeficientes de um modelo linear. Mas para classificação essa abordagem apresenta muitos problemas.\n",
        "Você pode aprender mais sobre isso aqui: https://christophm.github.io/interpretable-ml-book/logistic.html ou ainda em  https://stats.stackexchange.com/questions/22381/why-not-approach-classification-through-regression. \n",
        "\n",
        "* **Pesquise**. Aqui você aprendeu que a regressão logística permite fazer apenas classificações binárias (classes dicotômicas). Pesquise e discuta esses dois pontos da regressão logística:\n",
        "\n",
        "> * **Como empregar a regressão logística para um problema multiclasse?**\n",
        "\n",
        "> * **A Regressão logística é um separador linear o que isso significa?** (veja o exemplo abaixo!)\n",
        "\n",
        "\n",
        "\n"
      ]
    },
    {
      "cell_type": "code",
      "source": [
        "from sklearn.datasets import make_circles\n",
        "\n",
        "X, y = make_circles(n_samples=200, factor=0.8, noise=0.05, random_state=0)\n",
        "df = pd.DataFrame({'x1':X[:, 0], 'x2':X[:, 1], 'y':y})\n",
        "print(df.head())\n",
        "\n",
        "plt.scatter(df.x1, df.x2, c=df.y, cmap=cmap_data, alpha=0.8)\n",
        "plt.title('Train Set',weight='bold',fontsize=14)\n",
        "plt.xlabel(\"x1\")\n",
        "plt.ylabel(\"x2\")\n",
        "\n",
        "custom_lines = [Line2D([0], [0], color=cmap_data(0.), lw=6),\n",
        "                Line2D([0], [0], color=cmap_data(1.), lw=6)]\n",
        "plt.legend(custom_lines, ['One', 'Zero'], loc='upper right',title='Train Set')\n",
        "\n",
        "plt.show()\n",
        "\n"
      ],
      "metadata": {
        "id": "tTLh5pznVPL3",
        "colab": {
          "base_uri": "https://localhost:8080/",
          "height": 400
        },
        "outputId": "e3c76e6b-0181-4c2b-9c5b-64603435fa3e"
      },
      "execution_count": null,
      "outputs": [
        {
          "output_type": "stream",
          "name": "stdout",
          "text": [
            "         x1        x2  y\n",
            "0  0.401331  0.885831  0\n",
            "1 -0.234227 -0.844913  1\n",
            "2  0.678022  0.334662  1\n",
            "3  0.969801 -0.232501  0\n",
            "4  0.100768 -0.821603  1\n"
          ]
        },
        {
          "output_type": "display_data",
          "data": {
            "text/plain": [
              "<Figure size 432x288 with 1 Axes>"
            ],
            "image/png": "[encoded data removed]"
          },
          "metadata": {
            "needs_background": "light"
          }
        }
      ]
    },
    {
      "cell_type": "code",
      "source": [
        "from sklearn.linear_model import LogisticRegression\n",
        "\n",
        "# Definição\n",
        "clf = LogisticRegression()\n",
        "\n",
        "# Treinamento\n",
        "clf.fit(X,y)\n",
        "\n",
        "# Avaliação\n",
        "y_pred = clf.predict(X)\n",
        "\n",
        "# Acuracidade\n",
        "print(sum(y_pred == y) / len(y))"
      ],
      "metadata": {
        "colab": {
          "base_uri": "https://localhost:8080/"
        },
        "id": "btgMznxbJBwx",
        "outputId": "c007004a-1c17-4fc0-ba3d-47c8c1476918"
      },
      "execution_count": null,
      "outputs": [
        {
          "output_type": "stream",
          "name": "stdout",
          "text": [
            "0.495\n"
          ]
        }
      ]
    },
    {
      "cell_type": "code",
      "source": [
        "X = df\n",
        "x_min, x_max = X['x1'].min() - .5, X['x1'].max() + .5\n",
        "y_min, y_max = X['x2'].min() - .5, X['x2'].max() + .5\n",
        "xx, yy = np.meshgrid(np.arange(x_min, x_max, 0.2),\n",
        "                     np.arange(y_min, y_max, 0.2))\n",
        "\n",
        "if hasattr(clf, \"decision_function\"):\n",
        "  Z = clf.decision_function(np.c_[xx.ravel(), yy.ravel()])\n",
        "else:\n",
        "  Z = clf.predict_proba(np.c_[xx.ravel(), yy.ravel()])[:, 1]\n",
        "\n",
        "Z = Z.reshape(xx.shape)\n",
        "plt.contourf(xx, yy, Z, cmap=cmap_data, alpha=0.4)  \n",
        "plt.scatter(X['x1'], X['x2'], c=y, cmap=cmap_data, alpha=0.4)\n",
        "plt.title('Train Predictions',weight='bold',fontsize=14)\n",
        "plt.xlabel(\"x1\")\n",
        "plt.ylabel(\"x2\")\n",
        "\n",
        "custom_lines = [Line2D([0], [0], color=cmap_data(0.), lw=6),\n",
        "                Line2D([0], [0], color=cmap_data(1.), lw=6)]\n",
        "\n",
        "plt.legend(custom_lines, ['One', 'Zero'], loc='upper right',title='Train Set')\n",
        "\n",
        "plt.show()"
      ],
      "metadata": {
        "colab": {
          "base_uri": "https://localhost:8080/",
          "height": 296
        },
        "id": "yJljVX1WJPfh",
        "outputId": "24b00b07-8818-44cb-8451-9cc940963b62"
      },
      "execution_count": null,
      "outputs": [
        {
          "output_type": "display_data",
          "data": {
            "text/plain": [
              "<Figure size 432x288 with 1 Axes>"
            ],
            "image/png": "[encoded data removed]"
          },
          "metadata": {
            "needs_background": "light"
          }
        }
      ]
    },
    {
      "cell_type": "markdown",
      "metadata": {
        "id": "4w2Az-8EAdgA"
      },
      "source": [
        "# Referências"
      ]
    },
    {
      "cell_type": "markdown",
      "metadata": {
        "id": "m65CgRtvAdgA"
      },
      "source": [
        "* Kotu, Vijay; Deshpande, Balachandre **Data Science: concepts and practice**. 2nd ed. Cambridge, [England]: Morgan Kaufmann, c2019. E-book (570 p.) ISBN 9780128147627 (electronic bk.). Disponível em: http://pergamum.mackenzie.br:8080/pergamumweb/vinculos/00003c/00003cef.jpg.\n",
        "\n",
        "* Jake VanderPlas. **Python Data Science Handbook**  O'Reilly Media, Inc. (2016). ISBN: 9781491912058. Disponível em: https://jakevdp.github.io/PythonDataScienceHandbook/. Acesso: 06 de Novembro de 2021.\n",
        "\n",
        "* Larose, Chantal D.; Larose, Daniel T. **Data Science Using Python and R** Hoboken: Wiley, c2019. E-book (259 p.) (Wiley Series on Methods and Applications in Data Mining Ser.). ISBN 9781119526834 (electronic bk.). Disponível em: https://www3.mackenzie.br/biblioteca_virtual/index.php?tipoBiblio=ebookcentral&flashObg=n\n",
        "\n",
        "* ___. **An introduction to machine learning with scikit-learn** Disponível em: https://scikit-learn.org/stable/tutorial/basic/tutorial.html Acesso em: 30 de Março de 2022.\n",
        "\n",
        "* ___. **scikit-learn: machine learning in Python** Disponível em: http://scipy-lectures.org/packages/scikit-learn/index.html Acesso em: 30 de Março de 2022.\n",
        "\n",
        "* Molnar, Christoph. **Interpretable Machine Learning\n",
        "A Guide for Making Black Box Models Explainable** Disponível em: https://christophm.github.io/interpretable-ml-book/ Acesso em: 30 de Março de 2022.\n"
      ]
    }
  ]
}