{
  "nbformat": 4,
  "nbformat_minor": 0,
  "metadata": {
    "kernelspec": {
      "display_name": "Python 3",
      "language": "python",
      "name": "python3"
    },
    "language_info": {
      "codemirror_mode": {
        "name": "ipython",
        "version": 3
      },
      "file_extension": ".py",
      "mimetype": "text/x-python",
      "name": "python",
      "nbconvert_exporter": "python",
      "pygments_lexer": "ipython3",
      "version": "3.7.4"
    },
    "colab": {
      "provenance": [],
      "toc_visible": true,
      "include_colab_link": true
    }
  },
  "cells": [
    {
      "cell_type": "markdown",
      "metadata": {
        "id": "view-in-github",
        "colab_type": "text"
      },
      "source": [
        "<a href=\"https://colab.research.google.com/github/Rogerio-mack/IMT_Ciencia_de_Dados/blob/main/IMT_HClust.ipynb\" target=\"_parent\"><img src=\"https://colab.research.google.com/assets/colab-badge.svg\" alt=\"Open In Colab\"/></a>"
      ]
    },
    {
      "cell_type": "markdown",
      "metadata": {
        "id": "80CF3Eq9EXDW"
      },
      "source": [
        "<head>\n",
        "  <meta name=\"author\" content=\"Rogério de Oliveira\">\n",
        "  <meta institution=\"author\" content=\"ITM\">\n",
        "</head>\n",
        "\n",
        "<img src=\"https://maua.br/images/selo-60-anos-maua.svg\" width=300, align=\"right\">\n",
        "<!-- <h1 align=left><font size = 6, style=\"color:rgb(200,0,0)\"> optional title </font></h1> -->\n"
      ]
    },
    {
      "cell_type": "markdown",
      "metadata": {
        "id": "zQX8WQPeHTwc"
      },
      "source": [
        "# **Aprendizado não Supervisionado: Clustering Hierárquico**\n",
        "---\n",
        "\n",
        "Nesta trilha você vai aprender:\n",
        "\n",
        "*   O que é como fazer clusterizações de dados com os algoritmos Clusterização Hierárquica\n",
        "*   Como empregar métricas qualidade dos aglomerados"
      ]
    },
    {
      "cell_type": "code",
      "metadata": {
        "id": "xyywcuI7p1kG"
      },
      "source": [
        "import numpy as np\n",
        "import pandas as pd\n",
        "import matplotlib.pyplot as plt\n",
        "%matplotlib inline\n",
        "from matplotlib.lines import Line2D\n",
        "import seaborn as sns"
      ],
      "execution_count": null,
      "outputs": []
    },
    {
      "cell_type": "markdown",
      "metadata": {
        "id": "06noRfWHp0of"
      },
      "source": [
        "# Clustering Hierárquico\n",
        "\n",
        "A ideia da clusterização hierárquica é a mesma do Kmédias. Mas o seu algoritmo parte de princípios bastante diferentes produzindo assim agrupamentos de dados que podem divergir bastante dependendo dos dados.  \n",
        "\n",
        "A clusterização hierárquica busca construir uma hierarquia de clusters e existem normalmente duas estratégias:\n",
        "\n",
        "* No *Cluster Aglomerativo* os agrupamentos são feitos de \"de baixo para cima\", cada amostra começa em seu próprio agrupamento, e pares de agrupamentos são organizados a medida que sobe a hierarquia.\n",
        "\n",
        "* No *Cluster Divisivo*, a construção é \"de cima para baixo\", com todas as amostras começam em um cluster, e as divisões são realizadas recursivamente à medida que se desce na hierarquia dos dados.\n",
        "\n",
        "O resultado do agrupamento hierárquico fornece uma estrutura que organiza os itens de dados em um *dendrograma*.\n",
        "\n"
      ]
    },
    {
      "cell_type": "markdown",
      "metadata": {
        "id": "JPKBArxd2Lm5"
      },
      "source": [
        "## Dendograma\n",
        "\n",
        "A base para a construção do dendograma é uma matriz de distância entre todas as amostras dos dados e a  figura abaixo ilustra o procedimento de construção do Cluster Aglomerativo. Esse foi aqui adaptado de STAT 555 **Statistical Analysis of Genomics Data**. Os itens de dados aparecem no eixo $x$ e as distâncias das amostras no eixo $y$. Na construção Aglomerativa partimos dos elementos individuais (distância $0$) e vamos *lingando* os dados a partir das menores distâncias para as maiores. Assim, o par de amostras $(3,5)$ é o primeiro a ser *ligado*, pois tem a menor distância entre todos os elementos, o $1$ é ligado em seguida e assim por diante até o dendograma ligar todas as amostras dos dados. A construção pode empregar a distância euclidiana mas também qualquer ou métrica de distância.\n",
        "\n"
      ]
    },
    {
      "cell_type": "markdown",
      "metadata": {
        "id": "cBZxgrpWAqvD"
      },
      "source": [
        "<img src=\"http://meusite.mackenzie.br/rogerio/hclust1.png\" width=800, align=\"center\">\n",
        "\n",
        "<small>\n",
        "<b>\n",
        "Figura 1. Fases de Construção de um Dendograma a partir de uma Matriz de Distâncias. <br></b>(Fonte:\n",
        "___. STAT 555 Statistical Analysis of Genomics Data. Lesson 10: Clustering - 10.2)."
      ]
    },
    {
      "cell_type": "markdown",
      "metadata": {
        "id": "IWug180dF0-I"
      },
      "source": [
        "## Definição  dos Clusters\n",
        "\n",
        "Construído o Dendograma a definição dos Clusters pode ser feita estabelecendo-se um *ponto de corte* no dendograma, o que define a distância máxima que os elementos terão dentro de um agrupamento.\n"
      ]
    },
    {
      "cell_type": "markdown",
      "metadata": {
        "id": "SxSBZhBrA2G2"
      },
      "source": [
        "<img src=\"http://meusite.mackenzie.br/rogerio/hclust2.png\" width=400, align=\"center\">\n",
        "\n",
        "<small>\n",
        "<b>\n",
        "Figura 2. Diferente Clusters são definidos a partir de um ponto de corte da Árvore do Dendograma. <br></b>(Fonte:\n",
        "___. STAT 555 Statistical Analysis of Genomics Data. Lesson 10: Clustering - 10.2)."
      ]
    },
    {
      "cell_type": "markdown",
      "metadata": {
        "id": "iYs2L1-OKFBW"
      },
      "source": [
        "A definição do melhor número de clusters é obtido empregando os mesmo métodos do cotovelo ou de média de silhueta que você viu ao estudar o KMédias."
      ]
    },
    {
      "cell_type": "markdown",
      "metadata": {
        "id": "RoOB3qZ6GrtU"
      },
      "source": [
        "## Linkage\n",
        "\n",
        "No exemplo acima, quando ligamos o elemento $1$ ao par $(3,5)$ assumimos que a distância da amostra $1$ e do par $(3,5)$ (valor $3$ na matriz) era a menor dentre todas as distâncias da amostra após a ligação do par $(3,5)$. Mas a rigor uma  função distância é definida entre dois elementos de mesmas características e não de um elemento para a um grupo. Na verdade o que empregamos acima de modo intuitivo é o que denominamos *esquema de ligação*  e que permite definir uma 'distância' entre conjuntos de dados. Os esquemas de ligação mais comuns são:\n",
        "\n",
        "<br>\n",
        "\n",
        "* $complete\\text{_}linkage(A,B) = \\{\\max \\, d (a, b): a \\in A, \\, b \\in B \\, \\}$\n",
        "\n",
        "* $single\\text{_}linkage(A,B) = \\{\\min \\, d (a, b): a \\in A, \\, b \\in B \\, \\}$\n",
        "\n",
        "* $average\\text{_}linkage(A,B) = {\\displaystyle {\\frac {1} {| A | \\cdot | B |}} \\sum _ {a \\in A} \\sum _ {b \\in B} d (a, b)} $\n",
        "\n",
        "<br>\n",
        "\n",
        "> Importante: diferentes métodos de construção (aglomerativo ou divisivo) e diferentes esquemas de ligação produzem diferentes dendogramas e, portanto, irão produzir grupos de dados diferentes na clusterização.\n",
        "\n",
        "Abaixo os dendogramas produzidos para os esquemas de ligação `single` e `complete` linkage para o mesmo conjunto de dados do nosso exemplo.\n"
      ]
    },
    {
      "cell_type": "markdown",
      "metadata": {
        "id": "iIttvXDSBEMe"
      },
      "source": [
        "<img src=\"http://meusite.mackenzie.br/rogerio/hclust3.png\" width=650, align=\"center\">\n",
        "\n",
        "<br>\n",
        "<br>\n",
        "\n",
        "<small>\n",
        "<b>\n",
        "Figura 3. Esquemas de ligação diferentes, produzem Dendogramas e, consequentemente, diferentes Clusters. O dendograma à esquerda é obtido com o <i>single linkage</i>, o da direita, com o <i>complete linkage</i>. <br></b>(Fonte:\n",
        "___. STAT 555 Statistical Analysis of Genomics Data. Lesson 10: Clustering - 10.2)."
      ]
    },
    {
      "cell_type": "markdown",
      "metadata": {
        "_uuid": "9dd9e07c590ca22f0c525222f60f0ebff4e092c6",
        "id": "kIr_4QzOlOOo"
      },
      "source": [
        "# CASO: Wholesale Customer Data\n",
        "\n",
        "O dataset abaixo traz informações de um distribuidor e seus clientes e inclui os gastos anuais para diferentes produtos.\n",
        "\n",
        "Fonte: https://archive.ics.uci.edu/ml/datasets/Wholesale+customers\n",
        "\n",
        "Queremos aqui, segmentar os fornecedores pelos produtos que oferecem.\n",
        "\n",
        "\n"
      ]
    },
    {
      "cell_type": "code",
      "metadata": {
        "id": "zPYeoP83sXy7",
        "colab": {
          "base_uri": "https://localhost:8080/",
          "height": 204
        },
        "outputId": "c5da6fde-366c-4ffc-fb85-30d59dbbc9b9"
      },
      "source": [
        "import pandas as pd\n",
        "df = pd.read_csv('https://archive.ics.uci.edu/ml/machine-learning-databases/00292/Wholesale%20customers%20data.csv')\n",
        "df.head()\n"
      ],
      "execution_count": null,
      "outputs": [
        {
          "output_type": "execute_result",
          "data": {
            "text/html": [
              "<div>\n",
              "<style scoped>\n",
              "    .dataframe tbody tr th:only-of-type {\n",
              "        vertical-align: middle;\n",
              "    }\n",
              "\n",
              "    .dataframe tbody tr th {\n",
              "        vertical-align: top;\n",
              "    }\n",
              "\n",
              "    .dataframe thead th {\n",
              "        text-align: right;\n",
              "    }\n",
              "</style>\n",
              "<table border=\"1\" class=\"dataframe\">\n",
              "  <thead>\n",
              "    <tr style=\"text-align: right;\">\n",
              "      <th></th>\n",
              "      <th>Channel</th>\n",
              "      <th>Region</th>\n",
              "      <th>Fresh</th>\n",
              "      <th>Milk</th>\n",
              "      <th>Grocery</th>\n",
              "      <th>Frozen</th>\n",
              "      <th>Detergents_Paper</th>\n",
              "      <th>Delicassen</th>\n",
              "    </tr>\n",
              "  </thead>\n",
              "  <tbody>\n",
              "    <tr>\n",
              "      <th>0</th>\n",
              "      <td>2</td>\n",
              "      <td>3</td>\n",
              "      <td>12669</td>\n",
              "      <td>9656</td>\n",
              "      <td>7561</td>\n",
              "      <td>214</td>\n",
              "      <td>2674</td>\n",
              "      <td>1338</td>\n",
              "    </tr>\n",
              "    <tr>\n",
              "      <th>1</th>\n",
              "      <td>2</td>\n",
              "      <td>3</td>\n",
              "      <td>7057</td>\n",
              "      <td>9810</td>\n",
              "      <td>9568</td>\n",
              "      <td>1762</td>\n",
              "      <td>3293</td>\n",
              "      <td>1776</td>\n",
              "    </tr>\n",
              "    <tr>\n",
              "      <th>2</th>\n",
              "      <td>2</td>\n",
              "      <td>3</td>\n",
              "      <td>6353</td>\n",
              "      <td>8808</td>\n",
              "      <td>7684</td>\n",
              "      <td>2405</td>\n",
              "      <td>3516</td>\n",
              "      <td>7844</td>\n",
              "    </tr>\n",
              "    <tr>\n",
              "      <th>3</th>\n",
              "      <td>1</td>\n",
              "      <td>3</td>\n",
              "      <td>13265</td>\n",
              "      <td>1196</td>\n",
              "      <td>4221</td>\n",
              "      <td>6404</td>\n",
              "      <td>507</td>\n",
              "      <td>1788</td>\n",
              "    </tr>\n",
              "    <tr>\n",
              "      <th>4</th>\n",
              "      <td>2</td>\n",
              "      <td>3</td>\n",
              "      <td>22615</td>\n",
              "      <td>5410</td>\n",
              "      <td>7198</td>\n",
              "      <td>3915</td>\n",
              "      <td>1777</td>\n",
              "      <td>5185</td>\n",
              "    </tr>\n",
              "  </tbody>\n",
              "</table>\n",
              "</div>"
            ],
            "text/plain": [
              "   Channel  Region  Fresh  Milk  Grocery  Frozen  Detergents_Paper  Delicassen\n",
              "0        2       3  12669  9656     7561     214              2674        1338\n",
              "1        2       3   7057  9810     9568    1762              3293        1776\n",
              "2        2       3   6353  8808     7684    2405              3516        7844\n",
              "3        1       3  13265  1196     4221    6404               507        1788\n",
              "4        2       3  22615  5410     7198    3915              1777        5185"
            ]
          },
          "metadata": {},
          "execution_count": 56
        }
      ]
    },
    {
      "cell_type": "code",
      "metadata": {
        "colab": {
          "base_uri": "https://localhost:8080/"
        },
        "id": "3Wfi8mHg9G75",
        "outputId": "af45aae8-1d62-44e2-daae-f296aefd7c90"
      },
      "source": [
        "df.isnull().sum()"
      ],
      "execution_count": null,
      "outputs": [
        {
          "output_type": "execute_result",
          "data": {
            "text/plain": [
              "Channel             0\n",
              "Region              0\n",
              "Fresh               0\n",
              "Milk                0\n",
              "Grocery             0\n",
              "Frozen              0\n",
              "Detergents_Paper    0\n",
              "Delicassen          0\n",
              "dtype: int64"
            ]
          },
          "metadata": {},
          "execution_count": 57
        }
      ]
    },
    {
      "cell_type": "markdown",
      "metadata": {
        "id": "ZBX27Gews1Di"
      },
      "source": [
        "## Preparação dos Dados\n",
        "\n",
        "Como queremos segmentar os fornecedores somente por seus produtos vamos excluir os dados de 'Channel','Region' de nossa análise e como, outros estimadores que empregam distância, vamos normalizar os dados."
      ]
    },
    {
      "cell_type": "code",
      "metadata": {
        "id": "kL1FITOoBuux"
      },
      "source": [
        "df = df.drop(columns=['Channel','Region'])"
      ],
      "execution_count": null,
      "outputs": []
    },
    {
      "cell_type": "code",
      "metadata": {
        "id": "4Vk1x5-SuEFy",
        "colab": {
          "base_uri": "https://localhost:8080/"
        },
        "outputId": "b90d4175-3e12-4fd0-b4be-dd3b4d11ac41"
      },
      "source": [
        "from sklearn.preprocessing import StandardScaler\n",
        "\n",
        "scaler = StandardScaler()\n",
        "scaler.fit(df)\n",
        "X = scaler.transform(df)\n",
        "\n",
        "X[0:10]"
      ],
      "execution_count": null,
      "outputs": [
        {
          "output_type": "execute_result",
          "data": {
            "text/plain": [
              "array([[ 0.05293319,  0.52356777, -0.04111489, -0.58936716, -0.04356873,\n",
              "        -0.06633906],\n",
              "       [-0.39130197,  0.54445767,  0.17031835, -0.27013618,  0.08640684,\n",
              "         0.08915105],\n",
              "       [-0.44702926,  0.40853771, -0.0281571 , -0.13753572,  0.13323164,\n",
              "         2.24329255],\n",
              "       [ 0.10011141, -0.62401993, -0.3929769 ,  0.6871443 , -0.49858822,\n",
              "         0.09341105],\n",
              "       [ 0.84023948, -0.05239645, -0.07935618,  0.17385884, -0.23191782,\n",
              "         1.29934689],\n",
              "       [-0.20480553,  0.33406659, -0.29763704, -0.49615501, -0.22813824,\n",
              "        -0.02622403],\n",
              "       [ 0.00995035, -0.35231565, -0.10284877, -0.53451222,  0.05428041,\n",
              "        -0.34785425],\n",
              "       [-0.34998145, -0.11398095,  0.15535895, -0.28931479,  0.09228619,\n",
              "         0.36960125],\n",
              "       [-0.47790091, -0.2914094 , -0.18533618, -0.54585441, -0.2447264 ,\n",
              "        -0.2750792 ],\n",
              "       [-0.47449712,  0.7184949 ,  1.1514234 , -0.39448778,  0.95403053,\n",
              "         0.20346113]])"
            ]
          },
          "metadata": {},
          "execution_count": 59
        }
      ]
    },
    {
      "cell_type": "markdown",
      "metadata": {
        "id": "ZN1Lo4jB9jEX"
      },
      "source": [
        "## Definindo o Número de Clusters\n",
        "\n",
        "Vamos empregar aqui apenas a técnica de média de silhueta."
      ]
    },
    {
      "cell_type": "markdown",
      "source": [
        "A medida de Silhueta combina os conceitos de coesão de cluster (preferencialmente modelos que contêm clusters altamente coesos) e de separação de cluster (preferencialmente modelos que contêm clusters altamente separados). O coeficiente de Silhueta médio é simplesmente a média de todos os casos do cálculo a seguir para cada caso individual:\n",
        "\n",
        "(B - A) / máx (A, B)\n",
        "\n",
        "em que A é a distância do caso até o centroide do cluster ao qual o caso pertence e B é a distância mínima do caso até o centroide de cada um dos demais clusters.\n",
        "\n",
        "O coeficiente de Silhueta (e sua média) varia entre -1 (indica um modelo muito pobre) e 1 (indicando um modelo excelente). A média pode ser realizada no nível do total de casos (que produz a Silhueta total) ou no nível de clusters (que produz Silhueta de cluster). As distâncias podem ser calculadas utilizando distâncias euclidianas ou outras distâncias."
      ],
      "metadata": {
        "id": "nyQ5vCDSY-qL"
      }
    },
    {
      "cell_type": "code",
      "metadata": {
        "colab": {
          "base_uri": "https://localhost:8080/"
        },
        "id": "pZn5GsMM9oiB",
        "outputId": "ec9117bf-a198-4014-85eb-8c6475fc36c1"
      },
      "source": [
        "for n_clusters in range(2,11):\n",
        "  clf = KMeans(n_clusters = n_clusters , random_state= 1984)\n",
        "  clf.fit(X)\n",
        "  labels = clf.labels_\n",
        "  print('Silhueta média para', n_clusters , 'clusters: ', np.round( metrics.silhouette_score(X, labels, metric='euclidean'),3))"
      ],
      "execution_count": null,
      "outputs": [
        {
          "output_type": "stream",
          "name": "stdout",
          "text": [
            "Silhueta média para 2 clusters:  0.586\n",
            "Silhueta média para 3 clusters:  0.334\n",
            "Silhueta média para 4 clusters:  0.353\n",
            "Silhueta média para 5 clusters:  0.369\n",
            "Silhueta média para 6 clusters:  0.376\n",
            "Silhueta média para 7 clusters:  0.294\n",
            "Silhueta média para 8 clusters:  0.315\n",
            "Silhueta média para 9 clusters:  0.326\n",
            "Silhueta média para 10 clusters:  0.312\n"
          ]
        }
      ]
    },
    {
      "cell_type": "markdown",
      "metadata": {
        "id": "YeiT9oXumyn8"
      },
      "source": [
        "## Aglomerative Clustering\n",
        "\n",
        "Aqui vamos aplicar o estimador de clusterização hierárquica construindo a hierarquia de forma aglomerativa.\n",
        "\n"
      ]
    },
    {
      "cell_type": "code",
      "metadata": {
        "id": "1srfzIVBqv7y",
        "colab": {
          "base_uri": "https://localhost:8080/"
        },
        "outputId": "1ab499eb-5648-4d24-8ff2-75f6989000fb"
      },
      "source": [
        "from sklearn.cluster import AgglomerativeClustering\n",
        "\n",
        "clf = AgglomerativeClustering(n_clusters=2)\n",
        "# clf = AgglomerativeClustering(n_clusters=2, affinity='euclidean', linkage='single')\n",
        "# clf = AgglomerativeClustering(n_clusters=2, affinity='euclidean', linkage='ward')\n",
        "\n",
        "clf.fit(X)\n",
        "\n",
        "# Resultados\n",
        "labels = clf.labels_\n",
        "print(labels)\n",
        "\n"
      ],
      "execution_count": null,
      "outputs": [
        {
          "output_type": "stream",
          "name": "stdout",
          "text": [
            "[0 0 0 0 0 0 0 0 0 0 0 0 0 0 0 0 0 0 0 0 0 0 0 0 0 0 0 0 0 0 0 0 0 0 0 0 0\n",
            " 0 0 0 0 0 0 0 0 0 0 1 0 0 0 0 0 0 0 0 0 0 0 0 0 1 0 0 0 0 0 0 0 0 0 0 0 0\n",
            " 0 0 0 0 0 0 0 0 0 0 0 1 1 0 0 0 0 0 0 0 0 0 0 0 0 0 0 0 0 0 0 0 0 0 0 0 0\n",
            " 0 0 0 0 0 0 0 0 0 0 0 0 0 0 0 0 0 0 0 0 0 0 0 0 0 0 0 0 0 0 0 0 0 0 0 0 0\n",
            " 0 0 0 0 0 0 0 0 0 0 0 0 0 0 0 0 0 0 0 0 0 0 0 0 0 0 0 0 0 0 0 0 0 0 0 1 0\n",
            " 0 0 0 0 0 0 0 0 0 0 0 0 0 0 0 0 0 0 0 0 0 0 0 0 0 0 0 0 0 0 0 0 0 0 0 0 0\n",
            " 0 0 0 0 0 0 0 0 0 0 0 0 0 0 0 0 0 0 0 0 0 0 0 0 0 0 0 0 0 0 0 0 0 0 0 0 0\n",
            " 0 0 0 0 0 0 0 0 0 0 0 0 0 0 0 0 0 0 0 0 0 0 0 0 0 0 0 0 0 0 0 0 0 0 0 0 0\n",
            " 0 0 0 0 0 0 0 0 0 0 0 0 0 0 0 0 0 0 0 0 0 0 0 0 0 0 0 0 0 0 0 0 0 0 0 0 0\n",
            " 1 0 0 0 0 0 0 0 0 0 0 0 0 0 0 0 0 0 0 0 0 0 0 0 0 0 0 0 0 0 0 0 0 0 0 0 0\n",
            " 0 0 0 0 0 0 0 0 0 0 0 0 0 0 0 0 0 0 0 0 0 0 0 0 0 0 0 0 0 0 0 0 0 0 0 0 0\n",
            " 0 0 0 0 0 0 0 0 0 0 0 0 0 0 0 0 0 0 0 0 0 0 0 0 0 0 0 0 0 0 0 0 0]\n"
          ]
        }
      ]
    },
    {
      "cell_type": "markdown",
      "metadata": {
        "id": "1rZHZKje-eag"
      },
      "source": [
        "Você pode verificar, os esquemas de ligação `single` e `complete` não levam a bons resultados e empregamos o esquema de ligação padrão do `scikit-learn`."
      ]
    },
    {
      "cell_type": "code",
      "metadata": {
        "id": "78MD04a1UCu0",
        "colab": {
          "base_uri": "https://localhost:8080/",
          "height": 204
        },
        "outputId": "033e17b8-d761-4b37-9f07-0a83a2ff487d"
      },
      "source": [
        "df['Cluster'] = labels\n",
        "df.head()"
      ],
      "execution_count": null,
      "outputs": [
        {
          "output_type": "execute_result",
          "data": {
            "text/html": [
              "<div>\n",
              "<style scoped>\n",
              "    .dataframe tbody tr th:only-of-type {\n",
              "        vertical-align: middle;\n",
              "    }\n",
              "\n",
              "    .dataframe tbody tr th {\n",
              "        vertical-align: top;\n",
              "    }\n",
              "\n",
              "    .dataframe thead th {\n",
              "        text-align: right;\n",
              "    }\n",
              "</style>\n",
              "<table border=\"1\" class=\"dataframe\">\n",
              "  <thead>\n",
              "    <tr style=\"text-align: right;\">\n",
              "      <th></th>\n",
              "      <th>Fresh</th>\n",
              "      <th>Milk</th>\n",
              "      <th>Grocery</th>\n",
              "      <th>Frozen</th>\n",
              "      <th>Detergents_Paper</th>\n",
              "      <th>Delicassen</th>\n",
              "      <th>Cluster</th>\n",
              "    </tr>\n",
              "  </thead>\n",
              "  <tbody>\n",
              "    <tr>\n",
              "      <th>0</th>\n",
              "      <td>12669</td>\n",
              "      <td>9656</td>\n",
              "      <td>7561</td>\n",
              "      <td>214</td>\n",
              "      <td>2674</td>\n",
              "      <td>1338</td>\n",
              "      <td>0</td>\n",
              "    </tr>\n",
              "    <tr>\n",
              "      <th>1</th>\n",
              "      <td>7057</td>\n",
              "      <td>9810</td>\n",
              "      <td>9568</td>\n",
              "      <td>1762</td>\n",
              "      <td>3293</td>\n",
              "      <td>1776</td>\n",
              "      <td>0</td>\n",
              "    </tr>\n",
              "    <tr>\n",
              "      <th>2</th>\n",
              "      <td>6353</td>\n",
              "      <td>8808</td>\n",
              "      <td>7684</td>\n",
              "      <td>2405</td>\n",
              "      <td>3516</td>\n",
              "      <td>7844</td>\n",
              "      <td>0</td>\n",
              "    </tr>\n",
              "    <tr>\n",
              "      <th>3</th>\n",
              "      <td>13265</td>\n",
              "      <td>1196</td>\n",
              "      <td>4221</td>\n",
              "      <td>6404</td>\n",
              "      <td>507</td>\n",
              "      <td>1788</td>\n",
              "      <td>0</td>\n",
              "    </tr>\n",
              "    <tr>\n",
              "      <th>4</th>\n",
              "      <td>22615</td>\n",
              "      <td>5410</td>\n",
              "      <td>7198</td>\n",
              "      <td>3915</td>\n",
              "      <td>1777</td>\n",
              "      <td>5185</td>\n",
              "      <td>0</td>\n",
              "    </tr>\n",
              "  </tbody>\n",
              "</table>\n",
              "</div>"
            ],
            "text/plain": [
              "   Fresh  Milk  Grocery  Frozen  Detergents_Paper  Delicassen  Cluster\n",
              "0  12669  9656     7561     214              2674        1338        0\n",
              "1   7057  9810     9568    1762              3293        1776        0\n",
              "2   6353  8808     7684    2405              3516        7844        0\n",
              "3  13265  1196     4221    6404               507        1788        0\n",
              "4  22615  5410     7198    3915              1777        5185        0"
            ]
          },
          "metadata": {},
          "execution_count": 62
        }
      ]
    },
    {
      "cell_type": "markdown",
      "metadata": {
        "id": "CfSskAEIUNl5"
      },
      "source": [
        "## Dendograma\n",
        "\n",
        "Uma das vantagens da clusterização hierárquica e podermos observar diretamente a estrutura dos dados."
      ]
    },
    {
      "cell_type": "code",
      "metadata": {
        "colab": {
          "base_uri": "https://localhost:8080/",
          "height": 281
        },
        "id": "wmsMWjgb_5Uo",
        "outputId": "88d65a50-4c35-4512-8010-c81c60cefea1"
      },
      "source": [
        "import scipy.cluster.hierarchy as shc\n",
        "import matplotlib.pyplot as plt\n",
        "\n",
        "f, ax = plt.subplots(1,1,figsize=(12,4),sharey=True)\n",
        "\n",
        "ax.set_title(\"Dendrogram\")\n",
        "plt.xticks(rotation=90)\n",
        "\n",
        "dendrogram = shc.dendrogram(shc.linkage(X, method='ward'))\n",
        "ax.axhline(y=30, color='r', linestyle='--')\n",
        "\n",
        "plt.show()"
      ],
      "execution_count": null,
      "outputs": [
        {
          "output_type": "display_data",
          "data": {
            "image/png": "[encoded data removed]",
            "text/plain": [
              "<Figure size 864x288 with 1 Axes>"
            ]
          },
          "metadata": {
            "needs_background": "light"
          }
        }
      ]
    },
    {
      "cell_type": "markdown",
      "metadata": {
        "id": "iDwAtQtcDolL"
      },
      "source": [
        "Observando o dendograma você pode notar que 2 clusters não parece uma divisão interessante dos dados e o diagrama ainda sugere que 3 clusters teriam mais sentido para nossos dados.\n",
        "\n",
        "Vamos então refazer a clusterização para 3 clusters."
      ]
    },
    {
      "cell_type": "code",
      "metadata": {
        "colab": {
          "base_uri": "https://localhost:8080/"
        },
        "id": "MLPRpGaOEOgS",
        "outputId": "0f81187b-07e5-4eba-eaa9-b68abd6ace4d"
      },
      "source": [
        "clf = AgglomerativeClustering(n_clusters=3)\n",
        "\n",
        "clf.fit(X)\n",
        "\n",
        "# Resultados\n",
        "labels = clf.labels_\n",
        "print(labels)"
      ],
      "execution_count": null,
      "outputs": [
        {
          "output_type": "stream",
          "name": "stdout",
          "text": [
            "[2 2 2 1 1 2 2 2 1 2 2 1 1 1 1 1 2 2 1 2 1 1 1 1 2 2 1 1 2 1 1 1 1 1 1 2 1\n",
            " 2 2 1 1 1 2 2 2 2 2 0 2 2 1 1 1 2 1 1 2 2 1 2 2 0 2 2 1 2 2 1 1 1 1 1 1 1\n",
            " 2 1 1 2 1 1 1 2 2 1 2 0 0 1 1 1 1 1 2 1 2 1 2 1 1 1 2 2 2 1 1 1 2 2 2 2 1\n",
            " 2 1 1 1 1 1 1 1 1 1 1 1 2 1 1 1 1 2 1 1 1 1 1 1 1 2 2 1 1 1 1 1 1 2 2 1 1\n",
            " 1 1 1 1 1 2 1 2 2 1 2 2 2 1 1 2 2 2 2 1 1 1 2 2 2 2 1 2 1 1 2 1 1 1 2 0 1\n",
            " 2 1 2 2 2 1 1 1 2 1 1 1 2 1 1 2 2 2 1 1 2 1 2 2 2 1 2 1 2 2 2 2 1 2 1 1 2\n",
            " 1 1 1 1 1 1 1 1 1 2 1 1 1 1 1 1 1 1 1 1 1 1 2 2 1 1 2 1 1 2 1 1 2 1 2 1 1\n",
            " 1 1 1 1 1 2 2 2 1 2 1 1 1 2 1 1 1 1 1 1 1 1 2 1 1 1 1 1 1 1 1 1 1 1 2 1 1\n",
            " 1 2 2 1 1 2 2 2 2 2 2 1 1 2 1 1 2 1 1 2 1 1 1 2 1 1 1 2 1 1 1 1 1 1 1 2 1\n",
            " 0 1 1 1 1 1 1 2 2 2 2 1 2 2 1 1 2 1 2 1 2 1 1 1 2 2 1 1 1 1 1 1 2 1 1 1 1\n",
            " 1 1 2 1 1 1 2 1 1 2 1 1 1 1 2 1 1 1 1 1 1 1 1 1 1 1 2 1 1 1 1 1 1 1 1 1 1\n",
            " 2 2 2 1 2 2 1 1 2 2 2 2 1 2 1 1 2 2 1 2 1 1 1 2 1 1 1 2 1 1 2 1 1]\n"
          ]
        }
      ]
    },
    {
      "cell_type": "code",
      "metadata": {
        "colab": {
          "base_uri": "https://localhost:8080/",
          "height": 204
        },
        "id": "xPi76_nfEUz6",
        "outputId": "09644e61-d5ff-4138-c9c7-79bcf57ec444"
      },
      "source": [
        "df['Cluster'] = labels\n",
        "df.head()"
      ],
      "execution_count": null,
      "outputs": [
        {
          "output_type": "execute_result",
          "data": {
            "text/html": [
              "<div>\n",
              "<style scoped>\n",
              "    .dataframe tbody tr th:only-of-type {\n",
              "        vertical-align: middle;\n",
              "    }\n",
              "\n",
              "    .dataframe tbody tr th {\n",
              "        vertical-align: top;\n",
              "    }\n",
              "\n",
              "    .dataframe thead th {\n",
              "        text-align: right;\n",
              "    }\n",
              "</style>\n",
              "<table border=\"1\" class=\"dataframe\">\n",
              "  <thead>\n",
              "    <tr style=\"text-align: right;\">\n",
              "      <th></th>\n",
              "      <th>Fresh</th>\n",
              "      <th>Milk</th>\n",
              "      <th>Grocery</th>\n",
              "      <th>Frozen</th>\n",
              "      <th>Detergents_Paper</th>\n",
              "      <th>Delicassen</th>\n",
              "      <th>Cluster</th>\n",
              "    </tr>\n",
              "  </thead>\n",
              "  <tbody>\n",
              "    <tr>\n",
              "      <th>0</th>\n",
              "      <td>12669</td>\n",
              "      <td>9656</td>\n",
              "      <td>7561</td>\n",
              "      <td>214</td>\n",
              "      <td>2674</td>\n",
              "      <td>1338</td>\n",
              "      <td>2</td>\n",
              "    </tr>\n",
              "    <tr>\n",
              "      <th>1</th>\n",
              "      <td>7057</td>\n",
              "      <td>9810</td>\n",
              "      <td>9568</td>\n",
              "      <td>1762</td>\n",
              "      <td>3293</td>\n",
              "      <td>1776</td>\n",
              "      <td>2</td>\n",
              "    </tr>\n",
              "    <tr>\n",
              "      <th>2</th>\n",
              "      <td>6353</td>\n",
              "      <td>8808</td>\n",
              "      <td>7684</td>\n",
              "      <td>2405</td>\n",
              "      <td>3516</td>\n",
              "      <td>7844</td>\n",
              "      <td>2</td>\n",
              "    </tr>\n",
              "    <tr>\n",
              "      <th>3</th>\n",
              "      <td>13265</td>\n",
              "      <td>1196</td>\n",
              "      <td>4221</td>\n",
              "      <td>6404</td>\n",
              "      <td>507</td>\n",
              "      <td>1788</td>\n",
              "      <td>1</td>\n",
              "    </tr>\n",
              "    <tr>\n",
              "      <th>4</th>\n",
              "      <td>22615</td>\n",
              "      <td>5410</td>\n",
              "      <td>7198</td>\n",
              "      <td>3915</td>\n",
              "      <td>1777</td>\n",
              "      <td>5185</td>\n",
              "      <td>1</td>\n",
              "    </tr>\n",
              "  </tbody>\n",
              "</table>\n",
              "</div>"
            ],
            "text/plain": [
              "   Fresh  Milk  Grocery  Frozen  Detergents_Paper  Delicassen  Cluster\n",
              "0  12669  9656     7561     214              2674        1338        2\n",
              "1   7057  9810     9568    1762              3293        1776        2\n",
              "2   6353  8808     7684    2405              3516        7844        2\n",
              "3  13265  1196     4221    6404               507        1788        1\n",
              "4  22615  5410     7198    3915              1777        5185        1"
            ]
          },
          "metadata": {},
          "execution_count": 65
        }
      ]
    },
    {
      "cell_type": "markdown",
      "metadata": {
        "id": "7E8k6adcBHBK"
      },
      "source": [
        "### Análise: Tamanho dos Clusters"
      ]
    },
    {
      "cell_type": "markdown",
      "metadata": {
        "id": "9HHaLeLdBHBL"
      },
      "source": [
        "O grupo pequeno pode ser entendido como dados discrepantes no conjunto das amostras."
      ]
    },
    {
      "cell_type": "code",
      "metadata": {
        "colab": {
          "base_uri": "https://localhost:8080/",
          "height": 282
        },
        "id": "YDZ-6YITBHBL",
        "outputId": "0df4fa9f-a852-4cd2-eb33-2d7cb0e8cf77"
      },
      "source": [
        "sns.countplot(x=labels)\n",
        "plt.title('HCluster Group Sizes', fontsize=14, weight='bold')\n",
        "plt.show()"
      ],
      "execution_count": null,
      "outputs": [
        {
          "output_type": "display_data",
          "data": {
            "image/png": "[encoded data removed]",
            "text/plain": [
              "<Figure size 432x288 with 1 Axes>"
            ]
          },
          "metadata": {
            "needs_background": "light"
          }
        }
      ]
    },
    {
      "cell_type": "markdown",
      "metadata": {
        "id": "nb1cy_2tBWyU"
      },
      "source": [
        "### Análise: Perfil dos Grupos\n",
        "\n",
        "Observando o perfil dos diferentes fornecedores que nomes você atribuiria a eles?\n",
        "\n"
      ]
    },
    {
      "cell_type": "code",
      "metadata": {
        "colab": {
          "base_uri": "https://localhost:8080/",
          "height": 173
        },
        "id": "yfn6EsErBWyV",
        "outputId": "8b796dd1-a221-482c-d4c6-9104da816aa8"
      },
      "source": [
        "df.groupby('Cluster').mean()"
      ],
      "execution_count": null,
      "outputs": [
        {
          "output_type": "execute_result",
          "data": {
            "text/html": [
              "<div>\n",
              "<style scoped>\n",
              "    .dataframe tbody tr th:only-of-type {\n",
              "        vertical-align: middle;\n",
              "    }\n",
              "\n",
              "    .dataframe tbody tr th {\n",
              "        vertical-align: top;\n",
              "    }\n",
              "\n",
              "    .dataframe thead th {\n",
              "        text-align: right;\n",
              "    }\n",
              "</style>\n",
              "<table border=\"1\" class=\"dataframe\">\n",
              "  <thead>\n",
              "    <tr style=\"text-align: right;\">\n",
              "      <th></th>\n",
              "      <th>Fresh</th>\n",
              "      <th>Milk</th>\n",
              "      <th>Grocery</th>\n",
              "      <th>Frozen</th>\n",
              "      <th>Detergents_Paper</th>\n",
              "      <th>Delicassen</th>\n",
              "    </tr>\n",
              "    <tr>\n",
              "      <th>Cluster</th>\n",
              "      <th></th>\n",
              "      <th></th>\n",
              "      <th></th>\n",
              "      <th></th>\n",
              "      <th></th>\n",
              "      <th></th>\n",
              "    </tr>\n",
              "  </thead>\n",
              "  <tbody>\n",
              "    <tr>\n",
              "      <th>0</th>\n",
              "      <td>27477.000000</td>\n",
              "      <td>43542.166667</td>\n",
              "      <td>54588.500000</td>\n",
              "      <td>8285.666667</td>\n",
              "      <td>25018.333333</td>\n",
              "      <td>10247.833333</td>\n",
              "    </tr>\n",
              "    <tr>\n",
              "      <th>1</th>\n",
              "      <td>15048.932384</td>\n",
              "      <td>3017.298932</td>\n",
              "      <td>3791.761566</td>\n",
              "      <td>3837.316726</td>\n",
              "      <td>758.007117</td>\n",
              "      <td>1309.900356</td>\n",
              "    </tr>\n",
              "    <tr>\n",
              "      <th>2</th>\n",
              "      <td>5794.241830</td>\n",
              "      <td>9419.888889</td>\n",
              "      <td>13761.738562</td>\n",
              "      <td>1461.764706</td>\n",
              "      <td>5913.379085</td>\n",
              "      <td>1577.607843</td>\n",
              "    </tr>\n",
              "  </tbody>\n",
              "</table>\n",
              "</div>"
            ],
            "text/plain": [
              "                Fresh          Milk  ...  Detergents_Paper    Delicassen\n",
              "Cluster                              ...                                \n",
              "0        27477.000000  43542.166667  ...      25018.333333  10247.833333\n",
              "1        15048.932384   3017.298932  ...        758.007117   1309.900356\n",
              "2         5794.241830   9419.888889  ...       5913.379085   1577.607843\n",
              "\n",
              "[3 rows x 6 columns]"
            ]
          },
          "metadata": {},
          "execution_count": 67
        }
      ]
    },
    {
      "cell_type": "code",
      "metadata": {
        "colab": {
          "base_uri": "https://localhost:8080/",
          "height": 297
        },
        "id": "NDqxUMRVBWyV",
        "outputId": "a76eef85-3edc-401f-c642-f0f08b402588"
      },
      "source": [
        "g = pd.DataFrame( df.groupby('Cluster').mean() ).reset_index()\n",
        "\n",
        "fig, ax = plt.subplots(1,3,figsize=(12,4),sharey=True)\n",
        "\n",
        "nomes = ['a','b','c']\n",
        "\n",
        "for i in range(len(g)):\n",
        "  sns.barplot(data=g[g.Cluster==i].drop(columns='Cluster'),ax=ax[i])\n",
        "  ax[i].set_title('Grupo ' + str(i) + ' : \\n' + nomes[i], fontsize=14, weight='bold')\n",
        "\n",
        "plt.tight_layout()\n",
        "plt.show()\n",
        "\n"
      ],
      "execution_count": null,
      "outputs": [
        {
          "output_type": "display_data",
          "data": {
            "image/png": "[encoded data removed]",
            "text/plain": [
              "<Figure size 864x288 with 3 Axes>"
            ]
          },
          "metadata": {
            "needs_background": "light"
          }
        }
      ]
    },
    {
      "cell_type": "markdown",
      "metadata": {
        "id": "3Dnvi2UUBWyV"
      },
      "source": [
        "Talvez pudéssemos falar em grupo de *Grandes Fornecedores*, *Pequenos Fornecedores de Produtos Frescos* e *Pequenos Fornecedores de Produtos de Mercearia* e assim, definir estratégias de negócio diferentes para cada segmento!"
      ]
    },
    {
      "cell_type": "markdown",
      "metadata": {
        "id": "TWhxX8EHU4Hu"
      },
      "source": [
        "# Apêndice: O gráfico de silhuetas\n",
        "\n",
        "Os gráficos apresentam para cada elemento o seu índice de silhueta indicando a maior adequação ou não de cada elemento a cluster. A métrica de silhueta é a média desses valores."
      ]
    },
    {
      "cell_type": "code",
      "metadata": {
        "id": "4LbJ7FCUNS-D",
        "colab": {
          "base_uri": "https://localhost:8080/",
          "height": 1000
        },
        "outputId": "bdaa8ef1-0a18-401b-ec74-0056e9e350ec"
      },
      "source": [
        "# you can skip this code!\n",
        "\n",
        "from sklearn.datasets import make_blobs\n",
        "from sklearn.cluster import KMeans\n",
        "from sklearn.metrics import silhouette_samples, silhouette_score\n",
        "\n",
        "import matplotlib.pyplot as plt\n",
        "import matplotlib.cm as cm\n",
        "import numpy as np\n",
        "\n",
        "print(__doc__)\n",
        "\n",
        "# Generating the sample data from make_blobs\n",
        "# This particular setting has one distinct cluster and 3 clusters placed close\n",
        "# together.\n",
        "X = X\n",
        "\n",
        "range_n_clusters = [2, 3, 4, 5, 6]\n",
        "\n",
        "for n_clusters in range_n_clusters:\n",
        "    # Create a subplot with 1 row and 2 columns\n",
        "    fig, ax1 = plt.subplots(1,1)\n",
        "    fig.set_size_inches(8, 5)\n",
        "\n",
        "    # The 1st subplot is the silhouette plot\n",
        "    # The silhouette coefficient can range from -1, 1 but in this example all\n",
        "    # lie within [-0.1, 1]\n",
        "    ax1.set_xlim([-0.1, 1])\n",
        "    # The (n_clusters+1)*10 is for inserting blank space between silhouette\n",
        "    # plots of individual clusters, to demarcate them clearly.\n",
        "    ax1.set_ylim([0, len(X) + (n_clusters + 1) * 10])\n",
        "\n",
        "    # Initialize the clusterer with n_clusters value and a random generator\n",
        "    # seed of 10 for reproducibility.\n",
        "    clusterer = KMeans(n_clusters=n_clusters, random_state=10)\n",
        "    cluster_labels = clusterer.fit_predict(X)\n",
        "\n",
        "    # The silhouette_score gives the average value for all the samples.\n",
        "    # This gives a perspective into the density and separation of the formed\n",
        "    # clusters\n",
        "    silhouette_avg = silhouette_score(X, cluster_labels)\n",
        "    print(\"For n_clusters =\", n_clusters,\n",
        "          \"The average silhouette_score is :\", silhouette_avg)\n",
        "\n",
        "    # Compute the silhouette scores for each sample\n",
        "    sample_silhouette_values = silhouette_samples(X, cluster_labels)\n",
        "\n",
        "    y_lower = 10\n",
        "    for i in range(n_clusters):\n",
        "        # Aggregate the silhouette scores for samples belonging to\n",
        "        # cluster i, and sort them\n",
        "        ith_cluster_silhouette_values = \\\n",
        "            sample_silhouette_values[cluster_labels == i]\n",
        "\n",
        "        ith_cluster_silhouette_values.sort()\n",
        "\n",
        "        size_cluster_i = ith_cluster_silhouette_values.shape[0]\n",
        "        y_upper = y_lower + size_cluster_i\n",
        "\n",
        "        color = cm.nipy_spectral(float(i) / n_clusters)\n",
        "        ax1.fill_betweenx(np.arange(y_lower, y_upper),\n",
        "                          0, ith_cluster_silhouette_values,\n",
        "                          facecolor=color, edgecolor=color, alpha=0.7)\n",
        "\n",
        "        # Label the silhouette plots with their cluster numbers at the middle\n",
        "        ax1.text(-0.05, y_lower + 0.5 * size_cluster_i, str(i))\n",
        "\n",
        "        # Compute the new y_lower for next plot\n",
        "        y_lower = y_upper + 10  # 10 for the 0 samples\n",
        "\n",
        "    ax1.set_title(\"The silhouette plot for the various clusters.\")\n",
        "    ax1.set_xlabel(\"The silhouette coefficient values\")\n",
        "    ax1.set_ylabel(\"Cluster label\")\n",
        "\n",
        "    # The vertical line for average silhouette score of all the values\n",
        "    ax1.axvline(x=silhouette_avg, color=\"red\", linestyle=\"--\")\n",
        "\n",
        "    ax1.set_yticks([])  # Clear the yaxis labels / ticks\n",
        "    ax1.set_xticks([-0.1, 0, 0.2, 0.4, 0.6, 0.8, 1])\n",
        "\n",
        "\n",
        "\n",
        "    plt.suptitle((\"Silhouette analysis for KMeans clustering on sample data \"\n",
        "                  \"with n_clusters = %d\" % n_clusters),\n",
        "                 fontsize=14, fontweight='bold')\n",
        "\n",
        "plt.show()"
      ],
      "execution_count": null,
      "outputs": [
        {
          "output_type": "stream",
          "name": "stdout",
          "text": [
            "Automatically created module for IPython interactive environment\n",
            "For n_clusters = 2 The average silhouette_score is : 0.5909041986285453\n",
            "For n_clusters = 3 The average silhouette_score is : 0.5482872649700601\n",
            "For n_clusters = 4 The average silhouette_score is : 0.34573629344658097\n",
            "For n_clusters = 5 The average silhouette_score is : 0.3690403826812808\n",
            "For n_clusters = 6 The average silhouette_score is : 0.37432403986284685\n"
          ]
        },
        {
          "output_type": "display_data",
          "data": {
            "image/png": "[encoded data removed]",
            "text/plain": [
              "<Figure size 576x360 with 1 Axes>"
            ]
          },
          "metadata": {
            "needs_background": "light"
          }
        },
        {
          "output_type": "display_data",
          "data": {
            "image/png": "[encoded data removed]",
            "text/plain": [
              "<Figure size 576x360 with 1 Axes>"
            ]
          },
          "metadata": {
            "needs_background": "light"
          }
        },
        {
          "output_type": "display_data",
          "data": {
            "image/png": "[encoded data removed]",
            "text/plain": [
              "<Figure size 576x360 with 1 Axes>"
            ]
          },
          "metadata": {
            "needs_background": "light"
          }
        },
        {
          "output_type": "display_data",
          "data": {
            "image/png": "[encoded data removed]",
            "text/plain": [
              "<Figure size 576x360 with 1 Axes>"
            ]
          },
          "metadata": {
            "needs_background": "light"
          }
        },
        {
          "output_type": "display_data",
          "data": {
            "image/png": "[encoded data removed]",
            "text/plain": [
              "<Figure size 576x360 with 1 Axes>"
            ]
          },
          "metadata": {
            "needs_background": "light"
          }
        }
      ]
    },
    {
      "cell_type": "markdown",
      "metadata": {
        "id": "k4noMRT_YUd7"
      },
      "source": [
        "# Para Saber Mais\n",
        "\n",
        "* Acesse **Clustering** disponível em https://scikit-learn.org/stable/modules/clustering.html para conhecer outros métodos de clusterização disponíveis e compará-los.\n",
        "\n",
        "* Que tal experimentar a clusterização de dados com KMédias e Clusterização Hierárquica e analisar o gráfico do método do cotovelo de forma online sem qualquer programação? Legal não é? Então acesse **Online Statistics Calculator** https://datatab.net/statistics-calculator/cluster. Lá você ainda encontra um exemplo, mas poderá também importar e exportar seus próprios dados.\n",
        "\n",
        "* Você pode também revisar nosso exemplo em 1D para o KMédias. Ele encontra-se detalhado em Sayad, Saed (2021). **An Introduction to Data Science**, disponível em https://www.saedsayad.com/clustering_kmeans.htm\n",
        "\n",
        "* Entenda um pouco sobre mais uma técnica importante de Clustering, o DBSCAN, acessando\n",
        "**DBSCAN: Density-Based Clustering Essentials** disponível em: http://www.sthda.com/english/wiki/dbscan-density-based-clustering-for-discovering-clusters-in-large-datasets-with-noise-unsupervised-machine-learning\n",
        "\n",
        "\n"
      ]
    },
    {
      "cell_type": "markdown",
      "metadata": {
        "id": "fa24d435"
      },
      "source": [
        "# Referências"
      ]
    },
    {
      "cell_type": "markdown",
      "metadata": {
        "id": "zlJfWteFyhFy"
      },
      "source": [
        "Alpaydin, E. **Machine Learning** (The MIT Press Essential Knowledge). The MIT Press. 2019.\n",
        "\n",
        "Subasi, A. (2020). **Machine learning techniques. Practical Machine Learning for Data Analysis Using Python**, 91–202. doi:10.1016/b978-0-12-821379-7.00003-5\n",
        "\n",
        "___. STAT 555 **Statistical Analysis of Genomics Data**. Lesson 10: Clustering - 10.2 - Example: Agglomerative Hierarchical Clustering. Disponível em: https://onlinecourses.science.psu.edu/stat555/node/86. Acesso em: 14 de novembro de 2021.\n",
        "\n",
        "Sayad, Saed (2021). **An Introduction to Data Science**,\n",
        "Disponível em: https://www.saedsayad.com/data_mining_map.htm Acesso: 12 de Novembro de 2021\n",
        "\n",
        "Larose, Chantal D.; Larose, Daniel T. **Data Science Using Python and R** Hoboken: Wiley, c2019. E-book (259 p.) (Wiley Series on Methods and Applications in Data Mining Ser.). ISBN 9781119526834 (electronic bk.). Disponível em: https://www3.mackenzie.br/biblioteca_virtual/index.php?tipoBiblio=ebookcentral&flashObg=n\n",
        "\n",
        "Kotu, Vijay; Deshpande, Balachandre **Data Science: concepts and practice**. 2nd ed. Cambridge, [England]: Morgan Kaufmann, c2019. E-book (570 p.) ISBN 9780128147627 (electronic bk.). Disponível em: http://pergamum.mackenzie.br:8080/pergamumweb/vinculos/00003c/00003cef.jpg.\n",
        "\n",
        "\n"
      ]
    }
  ]
}