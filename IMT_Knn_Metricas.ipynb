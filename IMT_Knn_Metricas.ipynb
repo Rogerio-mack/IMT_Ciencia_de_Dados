{
  "nbformat": 4,
  "nbformat_minor": 0,
  "metadata": {
    "kernelspec": {
      "display_name": "Python 3",
      "language": "python",
      "name": "python3"
    },
    "language_info": {
      "codemirror_mode": {
        "name": "ipython",
        "version": 3
      },
      "file_extension": ".py",
      "mimetype": "text/x-python",
      "name": "python",
      "nbconvert_exporter": "python",
      "pygments_lexer": "ipython3",
      "version": "3.7.4"
    },
    "colab": {
      "provenance": [],
      "toc_visible": true,
      "include_colab_link": true
    }
  },
  "cells": [
    {
      "cell_type": "markdown",
      "metadata": {
        "id": "view-in-github",
        "colab_type": "text"
      },
      "source": [
        "<a href=\"https://colab.research.google.com/github/Rogerio-mack/IMT_Ciencia_de_Dados/blob/main/IMT_Knn_Metricas.ipynb\" target=\"_parent\"><img src=\"https://colab.research.google.com/assets/colab-badge.svg\" alt=\"Open In Colab\"/></a>"
      ]
    },
    {
      "cell_type": "markdown",
      "metadata": {
        "id": "LwtN8cY5AX_a"
      },
      "source": [
        "<head>\n",
        "  <meta name=\"author\" content=\"Rogério de Oliveira\">\n",
        "  <meta institution=\"author\" content=\"ITM\">\n",
        "</head>\n",
        "\n",
        "<img src=\"https://maua.br/images/selo-60-anos-maua.svg\" width=300, align=\"right\">\n",
        "<!-- <h1 align=left><font size = 6, style=\"color:rgb(200,0,0)\"> optional title </font></h1> -->\n"
      ]
    },
    {
      "cell_type": "markdown",
      "metadata": {
        "id": "g1Hap25KEXDX"
      },
      "source": [
        "# **Classificação: Knn**\n",
        "---\n",
        "\n",
        "Nesta aula você vai aprender sobre:\n",
        "\n",
        "* Outras Métricas de Classificação: Matriz de Confusão, Precisão, Revocação, F1\n",
        "* Como empregar essas métricas para comparar e selecionar melhores modelos\n",
        "* Modelos de K-Vizinhos mais Próximos para Classificação\n",
        "\n"
      ]
    },
    {
      "cell_type": "markdown",
      "source": [
        "Na aula anterior concluímos observando que a métrica de acuracidade é uma medida de desempenho dos modelos bastante geral e que pode levar a erro de avaliação dos modelos (modelos com alta acuracidade ainda assim podem ser ruins). Nesta aula vamos explorar um pouco mais esse problema e introduzir algumas outras métricas que irão melhor permitir avaliarmos os modelos. Você conhecerá as Métricas de Classificação: **Precisão, Revocação, F1 e a Matriz de Confusão**. \n",
        "\n",
        "Essas métricas são bastante importantes e são empregadas tanto para comparar e selecionar melhores modelos entre os diferentes modelos que podemos implementar, mas também são empregados para o ajuste de parâmetros dos modelos (e que chamaremos de hiperparâmetros). \n",
        "\n",
        "Você também vai aprender aqui como funciona e como implementar um modelo de **K-Vizinhos mais Próximos para Classificação**, um novo modelo de classificação e poderemos comparar o seu resultado com os que obtivemos antes com o classificador logístico."
      ],
      "metadata": {
        "id": "5tmI1p3h1qSO"
      }
    },
    {
      "cell_type": "markdown",
      "source": [
        "# Acuracidade\n",
        "\n",
        "Vamos retomar nosso exemplo de Moons e então analisar mais de perto os resultados com novas métricas de classificação."
      ],
      "metadata": {
        "id": "T7XP_F0wTM8I"
      }
    },
    {
      "cell_type": "markdown",
      "metadata": {
        "id": "vgNDvNdZZs5g"
      },
      "source": [
        "## Recriando os dados de *Moons*\n",
        "\n",
        "Vamos recriar nosso conjunto de dados para classificação, mas agora construindo um conjunto de dados mais complexo. Vamos aproveitar que sabemos que a regressão logística é um separador linear para *dificultarmos* a classificação empregando um conjunto de dados não separável linearmente. Com isso teremos a oportunidade de analisar melhor outras métricas de classificação."
      ]
    },
    {
      "cell_type": "code",
      "source": [
        "import numpy as np\n",
        "import pandas as pd\n",
        "import matplotlib.pyplot as plt\n",
        "%matplotlib inline\n",
        "from matplotlib.lines import Line2D\n",
        "import seaborn as sns"
      ],
      "metadata": {
        "id": "YJ66nKygT1ce"
      },
      "execution_count": null,
      "outputs": []
    },
    {
      "cell_type": "code",
      "metadata": {
        "id": "LW9ynt1AkUp8",
        "colab": {
          "base_uri": "https://localhost:8080/",
          "height": 400
        },
        "outputId": "9f2879f9-38f5-4bca-a75b-eef19804f94f"
      },
      "source": [
        "from sklearn.datasets import make_moons, make_blobs\n",
        "cmap_data = plt.cm.coolwarm \n",
        "\n",
        "X, y = make_blobs(n_samples=120, n_features=2, random_state=12) \n",
        "df = pd.DataFrame({'x1':X[:, 0], 'x2':X[:, 1], 'y':y})\n",
        "df.y = df.y.replace(1,2)\n",
        "df.y = df.y.replace(0,1)\n",
        "df.y = df.y.replace(2,0)\n",
        "\n",
        "plt.scatter(df.x1, df.x2, c=df.y, cmap=cmap_data, alpha=0.8)\n",
        "plt.title('Moons Set',weight='bold',fontsize=14)\n",
        "plt.xlabel(\"x1\")\n",
        "plt.ylabel(\"x2\")\n",
        "\n",
        "custom_lines = [Line2D([0], [0], color=cmap_data(0.), lw=6),\n",
        "                Line2D([0], [0], color=cmap_data(1.), lw=6)]\n",
        "plt.legend(custom_lines, ['One', 'Zero'], loc='upper right',title='Moons')\n",
        "\n",
        "plt.show()\n",
        "\n",
        "print(df.head())"
      ],
      "execution_count": null,
      "outputs": [
        {
          "output_type": "display_data",
          "data": {
            "text/plain": [
              "<Figure size 432x288 with 1 Axes>"
            ],
            "image/png": "[encoded data removed]"
          },
          "metadata": {
            "needs_background": "light"
          }
        },
        {
          "output_type": "stream",
          "name": "stdout",
          "text": [
            "         x1        x2  y\n",
            "0 -5.422578  1.477418  0\n",
            "1 -5.270181  0.872708  0\n",
            "2 -2.800484 -0.387307  0\n",
            "3 -8.064956  6.915338  1\n",
            "4 -6.111296  1.640534  0\n"
          ]
        }
      ]
    },
    {
      "cell_type": "code",
      "source": [
        "df.y.value_counts()"
      ],
      "metadata": {
        "colab": {
          "base_uri": "https://localhost:8080/"
        },
        "id": "PQ6UxEOKXgwn",
        "outputId": "73941929-46f3-4306-e9ec-e192b9cf839c"
      },
      "execution_count": null,
      "outputs": [
        {
          "output_type": "execute_result",
          "data": {
            "text/plain": [
              "0    80\n",
              "1    40\n",
              "Name: y, dtype: int64"
            ]
          },
          "metadata": {},
          "execution_count": 221
        }
      ]
    },
    {
      "cell_type": "markdown",
      "metadata": {
        "id": "AV_UXeJjZ5L_"
      },
      "source": [
        "## Aplicação do Classificador Logístico\n",
        "\n",
        "Vamos agora aplicar o classificador Logístico que você já conhece empregando 0.3 dos dados para teste."
      ]
    },
    {
      "cell_type": "code",
      "metadata": {
        "colab": {
          "base_uri": "https://localhost:8080/"
        },
        "id": "NvLnBcGXXxFp",
        "outputId": "02f853e8-5c83-4d9b-949a-82371a461f74"
      },
      "source": [
        "from sklearn.linear_model import LogisticRegression \n",
        "from sklearn.model_selection import train_test_split\n",
        "\n",
        "X = df[['x1','x2']]\n",
        "y = df.y\n",
        "\n",
        "X_train, X_test, y_train, y_test = train_test_split(X, y, stratify=y, test_size=0.3, random_state=123)\n",
        "\n",
        "clf = LogisticRegression(max_iter=1000)\n",
        "\n",
        "clf.fit(X_train,y_train)\n",
        "\n",
        "y_pred = clf.predict(X_test)\n",
        "\n",
        "print( y_pred[0:10], '...' )\n",
        "print( f'{clf.score(X_test,y_test):.2f}' )\n"
      ],
      "execution_count": null,
      "outputs": [
        {
          "output_type": "stream",
          "name": "stdout",
          "text": [
            "[1 0 0 0 0 0 0 0 0 0] ...\n",
            "0.69\n"
          ]
        }
      ]
    },
    {
      "cell_type": "markdown",
      "metadata": {
        "id": "-McHy8E8dgxR"
      },
      "source": [
        "Você obtêm, então, um resultado com 69% de acuracidade, com 11 erros de classificação sobre o conjunto de teste. Nada mal, afinal são quase 70%  de acerto! Você certamente apostaria em qualquer coisa com chance de 70%."
      ]
    },
    {
      "cell_type": "code",
      "metadata": {
        "colab": {
          "base_uri": "https://localhost:8080/"
        },
        "id": "JRgff7gRdsEw",
        "outputId": "d36037ea-1942-4f4e-c4cc-7bc6f369d16d"
      },
      "source": [
        "sum(y_test != y_pred)"
      ],
      "execution_count": null,
      "outputs": [
        {
          "output_type": "execute_result",
          "data": {
            "text/plain": [
              "11"
            ]
          },
          "metadata": {},
          "execution_count": 223
        }
      ]
    },
    {
      "cell_type": "code",
      "metadata": {
        "colab": {
          "base_uri": "https://localhost:8080/",
          "height": 296
        },
        "id": "tCowXL07j5Ls",
        "outputId": "d9fc187a-2ff5-4a90-841e-c576853cc4ae"
      },
      "source": [
        "cmap_data = plt.cm.coolwarm \n",
        "\n",
        "plt.scatter(X.x1, X.x2, c=y, cmap=cmap_data, alpha=0.4) # todos dados\n",
        "plt.scatter(X_test.x1, X_test.x2, c=y_pred, s=250,cmap=cmap_data, alpha=0.6) # somente dados de teste\n",
        "\n",
        "plt.scatter(X_test[y_pred != y_test].x1, X_test[y_pred != y_test].x2, color='y', s=350, alpha=1, label='wrong predictions')\n",
        "plt.scatter(X_test[y_pred != y_test].x1, X_test[y_pred != y_test].x2, c=y_test[y_pred != y_test], cmap=cmap_data, alpha=0.8)\n",
        "plt.title('Moons Predictions',weight='bold',fontsize=14)\n",
        "plt.xlabel(\"x1\")\n",
        "plt.ylabel(\"x2\")\n",
        "\n",
        "custom_lines = [Line2D([0], [0], color=cmap_data(0.), lw=6),\n",
        "                Line2D([0], [0], color=cmap_data(1.), lw=6),\n",
        "                Line2D([0], [0], color='y', lw=6)]\n",
        "plt.legend(custom_lines, ['One', 'Zero', 'Error'], loc='upper right',title='Moons')\n",
        "\n",
        "plt.show()\n",
        "\n"
      ],
      "execution_count": null,
      "outputs": [
        {
          "output_type": "display_data",
          "data": {
            "text/plain": [
              "<Figure size 432x288 with 1 Axes>"
            ],
            "image/png": "[encoded data removed]"
          },
          "metadata": {
            "needs_background": "light"
          }
        }
      ]
    },
    {
      "cell_type": "markdown",
      "source": [
        "Esse resultado não parece muito bom, mas você já esperava por isso: a regressão logística não consegue separar perfeitamente classes que não sejam linearmente separáveis!\n",
        "\n",
        "Mas valores muito altos de acuracidade não iriam permitir explorarmos melhor outras métricas que você verá a seguir."
      ],
      "metadata": {
        "id": "ZP706eglZSu4"
      }
    },
    {
      "cell_type": "markdown",
      "metadata": {
        "id": "smetE25WtWIz"
      },
      "source": [
        "# Matriz de Confusão e Classification Report\n",
        "\n",
        "O resultado de 0.69 não parece ruim à primeira vista. Mas bom ou ruim, a ideia é que esse resultado pode não estar distribuído uniformemente entre as classes, e você pode rever o último exemplo da aula anterior. Pode haver uma classe que tenha um resultado de classificação muito bom e outra um resultado muito ruim. Esse valor da acuracidade é um valor geral, média do resultado de todas as classes. Esse é apenas um dos resultados que podemos buscar com outras métricas de classificação.\n",
        "\n",
        "Várias dessas métricas podem ser obtidas diretamente o scikit-learn como abaixo, e você vai ver em detalhe cada uma delas. Os valores de Acuracidade (1) e (2) são os mesmos, e apenas empregam métodos diferentes. \n",
        "\n"
      ]
    },
    {
      "cell_type": "code",
      "metadata": {
        "colab": {
          "base_uri": "https://localhost:8080/"
        },
        "id": "grPiq_9Vtd-p",
        "outputId": "86f54fe6-aeaa-4937-961c-a974ef76cfd3"
      },
      "source": [
        "from sklearn.metrics import confusion_matrix\n",
        "from sklearn.metrics import accuracy_score\n",
        "from sklearn.metrics import classification_report\n",
        "\n",
        "cm = confusion_matrix(y_test, y_pred)\n",
        "print('\\nMatriz de Confusão:\\n')\n",
        "print(cm)\n",
        "    \n",
        "accuracy = accuracy_score(y_test, y_pred)\n",
        "print('\\nScore de Acuracidade (1):\\n')\n",
        "print(f'{accuracy:.2f}')\n",
        "\n",
        "accuracy = clf.score(X_test, y_test)\n",
        "print('\\nScore de Acuracidade (2):\\n')\n",
        "print(f'{accuracy:.2f}')\n",
        "\n",
        "print('\\nClassification Report:\\n')\n",
        "print(classification_report(y_test, y_pred))"
      ],
      "execution_count": null,
      "outputs": [
        {
          "output_type": "stream",
          "name": "stdout",
          "text": [
            "\n",
            "Matriz de Confusão:\n",
            "\n",
            "[[24  0]\n",
            " [11  1]]\n",
            "\n",
            "Score de Acuracidade (1):\n",
            "\n",
            "0.69\n",
            "\n",
            "Score de Acuracidade (2):\n",
            "\n",
            "0.69\n",
            "\n",
            "Classification Report:\n",
            "\n",
            "              precision    recall  f1-score   support\n",
            "\n",
            "           0       0.69      1.00      0.81        24\n",
            "           1       1.00      0.08      0.15        12\n",
            "\n",
            "    accuracy                           0.69        36\n",
            "   macro avg       0.84      0.54      0.48        36\n",
            "weighted avg       0.79      0.69      0.59        36\n",
            "\n"
          ]
        }
      ]
    },
    {
      "cell_type": "markdown",
      "metadata": {
        "id": "dfxUoZKf8Et3"
      },
      "source": [
        "## Matriz de Confusão\n",
        "\n",
        "Certamente poderíamos construir uma tabela como abaixo, com os valores do conjunto de teste e as classes *reais* `y` e os valores previstos `y_pred` e analisar os resultados.\n",
        "\n",
        "\n"
      ]
    },
    {
      "cell_type": "code",
      "source": [
        "results = pd.concat([ X_test,y_test], axis=1)\n",
        "results['y_pred'] = y_pred\n",
        "results['Igual?'] =  y_pred == y_test\n",
        "results"
      ],
      "metadata": {
        "colab": {
          "base_uri": "https://localhost:8080/",
          "height": 1000
        },
        "id": "99TFw1LZf0lB",
        "outputId": "d6794455-3166-4dca-b1a5-39a7d66bf5b6"
      },
      "execution_count": null,
      "outputs": [
        {
          "output_type": "execute_result",
          "data": {
            "text/plain": [
              "            x1        x2  y  y_pred  Igual?\n",
              "34   -5.445509  6.437457  1       1    True\n",
              "43   -4.610938  2.364080  0       0    True\n",
              "23   -8.071103  2.587660  1       0   False\n",
              "35   -5.866169  0.949079  0       0    True\n",
              "44   -5.904228  3.887125  1       0   False\n",
              "101  -4.067622  2.082736  0       0    True\n",
              "11   -6.701767  4.416635  1       0   False\n",
              "50   -9.328387  7.418267  0       0    True\n",
              "10   -5.200051  1.031011  0       0    True\n",
              "100 -10.715177  8.424962  0       0    True\n",
              "82   -7.022011  5.313016  1       0   False\n",
              "54   -9.902011  7.710737  0       0    True\n",
              "69   -8.399031  7.136198  0       0    True\n",
              "24  -10.312196  8.742333  0       0    True\n",
              "78   -4.682551 -0.261187  0       0    True\n",
              "96   -7.031663  7.042812  1       0   False\n",
              "65   -5.397997  1.026123  0       0    True\n",
              "113  -7.946273  6.010790  1       0   False\n",
              "117  -8.083002  3.791432  1       0   False\n",
              "86  -10.518171  8.875435  0       0    True\n",
              "79   -4.984502  0.109645  0       0    True\n",
              "38   -8.438642  8.525460  0       0    True\n",
              "109  -9.055732  7.730473  0       0    True\n",
              "67   -7.254338  4.215726  1       0   False\n",
              "58  -10.648859  8.658547  0       0    True\n",
              "74   -9.624974  6.716515  0       0    True\n",
              "107  -7.514566  5.273451  1       0   False\n",
              "114  -3.997788  1.109107  0       0    True\n",
              "2    -2.800484 -0.387307  0       0    True\n",
              "70   -6.017703 -0.599784  0       0    True\n",
              "48   -4.696044  0.428591  0       0    True\n",
              "51   -7.445147  4.761785  1       0   False\n",
              "64  -10.226210  7.979062  0       0    True\n",
              "104  -5.574387  4.678844  1       0   False\n",
              "80   -8.943071  8.346425  0       0    True\n",
              "97   -5.217731 -0.838299  0       0    True"
            ],
            "text/html": [
              "\n",
              "  <div id=\"df-0a62015f-fea8-4e31-9fe8-8b2de795f1cb\">\n",
              "    <div class=\"colab-df-container\">\n",
              "      <div>\n",
              "<style scoped>\n",
              "    .dataframe tbody tr th:only-of-type {\n",
              "        vertical-align: middle;\n",
              "    }\n",
              "\n",
              "    .dataframe tbody tr th {\n",
              "        vertical-align: top;\n",
              "    }\n",
              "\n",
              "    .dataframe thead th {\n",
              "        text-align: right;\n",
              "    }\n",
              "</style>\n",
              "<table border=\"1\" class=\"dataframe\">\n",
              "  <thead>\n",
              "    <tr style=\"text-align: right;\">\n",
              "      <th></th>\n",
              "      <th>x1</th>\n",
              "      <th>x2</th>\n",
              "      <th>y</th>\n",
              "      <th>y_pred</th>\n",
              "      <th>Igual?</th>\n",
              "    </tr>\n",
              "  </thead>\n",
              "  <tbody>\n",
              "    <tr>\n",
              "      <th>34</th>\n",
              "      <td>-5.445509</td>\n",
              "      <td>6.437457</td>\n",
              "      <td>1</td>\n",
              "      <td>1</td>\n",
              "      <td>True</td>\n",
              "    </tr>\n",
              "    <tr>\n",
              "      <th>43</th>\n",
              "      <td>-4.610938</td>\n",
              "      <td>2.364080</td>\n",
              "      <td>0</td>\n",
              "      <td>0</td>\n",
              "      <td>True</td>\n",
              "    </tr>\n",
              "    <tr>\n",
              "      <th>23</th>\n",
              "      <td>-8.071103</td>\n",
              "      <td>2.587660</td>\n",
              "      <td>1</td>\n",
              "      <td>0</td>\n",
              "      <td>False</td>\n",
              "    </tr>\n",
              "    <tr>\n",
              "      <th>35</th>\n",
              "      <td>-5.866169</td>\n",
              "      <td>0.949079</td>\n",
              "      <td>0</td>\n",
              "      <td>0</td>\n",
              "      <td>True</td>\n",
              "    </tr>\n",
              "    <tr>\n",
              "      <th>44</th>\n",
              "      <td>-5.904228</td>\n",
              "      <td>3.887125</td>\n",
              "      <td>1</td>\n",
              "      <td>0</td>\n",
              "      <td>False</td>\n",
              "    </tr>\n",
              "    <tr>\n",
              "      <th>101</th>\n",
              "      <td>-4.067622</td>\n",
              "      <td>2.082736</td>\n",
              "      <td>0</td>\n",
              "      <td>0</td>\n",
              "      <td>True</td>\n",
              "    </tr>\n",
              "    <tr>\n",
              "      <th>11</th>\n",
              "      <td>-6.701767</td>\n",
              "      <td>4.416635</td>\n",
              "      <td>1</td>\n",
              "      <td>0</td>\n",
              "      <td>False</td>\n",
              "    </tr>\n",
              "    <tr>\n",
              "      <th>50</th>\n",
              "      <td>-9.328387</td>\n",
              "      <td>7.418267</td>\n",
              "      <td>0</td>\n",
              "      <td>0</td>\n",
              "      <td>True</td>\n",
              "    </tr>\n",
              "    <tr>\n",
              "      <th>10</th>\n",
              "      <td>-5.200051</td>\n",
              "      <td>1.031011</td>\n",
              "      <td>0</td>\n",
              "      <td>0</td>\n",
              "      <td>True</td>\n",
              "    </tr>\n",
              "    <tr>\n",
              "      <th>100</th>\n",
              "      <td>-10.715177</td>\n",
              "      <td>8.424962</td>\n",
              "      <td>0</td>\n",
              "      <td>0</td>\n",
              "      <td>True</td>\n",
              "    </tr>\n",
              "    <tr>\n",
              "      <th>82</th>\n",
              "      <td>-7.022011</td>\n",
              "      <td>5.313016</td>\n",
              "      <td>1</td>\n",
              "      <td>0</td>\n",
              "      <td>False</td>\n",
              "    </tr>\n",
              "    <tr>\n",
              "      <th>54</th>\n",
              "      <td>-9.902011</td>\n",
              "      <td>7.710737</td>\n",
              "      <td>0</td>\n",
              "      <td>0</td>\n",
              "      <td>True</td>\n",
              "    </tr>\n",
              "    <tr>\n",
              "      <th>69</th>\n",
              "      <td>-8.399031</td>\n",
              "      <td>7.136198</td>\n",
              "      <td>0</td>\n",
              "      <td>0</td>\n",
              "      <td>True</td>\n",
              "    </tr>\n",
              "    <tr>\n",
              "      <th>24</th>\n",
              "      <td>-10.312196</td>\n",
              "      <td>8.742333</td>\n",
              "      <td>0</td>\n",
              "      <td>0</td>\n",
              "      <td>True</td>\n",
              "    </tr>\n",
              "    <tr>\n",
              "      <th>78</th>\n",
              "      <td>-4.682551</td>\n",
              "      <td>-0.261187</td>\n",
              "      <td>0</td>\n",
              "      <td>0</td>\n",
              "      <td>True</td>\n",
              "    </tr>\n",
              "    <tr>\n",
              "      <th>96</th>\n",
              "      <td>-7.031663</td>\n",
              "      <td>7.042812</td>\n",
              "      <td>1</td>\n",
              "      <td>0</td>\n",
              "      <td>False</td>\n",
              "    </tr>\n",
              "    <tr>\n",
              "      <th>65</th>\n",
              "      <td>-5.397997</td>\n",
              "      <td>1.026123</td>\n",
              "      <td>0</td>\n",
              "      <td>0</td>\n",
              "      <td>True</td>\n",
              "    </tr>\n",
              "    <tr>\n",
              "      <th>113</th>\n",
              "      <td>-7.946273</td>\n",
              "      <td>6.010790</td>\n",
              "      <td>1</td>\n",
              "      <td>0</td>\n",
              "      <td>False</td>\n",
              "    </tr>\n",
              "    <tr>\n",
              "      <th>117</th>\n",
              "      <td>-8.083002</td>\n",
              "      <td>3.791432</td>\n",
              "      <td>1</td>\n",
              "      <td>0</td>\n",
              "      <td>False</td>\n",
              "    </tr>\n",
              "    <tr>\n",
              "      <th>86</th>\n",
              "      <td>-10.518171</td>\n",
              "      <td>8.875435</td>\n",
              "      <td>0</td>\n",
              "      <td>0</td>\n",
              "      <td>True</td>\n",
              "    </tr>\n",
              "    <tr>\n",
              "      <th>79</th>\n",
              "      <td>-4.984502</td>\n",
              "      <td>0.109645</td>\n",
              "      <td>0</td>\n",
              "      <td>0</td>\n",
              "      <td>True</td>\n",
              "    </tr>\n",
              "    <tr>\n",
              "      <th>38</th>\n",
              "      <td>-8.438642</td>\n",
              "      <td>8.525460</td>\n",
              "      <td>0</td>\n",
              "      <td>0</td>\n",
              "      <td>True</td>\n",
              "    </tr>\n",
              "    <tr>\n",
              "      <th>109</th>\n",
              "      <td>-9.055732</td>\n",
              "      <td>7.730473</td>\n",
              "      <td>0</td>\n",
              "      <td>0</td>\n",
              "      <td>True</td>\n",
              "    </tr>\n",
              "    <tr>\n",
              "      <th>67</th>\n",
              "      <td>-7.254338</td>\n",
              "      <td>4.215726</td>\n",
              "      <td>1</td>\n",
              "      <td>0</td>\n",
              "      <td>False</td>\n",
              "    </tr>\n",
              "    <tr>\n",
              "      <th>58</th>\n",
              "      <td>-10.648859</td>\n",
              "      <td>8.658547</td>\n",
              "      <td>0</td>\n",
              "      <td>0</td>\n",
              "      <td>True</td>\n",
              "    </tr>\n",
              "    <tr>\n",
              "      <th>74</th>\n",
              "      <td>-9.624974</td>\n",
              "      <td>6.716515</td>\n",
              "      <td>0</td>\n",
              "      <td>0</td>\n",
              "      <td>True</td>\n",
              "    </tr>\n",
              "    <tr>\n",
              "      <th>107</th>\n",
              "      <td>-7.514566</td>\n",
              "      <td>5.273451</td>\n",
              "      <td>1</td>\n",
              "      <td>0</td>\n",
              "      <td>False</td>\n",
              "    </tr>\n",
              "    <tr>\n",
              "      <th>114</th>\n",
              "      <td>-3.997788</td>\n",
              "      <td>1.109107</td>\n",
              "      <td>0</td>\n",
              "      <td>0</td>\n",
              "      <td>True</td>\n",
              "    </tr>\n",
              "    <tr>\n",
              "      <th>2</th>\n",
              "      <td>-2.800484</td>\n",
              "      <td>-0.387307</td>\n",
              "      <td>0</td>\n",
              "      <td>0</td>\n",
              "      <td>True</td>\n",
              "    </tr>\n",
              "    <tr>\n",
              "      <th>70</th>\n",
              "      <td>-6.017703</td>\n",
              "      <td>-0.599784</td>\n",
              "      <td>0</td>\n",
              "      <td>0</td>\n",
              "      <td>True</td>\n",
              "    </tr>\n",
              "    <tr>\n",
              "      <th>48</th>\n",
              "      <td>-4.696044</td>\n",
              "      <td>0.428591</td>\n",
              "      <td>0</td>\n",
              "      <td>0</td>\n",
              "      <td>True</td>\n",
              "    </tr>\n",
              "    <tr>\n",
              "      <th>51</th>\n",
              "      <td>-7.445147</td>\n",
              "      <td>4.761785</td>\n",
              "      <td>1</td>\n",
              "      <td>0</td>\n",
              "      <td>False</td>\n",
              "    </tr>\n",
              "    <tr>\n",
              "      <th>64</th>\n",
              "      <td>-10.226210</td>\n",
              "      <td>7.979062</td>\n",
              "      <td>0</td>\n",
              "      <td>0</td>\n",
              "      <td>True</td>\n",
              "    </tr>\n",
              "    <tr>\n",
              "      <th>104</th>\n",
              "      <td>-5.574387</td>\n",
              "      <td>4.678844</td>\n",
              "      <td>1</td>\n",
              "      <td>0</td>\n",
              "      <td>False</td>\n",
              "    </tr>\n",
              "    <tr>\n",
              "      <th>80</th>\n",
              "      <td>-8.943071</td>\n",
              "      <td>8.346425</td>\n",
              "      <td>0</td>\n",
              "      <td>0</td>\n",
              "      <td>True</td>\n",
              "    </tr>\n",
              "    <tr>\n",
              "      <th>97</th>\n",
              "      <td>-5.217731</td>\n",
              "      <td>-0.838299</td>\n",
              "      <td>0</td>\n",
              "      <td>0</td>\n",
              "      <td>True</td>\n",
              "    </tr>\n",
              "  </tbody>\n",
              "</table>\n",
              "</div>\n",
              "      <button class=\"colab-df-convert\" onclick=\"convertToInteractive('df-0a62015f-fea8-4e31-9fe8-8b2de795f1cb')\"\n",
              "              title=\"Convert this dataframe to an interactive table.\"\n",
              "              style=\"display:none;\">\n",
              "        \n",
              "  <svg xmlns=\"http://www.w3.org/2000/svg\" height=\"24px\"viewBox=\"0 0 24 24\"\n",
              "       width=\"24px\">\n",
              "    <path d=\"M0 0h24v24H0V0z\" fill=\"none\"/>\n",
              "    <path d=\"M18.56 5.44l.94 2.06.94-2.06 2.06-.94-2.06-.94-.94-2.06-.94 2.06-2.06.94zm-11 1L8.5 8.5l.94-2.06 2.06-.94-2.06-.94L8.5 2.5l-.94 2.06-2.06.94zm10 10l.94 2.06.94-2.06 2.06-.94-2.06-.94-.94-2.06-.94 2.06-2.06.94z\"/><path d=\"M17.41 7.96l-1.37-1.37c-.4-.4-.92-.59-1.43-.59-.52 0-1.04.2-1.43.59L10.3 9.45l-7.72 7.72c-.78.78-.78 2.05 0 2.83L4 21.41c.39.39.9.59 1.41.59.51 0 1.02-.2 1.41-.59l7.78-7.78 2.81-2.81c.8-.78.8-2.07 0-2.86zM5.41 20L4 18.59l7.72-7.72 1.47 1.35L5.41 20z\"/>\n",
              "  </svg>\n",
              "      </button>\n",
              "      \n",
              "  <style>\n",
              "    .colab-df-container {\n",
              "      display:flex;\n",
              "      flex-wrap:wrap;\n",
              "      gap: 12px;\n",
              "    }\n",
              "\n",
              "    .colab-df-convert {\n",
              "      background-color: #E8F0FE;\n",
              "      border: none;\n",
              "      border-radius: 50%;\n",
              "      cursor: pointer;\n",
              "      display: none;\n",
              "      fill: #1967D2;\n",
              "      height: 32px;\n",
              "      padding: 0 0 0 0;\n",
              "      width: 32px;\n",
              "    }\n",
              "\n",
              "    .colab-df-convert:hover {\n",
              "      background-color: #E2EBFA;\n",
              "      box-shadow: 0px 1px 2px rgba(60, 64, 67, 0.3), 0px 1px 3px 1px rgba(60, 64, 67, 0.15);\n",
              "      fill: #174EA6;\n",
              "    }\n",
              "\n",
              "    [theme=dark] .colab-df-convert {\n",
              "      background-color: #3B4455;\n",
              "      fill: #D2E3FC;\n",
              "    }\n",
              "\n",
              "    [theme=dark] .colab-df-convert:hover {\n",
              "      background-color: #434B5C;\n",
              "      box-shadow: 0px 1px 3px 1px rgba(0, 0, 0, 0.15);\n",
              "      filter: drop-shadow(0px 1px 2px rgba(0, 0, 0, 0.3));\n",
              "      fill: #FFFFFF;\n",
              "    }\n",
              "  </style>\n",
              "\n",
              "      <script>\n",
              "        const buttonEl =\n",
              "          document.querySelector('#df-0a62015f-fea8-4e31-9fe8-8b2de795f1cb button.colab-df-convert');\n",
              "        buttonEl.style.display =\n",
              "          google.colab.kernel.accessAllowed ? 'block' : 'none';\n",
              "\n",
              "        async function convertToInteractive(key) {\n",
              "          const element = document.querySelector('#df-0a62015f-fea8-4e31-9fe8-8b2de795f1cb');\n",
              "          const dataTable =\n",
              "            await google.colab.kernel.invokeFunction('convertToInteractive',\n",
              "                                                     [key], {});\n",
              "          if (!dataTable) return;\n",
              "\n",
              "          const docLinkHtml = 'Like what you see? Visit the ' +\n",
              "            '<a target=\"_blank\" href=https://colab.research.google.com/notebooks/data_table.ipynb>data table notebook</a>'\n",
              "            + ' to learn more about interactive tables.';\n",
              "          element.innerHTML = '';\n",
              "          dataTable['output_type'] = 'display_data';\n",
              "          await google.colab.output.renderOutput(dataTable, element);\n",
              "          const docLink = document.createElement('div');\n",
              "          docLink.innerHTML = docLinkHtml;\n",
              "          element.appendChild(docLink);\n",
              "        }\n",
              "      </script>\n",
              "    </div>\n",
              "  </div>\n",
              "  "
            ]
          },
          "metadata": {},
          "execution_count": 226
        }
      ]
    },
    {
      "cell_type": "markdown",
      "source": [
        "A coluna `Igual?` traz se a predição corresponde ou não ao valor esperado. Ao final, é sobre esse resultado que são produzidas todas as métricas, mas ao invés de empregarmos esses dados *brutos* para análise vamos empregar funções que já trazem resultados mais sumarizados. Afinal, acima são apenas 36 casos e duas classes, mas poderíamos estar lidando com milhares de casos e dezenas de classes, e o uso de uma tabela como acima seria iria requerer um grande esforço para análise."
      ],
      "metadata": {
        "id": "if24bWhciSdK"
      }
    },
    {
      "cell_type": "markdown",
      "source": [
        "A matriz de confusão é uma matriz que sumariza os resultados de acertos e erros do modelo para avaliar o desempenho da classificação. É uma matriz quadrada, $n \\times n$  onde $n$ é o número de classes objetivo. Lembrando que avaliamos o modelo sobre os resultados no conjunto de teste, a matriz compara os valores reais (conjunto de teste) com aqueles estimados pelo modelo do mesmo modo que nossa tabela acima com a coluna `Igual?`, mas trazendo a informação de modo bastante mais sumarizado. \n",
        "\n",
        "Ela permite uma visão mais ampla do desempenho do modelo, que a simples medida de acuracidade, pois permite identificar os tipos de erros que o modelo está cometendo.\n",
        "\n",
        "Em problema de classificação binária, como no nosso exemplo anterior, a matriz de confusão é uma matriz $2 \\times 2$ com o seguinte formato:"
      ],
      "metadata": {
        "id": "DXvdc9aOh32K"
      }
    },
    {
      "cell_type": "markdown",
      "metadata": {
        "id": "4lC0xSTIb52T"
      },
      "source": [
        "![imagem](https://github.com/Rogerio-mack/Machine-Learning-I/raw/main/Figures/matriz_de_confusao.png) "
      ]
    },
    {
      "cell_type": "markdown",
      "source": [
        "<small><b>Fig 1. Matriz de Confusão."
      ],
      "metadata": {
        "id": "KH_yPfKapZmW"
      }
    },
    {
      "cell_type": "markdown",
      "source": [
        "Onde as linhas representam os dados de teste e as colunas os valores previstos. Vamos explorar essa matriz.\n",
        "\n",
        "> **Na Matriz de Confusão as linhas representam os dados de teste e as colunas os valores previstos. Vale a pena você se deter um pouco sobre isso e de fato entender os valores em cada linha e coluna da Matriz de Confusão.**\n",
        "\n",
        "Isso em geral traz uma certa *confusão* nos alunos (desculpem o trocadilho! rs), pois poderíamos ter adotado uma ordem diferente, com os dados de teste nas linhas e os valores previstos nas colunas. Essa ordem de fato aparece em muitas referências pois sua interpretação permanece a mesma independentemente da ordem escolhida. Por  que então escolhemos  as linhas para representar os dados de teste e as colunas os valores previstos? Porque as funções do scikit-learn em geral têm esse padrão e adotaremos essa ordem nas análises e interpretações.  \n",
        "\n",
        "> **Cuidado: A ordem dos dados de teste e predições, em linhas ou colunas, pode ser qualquer em uma Matriz de Confusão. Por que escolhemos  as linhas para representar os dados de teste e as colunas os valores previstos? Por que as funções do scikit-learn em geral têm esse padrão e adotaremos essa ordem nas análises e interpretações.**\n"
      ],
      "metadata": {
        "id": "EEnPqvWPj3g6"
      }
    },
    {
      "cell_type": "markdown",
      "metadata": {
        "id": "RHKPV-aCUGd5"
      },
      "source": [
        "Outro ponto é a ordem dos rótulos ou valores. A ordem dos labels, se não especificada será a ordem alfabética. Se consideramos '1' o caso positivo pode ser interessante colocarmos a ordem [1,0] para nossos propósitos.\n",
        "\n",
        "\n",
        "Veja abaixo algumas explorações da Matriz de Confusão neste caso simples. Procure entender de fato como ela funciona!"
      ]
    },
    {
      "cell_type": "code",
      "metadata": {
        "colab": {
          "base_uri": "https://localhost:8080/"
        },
        "id": "lhcEoi8GKl2v",
        "outputId": "7ae60651-12ca-4269-dd18-64baa66a170d"
      },
      "source": [
        "cm = confusion_matrix(y_test, y_pred, labels=[1,0])\n",
        "print('\\nMatriz de Confusão:\\n')\n",
        "\n",
        "print('\\t\\t\\t    y_pred \\n')\n",
        "print('\\t\\t\\t 0 \\t 1')\n",
        "print('\\t\\t' + 29*'-')\n",
        "print('\\t\\t  0  | \\t ' + str(cm[1,1]) + '\\t' + str(cm[1,0]) + '    |  ' + str(cm[1,0] + cm[1,1]))\n",
        "print('      y_test  \\t  1  | \\t ' + str(cm[0,1]) + '\\t' + str(cm[0,0]) + '    |  ' + str(cm[0,0] + cm[0,1]))\n",
        "\n",
        "print('\\t\\t' + 29*'-')\n",
        "print('\\t\\t     | \\t ' + str(cm[0,1] + cm[1,1]) + '\\t' + str(cm[0,0] + cm[1,0]) + '   |  ')\n",
        "\n"
      ],
      "execution_count": null,
      "outputs": [
        {
          "output_type": "stream",
          "name": "stdout",
          "text": [
            "\n",
            "Matriz de Confusão:\n",
            "\n",
            "\t\t\t    y_pred \n",
            "\n",
            "\t\t\t 0 \t 1\n",
            "\t\t-----------------------------\n",
            "\t\t  0  | \t 24\t0    |  24\n",
            "      y_test  \t  1  | \t 11\t1    |  12\n",
            "\t\t-----------------------------\n",
            "\t\t     | \t 35\t1   |  \n"
          ]
        }
      ]
    },
    {
      "cell_type": "markdown",
      "metadata": {
        "id": "vZDYB6atU5aR"
      },
      "source": [
        "É um bom exercício para entender essa matriz verificar alguns de seus valores, como por exemplo a soma das linhas e colunas: "
      ]
    },
    {
      "cell_type": "code",
      "metadata": {
        "colab": {
          "base_uri": "https://localhost:8080/"
        },
        "id": "QsFBhOLUN4zY",
        "outputId": "db2569d8-f186-435e-ccd4-2a703646aeb2"
      },
      "source": [
        "print( (y_test == 1).sum(), (y_test == 0).sum() )\n",
        "print( (y_pred == 1).sum(), (y_pred == 0).sum() )"
      ],
      "execution_count": null,
      "outputs": [
        {
          "output_type": "stream",
          "name": "stdout",
          "text": [
            "12 24\n",
            "1 35\n"
          ]
        }
      ]
    },
    {
      "cell_type": "markdown",
      "metadata": {
        "id": "xCdQGQEOVPzC"
      },
      "source": [
        "De fato 12, 24 (soma das linhas) correspondem às quantidades de elementos reais classes 1 e 0 em `y_test`."
      ]
    },
    {
      "cell_type": "code",
      "source": [
        "y_test.value_counts()"
      ],
      "metadata": {
        "colab": {
          "base_uri": "https://localhost:8080/"
        },
        "id": "AB3jyAIVevP8",
        "outputId": "2bcac313-1928-4044-f15e-3768cafc8a13"
      },
      "execution_count": null,
      "outputs": [
        {
          "output_type": "execute_result",
          "data": {
            "text/plain": [
              "0    24\n",
              "1    12\n",
              "Name: y, dtype: int64"
            ]
          },
          "metadata": {},
          "execution_count": 229
        }
      ]
    },
    {
      "cell_type": "markdown",
      "source": [
        "Já os valores 1  e 35 (soma das colunas) correspondem às quantidades de elementos previstos nas classes 1 e 0 em `y_pred`. \n",
        "\n"
      ],
      "metadata": {
        "id": "DbdhKnG2euRD"
      }
    },
    {
      "cell_type": "code",
      "source": [
        "np.unique(y_pred, return_counts=True)"
      ],
      "metadata": {
        "colab": {
          "base_uri": "https://localhost:8080/"
        },
        "id": "NP8ha4upe5wB",
        "outputId": "d4166f57-9be9-4f6a-dca0-b0d248640d5f"
      },
      "execution_count": null,
      "outputs": [
        {
          "output_type": "execute_result",
          "data": {
            "text/plain": [
              "(array([0, 1]), array([35,  1]))"
            ]
          },
          "metadata": {},
          "execution_count": 230
        }
      ]
    },
    {
      "cell_type": "markdown",
      "source": [
        "E você ainda pode verificar as instâncias classificadas corretamente para cada classe, que são os elementos da diagonal em que coincidem das classes reais e previstas pelo modelo."
      ],
      "metadata": {
        "id": "GIvSFylJfRqW"
      }
    },
    {
      "cell_type": "code",
      "metadata": {
        "colab": {
          "base_uri": "https://localhost:8080/"
        },
        "id": "x9hxF0SBO28o",
        "outputId": "8cd3deb9-2ed8-4a5a-eec3-fbe0cda6c7ed"
      },
      "source": [
        "print( ( y_test + y_pred == 2 ).sum() ) # ambos 1\n",
        "print( ( y_test + y_pred == 0 ).sum() ) # ambos 0"
      ],
      "execution_count": null,
      "outputs": [
        {
          "output_type": "stream",
          "name": "stdout",
          "text": [
            "1\n",
            "24\n"
          ]
        }
      ]
    },
    {
      "cell_type": "markdown",
      "metadata": {
        "id": "MUydkZ5hWw4R"
      },
      "source": [
        "Dessa matriz saem todos os valores e métricas úteis para a análise dos resultados. Particularmente, interessam os valores: \n",
        "\n",
        "* **Verdadeiro positivo (TP)**, em que valor previsto corresponde ao valor real, isto é o valor real era positivo e o modelo previu um valor positivo\n",
        "\n",
        "* **Verdadeiro negativo (TN)**, em que o valor real era negativo e o modelo previu um valor negativo também corretamente\n",
        "\n",
        "* **Falso Positivo (FP)**, Ou **Erro Tipo 1**, em que o valor real era negativo, mas o modelo previu um valor positivo. É o caso em que o modelo é **superestimado**, gerando falsos alarmes.\n",
        "\n",
        "* **Falso negativo (FN)**, Ou **Erro tipo 2**, em que o valor real era positivo, mas o modelo previu um valor negativo. É o caso em que o modelo é **substimado**, gerando perda de casos positivos.\n",
        "\n"
      ]
    },
    {
      "cell_type": "code",
      "source": [
        "cm = confusion_matrix(y_test, y_pred, labels=[1,0])\n",
        "print('\\nMatriz de Confusão:\\n')\n",
        "\n",
        "print('\\t\\t\\t    y_pred \\n')\n",
        "print('\\t\\t\\t 0 \\t 1')\n",
        "print('\\t\\t' + 29*'-')\n",
        "print('\\t\\t  0  | \\t ' + 'TP=' + str(cm[1,1]) + '\\t' + 'FN=' + str(cm[1,0]) + '    |  ' + str(cm[1,0] + cm[1,1]))\n",
        "print('      y_test  \\t  1  | \\t ' + 'FP=' + str(cm[0,1]) + '\\t' + 'TN=' + str(cm[0,0]) + '    |  ' + str(cm[0,0] + cm[0,1]))\n",
        "\n",
        "print('\\t\\t' + 29*'-')\n",
        "print('\\t\\t     | \\t ' + str(cm[0,1] + cm[1,1]) + '\\t' + str(cm[0,0] + cm[1,0]) + '       |  ')"
      ],
      "metadata": {
        "colab": {
          "base_uri": "https://localhost:8080/"
        },
        "id": "OMx0wgvNEMny",
        "outputId": "a1bb8d30-820d-4775-8bfb-cadbac52d13d"
      },
      "execution_count": null,
      "outputs": [
        {
          "output_type": "stream",
          "name": "stdout",
          "text": [
            "\n",
            "Matriz de Confusão:\n",
            "\n",
            "\t\t\t    y_pred \n",
            "\n",
            "\t\t\t 0 \t 1\n",
            "\t\t-----------------------------\n",
            "\t\t  0  | \t TP=24\tFN=0    |  24\n",
            "      y_test  \t  1  | \t FP=11\tTN=1    |  12\n",
            "\t\t-----------------------------\n",
            "\t\t     | \t 35\t1       |  \n"
          ]
        }
      ]
    },
    {
      "cell_type": "markdown",
      "source": [
        "Esses valores já permitem você identificar que nosso modelo não tem a mesma eficiência para as duas classes. \n",
        "\n",
        "Nosso modelo é superestimado, ele prevê muito mais casos positivos do que na realidade acontecem. Ele previu com sucesso 100% dos casos positivo, isto é, não há nenhum falso negativo ou *erro tipo 2*. Entretanto, sendo superestimado, produz um grande número (a maior parte, ou 11 em cada 12 casos) falsos positivos, ou *erro tipo 1*. \n",
        "\n",
        "Por exemplo, se 0 (positivo) representa pacientes com diagnóstico positivo para uma doença, nosso detecta corretamente 100% dos casos da doença, mas gera um número muito grande de falsos positivos e não serviria, portanto, para ser empregado em um exame (embora o erro tipo 2, não detectar os casos positivos fosse, no caso de doenças ainda mais grave). Desse modo, você pode concluir que nosso modelo, que não parecia tão ruim à primeira vista, é de fato um modelo que não pode ser empregado. \n",
        "\n",
        "Dessas medidas  $TP+FP+TN+FN$ se derivam dezenas de métricas de eficiência dos modelos. Nos deteremos aqui apenas nas mais importantes e você pode consultar https://en.wikipedia.org/wiki/Confusion_matrix para muitas outras métricas."
      ],
      "metadata": {
        "id": "tH-o8oU_EHBP"
      }
    },
    {
      "cell_type": "markdown",
      "metadata": {
        "id": "zlgO_DHUcqTi"
      },
      "source": [
        "## Acuracidade\n",
        "\n",
        "Você já conhece essa métrica e apenas vamos verificar que, como outras métricas, ela pode ser obtida diretamente da matriz de confusão: \n",
        "\n",
        "$$ Accuracy = \\frac{TP+TN}{TP+FP+TN+FN} $$\n",
        "\n",
        "Note que $TP+TN$ é a soma dos valores diagonais, ou o total de acertos, e $TP+FP+TN+FN$ é simplesmente a soma de todos valores, ou o total de casos.\n",
        "\n",
        "$$ Accuracy = \\frac{Total de Acertos}{Total de Casos} $$"
      ]
    },
    {
      "cell_type": "code",
      "metadata": {
        "colab": {
          "base_uri": "https://localhost:8080/"
        },
        "id": "-pf8CO618ied",
        "outputId": "a944d5d4-2d34-45a6-f347-cce9f1a04692"
      },
      "source": [
        "cm = confusion_matrix(y_test, y_pred)\n",
        "print('\\nMatriz de Confusão:\\n')\n",
        "print(cm)\n",
        "\n",
        "TP, FP, FN, TN = cm.T.ravel()\n",
        "print('\\nTP = ', TP, '\\nFP = ', FP, '\\nFN = ', FN, '\\nTN = ', TN)"
      ],
      "execution_count": null,
      "outputs": [
        {
          "output_type": "stream",
          "name": "stdout",
          "text": [
            "\n",
            "Matriz de Confusão:\n",
            "\n",
            "[[24  0]\n",
            " [11  1]]\n",
            "\n",
            "TP =  24 \n",
            "FP =  11 \n",
            "FN =  0 \n",
            "TN =  1\n"
          ]
        }
      ]
    },
    {
      "cell_type": "code",
      "metadata": {
        "colab": {
          "base_uri": "https://localhost:8080/"
        },
        "id": "YwY-2kc3ByxO",
        "outputId": "5e06c4d1-dc0e-46c4-d397-20625893291d"
      },
      "source": [
        "Accuracy = (TP+TN)/(TP+FP+TN+FN)\n",
        "print(f'{Accuracy:.2f}')"
      ],
      "execution_count": null,
      "outputs": [
        {
          "output_type": "stream",
          "name": "stdout",
          "text": [
            "0.69\n"
          ]
        }
      ]
    },
    {
      "cell_type": "markdown",
      "metadata": {
        "id": "4QC6tXbpEa1-"
      },
      "source": [
        "## Precisão e *Recall*\n",
        "\n",
        "Outras duas métricas importante são a Precisão e o *Recall*,\n",
        "\n",
        "$$ Precision = \\frac{TP}{TP + FP} $$\n",
        "\n",
        "e\n",
        "\n",
        "$$ Recall = \\frac{TP}{TP + FN} $$\n",
        "\n",
        "\n",
        "Mas o que de fato essas métricas nos dizem? Você dificilmente irá guardar essas fórmulas. Mas é mais importante, e talvez até mais fácil, entender o conceito por trás dessas métricas o que já nos dá um modo direto de calcular os seus valores. \n",
        "\n",
        "A Precisão é um valor que, dados todos elementos previstos uma classe, quantos foram previstos corretamente. Isto é, o percentual dos casos que de fato pertencem àquela classe. No nosso exemplo, 69% são de fato positivos e, portanto, 31% são valores FP.\n",
        "\n",
        "O *Recall* (Revocação, ou Sensibilidade) por outro lado nos diz quantos casos de uma determinada classe foram corretamente previstos. E você pode pensar que precisamos fazer uma nova busca (*recall*) para os elementos da classe que ainda não foram identificados! No nosso exemplo, 100% dos casos positivos foram corretamente identificados.\n"
      ]
    },
    {
      "cell_type": "code",
      "metadata": {
        "colab": {
          "base_uri": "https://localhost:8080/"
        },
        "id": "_NcQrBWV9j5E",
        "outputId": "12b82138-a814-44b7-bf33-02b0557abfe6"
      },
      "source": [
        "Precision = TP/(TP + FP)\n",
        "print(f'{Precision:.2f}')"
      ],
      "execution_count": null,
      "outputs": [
        {
          "output_type": "stream",
          "name": "stdout",
          "text": [
            "0.69\n"
          ]
        }
      ]
    },
    {
      "cell_type": "code",
      "metadata": {
        "colab": {
          "base_uri": "https://localhost:8080/"
        },
        "id": "dBGd1F9-98mN",
        "outputId": "7ce90411-51c5-472c-b18b-eb41b09f13e5"
      },
      "source": [
        "Recall = TP/(TP + FN)\n",
        "print(f'{Recall:.2f}')"
      ],
      "execution_count": null,
      "outputs": [
        {
          "output_type": "stream",
          "name": "stdout",
          "text": [
            "1.00\n"
          ]
        }
      ]
    },
    {
      "cell_type": "markdown",
      "metadata": {
        "id": "WJlwHc9_gHAE"
      },
      "source": [
        "Esses mesmos valores você pode observar no `classification_report` do `scikit-learn`.  Os valores acima são os valores para a classe 0 (o caso positivo), sendo a primeira classe da matriz de confusão e do `classification_report`. Se você quiser trocar a classe positiva pode empregar o parâmetro `labels` em ambas as funções. \n",
        "\n",
        "A última métrica é o F1-score que pode ser entendido como uma média harmônica dos valores de precisão e recall:\n",
        "\n",
        "$$ F1-score = \\frac{2}{1/Recall + 1/Precision}$$\n",
        "\n",
        "Na prática, quando tentamos aumentar a precisão do nosso modelo, o recall diminui e vice-versa. A pontuação F1 permite capturar ambas as tendências em um único valor e, por isso é bastante empregada sendo seu valor máximo quando a precisão e o recall são iguais.\n",
        "\n",
        "\n"
      ]
    },
    {
      "cell_type": "code",
      "metadata": {
        "colab": {
          "base_uri": "https://localhost:8080/"
        },
        "id": "dZYFh-TzAQ1O",
        "outputId": "09478e24-c706-4a52-dc20-32fd1a087ef7"
      },
      "source": [
        "F1_score = 2 / ( (1/Recall) + (1/Precision) )\n",
        "print(f'{F1_score:.2f}')"
      ],
      "execution_count": null,
      "outputs": [
        {
          "output_type": "stream",
          "name": "stdout",
          "text": [
            "0.81\n"
          ]
        }
      ]
    },
    {
      "cell_type": "markdown",
      "metadata": {
        "id": "sLbQRZrWhzMD"
      },
      "source": [
        "## Classification Report"
      ]
    },
    {
      "cell_type": "markdown",
      "metadata": {
        "id": "b3gt658TheeV"
      },
      "source": [
        "Todos  conceitos acima são importantes para entendermos as métricas, mas todas essas métricas são mais facilmente obtidas no `classification_report`."
      ]
    },
    {
      "cell_type": "code",
      "metadata": {
        "colab": {
          "base_uri": "https://localhost:8080/"
        },
        "id": "IoUMH-ZDh5Jt",
        "outputId": "417d56ca-9788-40a0-f719-f29d6158e2a4"
      },
      "source": [
        "print('\\nClassification Report:\\n')\n",
        "print(classification_report(y_test, y_pred))"
      ],
      "execution_count": null,
      "outputs": [
        {
          "output_type": "stream",
          "name": "stdout",
          "text": [
            "\n",
            "Classification Report:\n",
            "\n",
            "              precision    recall  f1-score   support\n",
            "\n",
            "           0       0.69      1.00      0.81        24\n",
            "           1       1.00      0.08      0.15        12\n",
            "\n",
            "    accuracy                           0.69        36\n",
            "   macro avg       0.84      0.54      0.48        36\n",
            "weighted avg       0.79      0.69      0.59        36\n",
            "\n"
          ]
        }
      ]
    },
    {
      "cell_type": "markdown",
      "metadata": {
        "id": "tXwvzB1ah9Lc"
      },
      "source": [
        "Além das métricas que já discutimos você encontra os valores de suporte, que nada mais são que as quantidades de casos de cada classe. Esse valor é importante para identificarmos classes desbalanceadas e são empregados para o cálculo das médias ponderadas das métricas `weighted avg`. O `macro avg`, por outro lado, é apenas a média das métricas de todas as classes de dados. "
      ]
    },
    {
      "cell_type": "markdown",
      "metadata": {
        "id": "jAYKaGirkhpN"
      },
      "source": [
        "# CASO: 10 year risk of coronary heart disease CHD\n",
        "\n",
        "Vamos revisitar o exemplo da aula anterior em que previmos um paciente com 10 anos de risco de futura doença cardíaca coronariana (ACS) e analisar melhor os resultados obtidos. Nossa variável objetivo aqui é `TenYearCHD`, *10 year risk of coronary heart disease CHD* (onde “1”, significa “Yes”, “0” significa “No”)\n"
      ]
    },
    {
      "cell_type": "code",
      "metadata": {
        "colab": {
          "base_uri": "https://localhost:8080/",
          "height": 250
        },
        "id": "gJnhfWGxg9OI",
        "outputId": "70c69a10-d9b4-4c61-b426-87dd39b94657"
      },
      "source": [
        "df = pd.read_csv('https://raw.githubusercontent.com/TarekDib03/Analytics/master/Week3%20-%20Logistic%20Regression/Data/framingham.csv')\n",
        "df.head()"
      ],
      "execution_count": null,
      "outputs": [
        {
          "output_type": "execute_result",
          "data": {
            "text/plain": [
              "   male  age  education  currentSmoker  cigsPerDay  BPMeds  prevalentStroke  \\\n",
              "0     1   39        4.0              0         0.0     0.0                0   \n",
              "1     0   46        2.0              0         0.0     0.0                0   \n",
              "2     1   48        1.0              1        20.0     0.0                0   \n",
              "3     0   61        3.0              1        30.0     0.0                0   \n",
              "4     0   46        3.0              1        23.0     0.0                0   \n",
              "\n",
              "   prevalentHyp  diabetes  totChol  sysBP  diaBP    BMI  heartRate  glucose  \\\n",
              "0             0         0    195.0  106.0   70.0  26.97       80.0     77.0   \n",
              "1             0         0    250.0  121.0   81.0  28.73       95.0     76.0   \n",
              "2             0         0    245.0  127.5   80.0  25.34       75.0     70.0   \n",
              "3             1         0    225.0  150.0   95.0  28.58       65.0    103.0   \n",
              "4             0         0    285.0  130.0   84.0  23.10       85.0     85.0   \n",
              "\n",
              "   TenYearCHD  \n",
              "0           0  \n",
              "1           0  \n",
              "2           0  \n",
              "3           1  \n",
              "4           0  "
            ],
            "text/html": [
              "\n",
              "  <div id=\"df-3195f04b-7ccc-478b-9c16-514af78a7e2f\">\n",
              "    <div class=\"colab-df-container\">\n",
              "      <div>\n",
              "<style scoped>\n",
              "    .dataframe tbody tr th:only-of-type {\n",
              "        vertical-align: middle;\n",
              "    }\n",
              "\n",
              "    .dataframe tbody tr th {\n",
              "        vertical-align: top;\n",
              "    }\n",
              "\n",
              "    .dataframe thead th {\n",
              "        text-align: right;\n",
              "    }\n",
              "</style>\n",
              "<table border=\"1\" class=\"dataframe\">\n",
              "  <thead>\n",
              "    <tr style=\"text-align: right;\">\n",
              "      <th></th>\n",
              "      <th>male</th>\n",
              "      <th>age</th>\n",
              "      <th>education</th>\n",
              "      <th>currentSmoker</th>\n",
              "      <th>cigsPerDay</th>\n",
              "      <th>BPMeds</th>\n",
              "      <th>prevalentStroke</th>\n",
              "      <th>prevalentHyp</th>\n",
              "      <th>diabetes</th>\n",
              "      <th>totChol</th>\n",
              "      <th>sysBP</th>\n",
              "      <th>diaBP</th>\n",
              "      <th>BMI</th>\n",
              "      <th>heartRate</th>\n",
              "      <th>glucose</th>\n",
              "      <th>TenYearCHD</th>\n",
              "    </tr>\n",
              "  </thead>\n",
              "  <tbody>\n",
              "    <tr>\n",
              "      <th>0</th>\n",
              "      <td>1</td>\n",
              "      <td>39</td>\n",
              "      <td>4.0</td>\n",
              "      <td>0</td>\n",
              "      <td>0.0</td>\n",
              "      <td>0.0</td>\n",
              "      <td>0</td>\n",
              "      <td>0</td>\n",
              "      <td>0</td>\n",
              "      <td>195.0</td>\n",
              "      <td>106.0</td>\n",
              "      <td>70.0</td>\n",
              "      <td>26.97</td>\n",
              "      <td>80.0</td>\n",
              "      <td>77.0</td>\n",
              "      <td>0</td>\n",
              "    </tr>\n",
              "    <tr>\n",
              "      <th>1</th>\n",
              "      <td>0</td>\n",
              "      <td>46</td>\n",
              "      <td>2.0</td>\n",
              "      <td>0</td>\n",
              "      <td>0.0</td>\n",
              "      <td>0.0</td>\n",
              "      <td>0</td>\n",
              "      <td>0</td>\n",
              "      <td>0</td>\n",
              "      <td>250.0</td>\n",
              "      <td>121.0</td>\n",
              "      <td>81.0</td>\n",
              "      <td>28.73</td>\n",
              "      <td>95.0</td>\n",
              "      <td>76.0</td>\n",
              "      <td>0</td>\n",
              "    </tr>\n",
              "    <tr>\n",
              "      <th>2</th>\n",
              "      <td>1</td>\n",
              "      <td>48</td>\n",
              "      <td>1.0</td>\n",
              "      <td>1</td>\n",
              "      <td>20.0</td>\n",
              "      <td>0.0</td>\n",
              "      <td>0</td>\n",
              "      <td>0</td>\n",
              "      <td>0</td>\n",
              "      <td>245.0</td>\n",
              "      <td>127.5</td>\n",
              "      <td>80.0</td>\n",
              "      <td>25.34</td>\n",
              "      <td>75.0</td>\n",
              "      <td>70.0</td>\n",
              "      <td>0</td>\n",
              "    </tr>\n",
              "    <tr>\n",
              "      <th>3</th>\n",
              "      <td>0</td>\n",
              "      <td>61</td>\n",
              "      <td>3.0</td>\n",
              "      <td>1</td>\n",
              "      <td>30.0</td>\n",
              "      <td>0.0</td>\n",
              "      <td>0</td>\n",
              "      <td>1</td>\n",
              "      <td>0</td>\n",
              "      <td>225.0</td>\n",
              "      <td>150.0</td>\n",
              "      <td>95.0</td>\n",
              "      <td>28.58</td>\n",
              "      <td>65.0</td>\n",
              "      <td>103.0</td>\n",
              "      <td>1</td>\n",
              "    </tr>\n",
              "    <tr>\n",
              "      <th>4</th>\n",
              "      <td>0</td>\n",
              "      <td>46</td>\n",
              "      <td>3.0</td>\n",
              "      <td>1</td>\n",
              "      <td>23.0</td>\n",
              "      <td>0.0</td>\n",
              "      <td>0</td>\n",
              "      <td>0</td>\n",
              "      <td>0</td>\n",
              "      <td>285.0</td>\n",
              "      <td>130.0</td>\n",
              "      <td>84.0</td>\n",
              "      <td>23.10</td>\n",
              "      <td>85.0</td>\n",
              "      <td>85.0</td>\n",
              "      <td>0</td>\n",
              "    </tr>\n",
              "  </tbody>\n",
              "</table>\n",
              "</div>\n",
              "      <button class=\"colab-df-convert\" onclick=\"convertToInteractive('df-3195f04b-7ccc-478b-9c16-514af78a7e2f')\"\n",
              "              title=\"Convert this dataframe to an interactive table.\"\n",
              "              style=\"display:none;\">\n",
              "        \n",
              "  <svg xmlns=\"http://www.w3.org/2000/svg\" height=\"24px\"viewBox=\"0 0 24 24\"\n",
              "       width=\"24px\">\n",
              "    <path d=\"M0 0h24v24H0V0z\" fill=\"none\"/>\n",
              "    <path d=\"M18.56 5.44l.94 2.06.94-2.06 2.06-.94-2.06-.94-.94-2.06-.94 2.06-2.06.94zm-11 1L8.5 8.5l.94-2.06 2.06-.94-2.06-.94L8.5 2.5l-.94 2.06-2.06.94zm10 10l.94 2.06.94-2.06 2.06-.94-2.06-.94-.94-2.06-.94 2.06-2.06.94z\"/><path d=\"M17.41 7.96l-1.37-1.37c-.4-.4-.92-.59-1.43-.59-.52 0-1.04.2-1.43.59L10.3 9.45l-7.72 7.72c-.78.78-.78 2.05 0 2.83L4 21.41c.39.39.9.59 1.41.59.51 0 1.02-.2 1.41-.59l7.78-7.78 2.81-2.81c.8-.78.8-2.07 0-2.86zM5.41 20L4 18.59l7.72-7.72 1.47 1.35L5.41 20z\"/>\n",
              "  </svg>\n",
              "      </button>\n",
              "      \n",
              "  <style>\n",
              "    .colab-df-container {\n",
              "      display:flex;\n",
              "      flex-wrap:wrap;\n",
              "      gap: 12px;\n",
              "    }\n",
              "\n",
              "    .colab-df-convert {\n",
              "      background-color: #E8F0FE;\n",
              "      border: none;\n",
              "      border-radius: 50%;\n",
              "      cursor: pointer;\n",
              "      display: none;\n",
              "      fill: #1967D2;\n",
              "      height: 32px;\n",
              "      padding: 0 0 0 0;\n",
              "      width: 32px;\n",
              "    }\n",
              "\n",
              "    .colab-df-convert:hover {\n",
              "      background-color: #E2EBFA;\n",
              "      box-shadow: 0px 1px 2px rgba(60, 64, 67, 0.3), 0px 1px 3px 1px rgba(60, 64, 67, 0.15);\n",
              "      fill: #174EA6;\n",
              "    }\n",
              "\n",
              "    [theme=dark] .colab-df-convert {\n",
              "      background-color: #3B4455;\n",
              "      fill: #D2E3FC;\n",
              "    }\n",
              "\n",
              "    [theme=dark] .colab-df-convert:hover {\n",
              "      background-color: #434B5C;\n",
              "      box-shadow: 0px 1px 3px 1px rgba(0, 0, 0, 0.15);\n",
              "      filter: drop-shadow(0px 1px 2px rgba(0, 0, 0, 0.3));\n",
              "      fill: #FFFFFF;\n",
              "    }\n",
              "  </style>\n",
              "\n",
              "      <script>\n",
              "        const buttonEl =\n",
              "          document.querySelector('#df-3195f04b-7ccc-478b-9c16-514af78a7e2f button.colab-df-convert');\n",
              "        buttonEl.style.display =\n",
              "          google.colab.kernel.accessAllowed ? 'block' : 'none';\n",
              "\n",
              "        async function convertToInteractive(key) {\n",
              "          const element = document.querySelector('#df-3195f04b-7ccc-478b-9c16-514af78a7e2f');\n",
              "          const dataTable =\n",
              "            await google.colab.kernel.invokeFunction('convertToInteractive',\n",
              "                                                     [key], {});\n",
              "          if (!dataTable) return;\n",
              "\n",
              "          const docLinkHtml = 'Like what you see? Visit the ' +\n",
              "            '<a target=\"_blank\" href=https://colab.research.google.com/notebooks/data_table.ipynb>data table notebook</a>'\n",
              "            + ' to learn more about interactive tables.';\n",
              "          element.innerHTML = '';\n",
              "          dataTable['output_type'] = 'display_data';\n",
              "          await google.colab.output.renderOutput(dataTable, element);\n",
              "          const docLink = document.createElement('div');\n",
              "          docLink.innerHTML = docLinkHtml;\n",
              "          element.appendChild(docLink);\n",
              "        }\n",
              "      </script>\n",
              "    </div>\n",
              "  </div>\n",
              "  "
            ]
          },
          "metadata": {},
          "execution_count": 239
        }
      ]
    },
    {
      "cell_type": "markdown",
      "metadata": {
        "id": "Zp2b3etoryDq"
      },
      "source": [
        "## Preparação dos Dados\n",
        "\n"
      ]
    },
    {
      "cell_type": "markdown",
      "metadata": {
        "id": "OW82YY5csHg8"
      },
      "source": [
        "Vamos, como antes, simplesmente excluir os dados ausentes."
      ]
    },
    {
      "cell_type": "code",
      "metadata": {
        "colab": {
          "base_uri": "https://localhost:8080/"
        },
        "id": "tYPrMrKWlijk",
        "outputId": "2eb35e4e-d0d0-4c8c-d640-5c8555c6b893"
      },
      "source": [
        "print('Before',len(df))\n",
        "df = df.dropna()\n",
        "print('After',len(df))"
      ],
      "execution_count": null,
      "outputs": [
        {
          "output_type": "stream",
          "name": "stdout",
          "text": [
            "Before 4240\n",
            "After 3658\n"
          ]
        }
      ]
    },
    {
      "cell_type": "markdown",
      "metadata": {
        "id": "Kx7qoyTcs4jt"
      },
      "source": [
        "## Aplicando o Modelo Logístico"
      ]
    },
    {
      "cell_type": "markdown",
      "metadata": {
        "id": "ecHGTs1KsRZD"
      },
      "source": [
        "Aplicamos o modelo ajustando agora as entradas `X` e `y` para o modelo. O `max_iter` do regressor também foi ajustado para $10000$ uma vez que o conjunto de dados agora é maior e um maior número de iterações será necessário para convergência dos parâmetros."
      ]
    },
    {
      "cell_type": "code",
      "metadata": {
        "colab": {
          "base_uri": "https://localhost:8080/"
        },
        "id": "GNU4IEq5mCmy",
        "outputId": "681bab36-7a56-49e5-f245-5167ea58c8a7"
      },
      "source": [
        "from sklearn.linear_model import LogisticRegression \n",
        "from sklearn.model_selection import train_test_split\n",
        "\n",
        "X = df.drop(columns=['TenYearCHD'])\n",
        "y = df.TenYearCHD\n",
        "\n",
        "X_train, X_test, y_train, y_test = train_test_split(X, y, stratify=y, test_size=0.3, random_state=123)\n",
        "\n",
        "clf = LogisticRegression(max_iter=10000)\n",
        "\n",
        "clf.fit(X_train,y_train)\n",
        "\n",
        "y_pred = clf.predict(X_test)\n",
        "\n",
        "print( y_pred[0:10], '...' )\n",
        "print( f'{clf.score(X_test,y_test):.2f}' )"
      ],
      "execution_count": null,
      "outputs": [
        {
          "output_type": "stream",
          "name": "stdout",
          "text": [
            "[0 0 1 0 0 0 0 0 0 0] ...\n",
            "0.85\n"
          ]
        }
      ]
    },
    {
      "cell_type": "code",
      "source": [
        "from sklearn.metrics import confusion_matrix\n",
        "from sklearn.metrics import accuracy_score\n",
        "from sklearn.metrics import classification_report\n",
        "\n",
        "cm = confusion_matrix(y_test, y_pred)\n",
        "print('\\nMatriz de Confusão:\\n')\n",
        "print(cm)\n",
        "    \n",
        "accuracy = accuracy_score(y_test, y_pred)\n",
        "print('\\nScore de Acuracidade (1):\\n')\n",
        "print(f'{accuracy:.2f}')\n",
        "\n",
        "accuracy = clf.score(X_test, y_test)\n",
        "print('\\nScore de Acuracidade (2):\\n')\n",
        "print(f'{accuracy:.2f}')\n",
        "\n",
        "print('\\nClassification Report:\\n')\n",
        "print(classification_report(y_test, y_pred))"
      ],
      "metadata": {
        "colab": {
          "base_uri": "https://localhost:8080/"
        },
        "id": "lC9pzKyMY3mE",
        "outputId": "88945fdd-b2e5-477f-a261-895876f58684"
      },
      "execution_count": null,
      "outputs": [
        {
          "output_type": "stream",
          "name": "stdout",
          "text": [
            "\n",
            "Matriz de Confusão:\n",
            "\n",
            "[[921  10]\n",
            " [153  14]]\n",
            "\n",
            "Score de Acuracidade (1):\n",
            "\n",
            "0.85\n",
            "\n",
            "Score de Acuracidade (2):\n",
            "\n",
            "0.85\n",
            "\n",
            "Classification Report:\n",
            "\n",
            "              precision    recall  f1-score   support\n",
            "\n",
            "           0       0.86      0.99      0.92       931\n",
            "           1       0.58      0.08      0.15       167\n",
            "\n",
            "    accuracy                           0.85      1098\n",
            "   macro avg       0.72      0.54      0.53      1098\n",
            "weighted avg       0.82      0.85      0.80      1098\n",
            "\n"
          ]
        }
      ]
    },
    {
      "cell_type": "markdown",
      "metadata": {
        "id": "6nSsSBO2ipYz"
      },
      "source": [
        "## Análise \n",
        "\n",
        "Como você pode ver, apesar da acuracidade de $0.85$ do nosso modelo, ele acerta apenas pouco mais que uma moeda ($0.5$ é são as chances de cara ou coroa),  $0.56$, dos casos positivos de doença. Além disso apenas 0.08 dos casos de doença foram identificados pelo modelo. Esses dois valores se refletem também baixo F1-score médio desse modelo. Este é, portanto, um péssimo modelo se o objetivo é identificar pacientes em risco!\n",
        "\n",
        "\n",
        "\n",
        "\n",
        "\n",
        "\n"
      ]
    },
    {
      "cell_type": "markdown",
      "source": [
        "Como você viu na aula anterior (reveja o exemplo de *Acuracidade: Cuidado e Outras Métricas*), dados com classes desbalanceadas como esse (são somente 167 elementos da classe 1 para 931 casos da classe 0) são bastante comuns e há casos até bastante mais desbalanceados, com 1/100 ou 2/100, como casos de *churn de clientes*, *fraude de transações* ou mesmo diagnósticos de doenças graves. Em todos eles, é uma felicidade que a classe de maior risco seja realmente bastante menor. Mas para o aprendizado de máquina isso é um grande problema pois permite atingirmos facilmente uma acuracidade geral alta apesar do mal desempenho do modelo."
      ],
      "metadata": {
        "id": "urWlfUZmaJvD"
      }
    },
    {
      "cell_type": "markdown",
      "metadata": {
        "id": "R3U8AUVSdhyf"
      },
      "source": [
        "# Métricas: Seleção de Modelos e Parâmetros\n",
        "\n",
        "Modelos diferentes empregam princípios diferentes para fazerem as predições e geram, portanto, predições diferentes. Você pode imaginar, por exemplo, que para estimar um valor (modelos de regressão) você pode empregar um modelo linear ou exponencial, fórmulas que vão aproximar de modo diferente os dados e o mesmo ocorre nos modelos de classificação. \n",
        "\n",
        "Havendo predições diferentes, diferem também as métricas obtidas por cada modelo em um conjunto de dados e elas podem, então, serem empregadas para avaliar dois ou mais modelos que competem ou para ajustar parâmetros de um dado modelo.\n",
        "\n",
        "A seguir você vai aprender outros modelos de classificação e poderá ver como empregar essas métricas na Seleção de Modelos e Parâmetros.\n",
        "\n"
      ]
    },
    {
      "cell_type": "markdown",
      "metadata": {
        "id": "1LATgqCWUE_M"
      },
      "source": [
        "# K-Vizinhos Mais Próximos\n",
        "\n",
        "O K-Vizinhos mais Próximos, ou Knn (do inglês, K nearest neighbors) é um dos modelos mais simples de classificação, mas também bastante empregado. Seu funcionamento se baseia em um princípio muito simples que nós mesmos adotamos frequentemente no dia a dia, nós, por exemplo, nos assemelhamos às pessoas mais próximas de nós. Assim, é razoável supor que podemos classificar uma instância de acordo com a classe de seus vizinhos mais próximos."
      ]
    },
    {
      "cell_type": "code",
      "metadata": {
        "colab": {
          "base_uri": "https://localhost:8080/",
          "height": 424
        },
        "id": "YQ1TiEzR3L7u",
        "outputId": "48c0a637-8801-42fb-cd3f-eda89198fbeb"
      },
      "source": [
        "# you can skip this code!\n",
        "\n",
        "from sklearn.datasets import make_moons\n",
        "from sklearn.neighbors import DistanceMetric\n",
        "cmap_data = plt.cm.coolwarm \n",
        "\n",
        "X, y = make_moons(n_samples=100, noise=0.25, random_state=1234)\n",
        "moons = pd.DataFrame({'x1':X[:, 0], 'x2':X[:, 1], 'y':y})\n",
        "\n",
        "X, y = make_moons(n_samples=1, noise=0.25, random_state=123)\n",
        "# amoon = pd.DataFrame({'x1':X[:, 0], 'x2':X[:, 1], 'y':y})\n",
        "amoon = pd.DataFrame({'x1':[-.2], 'x2':[.3]})\n",
        "\n",
        "dist = DistanceMetric.get_metric('euclidean')\n",
        "moons['distance'] = dist.pairwise(moons[['x1','x2']],amoon[['x1','x2']])\n",
        "\n",
        "f, ax = plt.subplots(1,3,figsize=(15,5))\n",
        "cmap_data = plt.cm.coolwarm \n",
        "\n",
        "for i in range(3):\n",
        "  neighbors = moons.nsmallest([0,5,8][i],'distance')\n",
        "  ax[i].scatter(moons.x1, moons.x2, c=moons.y, cmap=cmap_data, alpha=0.4, s=80)\n",
        "  ax[i].scatter(neighbors.x1, neighbors.x2, c=neighbors.y, cmap=cmap_data, s=80)\n",
        "  ax[i].plot(amoon.x1, amoon.x2, 'ko', markersize=14, alpha=0.6)\n",
        "\n",
        "  a_circle = plt.Circle((amoon.x1, amoon.x2), neighbors.distance.max()+0.05, edgecolor='k', linestyle='dashed',fill=False)\n",
        "  ax[i].add_artist(a_circle)\n",
        "\n",
        "  ax[i].text(amoon.x1+0.2+i/10, amoon.x2+i/10,'Blue or Red?\\n', weight='bold', fontsize=16)\n",
        "  ax[i].text(amoon.x1+0.2+i/10, amoon.x2+i/10,' \\n' + str([0,5,8][i]) + '-neighbors', fontsize=16)\n",
        "  ax[i].set_title('Moons ' + str([0,5,8][i]) + '-neighbors',weight='bold',fontsize=14)\n",
        "  ax[i].set_xlabel(\"x1\")\n",
        "  ax[i].set_ylabel(\"x2\")\n",
        "\n",
        "  custom_lines = [Line2D([0], [0], color=cmap_data(0.), lw=6),\n",
        "                  Line2D([0], [0], color=cmap_data(1.), lw=6)]\n",
        "  ax[i].legend(custom_lines, ['Blue', 'Red'], loc='upper right',title='type')\n",
        "\n",
        "  ax[i].set_xlim([-0.9,1.4])\n",
        "  ax[i].set_ylim([-0.9,1.4])\n",
        "  ax[i].set_xticks([])\n",
        "  ax[i].set_yticks([])\n",
        "  # ax[i].axis('equal')\n",
        "\n",
        "plt.tight_layout()\n",
        "plt.show()\n"
      ],
      "execution_count": null,
      "outputs": [
        {
          "output_type": "stream",
          "name": "stderr",
          "text": [
            "/usr/local/lib/python3.7/dist-packages/sklearn/neighbors/_distance_metric.py:14: FutureWarning: sklearn.neighbors.DistanceMetric has been moved to sklearn.metrics.DistanceMetric in 1.0. This import path will be removed in 1.3\n",
            "  category=FutureWarning,\n"
          ]
        },
        {
          "output_type": "display_data",
          "data": {
            "text/plain": [
              "<Figure size 1080x360 with 3 Axes>"
            ],
            "image/png": "[encoded data removed]"
          },
          "metadata": {}
        }
      ]
    },
    {
      "cell_type": "markdown",
      "metadata": {
        "id": "vjf6qD-5V58V"
      },
      "source": [
        "O número k define quantos vizinhos queremos empregar na classificação. No exemplo acima, considerando 5 vizinhos, você pode verificar que há uma chance de $4/5$ de que a moon *cinza* seja uma moon *red*, e com 8 vizinhos a chance é de $6/8 = 3/4$ de ser *red*. Assim, assumimos nos dois casos a classe *red* para prever a classe do ponto selecionado."
      ]
    },
    {
      "cell_type": "markdown",
      "metadata": {
        "id": "h_0In2SwX1ul"
      },
      "source": [
        "## Knn *by scratch*\n",
        "\n",
        "O conceito do Knn é bastante simples o que permite implementar o algoritmo e verificar o seu funcionamento sem qualquer API ou pacote adicional. Basicamente o modelo consiste na execução de 3 passos:\n",
        "\n",
        "1. Calcular as distâncias do elemento desejado para os demais\n",
        "2. Encontrar os k-vizinhos mais próximos\n",
        "3. Retornar a classe mais frequente entre dos k-vizinhos \n",
        "\n",
        "O exemplo a seguir é um *exemplo de brinquedo* e foi livremente adaptado de [Sayad (2021)](https://www.saedsayad.com/data_mining_map.htm). A ideia é prever, com base na  idade, valor e retorno de empréstimos realizados anteriormente, a possibilidade de fazermos um bom ou mal empréstimo para um novo caso que desejamos avaliar. "
      ]
    },
    {
      "cell_type": "code",
      "metadata": {
        "colab": {
          "base_uri": "https://localhost:8080/",
          "height": 458
        },
        "id": "X1SKeq9TSXtR",
        "outputId": "69f13852-3204-4885-ee2b-31f36adbfb18"
      },
      "source": [
        "loans = pd.DataFrame({'age':[25,35,45,20,35,52,23,40,60,48,33],\n",
        "                      'loan':[40000,60000,80000,20000,120000,18000,95000,62000,100000,220000,150000],\n",
        "                      'default':[1,1,1,1,1,1,0,0,0,0,0] }) # 1='yes'\n",
        "\n",
        "case  = pd.DataFrame({'age':[47],'loan':[142000]})\n",
        "\n",
        "display(loans)\n",
        "display(case)"
      ],
      "execution_count": null,
      "outputs": [
        {
          "output_type": "display_data",
          "data": {
            "text/plain": [
              "    age    loan  default\n",
              "0    25   40000        1\n",
              "1    35   60000        1\n",
              "2    45   80000        1\n",
              "3    20   20000        1\n",
              "4    35  120000        1\n",
              "5    52   18000        1\n",
              "6    23   95000        0\n",
              "7    40   62000        0\n",
              "8    60  100000        0\n",
              "9    48  220000        0\n",
              "10   33  150000        0"
            ],
            "text/html": [
              "\n",
              "  <div id=\"df-7622209b-6312-4614-9657-6adc23f4f872\">\n",
              "    <div class=\"colab-df-container\">\n",
              "      <div>\n",
              "<style scoped>\n",
              "    .dataframe tbody tr th:only-of-type {\n",
              "        vertical-align: middle;\n",
              "    }\n",
              "\n",
              "    .dataframe tbody tr th {\n",
              "        vertical-align: top;\n",
              "    }\n",
              "\n",
              "    .dataframe thead th {\n",
              "        text-align: right;\n",
              "    }\n",
              "</style>\n",
              "<table border=\"1\" class=\"dataframe\">\n",
              "  <thead>\n",
              "    <tr style=\"text-align: right;\">\n",
              "      <th></th>\n",
              "      <th>age</th>\n",
              "      <th>loan</th>\n",
              "      <th>default</th>\n",
              "    </tr>\n",
              "  </thead>\n",
              "  <tbody>\n",
              "    <tr>\n",
              "      <th>0</th>\n",
              "      <td>25</td>\n",
              "      <td>40000</td>\n",
              "      <td>1</td>\n",
              "    </tr>\n",
              "    <tr>\n",
              "      <th>1</th>\n",
              "      <td>35</td>\n",
              "      <td>60000</td>\n",
              "      <td>1</td>\n",
              "    </tr>\n",
              "    <tr>\n",
              "      <th>2</th>\n",
              "      <td>45</td>\n",
              "      <td>80000</td>\n",
              "      <td>1</td>\n",
              "    </tr>\n",
              "    <tr>\n",
              "      <th>3</th>\n",
              "      <td>20</td>\n",
              "      <td>20000</td>\n",
              "      <td>1</td>\n",
              "    </tr>\n",
              "    <tr>\n",
              "      <th>4</th>\n",
              "      <td>35</td>\n",
              "      <td>120000</td>\n",
              "      <td>1</td>\n",
              "    </tr>\n",
              "    <tr>\n",
              "      <th>5</th>\n",
              "      <td>52</td>\n",
              "      <td>18000</td>\n",
              "      <td>1</td>\n",
              "    </tr>\n",
              "    <tr>\n",
              "      <th>6</th>\n",
              "      <td>23</td>\n",
              "      <td>95000</td>\n",
              "      <td>0</td>\n",
              "    </tr>\n",
              "    <tr>\n",
              "      <th>7</th>\n",
              "      <td>40</td>\n",
              "      <td>62000</td>\n",
              "      <td>0</td>\n",
              "    </tr>\n",
              "    <tr>\n",
              "      <th>8</th>\n",
              "      <td>60</td>\n",
              "      <td>100000</td>\n",
              "      <td>0</td>\n",
              "    </tr>\n",
              "    <tr>\n",
              "      <th>9</th>\n",
              "      <td>48</td>\n",
              "      <td>220000</td>\n",
              "      <td>0</td>\n",
              "    </tr>\n",
              "    <tr>\n",
              "      <th>10</th>\n",
              "      <td>33</td>\n",
              "      <td>150000</td>\n",
              "      <td>0</td>\n",
              "    </tr>\n",
              "  </tbody>\n",
              "</table>\n",
              "</div>\n",
              "      <button class=\"colab-df-convert\" onclick=\"convertToInteractive('df-7622209b-6312-4614-9657-6adc23f4f872')\"\n",
              "              title=\"Convert this dataframe to an interactive table.\"\n",
              "              style=\"display:none;\">\n",
              "        \n",
              "  <svg xmlns=\"http://www.w3.org/2000/svg\" height=\"24px\"viewBox=\"0 0 24 24\"\n",
              "       width=\"24px\">\n",
              "    <path d=\"M0 0h24v24H0V0z\" fill=\"none\"/>\n",
              "    <path d=\"M18.56 5.44l.94 2.06.94-2.06 2.06-.94-2.06-.94-.94-2.06-.94 2.06-2.06.94zm-11 1L8.5 8.5l.94-2.06 2.06-.94-2.06-.94L8.5 2.5l-.94 2.06-2.06.94zm10 10l.94 2.06.94-2.06 2.06-.94-2.06-.94-.94-2.06-.94 2.06-2.06.94z\"/><path d=\"M17.41 7.96l-1.37-1.37c-.4-.4-.92-.59-1.43-.59-.52 0-1.04.2-1.43.59L10.3 9.45l-7.72 7.72c-.78.78-.78 2.05 0 2.83L4 21.41c.39.39.9.59 1.41.59.51 0 1.02-.2 1.41-.59l7.78-7.78 2.81-2.81c.8-.78.8-2.07 0-2.86zM5.41 20L4 18.59l7.72-7.72 1.47 1.35L5.41 20z\"/>\n",
              "  </svg>\n",
              "      </button>\n",
              "      \n",
              "  <style>\n",
              "    .colab-df-container {\n",
              "      display:flex;\n",
              "      flex-wrap:wrap;\n",
              "      gap: 12px;\n",
              "    }\n",
              "\n",
              "    .colab-df-convert {\n",
              "      background-color: #E8F0FE;\n",
              "      border: none;\n",
              "      border-radius: 50%;\n",
              "      cursor: pointer;\n",
              "      display: none;\n",
              "      fill: #1967D2;\n",
              "      height: 32px;\n",
              "      padding: 0 0 0 0;\n",
              "      width: 32px;\n",
              "    }\n",
              "\n",
              "    .colab-df-convert:hover {\n",
              "      background-color: #E2EBFA;\n",
              "      box-shadow: 0px 1px 2px rgba(60, 64, 67, 0.3), 0px 1px 3px 1px rgba(60, 64, 67, 0.15);\n",
              "      fill: #174EA6;\n",
              "    }\n",
              "\n",
              "    [theme=dark] .colab-df-convert {\n",
              "      background-color: #3B4455;\n",
              "      fill: #D2E3FC;\n",
              "    }\n",
              "\n",
              "    [theme=dark] .colab-df-convert:hover {\n",
              "      background-color: #434B5C;\n",
              "      box-shadow: 0px 1px 3px 1px rgba(0, 0, 0, 0.15);\n",
              "      filter: drop-shadow(0px 1px 2px rgba(0, 0, 0, 0.3));\n",
              "      fill: #FFFFFF;\n",
              "    }\n",
              "  </style>\n",
              "\n",
              "      <script>\n",
              "        const buttonEl =\n",
              "          document.querySelector('#df-7622209b-6312-4614-9657-6adc23f4f872 button.colab-df-convert');\n",
              "        buttonEl.style.display =\n",
              "          google.colab.kernel.accessAllowed ? 'block' : 'none';\n",
              "\n",
              "        async function convertToInteractive(key) {\n",
              "          const element = document.querySelector('#df-7622209b-6312-4614-9657-6adc23f4f872');\n",
              "          const dataTable =\n",
              "            await google.colab.kernel.invokeFunction('convertToInteractive',\n",
              "                                                     [key], {});\n",
              "          if (!dataTable) return;\n",
              "\n",
              "          const docLinkHtml = 'Like what you see? Visit the ' +\n",
              "            '<a target=\"_blank\" href=https://colab.research.google.com/notebooks/data_table.ipynb>data table notebook</a>'\n",
              "            + ' to learn more about interactive tables.';\n",
              "          element.innerHTML = '';\n",
              "          dataTable['output_type'] = 'display_data';\n",
              "          await google.colab.output.renderOutput(dataTable, element);\n",
              "          const docLink = document.createElement('div');\n",
              "          docLink.innerHTML = docLinkHtml;\n",
              "          element.appendChild(docLink);\n",
              "        }\n",
              "      </script>\n",
              "    </div>\n",
              "  </div>\n",
              "  "
            ]
          },
          "metadata": {}
        },
        {
          "output_type": "display_data",
          "data": {
            "text/plain": [
              "   age    loan\n",
              "0   47  142000"
            ],
            "text/html": [
              "\n",
              "  <div id=\"df-ffe3c53a-4e81-49be-b924-2a80713d2124\">\n",
              "    <div class=\"colab-df-container\">\n",
              "      <div>\n",
              "<style scoped>\n",
              "    .dataframe tbody tr th:only-of-type {\n",
              "        vertical-align: middle;\n",
              "    }\n",
              "\n",
              "    .dataframe tbody tr th {\n",
              "        vertical-align: top;\n",
              "    }\n",
              "\n",
              "    .dataframe thead th {\n",
              "        text-align: right;\n",
              "    }\n",
              "</style>\n",
              "<table border=\"1\" class=\"dataframe\">\n",
              "  <thead>\n",
              "    <tr style=\"text-align: right;\">\n",
              "      <th></th>\n",
              "      <th>age</th>\n",
              "      <th>loan</th>\n",
              "    </tr>\n",
              "  </thead>\n",
              "  <tbody>\n",
              "    <tr>\n",
              "      <th>0</th>\n",
              "      <td>47</td>\n",
              "      <td>142000</td>\n",
              "    </tr>\n",
              "  </tbody>\n",
              "</table>\n",
              "</div>\n",
              "      <button class=\"colab-df-convert\" onclick=\"convertToInteractive('df-ffe3c53a-4e81-49be-b924-2a80713d2124')\"\n",
              "              title=\"Convert this dataframe to an interactive table.\"\n",
              "              style=\"display:none;\">\n",
              "        \n",
              "  <svg xmlns=\"http://www.w3.org/2000/svg\" height=\"24px\"viewBox=\"0 0 24 24\"\n",
              "       width=\"24px\">\n",
              "    <path d=\"M0 0h24v24H0V0z\" fill=\"none\"/>\n",
              "    <path d=\"M18.56 5.44l.94 2.06.94-2.06 2.06-.94-2.06-.94-.94-2.06-.94 2.06-2.06.94zm-11 1L8.5 8.5l.94-2.06 2.06-.94-2.06-.94L8.5 2.5l-.94 2.06-2.06.94zm10 10l.94 2.06.94-2.06 2.06-.94-2.06-.94-.94-2.06-.94 2.06-2.06.94z\"/><path d=\"M17.41 7.96l-1.37-1.37c-.4-.4-.92-.59-1.43-.59-.52 0-1.04.2-1.43.59L10.3 9.45l-7.72 7.72c-.78.78-.78 2.05 0 2.83L4 21.41c.39.39.9.59 1.41.59.51 0 1.02-.2 1.41-.59l7.78-7.78 2.81-2.81c.8-.78.8-2.07 0-2.86zM5.41 20L4 18.59l7.72-7.72 1.47 1.35L5.41 20z\"/>\n",
              "  </svg>\n",
              "      </button>\n",
              "      \n",
              "  <style>\n",
              "    .colab-df-container {\n",
              "      display:flex;\n",
              "      flex-wrap:wrap;\n",
              "      gap: 12px;\n",
              "    }\n",
              "\n",
              "    .colab-df-convert {\n",
              "      background-color: #E8F0FE;\n",
              "      border: none;\n",
              "      border-radius: 50%;\n",
              "      cursor: pointer;\n",
              "      display: none;\n",
              "      fill: #1967D2;\n",
              "      height: 32px;\n",
              "      padding: 0 0 0 0;\n",
              "      width: 32px;\n",
              "    }\n",
              "\n",
              "    .colab-df-convert:hover {\n",
              "      background-color: #E2EBFA;\n",
              "      box-shadow: 0px 1px 2px rgba(60, 64, 67, 0.3), 0px 1px 3px 1px rgba(60, 64, 67, 0.15);\n",
              "      fill: #174EA6;\n",
              "    }\n",
              "\n",
              "    [theme=dark] .colab-df-convert {\n",
              "      background-color: #3B4455;\n",
              "      fill: #D2E3FC;\n",
              "    }\n",
              "\n",
              "    [theme=dark] .colab-df-convert:hover {\n",
              "      background-color: #434B5C;\n",
              "      box-shadow: 0px 1px 3px 1px rgba(0, 0, 0, 0.15);\n",
              "      filter: drop-shadow(0px 1px 2px rgba(0, 0, 0, 0.3));\n",
              "      fill: #FFFFFF;\n",
              "    }\n",
              "  </style>\n",
              "\n",
              "      <script>\n",
              "        const buttonEl =\n",
              "          document.querySelector('#df-ffe3c53a-4e81-49be-b924-2a80713d2124 button.colab-df-convert');\n",
              "        buttonEl.style.display =\n",
              "          google.colab.kernel.accessAllowed ? 'block' : 'none';\n",
              "\n",
              "        async function convertToInteractive(key) {\n",
              "          const element = document.querySelector('#df-ffe3c53a-4e81-49be-b924-2a80713d2124');\n",
              "          const dataTable =\n",
              "            await google.colab.kernel.invokeFunction('convertToInteractive',\n",
              "                                                     [key], {});\n",
              "          if (!dataTable) return;\n",
              "\n",
              "          const docLinkHtml = 'Like what you see? Visit the ' +\n",
              "            '<a target=\"_blank\" href=https://colab.research.google.com/notebooks/data_table.ipynb>data table notebook</a>'\n",
              "            + ' to learn more about interactive tables.';\n",
              "          element.innerHTML = '';\n",
              "          dataTable['output_type'] = 'display_data';\n",
              "          await google.colab.output.renderOutput(dataTable, element);\n",
              "          const docLink = document.createElement('div');\n",
              "          docLink.innerHTML = docLinkHtml;\n",
              "          element.appendChild(docLink);\n",
              "        }\n",
              "      </script>\n",
              "    </div>\n",
              "  </div>\n",
              "  "
            ]
          },
          "metadata": {}
        }
      ]
    },
    {
      "cell_type": "code",
      "metadata": {
        "colab": {
          "base_uri": "https://localhost:8080/",
          "height": 405
        },
        "id": "-M9k8V6oSvyI",
        "outputId": "aa4398ae-e119-41af-ee78-7705218ba905"
      },
      "source": [
        "f, ax = plt.subplots(1,1,figsize=(6,6))\n",
        "cmap_data = plt.cm.coolwarm \n",
        "\n",
        "ax.scatter(loans.age, loans.loan, c=loans.default, cmap=cmap_data, alpha=0.8, s=80)\n",
        "ax.plot(case.age, case.loan, 'go', markersize=14, alpha=0.6)\n",
        "\n",
        "plt.text(case.age+2, case.loan,'Default ?', weight='bold')\n",
        "plt.title('Loans',weight='bold',fontsize=14)\n",
        "plt.xlabel(\"age\")\n",
        "plt.ylabel(\"loan\")\n",
        "\n",
        "custom_lines = [Line2D([0], [0], color=cmap_data(0.), lw=6),\n",
        "                Line2D([0], [0], color=cmap_data(1.), lw=6)]\n",
        "plt.legend(custom_lines, ['No', 'Yes'], loc='upper right',title='default')\n",
        "\n",
        "plt.show()\n"
      ],
      "execution_count": null,
      "outputs": [
        {
          "output_type": "display_data",
          "data": {
            "text/plain": [
              "<Figure size 432x432 with 1 Axes>"
            ],
            "image/png": "[encoded data removed]"
          },
          "metadata": {
            "needs_background": "light"
          }
        }
      ]
    },
    {
      "cell_type": "markdown",
      "metadata": {
        "id": "xkDs9clabBdM"
      },
      "source": [
        "*Default* representa os casos em que o empréstimo não foi pago e, portanto, uma operação ruim. E nosso objetivo é prever, com base no conjunto de treinamento, qual classe (*Default Yes* ou *No*) de um novo empréstimo de $142.000$ para um cliente com $47$ anos.\n",
        "\n",
        "Você pode, então, calcular diretamente a distância do par $(47, 142.000)$ para todos os demais dados e, na sequência, ordenar os dados para identificar os k-vizinhos mais próximos e a classe mais frenquente dentre eles. Aqui empregamos $k=3$ vizinhos mais próximos."
      ]
    },
    {
      "cell_type": "code",
      "metadata": {
        "colab": {
          "base_uri": "https://localhost:8080/",
          "height": 449
        },
        "id": "WPsNohBAVB0h",
        "outputId": "203f1375-f9b9-4648-8729-7ab16ade6f8c"
      },
      "source": [
        "from sklearn.neighbors import DistanceMetric\n",
        "\n",
        "dist = DistanceMetric.get_metric('euclidean')\n",
        "d = dist.pairwise(loans[['age','loan']],case[['age','loan']])\n",
        "\n",
        "loans['distance'] = d\n",
        "display(loans.sort_values('distance'))"
      ],
      "execution_count": null,
      "outputs": [
        {
          "output_type": "stream",
          "name": "stderr",
          "text": [
            "/usr/local/lib/python3.7/dist-packages/sklearn/neighbors/_distance_metric.py:14: FutureWarning: sklearn.neighbors.DistanceMetric has been moved to sklearn.metrics.DistanceMetric in 1.0. This import path will be removed in 1.3\n",
            "  category=FutureWarning,\n"
          ]
        },
        {
          "output_type": "display_data",
          "data": {
            "text/plain": [
              "    age    loan  default       distance\n",
              "10   33  150000        0    8000.012250\n",
              "4    35  120000        1   22000.003273\n",
              "8    60  100000        0   42000.002012\n",
              "6    23   95000        0   47000.006128\n",
              "2    45   80000        1   62000.000032\n",
              "9    48  220000        0   78000.000006\n",
              "7    40   62000        0   80000.000306\n",
              "1    35   60000        1   82000.000878\n",
              "0    25   40000        1  102000.002373\n",
              "3    20   20000        1  122000.002988\n",
              "5    52   18000        1  124000.000101"
            ],
            "text/html": [
              "\n",
              "  <div id=\"df-b4261799-b973-4a86-894d-3071aaf0162b\">\n",
              "    <div class=\"colab-df-container\">\n",
              "      <div>\n",
              "<style scoped>\n",
              "    .dataframe tbody tr th:only-of-type {\n",
              "        vertical-align: middle;\n",
              "    }\n",
              "\n",
              "    .dataframe tbody tr th {\n",
              "        vertical-align: top;\n",
              "    }\n",
              "\n",
              "    .dataframe thead th {\n",
              "        text-align: right;\n",
              "    }\n",
              "</style>\n",
              "<table border=\"1\" class=\"dataframe\">\n",
              "  <thead>\n",
              "    <tr style=\"text-align: right;\">\n",
              "      <th></th>\n",
              "      <th>age</th>\n",
              "      <th>loan</th>\n",
              "      <th>default</th>\n",
              "      <th>distance</th>\n",
              "    </tr>\n",
              "  </thead>\n",
              "  <tbody>\n",
              "    <tr>\n",
              "      <th>10</th>\n",
              "      <td>33</td>\n",
              "      <td>150000</td>\n",
              "      <td>0</td>\n",
              "      <td>8000.012250</td>\n",
              "    </tr>\n",
              "    <tr>\n",
              "      <th>4</th>\n",
              "      <td>35</td>\n",
              "      <td>120000</td>\n",
              "      <td>1</td>\n",
              "      <td>22000.003273</td>\n",
              "    </tr>\n",
              "    <tr>\n",
              "      <th>8</th>\n",
              "      <td>60</td>\n",
              "      <td>100000</td>\n",
              "      <td>0</td>\n",
              "      <td>42000.002012</td>\n",
              "    </tr>\n",
              "    <tr>\n",
              "      <th>6</th>\n",
              "      <td>23</td>\n",
              "      <td>95000</td>\n",
              "      <td>0</td>\n",
              "      <td>47000.006128</td>\n",
              "    </tr>\n",
              "    <tr>\n",
              "      <th>2</th>\n",
              "      <td>45</td>\n",
              "      <td>80000</td>\n",
              "      <td>1</td>\n",
              "      <td>62000.000032</td>\n",
              "    </tr>\n",
              "    <tr>\n",
              "      <th>9</th>\n",
              "      <td>48</td>\n",
              "      <td>220000</td>\n",
              "      <td>0</td>\n",
              "      <td>78000.000006</td>\n",
              "    </tr>\n",
              "    <tr>\n",
              "      <th>7</th>\n",
              "      <td>40</td>\n",
              "      <td>62000</td>\n",
              "      <td>0</td>\n",
              "      <td>80000.000306</td>\n",
              "    </tr>\n",
              "    <tr>\n",
              "      <th>1</th>\n",
              "      <td>35</td>\n",
              "      <td>60000</td>\n",
              "      <td>1</td>\n",
              "      <td>82000.000878</td>\n",
              "    </tr>\n",
              "    <tr>\n",
              "      <th>0</th>\n",
              "      <td>25</td>\n",
              "      <td>40000</td>\n",
              "      <td>1</td>\n",
              "      <td>102000.002373</td>\n",
              "    </tr>\n",
              "    <tr>\n",
              "      <th>3</th>\n",
              "      <td>20</td>\n",
              "      <td>20000</td>\n",
              "      <td>1</td>\n",
              "      <td>122000.002988</td>\n",
              "    </tr>\n",
              "    <tr>\n",
              "      <th>5</th>\n",
              "      <td>52</td>\n",
              "      <td>18000</td>\n",
              "      <td>1</td>\n",
              "      <td>124000.000101</td>\n",
              "    </tr>\n",
              "  </tbody>\n",
              "</table>\n",
              "</div>\n",
              "      <button class=\"colab-df-convert\" onclick=\"convertToInteractive('df-b4261799-b973-4a86-894d-3071aaf0162b')\"\n",
              "              title=\"Convert this dataframe to an interactive table.\"\n",
              "              style=\"display:none;\">\n",
              "        \n",
              "  <svg xmlns=\"http://www.w3.org/2000/svg\" height=\"24px\"viewBox=\"0 0 24 24\"\n",
              "       width=\"24px\">\n",
              "    <path d=\"M0 0h24v24H0V0z\" fill=\"none\"/>\n",
              "    <path d=\"M18.56 5.44l.94 2.06.94-2.06 2.06-.94-2.06-.94-.94-2.06-.94 2.06-2.06.94zm-11 1L8.5 8.5l.94-2.06 2.06-.94-2.06-.94L8.5 2.5l-.94 2.06-2.06.94zm10 10l.94 2.06.94-2.06 2.06-.94-2.06-.94-.94-2.06-.94 2.06-2.06.94z\"/><path d=\"M17.41 7.96l-1.37-1.37c-.4-.4-.92-.59-1.43-.59-.52 0-1.04.2-1.43.59L10.3 9.45l-7.72 7.72c-.78.78-.78 2.05 0 2.83L4 21.41c.39.39.9.59 1.41.59.51 0 1.02-.2 1.41-.59l7.78-7.78 2.81-2.81c.8-.78.8-2.07 0-2.86zM5.41 20L4 18.59l7.72-7.72 1.47 1.35L5.41 20z\"/>\n",
              "  </svg>\n",
              "      </button>\n",
              "      \n",
              "  <style>\n",
              "    .colab-df-container {\n",
              "      display:flex;\n",
              "      flex-wrap:wrap;\n",
              "      gap: 12px;\n",
              "    }\n",
              "\n",
              "    .colab-df-convert {\n",
              "      background-color: #E8F0FE;\n",
              "      border: none;\n",
              "      border-radius: 50%;\n",
              "      cursor: pointer;\n",
              "      display: none;\n",
              "      fill: #1967D2;\n",
              "      height: 32px;\n",
              "      padding: 0 0 0 0;\n",
              "      width: 32px;\n",
              "    }\n",
              "\n",
              "    .colab-df-convert:hover {\n",
              "      background-color: #E2EBFA;\n",
              "      box-shadow: 0px 1px 2px rgba(60, 64, 67, 0.3), 0px 1px 3px 1px rgba(60, 64, 67, 0.15);\n",
              "      fill: #174EA6;\n",
              "    }\n",
              "\n",
              "    [theme=dark] .colab-df-convert {\n",
              "      background-color: #3B4455;\n",
              "      fill: #D2E3FC;\n",
              "    }\n",
              "\n",
              "    [theme=dark] .colab-df-convert:hover {\n",
              "      background-color: #434B5C;\n",
              "      box-shadow: 0px 1px 3px 1px rgba(0, 0, 0, 0.15);\n",
              "      filter: drop-shadow(0px 1px 2px rgba(0, 0, 0, 0.3));\n",
              "      fill: #FFFFFF;\n",
              "    }\n",
              "  </style>\n",
              "\n",
              "      <script>\n",
              "        const buttonEl =\n",
              "          document.querySelector('#df-b4261799-b973-4a86-894d-3071aaf0162b button.colab-df-convert');\n",
              "        buttonEl.style.display =\n",
              "          google.colab.kernel.accessAllowed ? 'block' : 'none';\n",
              "\n",
              "        async function convertToInteractive(key) {\n",
              "          const element = document.querySelector('#df-b4261799-b973-4a86-894d-3071aaf0162b');\n",
              "          const dataTable =\n",
              "            await google.colab.kernel.invokeFunction('convertToInteractive',\n",
              "                                                     [key], {});\n",
              "          if (!dataTable) return;\n",
              "\n",
              "          const docLinkHtml = 'Like what you see? Visit the ' +\n",
              "            '<a target=\"_blank\" href=https://colab.research.google.com/notebooks/data_table.ipynb>data table notebook</a>'\n",
              "            + ' to learn more about interactive tables.';\n",
              "          element.innerHTML = '';\n",
              "          dataTable['output_type'] = 'display_data';\n",
              "          await google.colab.output.renderOutput(dataTable, element);\n",
              "          const docLink = document.createElement('div');\n",
              "          docLink.innerHTML = docLinkHtml;\n",
              "          element.appendChild(docLink);\n",
              "        }\n",
              "      </script>\n",
              "    </div>\n",
              "  </div>\n",
              "  "
            ]
          },
          "metadata": {}
        }
      ]
    },
    {
      "cell_type": "code",
      "metadata": {
        "colab": {
          "base_uri": "https://localhost:8080/",
          "height": 531
        },
        "id": "TPkG2blZWupp",
        "outputId": "fa8b456c-c81a-4cf6-cc46-9c63b8ca44e4"
      },
      "source": [
        "k3_neighbors = loans.nsmallest(3,'distance')\n",
        "\n",
        "f, ax = plt.subplots(1,1,figsize=(6,6))\n",
        "cmap_data = plt.cm.coolwarm \n",
        "\n",
        "ax.scatter(k3_neighbors.age, k3_neighbors.loan, edgecolors='k', c='w', alpha=0.6, s=400)\n",
        "ax.scatter(loans.age, loans.loan, c=loans.default, cmap=cmap_data, alpha=0.8, s=80)\n",
        "ax.plot(case.age, case.loan, 'go', markersize=14, alpha=0.6)\n",
        "\n",
        "plt.text(case.age+2, case.loan,'Default ?', weight='bold')\n",
        "plt.title('Loans',weight='bold',fontsize=14)\n",
        "plt.xlabel(\"age\")\n",
        "plt.ylabel(\"loan\")\n",
        "\n",
        "custom_lines = [Line2D([0], [0], color=cmap_data(0.), lw=6),\n",
        "                Line2D([0], [0], color=cmap_data(1.), lw=6)]\n",
        "plt.legend(custom_lines, ['No', 'Yes'], loc='upper right',title='default')\n",
        "\n",
        "plt.show()\n",
        "\n",
        "display(k3_neighbors)"
      ],
      "execution_count": null,
      "outputs": [
        {
          "output_type": "display_data",
          "data": {
            "text/plain": [
              "<Figure size 432x432 with 1 Axes>"
            ],
            "image/png": "[encoded data removed]"
          },
          "metadata": {
            "needs_background": "light"
          }
        },
        {
          "output_type": "display_data",
          "data": {
            "text/plain": [
              "    age    loan  default      distance\n",
              "10   33  150000        0   8000.012250\n",
              "4    35  120000        1  22000.003273\n",
              "8    60  100000        0  42000.002012"
            ],
            "text/html": [
              "\n",
              "  <div id=\"df-a2673b8e-aef4-4214-b38e-a4fa1e3ba95c\">\n",
              "    <div class=\"colab-df-container\">\n",
              "      <div>\n",
              "<style scoped>\n",
              "    .dataframe tbody tr th:only-of-type {\n",
              "        vertical-align: middle;\n",
              "    }\n",
              "\n",
              "    .dataframe tbody tr th {\n",
              "        vertical-align: top;\n",
              "    }\n",
              "\n",
              "    .dataframe thead th {\n",
              "        text-align: right;\n",
              "    }\n",
              "</style>\n",
              "<table border=\"1\" class=\"dataframe\">\n",
              "  <thead>\n",
              "    <tr style=\"text-align: right;\">\n",
              "      <th></th>\n",
              "      <th>age</th>\n",
              "      <th>loan</th>\n",
              "      <th>default</th>\n",
              "      <th>distance</th>\n",
              "    </tr>\n",
              "  </thead>\n",
              "  <tbody>\n",
              "    <tr>\n",
              "      <th>10</th>\n",
              "      <td>33</td>\n",
              "      <td>150000</td>\n",
              "      <td>0</td>\n",
              "      <td>8000.012250</td>\n",
              "    </tr>\n",
              "    <tr>\n",
              "      <th>4</th>\n",
              "      <td>35</td>\n",
              "      <td>120000</td>\n",
              "      <td>1</td>\n",
              "      <td>22000.003273</td>\n",
              "    </tr>\n",
              "    <tr>\n",
              "      <th>8</th>\n",
              "      <td>60</td>\n",
              "      <td>100000</td>\n",
              "      <td>0</td>\n",
              "      <td>42000.002012</td>\n",
              "    </tr>\n",
              "  </tbody>\n",
              "</table>\n",
              "</div>\n",
              "      <button class=\"colab-df-convert\" onclick=\"convertToInteractive('df-a2673b8e-aef4-4214-b38e-a4fa1e3ba95c')\"\n",
              "              title=\"Convert this dataframe to an interactive table.\"\n",
              "              style=\"display:none;\">\n",
              "        \n",
              "  <svg xmlns=\"http://www.w3.org/2000/svg\" height=\"24px\"viewBox=\"0 0 24 24\"\n",
              "       width=\"24px\">\n",
              "    <path d=\"M0 0h24v24H0V0z\" fill=\"none\"/>\n",
              "    <path d=\"M18.56 5.44l.94 2.06.94-2.06 2.06-.94-2.06-.94-.94-2.06-.94 2.06-2.06.94zm-11 1L8.5 8.5l.94-2.06 2.06-.94-2.06-.94L8.5 2.5l-.94 2.06-2.06.94zm10 10l.94 2.06.94-2.06 2.06-.94-2.06-.94-.94-2.06-.94 2.06-2.06.94z\"/><path d=\"M17.41 7.96l-1.37-1.37c-.4-.4-.92-.59-1.43-.59-.52 0-1.04.2-1.43.59L10.3 9.45l-7.72 7.72c-.78.78-.78 2.05 0 2.83L4 21.41c.39.39.9.59 1.41.59.51 0 1.02-.2 1.41-.59l7.78-7.78 2.81-2.81c.8-.78.8-2.07 0-2.86zM5.41 20L4 18.59l7.72-7.72 1.47 1.35L5.41 20z\"/>\n",
              "  </svg>\n",
              "      </button>\n",
              "      \n",
              "  <style>\n",
              "    .colab-df-container {\n",
              "      display:flex;\n",
              "      flex-wrap:wrap;\n",
              "      gap: 12px;\n",
              "    }\n",
              "\n",
              "    .colab-df-convert {\n",
              "      background-color: #E8F0FE;\n",
              "      border: none;\n",
              "      border-radius: 50%;\n",
              "      cursor: pointer;\n",
              "      display: none;\n",
              "      fill: #1967D2;\n",
              "      height: 32px;\n",
              "      padding: 0 0 0 0;\n",
              "      width: 32px;\n",
              "    }\n",
              "\n",
              "    .colab-df-convert:hover {\n",
              "      background-color: #E2EBFA;\n",
              "      box-shadow: 0px 1px 2px rgba(60, 64, 67, 0.3), 0px 1px 3px 1px rgba(60, 64, 67, 0.15);\n",
              "      fill: #174EA6;\n",
              "    }\n",
              "\n",
              "    [theme=dark] .colab-df-convert {\n",
              "      background-color: #3B4455;\n",
              "      fill: #D2E3FC;\n",
              "    }\n",
              "\n",
              "    [theme=dark] .colab-df-convert:hover {\n",
              "      background-color: #434B5C;\n",
              "      box-shadow: 0px 1px 3px 1px rgba(0, 0, 0, 0.15);\n",
              "      filter: drop-shadow(0px 1px 2px rgba(0, 0, 0, 0.3));\n",
              "      fill: #FFFFFF;\n",
              "    }\n",
              "  </style>\n",
              "\n",
              "      <script>\n",
              "        const buttonEl =\n",
              "          document.querySelector('#df-a2673b8e-aef4-4214-b38e-a4fa1e3ba95c button.colab-df-convert');\n",
              "        buttonEl.style.display =\n",
              "          google.colab.kernel.accessAllowed ? 'block' : 'none';\n",
              "\n",
              "        async function convertToInteractive(key) {\n",
              "          const element = document.querySelector('#df-a2673b8e-aef4-4214-b38e-a4fa1e3ba95c');\n",
              "          const dataTable =\n",
              "            await google.colab.kernel.invokeFunction('convertToInteractive',\n",
              "                                                     [key], {});\n",
              "          if (!dataTable) return;\n",
              "\n",
              "          const docLinkHtml = 'Like what you see? Visit the ' +\n",
              "            '<a target=\"_blank\" href=https://colab.research.google.com/notebooks/data_table.ipynb>data table notebook</a>'\n",
              "            + ' to learn more about interactive tables.';\n",
              "          element.innerHTML = '';\n",
              "          dataTable['output_type'] = 'display_data';\n",
              "          await google.colab.output.renderOutput(dataTable, element);\n",
              "          const docLink = document.createElement('div');\n",
              "          docLink.innerHTML = docLinkHtml;\n",
              "          element.appendChild(docLink);\n",
              "        }\n",
              "      </script>\n",
              "    </div>\n",
              "  </div>\n",
              "  "
            ]
          },
          "metadata": {}
        }
      ]
    },
    {
      "cell_type": "markdown",
      "metadata": {
        "id": "20WpgTUwcoNV"
      },
      "source": [
        "Com base nisso podemos estimar que a classe desse empréstimo é *Default No* (zeros) com probabilidade de $2/3$ e, portanto, deveríamos conceder o empréstimo.  "
      ]
    },
    {
      "cell_type": "markdown",
      "metadata": {
        "id": "NoYy0n-XduYQ"
      },
      "source": [
        "## Revisando o Modelo: Normalizando os Dados\n",
        "\n",
        "O cálculo de distâncias como medida de similaridade (menor distância indicando maior similaridade) pode, entretanto, apresentar grandes desvios quando empregamos variáveis ​com escalas muito diferentes ou variáveis ​​numéricas e categóricas em conjunto.\n",
        "\n",
        "Veja que no nosso exemplo os valores dos empréstimos encontram-se em uma escala de valores $1000$ vezes maior que a idade e, por isso, idade teve pouca ou nenhuma influência nas distâncias e poderíamos ter o mesmo resultado empregando somente o os valores dos empréstimos. \n",
        "\n",
        "> **Vários modelos de aprendizado de máquina são baseados em distância como medida de similaridade e são, portanto, *sensíveis* à normalização dos dados e devemos aplicá-la quando empregados dados em diferentes escalas.**\n",
        " "
      ]
    },
    {
      "cell_type": "code",
      "metadata": {
        "colab": {
          "base_uri": "https://localhost:8080/",
          "height": 449
        },
        "id": "BYhp7zwTfzEN",
        "outputId": "6a52dd4d-cf16-45af-d2d1-54c44e3ed09b"
      },
      "source": [
        "dist = DistanceMetric.get_metric('euclidean')\n",
        "d = dist.pairwise(loans[['loan']],case[['loan']])\n",
        "\n",
        "loans['distance_loans'] = d\n",
        "display(loans.sort_values('distance'))"
      ],
      "execution_count": null,
      "outputs": [
        {
          "output_type": "stream",
          "name": "stderr",
          "text": [
            "/usr/local/lib/python3.7/dist-packages/sklearn/neighbors/_distance_metric.py:14: FutureWarning: sklearn.neighbors.DistanceMetric has been moved to sklearn.metrics.DistanceMetric in 1.0. This import path will be removed in 1.3\n",
            "  category=FutureWarning,\n"
          ]
        },
        {
          "output_type": "display_data",
          "data": {
            "text/plain": [
              "    age    loan  default       distance  distance_loans\n",
              "10   33  150000        0    8000.012250          8000.0\n",
              "4    35  120000        1   22000.003273         22000.0\n",
              "8    60  100000        0   42000.002012         42000.0\n",
              "6    23   95000        0   47000.006128         47000.0\n",
              "2    45   80000        1   62000.000032         62000.0\n",
              "9    48  220000        0   78000.000006         78000.0\n",
              "7    40   62000        0   80000.000306         80000.0\n",
              "1    35   60000        1   82000.000878         82000.0\n",
              "0    25   40000        1  102000.002373        102000.0\n",
              "3    20   20000        1  122000.002988        122000.0\n",
              "5    52   18000        1  124000.000101        124000.0"
            ],
            "text/html": [
              "\n",
              "  <div id=\"df-8702f444-1303-4d63-aa52-8de7794ba6be\">\n",
              "    <div class=\"colab-df-container\">\n",
              "      <div>\n",
              "<style scoped>\n",
              "    .dataframe tbody tr th:only-of-type {\n",
              "        vertical-align: middle;\n",
              "    }\n",
              "\n",
              "    .dataframe tbody tr th {\n",
              "        vertical-align: top;\n",
              "    }\n",
              "\n",
              "    .dataframe thead th {\n",
              "        text-align: right;\n",
              "    }\n",
              "</style>\n",
              "<table border=\"1\" class=\"dataframe\">\n",
              "  <thead>\n",
              "    <tr style=\"text-align: right;\">\n",
              "      <th></th>\n",
              "      <th>age</th>\n",
              "      <th>loan</th>\n",
              "      <th>default</th>\n",
              "      <th>distance</th>\n",
              "      <th>distance_loans</th>\n",
              "    </tr>\n",
              "  </thead>\n",
              "  <tbody>\n",
              "    <tr>\n",
              "      <th>10</th>\n",
              "      <td>33</td>\n",
              "      <td>150000</td>\n",
              "      <td>0</td>\n",
              "      <td>8000.012250</td>\n",
              "      <td>8000.0</td>\n",
              "    </tr>\n",
              "    <tr>\n",
              "      <th>4</th>\n",
              "      <td>35</td>\n",
              "      <td>120000</td>\n",
              "      <td>1</td>\n",
              "      <td>22000.003273</td>\n",
              "      <td>22000.0</td>\n",
              "    </tr>\n",
              "    <tr>\n",
              "      <th>8</th>\n",
              "      <td>60</td>\n",
              "      <td>100000</td>\n",
              "      <td>0</td>\n",
              "      <td>42000.002012</td>\n",
              "      <td>42000.0</td>\n",
              "    </tr>\n",
              "    <tr>\n",
              "      <th>6</th>\n",
              "      <td>23</td>\n",
              "      <td>95000</td>\n",
              "      <td>0</td>\n",
              "      <td>47000.006128</td>\n",
              "      <td>47000.0</td>\n",
              "    </tr>\n",
              "    <tr>\n",
              "      <th>2</th>\n",
              "      <td>45</td>\n",
              "      <td>80000</td>\n",
              "      <td>1</td>\n",
              "      <td>62000.000032</td>\n",
              "      <td>62000.0</td>\n",
              "    </tr>\n",
              "    <tr>\n",
              "      <th>9</th>\n",
              "      <td>48</td>\n",
              "      <td>220000</td>\n",
              "      <td>0</td>\n",
              "      <td>78000.000006</td>\n",
              "      <td>78000.0</td>\n",
              "    </tr>\n",
              "    <tr>\n",
              "      <th>7</th>\n",
              "      <td>40</td>\n",
              "      <td>62000</td>\n",
              "      <td>0</td>\n",
              "      <td>80000.000306</td>\n",
              "      <td>80000.0</td>\n",
              "    </tr>\n",
              "    <tr>\n",
              "      <th>1</th>\n",
              "      <td>35</td>\n",
              "      <td>60000</td>\n",
              "      <td>1</td>\n",
              "      <td>82000.000878</td>\n",
              "      <td>82000.0</td>\n",
              "    </tr>\n",
              "    <tr>\n",
              "      <th>0</th>\n",
              "      <td>25</td>\n",
              "      <td>40000</td>\n",
              "      <td>1</td>\n",
              "      <td>102000.002373</td>\n",
              "      <td>102000.0</td>\n",
              "    </tr>\n",
              "    <tr>\n",
              "      <th>3</th>\n",
              "      <td>20</td>\n",
              "      <td>20000</td>\n",
              "      <td>1</td>\n",
              "      <td>122000.002988</td>\n",
              "      <td>122000.0</td>\n",
              "    </tr>\n",
              "    <tr>\n",
              "      <th>5</th>\n",
              "      <td>52</td>\n",
              "      <td>18000</td>\n",
              "      <td>1</td>\n",
              "      <td>124000.000101</td>\n",
              "      <td>124000.0</td>\n",
              "    </tr>\n",
              "  </tbody>\n",
              "</table>\n",
              "</div>\n",
              "      <button class=\"colab-df-convert\" onclick=\"convertToInteractive('df-8702f444-1303-4d63-aa52-8de7794ba6be')\"\n",
              "              title=\"Convert this dataframe to an interactive table.\"\n",
              "              style=\"display:none;\">\n",
              "        \n",
              "  <svg xmlns=\"http://www.w3.org/2000/svg\" height=\"24px\"viewBox=\"0 0 24 24\"\n",
              "       width=\"24px\">\n",
              "    <path d=\"M0 0h24v24H0V0z\" fill=\"none\"/>\n",
              "    <path d=\"M18.56 5.44l.94 2.06.94-2.06 2.06-.94-2.06-.94-.94-2.06-.94 2.06-2.06.94zm-11 1L8.5 8.5l.94-2.06 2.06-.94-2.06-.94L8.5 2.5l-.94 2.06-2.06.94zm10 10l.94 2.06.94-2.06 2.06-.94-2.06-.94-.94-2.06-.94 2.06-2.06.94z\"/><path d=\"M17.41 7.96l-1.37-1.37c-.4-.4-.92-.59-1.43-.59-.52 0-1.04.2-1.43.59L10.3 9.45l-7.72 7.72c-.78.78-.78 2.05 0 2.83L4 21.41c.39.39.9.59 1.41.59.51 0 1.02-.2 1.41-.59l7.78-7.78 2.81-2.81c.8-.78.8-2.07 0-2.86zM5.41 20L4 18.59l7.72-7.72 1.47 1.35L5.41 20z\"/>\n",
              "  </svg>\n",
              "      </button>\n",
              "      \n",
              "  <style>\n",
              "    .colab-df-container {\n",
              "      display:flex;\n",
              "      flex-wrap:wrap;\n",
              "      gap: 12px;\n",
              "    }\n",
              "\n",
              "    .colab-df-convert {\n",
              "      background-color: #E8F0FE;\n",
              "      border: none;\n",
              "      border-radius: 50%;\n",
              "      cursor: pointer;\n",
              "      display: none;\n",
              "      fill: #1967D2;\n",
              "      height: 32px;\n",
              "      padding: 0 0 0 0;\n",
              "      width: 32px;\n",
              "    }\n",
              "\n",
              "    .colab-df-convert:hover {\n",
              "      background-color: #E2EBFA;\n",
              "      box-shadow: 0px 1px 2px rgba(60, 64, 67, 0.3), 0px 1px 3px 1px rgba(60, 64, 67, 0.15);\n",
              "      fill: #174EA6;\n",
              "    }\n",
              "\n",
              "    [theme=dark] .colab-df-convert {\n",
              "      background-color: #3B4455;\n",
              "      fill: #D2E3FC;\n",
              "    }\n",
              "\n",
              "    [theme=dark] .colab-df-convert:hover {\n",
              "      background-color: #434B5C;\n",
              "      box-shadow: 0px 1px 3px 1px rgba(0, 0, 0, 0.15);\n",
              "      filter: drop-shadow(0px 1px 2px rgba(0, 0, 0, 0.3));\n",
              "      fill: #FFFFFF;\n",
              "    }\n",
              "  </style>\n",
              "\n",
              "      <script>\n",
              "        const buttonEl =\n",
              "          document.querySelector('#df-8702f444-1303-4d63-aa52-8de7794ba6be button.colab-df-convert');\n",
              "        buttonEl.style.display =\n",
              "          google.colab.kernel.accessAllowed ? 'block' : 'none';\n",
              "\n",
              "        async function convertToInteractive(key) {\n",
              "          const element = document.querySelector('#df-8702f444-1303-4d63-aa52-8de7794ba6be');\n",
              "          const dataTable =\n",
              "            await google.colab.kernel.invokeFunction('convertToInteractive',\n",
              "                                                     [key], {});\n",
              "          if (!dataTable) return;\n",
              "\n",
              "          const docLinkHtml = 'Like what you see? Visit the ' +\n",
              "            '<a target=\"_blank\" href=https://colab.research.google.com/notebooks/data_table.ipynb>data table notebook</a>'\n",
              "            + ' to learn more about interactive tables.';\n",
              "          element.innerHTML = '';\n",
              "          dataTable['output_type'] = 'display_data';\n",
              "          await google.colab.output.renderOutput(dataTable, element);\n",
              "          const docLink = document.createElement('div');\n",
              "          docLink.innerHTML = docLinkHtml;\n",
              "          element.appendChild(docLink);\n",
              "        }\n",
              "      </script>\n",
              "    </div>\n",
              "  </div>\n",
              "  "
            ]
          },
          "metadata": {}
        }
      ]
    },
    {
      "cell_type": "markdown",
      "metadata": {
        "id": "HcajApnCg-kG"
      },
      "source": [
        "A maior escala dos valores de `loan` faz com que o '*peso*' dessa variável no cálculo das distâncias praticamente '*anule*' a importância da variável *age*."
      ]
    },
    {
      "cell_type": "code",
      "metadata": {
        "colab": {
          "base_uri": "https://localhost:8080/",
          "height": 531
        },
        "id": "9VOouvqiaIIp",
        "outputId": "276ef8a0-3b70-4e34-a079-4c5a20f819d3"
      },
      "source": [
        "f, ax = plt.subplots(1,1,figsize=(6,6))\n",
        "cmap_data = plt.cm.coolwarm \n",
        "\n",
        "ax.plot(case.age, case.loan, 'go', markersize=220, alpha=0.10)\n",
        "ax.scatter(k3_neighbors.age, k3_neighbors.loan, edgecolors='k', c='w', alpha=0.6, s=400)\n",
        "ax.scatter(loans.age, loans.loan, c=loans.default, cmap=cmap_data, alpha=0.8, s=80)\n",
        "ax.plot(case.age, case.loan, 'go', markersize=14, alpha=0.6)\n",
        "\n",
        "plt.hlines(157000,18,62,linestyles='dashed',lw=1)\n",
        "plt.hlines(93000,18,62,linestyles='dashed',lw=1)\n",
        "\n",
        "plt.text(case.age+2, case.loan,'Default ?', weight='bold')\n",
        "plt.title('Loans',weight='bold',fontsize=14)\n",
        "plt.xlabel(\"age\")\n",
        "plt.ylabel(\"loan\")\n",
        "\n",
        "custom_lines = [Line2D([0], [0], color=cmap_data(0.), lw=6),\n",
        "                Line2D([0], [0], color=cmap_data(1.), lw=6)]\n",
        "plt.legend(custom_lines, ['No', 'Yes'], loc='upper right',title='default')\n",
        "\n",
        "plt.show()\n",
        "\n",
        "display(k3_neighbors)"
      ],
      "execution_count": null,
      "outputs": [
        {
          "output_type": "display_data",
          "data": {
            "text/plain": [
              "<Figure size 432x432 with 1 Axes>"
            ],
            "image/png": "[encoded data removed]"
          },
          "metadata": {
            "needs_background": "light"
          }
        },
        {
          "output_type": "display_data",
          "data": {
            "text/plain": [
              "    age    loan  default      distance\n",
              "10   33  150000        0   8000.012250\n",
              "4    35  120000        1  22000.003273\n",
              "8    60  100000        0  42000.002012"
            ],
            "text/html": [
              "\n",
              "  <div id=\"df-b12df02c-d840-47b1-b4f2-865a47eb5777\">\n",
              "    <div class=\"colab-df-container\">\n",
              "      <div>\n",
              "<style scoped>\n",
              "    .dataframe tbody tr th:only-of-type {\n",
              "        vertical-align: middle;\n",
              "    }\n",
              "\n",
              "    .dataframe tbody tr th {\n",
              "        vertical-align: top;\n",
              "    }\n",
              "\n",
              "    .dataframe thead th {\n",
              "        text-align: right;\n",
              "    }\n",
              "</style>\n",
              "<table border=\"1\" class=\"dataframe\">\n",
              "  <thead>\n",
              "    <tr style=\"text-align: right;\">\n",
              "      <th></th>\n",
              "      <th>age</th>\n",
              "      <th>loan</th>\n",
              "      <th>default</th>\n",
              "      <th>distance</th>\n",
              "    </tr>\n",
              "  </thead>\n",
              "  <tbody>\n",
              "    <tr>\n",
              "      <th>10</th>\n",
              "      <td>33</td>\n",
              "      <td>150000</td>\n",
              "      <td>0</td>\n",
              "      <td>8000.012250</td>\n",
              "    </tr>\n",
              "    <tr>\n",
              "      <th>4</th>\n",
              "      <td>35</td>\n",
              "      <td>120000</td>\n",
              "      <td>1</td>\n",
              "      <td>22000.003273</td>\n",
              "    </tr>\n",
              "    <tr>\n",
              "      <th>8</th>\n",
              "      <td>60</td>\n",
              "      <td>100000</td>\n",
              "      <td>0</td>\n",
              "      <td>42000.002012</td>\n",
              "    </tr>\n",
              "  </tbody>\n",
              "</table>\n",
              "</div>\n",
              "      <button class=\"colab-df-convert\" onclick=\"convertToInteractive('df-b12df02c-d840-47b1-b4f2-865a47eb5777')\"\n",
              "              title=\"Convert this dataframe to an interactive table.\"\n",
              "              style=\"display:none;\">\n",
              "        \n",
              "  <svg xmlns=\"http://www.w3.org/2000/svg\" height=\"24px\"viewBox=\"0 0 24 24\"\n",
              "       width=\"24px\">\n",
              "    <path d=\"M0 0h24v24H0V0z\" fill=\"none\"/>\n",
              "    <path d=\"M18.56 5.44l.94 2.06.94-2.06 2.06-.94-2.06-.94-.94-2.06-.94 2.06-2.06.94zm-11 1L8.5 8.5l.94-2.06 2.06-.94-2.06-.94L8.5 2.5l-.94 2.06-2.06.94zm10 10l.94 2.06.94-2.06 2.06-.94-2.06-.94-.94-2.06-.94 2.06-2.06.94z\"/><path d=\"M17.41 7.96l-1.37-1.37c-.4-.4-.92-.59-1.43-.59-.52 0-1.04.2-1.43.59L10.3 9.45l-7.72 7.72c-.78.78-.78 2.05 0 2.83L4 21.41c.39.39.9.59 1.41.59.51 0 1.02-.2 1.41-.59l7.78-7.78 2.81-2.81c.8-.78.8-2.07 0-2.86zM5.41 20L4 18.59l7.72-7.72 1.47 1.35L5.41 20z\"/>\n",
              "  </svg>\n",
              "      </button>\n",
              "      \n",
              "  <style>\n",
              "    .colab-df-container {\n",
              "      display:flex;\n",
              "      flex-wrap:wrap;\n",
              "      gap: 12px;\n",
              "    }\n",
              "\n",
              "    .colab-df-convert {\n",
              "      background-color: #E8F0FE;\n",
              "      border: none;\n",
              "      border-radius: 50%;\n",
              "      cursor: pointer;\n",
              "      display: none;\n",
              "      fill: #1967D2;\n",
              "      height: 32px;\n",
              "      padding: 0 0 0 0;\n",
              "      width: 32px;\n",
              "    }\n",
              "\n",
              "    .colab-df-convert:hover {\n",
              "      background-color: #E2EBFA;\n",
              "      box-shadow: 0px 1px 2px rgba(60, 64, 67, 0.3), 0px 1px 3px 1px rgba(60, 64, 67, 0.15);\n",
              "      fill: #174EA6;\n",
              "    }\n",
              "\n",
              "    [theme=dark] .colab-df-convert {\n",
              "      background-color: #3B4455;\n",
              "      fill: #D2E3FC;\n",
              "    }\n",
              "\n",
              "    [theme=dark] .colab-df-convert:hover {\n",
              "      background-color: #434B5C;\n",
              "      box-shadow: 0px 1px 3px 1px rgba(0, 0, 0, 0.15);\n",
              "      filter: drop-shadow(0px 1px 2px rgba(0, 0, 0, 0.3));\n",
              "      fill: #FFFFFF;\n",
              "    }\n",
              "  </style>\n",
              "\n",
              "      <script>\n",
              "        const buttonEl =\n",
              "          document.querySelector('#df-b12df02c-d840-47b1-b4f2-865a47eb5777 button.colab-df-convert');\n",
              "        buttonEl.style.display =\n",
              "          google.colab.kernel.accessAllowed ? 'block' : 'none';\n",
              "\n",
              "        async function convertToInteractive(key) {\n",
              "          const element = document.querySelector('#df-b12df02c-d840-47b1-b4f2-865a47eb5777');\n",
              "          const dataTable =\n",
              "            await google.colab.kernel.invokeFunction('convertToInteractive',\n",
              "                                                     [key], {});\n",
              "          if (!dataTable) return;\n",
              "\n",
              "          const docLinkHtml = 'Like what you see? Visit the ' +\n",
              "            '<a target=\"_blank\" href=https://colab.research.google.com/notebooks/data_table.ipynb>data table notebook</a>'\n",
              "            + ' to learn more about interactive tables.';\n",
              "          element.innerHTML = '';\n",
              "          dataTable['output_type'] = 'display_data';\n",
              "          await google.colab.output.renderOutput(dataTable, element);\n",
              "          const docLink = document.createElement('div');\n",
              "          docLink.innerHTML = docLinkHtml;\n",
              "          element.appendChild(docLink);\n",
              "        }\n",
              "      </script>\n",
              "    </div>\n",
              "  </div>\n",
              "  "
            ]
          },
          "metadata": {}
        }
      ]
    },
    {
      "cell_type": "markdown",
      "metadata": {
        "id": "CkctlYoIfKsN"
      },
      "source": [
        " A solução é normalizar os dados do conjunto de treinamento. Existem várias técnicas de normalização e aqui vamos empregar a normalização *min_max* que leva todos os valores ao intervalo $[0,1]$. \t"
      ]
    },
    {
      "cell_type": "markdown",
      "metadata": {
        "id": "gqjj8rmSk_hP"
      },
      "source": [
        "# Normalização com `scikit-learn`: Função *vs* Estimador\n",
        "\n",
        "Você pode simplesmente empregar uma função `minmax_scale` do `scikit-learn` para fazer a normalização e existem outras funções para os demais tipos de normalização."
      ]
    },
    {
      "cell_type": "code",
      "metadata": {
        "colab": {
          "base_uri": "https://localhost:8080/"
        },
        "id": "E01BzSFCbEjp",
        "outputId": "ce13c59b-dca9-4ef5-8a7a-de30c01e0194"
      },
      "source": [
        "from sklearn.preprocessing import minmax_scale\n",
        "\n",
        "minmax_scale(loans[['age','loan']])"
      ],
      "execution_count": null,
      "outputs": [
        {
          "output_type": "execute_result",
          "data": {
            "text/plain": [
              "array([[0.125     , 0.10891089],\n",
              "       [0.375     , 0.20792079],\n",
              "       [0.625     , 0.30693069],\n",
              "       [0.        , 0.00990099],\n",
              "       [0.375     , 0.5049505 ],\n",
              "       [0.8       , 0.        ],\n",
              "       [0.075     , 0.38118812],\n",
              "       [0.5       , 0.21782178],\n",
              "       [1.        , 0.40594059],\n",
              "       [0.7       , 1.        ],\n",
              "       [0.325     , 0.65346535]])"
            ]
          },
          "metadata": {},
          "execution_count": 250
        }
      ]
    },
    {
      "cell_type": "markdown",
      "metadata": {
        "id": "Dw5ozBxGls1N"
      },
      "source": [
        "Mas o uso de funções não permite aplicarmos a mesma regra de normalização em outros conjuntos de dados!"
      ]
    },
    {
      "cell_type": "code",
      "metadata": {
        "colab": {
          "base_uri": "https://localhost:8080/"
        },
        "id": "g7ikEJJVbp9J",
        "outputId": "20870169-72b0-4d4f-e177-c1b8ba778cb8"
      },
      "source": [
        "minmax_scale(case)"
      ],
      "execution_count": null,
      "outputs": [
        {
          "output_type": "execute_result",
          "data": {
            "text/plain": [
              "array([[0., 0.]])"
            ]
          },
          "metadata": {},
          "execution_count": 251
        }
      ]
    },
    {
      "cell_type": "markdown",
      "metadata": {
        "id": "qOtcKBatmApw"
      },
      "source": [
        "Neste caso, é melhor empregarmos um *estimador* do `scikit-learn`. O cálculo é o mesmo da função `minmaxscaler`, mas o uso de um estimador permite salvarmos os parâmetros empregados para a mesma aplicação em outros conjuntos de dados.\n",
        "\n",
        "> *Na normalização de dados com o `scikit-learn` é preferível uso de estimadores no lugar de funções para que a mesma transformação possa ser efetuada em outros conjuntos de dados. O mesmo princípio se aplica a outras transformações, como os encodes.*\n",
        "\n",
        "Vamos então aplicar o estimador `MinMaxScaler` no lugar da função."
      ]
    },
    {
      "cell_type": "code",
      "metadata": {
        "colab": {
          "base_uri": "https://localhost:8080/"
        },
        "id": "9GSTRiVibeXq",
        "outputId": "1dbe5590-fc9e-47e8-a27c-779060d28912"
      },
      "source": [
        "# apenas mostrando o resultado do estimador\n",
        "from sklearn.preprocessing import MinMaxScaler\n",
        "\n",
        "scaler = MinMaxScaler()\n",
        "print(scaler.fit(loans[['age','loan']]))\n",
        "\n",
        "print(scaler.data_max_)\n",
        "\n",
        "print(scaler.transform(loans[['age','loan']]))\n",
        "print(scaler.transform(case))"
      ],
      "execution_count": null,
      "outputs": [
        {
          "output_type": "stream",
          "name": "stdout",
          "text": [
            "MinMaxScaler()\n",
            "[6.0e+01 2.2e+05]\n",
            "[[0.125      0.10891089]\n",
            " [0.375      0.20792079]\n",
            " [0.625      0.30693069]\n",
            " [0.         0.00990099]\n",
            " [0.375      0.5049505 ]\n",
            " [0.8        0.        ]\n",
            " [0.075      0.38118812]\n",
            " [0.5        0.21782178]\n",
            " [1.         0.40594059]\n",
            " [0.7        1.        ]\n",
            " [0.325      0.65346535]]\n",
            "[[0.675      0.61386139]]\n"
          ]
        }
      ]
    },
    {
      "cell_type": "code",
      "metadata": {
        "colab": {
          "base_uri": "https://localhost:8080/",
          "height": 458
        },
        "id": "YwW6KT3gcKlp",
        "outputId": "b8cb8b4d-674c-4db6-e023-1bf6d27fe2a1"
      },
      "source": [
        "# criando os dados normalizados, 'scaled'\n",
        "loans_scaled = pd.DataFrame(scaler.transform(loans[['age','loan']]),columns=loans.columns[0:2])\n",
        "loans_scaled = pd.concat([loans_scaled,loans[['default']]],axis=1)\n",
        "display(loans_scaled)\n",
        "\n",
        "case_scaled = pd.DataFrame(scaler.transform(case),columns=case.columns[0:2])\n",
        "display(case_scaled)"
      ],
      "execution_count": null,
      "outputs": [
        {
          "output_type": "display_data",
          "data": {
            "text/plain": [
              "      age      loan  default\n",
              "0   0.125  0.108911        1\n",
              "1   0.375  0.207921        1\n",
              "2   0.625  0.306931        1\n",
              "3   0.000  0.009901        1\n",
              "4   0.375  0.504950        1\n",
              "5   0.800  0.000000        1\n",
              "6   0.075  0.381188        0\n",
              "7   0.500  0.217822        0\n",
              "8   1.000  0.405941        0\n",
              "9   0.700  1.000000        0\n",
              "10  0.325  0.653465        0"
            ],
            "text/html": [
              "\n",
              "  <div id=\"df-d0d5813e-95f4-405c-bb7f-ddfab625459b\">\n",
              "    <div class=\"colab-df-container\">\n",
              "      <div>\n",
              "<style scoped>\n",
              "    .dataframe tbody tr th:only-of-type {\n",
              "        vertical-align: middle;\n",
              "    }\n",
              "\n",
              "    .dataframe tbody tr th {\n",
              "        vertical-align: top;\n",
              "    }\n",
              "\n",
              "    .dataframe thead th {\n",
              "        text-align: right;\n",
              "    }\n",
              "</style>\n",
              "<table border=\"1\" class=\"dataframe\">\n",
              "  <thead>\n",
              "    <tr style=\"text-align: right;\">\n",
              "      <th></th>\n",
              "      <th>age</th>\n",
              "      <th>loan</th>\n",
              "      <th>default</th>\n",
              "    </tr>\n",
              "  </thead>\n",
              "  <tbody>\n",
              "    <tr>\n",
              "      <th>0</th>\n",
              "      <td>0.125</td>\n",
              "      <td>0.108911</td>\n",
              "      <td>1</td>\n",
              "    </tr>\n",
              "    <tr>\n",
              "      <th>1</th>\n",
              "      <td>0.375</td>\n",
              "      <td>0.207921</td>\n",
              "      <td>1</td>\n",
              "    </tr>\n",
              "    <tr>\n",
              "      <th>2</th>\n",
              "      <td>0.625</td>\n",
              "      <td>0.306931</td>\n",
              "      <td>1</td>\n",
              "    </tr>\n",
              "    <tr>\n",
              "      <th>3</th>\n",
              "      <td>0.000</td>\n",
              "      <td>0.009901</td>\n",
              "      <td>1</td>\n",
              "    </tr>\n",
              "    <tr>\n",
              "      <th>4</th>\n",
              "      <td>0.375</td>\n",
              "      <td>0.504950</td>\n",
              "      <td>1</td>\n",
              "    </tr>\n",
              "    <tr>\n",
              "      <th>5</th>\n",
              "      <td>0.800</td>\n",
              "      <td>0.000000</td>\n",
              "      <td>1</td>\n",
              "    </tr>\n",
              "    <tr>\n",
              "      <th>6</th>\n",
              "      <td>0.075</td>\n",
              "      <td>0.381188</td>\n",
              "      <td>0</td>\n",
              "    </tr>\n",
              "    <tr>\n",
              "      <th>7</th>\n",
              "      <td>0.500</td>\n",
              "      <td>0.217822</td>\n",
              "      <td>0</td>\n",
              "    </tr>\n",
              "    <tr>\n",
              "      <th>8</th>\n",
              "      <td>1.000</td>\n",
              "      <td>0.405941</td>\n",
              "      <td>0</td>\n",
              "    </tr>\n",
              "    <tr>\n",
              "      <th>9</th>\n",
              "      <td>0.700</td>\n",
              "      <td>1.000000</td>\n",
              "      <td>0</td>\n",
              "    </tr>\n",
              "    <tr>\n",
              "      <th>10</th>\n",
              "      <td>0.325</td>\n",
              "      <td>0.653465</td>\n",
              "      <td>0</td>\n",
              "    </tr>\n",
              "  </tbody>\n",
              "</table>\n",
              "</div>\n",
              "      <button class=\"colab-df-convert\" onclick=\"convertToInteractive('df-d0d5813e-95f4-405c-bb7f-ddfab625459b')\"\n",
              "              title=\"Convert this dataframe to an interactive table.\"\n",
              "              style=\"display:none;\">\n",
              "        \n",
              "  <svg xmlns=\"http://www.w3.org/2000/svg\" height=\"24px\"viewBox=\"0 0 24 24\"\n",
              "       width=\"24px\">\n",
              "    <path d=\"M0 0h24v24H0V0z\" fill=\"none\"/>\n",
              "    <path d=\"M18.56 5.44l.94 2.06.94-2.06 2.06-.94-2.06-.94-.94-2.06-.94 2.06-2.06.94zm-11 1L8.5 8.5l.94-2.06 2.06-.94-2.06-.94L8.5 2.5l-.94 2.06-2.06.94zm10 10l.94 2.06.94-2.06 2.06-.94-2.06-.94-.94-2.06-.94 2.06-2.06.94z\"/><path d=\"M17.41 7.96l-1.37-1.37c-.4-.4-.92-.59-1.43-.59-.52 0-1.04.2-1.43.59L10.3 9.45l-7.72 7.72c-.78.78-.78 2.05 0 2.83L4 21.41c.39.39.9.59 1.41.59.51 0 1.02-.2 1.41-.59l7.78-7.78 2.81-2.81c.8-.78.8-2.07 0-2.86zM5.41 20L4 18.59l7.72-7.72 1.47 1.35L5.41 20z\"/>\n",
              "  </svg>\n",
              "      </button>\n",
              "      \n",
              "  <style>\n",
              "    .colab-df-container {\n",
              "      display:flex;\n",
              "      flex-wrap:wrap;\n",
              "      gap: 12px;\n",
              "    }\n",
              "\n",
              "    .colab-df-convert {\n",
              "      background-color: #E8F0FE;\n",
              "      border: none;\n",
              "      border-radius: 50%;\n",
              "      cursor: pointer;\n",
              "      display: none;\n",
              "      fill: #1967D2;\n",
              "      height: 32px;\n",
              "      padding: 0 0 0 0;\n",
              "      width: 32px;\n",
              "    }\n",
              "\n",
              "    .colab-df-convert:hover {\n",
              "      background-color: #E2EBFA;\n",
              "      box-shadow: 0px 1px 2px rgba(60, 64, 67, 0.3), 0px 1px 3px 1px rgba(60, 64, 67, 0.15);\n",
              "      fill: #174EA6;\n",
              "    }\n",
              "\n",
              "    [theme=dark] .colab-df-convert {\n",
              "      background-color: #3B4455;\n",
              "      fill: #D2E3FC;\n",
              "    }\n",
              "\n",
              "    [theme=dark] .colab-df-convert:hover {\n",
              "      background-color: #434B5C;\n",
              "      box-shadow: 0px 1px 3px 1px rgba(0, 0, 0, 0.15);\n",
              "      filter: drop-shadow(0px 1px 2px rgba(0, 0, 0, 0.3));\n",
              "      fill: #FFFFFF;\n",
              "    }\n",
              "  </style>\n",
              "\n",
              "      <script>\n",
              "        const buttonEl =\n",
              "          document.querySelector('#df-d0d5813e-95f4-405c-bb7f-ddfab625459b button.colab-df-convert');\n",
              "        buttonEl.style.display =\n",
              "          google.colab.kernel.accessAllowed ? 'block' : 'none';\n",
              "\n",
              "        async function convertToInteractive(key) {\n",
              "          const element = document.querySelector('#df-d0d5813e-95f4-405c-bb7f-ddfab625459b');\n",
              "          const dataTable =\n",
              "            await google.colab.kernel.invokeFunction('convertToInteractive',\n",
              "                                                     [key], {});\n",
              "          if (!dataTable) return;\n",
              "\n",
              "          const docLinkHtml = 'Like what you see? Visit the ' +\n",
              "            '<a target=\"_blank\" href=https://colab.research.google.com/notebooks/data_table.ipynb>data table notebook</a>'\n",
              "            + ' to learn more about interactive tables.';\n",
              "          element.innerHTML = '';\n",
              "          dataTable['output_type'] = 'display_data';\n",
              "          await google.colab.output.renderOutput(dataTable, element);\n",
              "          const docLink = document.createElement('div');\n",
              "          docLink.innerHTML = docLinkHtml;\n",
              "          element.appendChild(docLink);\n",
              "        }\n",
              "      </script>\n",
              "    </div>\n",
              "  </div>\n",
              "  "
            ]
          },
          "metadata": {}
        },
        {
          "output_type": "display_data",
          "data": {
            "text/plain": [
              "     age      loan\n",
              "0  0.675  0.613861"
            ],
            "text/html": [
              "\n",
              "  <div id=\"df-b44de07a-0c2a-42fe-9885-84aaa814e68b\">\n",
              "    <div class=\"colab-df-container\">\n",
              "      <div>\n",
              "<style scoped>\n",
              "    .dataframe tbody tr th:only-of-type {\n",
              "        vertical-align: middle;\n",
              "    }\n",
              "\n",
              "    .dataframe tbody tr th {\n",
              "        vertical-align: top;\n",
              "    }\n",
              "\n",
              "    .dataframe thead th {\n",
              "        text-align: right;\n",
              "    }\n",
              "</style>\n",
              "<table border=\"1\" class=\"dataframe\">\n",
              "  <thead>\n",
              "    <tr style=\"text-align: right;\">\n",
              "      <th></th>\n",
              "      <th>age</th>\n",
              "      <th>loan</th>\n",
              "    </tr>\n",
              "  </thead>\n",
              "  <tbody>\n",
              "    <tr>\n",
              "      <th>0</th>\n",
              "      <td>0.675</td>\n",
              "      <td>0.613861</td>\n",
              "    </tr>\n",
              "  </tbody>\n",
              "</table>\n",
              "</div>\n",
              "      <button class=\"colab-df-convert\" onclick=\"convertToInteractive('df-b44de07a-0c2a-42fe-9885-84aaa814e68b')\"\n",
              "              title=\"Convert this dataframe to an interactive table.\"\n",
              "              style=\"display:none;\">\n",
              "        \n",
              "  <svg xmlns=\"http://www.w3.org/2000/svg\" height=\"24px\"viewBox=\"0 0 24 24\"\n",
              "       width=\"24px\">\n",
              "    <path d=\"M0 0h24v24H0V0z\" fill=\"none\"/>\n",
              "    <path d=\"M18.56 5.44l.94 2.06.94-2.06 2.06-.94-2.06-.94-.94-2.06-.94 2.06-2.06.94zm-11 1L8.5 8.5l.94-2.06 2.06-.94-2.06-.94L8.5 2.5l-.94 2.06-2.06.94zm10 10l.94 2.06.94-2.06 2.06-.94-2.06-.94-.94-2.06-.94 2.06-2.06.94z\"/><path d=\"M17.41 7.96l-1.37-1.37c-.4-.4-.92-.59-1.43-.59-.52 0-1.04.2-1.43.59L10.3 9.45l-7.72 7.72c-.78.78-.78 2.05 0 2.83L4 21.41c.39.39.9.59 1.41.59.51 0 1.02-.2 1.41-.59l7.78-7.78 2.81-2.81c.8-.78.8-2.07 0-2.86zM5.41 20L4 18.59l7.72-7.72 1.47 1.35L5.41 20z\"/>\n",
              "  </svg>\n",
              "      </button>\n",
              "      \n",
              "  <style>\n",
              "    .colab-df-container {\n",
              "      display:flex;\n",
              "      flex-wrap:wrap;\n",
              "      gap: 12px;\n",
              "    }\n",
              "\n",
              "    .colab-df-convert {\n",
              "      background-color: #E8F0FE;\n",
              "      border: none;\n",
              "      border-radius: 50%;\n",
              "      cursor: pointer;\n",
              "      display: none;\n",
              "      fill: #1967D2;\n",
              "      height: 32px;\n",
              "      padding: 0 0 0 0;\n",
              "      width: 32px;\n",
              "    }\n",
              "\n",
              "    .colab-df-convert:hover {\n",
              "      background-color: #E2EBFA;\n",
              "      box-shadow: 0px 1px 2px rgba(60, 64, 67, 0.3), 0px 1px 3px 1px rgba(60, 64, 67, 0.15);\n",
              "      fill: #174EA6;\n",
              "    }\n",
              "\n",
              "    [theme=dark] .colab-df-convert {\n",
              "      background-color: #3B4455;\n",
              "      fill: #D2E3FC;\n",
              "    }\n",
              "\n",
              "    [theme=dark] .colab-df-convert:hover {\n",
              "      background-color: #434B5C;\n",
              "      box-shadow: 0px 1px 3px 1px rgba(0, 0, 0, 0.15);\n",
              "      filter: drop-shadow(0px 1px 2px rgba(0, 0, 0, 0.3));\n",
              "      fill: #FFFFFF;\n",
              "    }\n",
              "  </style>\n",
              "\n",
              "      <script>\n",
              "        const buttonEl =\n",
              "          document.querySelector('#df-b44de07a-0c2a-42fe-9885-84aaa814e68b button.colab-df-convert');\n",
              "        buttonEl.style.display =\n",
              "          google.colab.kernel.accessAllowed ? 'block' : 'none';\n",
              "\n",
              "        async function convertToInteractive(key) {\n",
              "          const element = document.querySelector('#df-b44de07a-0c2a-42fe-9885-84aaa814e68b');\n",
              "          const dataTable =\n",
              "            await google.colab.kernel.invokeFunction('convertToInteractive',\n",
              "                                                     [key], {});\n",
              "          if (!dataTable) return;\n",
              "\n",
              "          const docLinkHtml = 'Like what you see? Visit the ' +\n",
              "            '<a target=\"_blank\" href=https://colab.research.google.com/notebooks/data_table.ipynb>data table notebook</a>'\n",
              "            + ' to learn more about interactive tables.';\n",
              "          element.innerHTML = '';\n",
              "          dataTable['output_type'] = 'display_data';\n",
              "          await google.colab.output.renderOutput(dataTable, element);\n",
              "          const docLink = document.createElement('div');\n",
              "          docLink.innerHTML = docLinkHtml;\n",
              "          element.appendChild(docLink);\n",
              "        }\n",
              "      </script>\n",
              "    </div>\n",
              "  </div>\n",
              "  "
            ]
          },
          "metadata": {}
        }
      ]
    },
    {
      "cell_type": "markdown",
      "metadata": {
        "id": "98k9BdXbol8x"
      },
      "source": [
        "Podemos agora refazer o cálculo das distância empregando os dados normalizados e identificar os k-vizinhos mais próximos e a classe mais frenquente dentre eles. "
      ]
    },
    {
      "cell_type": "code",
      "metadata": {
        "colab": {
          "base_uri": "https://localhost:8080/",
          "height": 586
        },
        "id": "RIdCwVz5eRjq",
        "outputId": "92e5ef5e-8ff3-418f-9fbf-f69ae023ea42"
      },
      "source": [
        "dist = DistanceMetric.get_metric('euclidean')\n",
        "d = dist.pairwise(loans_scaled[['age','loan']],case_scaled[['age','loan']])\n",
        "\n",
        "loans_scaled['distance'] = d\n",
        "\n",
        "k3_neighbors_scaled = loans_scaled.nsmallest(3,'distance')\n",
        "\n",
        "f, ax = plt.subplots(1,1,figsize=(6,6))\n",
        "cmap_data = plt.cm.coolwarm \n",
        "\n",
        "ax.plot(case_scaled.age, case_scaled.loan, 'go', markersize=220, alpha=0.10)\n",
        "ax.scatter(k3_neighbors_scaled.age, k3_neighbors_scaled.loan, edgecolors='k', c='w', alpha=0.6, s=400)\n",
        "ax.scatter(loans_scaled.age, loans_scaled.loan, c=loans_scaled.default, cmap=cmap_data, alpha=0.8, s=80)\n",
        "ax.plot(case_scaled.age, case_scaled.loan, 'go', markersize=14, alpha=0.6)\n",
        "\n",
        "a_circle = plt.Circle((case_scaled.age, case_scaled.loan), k3_neighbors_scaled.distance.max(), edgecolor='k', linestyle='dashed',fill=False)\n",
        "ax.add_artist(a_circle)\n",
        "\n",
        "plt.text(case_scaled.age+0.05, case_scaled.loan,'Default ?', weight='bold')\n",
        "plt.title('Loans',weight='bold',fontsize=14)\n",
        "plt.xlabel(\"age\")\n",
        "plt.ylabel(\"loan\")\n",
        "\n",
        "custom_lines = [Line2D([0], [0], color=cmap_data(0.), lw=6),\n",
        "                Line2D([0], [0], color=cmap_data(1.), lw=6)]\n",
        "plt.legend(custom_lines, ['No', 'Yes'], loc='upper right',title='default')\n",
        "\n",
        "plt.show()\n",
        "\n",
        "display(k3_neighbors_scaled)"
      ],
      "execution_count": null,
      "outputs": [
        {
          "output_type": "stream",
          "name": "stderr",
          "text": [
            "/usr/local/lib/python3.7/dist-packages/sklearn/neighbors/_distance_metric.py:14: FutureWarning: sklearn.neighbors.DistanceMetric has been moved to sklearn.metrics.DistanceMetric in 1.0. This import path will be removed in 1.3\n",
            "  category=FutureWarning,\n"
          ]
        },
        {
          "output_type": "display_data",
          "data": {
            "text/plain": [
              "<Figure size 432x432 with 1 Axes>"
            ],
            "image/png": "[encoded data removed]"
          },
          "metadata": {
            "needs_background": "light"
          }
        },
        {
          "output_type": "display_data",
          "data": {
            "text/plain": [
              "      age      loan  default  distance\n",
              "2   0.625  0.306931        1  0.310977\n",
              "4   0.375  0.504950        1  0.319158\n",
              "10  0.325  0.653465        0  0.352234"
            ],
            "text/html": [
              "\n",
              "  <div id=\"df-e4609fc8-2a6d-49dc-92e6-5f9eb03d6705\">\n",
              "    <div class=\"colab-df-container\">\n",
              "      <div>\n",
              "<style scoped>\n",
              "    .dataframe tbody tr th:only-of-type {\n",
              "        vertical-align: middle;\n",
              "    }\n",
              "\n",
              "    .dataframe tbody tr th {\n",
              "        vertical-align: top;\n",
              "    }\n",
              "\n",
              "    .dataframe thead th {\n",
              "        text-align: right;\n",
              "    }\n",
              "</style>\n",
              "<table border=\"1\" class=\"dataframe\">\n",
              "  <thead>\n",
              "    <tr style=\"text-align: right;\">\n",
              "      <th></th>\n",
              "      <th>age</th>\n",
              "      <th>loan</th>\n",
              "      <th>default</th>\n",
              "      <th>distance</th>\n",
              "    </tr>\n",
              "  </thead>\n",
              "  <tbody>\n",
              "    <tr>\n",
              "      <th>2</th>\n",
              "      <td>0.625</td>\n",
              "      <td>0.306931</td>\n",
              "      <td>1</td>\n",
              "      <td>0.310977</td>\n",
              "    </tr>\n",
              "    <tr>\n",
              "      <th>4</th>\n",
              "      <td>0.375</td>\n",
              "      <td>0.504950</td>\n",
              "      <td>1</td>\n",
              "      <td>0.319158</td>\n",
              "    </tr>\n",
              "    <tr>\n",
              "      <th>10</th>\n",
              "      <td>0.325</td>\n",
              "      <td>0.653465</td>\n",
              "      <td>0</td>\n",
              "      <td>0.352234</td>\n",
              "    </tr>\n",
              "  </tbody>\n",
              "</table>\n",
              "</div>\n",
              "      <button class=\"colab-df-convert\" onclick=\"convertToInteractive('df-e4609fc8-2a6d-49dc-92e6-5f9eb03d6705')\"\n",
              "              title=\"Convert this dataframe to an interactive table.\"\n",
              "              style=\"display:none;\">\n",
              "        \n",
              "  <svg xmlns=\"http://www.w3.org/2000/svg\" height=\"24px\"viewBox=\"0 0 24 24\"\n",
              "       width=\"24px\">\n",
              "    <path d=\"M0 0h24v24H0V0z\" fill=\"none\"/>\n",
              "    <path d=\"M18.56 5.44l.94 2.06.94-2.06 2.06-.94-2.06-.94-.94-2.06-.94 2.06-2.06.94zm-11 1L8.5 8.5l.94-2.06 2.06-.94-2.06-.94L8.5 2.5l-.94 2.06-2.06.94zm10 10l.94 2.06.94-2.06 2.06-.94-2.06-.94-.94-2.06-.94 2.06-2.06.94z\"/><path d=\"M17.41 7.96l-1.37-1.37c-.4-.4-.92-.59-1.43-.59-.52 0-1.04.2-1.43.59L10.3 9.45l-7.72 7.72c-.78.78-.78 2.05 0 2.83L4 21.41c.39.39.9.59 1.41.59.51 0 1.02-.2 1.41-.59l7.78-7.78 2.81-2.81c.8-.78.8-2.07 0-2.86zM5.41 20L4 18.59l7.72-7.72 1.47 1.35L5.41 20z\"/>\n",
              "  </svg>\n",
              "      </button>\n",
              "      \n",
              "  <style>\n",
              "    .colab-df-container {\n",
              "      display:flex;\n",
              "      flex-wrap:wrap;\n",
              "      gap: 12px;\n",
              "    }\n",
              "\n",
              "    .colab-df-convert {\n",
              "      background-color: #E8F0FE;\n",
              "      border: none;\n",
              "      border-radius: 50%;\n",
              "      cursor: pointer;\n",
              "      display: none;\n",
              "      fill: #1967D2;\n",
              "      height: 32px;\n",
              "      padding: 0 0 0 0;\n",
              "      width: 32px;\n",
              "    }\n",
              "\n",
              "    .colab-df-convert:hover {\n",
              "      background-color: #E2EBFA;\n",
              "      box-shadow: 0px 1px 2px rgba(60, 64, 67, 0.3), 0px 1px 3px 1px rgba(60, 64, 67, 0.15);\n",
              "      fill: #174EA6;\n",
              "    }\n",
              "\n",
              "    [theme=dark] .colab-df-convert {\n",
              "      background-color: #3B4455;\n",
              "      fill: #D2E3FC;\n",
              "    }\n",
              "\n",
              "    [theme=dark] .colab-df-convert:hover {\n",
              "      background-color: #434B5C;\n",
              "      box-shadow: 0px 1px 3px 1px rgba(0, 0, 0, 0.15);\n",
              "      filter: drop-shadow(0px 1px 2px rgba(0, 0, 0, 0.3));\n",
              "      fill: #FFFFFF;\n",
              "    }\n",
              "  </style>\n",
              "\n",
              "      <script>\n",
              "        const buttonEl =\n",
              "          document.querySelector('#df-e4609fc8-2a6d-49dc-92e6-5f9eb03d6705 button.colab-df-convert');\n",
              "        buttonEl.style.display =\n",
              "          google.colab.kernel.accessAllowed ? 'block' : 'none';\n",
              "\n",
              "        async function convertToInteractive(key) {\n",
              "          const element = document.querySelector('#df-e4609fc8-2a6d-49dc-92e6-5f9eb03d6705');\n",
              "          const dataTable =\n",
              "            await google.colab.kernel.invokeFunction('convertToInteractive',\n",
              "                                                     [key], {});\n",
              "          if (!dataTable) return;\n",
              "\n",
              "          const docLinkHtml = 'Like what you see? Visit the ' +\n",
              "            '<a target=\"_blank\" href=https://colab.research.google.com/notebooks/data_table.ipynb>data table notebook</a>'\n",
              "            + ' to learn more about interactive tables.';\n",
              "          element.innerHTML = '';\n",
              "          dataTable['output_type'] = 'display_data';\n",
              "          await google.colab.output.renderOutput(dataTable, element);\n",
              "          const docLink = document.createElement('div');\n",
              "          docLink.innerHTML = docLinkHtml;\n",
              "          element.appendChild(docLink);\n",
              "        }\n",
              "      </script>\n",
              "    </div>\n",
              "  </div>\n",
              "  "
            ]
          },
          "metadata": {}
        }
      ]
    },
    {
      "cell_type": "markdown",
      "metadata": {
        "id": "6NkJDooApXxf"
      },
      "source": [
        "Como você pode ver o resultado agora é outro e a classe prevista do empréstimo será *Default Yes* (zeros), com probabilidade de $2/3$ e, portanto, não deveríamos conceder esse empréstimo.  "
      ]
    },
    {
      "cell_type": "markdown",
      "metadata": {
        "id": "SmHnoe2gqABk"
      },
      "source": [
        "# Knn `scikit-learn` \n",
        "\n",
        "Vamos empregar agora o estimador `KNeighborsClassifier` do `scikit-learn` para o mesmo problema acima. O modo de uso do estimador é o mesmo que empregamos para o classificador logístico e será empregado em todos os demais modelos supervisionados que iremos implementar."
      ]
    },
    {
      "cell_type": "code",
      "metadata": {
        "id": "SfWjiZ_cDzsT",
        "colab": {
          "base_uri": "https://localhost:8080/"
        },
        "outputId": "f841b9eb-18a3-43a9-f640-aa1b77b3fcda"
      },
      "source": [
        "from sklearn import neighbors\n",
        "from sklearn.preprocessing import MinMaxScaler\n",
        "\n",
        "X = loans[['age','loan']]      \n",
        "y = loans.default   \n",
        "\n",
        "scaler = MinMaxScaler()\n",
        "scaler.fit(X)\n",
        "X = scaler.transform(X) \n",
        "case_scaled = scaler.transform(case)\n",
        "\n",
        "clf = neighbors.KNeighborsClassifier(n_neighbors = 3)\n",
        "\n",
        "clf.fit(X, y)                 \n",
        "\n",
        "y_pred = clf.predict(case_scaled)\n",
        "\n",
        "default_pred = ['No','Yes'][y_pred[0]]\n",
        "print('Default? ', default_pred)"
      ],
      "execution_count": null,
      "outputs": [
        {
          "output_type": "stream",
          "name": "stdout",
          "text": [
            "Default?  Yes\n"
          ]
        }
      ]
    },
    {
      "cell_type": "markdown",
      "metadata": {
        "id": "RhI5Ezf6n0Du"
      },
      "source": [
        "# CASO: 10 year risk of coronary heart disease CHD\n",
        "\n",
        "Vamos agora empregar os mesmos dados que empregamos antes com o classificador logístico e aplicar um modelo de K-Vizinhos Mais Próximos.\n"
      ]
    },
    {
      "cell_type": "code",
      "metadata": {
        "colab": {
          "base_uri": "https://localhost:8080/",
          "height": 250
        },
        "outputId": "93180c98-7e70-448b-d7af-bd7c43ec91be",
        "id": "cZ91t_WXn0ED"
      },
      "source": [
        "df = pd.read_csv('https://raw.githubusercontent.com/TarekDib03/Analytics/master/Week3%20-%20Logistic%20Regression/Data/framingham.csv')\n",
        "df.head()"
      ],
      "execution_count": null,
      "outputs": [
        {
          "output_type": "execute_result",
          "data": {
            "text/plain": [
              "   male  age  education  currentSmoker  cigsPerDay  BPMeds  prevalentStroke  \\\n",
              "0     1   39        4.0              0         0.0     0.0                0   \n",
              "1     0   46        2.0              0         0.0     0.0                0   \n",
              "2     1   48        1.0              1        20.0     0.0                0   \n",
              "3     0   61        3.0              1        30.0     0.0                0   \n",
              "4     0   46        3.0              1        23.0     0.0                0   \n",
              "\n",
              "   prevalentHyp  diabetes  totChol  sysBP  diaBP    BMI  heartRate  glucose  \\\n",
              "0             0         0    195.0  106.0   70.0  26.97       80.0     77.0   \n",
              "1             0         0    250.0  121.0   81.0  28.73       95.0     76.0   \n",
              "2             0         0    245.0  127.5   80.0  25.34       75.0     70.0   \n",
              "3             1         0    225.0  150.0   95.0  28.58       65.0    103.0   \n",
              "4             0         0    285.0  130.0   84.0  23.10       85.0     85.0   \n",
              "\n",
              "   TenYearCHD  \n",
              "0           0  \n",
              "1           0  \n",
              "2           0  \n",
              "3           1  \n",
              "4           0  "
            ],
            "text/html": [
              "\n",
              "  <div id=\"df-3804d174-99a7-41d5-adfe-d5b51c2ad37d\">\n",
              "    <div class=\"colab-df-container\">\n",
              "      <div>\n",
              "<style scoped>\n",
              "    .dataframe tbody tr th:only-of-type {\n",
              "        vertical-align: middle;\n",
              "    }\n",
              "\n",
              "    .dataframe tbody tr th {\n",
              "        vertical-align: top;\n",
              "    }\n",
              "\n",
              "    .dataframe thead th {\n",
              "        text-align: right;\n",
              "    }\n",
              "</style>\n",
              "<table border=\"1\" class=\"dataframe\">\n",
              "  <thead>\n",
              "    <tr style=\"text-align: right;\">\n",
              "      <th></th>\n",
              "      <th>male</th>\n",
              "      <th>age</th>\n",
              "      <th>education</th>\n",
              "      <th>currentSmoker</th>\n",
              "      <th>cigsPerDay</th>\n",
              "      <th>BPMeds</th>\n",
              "      <th>prevalentStroke</th>\n",
              "      <th>prevalentHyp</th>\n",
              "      <th>diabetes</th>\n",
              "      <th>totChol</th>\n",
              "      <th>sysBP</th>\n",
              "      <th>diaBP</th>\n",
              "      <th>BMI</th>\n",
              "      <th>heartRate</th>\n",
              "      <th>glucose</th>\n",
              "      <th>TenYearCHD</th>\n",
              "    </tr>\n",
              "  </thead>\n",
              "  <tbody>\n",
              "    <tr>\n",
              "      <th>0</th>\n",
              "      <td>1</td>\n",
              "      <td>39</td>\n",
              "      <td>4.0</td>\n",
              "      <td>0</td>\n",
              "      <td>0.0</td>\n",
              "      <td>0.0</td>\n",
              "      <td>0</td>\n",
              "      <td>0</td>\n",
              "      <td>0</td>\n",
              "      <td>195.0</td>\n",
              "      <td>106.0</td>\n",
              "      <td>70.0</td>\n",
              "      <td>26.97</td>\n",
              "      <td>80.0</td>\n",
              "      <td>77.0</td>\n",
              "      <td>0</td>\n",
              "    </tr>\n",
              "    <tr>\n",
              "      <th>1</th>\n",
              "      <td>0</td>\n",
              "      <td>46</td>\n",
              "      <td>2.0</td>\n",
              "      <td>0</td>\n",
              "      <td>0.0</td>\n",
              "      <td>0.0</td>\n",
              "      <td>0</td>\n",
              "      <td>0</td>\n",
              "      <td>0</td>\n",
              "      <td>250.0</td>\n",
              "      <td>121.0</td>\n",
              "      <td>81.0</td>\n",
              "      <td>28.73</td>\n",
              "      <td>95.0</td>\n",
              "      <td>76.0</td>\n",
              "      <td>0</td>\n",
              "    </tr>\n",
              "    <tr>\n",
              "      <th>2</th>\n",
              "      <td>1</td>\n",
              "      <td>48</td>\n",
              "      <td>1.0</td>\n",
              "      <td>1</td>\n",
              "      <td>20.0</td>\n",
              "      <td>0.0</td>\n",
              "      <td>0</td>\n",
              "      <td>0</td>\n",
              "      <td>0</td>\n",
              "      <td>245.0</td>\n",
              "      <td>127.5</td>\n",
              "      <td>80.0</td>\n",
              "      <td>25.34</td>\n",
              "      <td>75.0</td>\n",
              "      <td>70.0</td>\n",
              "      <td>0</td>\n",
              "    </tr>\n",
              "    <tr>\n",
              "      <th>3</th>\n",
              "      <td>0</td>\n",
              "      <td>61</td>\n",
              "      <td>3.0</td>\n",
              "      <td>1</td>\n",
              "      <td>30.0</td>\n",
              "      <td>0.0</td>\n",
              "      <td>0</td>\n",
              "      <td>1</td>\n",
              "      <td>0</td>\n",
              "      <td>225.0</td>\n",
              "      <td>150.0</td>\n",
              "      <td>95.0</td>\n",
              "      <td>28.58</td>\n",
              "      <td>65.0</td>\n",
              "      <td>103.0</td>\n",
              "      <td>1</td>\n",
              "    </tr>\n",
              "    <tr>\n",
              "      <th>4</th>\n",
              "      <td>0</td>\n",
              "      <td>46</td>\n",
              "      <td>3.0</td>\n",
              "      <td>1</td>\n",
              "      <td>23.0</td>\n",
              "      <td>0.0</td>\n",
              "      <td>0</td>\n",
              "      <td>0</td>\n",
              "      <td>0</td>\n",
              "      <td>285.0</td>\n",
              "      <td>130.0</td>\n",
              "      <td>84.0</td>\n",
              "      <td>23.10</td>\n",
              "      <td>85.0</td>\n",
              "      <td>85.0</td>\n",
              "      <td>0</td>\n",
              "    </tr>\n",
              "  </tbody>\n",
              "</table>\n",
              "</div>\n",
              "      <button class=\"colab-df-convert\" onclick=\"convertToInteractive('df-3804d174-99a7-41d5-adfe-d5b51c2ad37d')\"\n",
              "              title=\"Convert this dataframe to an interactive table.\"\n",
              "              style=\"display:none;\">\n",
              "        \n",
              "  <svg xmlns=\"http://www.w3.org/2000/svg\" height=\"24px\"viewBox=\"0 0 24 24\"\n",
              "       width=\"24px\">\n",
              "    <path d=\"M0 0h24v24H0V0z\" fill=\"none\"/>\n",
              "    <path d=\"M18.56 5.44l.94 2.06.94-2.06 2.06-.94-2.06-.94-.94-2.06-.94 2.06-2.06.94zm-11 1L8.5 8.5l.94-2.06 2.06-.94-2.06-.94L8.5 2.5l-.94 2.06-2.06.94zm10 10l.94 2.06.94-2.06 2.06-.94-2.06-.94-.94-2.06-.94 2.06-2.06.94z\"/><path d=\"M17.41 7.96l-1.37-1.37c-.4-.4-.92-.59-1.43-.59-.52 0-1.04.2-1.43.59L10.3 9.45l-7.72 7.72c-.78.78-.78 2.05 0 2.83L4 21.41c.39.39.9.59 1.41.59.51 0 1.02-.2 1.41-.59l7.78-7.78 2.81-2.81c.8-.78.8-2.07 0-2.86zM5.41 20L4 18.59l7.72-7.72 1.47 1.35L5.41 20z\"/>\n",
              "  </svg>\n",
              "      </button>\n",
              "      \n",
              "  <style>\n",
              "    .colab-df-container {\n",
              "      display:flex;\n",
              "      flex-wrap:wrap;\n",
              "      gap: 12px;\n",
              "    }\n",
              "\n",
              "    .colab-df-convert {\n",
              "      background-color: #E8F0FE;\n",
              "      border: none;\n",
              "      border-radius: 50%;\n",
              "      cursor: pointer;\n",
              "      display: none;\n",
              "      fill: #1967D2;\n",
              "      height: 32px;\n",
              "      padding: 0 0 0 0;\n",
              "      width: 32px;\n",
              "    }\n",
              "\n",
              "    .colab-df-convert:hover {\n",
              "      background-color: #E2EBFA;\n",
              "      box-shadow: 0px 1px 2px rgba(60, 64, 67, 0.3), 0px 1px 3px 1px rgba(60, 64, 67, 0.15);\n",
              "      fill: #174EA6;\n",
              "    }\n",
              "\n",
              "    [theme=dark] .colab-df-convert {\n",
              "      background-color: #3B4455;\n",
              "      fill: #D2E3FC;\n",
              "    }\n",
              "\n",
              "    [theme=dark] .colab-df-convert:hover {\n",
              "      background-color: #434B5C;\n",
              "      box-shadow: 0px 1px 3px 1px rgba(0, 0, 0, 0.15);\n",
              "      filter: drop-shadow(0px 1px 2px rgba(0, 0, 0, 0.3));\n",
              "      fill: #FFFFFF;\n",
              "    }\n",
              "  </style>\n",
              "\n",
              "      <script>\n",
              "        const buttonEl =\n",
              "          document.querySelector('#df-3804d174-99a7-41d5-adfe-d5b51c2ad37d button.colab-df-convert');\n",
              "        buttonEl.style.display =\n",
              "          google.colab.kernel.accessAllowed ? 'block' : 'none';\n",
              "\n",
              "        async function convertToInteractive(key) {\n",
              "          const element = document.querySelector('#df-3804d174-99a7-41d5-adfe-d5b51c2ad37d');\n",
              "          const dataTable =\n",
              "            await google.colab.kernel.invokeFunction('convertToInteractive',\n",
              "                                                     [key], {});\n",
              "          if (!dataTable) return;\n",
              "\n",
              "          const docLinkHtml = 'Like what you see? Visit the ' +\n",
              "            '<a target=\"_blank\" href=https://colab.research.google.com/notebooks/data_table.ipynb>data table notebook</a>'\n",
              "            + ' to learn more about interactive tables.';\n",
              "          element.innerHTML = '';\n",
              "          dataTable['output_type'] = 'display_data';\n",
              "          await google.colab.output.renderOutput(dataTable, element);\n",
              "          const docLink = document.createElement('div');\n",
              "          docLink.innerHTML = docLinkHtml;\n",
              "          element.appendChild(docLink);\n",
              "        }\n",
              "      </script>\n",
              "    </div>\n",
              "  </div>\n",
              "  "
            ]
          },
          "metadata": {},
          "execution_count": 256
        }
      ]
    },
    {
      "cell_type": "markdown",
      "metadata": {
        "id": "ZzK1Cfabn0EG"
      },
      "source": [
        "## Preparação dos Dados\n",
        "\n"
      ]
    },
    {
      "cell_type": "markdown",
      "metadata": {
        "id": "pd7Vrrm4n0EG"
      },
      "source": [
        "Vamos, como antes, simplesmente excluir os dados ausentes."
      ]
    },
    {
      "cell_type": "code",
      "metadata": {
        "colab": {
          "base_uri": "https://localhost:8080/"
        },
        "outputId": "48627f31-3e7a-4dcf-941b-4127680d006e",
        "id": "3_SV-Ekqn0EI"
      },
      "source": [
        "print('Before',len(df))\n",
        "df = df.dropna()\n",
        "print('After',len(df))"
      ],
      "execution_count": null,
      "outputs": [
        {
          "output_type": "stream",
          "name": "stdout",
          "text": [
            "Before 4240\n",
            "After 3658\n"
          ]
        }
      ]
    },
    {
      "cell_type": "markdown",
      "metadata": {
        "id": "Yew5WkqAn0EJ"
      },
      "source": [
        "## Aplicando o Modelo Knn"
      ]
    },
    {
      "cell_type": "markdown",
      "metadata": {
        "id": "kRd9peV8n0EJ"
      },
      "source": [
        "Vamos agora aplicar um modelo Knn, k=3, e comparar os resultados com o classificador logístico. \n",
        "\n",
        "> **Antes de prosseguir note a semelhança das implementações dos estimadores de classificação do scikit-learn. Eles seguem a mesma estrutura, e são semelhantes também ao estimadores de regressão embora lá não tenhamos empregado a separação de conjuntos de treinamento e teste que funcionam de modo diferente. Basicamente, além dos imports, apenas a definição do estimador precisa ser alterada.** \n",
        "\n"
      ]
    },
    {
      "cell_type": "markdown",
      "source": [
        "```\n",
        "#-------------------------------------------------------------------------------\n",
        "# Implementação do Modelo logístico\n",
        "#-------------------------------------------------------------------------------\n",
        "```\n",
        "## `from sklearn.linear_model import LogisticRegression` \n",
        "```\n",
        "from sklearn.model_selection import train_test_split\n",
        "\n",
        "X = df.drop(columns=['TenYearCHD'])\n",
        "y = df.TenYearCHD\n",
        "\n",
        "X_train, X_test, y_train, y_test = \\\n",
        "train_test_split(X, y, stratify=y, test_size=0.3, random_state=123)\n",
        "\n",
        "```\n",
        "## `clf = LogisticRegression(max_iter=10000)`\n",
        "```\n",
        "clf.fit(X_train,y_train)\n",
        "\n",
        "y_pred = clf.predict(X_test)\n",
        "\n",
        "print( y_pred[0:10], '...' )\n",
        "print( f'{clf.score(X_test,y_test):.2f}' )\n",
        "```"
      ],
      "metadata": {
        "id": "fLOR_8HUpI7g"
      }
    },
    {
      "cell_type": "markdown",
      "source": [
        "```\n",
        "#-------------------------------------------------------------------------------\n",
        "# Implementação do Modelo Knn\n",
        "#-------------------------------------------------------------------------------\n",
        "```\n",
        "## `from sklearn.neighbors import KNeighborsClassifier` \n",
        "```\n",
        "from sklearn.model_selection import train_test_split\n",
        "\n",
        "X = df.drop(columns=['TenYearCHD'])\n",
        "y = df.TenYearCHD\n",
        "\n",
        "X_train, X_test, y_train, y_test = \\\n",
        "train_test_split(X, y, stratify=y, test_size=0.3, random_state=123)\n",
        "\n",
        "```\n",
        "## `clf = KNeighborsClassifier(n_neighbors=3)`\n",
        "```\n",
        "clf.fit(X_train,y_train)\n",
        "\n",
        "y_pred = clf.predict(X_test)\n",
        "\n",
        "print( y_pred[0:10], '...' )\n",
        "print( f'{clf.score(X_test,y_test):.2f}' )\n",
        "```"
      ],
      "metadata": {
        "id": "baet7ZEWqE74"
      }
    },
    {
      "cell_type": "markdown",
      "source": [
        "O esquema acima é bastante simples, mas ainda pode ser necessário incluir preparações dos dados para uso nos modelos. No caso, veja que concluímos que no caso do Knn é importante aplicarmos a normalização das variáveis preditoras `X`. Isso precisa, então, ser incluído no seu código (note, isso poderia ser omitido se você transformasse os dados originais para então atribuir à `X`)."
      ],
      "metadata": {
        "id": "57pM3KcTvBAJ"
      }
    },
    {
      "cell_type": "code",
      "source": [
        "from sklearn.neighbors import KNeighborsClassifier \n",
        "from sklearn.model_selection import train_test_split\n",
        "\n",
        "X = df.drop(columns=['TenYearCHD'])\n",
        "scaler = MinMaxScaler()\n",
        "scaler.fit(X)\n",
        "X = scaler.transform(X) \n",
        "y = df.TenYearCHD\n",
        "\n",
        "X_train, X_test, y_train, y_test = \\\n",
        "train_test_split(X, y, stratify=y, test_size=0.3, random_state=123)\n",
        "\n",
        "clf = KNeighborsClassifier(n_neighbors = 3)\n",
        "\n",
        "clf.fit(X_train,y_train)\n",
        "\n",
        "y_pred = clf.predict(X_test)\n",
        "\n",
        "print( y_pred[0:10], '...' )\n",
        "print( f'{clf.score(X_test,y_test):.2f}' )"
      ],
      "metadata": {
        "colab": {
          "base_uri": "https://localhost:8080/"
        },
        "id": "jE0yFejXpdqY",
        "outputId": "5fbdff64-ed6b-4eaf-f0fb-88cafe2c5bda"
      },
      "execution_count": null,
      "outputs": [
        {
          "output_type": "stream",
          "name": "stdout",
          "text": [
            "[0 0 1 0 0 0 0 0 1 0] ...\n",
            "0.82\n"
          ]
        }
      ]
    },
    {
      "cell_type": "code",
      "source": [
        "from sklearn.metrics import confusion_matrix\n",
        "from sklearn.metrics import accuracy_score\n",
        "from sklearn.metrics import classification_report\n",
        "\n",
        "cm = confusion_matrix(y_test, y_pred)\n",
        "print('\\nMatriz de Confusão:\\n')\n",
        "print(cm)\n",
        "    \n",
        "accuracy = accuracy_score(y_test, y_pred)\n",
        "print('\\nScore de Acuracidade (1):\\n')\n",
        "print(f'{accuracy:.2f}')\n",
        "\n",
        "accuracy = clf.score(X_test, y_test)\n",
        "print('\\nScore de Acuracidade (2):\\n')\n",
        "print(f'{accuracy:.2f}')\n",
        "\n",
        "print('\\nClassification Report:\\n')\n",
        "print(classification_report(y_test, y_pred))"
      ],
      "metadata": {
        "colab": {
          "base_uri": "https://localhost:8080/"
        },
        "outputId": "d8ec544e-fe10-4ba5-e2ee-f5ba090867f1",
        "id": "yol9qOqen0EM"
      },
      "execution_count": null,
      "outputs": [
        {
          "output_type": "stream",
          "name": "stdout",
          "text": [
            "\n",
            "Matriz de Confusão:\n",
            "\n",
            "[[876  55]\n",
            " [141  26]]\n",
            "\n",
            "Score de Acuracidade (1):\n",
            "\n",
            "0.82\n",
            "\n",
            "Score de Acuracidade (2):\n",
            "\n",
            "0.82\n",
            "\n",
            "Classification Report:\n",
            "\n",
            "              precision    recall  f1-score   support\n",
            "\n",
            "           0       0.86      0.94      0.90       931\n",
            "           1       0.32      0.16      0.21       167\n",
            "\n",
            "    accuracy                           0.82      1098\n",
            "   macro avg       0.59      0.55      0.55      1098\n",
            "weighted avg       0.78      0.82      0.79      1098\n",
            "\n"
          ]
        }
      ]
    },
    {
      "cell_type": "markdown",
      "source": [
        "## Análise\n",
        "\n",
        "Embora com uma acuracidade um pouco menor que a obtida no modelo logístico o modelo de K-Vizinhos, com k=3, apresenta um resultado mais balanceado entre as classes e poderíamos sugerir empregar este modelo como um modelo mais adequado. \n",
        "\n",
        "Essa análise, entretanto, não é definitiva e estamos, por hora, apenas explorando como diferentes modelos podem levar a resultados diferentes e como compará-los. Nossa jornada para escolha de melhores modelos está apenas começando e isso está longe de ser uma tarefa simples."
      ],
      "metadata": {
        "id": "Ofq9j5ootPNR"
      }
    },
    {
      "cell_type": "markdown",
      "metadata": {
        "id": "9YwBUR-ys8C1"
      },
      "source": [
        "## Predição de Novos Casos"
      ]
    },
    {
      "cell_type": "markdown",
      "metadata": {
        "id": "NIAMld32qhPs"
      },
      "source": [
        "Se considerarmos 0.82 um bom resultado, esse é um bom modelo e podemos então aplicá-lo  para novos casos do mesmo modo que fizemos antes com o classificador logístico (aula anterior). Por exemplo, podemos fazer predição para pacientes homens e mulheres hipotéticos em que todos os indicadores estejam no percentil 0.75.\n",
        "\n",
        "> **Você deve notar agora que, como fizemos uma transformação dos dados das variáveis preditoras precisamos aplicar esta mesma transformação (a normalização!) nos valores dos novos casos. Como empregamos um estimador `scaler`, podemos empregar essa mesma transformação e você pode notar também que, se não tivéssemos empregado um estimador, não saberíamos como aplicar a mesma transformação! Essa a vantagem de empregarmos um estimador para isso!**"
      ]
    },
    {
      "cell_type": "code",
      "metadata": {
        "colab": {
          "base_uri": "https://localhost:8080/"
        },
        "id": "q-OzW40DpeDk",
        "outputId": "eab5cbb9-dc88-4d82-f4a3-ce5858324112"
      },
      "source": [
        "X_new = pd.DataFrame( df.drop(columns=['TenYearCHD']).groupby('male').quantile(0.75) ).reset_index()\n",
        "\n",
        "X_new = scaler.transform(X_new)\n",
        "X_new\n"
      ],
      "execution_count": null,
      "outputs": [
        {
          "output_type": "execute_result",
          "data": {
            "text/plain": [
              "array([[0.        , 0.63157895, 0.66666667, 1.        , 0.14285714,\n",
              "        0.        , 0.        , 1.        , 0.        , 0.31827515,\n",
              "        0.29550827, 0.43386243, 0.2949588 , 0.41414141, 0.1299435 ],\n",
              "       [1.        , 0.63157895, 0.66666667, 1.        , 0.28571429,\n",
              "        0.        , 0.        , 1.        , 0.        , 0.29979466,\n",
              "        0.27186761, 0.44444444, 0.30925836, 0.36363636, 0.13276836]])"
            ]
          },
          "metadata": {},
          "execution_count": 286
        }
      ]
    },
    {
      "cell_type": "code",
      "metadata": {
        "colab": {
          "base_uri": "https://localhost:8080/"
        },
        "id": "1_fKUnfDnNSi",
        "outputId": "0eaafcdb-a95c-45e2-dd08-8dbc8d5b2bd9"
      },
      "source": [
        "clf.predict(X_new)"
      ],
      "execution_count": null,
      "outputs": [
        {
          "output_type": "execute_result",
          "data": {
            "text/plain": [
              "array([0, 0])"
            ]
          },
          "metadata": {},
          "execution_count": 287
        }
      ]
    },
    {
      "cell_type": "markdown",
      "metadata": {
        "id": "RmbWeXxLrK4M"
      },
      "source": [
        "Como no modelo logístico esses pacientes não apresentam risco segundo nosso modelo e você pode verificar outros percentis, como o percentil 0.9 em que já estimamos o risco para pacientes do sexo masculino."
      ]
    },
    {
      "cell_type": "code",
      "metadata": {
        "colab": {
          "base_uri": "https://localhost:8080/"
        },
        "id": "TiRFmdVcrF_D",
        "outputId": "deee8f52-fa88-4624-a5df-599e6915c29b"
      },
      "source": [
        "X_new = pd.DataFrame( df.drop(columns=['TenYearCHD']).groupby('male').quantile(0.90) ).reset_index()\n",
        "\n",
        "X_new = scaler.transform(X_new)\n",
        "clf.predict(X_new)"
      ],
      "execution_count": null,
      "outputs": [
        {
          "output_type": "execute_result",
          "data": {
            "text/plain": [
              "array([0, 1])"
            ]
          },
          "metadata": {},
          "execution_count": 288
        }
      ]
    },
    {
      "cell_type": "markdown",
      "metadata": {
        "id": "CGd3EeT84Oe_"
      },
      "source": [
        "# Métricas de Distância\n",
        "\n",
        "Para medir a distância entre vetores característicos, os elementos mais próximos, empregamos até aqui a distância Euclidiana. Ela é a distância mais comum, mas existem várias funções distância que podem ser aplicadas, não só aqui, mas também em outros modelos (*knn*, *kmeans* etc.). Embora a distância euclidiana pareça ser a mais aplicada, outras funções distância encontram mais uso em contextos específicos como a distância de **Hamming** para dados binários e cadeias de strings ou a distância **Cosseno** para análise de dados de linguagem natural, textos e documentos. \n",
        "\n",
        "Uma função é uma função distância se atende 4 propriedades:\n",
        "\n",
        "$i. d(x,y) \\ge 0$\n",
        "\n",
        "$ii. d(x,x) = 0$\n",
        "\n",
        "$iii. d(x,y) = d(y,x)$\n",
        "\n",
        "$iv.  d(x,y) \\le d(x,z) + d(z,y)$\n",
        "\n"
      ]
    },
    {
      "cell_type": "markdown",
      "metadata": {
        "id": "ZVzfi-VJy4XR"
      },
      "source": [
        "## Algumas funções distância comuns\n",
        "\n",
        "Distância Euclidiana $\\qquad \\qquad \\qquad \\qquad \\qquad \\qquad$ ${\\displaystyle \\| ab \\| _ {2} = {\\sqrt {\\sum _ {i} (a_ {i} -b_ {i}) ^ {2}}}}$ \n",
        "\n",
        "Distância Euclidiana Quadrática $\\qquad \\qquad \\qquad \\qquad$  ${\\displaystyle \\| ab \\| _ {2} ^ {2} = \\sum _ {i} (a_ {i} -b_ {i}) ^ {2}} $\n",
        "\n",
        "Distância de Manhattan $\\qquad \\qquad \\qquad\\qquad \\qquad$ ${\\displaystyle \\| ab \\| _ {1} = \\sum _ {i} | a_ {i} -b_ {i} |}$\n",
        "\n",
        "Distância Máxima $\\qquad \\qquad \\qquad \\qquad \\qquad\\qquad$  ${\\displaystyle \\| ab \\| _ {\\infty} = \\max _ {i} | a_ {i} -b_ {i} |}$\n",
        "\n",
        "Distância Minkowski $\\qquad \\qquad \\qquad \\qquad \\qquad \\qquad$ ${\\displaystyle \\| ab \\| _ {Minkowski} = {(\\sum _ {i} |a_ {i} -b_ {i}| ^ {p}})^{\\frac{1}{p}}}$ \n",
        "\n",
        "\n",
        "\n",
        "\n",
        "\n"
      ]
    },
    {
      "cell_type": "markdown",
      "metadata": {
        "id": "ec0wkgndzAzB"
      },
      "source": [
        "## Distância de Hamming para Strings\n",
        "\n",
        "A distância de Hamming tem aplicação para cadeias de símbolos de mesmo comprimento e, por exemplo, pode ser empregada para medir a distância entre cadeias de DNA.\n",
        "\n",
        "\n",
        "\n"
      ]
    },
    {
      "cell_type": "code",
      "metadata": {
        "colab": {
          "base_uri": "https://localhost:8080/"
        },
        "id": "cj1E3ffIpV0O",
        "outputId": "54a693da-bda9-4e0e-f06a-2511ed47f3da"
      },
      "source": [
        "def hamming_distance(string1, string2):\n",
        "\tdist_counter = 0\n",
        "\tfor n in range(len(string1)):\n",
        "\t\tif string1[n] != string2[n]:\n",
        "\t\t\tdist_counter += 1\n",
        "\treturn dist_counter\n",
        "\n",
        "hamming_distance('ACGTACGT','ACGTTACG')"
      ],
      "execution_count": null,
      "outputs": [
        {
          "output_type": "execute_result",
          "data": {
            "text/plain": [
              "4"
            ]
          },
          "metadata": {},
          "execution_count": 27
        }
      ]
    },
    {
      "cell_type": "code",
      "metadata": {
        "colab": {
          "base_uri": "https://localhost:8080/"
        },
        "id": "Th0moKkHplLa",
        "outputId": "365a0bcf-bb23-4f81-d6cc-d8387c472fa2"
      },
      "source": [
        "def hamming_distance2(string1, string2):\n",
        "  return sum(xi != yi for xi, yi in zip(string1, string2))\n",
        "\n",
        "hamming_distance2('ACGTACGT','ACGTTACG')"
      ],
      "execution_count": null,
      "outputs": [
        {
          "output_type": "execute_result",
          "data": {
            "text/plain": [
              "4"
            ]
          },
          "metadata": {},
          "execution_count": 28
        }
      ]
    },
    {
      "cell_type": "markdown",
      "metadata": {
        "id": "dhnLKpexzH2p"
      },
      "source": [
        "## Distância Cosseno\n",
        "\n",
        "A Distância Cosseno encontra aplicação no tratamento de  textos em que os textos têm uma representação vetorial baseada na frequência dos termos (ou palavras) como as representações *bow*, *tf-idf* etc. Ela mede o ângulo formado pelos vetores e a distância de dois vetores $a$ e $b$ pode ser obtida a partir da expressão:\n",
        "\n",
        "$$ a b^t  = \\|a\\| \\|b\\| cos(\\theta)$$\n",
        "\n",
        "Definimos a *similaridade* de dois vetores como:\n",
        "\n",
        "$$ similarity(a,b) = cos(\\theta) = \\frac{a b^t }{\\|a\\| \\|b\\|} = \\frac{ \\sum\\limits_{i=1}^{n}{a_i  b_i} }{ \\sqrt{\\sum\\limits_{i=1}^{n}{a_i^2}}  \\sqrt{\\sum\\limits_{i=1}^{n}{b_i^2}} }$$\n",
        "\n",
        "E a distância:\n",
        "\n",
        "$$ distance(a,b) = 1 - similarity(a,b)$$\n"
      ]
    },
    {
      "cell_type": "markdown",
      "source": [
        "Você pode verificar aqui https://scikit-learn.org/stable/modules/generated/sklearn.metrics.DistanceMetric.html#sklearn.metrics.DistanceMetric várias métricas possíveis de serem empregadas no scikit-learn, e empregá-las no código de implementação do Knn verificando os resultados."
      ],
      "metadata": {
        "id": "7IwlW45rzVuR"
      }
    },
    {
      "cell_type": "markdown",
      "metadata": {
        "id": "lbTrs4IH3v_C"
      },
      "source": [
        "# Seleção de Hiperparâmetros\n",
        "\n",
        "Em todos exemplos anteriores, empregamos o modelo Knn com k=3 e a função de distância euclidiana. Será que haveriam *hiperparâmetros* melhores com desempenho melhor? \n",
        "\n",
        "A escolha de melhores *hiperparâmetros* é em geral por experimentação uma vez que não existem hiperparâmetros melhores *apriori* para quaisquer conjuntos de dados. A ideia, então, é criarmos os diferentes modelos e avaliarmos o desempenho (as métricas que você aprendeu aqui!) de cada um para obtermos os melhores hiperparâmetros. \n",
        "\n",
        "Podemos então adaptar o nosso código do modelo Knn anterior para, por exemplo, variar os hiperparâmetros k, no range de valores de 2 a 10 e experimentar o resultado das funções distância 'euclidean' e 'manhattan'... mas isso eu vou deixar para você."
      ]
    },
    {
      "cell_type": "markdown",
      "metadata": {
        "id": "oO3RnKjR44_T"
      },
      "source": [
        "# Sumário da Aula\n",
        "\n",
        "Nesta aula você conheceu novas Métricas de Classificação como **Precisão, Revocação, F1 e a Matriz de Confusão** que são bastante importantes e empregadas tanto para comparar e selecionar modelos, como para o ajuste do hiperparâmetros de um mesmo modelo. \n",
        "\n",
        "Ainda existem muitas outras técnicas e métricas envolvendo o desempenho dos modelos como a curva ROC (Receiver Operating Characteristic Curve), uso da validação cruzada (Cross Validation), Curva de Aprendizado ou Regularização. De qualquer modo a avaliação e obtenção de desempenho dos modelos não é uma tarefa fácil e trataremos algumas dessas técnicas nas aulas seguintes. \n",
        "\n",
        "Você também aprendeu aqui como funciona e como implementar um modelo de **K-Vizinhos mais Próximos para Classificação**, aprendendo ainda como quando e como empregar a **normalização** de dados com estimadores e outras **métricas de distância** que podem ser empregadas. Esses conceitos são importantes pois podem ser aplicados a muitos outros modelos como você verá a seguir.\n",
        "\n",
        "\n",
        "\n",
        "\n"
      ]
    },
    {
      "cell_type": "markdown",
      "metadata": {
        "id": "k4noMRT_YUd7"
      },
      "source": [
        "# Para Saber Mais\n",
        "\n",
        "\n",
        "* Quer conhecer outras métricas obtidas a partir da Matriz de Confusão? São dezenas... rs. Acesse então **Precision and Recall** https://en.wikipedia.org/wiki/Precision_and_recall e **Confusion Matrix** https://en.wikipedia.org/wiki/Confusion_matrix e aproveite para ver outras referências nessas páginas.\n",
        "\n",
        "* Você saberia aplicar os conceitos de Precisão e Recall quando temos mais de duas classes para a variável objetivo? Pense um pouco, essa não é uma pergunta simples. Depois acesse **METRICS FOR MULTI-CLASS CLASSIFICATION: AN OVERVIEW** em https://arxiv.org/pdf/2008.05756.pdf, ou faça uma pesquisa na internet por exemplos desse tópico. \n",
        "\n",
        "* Mas para saber mais o melhor mesmo é praticar. Você pode adaptar o código do modelo Knn anterior para, por exemplo, variar os hiperparâmetros k, no range de valores de 2 a 10 e ainda experimentar o resultado de diferentes funções distância 'euclidean' e 'manhattan'. Salve os resultados de cada modelo e verifique, quais os melhores *hiper*parâmetros você encontra?\n",
        "\n",
        "* **Quando normalizar e quando não normalizar?**. De um modo simples, dados são normalizados ou redimensionados para trazer todas as variáveis ​​em proporção umas com as outras. Existem diferentes formas de normalização e redimensionamento de dados e aqui aplicamos apenas uma delas. Acesse o artigo **When to perform a Feature Scaling?** de Raghav Vashisht, disponível em: https://www.atoti.io/when-to-perform-a-feature-scaling/ para saber mais sobre isso e veja também **Compare the effect of different scalers on data with outliers** disponível em: https://scikit-learn.org/stable/auto_examples/preprocessing/plot_all_scaling.html para conhecer outros estimadores de normalização do `scikit-learn`. "
      ]
    },
    {
      "cell_type": "markdown",
      "metadata": {
        "id": "zlJfWteFyhFy"
      },
      "source": [
        "# Referências\n",
        "\n",
        "* Sayad, Saed (2021). **An Introduction to Data Science**, \n",
        "Disponível em: https://www.saedsayad.com/data_mining_map.htm Acesso: 31 de Março de 2022.\n",
        "\n",
        "* Larose, Chantal D.; Larose, Daniel T. **Data Science Using Python and R** Hoboken: Wiley, c2019. E-book (259 p.) (Wiley Series on Methods and Applications in Data Mining Ser.). ISBN 9781119526834 (electronic bk.). Disponível em: https://www3.mackenzie.br/biblioteca_virtual/index.php?tipoBiblio=ebookcentral&flashObg=n\n",
        "\n",
        "* Kotu, Vijay; Deshpande, Balachandre **Data Science: concepts and practice**. 2nd ed. Cambridge, [England]: Morgan Kaufmann, c2019. E-book (570 p.) ISBN 9780128147627 (electronic bk.). Disponível em: http://pergamum.mackenzie.br:8080/pergamumweb/vinculos/00003c/00003cef.jpg.\n",
        "\n",
        "* Jake VanderPlas. **Python Data Science Handbook**  O'Reilly Media, Inc. (2016). ISBN: 9781491912058. Disponível em: https://jakevdp.github.io/PythonDataScienceHandbook/. Acesso: 31 de Março de 2022.\n",
        "\n",
        "* ___. **An introduction to machine learning with scikit-learn** Disponível em: https://scikit-learn.org/stable/tutorial/basic/tutorial.html Acesso: 31 de Março de 2022.\n",
        "\n",
        "* ___. **scikit-learn: machine learning in Python** Disponível em: http://scipy-lectures.org/packages/scikit-learn/index.html Acesso: 31 de Março de 2022."
      ]
    }
  ]
}