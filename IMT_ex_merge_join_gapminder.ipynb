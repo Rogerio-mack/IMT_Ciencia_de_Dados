{
  "nbformat": 4,
  "nbformat_minor": 0,
  "metadata": {
    "colab": {
      "provenance": [],
      "authorship_tag": "ABX9TyO+/5B1phHEc5HHUmfi9uuc",
      "include_colab_link": true
    },
    "kernelspec": {
      "name": "python3",
      "display_name": "Python 3"
    },
    "language_info": {
      "name": "python"
    }
  },
  "cells": [
    {
      "cell_type": "markdown",
      "metadata": {
        "id": "view-in-github",
        "colab_type": "text"
      },
      "source": [
        "<a href=\"https://colab.research.google.com/github/Rogerio-mack/IMT_Ciencia_de_Dados/blob/main/IMT_ex_merge_join_gapminder.ipynb\" target=\"_parent\"><img src=\"https://colab.research.google.com/assets/colab-badge.svg\" alt=\"Open In Colab\"/></a>"
      ]
    },
    {
      "cell_type": "markdown",
      "metadata": {
        "id": "80CF3Eq9EXDW"
      },
      "source": [
        "<head>\n",
        "  <meta name=\"author\" content=\"Rogério de Oliveira\">\n",
        "  <meta institution=\"author\" content=\"ITM\">\n",
        "</head>\n",
        "\n",
        "<img src=\"https://maua.br/images/selo-60-anos-maua.svg\" width=300, align=\"right\">\n",
        "<!-- <h1 align=left><font size = 6, style=\"color:rgb(200,0,0)\"> optional title </font></h1> -->\n"
      ]
    },
    {
      "cell_type": "markdown",
      "source": [
        "# Lab: Joins e outras transformações dos dados\n",
        "\n",
        "Referências e Materiais úteis para este Lab:\n",
        "\n",
        "- [Notas de Aula](https://colab.research.google.com/github/Rogerio-mack/IMT_Ciencia_de_Dados/blob/main/IMT_Pandas_I.ipynb)\n",
        "- [Pandas User Guide](https://pandas.pydata.org/docs/user_guide/index.html#user-guide)\n",
        "- [Merge and Joins](https://pandas.pydata.org/docs/user_guide/merging.html)\n",
        "---\n",
        "\n"
      ],
      "metadata": {
        "id": "dEyV_GqcqtL1"
      }
    },
    {
      "cell_type": "code",
      "execution_count": null,
      "metadata": {
        "id": "jf4DkEBpGdr4"
      },
      "outputs": [],
      "source": [
        "import numpy as np\n",
        "import pandas as pd\n",
        "\n",
        "path = 'https://github.com/Rogerio-mack/IMT_Ciencia_de_Dados/raw/main/data/'"
      ]
    },
    {
      "cell_type": "markdown",
      "source": [
        "# **CASE: Gapminder**\n",
        "\n",
        "Os dados dos exercícios a seguir tem como fonte o site [Gapmider](https://www.gapminder.org/). \n",
        "\n",
        "<img src=\"https://www.gapminder.org/wp-content/themes/gapminder2/images/gapminder-logo.svg\" width=500, align=\"center\"> "
      ],
      "metadata": {
        "id": "Qq-2n4o2RxXH"
      }
    },
    {
      "cell_type": "code",
      "source": [
        "%%capture\n",
        "!wget https://github.com/open-numbers/ddf--gapminder--co2_emission/raw/master/ddf--entities--country.csv\n",
        "!wget https://github.com/open-numbers/ddf--gapminder--co2_emission/raw/master/ddf--datapoints--yearly_co2_emissions_1000_tonnes--by--country--year.csv\n",
        "!wget https://github.com/open-numbers/ddf--bp--energy/raw/master/ddf--datapoints--coal_electricity_generation_twh--by--geo--year.csv\n"
      ],
      "metadata": {
        "id": "WKwDctf8HT5b"
      },
      "execution_count": null,
      "outputs": []
    },
    {
      "cell_type": "markdown",
      "source": [
        "## Q0. Inspecione os dados.\n",
        "Inspecione as bases de dados antes de prosseguir. Acesse e faça ao menos um `head()` de cada conjunto de dados.\n"
      ],
      "metadata": {
        "id": "vcW4eSKdxV66"
      }
    },
    {
      "cell_type": "code",
      "source": [
        "# Seu código"
      ],
      "metadata": {
        "id": "K1n8KX_6HG7T"
      },
      "execution_count": null,
      "outputs": []
    },
    {
      "cell_type": "markdown",
      "source": [
        "## Q1. `merge()`\n",
        "\n",
        "Crie um DataFrame `df` das emissões de CO2 incluindo o nome do país. \n"
      ],
      "metadata": {
        "id": "SUj_NVYD1stL"
      }
    },
    {
      "cell_type": "markdown",
      "source": [
        "(Moodle) Verifique da lista abaixo quais países não tem dados para o ano mais recente da base.\n",
        "\n",
        "Dica: \n",
        "1. Crie um DataFrame `df_lista` com a lista de países\n",
        "2. Crie um DataFrame `df_temp` fazendo um `left join` com `df_lista`\n",
        "3. Separe como `df_temp[df_temp.isna().any(axis=1)]` os valores nulos incluídos de `df_lista` no `left join`"
      ],
      "metadata": {
        "id": "GdeTxybq2Nfj"
      }
    },
    {
      "cell_type": "code",
      "source": [
        "lista = ['USSR', 'Hong Kong, China', 'Honduras', 'Antarctica', 'Croatia', 'Haiti', 'Hungary',\n",
        "       'Indonesia', 'India', 'Ireland', 'Iran', 'Iraq', 'Iceland',\n",
        "       'Israel', 'Italy', 'Jamaica', 'Jordan', 'Japan', 'Kazakhstan', 'Monaco']"
      ],
      "metadata": {
        "id": "k1VluMUiy0qc"
      },
      "execution_count": null,
      "outputs": []
    },
    {
      "cell_type": "code",
      "source": [
        "# Seu código"
      ],
      "metadata": {
        "id": "_9fVx-Hg3BpU"
      },
      "execution_count": null,
      "outputs": []
    },
    {
      "cell_type": "markdown",
      "source": [
        "## Q2. `merge()` 2\n",
        "\n",
        "Exclua os países identificados na questão anterior da lista. Empregue o DataFrame `df` para identificar os 3 países que mais efetuaram emissões no ano mais recente da base. Quais são esses países? "
      ],
      "metadata": {
        "id": "jQyLd7R48PoV"
      }
    },
    {
      "cell_type": "code",
      "source": [
        "# Seu código"
      ],
      "metadata": {
        "id": "O6L3776s4n6V"
      },
      "execution_count": null,
      "outputs": []
    },
    {
      "cell_type": "markdown",
      "source": [
        "## Q3. `join()`\n",
        "\n",
        "Procure obter o mesmo resultado DataFrame anterior que você construiu com o método `merge()`, empregando agora o método `join()`.\n",
        "\n",
        "Dica: Empregue `set_index()`. "
      ],
      "metadata": {
        "id": "VT5L55Qt9hpk"
      }
    },
    {
      "cell_type": "markdown",
      "source": [
        "**Cuidados**\n",
        "\n",
        "```\n",
        "ValueError: You are trying to merge on object and int64 columns. If you wish to proceed you should use pd.concat\n",
        "```\n",
        "\n",
        "O problema aqui é um equívoco de como o join funciona: quando você diz `df.join(df_to_join,on='key')` isso, não significa join on `df.key == df_to_join.key` como se poderia supor à primeira vista, mas join on `df.key == df_to_join.index`. Por isso o erro!"
      ],
      "metadata": {
        "id": "FZnT39BmRbPt"
      }
    },
    {
      "cell_type": "code",
      "source": [
        "# Seu código\n"
      ],
      "metadata": {
        "id": "2PTkpW1g-T-0"
      },
      "execution_count": null,
      "outputs": []
    },
    {
      "cell_type": "markdown",
      "source": [
        "(Moodle) Qual comando join resulta no conjunto de dados correto? "
      ],
      "metadata": {
        "id": "BcTrmq_q97x9"
      }
    },
    {
      "cell_type": "markdown",
      "source": [
        "## Q4. `merge(how='inner')` & `apply()`\n",
        "\n",
        "Crie um DataFrame de energia produzida a partir do carvão incluindo o nome do país. Empregue um  `inner join`.\n",
        "\n",
        "Dica: veja por que o merge direto não funciona.\n"
      ],
      "metadata": {
        "id": "WQujwJvSA0F-"
      }
    },
    {
      "cell_type": "code",
      "source": [
        "# Seu código"
      ],
      "metadata": {
        "id": "GC4ECmuZSpwB"
      },
      "execution_count": null,
      "outputs": []
    },
    {
      "cell_type": "markdown",
      "source": [
        "(Moodle) Quantos países há na base produzida e a soma de todos os valores `coal_electricity_generation_twh`? "
      ],
      "metadata": {
        "id": "mOx6KcV0DYb4"
      }
    },
    {
      "cell_type": "code",
      "source": [
        "# Seu código"
      ],
      "metadata": {
        "id": "ZwHC5jFTCAfG"
      },
      "execution_count": null,
      "outputs": []
    },
    {
      "cell_type": "markdown",
      "source": [
        "## Q5. `merge(how='right')` & `apply()`\n",
        "\n",
        "Recrie o DataFrame anterior agora empregando `right (left) join` para incluir países que não foram encontrados em `country_entities`.\n",
        "\n"
      ],
      "metadata": {
        "id": "D6tfBwIvEGvo"
      }
    },
    {
      "cell_type": "code",
      "source": [
        "# Seu código"
      ],
      "metadata": {
        "id": "pBckfU4CVBJQ"
      },
      "execution_count": null,
      "outputs": []
    },
    {
      "cell_type": "markdown",
      "source": [
        "(Moodle) Quais dos países ou geo posições apresentam `name` `null` no DataFrame produzido? \n",
        "\n",
        "Dica: empregue `isnull()`"
      ],
      "metadata": {
        "id": "1qWrfvsEFTWG"
      }
    },
    {
      "cell_type": "code",
      "source": [
        "# Seu código"
      ],
      "metadata": {
        "id": "XyvEtTbFV0_Q"
      },
      "execution_count": null,
      "outputs": []
    }
  ]
}