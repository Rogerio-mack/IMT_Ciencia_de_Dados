{
  "nbformat": 4,
  "nbformat_minor": 0,
  "metadata": {
    "kernelspec": {
      "display_name": "Python 3",
      "language": "python",
      "name": "python3"
    },
    "language_info": {
      "codemirror_mode": {
        "name": "ipython",
        "version": 3
      },
      "file_extension": ".py",
      "mimetype": "text/x-python",
      "name": "python",
      "nbconvert_exporter": "python",
      "pygments_lexer": "ipython3",
      "version": "3.7.4"
    },
    "colab": {
      "provenance": [],
      "include_colab_link": true
    }
  },
  "cells": [
    {
      "cell_type": "markdown",
      "metadata": {
        "id": "view-in-github",
        "colab_type": "text"
      },
      "source": [
        "<a href=\"https://colab.research.google.com/github/Rogerio-mack/IMT_Ciencia_de_Dados/blob/main/IMT_Arvores_de_Decisao_e_Mutual_Info.ipynb\" target=\"_parent\"><img src=\"https://colab.research.google.com/assets/colab-badge.svg\" alt=\"Open In Colab\"/></a>"
      ]
    },
    {
      "cell_type": "markdown",
      "metadata": {
        "id": "80CF3Eq9EXDW"
      },
      "source": [
        "<head>\n",
        "  <meta name=\"author\" content=\"Rogério de Oliveira\">\n",
        "  <meta institution=\"author\" content=\"ITM\">\n",
        "</head>\n",
        "\n",
        "<img src=\"https://maua.br/images/selo-60-anos-maua.svg\" width=300, align=\"right\">\n",
        "<!-- <h1 align=left><font size = 6, style=\"color:rgb(200,0,0)\"> optional title </font></h1> -->\n"
      ]
    },
    {
      "cell_type": "markdown",
      "metadata": {
        "id": "zQX8WQPeHTwc"
      },
      "source": [
        "# **Árvores de Decisão e Seleção de Atributos**\n",
        "---\n",
        "\n",
        "Nesta trilha você vai aprender:\n",
        "\n",
        "*   Sobre Classificador de Árvores de Decisão\n",
        "*   O que é Entropia, Ganho de Informação ou Informação Mútua, e como empregar essa e outras medidas para a seleção de atributos\n"
      ]
    },
    {
      "cell_type": "markdown",
      "metadata": {
        "id": "zH-kFjI8TIUe"
      },
      "source": [
        "Vamos partir aqui de um exemplo bastante simples de aplicação de árvores de decisão para, em seguida, explorarmos diversos conceitos que têm aplicação geral em modelos de aprendizado supervisionado, como entropia, informação mútua e ganho de informação. Você verá como esses conceitos são empregados para a seleção de atributos de aprendizado (*feature selection*).\n",
        "\n",
        "No final você vai aprender o que são os *ensemble models* através de um dos mais importantes modelo *ensemble*, as Random Forests, e vamos adaptar o código da trilha anterior para de seleção de melhores hiperparâmetros para a seleção mais ampla de melhores modelos para classificação.  \n",
        "\n",
        "\n"
      ]
    },
    {
      "cell_type": "code",
      "metadata": {
        "id": "xyywcuI7p1kG"
      },
      "source": [
        "import numpy as np\n",
        "import pandas as pd\n",
        "import matplotlib.pyplot as plt\n",
        "%matplotlib inline\n",
        "from matplotlib.lines import Line2D\n",
        "import seaborn as sns"
      ],
      "execution_count": null,
      "outputs": []
    },
    {
      "cell_type": "markdown",
      "metadata": {
        "id": "C6Dq9jQ8oHCG"
      },
      "source": [
        "# Árvores de Decisão e o Método Partitivo\n",
        "\n",
        "O classificador de k-vizinhos mais próximos é bastante poderoso. Ele pode lidar de várias classes de problemas e fazer classificações com limites de decisão não lineares (diferentemente da regressão logística). O Knn entretanto precisa armazenar todos os dados de treinamento e, quanto mais dados de treinamento, maior o custo do processamento e mais lento ele se torna pois é preciso calcular a distância para todas as entradas de treinamento, mesmo existindo  estruturas de dados eficientes para pesquisa de vizinhos mais próximos. O uso de uma métrica de distância e a necessidade de atributos numéricos (ou transformados em numéricos) pode, em alguns casos, ser também uma limitação.\n",
        "\n",
        "Você deve lembrar que os algoritmos de aprendizado de máquina buscam por  padrões nos dados, uma estrutura inerente que é inerente a eles. O Knn, por exemplo, parte da ideia de que semelhança entre itens vizinhos e que pontos de dados de várias classes não são espalhados aleatoriamente. Pelo contrário, as classes aparecem em grupos mais ou menos homogêneos. Assim se você sabe que um ponto de teste cai em um grupo com vários pontos de uma mesma classe, você sabe a classe de seus vizinhos mesmo sem calcular as distâncias para cada deles. É, neste caso, suficiente saber que o ponto de teste está em uma área onde todos os vizinhos são de uma classe. As árvores de decisão exploram exatamente isso.\n",
        "\n",
        "As árvores de decisão estão explorando exatamente isso. Aqui, não são armazenados os dados de treinamento mas uma estrutura de árvore *'modela'* os dados e divide recursivamente o espaço em regiões com classes semelhantes. Essa estrutura faz particionamentos sucessivos dos dados em que as partições são cada vez mais *puras*, isto é, são cada vez mais homogêneas no sentido das classes que contêm.\n",
        "\n",
        "\n",
        "\n",
        "\n"
      ]
    },
    {
      "cell_type": "markdown",
      "metadata": {
        "id": "Fmf9olGMt874"
      },
      "source": [
        "![imagem](https://github.com/Rogerio-mack/BIG_DATA_Analytics_Mineracao_e_Analise_de_Dados/blob/main/figuras/DecisionTreePartitions.png?raw=true)\n",
        "\n",
        "\n",
        "<small>\n",
        "<b>\n",
        "Figura 1. Particionamentos Sucessivos das Árvores de Decisão."
      ]
    },
    {
      "cell_type": "markdown",
      "metadata": {
        "id": "vrombp24t64R"
      },
      "source": [
        "O nó raiz da árvore representa todo o conjunto de dados. Este conjunto é então dividido aproximadamente ao meio ao longo de uma dimensão (um atributo) por um limite simples. Todos os pontos que possuem um valor $\\gt t$ caem no nó filho direito e todos os demais no nó filho esquerdo. O limiar $t$ a dimensão é escolhida de forma que os nós filhos resultantes sejam mais puros em termos de associação de classe. O ideal é que todos os pontos positivos (por exemplo, pontos laranja na figura acima) caiam em um nó filho e todos os pontos negativos (roxos) no outro. Se for esse o caso, a árvore está pronta. Caso contrário, os nós folha são novamente divididos até que eventualmente todas as folhas, ou nós terminais, sejam puras com todos seus pontos com o mesmo rótulo ou não podem ser mais divididos (dois pontos idênticos com rótulos diferentes, o que em casos reais podemos de fato ter).\n",
        "\n",
        "Uma vez que a árvore é construída os dados de treinamento não precisam ser mais armazenados (como no Knn) pois a árvore *captura* todo o padrão dos dados, e você pode pensar em como uma única fórmula $ y = a_0 + a_1 x$ modela um conjunto de dados em uma regressão linear. A árvore passa a ser nossa '*fórmula*' de predição, as entradas de teste simplesmente precisam descer da árvore até uma folha que contendo a predição da classe, e são muito eficientes. Além disso as árvores de decisão não requerem métricas porque as divisões são baseadas em limites dos valores dos atributos (ou ainda suas proporções ou probabilidades) e não em distâncias."
      ]
    },
    {
      "cell_type": "markdown",
      "metadata": {
        "id": "cBR2F3PEC-V8"
      },
      "source": [
        "# Construindo uma Árvore de Decisão: Algoritmo de Hunt\n",
        "\n",
        "Vamos começar com um exemplo e entender como construir uma árvore de decisão a partir dos dados.\n",
        "\n"
      ]
    },
    {
      "cell_type": "code",
      "metadata": {
        "colab": {
          "base_uri": "https://localhost:8080/",
          "height": 329
        },
        "id": "AajogTngwwCo",
        "outputId": "16ed1fc6-9dc9-4d50-ff06-95d70dc18f3c"
      },
      "source": [
        "# Exemplo livremente adaptado de:\n",
        "# Weinberger, Kilian. **Machine Learning for Intelligent Systems**, Lecture 28: Decision / Regression Trees\n",
        "#\n",
        "\n",
        "df = pd.read_csv('http://meusite.mackenzie.br/rogerio/TIC/comics.csv',sep=';')\n",
        "display(df)\n",
        "\n",
        "cases = pd.read_csv('http://meusite.mackenzie.br/rogerio/TIC/comics_cases.csv',sep=';')\n",
        "display(cases)"
      ],
      "execution_count": null,
      "outputs": [
        {
          "output_type": "display_data",
          "data": {
            "text/html": [
              "<div>\n",
              "<style scoped>\n",
              "    .dataframe tbody tr th:only-of-type {\n",
              "        vertical-align: middle;\n",
              "    }\n",
              "\n",
              "    .dataframe tbody tr th {\n",
              "        vertical-align: top;\n",
              "    }\n",
              "\n",
              "    .dataframe thead th {\n",
              "        text-align: right;\n",
              "    }\n",
              "</style>\n",
              "<table border=\"1\" class=\"dataframe\">\n",
              "  <thead>\n",
              "    <tr style=\"text-align: right;\">\n",
              "      <th></th>\n",
              "      <th>Name</th>\n",
              "      <th>sex</th>\n",
              "      <th>smokes</th>\n",
              "      <th>tie</th>\n",
              "      <th>mask</th>\n",
              "      <th>cape</th>\n",
              "      <th>ears</th>\n",
              "      <th>class</th>\n",
              "    </tr>\n",
              "  </thead>\n",
              "  <tbody>\n",
              "    <tr>\n",
              "      <th>0</th>\n",
              "      <td>Batman</td>\n",
              "      <td>male</td>\n",
              "      <td>no</td>\n",
              "      <td>no</td>\n",
              "      <td>yes</td>\n",
              "      <td>yes</td>\n",
              "      <td>yes</td>\n",
              "      <td>good</td>\n",
              "    </tr>\n",
              "    <tr>\n",
              "      <th>1</th>\n",
              "      <td>Robin</td>\n",
              "      <td>male</td>\n",
              "      <td>no</td>\n",
              "      <td>no</td>\n",
              "      <td>yes</td>\n",
              "      <td>yes</td>\n",
              "      <td>yes</td>\n",
              "      <td>good</td>\n",
              "    </tr>\n",
              "    <tr>\n",
              "      <th>2</th>\n",
              "      <td>Catwoman</td>\n",
              "      <td>female</td>\n",
              "      <td>no</td>\n",
              "      <td>no</td>\n",
              "      <td>yes</td>\n",
              "      <td>no</td>\n",
              "      <td>yes</td>\n",
              "      <td>bad</td>\n",
              "    </tr>\n",
              "    <tr>\n",
              "      <th>3</th>\n",
              "      <td>Joker</td>\n",
              "      <td>male</td>\n",
              "      <td>no</td>\n",
              "      <td>no</td>\n",
              "      <td>no</td>\n",
              "      <td>no</td>\n",
              "      <td>no</td>\n",
              "      <td>bad</td>\n",
              "    </tr>\n",
              "    <tr>\n",
              "      <th>4</th>\n",
              "      <td>Alfred</td>\n",
              "      <td>male</td>\n",
              "      <td>no</td>\n",
              "      <td>yes</td>\n",
              "      <td>no</td>\n",
              "      <td>no</td>\n",
              "      <td>no</td>\n",
              "      <td>good</td>\n",
              "    </tr>\n",
              "    <tr>\n",
              "      <th>5</th>\n",
              "      <td>Penguin</td>\n",
              "      <td>male</td>\n",
              "      <td>yes</td>\n",
              "      <td>yes</td>\n",
              "      <td>no</td>\n",
              "      <td>no</td>\n",
              "      <td>no</td>\n",
              "      <td>bad</td>\n",
              "    </tr>\n",
              "  </tbody>\n",
              "</table>\n",
              "</div>"
            ],
            "text/plain": [
              "       Name     sex smokes  tie mask cape ears class\n",
              "0    Batman    male     no   no  yes  yes  yes  good\n",
              "1     Robin    male     no   no  yes  yes  yes  good\n",
              "2  Catwoman  female     no   no  yes   no  yes   bad\n",
              "3     Joker    male     no   no   no   no   no   bad\n",
              "4    Alfred    male     no  yes   no   no   no  good\n",
              "5   Penguin    male    yes  yes   no   no   no   bad"
            ]
          },
          "metadata": {}
        },
        {
          "output_type": "display_data",
          "data": {
            "text/html": [
              "<div>\n",
              "<style scoped>\n",
              "    .dataframe tbody tr th:only-of-type {\n",
              "        vertical-align: middle;\n",
              "    }\n",
              "\n",
              "    .dataframe tbody tr th {\n",
              "        vertical-align: top;\n",
              "    }\n",
              "\n",
              "    .dataframe thead th {\n",
              "        text-align: right;\n",
              "    }\n",
              "</style>\n",
              "<table border=\"1\" class=\"dataframe\">\n",
              "  <thead>\n",
              "    <tr style=\"text-align: right;\">\n",
              "      <th></th>\n",
              "      <th>Name</th>\n",
              "      <th>sex</th>\n",
              "      <th>smokes</th>\n",
              "      <th>tie</th>\n",
              "      <th>mask</th>\n",
              "      <th>cape</th>\n",
              "      <th>ears</th>\n",
              "      <th>class</th>\n",
              "    </tr>\n",
              "  </thead>\n",
              "  <tbody>\n",
              "    <tr>\n",
              "      <th>0</th>\n",
              "      <td>Batgirl</td>\n",
              "      <td>female</td>\n",
              "      <td>yes</td>\n",
              "      <td>yes</td>\n",
              "      <td>no</td>\n",
              "      <td>yes</td>\n",
              "      <td>no</td>\n",
              "      <td>?</td>\n",
              "    </tr>\n",
              "    <tr>\n",
              "      <th>1</th>\n",
              "      <td>Riddler</td>\n",
              "      <td>male</td>\n",
              "      <td>yes</td>\n",
              "      <td>no</td>\n",
              "      <td>no</td>\n",
              "      <td>no</td>\n",
              "      <td>no</td>\n",
              "      <td>?</td>\n",
              "    </tr>\n",
              "  </tbody>\n",
              "</table>\n",
              "</div>"
            ],
            "text/plain": [
              "      Name     sex smokes  tie mask cape ears class\n",
              "0  Batgirl  female    yes  yes   no  yes   no     ?\n",
              "1  Riddler    male    yes   no   no   no   no     ?"
            ]
          },
          "metadata": {}
        }
      ]
    },
    {
      "cell_type": "markdown",
      "metadata": {
        "id": "GgvbfJeKxF4q"
      },
      "source": [
        "O algoritmo de Hunt cria uma árvore de decisão de maneira recursiva, particionando os registros de treinamento em subconjuntos sucessivamente mais puros. Seja $D_t$ o conjunto de registros de treinamento que atingem um nó $t$. O procedimento recursivo é, então, o seguinte:\n",
        "\n",
        "1. Se $D_t$ contém registros que pertencem à mesma classe $y_t$, então $t$ é um nó folha rotulado como $y_t$\n",
        "\n",
        "2. Se $D_t$ for um conjunto vazio, então $t$ é um nó folha rotulado pela classe padrão, $y_d$\n",
        "\n",
        "3. Se $D_t$ contiver registros que pertencem a mais de uma classe, use um teste de atributo para dividir os dados em subconjuntos menores.\n",
        "\n",
        "Ele aplica recursivamente o procedimento a cada subconjunto até que todos os registros no subconjunto pertençam à mesma classe. O algoritmo de Hunt assume que cada combinação de conjuntos de atributos possui um rótulo de classe exclusivo durante o procedimento. Se todos os registros associados a $D_t$ tiverem valores de atributo idênticos, exceto para o rótulo da classe, não será possível dividir esses registros no futuro. Nesse caso, o nó é classificado como um nó folha com o mesmo rótulo de classe que a classe principal de registros de treinamento associados a este nó.\n",
        "\n",
        "O procedimento talvez seja mais claro de *ver* do que *ler*...\n",
        "\n",
        "![imagem](https://github.com/Rogerio-mack/BIG_DATA_Analytics_Mineracao_e_Analise_de_Dados/blob/main/figuras/DecisionTree3.png?raw=true)\n",
        "\n",
        "\n",
        "<small>\n",
        "<b>\n",
        "Figura 2. Construção de uma Árvore de Decisão pelo algoritmo de Hunt."
      ]
    },
    {
      "cell_type": "markdown",
      "metadata": {
        "id": "ruAAYTJrzJ_g"
      },
      "source": [
        "No exemplo acima escolhemos arbitrariamente iniciar o particionamento dos dados pelo atributo `cape`, como para todos os casos `cape = yes` temos somente alunos `good` esse ramo se torna um nó folha ou terminal, e dados que seguem nesse ramo já estão classificados e não serão mais considerados. Para os casos `cape = no` há alunos `good` e `bad` e, portanto, não podemos decidir e é necessário adicionarmos um novo nó com outro atributo. Note que nesse ramo só teremos agora dados com `cape = no`. Escolhemos novamente de modo arbitrário o atributo `tie` de realizamos novamente o *split* dos dados. Agora, os casos com  `tie = no` (e `cape = no`!, pois é o ramo que estamos) são todos da mesma classe e são, portanto, um nó terminal. Para `tie = yes` (e ainda `cape = no`!) precisamos adicionar ainda um novo particionamento com o atributo `smokes`.\n",
        "\n",
        "Note que o que a estrutura de árvore faz é simplesmente definir sucessivos particionamentos dos dados buscando partições cada vez mais *puras* (somente classes *good* ou *bad*).\n",
        "\n",
        "![imagem](https://github.com/Rogerio-mack/BIG_DATA_Analytics_Mineracao_e_Analise_de_Dados/blob/main/figuras/DecisionTree1.png?raw=true)\n",
        "\n",
        "\n",
        "\n",
        "<small>\n",
        "<b>\n",
        "Figura 3. Árvore de Decisão e o particionamento dos dados."
      ]
    },
    {
      "cell_type": "markdown",
      "metadata": {
        "id": "l_zZO41z3PNh"
      },
      "source": [
        "No exemplo acima fizemos escolhas arbitrárias dos atributos para a construção da árvore. Se escolhêssemos outros atributos ou em uma ordem diferentes chegaríamos a outras árvores de decisão que poderíamos igualmente empregar para a classificação dos dados.\n",
        "\n",
        "![imagem](https://github.com/Rogerio-mack/BIG_DATA_Analytics_Mineracao_e_Analise_de_Dados/blob/main/figuras/DecisionTree4.png?raw=true)\n",
        "\n",
        "\n",
        "<small>\n",
        "<b>\n",
        "Figura 4. Diferentes possíveis Árvores de Decisão para um mesmo conjunto de dados."
      ]
    },
    {
      "cell_type": "markdown",
      "metadata": {
        "id": "0UBsJWn54CjT"
      },
      "source": [
        "Mas, como você pode ver, existem árvores melhores e piores. O atributo `tie` na raiz, por exemplo, não permite particionarmos dados de forma a eliminar quaisquer dos dados e, portanto, *ele não fornece qualquer informação útil para determinar a classe dos dados*. A ideia é de árvores mais eficientes possam *otimizar* a cada nível a *pureza* das partições. Você entenderá como podemos fazer isso mais adiante em que empregaremos o *ganho de informação* como uma medida para definir melhores partições dos dados a cada nível."
      ]
    },
    {
      "cell_type": "markdown",
      "metadata": {
        "id": "fR--Hu1t2OQK"
      },
      "source": [
        "# Outros Algoritmos\n",
        "\n",
        "Os algoritmos de Árvore de Decisão constroem as Árvores do mesmo modo recursivo que construímos aqui. Todos eles buscam particionamentos que maximizem a decisão, tornando a Árvores e os caminhos que temos que percorrer menores. Eles buscam a cada nível da Árvore (partição) uma maior informação para “pureza” das partições dos dados em termos de sua classe.\n",
        "\n",
        "\n",
        "> Diferentes algoritmos de Árvores de Decisão e seus critérios para seleção dos nós:\n",
        ">> * ID3 algorithm (Claude Shannon Entropy): Ganho do de Informação\n",
        ">> * C4.5 algorithm: Gain ratio\n",
        ">> * CART algorithm: Gini index\n",
        "\n",
        "Seja qual for o método empregado a ideia é a mesma. Existem particionamentos que alteram pouco a distribuição dos dados entre as classes e trazem, portanto, pouca informação adicional para a classificação, e outros que proporcionam informação maior para a decisão.\n",
        "\n",
        "O pseudo código abaixo é o algoritmo clássico apresentado por Mitchell, Tom Michael (1997) em seu clássico livro de Aprendizado de Máquina.\n"
      ]
    },
    {
      "cell_type": "code",
      "metadata": {
        "id": "0v50Ts2_84kL"
      },
      "source": [
        "%%script false\n",
        "# Adaptado de, Mitchell, Tom Michael (1997). Machine Learning.\n",
        "\n",
        "def ID3 (Examples, Target_Attribute, Attributes):\n",
        "\n",
        "    Create a root node for the tree\n",
        "    if all examples are positive, return the single-node tree Root, with label = +.\n",
        "    if all examples are negative, return the single-node tree Root, with label = -.\n",
        "\n",
        "    if number of predicting attributes is empty:\n",
        "      return the single node tree Root, with label = most common value of the target attribute in the examples.\n",
        "    else:\n",
        "        A ← The Attribute that best classifies examples.\n",
        "        Decision Tree attribute for Root = A.\n",
        "        for each possible value, vi, of A,\n",
        "            Add a new tree branch below Root, corresponding to the test A = vi.\n",
        "            Let Examples(vi) be the subset of examples that have the value vi for A\n",
        "            if Examples(vi) is empty\n",
        "              below this new branch add a leaf node with label = most common target value in the examples\n",
        "            else below this new branch add the subtree ID3 (Examples(vi), Target_Attribute, Attributes – {A})\n",
        "    End"
      ],
      "execution_count": null,
      "outputs": []
    },
    {
      "cell_type": "markdown",
      "metadata": {
        "id": "yP63ZZAv6smk"
      },
      "source": [
        "# Decision Tree, scikit-learn\n",
        "\n",
        "Antes de prosseguirmos vamos explorar o classificador de árvore de decisão do `scikit-learn` no nosso exemplo de brinquedo."
      ]
    },
    {
      "cell_type": "markdown",
      "metadata": {
        "id": "M4Ch6wbKq6Iv"
      },
      "source": [
        "Os modelos de árvore de decisão podem lidar com variáveis categóricas sem codificá-las de uma só vez. Veja que nosso exemplo os valores atributos tinham valores 'yes' ou 'no' e, em nenhum momento precisamos supor ou transformá-los em numéricos. Entretanto as implementações mais populares de árvores de decisão, incluindo o `scikit-learn` não honram esse fato e requerem o encode dos dados categóricos, apesar da degradação do desempenho do modelo de árvore que isso traz. Desse modo precisamos proceder o encode dos dados para empregarmos o classificador de árvore de decisão do `scikit-learn`. Mas lembre-se, que isso é uma limitação apenas da implementação."
      ]
    },
    {
      "cell_type": "code",
      "metadata": {
        "colab": {
          "base_uri": "https://localhost:8080/",
          "height": 329
        },
        "id": "_PzrTLfCxEDI",
        "outputId": "f5fbdfa9-b318-42a6-fdbe-e6f2d04ee638"
      },
      "source": [
        "from sklearn.preprocessing import OneHotEncoder, LabelEncoder\n",
        "\n",
        "df_labels = df.drop(columns=['Name','class']).apply(LabelEncoder().fit_transform)\n",
        "cases_labels = cases.drop(columns=['Name','class']).apply(LabelEncoder().fit_transform)\n",
        "\n",
        "display( pd.concat([df.Name, df_labels, df['class']], axis=1) )\n",
        "display( pd.concat([cases.Name, cases_labels, cases['class']], axis=1) )"
      ],
      "execution_count": null,
      "outputs": [
        {
          "output_type": "display_data",
          "data": {
            "text/html": [
              "<div>\n",
              "<style scoped>\n",
              "    .dataframe tbody tr th:only-of-type {\n",
              "        vertical-align: middle;\n",
              "    }\n",
              "\n",
              "    .dataframe tbody tr th {\n",
              "        vertical-align: top;\n",
              "    }\n",
              "\n",
              "    .dataframe thead th {\n",
              "        text-align: right;\n",
              "    }\n",
              "</style>\n",
              "<table border=\"1\" class=\"dataframe\">\n",
              "  <thead>\n",
              "    <tr style=\"text-align: right;\">\n",
              "      <th></th>\n",
              "      <th>Name</th>\n",
              "      <th>sex</th>\n",
              "      <th>smokes</th>\n",
              "      <th>tie</th>\n",
              "      <th>mask</th>\n",
              "      <th>cape</th>\n",
              "      <th>ears</th>\n",
              "      <th>class</th>\n",
              "    </tr>\n",
              "  </thead>\n",
              "  <tbody>\n",
              "    <tr>\n",
              "      <th>0</th>\n",
              "      <td>Batman</td>\n",
              "      <td>1</td>\n",
              "      <td>0</td>\n",
              "      <td>0</td>\n",
              "      <td>1</td>\n",
              "      <td>1</td>\n",
              "      <td>1</td>\n",
              "      <td>good</td>\n",
              "    </tr>\n",
              "    <tr>\n",
              "      <th>1</th>\n",
              "      <td>Robin</td>\n",
              "      <td>1</td>\n",
              "      <td>0</td>\n",
              "      <td>0</td>\n",
              "      <td>1</td>\n",
              "      <td>1</td>\n",
              "      <td>1</td>\n",
              "      <td>good</td>\n",
              "    </tr>\n",
              "    <tr>\n",
              "      <th>2</th>\n",
              "      <td>Catwoman</td>\n",
              "      <td>0</td>\n",
              "      <td>0</td>\n",
              "      <td>0</td>\n",
              "      <td>1</td>\n",
              "      <td>0</td>\n",
              "      <td>1</td>\n",
              "      <td>bad</td>\n",
              "    </tr>\n",
              "    <tr>\n",
              "      <th>3</th>\n",
              "      <td>Joker</td>\n",
              "      <td>1</td>\n",
              "      <td>0</td>\n",
              "      <td>0</td>\n",
              "      <td>0</td>\n",
              "      <td>0</td>\n",
              "      <td>0</td>\n",
              "      <td>bad</td>\n",
              "    </tr>\n",
              "    <tr>\n",
              "      <th>4</th>\n",
              "      <td>Alfred</td>\n",
              "      <td>1</td>\n",
              "      <td>0</td>\n",
              "      <td>1</td>\n",
              "      <td>0</td>\n",
              "      <td>0</td>\n",
              "      <td>0</td>\n",
              "      <td>good</td>\n",
              "    </tr>\n",
              "    <tr>\n",
              "      <th>5</th>\n",
              "      <td>Penguin</td>\n",
              "      <td>1</td>\n",
              "      <td>1</td>\n",
              "      <td>1</td>\n",
              "      <td>0</td>\n",
              "      <td>0</td>\n",
              "      <td>0</td>\n",
              "      <td>bad</td>\n",
              "    </tr>\n",
              "  </tbody>\n",
              "</table>\n",
              "</div>"
            ],
            "text/plain": [
              "       Name  sex  smokes  tie  mask  cape  ears class\n",
              "0    Batman    1       0    0     1     1     1  good\n",
              "1     Robin    1       0    0     1     1     1  good\n",
              "2  Catwoman    0       0    0     1     0     1   bad\n",
              "3     Joker    1       0    0     0     0     0   bad\n",
              "4    Alfred    1       0    1     0     0     0  good\n",
              "5   Penguin    1       1    1     0     0     0   bad"
            ]
          },
          "metadata": {}
        },
        {
          "output_type": "display_data",
          "data": {
            "text/html": [
              "<div>\n",
              "<style scoped>\n",
              "    .dataframe tbody tr th:only-of-type {\n",
              "        vertical-align: middle;\n",
              "    }\n",
              "\n",
              "    .dataframe tbody tr th {\n",
              "        vertical-align: top;\n",
              "    }\n",
              "\n",
              "    .dataframe thead th {\n",
              "        text-align: right;\n",
              "    }\n",
              "</style>\n",
              "<table border=\"1\" class=\"dataframe\">\n",
              "  <thead>\n",
              "    <tr style=\"text-align: right;\">\n",
              "      <th></th>\n",
              "      <th>Name</th>\n",
              "      <th>sex</th>\n",
              "      <th>smokes</th>\n",
              "      <th>tie</th>\n",
              "      <th>mask</th>\n",
              "      <th>cape</th>\n",
              "      <th>ears</th>\n",
              "      <th>class</th>\n",
              "    </tr>\n",
              "  </thead>\n",
              "  <tbody>\n",
              "    <tr>\n",
              "      <th>0</th>\n",
              "      <td>Batgirl</td>\n",
              "      <td>0</td>\n",
              "      <td>0</td>\n",
              "      <td>1</td>\n",
              "      <td>0</td>\n",
              "      <td>1</td>\n",
              "      <td>0</td>\n",
              "      <td>?</td>\n",
              "    </tr>\n",
              "    <tr>\n",
              "      <th>1</th>\n",
              "      <td>Riddler</td>\n",
              "      <td>1</td>\n",
              "      <td>0</td>\n",
              "      <td>0</td>\n",
              "      <td>0</td>\n",
              "      <td>0</td>\n",
              "      <td>0</td>\n",
              "      <td>?</td>\n",
              "    </tr>\n",
              "  </tbody>\n",
              "</table>\n",
              "</div>"
            ],
            "text/plain": [
              "      Name  sex  smokes  tie  mask  cape  ears class\n",
              "0  Batgirl    0       0    1     0     1     0     ?\n",
              "1  Riddler    1       0    0     0     0     0     ?"
            ]
          },
          "metadata": {}
        }
      ]
    },
    {
      "cell_type": "markdown",
      "metadata": {
        "id": "P06TID7i8hmq"
      },
      "source": [
        "Neste exemplo simples, havendo para todos atributos somente dois valores, podemos fazer o `LabelEncoder` dos dados, tendo o mesmo resultado que teríamos ao empregar o `OneHotEncoder(drop='if-binary')`.\n",
        "\n",
        "Como estamos interessados apenas em *explorar* o modelo, por hora podemos deixar de lado a separação de dados de treinamento e teste. O estimador `DecisionTreeClassifier()` segue então a mesma forma de uso que empregamos até agora."
      ]
    },
    {
      "cell_type": "code",
      "metadata": {
        "colab": {
          "base_uri": "https://localhost:8080/"
        },
        "id": "m2e8pJzLx2OW",
        "outputId": "49fc9e62-f4c5-4b81-ae3d-cd6f1d998b99"
      },
      "source": [
        "from sklearn.tree import DecisionTreeClassifier\n",
        "\n",
        "X = df_labels\n",
        "y = df['class']\n",
        "\n",
        "clf = DecisionTreeClassifier(criterion='entropy')\n",
        "\n",
        "clf.fit(X,y)\n",
        "y_pred = clf.predict(X)\n",
        "print( clf.score(X,y) )\n"
      ],
      "execution_count": null,
      "outputs": [
        {
          "output_type": "stream",
          "name": "stdout",
          "text": [
            "1.0\n"
          ]
        }
      ]
    },
    {
      "cell_type": "markdown",
      "metadata": {
        "id": "E_jTihLQ94Aq"
      },
      "source": [
        "E podemos então fazer predições a partir do modelo construído."
      ]
    },
    {
      "cell_type": "markdown",
      "metadata": {
        "id": "xQlrqzmgD-Mq"
      },
      "source": [
        "<img src=\"https://universoheroico.com.br/wp-content/uploads/2021/05/Imagem-da-batgirl.jpg\" width=300, align=\"center\">\n",
        "\n",
        "<img src=\"https://images6.fanpop.com/image/photos/43600000/Edward-Nygma-The-Riddler-in-Batman-no-23-2-dc-comics-43657990-900-507.jpg\" width=300, align=\"center\">\n",
        "\n",
        "\n",
        "\n",
        "\n"
      ]
    },
    {
      "cell_type": "markdown",
      "metadata": {
        "id": "TJPlxvLPLdvh"
      },
      "source": [
        "<small>\n",
        "<b>\n",
        "Figura 5. Personagens para predição. <br></b>(Fonte: imagens de divulgação, https://universoheroico.com.br e https://images6.fanpop.com)"
      ]
    },
    {
      "cell_type": "code",
      "metadata": {
        "colab": {
          "base_uri": "https://localhost:8080/",
          "height": 111
        },
        "id": "LpAwtOldBjja",
        "outputId": "6e2a6af2-5c2f-4224-ad96-bd01c6083e2c"
      },
      "source": [
        "y_pred = clf.predict(cases_labels)\n",
        "cases['class'] = y_pred\n",
        "display( cases )"
      ],
      "execution_count": null,
      "outputs": [
        {
          "output_type": "display_data",
          "data": {
            "text/html": [
              "<div>\n",
              "<style scoped>\n",
              "    .dataframe tbody tr th:only-of-type {\n",
              "        vertical-align: middle;\n",
              "    }\n",
              "\n",
              "    .dataframe tbody tr th {\n",
              "        vertical-align: top;\n",
              "    }\n",
              "\n",
              "    .dataframe thead th {\n",
              "        text-align: right;\n",
              "    }\n",
              "</style>\n",
              "<table border=\"1\" class=\"dataframe\">\n",
              "  <thead>\n",
              "    <tr style=\"text-align: right;\">\n",
              "      <th></th>\n",
              "      <th>Name</th>\n",
              "      <th>sex</th>\n",
              "      <th>smokes</th>\n",
              "      <th>tie</th>\n",
              "      <th>mask</th>\n",
              "      <th>cape</th>\n",
              "      <th>ears</th>\n",
              "      <th>class</th>\n",
              "    </tr>\n",
              "  </thead>\n",
              "  <tbody>\n",
              "    <tr>\n",
              "      <th>0</th>\n",
              "      <td>Batgirl</td>\n",
              "      <td>female</td>\n",
              "      <td>yes</td>\n",
              "      <td>yes</td>\n",
              "      <td>no</td>\n",
              "      <td>yes</td>\n",
              "      <td>no</td>\n",
              "      <td>good</td>\n",
              "    </tr>\n",
              "    <tr>\n",
              "      <th>1</th>\n",
              "      <td>Riddler</td>\n",
              "      <td>male</td>\n",
              "      <td>yes</td>\n",
              "      <td>no</td>\n",
              "      <td>no</td>\n",
              "      <td>no</td>\n",
              "      <td>no</td>\n",
              "      <td>bad</td>\n",
              "    </tr>\n",
              "  </tbody>\n",
              "</table>\n",
              "</div>"
            ],
            "text/plain": [
              "      Name     sex smokes  tie mask cape ears class\n",
              "0  Batgirl  female    yes  yes   no  yes   no  good\n",
              "1  Riddler    male    yes   no   no   no   no   bad"
            ]
          },
          "metadata": {}
        }
      ]
    },
    {
      "cell_type": "markdown",
      "metadata": {
        "id": "Got-ARkm-C4L"
      },
      "source": [
        "Uma das grandes vantagens dos modelos de Árvore de Decisão é sua *interpretabilidade*. Um tema cada vez mais exigido dos modelos de aprendizado de máquina à medida que eles são mais e mais empregados em decisões que influenciam o dia a dia e o destino das pessoas (por exemplo, aplicações na no processo seletivo das empresas ou a previsibilidade de crimes).\n",
        "\n",
        "Essa interpretabilidade é em grande parte pela possibilidade de podermos *enxergar* como é tomada a decisão do classificador observando a estrutura da árvore ou, ao menos, a cadeia de particionamentos criada. O `scikit-learn` fornece algumas formas de visualização da árvore criada sendo a mais simples, o `plot_tree()`.  "
      ]
    },
    {
      "cell_type": "code",
      "metadata": {
        "colab": {
          "base_uri": "https://localhost:8080/",
          "height": 248
        },
        "id": "LC1owyqfpS9P",
        "outputId": "dd545094-8be9-451b-cbca-35f20dae7938"
      },
      "source": [
        "from sklearn import tree\n",
        "\n",
        "tree.plot_tree(clf)\n",
        "plt.show()"
      ],
      "execution_count": null,
      "outputs": [
        {
          "output_type": "display_data",
          "data": {
            "image/png": "[encoded data removed]",
            "text/plain": [
              "<Figure size 432x288 with 1 Axes>"
            ]
          },
          "metadata": {
            "needs_background": "light"
          }
        }
      ]
    },
    {
      "cell_type": "markdown",
      "metadata": {
        "id": "RD_q7lUo_woi"
      },
      "source": [
        "Mas resultados muito melhores podem ser obtidos com o pacote `graphviz`."
      ]
    },
    {
      "cell_type": "code",
      "metadata": {
        "colab": {
          "base_uri": "https://localhost:8080/",
          "height": 518
        },
        "id": "zrPzTqlxpkrX",
        "outputId": "62081e70-6027-48a4-8edc-5b748e0f6bcc"
      },
      "source": [
        "import graphviz\n",
        "dot_data = tree.export_graphviz(clf, out_file=None,\n",
        "                     feature_names=list(df_labels.columns.values),\n",
        "                     class_names=list(sorted(df['class'].unique())),\n",
        "                     filled=True, rounded=True,\n",
        "                     special_characters=False,\n",
        "                     proportion=False, impurity=False, node_ids=False,label=None)\n",
        "graph = graphviz.Source(dot_data)\n",
        "graph.render('graph_cartoons') # para gravação em .pdf\n",
        "graph"
      ],
      "execution_count": null,
      "outputs": [
        {
          "output_type": "execute_result",
          "data": {
            "text/plain": [
              "<graphviz.files.Source at 0x7f05b7c6b250>"
            ],
            "image/svg+xml": "<?xml version=\"1.0\" encoding=\"UTF-8\" standalone=\"no\"?>\n<!DOCTYPE svg PUBLIC \"-//W3C//DTD SVG 1.1//EN\"\n \"http://www.w3.org/Graphics/SVG/1.1/DTD/svg11.dtd\">\n<!-- Generated by graphviz version 2.40.1 (20161225.0304)\n -->\n<!-- Title: Tree Pages: 1 -->\n<svg width=\"199pt\" height=\"373pt\"\n viewBox=\"0.00 0.00 199.00 373.00\" xmlns=\"http://www.w3.org/2000/svg\" xmlns:xlink=\"http://www.w3.org/1999/xlink\">\n<g id=\"graph0\" class=\"graph\" transform=\"scale(1 1) rotate(0) translate(4 369)\">\n<title>Tree</title>\n<polygon fill=\"#ffffff\" stroke=\"transparent\" points=\"-4,4 -4,-369 195,-369 195,4 -4,4\"/>\n<!-- 0 -->\n<g id=\"node1\" class=\"node\">\n<title>0</title>\n<path fill=\"#ffffff\" stroke=\"#000000\" d=\"M152.5,-365C152.5,-365 83.5,-365 83.5,-365 77.5,-365 71.5,-359 71.5,-353 71.5,-353 71.5,-309 71.5,-309 71.5,-303 77.5,-297 83.5,-297 83.5,-297 152.5,-297 152.5,-297 158.5,-297 164.5,-303 164.5,-309 164.5,-309 164.5,-353 164.5,-353 164.5,-359 158.5,-365 152.5,-365\"/>\n<text text-anchor=\"middle\" x=\"118\" y=\"-349.8\" font-family=\"Helvetica,sans-Serif\" font-size=\"14.00\" fill=\"#000000\">cape &lt;= 0.5</text>\n<text text-anchor=\"middle\" x=\"118\" y=\"-334.8\" font-family=\"Helvetica,sans-Serif\" font-size=\"14.00\" fill=\"#000000\">6</text>\n<text text-anchor=\"middle\" x=\"118\" y=\"-319.8\" font-family=\"Helvetica,sans-Serif\" font-size=\"14.00\" fill=\"#000000\">[3, 3]</text>\n<text text-anchor=\"middle\" x=\"118\" y=\"-304.8\" font-family=\"Helvetica,sans-Serif\" font-size=\"14.00\" fill=\"#000000\">bad</text>\n</g>\n<!-- 1 -->\n<g id=\"node2\" class=\"node\">\n<title>1</title>\n<path fill=\"#eeab7b\" stroke=\"#000000\" d=\"M103,-261C103,-261 51,-261 51,-261 45,-261 39,-255 39,-249 39,-249 39,-205 39,-205 39,-199 45,-193 51,-193 51,-193 103,-193 103,-193 109,-193 115,-199 115,-205 115,-205 115,-249 115,-249 115,-255 109,-261 103,-261\"/>\n<text text-anchor=\"middle\" x=\"77\" y=\"-245.8\" font-family=\"Helvetica,sans-Serif\" font-size=\"14.00\" fill=\"#000000\">tie &lt;= 0.5</text>\n<text text-anchor=\"middle\" x=\"77\" y=\"-230.8\" font-family=\"Helvetica,sans-Serif\" font-size=\"14.00\" fill=\"#000000\">4</text>\n<text text-anchor=\"middle\" x=\"77\" y=\"-215.8\" font-family=\"Helvetica,sans-Serif\" font-size=\"14.00\" fill=\"#000000\">[3, 1]</text>\n<text text-anchor=\"middle\" x=\"77\" y=\"-200.8\" font-family=\"Helvetica,sans-Serif\" font-size=\"14.00\" fill=\"#000000\">bad</text>\n</g>\n<!-- 0&#45;&gt;1 -->\n<g id=\"edge1\" class=\"edge\">\n<title>0&#45;&gt;1</title>\n<path fill=\"none\" stroke=\"#000000\" d=\"M104.5751,-296.9465C101.2478,-288.5067 97.6372,-279.3479 94.1584,-270.5239\"/>\n<polygon fill=\"#000000\" stroke=\"#000000\" points=\"97.3789,-269.1495 90.4551,-261.13 90.8666,-271.7168 97.3789,-269.1495\"/>\n<text text-anchor=\"middle\" x=\"80.4927\" y=\"-280.3593\" font-family=\"Helvetica,sans-Serif\" font-size=\"14.00\" fill=\"#000000\">True</text>\n</g>\n<!-- 6 -->\n<g id=\"node7\" class=\"node\">\n<title>6</title>\n<path fill=\"#399de5\" stroke=\"#000000\" d=\"M175,-253.5C175,-253.5 145,-253.5 145,-253.5 139,-253.5 133,-247.5 133,-241.5 133,-241.5 133,-212.5 133,-212.5 133,-206.5 139,-200.5 145,-200.5 145,-200.5 175,-200.5 175,-200.5 181,-200.5 187,-206.5 187,-212.5 187,-212.5 187,-241.5 187,-241.5 187,-247.5 181,-253.5 175,-253.5\"/>\n<text text-anchor=\"middle\" x=\"160\" y=\"-238.3\" font-family=\"Helvetica,sans-Serif\" font-size=\"14.00\" fill=\"#000000\">2</text>\n<text text-anchor=\"middle\" x=\"160\" y=\"-223.3\" font-family=\"Helvetica,sans-Serif\" font-size=\"14.00\" fill=\"#000000\">[0, 2]</text>\n<text text-anchor=\"middle\" x=\"160\" y=\"-208.3\" font-family=\"Helvetica,sans-Serif\" font-size=\"14.00\" fill=\"#000000\">good</text>\n</g>\n<!-- 0&#45;&gt;6 -->\n<g id=\"edge6\" class=\"edge\">\n<title>0&#45;&gt;6</title>\n<path fill=\"none\" stroke=\"#000000\" d=\"M131.7524,-296.9465C136.1562,-286.0418 141.0447,-273.9368 145.5002,-262.9043\"/>\n<polygon fill=\"#000000\" stroke=\"#000000\" points=\"148.7817,-264.1252 149.281,-253.5422 142.291,-261.5039 148.7817,-264.1252\"/>\n<text text-anchor=\"middle\" x=\"159.0529\" y=\"-272.8533\" font-family=\"Helvetica,sans-Serif\" font-size=\"14.00\" fill=\"#000000\">False</text>\n</g>\n<!-- 2 -->\n<g id=\"node3\" class=\"node\">\n<title>2</title>\n<path fill=\"#e58139\" stroke=\"#000000\" d=\"M42,-149.5C42,-149.5 12,-149.5 12,-149.5 6,-149.5 0,-143.5 0,-137.5 0,-137.5 0,-108.5 0,-108.5 0,-102.5 6,-96.5 12,-96.5 12,-96.5 42,-96.5 42,-96.5 48,-96.5 54,-102.5 54,-108.5 54,-108.5 54,-137.5 54,-137.5 54,-143.5 48,-149.5 42,-149.5\"/>\n<text text-anchor=\"middle\" x=\"27\" y=\"-134.3\" font-family=\"Helvetica,sans-Serif\" font-size=\"14.00\" fill=\"#000000\">2</text>\n<text text-anchor=\"middle\" x=\"27\" y=\"-119.3\" font-family=\"Helvetica,sans-Serif\" font-size=\"14.00\" fill=\"#000000\">[2, 0]</text>\n<text text-anchor=\"middle\" x=\"27\" y=\"-104.3\" font-family=\"Helvetica,sans-Serif\" font-size=\"14.00\" fill=\"#000000\">bad</text>\n</g>\n<!-- 1&#45;&gt;2 -->\n<g id=\"edge2\" class=\"edge\">\n<title>1&#45;&gt;2</title>\n<path fill=\"none\" stroke=\"#000000\" d=\"M60.6281,-192.9465C55.3325,-181.9316 49.4482,-169.6922 44.1011,-158.5703\"/>\n<polygon fill=\"#000000\" stroke=\"#000000\" points=\"47.248,-157.0381 39.7607,-149.5422 40.9393,-160.0712 47.248,-157.0381\"/>\n</g>\n<!-- 3 -->\n<g id=\"node4\" class=\"node\">\n<title>3</title>\n<path fill=\"#ffffff\" stroke=\"#000000\" d=\"M172,-157C172,-157 84,-157 84,-157 78,-157 72,-151 72,-145 72,-145 72,-101 72,-101 72,-95 78,-89 84,-89 84,-89 172,-89 172,-89 178,-89 184,-95 184,-101 184,-101 184,-145 184,-145 184,-151 178,-157 172,-157\"/>\n<text text-anchor=\"middle\" x=\"128\" y=\"-141.8\" font-family=\"Helvetica,sans-Serif\" font-size=\"14.00\" fill=\"#000000\">smokes &lt;= 0.5</text>\n<text text-anchor=\"middle\" x=\"128\" y=\"-126.8\" font-family=\"Helvetica,sans-Serif\" font-size=\"14.00\" fill=\"#000000\">2</text>\n<text text-anchor=\"middle\" x=\"128\" y=\"-111.8\" font-family=\"Helvetica,sans-Serif\" font-size=\"14.00\" fill=\"#000000\">[1, 1]</text>\n<text text-anchor=\"middle\" x=\"128\" y=\"-96.8\" font-family=\"Helvetica,sans-Serif\" font-size=\"14.00\" fill=\"#000000\">bad</text>\n</g>\n<!-- 1&#45;&gt;3 -->\n<g id=\"edge3\" class=\"edge\">\n<title>1&#45;&gt;3</title>\n<path fill=\"none\" stroke=\"#000000\" d=\"M93.6993,-192.9465C97.8821,-184.4169 102.425,-175.153 106.7946,-166.2424\"/>\n<polygon fill=\"#000000\" stroke=\"#000000\" points=\"110.0027,-167.6496 111.2632,-157.13 103.7177,-164.5675 110.0027,-167.6496\"/>\n</g>\n<!-- 4 -->\n<g id=\"node5\" class=\"node\">\n<title>4</title>\n<path fill=\"#399de5\" stroke=\"#000000\" d=\"M107,-53C107,-53 77,-53 77,-53 71,-53 65,-47 65,-41 65,-41 65,-12 65,-12 65,-6 71,0 77,0 77,0 107,0 107,0 113,0 119,-6 119,-12 119,-12 119,-41 119,-41 119,-47 113,-53 107,-53\"/>\n<text text-anchor=\"middle\" x=\"92\" y=\"-37.8\" font-family=\"Helvetica,sans-Serif\" font-size=\"14.00\" fill=\"#000000\">1</text>\n<text text-anchor=\"middle\" x=\"92\" y=\"-22.8\" font-family=\"Helvetica,sans-Serif\" font-size=\"14.00\" fill=\"#000000\">[0, 1]</text>\n<text text-anchor=\"middle\" x=\"92\" y=\"-7.8\" font-family=\"Helvetica,sans-Serif\" font-size=\"14.00\" fill=\"#000000\">good</text>\n</g>\n<!-- 3&#45;&gt;4 -->\n<g id=\"edge4\" class=\"edge\">\n<title>3&#45;&gt;4</title>\n<path fill=\"none\" stroke=\"#000000\" d=\"M115.3077,-88.9777C112.1308,-80.4617 108.7116,-71.2963 105.4971,-62.6798\"/>\n<polygon fill=\"#000000\" stroke=\"#000000\" points=\"108.7533,-61.3944 101.9787,-53.2485 102.1948,-63.8411 108.7533,-61.3944\"/>\n</g>\n<!-- 5 -->\n<g id=\"node6\" class=\"node\">\n<title>5</title>\n<path fill=\"#e58139\" stroke=\"#000000\" d=\"M179,-53C179,-53 149,-53 149,-53 143,-53 137,-47 137,-41 137,-41 137,-12 137,-12 137,-6 143,0 149,0 149,0 179,0 179,0 185,0 191,-6 191,-12 191,-12 191,-41 191,-41 191,-47 185,-53 179,-53\"/>\n<text text-anchor=\"middle\" x=\"164\" y=\"-37.8\" font-family=\"Helvetica,sans-Serif\" font-size=\"14.00\" fill=\"#000000\">1</text>\n<text text-anchor=\"middle\" x=\"164\" y=\"-22.8\" font-family=\"Helvetica,sans-Serif\" font-size=\"14.00\" fill=\"#000000\">[1, 0]</text>\n<text text-anchor=\"middle\" x=\"164\" y=\"-7.8\" font-family=\"Helvetica,sans-Serif\" font-size=\"14.00\" fill=\"#000000\">bad</text>\n</g>\n<!-- 3&#45;&gt;5 -->\n<g id=\"edge5\" class=\"edge\">\n<title>3&#45;&gt;5</title>\n<path fill=\"none\" stroke=\"#000000\" d=\"M140.6923,-88.9777C143.8692,-80.4617 147.2884,-71.2963 150.5029,-62.6798\"/>\n<polygon fill=\"#000000\" stroke=\"#000000\" points=\"153.8052,-63.8411 154.0213,-53.2485 147.2467,-61.3944 153.8052,-63.8411\"/>\n</g>\n</g>\n</svg>\n"
          },
          "metadata": {},
          "execution_count": 8
        }
      ]
    },
    {
      "cell_type": "markdown",
      "metadata": {
        "id": "e8skmgOc_8ez"
      },
      "source": [
        "Revisando a árvore acima podemos reproduzir os particionamentos criados e notar que o 'aprendizado' do modelo pode ser facilmente interpretado por uma série de condições (*ifs*) encadeados."
      ]
    },
    {
      "cell_type": "code",
      "metadata": {
        "colab": {
          "base_uri": "https://localhost:8080/",
          "height": 1000
        },
        "id": "YekwIt330mX6",
        "outputId": "50096989-7725-47f0-bbef-4ea4261b6f7e"
      },
      "source": [
        "df_tree = pd.concat([df_labels, df['class']], axis=1)\n",
        "\n",
        "print('Root level')\n",
        "print(60*'-')\n",
        "display(df_tree)\n",
        "print('Continue Next Level...')\n",
        "display(df_tree[df_tree.cape<=0.5])\n",
        "print('Terminal')\n",
        "display(df_tree[df_tree.cape>0.5])\n",
        "\n",
        "print('\\n\\n\\nSecond level')\n",
        "print(60*'-')\n",
        "display(df_tree[df_tree.cape<=0.5])\n",
        "print('Continue Next Level...')\n",
        "display(df_tree[(df_tree.cape<=0.5) & (df_tree.tie>0.5)])\n",
        "print('Terminal')\n",
        "display(df_tree[(df_tree.cape<=0.5) & (df_tree.tie<=0.5)])\n",
        "\n",
        "print('\\n\\n\\nThird level')\n",
        "print(60*'-')\n",
        "display(df_tree[(df_tree.cape<=0.5) & (df_tree.tie>0.5)])\n",
        "print('Terminal')\n",
        "display(df_tree[(df_tree.cape<=0.5) & (df_tree.tie>0.5) & (df_tree.smokes<=0.5) ])\n",
        "print('Terminal')\n",
        "display(df_tree[(df_tree.cape<=0.5) & (df_tree.tie>0.5) & (df_tree.smokes>0.5)])"
      ],
      "execution_count": null,
      "outputs": [
        {
          "output_type": "stream",
          "name": "stdout",
          "text": [
            "Root level\n",
            "------------------------------------------------------------\n"
          ]
        },
        {
          "output_type": "display_data",
          "data": {
            "text/html": [
              "<div>\n",
              "<style scoped>\n",
              "    .dataframe tbody tr th:only-of-type {\n",
              "        vertical-align: middle;\n",
              "    }\n",
              "\n",
              "    .dataframe tbody tr th {\n",
              "        vertical-align: top;\n",
              "    }\n",
              "\n",
              "    .dataframe thead th {\n",
              "        text-align: right;\n",
              "    }\n",
              "</style>\n",
              "<table border=\"1\" class=\"dataframe\">\n",
              "  <thead>\n",
              "    <tr style=\"text-align: right;\">\n",
              "      <th></th>\n",
              "      <th>sex</th>\n",
              "      <th>smokes</th>\n",
              "      <th>tie</th>\n",
              "      <th>mask</th>\n",
              "      <th>cape</th>\n",
              "      <th>ears</th>\n",
              "      <th>class</th>\n",
              "    </tr>\n",
              "  </thead>\n",
              "  <tbody>\n",
              "    <tr>\n",
              "      <th>0</th>\n",
              "      <td>1</td>\n",
              "      <td>0</td>\n",
              "      <td>0</td>\n",
              "      <td>1</td>\n",
              "      <td>1</td>\n",
              "      <td>1</td>\n",
              "      <td>good</td>\n",
              "    </tr>\n",
              "    <tr>\n",
              "      <th>1</th>\n",
              "      <td>1</td>\n",
              "      <td>0</td>\n",
              "      <td>0</td>\n",
              "      <td>1</td>\n",
              "      <td>1</td>\n",
              "      <td>1</td>\n",
              "      <td>good</td>\n",
              "    </tr>\n",
              "    <tr>\n",
              "      <th>2</th>\n",
              "      <td>0</td>\n",
              "      <td>0</td>\n",
              "      <td>0</td>\n",
              "      <td>1</td>\n",
              "      <td>0</td>\n",
              "      <td>1</td>\n",
              "      <td>bad</td>\n",
              "    </tr>\n",
              "    <tr>\n",
              "      <th>3</th>\n",
              "      <td>1</td>\n",
              "      <td>0</td>\n",
              "      <td>0</td>\n",
              "      <td>0</td>\n",
              "      <td>0</td>\n",
              "      <td>0</td>\n",
              "      <td>bad</td>\n",
              "    </tr>\n",
              "    <tr>\n",
              "      <th>4</th>\n",
              "      <td>1</td>\n",
              "      <td>0</td>\n",
              "      <td>1</td>\n",
              "      <td>0</td>\n",
              "      <td>0</td>\n",
              "      <td>0</td>\n",
              "      <td>good</td>\n",
              "    </tr>\n",
              "    <tr>\n",
              "      <th>5</th>\n",
              "      <td>1</td>\n",
              "      <td>1</td>\n",
              "      <td>1</td>\n",
              "      <td>0</td>\n",
              "      <td>0</td>\n",
              "      <td>0</td>\n",
              "      <td>bad</td>\n",
              "    </tr>\n",
              "  </tbody>\n",
              "</table>\n",
              "</div>"
            ],
            "text/plain": [
              "   sex  smokes  tie  mask  cape  ears class\n",
              "0    1       0    0     1     1     1  good\n",
              "1    1       0    0     1     1     1  good\n",
              "2    0       0    0     1     0     1   bad\n",
              "3    1       0    0     0     0     0   bad\n",
              "4    1       0    1     0     0     0  good\n",
              "5    1       1    1     0     0     0   bad"
            ]
          },
          "metadata": {}
        },
        {
          "output_type": "stream",
          "name": "stdout",
          "text": [
            "Continue Next Level...\n"
          ]
        },
        {
          "output_type": "display_data",
          "data": {
            "text/html": [
              "<div>\n",
              "<style scoped>\n",
              "    .dataframe tbody tr th:only-of-type {\n",
              "        vertical-align: middle;\n",
              "    }\n",
              "\n",
              "    .dataframe tbody tr th {\n",
              "        vertical-align: top;\n",
              "    }\n",
              "\n",
              "    .dataframe thead th {\n",
              "        text-align: right;\n",
              "    }\n",
              "</style>\n",
              "<table border=\"1\" class=\"dataframe\">\n",
              "  <thead>\n",
              "    <tr style=\"text-align: right;\">\n",
              "      <th></th>\n",
              "      <th>sex</th>\n",
              "      <th>smokes</th>\n",
              "      <th>tie</th>\n",
              "      <th>mask</th>\n",
              "      <th>cape</th>\n",
              "      <th>ears</th>\n",
              "      <th>class</th>\n",
              "    </tr>\n",
              "  </thead>\n",
              "  <tbody>\n",
              "    <tr>\n",
              "      <th>2</th>\n",
              "      <td>0</td>\n",
              "      <td>0</td>\n",
              "      <td>0</td>\n",
              "      <td>1</td>\n",
              "      <td>0</td>\n",
              "      <td>1</td>\n",
              "      <td>bad</td>\n",
              "    </tr>\n",
              "    <tr>\n",
              "      <th>3</th>\n",
              "      <td>1</td>\n",
              "      <td>0</td>\n",
              "      <td>0</td>\n",
              "      <td>0</td>\n",
              "      <td>0</td>\n",
              "      <td>0</td>\n",
              "      <td>bad</td>\n",
              "    </tr>\n",
              "    <tr>\n",
              "      <th>4</th>\n",
              "      <td>1</td>\n",
              "      <td>0</td>\n",
              "      <td>1</td>\n",
              "      <td>0</td>\n",
              "      <td>0</td>\n",
              "      <td>0</td>\n",
              "      <td>good</td>\n",
              "    </tr>\n",
              "    <tr>\n",
              "      <th>5</th>\n",
              "      <td>1</td>\n",
              "      <td>1</td>\n",
              "      <td>1</td>\n",
              "      <td>0</td>\n",
              "      <td>0</td>\n",
              "      <td>0</td>\n",
              "      <td>bad</td>\n",
              "    </tr>\n",
              "  </tbody>\n",
              "</table>\n",
              "</div>"
            ],
            "text/plain": [
              "   sex  smokes  tie  mask  cape  ears class\n",
              "2    0       0    0     1     0     1   bad\n",
              "3    1       0    0     0     0     0   bad\n",
              "4    1       0    1     0     0     0  good\n",
              "5    1       1    1     0     0     0   bad"
            ]
          },
          "metadata": {}
        },
        {
          "output_type": "stream",
          "name": "stdout",
          "text": [
            "Terminal\n"
          ]
        },
        {
          "output_type": "display_data",
          "data": {
            "text/html": [
              "<div>\n",
              "<style scoped>\n",
              "    .dataframe tbody tr th:only-of-type {\n",
              "        vertical-align: middle;\n",
              "    }\n",
              "\n",
              "    .dataframe tbody tr th {\n",
              "        vertical-align: top;\n",
              "    }\n",
              "\n",
              "    .dataframe thead th {\n",
              "        text-align: right;\n",
              "    }\n",
              "</style>\n",
              "<table border=\"1\" class=\"dataframe\">\n",
              "  <thead>\n",
              "    <tr style=\"text-align: right;\">\n",
              "      <th></th>\n",
              "      <th>sex</th>\n",
              "      <th>smokes</th>\n",
              "      <th>tie</th>\n",
              "      <th>mask</th>\n",
              "      <th>cape</th>\n",
              "      <th>ears</th>\n",
              "      <th>class</th>\n",
              "    </tr>\n",
              "  </thead>\n",
              "  <tbody>\n",
              "    <tr>\n",
              "      <th>0</th>\n",
              "      <td>1</td>\n",
              "      <td>0</td>\n",
              "      <td>0</td>\n",
              "      <td>1</td>\n",
              "      <td>1</td>\n",
              "      <td>1</td>\n",
              "      <td>good</td>\n",
              "    </tr>\n",
              "    <tr>\n",
              "      <th>1</th>\n",
              "      <td>1</td>\n",
              "      <td>0</td>\n",
              "      <td>0</td>\n",
              "      <td>1</td>\n",
              "      <td>1</td>\n",
              "      <td>1</td>\n",
              "      <td>good</td>\n",
              "    </tr>\n",
              "  </tbody>\n",
              "</table>\n",
              "</div>"
            ],
            "text/plain": [
              "   sex  smokes  tie  mask  cape  ears class\n",
              "0    1       0    0     1     1     1  good\n",
              "1    1       0    0     1     1     1  good"
            ]
          },
          "metadata": {}
        },
        {
          "output_type": "stream",
          "name": "stdout",
          "text": [
            "\n",
            "\n",
            "\n",
            "Second level\n",
            "------------------------------------------------------------\n"
          ]
        },
        {
          "output_type": "display_data",
          "data": {
            "text/html": [
              "<div>\n",
              "<style scoped>\n",
              "    .dataframe tbody tr th:only-of-type {\n",
              "        vertical-align: middle;\n",
              "    }\n",
              "\n",
              "    .dataframe tbody tr th {\n",
              "        vertical-align: top;\n",
              "    }\n",
              "\n",
              "    .dataframe thead th {\n",
              "        text-align: right;\n",
              "    }\n",
              "</style>\n",
              "<table border=\"1\" class=\"dataframe\">\n",
              "  <thead>\n",
              "    <tr style=\"text-align: right;\">\n",
              "      <th></th>\n",
              "      <th>sex</th>\n",
              "      <th>smokes</th>\n",
              "      <th>tie</th>\n",
              "      <th>mask</th>\n",
              "      <th>cape</th>\n",
              "      <th>ears</th>\n",
              "      <th>class</th>\n",
              "    </tr>\n",
              "  </thead>\n",
              "  <tbody>\n",
              "    <tr>\n",
              "      <th>2</th>\n",
              "      <td>0</td>\n",
              "      <td>0</td>\n",
              "      <td>0</td>\n",
              "      <td>1</td>\n",
              "      <td>0</td>\n",
              "      <td>1</td>\n",
              "      <td>bad</td>\n",
              "    </tr>\n",
              "    <tr>\n",
              "      <th>3</th>\n",
              "      <td>1</td>\n",
              "      <td>0</td>\n",
              "      <td>0</td>\n",
              "      <td>0</td>\n",
              "      <td>0</td>\n",
              "      <td>0</td>\n",
              "      <td>bad</td>\n",
              "    </tr>\n",
              "    <tr>\n",
              "      <th>4</th>\n",
              "      <td>1</td>\n",
              "      <td>0</td>\n",
              "      <td>1</td>\n",
              "      <td>0</td>\n",
              "      <td>0</td>\n",
              "      <td>0</td>\n",
              "      <td>good</td>\n",
              "    </tr>\n",
              "    <tr>\n",
              "      <th>5</th>\n",
              "      <td>1</td>\n",
              "      <td>1</td>\n",
              "      <td>1</td>\n",
              "      <td>0</td>\n",
              "      <td>0</td>\n",
              "      <td>0</td>\n",
              "      <td>bad</td>\n",
              "    </tr>\n",
              "  </tbody>\n",
              "</table>\n",
              "</div>"
            ],
            "text/plain": [
              "   sex  smokes  tie  mask  cape  ears class\n",
              "2    0       0    0     1     0     1   bad\n",
              "3    1       0    0     0     0     0   bad\n",
              "4    1       0    1     0     0     0  good\n",
              "5    1       1    1     0     0     0   bad"
            ]
          },
          "metadata": {}
        },
        {
          "output_type": "stream",
          "name": "stdout",
          "text": [
            "Continue Next Level...\n"
          ]
        },
        {
          "output_type": "display_data",
          "data": {
            "text/html": [
              "<div>\n",
              "<style scoped>\n",
              "    .dataframe tbody tr th:only-of-type {\n",
              "        vertical-align: middle;\n",
              "    }\n",
              "\n",
              "    .dataframe tbody tr th {\n",
              "        vertical-align: top;\n",
              "    }\n",
              "\n",
              "    .dataframe thead th {\n",
              "        text-align: right;\n",
              "    }\n",
              "</style>\n",
              "<table border=\"1\" class=\"dataframe\">\n",
              "  <thead>\n",
              "    <tr style=\"text-align: right;\">\n",
              "      <th></th>\n",
              "      <th>sex</th>\n",
              "      <th>smokes</th>\n",
              "      <th>tie</th>\n",
              "      <th>mask</th>\n",
              "      <th>cape</th>\n",
              "      <th>ears</th>\n",
              "      <th>class</th>\n",
              "    </tr>\n",
              "  </thead>\n",
              "  <tbody>\n",
              "    <tr>\n",
              "      <th>4</th>\n",
              "      <td>1</td>\n",
              "      <td>0</td>\n",
              "      <td>1</td>\n",
              "      <td>0</td>\n",
              "      <td>0</td>\n",
              "      <td>0</td>\n",
              "      <td>good</td>\n",
              "    </tr>\n",
              "    <tr>\n",
              "      <th>5</th>\n",
              "      <td>1</td>\n",
              "      <td>1</td>\n",
              "      <td>1</td>\n",
              "      <td>0</td>\n",
              "      <td>0</td>\n",
              "      <td>0</td>\n",
              "      <td>bad</td>\n",
              "    </tr>\n",
              "  </tbody>\n",
              "</table>\n",
              "</div>"
            ],
            "text/plain": [
              "   sex  smokes  tie  mask  cape  ears class\n",
              "4    1       0    1     0     0     0  good\n",
              "5    1       1    1     0     0     0   bad"
            ]
          },
          "metadata": {}
        },
        {
          "output_type": "stream",
          "name": "stdout",
          "text": [
            "Terminal\n"
          ]
        },
        {
          "output_type": "display_data",
          "data": {
            "text/html": [
              "<div>\n",
              "<style scoped>\n",
              "    .dataframe tbody tr th:only-of-type {\n",
              "        vertical-align: middle;\n",
              "    }\n",
              "\n",
              "    .dataframe tbody tr th {\n",
              "        vertical-align: top;\n",
              "    }\n",
              "\n",
              "    .dataframe thead th {\n",
              "        text-align: right;\n",
              "    }\n",
              "</style>\n",
              "<table border=\"1\" class=\"dataframe\">\n",
              "  <thead>\n",
              "    <tr style=\"text-align: right;\">\n",
              "      <th></th>\n",
              "      <th>sex</th>\n",
              "      <th>smokes</th>\n",
              "      <th>tie</th>\n",
              "      <th>mask</th>\n",
              "      <th>cape</th>\n",
              "      <th>ears</th>\n",
              "      <th>class</th>\n",
              "    </tr>\n",
              "  </thead>\n",
              "  <tbody>\n",
              "    <tr>\n",
              "      <th>2</th>\n",
              "      <td>0</td>\n",
              "      <td>0</td>\n",
              "      <td>0</td>\n",
              "      <td>1</td>\n",
              "      <td>0</td>\n",
              "      <td>1</td>\n",
              "      <td>bad</td>\n",
              "    </tr>\n",
              "    <tr>\n",
              "      <th>3</th>\n",
              "      <td>1</td>\n",
              "      <td>0</td>\n",
              "      <td>0</td>\n",
              "      <td>0</td>\n",
              "      <td>0</td>\n",
              "      <td>0</td>\n",
              "      <td>bad</td>\n",
              "    </tr>\n",
              "  </tbody>\n",
              "</table>\n",
              "</div>"
            ],
            "text/plain": [
              "   sex  smokes  tie  mask  cape  ears class\n",
              "2    0       0    0     1     0     1   bad\n",
              "3    1       0    0     0     0     0   bad"
            ]
          },
          "metadata": {}
        },
        {
          "output_type": "stream",
          "name": "stdout",
          "text": [
            "\n",
            "\n",
            "\n",
            "Third level\n",
            "------------------------------------------------------------\n"
          ]
        },
        {
          "output_type": "display_data",
          "data": {
            "text/html": [
              "<div>\n",
              "<style scoped>\n",
              "    .dataframe tbody tr th:only-of-type {\n",
              "        vertical-align: middle;\n",
              "    }\n",
              "\n",
              "    .dataframe tbody tr th {\n",
              "        vertical-align: top;\n",
              "    }\n",
              "\n",
              "    .dataframe thead th {\n",
              "        text-align: right;\n",
              "    }\n",
              "</style>\n",
              "<table border=\"1\" class=\"dataframe\">\n",
              "  <thead>\n",
              "    <tr style=\"text-align: right;\">\n",
              "      <th></th>\n",
              "      <th>sex</th>\n",
              "      <th>smokes</th>\n",
              "      <th>tie</th>\n",
              "      <th>mask</th>\n",
              "      <th>cape</th>\n",
              "      <th>ears</th>\n",
              "      <th>class</th>\n",
              "    </tr>\n",
              "  </thead>\n",
              "  <tbody>\n",
              "    <tr>\n",
              "      <th>4</th>\n",
              "      <td>1</td>\n",
              "      <td>0</td>\n",
              "      <td>1</td>\n",
              "      <td>0</td>\n",
              "      <td>0</td>\n",
              "      <td>0</td>\n",
              "      <td>good</td>\n",
              "    </tr>\n",
              "    <tr>\n",
              "      <th>5</th>\n",
              "      <td>1</td>\n",
              "      <td>1</td>\n",
              "      <td>1</td>\n",
              "      <td>0</td>\n",
              "      <td>0</td>\n",
              "      <td>0</td>\n",
              "      <td>bad</td>\n",
              "    </tr>\n",
              "  </tbody>\n",
              "</table>\n",
              "</div>"
            ],
            "text/plain": [
              "   sex  smokes  tie  mask  cape  ears class\n",
              "4    1       0    1     0     0     0  good\n",
              "5    1       1    1     0     0     0   bad"
            ]
          },
          "metadata": {}
        },
        {
          "output_type": "stream",
          "name": "stdout",
          "text": [
            "Terminal\n"
          ]
        },
        {
          "output_type": "display_data",
          "data": {
            "text/html": [
              "<div>\n",
              "<style scoped>\n",
              "    .dataframe tbody tr th:only-of-type {\n",
              "        vertical-align: middle;\n",
              "    }\n",
              "\n",
              "    .dataframe tbody tr th {\n",
              "        vertical-align: top;\n",
              "    }\n",
              "\n",
              "    .dataframe thead th {\n",
              "        text-align: right;\n",
              "    }\n",
              "</style>\n",
              "<table border=\"1\" class=\"dataframe\">\n",
              "  <thead>\n",
              "    <tr style=\"text-align: right;\">\n",
              "      <th></th>\n",
              "      <th>sex</th>\n",
              "      <th>smokes</th>\n",
              "      <th>tie</th>\n",
              "      <th>mask</th>\n",
              "      <th>cape</th>\n",
              "      <th>ears</th>\n",
              "      <th>class</th>\n",
              "    </tr>\n",
              "  </thead>\n",
              "  <tbody>\n",
              "    <tr>\n",
              "      <th>4</th>\n",
              "      <td>1</td>\n",
              "      <td>0</td>\n",
              "      <td>1</td>\n",
              "      <td>0</td>\n",
              "      <td>0</td>\n",
              "      <td>0</td>\n",
              "      <td>good</td>\n",
              "    </tr>\n",
              "  </tbody>\n",
              "</table>\n",
              "</div>"
            ],
            "text/plain": [
              "   sex  smokes  tie  mask  cape  ears class\n",
              "4    1       0    1     0     0     0  good"
            ]
          },
          "metadata": {}
        },
        {
          "output_type": "stream",
          "name": "stdout",
          "text": [
            "Terminal\n"
          ]
        },
        {
          "output_type": "display_data",
          "data": {
            "text/html": [
              "<div>\n",
              "<style scoped>\n",
              "    .dataframe tbody tr th:only-of-type {\n",
              "        vertical-align: middle;\n",
              "    }\n",
              "\n",
              "    .dataframe tbody tr th {\n",
              "        vertical-align: top;\n",
              "    }\n",
              "\n",
              "    .dataframe thead th {\n",
              "        text-align: right;\n",
              "    }\n",
              "</style>\n",
              "<table border=\"1\" class=\"dataframe\">\n",
              "  <thead>\n",
              "    <tr style=\"text-align: right;\">\n",
              "      <th></th>\n",
              "      <th>sex</th>\n",
              "      <th>smokes</th>\n",
              "      <th>tie</th>\n",
              "      <th>mask</th>\n",
              "      <th>cape</th>\n",
              "      <th>ears</th>\n",
              "      <th>class</th>\n",
              "    </tr>\n",
              "  </thead>\n",
              "  <tbody>\n",
              "    <tr>\n",
              "      <th>5</th>\n",
              "      <td>1</td>\n",
              "      <td>1</td>\n",
              "      <td>1</td>\n",
              "      <td>0</td>\n",
              "      <td>0</td>\n",
              "      <td>0</td>\n",
              "      <td>bad</td>\n",
              "    </tr>\n",
              "  </tbody>\n",
              "</table>\n",
              "</div>"
            ],
            "text/plain": [
              "   sex  smokes  tie  mask  cape  ears class\n",
              "5    1       1    1     0     0     0   bad"
            ]
          },
          "metadata": {}
        }
      ]
    },
    {
      "cell_type": "markdown",
      "metadata": {
        "id": "VIHnw85WAfPF"
      },
      "source": [
        "# Entropia e Ganho de Informação\n",
        "\n",
        "Voltando ao nosso exemplo a árvore construída foi a mesma que construímos antes (lembre-se, poderíamos ter outras árvores construídas) mas a escolha não foi aqui arbitrária. A escolha dos atributos para a definição dos nós da árvore seguiu o critério empregar os atributos com maior *ganho de informação* para maximizar a *pureza* dos particionamentos.\n",
        "\n",
        "Você pode entender o *ganho de informação* como uma medida de quanto a informação de um atributo contribui para diminuir a incerteza sobre outro, assim, o ganho de informação de `cape` para determinar `class`, $G(cape, class)$, deve ser maior que o ganho de informação dos demais atributos.\n",
        "\n",
        "Mas para entendermos o ganho de informação precisamos antes entender o conceito de entropia.\n",
        "\n",
        "\n",
        "\n",
        "\n"
      ]
    },
    {
      "cell_type": "markdown",
      "metadata": {
        "id": "paEETR_kDmRF"
      },
      "source": [
        "## Entropia\n",
        "\n",
        "Na teoria da informação, a entropia é uma medida de quantidade de informação introduzido por Claude Shannon em seu artigo de 1948 *A Mathematical Theory of Communication*. A entropia de um atributo é o nível médio de informação, surpresa,  ou  ainda incerteza, inerente aos resultados possíveis desse atributo. Ela é definida como:\n",
        "\n",
        "$$ E(s) = - \\sum_i p_i log p_i $$\n",
        "\n",
        "onde $p_i$ é a probabilidade dos $i$ valores de $s$.\n",
        "\n",
        "Um *bit*, por exemplo, é a unidade de informação exatamente por que carrega *1* de entropia:      \n",
        "\n",
        "$$ E(bit) = - \\frac{p(0)}{p(0)} log \\frac{p(0)}{p(0)} - \\frac{p(1)}{p(1)} log \\frac{p(1)}{p(1)}  = - \\frac{1}{2} log \\frac{1}{2} - \\frac{1}{2} log \\frac{1}{2} = 1  $$\n",
        "\n",
        "onde $p(0)$ e $p(1)$ são respectivamente as probabilidades do bit $0$ e $1$.\n",
        "\n",
        "Assim, podemos ver também que a entropia de uma constante é zero, pois não há qualquer incerteza sobre seu valor:     \n",
        "\n",
        "$$ E(cte) = - 1 log 1 = 0 $$\n",
        "\n",
        "e é exatamente isso que queremos buscar em um particionamento ao construírmos uma árvore de decisão.\n",
        "\n",
        "Podemos empregar o pacote `scipy` para determinar a entropia de dados com base nas probabilidades dos diferentes valores e, abaixo, você pode ver a entropia do *bit* e de uma constante.\n",
        "\n",
        "\n",
        "\n",
        "\n"
      ]
    },
    {
      "cell_type": "code",
      "metadata": {
        "colab": {
          "base_uri": "https://localhost:8080/"
        },
        "id": "SS5x_9ber7aL",
        "outputId": "7178903a-8493-4582-b3ad-59a1626f9e71"
      },
      "source": [
        "from scipy.stats import entropy\n",
        "E = entropy( [1/2, 1/2] , base=2 )\n",
        "E"
      ],
      "execution_count": null,
      "outputs": [
        {
          "output_type": "execute_result",
          "data": {
            "text/plain": [
              "1.0"
            ]
          },
          "metadata": {},
          "execution_count": 10
        }
      ]
    },
    {
      "cell_type": "code",
      "metadata": {
        "colab": {
          "base_uri": "https://localhost:8080/"
        },
        "id": "HUWxVQDhMHlN",
        "outputId": "6f8980a5-e85c-4168-cf31-2fbbc2c1f7bf"
      },
      "source": [
        "E = entropy( 1 , base=2 )\n",
        "E"
      ],
      "execution_count": null,
      "outputs": [
        {
          "output_type": "execute_result",
          "data": {
            "text/plain": [
              "0.0"
            ]
          },
          "metadata": {},
          "execution_count": 11
        }
      ]
    },
    {
      "cell_type": "markdown",
      "metadata": {
        "id": "TQL4xrnAGUmE"
      },
      "source": [
        "## Ganho de Informação\n",
        "\n",
        "O ganho de informação de um atributo com relação a uma variável classe objetivo ($T$, Target) é, portanto, uma medida de quanto a informação desse atributo diminui a incerteza sobre a classe dos dados, ou seu valor no caso de uma regressão. O ganho de informação pode ser então expresso em termos da entropia como:     \n",
        "\n",
        "$$ IG(s) = E(T) - \\sum_i p_i E(T | s_i) $$\n",
        "\n",
        "Onde $E(T)$ é a entropia do atributo objetivo e a somatória é a média ponderada da entropia do atributo target para os diferentes conjuntos de dados com valor $s_i$.\n"
      ]
    },
    {
      "cell_type": "markdown",
      "metadata": {
        "id": "FlO-h4vPJFNo"
      },
      "source": [
        "![imagem](https://github.com/Rogerio-mack/BIG_DATA_Analytics_Mineracao_e_Analise_de_Dados/blob/main/figuras/EntropiaGanhoInformacao.png?raw=true)\n",
        "\n",
        "<small>\n",
        "<b>\n",
        "Figura 6. Exemplo do Cálculo de Entropia e Ganho de Informação."
      ]
    },
    {
      "cell_type": "markdown",
      "metadata": {
        "id": "TOE0-gBqJHAj"
      },
      "source": [
        "O exemplo acima mostra o cálculo do ganho de informação do atributo *Hello*, indicando emails iniciando ou não por *Hello*, para a determinação da classe desses emails, *Spam* ou *Not Spam*."
      ]
    },
    {
      "cell_type": "markdown",
      "metadata": {
        "id": "3ynMPEp3J0JM"
      },
      "source": [
        "# Ganho de Informação, Índice Gini e Classification Error\n",
        "\n",
        "Você deve ter notado que ao empregarmos o classificador `DecisionTreeClassifier()` empregamos um parâmetro `criterion`, `DecisionTreeClassifier(criterion='entropy')`. Isso por que existem outras métricas de cálculo do ganho de informação como o  Índice Gini e o Classification Error sendo o padrão do `scikit-learn` o emprego do Índice Gini, `DecisionTreeClassifier(criterion='gini)`. Essas medidas são definidas como:      \n",
        "\n",
        "$$ Gini(s) = 1 - \\sum_i p_i $$\n",
        "\n",
        "e\n",
        "\n",
        "$$ CE(s) = 1 - max p_i $$\n",
        "\n",
        "<br>\n",
        "\n",
        "E são empregadas dos mesmo modo que a entropia para o cálculo do ganho de informação:\n",
        "\n",
        "$$ IG_{Gini}(s) = Gini(T) - \\sum_i p_i Gini(T | s_i) $$\n",
        "\n",
        "e\n",
        "\n",
        "$$ IG_{CE}(s) = CE(T) - \\sum_i p_i CE(T | s_i) $$\n"
      ]
    },
    {
      "cell_type": "markdown",
      "metadata": {
        "id": "pDLlTp-AO8e_"
      },
      "source": [
        "Tanto a entropia como o índice gini e o classification error são igualmente medidas de impuridade (0, para nenhuma incerteza dos dados) sendo apenas funções com diferentes medidas mas que preservam a mesma ordem de medida, isto é, um maior valor de entropia sempre leva a maiores valores do índice gini e do classification error, como você pode observar abaixo."
      ]
    },
    {
      "cell_type": "code",
      "metadata": {
        "id": "1wDNFnclTurb",
        "colab": {
          "base_uri": "https://localhost:8080/",
          "height": 279
        },
        "outputId": "f5eaa7a1-1f0b-4137-d88b-c26bf7c880ba"
      },
      "source": [
        "# you can skip this code!\n",
        "\n",
        "# Adaptado de: https://www.bogotobogo.com/python/scikit-learn/scikt_machine_learning_Decision_Tree_Learning_Informatioin_Gain_IG_Impurity_Entropy_Gini_Classification_Error.php\n",
        "import matplotlib.pyplot as plt\n",
        "import numpy as np\n",
        "\n",
        "def gini(p):\n",
        "   return (p)*(1 - (p)) + (1 - p)*(1 - (1-p))\n",
        "\n",
        "def entropy(p):\n",
        "   return - p*np.log2(p) - (1 - p)*np.log2((1 - p))\n",
        "\n",
        "def classification_error(p):\n",
        "   return 1 - np.max([p, 1 - p])\n",
        "\n",
        "x = np.arange(0.0, 1.0, 0.01)\n",
        "ent = [entropy(p) if p != 0 else None for p in x]\n",
        "c_err = [classification_error(i) for i in x]\n",
        "\n",
        "fig = plt.figure()\n",
        "ax = plt.subplot(111)\n",
        "\n",
        "for j, lab, c, in zip(\n",
        "      [ent, gini(x), c_err],\n",
        "      ['Entropy', 'Gini', 'Classification Error'],\n",
        "      ['red', 'black', 'blue']):\n",
        "   line = ax.plot(x, j, label=lab, lw=1, color=c)\n",
        "\n",
        "ax.legend(loc='upper left', ncol=1, fancybox=True, shadow=False)\n",
        "\n",
        "plt.ylim([0, 1.1])\n",
        "plt.xlabel('p(j=1)')\n",
        "plt.ylabel('Impurity Index')\n",
        "plt.show()"
      ],
      "execution_count": null,
      "outputs": [
        {
          "output_type": "display_data",
          "data": {
            "image/png": "[encoded data removed]",
            "text/plain": [
              "<Figure size 432x288 with 1 Axes>"
            ]
          },
          "metadata": {
            "needs_background": "light"
          }
        }
      ]
    },
    {
      "cell_type": "markdown",
      "metadata": {
        "id": "Spdfn1olL2G2"
      },
      "source": [
        "# Entropia e Ganho de Informação com Python\n",
        "\n",
        "Você pode agora empregar as definições acima para verificar o ganho de informação de cada atributo do nosso exemplo de brinquedo."
      ]
    },
    {
      "cell_type": "code",
      "metadata": {
        "id": "4lCqjKhC3vmS"
      },
      "source": [
        "def show_values(axs, orient=\"v\", space=.01):\n",
        "    def _single(ax):\n",
        "        if orient == \"v\":\n",
        "            for p in ax.patches:\n",
        "                _x = p.get_x() + p.get_width() / 2\n",
        "                _y = p.get_y() + p.get_height() + (p.get_height()*0.01)\n",
        "                value = '{:.2f}'.format(p.get_height())\n",
        "                ax.text(_x, _y+0.01, value, ha=\"center\", fontsize=14)\n",
        "\n",
        "    if isinstance(axs, np.ndarray):\n",
        "        for idx, ax in np.ndenumerate(axs):\n",
        "            _single(ax)\n",
        "    else:\n",
        "        _single(axs)"
      ],
      "execution_count": null,
      "outputs": []
    },
    {
      "cell_type": "code",
      "metadata": {
        "id": "JDzE2osnr7aL"
      },
      "source": [
        "# you can skip this code!\n",
        "\n",
        "from scipy.stats import entropy\n",
        "\n",
        "def informationgain(df,target,base=2):\n",
        "  E = entropy( df[target].value_counts() / len(df) , base=base )\n",
        "\n",
        "  E_x = {}\n",
        "\n",
        "  for c in df.drop(columns=[target]):\n",
        "    E_x[c] = []\n",
        "    for v in df[c].unique():\n",
        "      e = len(df[df[c]==v])/len(df) * entropy( df[df[c]==v]['class'].value_counts() / len(df[df[c]==v]), base=base )\n",
        "      E_x[c].append(np.round(e,2))\n",
        "\n",
        "  ig = {}\n",
        "\n",
        "  for c, p in E_x.items():\n",
        "    ig[c] = E - sum(p)\n",
        "\n",
        "  return ig"
      ],
      "execution_count": null,
      "outputs": []
    },
    {
      "cell_type": "code",
      "metadata": {
        "colab": {
          "base_uri": "https://localhost:8080/",
          "height": 297
        },
        "id": "SGXK7itT4nya",
        "outputId": "69775625-36ce-4f37-b651-354936aedddb"
      },
      "source": [
        "# you can skip this code!\n",
        "\n",
        "ig_root = informationgain(df=df.drop(columns=['Name']),target='class')\n",
        "ig_level_1 = informationgain(df=df.drop(columns=['Name'])[df.cape == 'no'],target='class')\n",
        "ig_level_2 = informationgain(df=df.drop(columns=['Name'])[ (df.cape == 'no') & (df.tie == 'yes') ],target='class')\n",
        "\n",
        "f , ax = plt.subplots(1,3,figsize=(14,4),sharey=True)\n",
        "\n",
        "for i, ig_  in enumerate([ ig_root, ig_level_1, ig_level_2 ]):\n",
        "  sns.barplot(x=list(ig_.keys()), y=list(ig_.values()), ax=ax[i])\n",
        "  ax[i].set_title('Information Gain\\nlevel = ' + str(i), fontsize=14, weight='bold')\n",
        "  ax[i].set_ylim([0,1.1])\n",
        "\n",
        "  ax[i].set_xticklabels(ax[i].get_xticklabels(), fontsize=12, weight='bold')\n",
        "  show_values(ax[i])\n",
        "\n",
        "plt.tight_layout()\n",
        "plt.show()"
      ],
      "execution_count": null,
      "outputs": [
        {
          "output_type": "display_data",
          "data": {
            "image/png": "[encoded data removed]",
            "text/plain": [
              "<Figure size 1008x288 with 3 Axes>"
            ]
          },
          "metadata": {
            "needs_background": "light"
          }
        }
      ]
    },
    {
      "cell_type": "markdown",
      "metadata": {
        "id": "n130OOUeNZrO"
      },
      "source": [
        "Como você pode ver as escolhas dos atributos em cada nível segue exatamente o maior ganho de informação recalculado a cada nível da árvore."
      ]
    },
    {
      "cell_type": "markdown",
      "metadata": {
        "id": "4q9HdEUpP4Cm"
      },
      "source": [
        "# Informação Mútua e Seleção de Atributos\n",
        "\n",
        "Toda essa discussão sobre o ganho de informação talvez não fosse tão importante se isso estivesse limitado ao uso em modelos de Árvore de Decisão. O ganho de informação, entretanto, é útil para a construção de muitos outros modelos pois nos dá um meio de avaliarmos atributos que são potencialmente mais preditores que outros, algo que ainda não havíamos explorado. Dentro da seleção de atributos para modelos preditivos, ou *feature selection*, o ganho de informação é normalmente denominado informação mútua (*mutual information*), correspondendo ao mesmo cálculo que você viu do ganho de informação empregando a Entropia, para entropia com base $e$ ($ln$ ou $log_{e}$).\n",
        "\n",
        "\n"
      ]
    },
    {
      "cell_type": "code",
      "metadata": {
        "colab": {
          "base_uri": "https://localhost:8080/",
          "height": 235
        },
        "id": "oG0qyaCOi--R",
        "outputId": "a1848c85-e55c-4125-90a7-fbfbb17a8655"
      },
      "source": [
        "df_tree"
      ],
      "execution_count": null,
      "outputs": [
        {
          "output_type": "execute_result",
          "data": {
            "text/html": [
              "<div>\n",
              "<style scoped>\n",
              "    .dataframe tbody tr th:only-of-type {\n",
              "        vertical-align: middle;\n",
              "    }\n",
              "\n",
              "    .dataframe tbody tr th {\n",
              "        vertical-align: top;\n",
              "    }\n",
              "\n",
              "    .dataframe thead th {\n",
              "        text-align: right;\n",
              "    }\n",
              "</style>\n",
              "<table border=\"1\" class=\"dataframe\">\n",
              "  <thead>\n",
              "    <tr style=\"text-align: right;\">\n",
              "      <th></th>\n",
              "      <th>sex</th>\n",
              "      <th>smokes</th>\n",
              "      <th>tie</th>\n",
              "      <th>mask</th>\n",
              "      <th>cape</th>\n",
              "      <th>ears</th>\n",
              "      <th>class</th>\n",
              "    </tr>\n",
              "  </thead>\n",
              "  <tbody>\n",
              "    <tr>\n",
              "      <th>0</th>\n",
              "      <td>1</td>\n",
              "      <td>0</td>\n",
              "      <td>0</td>\n",
              "      <td>1</td>\n",
              "      <td>1</td>\n",
              "      <td>1</td>\n",
              "      <td>good</td>\n",
              "    </tr>\n",
              "    <tr>\n",
              "      <th>1</th>\n",
              "      <td>1</td>\n",
              "      <td>0</td>\n",
              "      <td>0</td>\n",
              "      <td>1</td>\n",
              "      <td>1</td>\n",
              "      <td>1</td>\n",
              "      <td>good</td>\n",
              "    </tr>\n",
              "    <tr>\n",
              "      <th>2</th>\n",
              "      <td>0</td>\n",
              "      <td>0</td>\n",
              "      <td>0</td>\n",
              "      <td>1</td>\n",
              "      <td>0</td>\n",
              "      <td>1</td>\n",
              "      <td>bad</td>\n",
              "    </tr>\n",
              "    <tr>\n",
              "      <th>3</th>\n",
              "      <td>1</td>\n",
              "      <td>0</td>\n",
              "      <td>0</td>\n",
              "      <td>0</td>\n",
              "      <td>0</td>\n",
              "      <td>0</td>\n",
              "      <td>bad</td>\n",
              "    </tr>\n",
              "    <tr>\n",
              "      <th>4</th>\n",
              "      <td>1</td>\n",
              "      <td>0</td>\n",
              "      <td>1</td>\n",
              "      <td>0</td>\n",
              "      <td>0</td>\n",
              "      <td>0</td>\n",
              "      <td>good</td>\n",
              "    </tr>\n",
              "    <tr>\n",
              "      <th>5</th>\n",
              "      <td>1</td>\n",
              "      <td>1</td>\n",
              "      <td>1</td>\n",
              "      <td>0</td>\n",
              "      <td>0</td>\n",
              "      <td>0</td>\n",
              "      <td>bad</td>\n",
              "    </tr>\n",
              "  </tbody>\n",
              "</table>\n",
              "</div>"
            ],
            "text/plain": [
              "   sex  smokes  tie  mask  cape  ears class\n",
              "0    1       0    0     1     1     1  good\n",
              "1    1       0    0     1     1     1  good\n",
              "2    0       0    0     1     0     1   bad\n",
              "3    1       0    0     0     0     0   bad\n",
              "4    1       0    1     0     0     0  good\n",
              "5    1       1    1     0     0     0   bad"
            ]
          },
          "metadata": {},
          "execution_count": 16
        }
      ]
    },
    {
      "cell_type": "code",
      "metadata": {
        "colab": {
          "base_uri": "https://localhost:8080/"
        },
        "id": "BE9vbznMjDvX",
        "outputId": "69a07a08-29e0-4a63-def0-2e4a473a468b"
      },
      "source": [
        "from sklearn.feature_selection import mutual_info_classif\n",
        "\n",
        "print(mutual_info_classif(df_tree.drop(columns=['class']), df_tree['class'], discrete_features=True))"
      ],
      "execution_count": null,
      "outputs": [
        {
          "output_type": "stream",
          "name": "stdout",
          "text": [
            "[0.13230412 0.13230412 0.         0.05663301 0.31825708 0.05663301]\n"
          ]
        }
      ]
    },
    {
      "cell_type": "code",
      "metadata": {
        "colab": {
          "base_uri": "https://localhost:8080/",
          "height": 297
        },
        "id": "v2_g5FNjjf-o",
        "outputId": "c9d9c9b8-efe8-4304-d975-6acaf785ce47"
      },
      "source": [
        "f , ax = plt.subplots(1,2,figsize=(14,4),sharey=True)\n",
        "\n",
        "ig_root = informationgain(df=df.drop(columns=['Name']),target='class',base=None)\n",
        "\n",
        "i = 0\n",
        "sns.barplot(x=list(ig_root.keys()), y=list(ig_root.values()), ax=ax[i])\n",
        "ax[i].set_title('Information Gain', fontsize=14, weight='bold')\n",
        "ax[i].set_ylim([0,1.1])\n",
        "\n",
        "ax[i].set_xticklabels(ax[i].get_xticklabels(), fontsize=12, weight='bold')\n",
        "show_values(ax[i])\n",
        "\n",
        "mutualinfo = mutual_info_classif(df_tree.drop(columns=['class']), df_tree['class'], discrete_features=True)\n",
        "\n",
        "i = 1\n",
        "sns.barplot(x=df_tree.drop(columns=['class']).columns, y=mutualinfo , ax=ax[i])\n",
        "ax[i].set_title('Mutual Information', fontsize=14, weight='bold')\n",
        "ax[i].set_ylim([0,1.1])\n",
        "\n",
        "ax[i].set_xticklabels(ax[i].get_xticklabels(), fontsize=12, weight='bold')\n",
        "show_values(ax[i])\n",
        "\n",
        "plt.tight_layout()\n",
        "plt.show()"
      ],
      "execution_count": null,
      "outputs": [
        {
          "output_type": "display_data",
          "data": {
            "image/png": "[encoded data removed]",
            "text/plain": [
              "<Figure size 1008x288 with 2 Axes>"
            ]
          },
          "metadata": {
            "needs_background": "light"
          }
        }
      ]
    },
    {
      "cell_type": "markdown",
      "metadata": {
        "id": "LQ06GqPbo85S"
      },
      "source": [
        "# Seleção de Atributos\n",
        "\n",
        "A seleção de atributos para construção de um modelo tem muitos aspectos, incluindo muitos aspectos no domínio do problema (e não da solução!), e não seria possível abordarmos todos aqui. Mas vale a pena vermos algumas dessas técnicas e aprender a empregar o `scikit-learn` nessa tarefa. Depois de abordagens que envolvem basicamente o entendimento dos dados, como excluir atributo único para cada instância ou um atributo com muitos dados ausentes, mas antes de empregar a informação mútua para a seleção de atributos, vale a pena removermos atributos de pouca variância: eles\n",
        "\n"
      ]
    },
    {
      "cell_type": "markdown",
      "metadata": {
        "id": "i9cgwLtBqUOZ"
      },
      "source": [
        "As classes do `sklearn.feature_selection` podem ser usadas para seleção de atributos  e redução de dimensionalidade em conjuntos de amostras, seja para melhorar o *score* dos estimadores ou para impulsionar seu desempenho em conjuntos de dados de dimensões muito altas.\n",
        "\n"
      ]
    },
    {
      "cell_type": "markdown",
      "metadata": {
        "id": "eyy6GSs2ql-Z"
      },
      "source": [
        "## Removendo dados com pouca variância\n",
        "\n",
        "O `VarianceThreshold` permite remover todos os atributos com variância abaixo de um limite e, por padrão, remove todos atributos de variância zero (mesmo valor em todas as amostras), são os dados que não carregam nenhuma informação ou, como você viu entropia $E(cte) = 0$. O\n"
      ]
    },
    {
      "cell_type": "code",
      "metadata": {
        "colab": {
          "base_uri": "https://localhost:8080/"
        },
        "id": "f2SXF5C3qTXK",
        "outputId": "97f2ea60-847f-4a85-8172-e2799ce17b79"
      },
      "source": [
        "df_tree.var()"
      ],
      "execution_count": null,
      "outputs": [
        {
          "output_type": "execute_result",
          "data": {
            "text/plain": [
              "sex       0.166667\n",
              "smokes    0.166667\n",
              "tie       0.266667\n",
              "mask      0.300000\n",
              "cape      0.266667\n",
              "ears      0.300000\n",
              "dtype: float64"
            ]
          },
          "metadata": {},
          "execution_count": 19
        }
      ]
    },
    {
      "cell_type": "code",
      "metadata": {
        "colab": {
          "base_uri": "https://localhost:8080/"
        },
        "id": "W3F_s_lDr-hj",
        "outputId": "4b6afbfd-ede6-49d7-8ebd-c0a522104407"
      },
      "source": [
        "from sklearn.feature_selection import VarianceThreshold\n",
        "\n",
        "X = df_tree.drop(columns=['class'])\n",
        "sel = VarianceThreshold(threshold=0.1)\n",
        "sel.fit_transform(X)"
      ],
      "execution_count": null,
      "outputs": [
        {
          "output_type": "execute_result",
          "data": {
            "text/plain": [
              "array([[1, 0, 0, 1, 1, 1],\n",
              "       [1, 0, 0, 1, 1, 1],\n",
              "       [0, 0, 0, 1, 0, 1],\n",
              "       [1, 0, 0, 0, 0, 0],\n",
              "       [1, 0, 1, 0, 0, 0],\n",
              "       [1, 1, 1, 0, 0, 0]])"
            ]
          },
          "metadata": {},
          "execution_count": 20
        }
      ]
    },
    {
      "cell_type": "markdown",
      "metadata": {
        "id": "GEHiSHo-sSnB"
      },
      "source": [
        "No nosso exemplo há poucos atributos e as variâncias próximas não permitem selecionar atributos para remoção. Mas o exemplo vale para mostrar como empregar o estimador."
      ]
    },
    {
      "cell_type": "markdown",
      "metadata": {
        "id": "ItauhOYBsmgz"
      },
      "source": [
        "## Selecionando atributos com o `SelectKBest`\n",
        "\n",
        "A seleção univariada de recursos funciona selecionando os melhores atributos com base em testes estatísticos univariados, o que inclui a informação mútua. São 3 métodos, mas que tem o mesmo tipo de princípio:\n",
        "\n",
        "* `SelectKBest` remove tudo, exceto os atributos de maior pontuação\n",
        "\n",
        "* `SelectPercentile` remove todos os atributos, exceto a maior porcentagem de pontuação especificada\n",
        "\n",
        "* `GenericUnivariateSelect`permite realizar a seleção univariada de recursos com uma estratégia configurável\n",
        "\n",
        "Aplicando o  `SelectKBest` ao nosso exemplo teríamos:"
      ]
    },
    {
      "cell_type": "code",
      "metadata": {
        "colab": {
          "base_uri": "https://localhost:8080/",
          "height": 235
        },
        "id": "bcgu9_Krt-h8",
        "outputId": "416ff336-0d86-4635-c630-9d8468c795c7"
      },
      "source": [
        "df_tree"
      ],
      "execution_count": null,
      "outputs": [
        {
          "output_type": "execute_result",
          "data": {
            "text/html": [
              "<div>\n",
              "<style scoped>\n",
              "    .dataframe tbody tr th:only-of-type {\n",
              "        vertical-align: middle;\n",
              "    }\n",
              "\n",
              "    .dataframe tbody tr th {\n",
              "        vertical-align: top;\n",
              "    }\n",
              "\n",
              "    .dataframe thead th {\n",
              "        text-align: right;\n",
              "    }\n",
              "</style>\n",
              "<table border=\"1\" class=\"dataframe\">\n",
              "  <thead>\n",
              "    <tr style=\"text-align: right;\">\n",
              "      <th></th>\n",
              "      <th>sex</th>\n",
              "      <th>smokes</th>\n",
              "      <th>tie</th>\n",
              "      <th>mask</th>\n",
              "      <th>cape</th>\n",
              "      <th>ears</th>\n",
              "      <th>class</th>\n",
              "    </tr>\n",
              "  </thead>\n",
              "  <tbody>\n",
              "    <tr>\n",
              "      <th>0</th>\n",
              "      <td>1</td>\n",
              "      <td>0</td>\n",
              "      <td>0</td>\n",
              "      <td>1</td>\n",
              "      <td>1</td>\n",
              "      <td>1</td>\n",
              "      <td>good</td>\n",
              "    </tr>\n",
              "    <tr>\n",
              "      <th>1</th>\n",
              "      <td>1</td>\n",
              "      <td>0</td>\n",
              "      <td>0</td>\n",
              "      <td>1</td>\n",
              "      <td>1</td>\n",
              "      <td>1</td>\n",
              "      <td>good</td>\n",
              "    </tr>\n",
              "    <tr>\n",
              "      <th>2</th>\n",
              "      <td>0</td>\n",
              "      <td>0</td>\n",
              "      <td>0</td>\n",
              "      <td>1</td>\n",
              "      <td>0</td>\n",
              "      <td>1</td>\n",
              "      <td>bad</td>\n",
              "    </tr>\n",
              "    <tr>\n",
              "      <th>3</th>\n",
              "      <td>1</td>\n",
              "      <td>0</td>\n",
              "      <td>0</td>\n",
              "      <td>0</td>\n",
              "      <td>0</td>\n",
              "      <td>0</td>\n",
              "      <td>bad</td>\n",
              "    </tr>\n",
              "    <tr>\n",
              "      <th>4</th>\n",
              "      <td>1</td>\n",
              "      <td>0</td>\n",
              "      <td>1</td>\n",
              "      <td>0</td>\n",
              "      <td>0</td>\n",
              "      <td>0</td>\n",
              "      <td>good</td>\n",
              "    </tr>\n",
              "    <tr>\n",
              "      <th>5</th>\n",
              "      <td>1</td>\n",
              "      <td>1</td>\n",
              "      <td>1</td>\n",
              "      <td>0</td>\n",
              "      <td>0</td>\n",
              "      <td>0</td>\n",
              "      <td>bad</td>\n",
              "    </tr>\n",
              "  </tbody>\n",
              "</table>\n",
              "</div>"
            ],
            "text/plain": [
              "   sex  smokes  tie  mask  cape  ears class\n",
              "0    1       0    0     1     1     1  good\n",
              "1    1       0    0     1     1     1  good\n",
              "2    0       0    0     1     0     1   bad\n",
              "3    1       0    0     0     0     0   bad\n",
              "4    1       0    1     0     0     0  good\n",
              "5    1       1    1     0     0     0   bad"
            ]
          },
          "metadata": {},
          "execution_count": 21
        }
      ]
    },
    {
      "cell_type": "code",
      "metadata": {
        "colab": {
          "base_uri": "https://localhost:8080/",
          "height": 269
        },
        "id": "AFcUeuo9sR4K",
        "outputId": "62cda435-f2c8-4764-a042-0fe77a7fed1d"
      },
      "source": [
        "from sklearn.feature_selection import SelectKBest\n",
        "from sklearn.feature_selection import chi2\n",
        "from sklearn.feature_selection import mutual_info_classif\n",
        "\n",
        "X = df_tree.drop(columns=['class'])\n",
        "y = df_tree['class']\n",
        "\n",
        "select_features = SelectKBest(mutual_info_classif, k=3).fit(X, y)\n",
        "print( select_features.get_support() )\n",
        "print( X.columns[select_features.get_support()] )\n",
        "\n",
        "X_new = select_features.transform(X)\n",
        "\n",
        "pd.DataFrame( X_new, columns= X.columns[select_features.get_support()] )"
      ],
      "execution_count": null,
      "outputs": [
        {
          "output_type": "stream",
          "name": "stdout",
          "text": [
            "[ True False False False  True  True]\n",
            "Index(['sex', 'cape', 'ears'], dtype='object')\n"
          ]
        },
        {
          "output_type": "execute_result",
          "data": {
            "text/html": [
              "<div>\n",
              "<style scoped>\n",
              "    .dataframe tbody tr th:only-of-type {\n",
              "        vertical-align: middle;\n",
              "    }\n",
              "\n",
              "    .dataframe tbody tr th {\n",
              "        vertical-align: top;\n",
              "    }\n",
              "\n",
              "    .dataframe thead th {\n",
              "        text-align: right;\n",
              "    }\n",
              "</style>\n",
              "<table border=\"1\" class=\"dataframe\">\n",
              "  <thead>\n",
              "    <tr style=\"text-align: right;\">\n",
              "      <th></th>\n",
              "      <th>sex</th>\n",
              "      <th>cape</th>\n",
              "      <th>ears</th>\n",
              "    </tr>\n",
              "  </thead>\n",
              "  <tbody>\n",
              "    <tr>\n",
              "      <th>0</th>\n",
              "      <td>1</td>\n",
              "      <td>1</td>\n",
              "      <td>1</td>\n",
              "    </tr>\n",
              "    <tr>\n",
              "      <th>1</th>\n",
              "      <td>1</td>\n",
              "      <td>1</td>\n",
              "      <td>1</td>\n",
              "    </tr>\n",
              "    <tr>\n",
              "      <th>2</th>\n",
              "      <td>0</td>\n",
              "      <td>0</td>\n",
              "      <td>1</td>\n",
              "    </tr>\n",
              "    <tr>\n",
              "      <th>3</th>\n",
              "      <td>1</td>\n",
              "      <td>0</td>\n",
              "      <td>0</td>\n",
              "    </tr>\n",
              "    <tr>\n",
              "      <th>4</th>\n",
              "      <td>1</td>\n",
              "      <td>0</td>\n",
              "      <td>0</td>\n",
              "    </tr>\n",
              "    <tr>\n",
              "      <th>5</th>\n",
              "      <td>1</td>\n",
              "      <td>0</td>\n",
              "      <td>0</td>\n",
              "    </tr>\n",
              "  </tbody>\n",
              "</table>\n",
              "</div>"
            ],
            "text/plain": [
              "   sex  cape  ears\n",
              "0    1     1     1\n",
              "1    1     1     1\n",
              "2    0     0     1\n",
              "3    1     0     0\n",
              "4    1     0     0\n",
              "5    1     0     0"
            ]
          },
          "metadata": {},
          "execution_count": 22
        }
      ]
    },
    {
      "cell_type": "markdown",
      "metadata": {
        "id": "Ot12exJsyJPk"
      },
      "source": [
        "Esses métodos podem ser empregados tanto para modelos de classificação como de regressão com diferentes métricas de pontuação:\n",
        "\n",
        "* Para a regressão: `f_regression, mutual_info_regression`\n",
        "\n",
        "* Para a classificação: `chi2, f_classif, mutual_info_classif`\n",
        "\n",
        "E você deve ter cuidado para não empregar métricas de classificação em modelos de regressão e vice-versa."
      ]
    },
    {
      "cell_type": "markdown",
      "metadata": {
        "id": "IeJE3fL1w-F1"
      },
      "source": [
        "## Limitações\n",
        "\n",
        "Note que se fizermos a seleção de features como acima, teríamos eliminado o atributo `tie`, assim como o atributo `smokes` pelo critério de variância mínima, dois atributos que foram empregados no modelo de árvore. Isso por que esses critérios somente levam em consideração a variância e a informação mútua unicamente do atributo, sem levar em conta possíveis relações dos atributos para a predição. Assim, é importante você ter bastante cuidado ao remover dados de modelo a partir de critérios univariados."
      ]
    },
    {
      "cell_type": "markdown",
      "metadata": {
        "id": "gAevfmZm1B68"
      },
      "source": [
        "## Eliminação recursiva de atributos\n",
        "\n",
        "Uma última técnica que trataremos aqui é a eliminação recursiva de atributos. A maior parte dos estimadores fornece, após o treinamento, a importância de cada atributo (como `estimador.coef_` ou `estimador.feature_importances_`). A eliminação recursiva de recursos (RFE) consiste em selecionar atributos considerando recursivamente conjuntos cada vez menores na quantidade de atributos. Primeiro, o estimador é treinado no conjunto inicial, em seguida, os atributos menos importantes são removidos do conjunto atual repetindo-se o  procedimento recursivamente até um número desejado.\n",
        "\n",
        "`RFECV` executa RFE em um loop de validação cruzada para encontrar o número ideal de recursos e o exemplo poderá ser útil para aplicar em conjuntos de dados mais complexos que o nosso conjunto de dados de brinquedo.\n",
        "\n"
      ]
    },
    {
      "cell_type": "code",
      "metadata": {
        "colab": {
          "base_uri": "https://localhost:8080/",
          "height": 384
        },
        "id": "dsQ6CaHLy-Mz",
        "outputId": "222bc712-88a8-49b4-fb5c-7b30032b1bf3"
      },
      "source": [
        "from sklearn.tree import DecisionTreeClassifier\n",
        "from sklearn.feature_selection import RFECV\n",
        "\n",
        "X = df_labels\n",
        "y = df['class']\n",
        "\n",
        "clf = DecisionTreeClassifier(criterion='entropy')\n",
        "clf.fit(X,y)\n",
        "\n",
        "min_features_to_select = 1  # Minimum number of features to consider\n",
        "rfecv = RFECV(\n",
        "    estimator=clf,\n",
        "    step=1,\n",
        "    cv=2,\n",
        "    scoring=\"accuracy\",\n",
        "    min_features_to_select=min_features_to_select,\n",
        ")\n",
        "rfecv.fit(X, y)\n",
        "\n",
        "print(\"Optimal number of features : %d\" % rfecv.n_features_)\n",
        "\n",
        "# Plot number of features VS. cross-validation scores\n",
        "plt.figure()\n",
        "plt.xlabel(\"Number of features selected\")\n",
        "plt.ylabel(\"Cross validation score (accuracy)\")\n",
        "plt.plot(\n",
        "    range(min_features_to_select, len(rfecv.grid_scores_) + min_features_to_select),\n",
        "    rfecv.grid_scores_,\n",
        ")\n",
        "plt.show()"
      ],
      "execution_count": null,
      "outputs": [
        {
          "output_type": "stream",
          "name": "stdout",
          "text": [
            "Optimal number of features : 1\n"
          ]
        },
        {
          "output_type": "stream",
          "name": "stderr",
          "text": [
            "/usr/local/lib/python3.7/dist-packages/sklearn/base.py:446: UserWarning: X does not have valid feature names, but RFECV was fitted with feature names\n",
            "  \"X does not have valid feature names, but\"\n",
            "/usr/local/lib/python3.7/dist-packages/sklearn/utils/deprecation.py:103: FutureWarning: The `grid_scores_` attribute is deprecated in version 1.0 in favor of `cv_results_` and will be removed in version 1.2.\n",
            "  warnings.warn(msg, category=FutureWarning)\n"
          ]
        },
        {
          "output_type": "display_data",
          "data": {
            "image/png": "[encoded data removed]",
            "text/plain": [
              "<Figure size 432x288 with 1 Axes>"
            ]
          },
          "metadata": {
            "needs_background": "light"
          }
        }
      ]
    },
    {
      "cell_type": "code",
      "metadata": {
        "colab": {
          "base_uri": "https://localhost:8080/",
          "height": 235
        },
        "id": "RvwDuNR6zwlM",
        "outputId": "7067b425-9dfc-435e-f14b-f537c27c07b4"
      },
      "source": [
        "pd.DataFrame({'atributtes':  df_labels.columns, 'feature_importances': clf.feature_importances_}).sort_values('feature_importances',ascending=False)"
      ],
      "execution_count": null,
      "outputs": [
        {
          "output_type": "execute_result",
          "data": {
            "text/html": [
              "<div>\n",
              "<style scoped>\n",
              "    .dataframe tbody tr th:only-of-type {\n",
              "        vertical-align: middle;\n",
              "    }\n",
              "\n",
              "    .dataframe tbody tr th {\n",
              "        vertical-align: top;\n",
              "    }\n",
              "\n",
              "    .dataframe thead th {\n",
              "        text-align: right;\n",
              "    }\n",
              "</style>\n",
              "<table border=\"1\" class=\"dataframe\">\n",
              "  <thead>\n",
              "    <tr style=\"text-align: right;\">\n",
              "      <th></th>\n",
              "      <th>atributtes</th>\n",
              "      <th>feature_importances</th>\n",
              "    </tr>\n",
              "  </thead>\n",
              "  <tbody>\n",
              "    <tr>\n",
              "      <th>4</th>\n",
              "      <td>cape</td>\n",
              "      <td>0.459148</td>\n",
              "    </tr>\n",
              "    <tr>\n",
              "      <th>1</th>\n",
              "      <td>smokes</td>\n",
              "      <td>0.333333</td>\n",
              "    </tr>\n",
              "    <tr>\n",
              "      <th>2</th>\n",
              "      <td>tie</td>\n",
              "      <td>0.207519</td>\n",
              "    </tr>\n",
              "    <tr>\n",
              "      <th>0</th>\n",
              "      <td>sex</td>\n",
              "      <td>0.000000</td>\n",
              "    </tr>\n",
              "    <tr>\n",
              "      <th>3</th>\n",
              "      <td>mask</td>\n",
              "      <td>0.000000</td>\n",
              "    </tr>\n",
              "    <tr>\n",
              "      <th>5</th>\n",
              "      <td>ears</td>\n",
              "      <td>0.000000</td>\n",
              "    </tr>\n",
              "  </tbody>\n",
              "</table>\n",
              "</div>"
            ],
            "text/plain": [
              "  atributtes  feature_importances\n",
              "4       cape             0.459148\n",
              "1     smokes             0.333333\n",
              "2        tie             0.207519\n",
              "0        sex             0.000000\n",
              "3       mask             0.000000\n",
              "5       ears             0.000000"
            ]
          },
          "metadata": {},
          "execution_count": 24
        }
      ]
    },
    {
      "cell_type": "markdown",
      "metadata": {
        "id": "aKQdejWl_-vf"
      },
      "source": [
        "# Um exemplo clássico\n",
        "\n",
        "Antes de prosseguir talvez você queira revisar aqui alguns pontos de como empregar o classificador `DecisionTreeClassifier` no exemplo clássico de Mitchell, Tom Michael (1997). Machine Learning."
      ]
    },
    {
      "cell_type": "code",
      "metadata": {
        "id": "kUemGdu_WwkS",
        "colab": {
          "base_uri": "https://localhost:8080/",
          "height": 204
        },
        "outputId": "25f37612-963c-4059-92d6-a930c56624e5"
      },
      "source": [
        "df = pd.read_csv('http://meusite.mackenzie.br/rogerio/ML/PlayBallcsv.csv')\n",
        "df.head()"
      ],
      "execution_count": null,
      "outputs": [
        {
          "output_type": "execute_result",
          "data": {
            "text/html": [
              "<div>\n",
              "<style scoped>\n",
              "    .dataframe tbody tr th:only-of-type {\n",
              "        vertical-align: middle;\n",
              "    }\n",
              "\n",
              "    .dataframe tbody tr th {\n",
              "        vertical-align: top;\n",
              "    }\n",
              "\n",
              "    .dataframe thead th {\n",
              "        text-align: right;\n",
              "    }\n",
              "</style>\n",
              "<table border=\"1\" class=\"dataframe\">\n",
              "  <thead>\n",
              "    <tr style=\"text-align: right;\">\n",
              "      <th></th>\n",
              "      <th>Day</th>\n",
              "      <th>Outlook</th>\n",
              "      <th>Temperature</th>\n",
              "      <th>Humidity</th>\n",
              "      <th>Wind</th>\n",
              "      <th>Play ball</th>\n",
              "    </tr>\n",
              "  </thead>\n",
              "  <tbody>\n",
              "    <tr>\n",
              "      <th>0</th>\n",
              "      <td>D1</td>\n",
              "      <td>Sunny</td>\n",
              "      <td>Hot</td>\n",
              "      <td>High</td>\n",
              "      <td>Weak</td>\n",
              "      <td>No</td>\n",
              "    </tr>\n",
              "    <tr>\n",
              "      <th>1</th>\n",
              "      <td>D2</td>\n",
              "      <td>Sunny</td>\n",
              "      <td>Hot</td>\n",
              "      <td>High</td>\n",
              "      <td>Strong</td>\n",
              "      <td>No</td>\n",
              "    </tr>\n",
              "    <tr>\n",
              "      <th>2</th>\n",
              "      <td>D3</td>\n",
              "      <td>Overcast</td>\n",
              "      <td>Hot</td>\n",
              "      <td>High</td>\n",
              "      <td>Weak</td>\n",
              "      <td>Yes</td>\n",
              "    </tr>\n",
              "    <tr>\n",
              "      <th>3</th>\n",
              "      <td>D4</td>\n",
              "      <td>Rain</td>\n",
              "      <td>Mild</td>\n",
              "      <td>High</td>\n",
              "      <td>Weak</td>\n",
              "      <td>Yes</td>\n",
              "    </tr>\n",
              "    <tr>\n",
              "      <th>4</th>\n",
              "      <td>D5</td>\n",
              "      <td>Rain</td>\n",
              "      <td>Cool</td>\n",
              "      <td>Normal</td>\n",
              "      <td>Weak</td>\n",
              "      <td>Yes</td>\n",
              "    </tr>\n",
              "  </tbody>\n",
              "</table>\n",
              "</div>"
            ],
            "text/plain": [
              "  Day   Outlook Temperature Humidity    Wind Play ball\n",
              "0  D1     Sunny         Hot     High    Weak        No\n",
              "1  D2     Sunny         Hot     High  Strong        No\n",
              "2  D3  Overcast         Hot     High    Weak       Yes\n",
              "3  D4      Rain        Mild     High    Weak       Yes\n",
              "4  D5      Rain        Cool   Normal    Weak       Yes"
            ]
          },
          "metadata": {},
          "execution_count": 25
        }
      ]
    },
    {
      "cell_type": "markdown",
      "metadata": {
        "id": "DoL6MGynAhAN"
      },
      "source": [
        "Primeiramente você precisa fazer o encode dos dados, uma restrição da implementação do `scikit-learn`."
      ]
    },
    {
      "cell_type": "code",
      "metadata": {
        "id": "NwMqHcMLsA0_",
        "colab": {
          "base_uri": "https://localhost:8080/",
          "height": 204
        },
        "outputId": "93e5942d-98f1-43c2-c30d-60ca7017da24"
      },
      "source": [
        "from sklearn.preprocessing import OneHotEncoder, LabelEncoder\n",
        "\n",
        "df_labels = df.drop(columns=['Day','Play ball']).apply(LabelEncoder().fit_transform)\n",
        "\n",
        "pd.concat([ df_labels, df[['Play ball']] ], axis=1).head()"
      ],
      "execution_count": null,
      "outputs": [
        {
          "output_type": "execute_result",
          "data": {
            "text/html": [
              "<div>\n",
              "<style scoped>\n",
              "    .dataframe tbody tr th:only-of-type {\n",
              "        vertical-align: middle;\n",
              "    }\n",
              "\n",
              "    .dataframe tbody tr th {\n",
              "        vertical-align: top;\n",
              "    }\n",
              "\n",
              "    .dataframe thead th {\n",
              "        text-align: right;\n",
              "    }\n",
              "</style>\n",
              "<table border=\"1\" class=\"dataframe\">\n",
              "  <thead>\n",
              "    <tr style=\"text-align: right;\">\n",
              "      <th></th>\n",
              "      <th>Outlook</th>\n",
              "      <th>Temperature</th>\n",
              "      <th>Humidity</th>\n",
              "      <th>Wind</th>\n",
              "      <th>Play ball</th>\n",
              "    </tr>\n",
              "  </thead>\n",
              "  <tbody>\n",
              "    <tr>\n",
              "      <th>0</th>\n",
              "      <td>2</td>\n",
              "      <td>1</td>\n",
              "      <td>0</td>\n",
              "      <td>1</td>\n",
              "      <td>No</td>\n",
              "    </tr>\n",
              "    <tr>\n",
              "      <th>1</th>\n",
              "      <td>2</td>\n",
              "      <td>1</td>\n",
              "      <td>0</td>\n",
              "      <td>0</td>\n",
              "      <td>No</td>\n",
              "    </tr>\n",
              "    <tr>\n",
              "      <th>2</th>\n",
              "      <td>0</td>\n",
              "      <td>1</td>\n",
              "      <td>0</td>\n",
              "      <td>1</td>\n",
              "      <td>Yes</td>\n",
              "    </tr>\n",
              "    <tr>\n",
              "      <th>3</th>\n",
              "      <td>1</td>\n",
              "      <td>2</td>\n",
              "      <td>0</td>\n",
              "      <td>1</td>\n",
              "      <td>Yes</td>\n",
              "    </tr>\n",
              "    <tr>\n",
              "      <th>4</th>\n",
              "      <td>1</td>\n",
              "      <td>0</td>\n",
              "      <td>1</td>\n",
              "      <td>1</td>\n",
              "      <td>Yes</td>\n",
              "    </tr>\n",
              "  </tbody>\n",
              "</table>\n",
              "</div>"
            ],
            "text/plain": [
              "   Outlook  Temperature  Humidity  Wind Play ball\n",
              "0        2            1         0     1        No\n",
              "1        2            1         0     0        No\n",
              "2        0            1         0     1       Yes\n",
              "3        1            2         0     1       Yes\n",
              "4        1            0         1     1       Yes"
            ]
          },
          "metadata": {},
          "execution_count": 26
        }
      ]
    },
    {
      "cell_type": "markdown",
      "metadata": {
        "id": "8-0y3D5XAq2l"
      },
      "source": [
        "O uso do estimador segue do mesmo modo que já empregamos para o estimador logístico, o Knn e é a forma de empregarmos qualquer modelo de aprendizado supervisinado."
      ]
    },
    {
      "cell_type": "code",
      "metadata": {
        "id": "sQENADrLpDhQ",
        "colab": {
          "base_uri": "https://localhost:8080/"
        },
        "outputId": "4d7c6041-1dc3-4e06-84b2-53b53bf3b3fa"
      },
      "source": [
        "from sklearn.tree import DecisionTreeClassifier\n",
        "\n",
        "X = df_labels\n",
        "y = df['Play ball']\n",
        "\n",
        "clf = DecisionTreeClassifier()\n",
        "\n",
        "clf.fit(X,y)\n",
        "y_pred = clf.predict(X)\n",
        "print( clf.score(X,y) )\n"
      ],
      "execution_count": null,
      "outputs": [
        {
          "output_type": "stream",
          "name": "stdout",
          "text": [
            "1.0\n"
          ]
        }
      ]
    },
    {
      "cell_type": "markdown",
      "metadata": {
        "id": "z9mc4zQ7A71l"
      },
      "source": [
        "Você pode achar útil visualizar a árvore de decisão criada  com o `graphviz`."
      ]
    },
    {
      "cell_type": "code",
      "metadata": {
        "colab": {
          "base_uri": "https://localhost:8080/",
          "height": 657
        },
        "id": "AKR9WM9I_EC-",
        "outputId": "f2e9992a-60b9-4939-e827-9be9495bdcc2"
      },
      "source": [
        "import graphviz\n",
        "dot_data = tree.export_graphviz(clf, out_file=None,\n",
        "                     feature_names=list(df_labels.columns.values),\n",
        "                     class_names=list(sorted(df['Play ball'].unique())),\n",
        "                     filled=True, rounded=True,\n",
        "                     special_characters=False,\n",
        "                     proportion=False, impurity=False, node_ids=False,label=None)\n",
        "graph = graphviz.Source(dot_data)\n",
        "graph.render('graph_cartoons') # para gravação em .pdf\n",
        "graph"
      ],
      "execution_count": null,
      "outputs": [
        {
          "output_type": "execute_result",
          "data": {
            "text/plain": [
              "<graphviz.files.Source at 0x7f05ae17acd0>"
            ],
            "image/svg+xml": "<?xml version=\"1.0\" encoding=\"UTF-8\" standalone=\"no\"?>\n<!DOCTYPE svg PUBLIC \"-//W3C//DTD SVG 1.1//EN\"\n \"http://www.w3.org/Graphics/SVG/1.1/DTD/svg11.dtd\">\n<!-- Generated by graphviz version 2.40.1 (20161225.0304)\n -->\n<!-- Title: Tree Pages: 1 -->\n<svg width=\"410pt\" height=\"477pt\"\n viewBox=\"0.00 0.00 410.00 477.00\" xmlns=\"http://www.w3.org/2000/svg\" xmlns:xlink=\"http://www.w3.org/1999/xlink\">\n<g id=\"graph0\" class=\"graph\" transform=\"scale(1 1) rotate(0) translate(4 473)\">\n<title>Tree</title>\n<polygon fill=\"#ffffff\" stroke=\"transparent\" points=\"-4,4 -4,-473 406,-473 406,4 -4,4\"/>\n<!-- 0 -->\n<g id=\"node1\" class=\"node\">\n<title>0</title>\n<path fill=\"#a7d3f3\" stroke=\"#000000\" d=\"M189.5,-469C189.5,-469 102.5,-469 102.5,-469 96.5,-469 90.5,-463 90.5,-457 90.5,-457 90.5,-413 90.5,-413 90.5,-407 96.5,-401 102.5,-401 102.5,-401 189.5,-401 189.5,-401 195.5,-401 201.5,-407 201.5,-413 201.5,-413 201.5,-457 201.5,-457 201.5,-463 195.5,-469 189.5,-469\"/>\n<text text-anchor=\"middle\" x=\"146\" y=\"-453.8\" font-family=\"Helvetica,sans-Serif\" font-size=\"14.00\" fill=\"#000000\">Outlook &lt;= 0.5</text>\n<text text-anchor=\"middle\" x=\"146\" y=\"-438.8\" font-family=\"Helvetica,sans-Serif\" font-size=\"14.00\" fill=\"#000000\">14</text>\n<text text-anchor=\"middle\" x=\"146\" y=\"-423.8\" font-family=\"Helvetica,sans-Serif\" font-size=\"14.00\" fill=\"#000000\">[5, 9]</text>\n<text text-anchor=\"middle\" x=\"146\" y=\"-408.8\" font-family=\"Helvetica,sans-Serif\" font-size=\"14.00\" fill=\"#000000\">Yes</text>\n</g>\n<!-- 1 -->\n<g id=\"node2\" class=\"node\">\n<title>1</title>\n<path fill=\"#399de5\" stroke=\"#000000\" d=\"M109,-357.5C109,-357.5 79,-357.5 79,-357.5 73,-357.5 67,-351.5 67,-345.5 67,-345.5 67,-316.5 67,-316.5 67,-310.5 73,-304.5 79,-304.5 79,-304.5 109,-304.5 109,-304.5 115,-304.5 121,-310.5 121,-316.5 121,-316.5 121,-345.5 121,-345.5 121,-351.5 115,-357.5 109,-357.5\"/>\n<text text-anchor=\"middle\" x=\"94\" y=\"-342.3\" font-family=\"Helvetica,sans-Serif\" font-size=\"14.00\" fill=\"#000000\">4</text>\n<text text-anchor=\"middle\" x=\"94\" y=\"-327.3\" font-family=\"Helvetica,sans-Serif\" font-size=\"14.00\" fill=\"#000000\">[0, 4]</text>\n<text text-anchor=\"middle\" x=\"94\" y=\"-312.3\" font-family=\"Helvetica,sans-Serif\" font-size=\"14.00\" fill=\"#000000\">Yes</text>\n</g>\n<!-- 0&#45;&gt;1 -->\n<g id=\"edge1\" class=\"edge\">\n<title>0&#45;&gt;1</title>\n<path fill=\"none\" stroke=\"#000000\" d=\"M128.9733,-400.9465C123.4658,-389.9316 117.3461,-377.6922 111.7851,-366.5703\"/>\n<polygon fill=\"#000000\" stroke=\"#000000\" points=\"114.8738,-364.9212 107.2711,-357.5422 108.6128,-368.0517 114.8738,-364.9212\"/>\n<text text-anchor=\"middle\" x=\"99.3654\" y=\"-377.5592\" font-family=\"Helvetica,sans-Serif\" font-size=\"14.00\" fill=\"#000000\">True</text>\n</g>\n<!-- 2 -->\n<g id=\"node3\" class=\"node\">\n<title>2</title>\n<path fill=\"#ffffff\" stroke=\"#000000\" d=\"M244.5,-365C244.5,-365 151.5,-365 151.5,-365 145.5,-365 139.5,-359 139.5,-353 139.5,-353 139.5,-309 139.5,-309 139.5,-303 145.5,-297 151.5,-297 151.5,-297 244.5,-297 244.5,-297 250.5,-297 256.5,-303 256.5,-309 256.5,-309 256.5,-353 256.5,-353 256.5,-359 250.5,-365 244.5,-365\"/>\n<text text-anchor=\"middle\" x=\"198\" y=\"-349.8\" font-family=\"Helvetica,sans-Serif\" font-size=\"14.00\" fill=\"#000000\">Humidity &lt;= 0.5</text>\n<text text-anchor=\"middle\" x=\"198\" y=\"-334.8\" font-family=\"Helvetica,sans-Serif\" font-size=\"14.00\" fill=\"#000000\">10</text>\n<text text-anchor=\"middle\" x=\"198\" y=\"-319.8\" font-family=\"Helvetica,sans-Serif\" font-size=\"14.00\" fill=\"#000000\">[5, 5]</text>\n<text text-anchor=\"middle\" x=\"198\" y=\"-304.8\" font-family=\"Helvetica,sans-Serif\" font-size=\"14.00\" fill=\"#000000\">No</text>\n</g>\n<!-- 0&#45;&gt;2 -->\n<g id=\"edge2\" class=\"edge\">\n<title>0&#45;&gt;2</title>\n<path fill=\"none\" stroke=\"#000000\" d=\"M163.0267,-400.9465C167.2915,-392.4169 171.9235,-383.153 176.3788,-374.2424\"/>\n<polygon fill=\"#000000\" stroke=\"#000000\" points=\"179.5933,-375.6395 180.935,-365.13 173.3323,-372.509 179.5933,-375.6395\"/>\n<text text-anchor=\"middle\" x=\"188.8407\" y=\"-385.1471\" font-family=\"Helvetica,sans-Serif\" font-size=\"14.00\" fill=\"#000000\">False</text>\n</g>\n<!-- 3 -->\n<g id=\"node4\" class=\"node\">\n<title>3</title>\n<path fill=\"#eca06a\" stroke=\"#000000\" d=\"M181.5,-261C181.5,-261 94.5,-261 94.5,-261 88.5,-261 82.5,-255 82.5,-249 82.5,-249 82.5,-205 82.5,-205 82.5,-199 88.5,-193 94.5,-193 94.5,-193 181.5,-193 181.5,-193 187.5,-193 193.5,-199 193.5,-205 193.5,-205 193.5,-249 193.5,-249 193.5,-255 187.5,-261 181.5,-261\"/>\n<text text-anchor=\"middle\" x=\"138\" y=\"-245.8\" font-family=\"Helvetica,sans-Serif\" font-size=\"14.00\" fill=\"#000000\">Outlook &lt;= 1.5</text>\n<text text-anchor=\"middle\" x=\"138\" y=\"-230.8\" font-family=\"Helvetica,sans-Serif\" font-size=\"14.00\" fill=\"#000000\">5</text>\n<text text-anchor=\"middle\" x=\"138\" y=\"-215.8\" font-family=\"Helvetica,sans-Serif\" font-size=\"14.00\" fill=\"#000000\">[4, 1]</text>\n<text text-anchor=\"middle\" x=\"138\" y=\"-200.8\" font-family=\"Helvetica,sans-Serif\" font-size=\"14.00\" fill=\"#000000\">No</text>\n</g>\n<!-- 2&#45;&gt;3 -->\n<g id=\"edge3\" class=\"edge\">\n<title>2&#45;&gt;3</title>\n<path fill=\"none\" stroke=\"#000000\" d=\"M178.3538,-296.9465C173.381,-288.3271 167.9757,-278.9579 162.7852,-269.9611\"/>\n<polygon fill=\"#000000\" stroke=\"#000000\" points=\"165.7193,-268.0428 157.6904,-261.13 159.656,-271.5409 165.7193,-268.0428\"/>\n</g>\n<!-- 8 -->\n<g id=\"node9\" class=\"node\">\n<title>8</title>\n<path fill=\"#6ab6ec\" stroke=\"#000000\" d=\"M294,-261C294,-261 224,-261 224,-261 218,-261 212,-255 212,-249 212,-249 212,-205 212,-205 212,-199 218,-193 224,-193 224,-193 294,-193 294,-193 300,-193 306,-199 306,-205 306,-205 306,-249 306,-249 306,-255 300,-261 294,-261\"/>\n<text text-anchor=\"middle\" x=\"259\" y=\"-245.8\" font-family=\"Helvetica,sans-Serif\" font-size=\"14.00\" fill=\"#000000\">Wind &lt;= 0.5</text>\n<text text-anchor=\"middle\" x=\"259\" y=\"-230.8\" font-family=\"Helvetica,sans-Serif\" font-size=\"14.00\" fill=\"#000000\">5</text>\n<text text-anchor=\"middle\" x=\"259\" y=\"-215.8\" font-family=\"Helvetica,sans-Serif\" font-size=\"14.00\" fill=\"#000000\">[1, 4]</text>\n<text text-anchor=\"middle\" x=\"259\" y=\"-200.8\" font-family=\"Helvetica,sans-Serif\" font-size=\"14.00\" fill=\"#000000\">Yes</text>\n</g>\n<!-- 2&#45;&gt;8 -->\n<g id=\"edge8\" class=\"edge\">\n<title>2&#45;&gt;8</title>\n<path fill=\"none\" stroke=\"#000000\" d=\"M217.9737,-296.9465C223.0293,-288.3271 228.5247,-278.9579 233.8017,-269.9611\"/>\n<polygon fill=\"#000000\" stroke=\"#000000\" points=\"236.9411,-271.5265 238.9814,-261.13 230.9031,-267.985 236.9411,-271.5265\"/>\n</g>\n<!-- 4 -->\n<g id=\"node5\" class=\"node\">\n<title>4</title>\n<path fill=\"#ffffff\" stroke=\"#000000\" d=\"M82,-157C82,-157 12,-157 12,-157 6,-157 0,-151 0,-145 0,-145 0,-101 0,-101 0,-95 6,-89 12,-89 12,-89 82,-89 82,-89 88,-89 94,-95 94,-101 94,-101 94,-145 94,-145 94,-151 88,-157 82,-157\"/>\n<text text-anchor=\"middle\" x=\"47\" y=\"-141.8\" font-family=\"Helvetica,sans-Serif\" font-size=\"14.00\" fill=\"#000000\">Wind &lt;= 0.5</text>\n<text text-anchor=\"middle\" x=\"47\" y=\"-126.8\" font-family=\"Helvetica,sans-Serif\" font-size=\"14.00\" fill=\"#000000\">2</text>\n<text text-anchor=\"middle\" x=\"47\" y=\"-111.8\" font-family=\"Helvetica,sans-Serif\" font-size=\"14.00\" fill=\"#000000\">[1, 1]</text>\n<text text-anchor=\"middle\" x=\"47\" y=\"-96.8\" font-family=\"Helvetica,sans-Serif\" font-size=\"14.00\" fill=\"#000000\">No</text>\n</g>\n<!-- 3&#45;&gt;4 -->\n<g id=\"edge4\" class=\"edge\">\n<title>3&#45;&gt;4</title>\n<path fill=\"none\" stroke=\"#000000\" d=\"M108.2032,-192.9465C100.347,-183.968 91.7788,-174.1758 83.6087,-164.8385\"/>\n<polygon fill=\"#000000\" stroke=\"#000000\" points=\"86.0829,-162.351 76.8637,-157.13 80.8148,-166.9606 86.0829,-162.351\"/>\n</g>\n<!-- 7 -->\n<g id=\"node8\" class=\"node\">\n<title>7</title>\n<path fill=\"#e58139\" stroke=\"#000000\" d=\"M154,-149.5C154,-149.5 124,-149.5 124,-149.5 118,-149.5 112,-143.5 112,-137.5 112,-137.5 112,-108.5 112,-108.5 112,-102.5 118,-96.5 124,-96.5 124,-96.5 154,-96.5 154,-96.5 160,-96.5 166,-102.5 166,-108.5 166,-108.5 166,-137.5 166,-137.5 166,-143.5 160,-149.5 154,-149.5\"/>\n<text text-anchor=\"middle\" x=\"139\" y=\"-134.3\" font-family=\"Helvetica,sans-Serif\" font-size=\"14.00\" fill=\"#000000\">3</text>\n<text text-anchor=\"middle\" x=\"139\" y=\"-119.3\" font-family=\"Helvetica,sans-Serif\" font-size=\"14.00\" fill=\"#000000\">[3, 0]</text>\n<text text-anchor=\"middle\" x=\"139\" y=\"-104.3\" font-family=\"Helvetica,sans-Serif\" font-size=\"14.00\" fill=\"#000000\">No</text>\n</g>\n<!-- 3&#45;&gt;7 -->\n<g id=\"edge7\" class=\"edge\">\n<title>3&#45;&gt;7</title>\n<path fill=\"none\" stroke=\"#000000\" d=\"M138.3274,-192.9465C138.4302,-182.2621 138.544,-170.4254 138.6483,-159.5742\"/>\n<polygon fill=\"#000000\" stroke=\"#000000\" points=\"142.1484,-159.5754 138.7448,-149.5422 135.1487,-159.508 142.1484,-159.5754\"/>\n</g>\n<!-- 5 -->\n<g id=\"node6\" class=\"node\">\n<title>5</title>\n<path fill=\"#e58139\" stroke=\"#000000\" d=\"M59,-53C59,-53 29,-53 29,-53 23,-53 17,-47 17,-41 17,-41 17,-12 17,-12 17,-6 23,0 29,0 29,0 59,0 59,0 65,0 71,-6 71,-12 71,-12 71,-41 71,-41 71,-47 65,-53 59,-53\"/>\n<text text-anchor=\"middle\" x=\"44\" y=\"-37.8\" font-family=\"Helvetica,sans-Serif\" font-size=\"14.00\" fill=\"#000000\">1</text>\n<text text-anchor=\"middle\" x=\"44\" y=\"-22.8\" font-family=\"Helvetica,sans-Serif\" font-size=\"14.00\" fill=\"#000000\">[1, 0]</text>\n<text text-anchor=\"middle\" x=\"44\" y=\"-7.8\" font-family=\"Helvetica,sans-Serif\" font-size=\"14.00\" fill=\"#000000\">No</text>\n</g>\n<!-- 4&#45;&gt;5 -->\n<g id=\"edge5\" class=\"edge\">\n<title>4&#45;&gt;5</title>\n<path fill=\"none\" stroke=\"#000000\" d=\"M45.9423,-88.9777C45.6861,-80.7364 45.411,-71.887 45.1507,-63.5153\"/>\n<polygon fill=\"#000000\" stroke=\"#000000\" points=\"48.6407,-63.1349 44.8316,-53.2485 41.6441,-63.3524 48.6407,-63.1349\"/>\n</g>\n<!-- 6 -->\n<g id=\"node7\" class=\"node\">\n<title>6</title>\n<path fill=\"#399de5\" stroke=\"#000000\" d=\"M131,-53C131,-53 101,-53 101,-53 95,-53 89,-47 89,-41 89,-41 89,-12 89,-12 89,-6 95,0 101,0 101,0 131,0 131,0 137,0 143,-6 143,-12 143,-12 143,-41 143,-41 143,-47 137,-53 131,-53\"/>\n<text text-anchor=\"middle\" x=\"116\" y=\"-37.8\" font-family=\"Helvetica,sans-Serif\" font-size=\"14.00\" fill=\"#000000\">1</text>\n<text text-anchor=\"middle\" x=\"116\" y=\"-22.8\" font-family=\"Helvetica,sans-Serif\" font-size=\"14.00\" fill=\"#000000\">[0, 1]</text>\n<text text-anchor=\"middle\" x=\"116\" y=\"-7.8\" font-family=\"Helvetica,sans-Serif\" font-size=\"14.00\" fill=\"#000000\">Yes</text>\n</g>\n<!-- 4&#45;&gt;6 -->\n<g id=\"edge6\" class=\"edge\">\n<title>4&#45;&gt;6</title>\n<path fill=\"none\" stroke=\"#000000\" d=\"M71.3268,-88.9777C77.6779,-80.0954 84.534,-70.5067 90.9232,-61.5711\"/>\n<polygon fill=\"#000000\" stroke=\"#000000\" points=\"93.9048,-63.4187 96.8741,-53.2485 88.2107,-59.3472 93.9048,-63.4187\"/>\n</g>\n<!-- 9 -->\n<g id=\"node10\" class=\"node\">\n<title>9</title>\n<path fill=\"#ffffff\" stroke=\"#000000\" d=\"M317.5,-157C317.5,-157 198.5,-157 198.5,-157 192.5,-157 186.5,-151 186.5,-145 186.5,-145 186.5,-101 186.5,-101 186.5,-95 192.5,-89 198.5,-89 198.5,-89 317.5,-89 317.5,-89 323.5,-89 329.5,-95 329.5,-101 329.5,-101 329.5,-145 329.5,-145 329.5,-151 323.5,-157 317.5,-157\"/>\n<text text-anchor=\"middle\" x=\"258\" y=\"-141.8\" font-family=\"Helvetica,sans-Serif\" font-size=\"14.00\" fill=\"#000000\">Temperature &lt;= 1.0</text>\n<text text-anchor=\"middle\" x=\"258\" y=\"-126.8\" font-family=\"Helvetica,sans-Serif\" font-size=\"14.00\" fill=\"#000000\">2</text>\n<text text-anchor=\"middle\" x=\"258\" y=\"-111.8\" font-family=\"Helvetica,sans-Serif\" font-size=\"14.00\" fill=\"#000000\">[1, 1]</text>\n<text text-anchor=\"middle\" x=\"258\" y=\"-96.8\" font-family=\"Helvetica,sans-Serif\" font-size=\"14.00\" fill=\"#000000\">No</text>\n</g>\n<!-- 8&#45;&gt;9 -->\n<g id=\"edge9\" class=\"edge\">\n<title>8&#45;&gt;9</title>\n<path fill=\"none\" stroke=\"#000000\" d=\"M258.6726,-192.9465C258.594,-184.776 258.509,-175.9318 258.4266,-167.3697\"/>\n<polygon fill=\"#000000\" stroke=\"#000000\" points=\"261.9243,-167.0958 258.3282,-157.13 254.9246,-167.1632 261.9243,-167.0958\"/>\n</g>\n<!-- 12 -->\n<g id=\"node13\" class=\"node\">\n<title>12</title>\n<path fill=\"#399de5\" stroke=\"#000000\" d=\"M390,-149.5C390,-149.5 360,-149.5 360,-149.5 354,-149.5 348,-143.5 348,-137.5 348,-137.5 348,-108.5 348,-108.5 348,-102.5 354,-96.5 360,-96.5 360,-96.5 390,-96.5 390,-96.5 396,-96.5 402,-102.5 402,-108.5 402,-108.5 402,-137.5 402,-137.5 402,-143.5 396,-149.5 390,-149.5\"/>\n<text text-anchor=\"middle\" x=\"375\" y=\"-134.3\" font-family=\"Helvetica,sans-Serif\" font-size=\"14.00\" fill=\"#000000\">3</text>\n<text text-anchor=\"middle\" x=\"375\" y=\"-119.3\" font-family=\"Helvetica,sans-Serif\" font-size=\"14.00\" fill=\"#000000\">[0, 3]</text>\n<text text-anchor=\"middle\" x=\"375\" y=\"-104.3\" font-family=\"Helvetica,sans-Serif\" font-size=\"14.00\" fill=\"#000000\">Yes</text>\n</g>\n<!-- 8&#45;&gt;12 -->\n<g id=\"edge12\" class=\"edge\">\n<title>8&#45;&gt;12</title>\n<path fill=\"none\" stroke=\"#000000\" d=\"M298.733,-192.7588C311.6659,-181.4741 326.0273,-168.7938 339,-157 339.4572,-156.5844 339.9171,-156.1652 340.3792,-155.7432\"/>\n<polygon fill=\"#000000\" stroke=\"#000000\" points=\"343.0019,-158.0855 347.9763,-148.731 338.2541,-152.9416 343.0019,-158.0855\"/>\n</g>\n<!-- 10 -->\n<g id=\"node11\" class=\"node\">\n<title>10</title>\n<path fill=\"#e58139\" stroke=\"#000000\" d=\"M237,-53C237,-53 207,-53 207,-53 201,-53 195,-47 195,-41 195,-41 195,-12 195,-12 195,-6 201,0 207,0 207,0 237,0 237,0 243,0 249,-6 249,-12 249,-12 249,-41 249,-41 249,-47 243,-53 237,-53\"/>\n<text text-anchor=\"middle\" x=\"222\" y=\"-37.8\" font-family=\"Helvetica,sans-Serif\" font-size=\"14.00\" fill=\"#000000\">1</text>\n<text text-anchor=\"middle\" x=\"222\" y=\"-22.8\" font-family=\"Helvetica,sans-Serif\" font-size=\"14.00\" fill=\"#000000\">[1, 0]</text>\n<text text-anchor=\"middle\" x=\"222\" y=\"-7.8\" font-family=\"Helvetica,sans-Serif\" font-size=\"14.00\" fill=\"#000000\">No</text>\n</g>\n<!-- 9&#45;&gt;10 -->\n<g id=\"edge10\" class=\"edge\">\n<title>9&#45;&gt;10</title>\n<path fill=\"none\" stroke=\"#000000\" d=\"M245.3077,-88.9777C242.1308,-80.4617 238.7116,-71.2963 235.4971,-62.6798\"/>\n<polygon fill=\"#000000\" stroke=\"#000000\" points=\"238.7533,-61.3944 231.9787,-53.2485 232.1948,-63.8411 238.7533,-61.3944\"/>\n</g>\n<!-- 11 -->\n<g id=\"node12\" class=\"node\">\n<title>11</title>\n<path fill=\"#399de5\" stroke=\"#000000\" d=\"M309,-53C309,-53 279,-53 279,-53 273,-53 267,-47 267,-41 267,-41 267,-12 267,-12 267,-6 273,0 279,0 279,0 309,0 309,0 315,0 321,-6 321,-12 321,-12 321,-41 321,-41 321,-47 315,-53 309,-53\"/>\n<text text-anchor=\"middle\" x=\"294\" y=\"-37.8\" font-family=\"Helvetica,sans-Serif\" font-size=\"14.00\" fill=\"#000000\">1</text>\n<text text-anchor=\"middle\" x=\"294\" y=\"-22.8\" font-family=\"Helvetica,sans-Serif\" font-size=\"14.00\" fill=\"#000000\">[0, 1]</text>\n<text text-anchor=\"middle\" x=\"294\" y=\"-7.8\" font-family=\"Helvetica,sans-Serif\" font-size=\"14.00\" fill=\"#000000\">Yes</text>\n</g>\n<!-- 9&#45;&gt;11 -->\n<g id=\"edge11\" class=\"edge\">\n<title>9&#45;&gt;11</title>\n<path fill=\"none\" stroke=\"#000000\" d=\"M270.6923,-88.9777C273.8692,-80.4617 277.2884,-71.2963 280.5029,-62.6798\"/>\n<polygon fill=\"#000000\" stroke=\"#000000\" points=\"283.8052,-63.8411 284.0213,-53.2485 277.2467,-61.3944 283.8052,-63.8411\"/>\n</g>\n</g>\n</svg>\n"
          },
          "metadata": {},
          "execution_count": 28
        }
      ]
    },
    {
      "cell_type": "markdown",
      "metadata": {
        "id": "LkJBfJnqBIjd"
      },
      "source": [
        "E a informação mútua e o peso dos atributos no classificador fornecem informações úteis para análises dos modelos em muitos casos."
      ]
    },
    {
      "cell_type": "code",
      "metadata": {
        "id": "LxWA1cUZr7aM",
        "colab": {
          "base_uri": "https://localhost:8080/"
        },
        "outputId": "8cc8f217-c4c8-42cc-cb0f-45358fd87e30"
      },
      "source": [
        "print(X.columns)\n",
        "print(mutual_info_classif(X, y, discrete_features=True))\n",
        "print(clf.feature_importances_)"
      ],
      "execution_count": null,
      "outputs": [
        {
          "output_type": "stream",
          "name": "stdout",
          "text": [
            "Index(['Outlook', 'Temperature', 'Humidity', 'Wind'], dtype='object')\n",
            "[0.17103394 0.02025554 0.10524435 0.03335912]\n",
            "[0.31555556 0.15555556 0.28       0.24888889]\n"
          ]
        }
      ]
    },
    {
      "cell_type": "markdown",
      "metadata": {
        "id": "jAYKaGirkhpN"
      },
      "source": [
        "# CASO: Classifying Political Parties Based on Congressional Votes\n",
        "\n",
        "Este conjunto de dados inclui votos para cada um dos congressistas da Câmara dos Representantes dos EUA nos 16 votos principais identificados pelo CQA. Nosso objetivo é construir selecionar um melhor modelo para prever a filiação partidária dos congressistas com base nos registros de votação.\n",
        "\n",
        "Fonte: http://archive.ics.uci.edu/ml/datasets/Congressional+Voting+Records\n",
        "\n"
      ]
    },
    {
      "cell_type": "markdown",
      "metadata": {
        "id": "C6A96MR01DAS"
      },
      "source": []
    },
    {
      "cell_type": "code",
      "metadata": {
        "id": "gJnhfWGxg9OI",
        "colab": {
          "base_uri": "https://localhost:8080/",
          "height": 204
        },
        "outputId": "922c00ae-1d42-4354-8f49-7add9d882ecf"
      },
      "source": [
        "df = pd.read_csv('http://archive.ics.uci.edu/ml/machine-learning-databases/voting-records/house-votes-84.data',header=None,prefix='Vote_')\n",
        "df.rename(columns={'Vote_0':'class'},inplace=True)\n",
        "df.head()"
      ],
      "execution_count": null,
      "outputs": [
        {
          "output_type": "execute_result",
          "data": {
            "text/html": [
              "<div>\n",
              "<style scoped>\n",
              "    .dataframe tbody tr th:only-of-type {\n",
              "        vertical-align: middle;\n",
              "    }\n",
              "\n",
              "    .dataframe tbody tr th {\n",
              "        vertical-align: top;\n",
              "    }\n",
              "\n",
              "    .dataframe thead th {\n",
              "        text-align: right;\n",
              "    }\n",
              "</style>\n",
              "<table border=\"1\" class=\"dataframe\">\n",
              "  <thead>\n",
              "    <tr style=\"text-align: right;\">\n",
              "      <th></th>\n",
              "      <th>class</th>\n",
              "      <th>Vote_1</th>\n",
              "      <th>Vote_2</th>\n",
              "      <th>Vote_3</th>\n",
              "      <th>Vote_4</th>\n",
              "      <th>Vote_5</th>\n",
              "      <th>Vote_6</th>\n",
              "      <th>Vote_7</th>\n",
              "      <th>Vote_8</th>\n",
              "      <th>Vote_9</th>\n",
              "      <th>Vote_10</th>\n",
              "      <th>Vote_11</th>\n",
              "      <th>Vote_12</th>\n",
              "      <th>Vote_13</th>\n",
              "      <th>Vote_14</th>\n",
              "      <th>Vote_15</th>\n",
              "      <th>Vote_16</th>\n",
              "    </tr>\n",
              "  </thead>\n",
              "  <tbody>\n",
              "    <tr>\n",
              "      <th>0</th>\n",
              "      <td>republican</td>\n",
              "      <td>n</td>\n",
              "      <td>y</td>\n",
              "      <td>n</td>\n",
              "      <td>y</td>\n",
              "      <td>y</td>\n",
              "      <td>y</td>\n",
              "      <td>n</td>\n",
              "      <td>n</td>\n",
              "      <td>n</td>\n",
              "      <td>y</td>\n",
              "      <td>?</td>\n",
              "      <td>y</td>\n",
              "      <td>y</td>\n",
              "      <td>y</td>\n",
              "      <td>n</td>\n",
              "      <td>y</td>\n",
              "    </tr>\n",
              "    <tr>\n",
              "      <th>1</th>\n",
              "      <td>republican</td>\n",
              "      <td>n</td>\n",
              "      <td>y</td>\n",
              "      <td>n</td>\n",
              "      <td>y</td>\n",
              "      <td>y</td>\n",
              "      <td>y</td>\n",
              "      <td>n</td>\n",
              "      <td>n</td>\n",
              "      <td>n</td>\n",
              "      <td>n</td>\n",
              "      <td>n</td>\n",
              "      <td>y</td>\n",
              "      <td>y</td>\n",
              "      <td>y</td>\n",
              "      <td>n</td>\n",
              "      <td>?</td>\n",
              "    </tr>\n",
              "    <tr>\n",
              "      <th>2</th>\n",
              "      <td>democrat</td>\n",
              "      <td>?</td>\n",
              "      <td>y</td>\n",
              "      <td>y</td>\n",
              "      <td>?</td>\n",
              "      <td>y</td>\n",
              "      <td>y</td>\n",
              "      <td>n</td>\n",
              "      <td>n</td>\n",
              "      <td>n</td>\n",
              "      <td>n</td>\n",
              "      <td>y</td>\n",
              "      <td>n</td>\n",
              "      <td>y</td>\n",
              "      <td>y</td>\n",
              "      <td>n</td>\n",
              "      <td>n</td>\n",
              "    </tr>\n",
              "    <tr>\n",
              "      <th>3</th>\n",
              "      <td>democrat</td>\n",
              "      <td>n</td>\n",
              "      <td>y</td>\n",
              "      <td>y</td>\n",
              "      <td>n</td>\n",
              "      <td>?</td>\n",
              "      <td>y</td>\n",
              "      <td>n</td>\n",
              "      <td>n</td>\n",
              "      <td>n</td>\n",
              "      <td>n</td>\n",
              "      <td>y</td>\n",
              "      <td>n</td>\n",
              "      <td>y</td>\n",
              "      <td>n</td>\n",
              "      <td>n</td>\n",
              "      <td>y</td>\n",
              "    </tr>\n",
              "    <tr>\n",
              "      <th>4</th>\n",
              "      <td>democrat</td>\n",
              "      <td>y</td>\n",
              "      <td>y</td>\n",
              "      <td>y</td>\n",
              "      <td>n</td>\n",
              "      <td>y</td>\n",
              "      <td>y</td>\n",
              "      <td>n</td>\n",
              "      <td>n</td>\n",
              "      <td>n</td>\n",
              "      <td>n</td>\n",
              "      <td>y</td>\n",
              "      <td>?</td>\n",
              "      <td>y</td>\n",
              "      <td>y</td>\n",
              "      <td>y</td>\n",
              "      <td>y</td>\n",
              "    </tr>\n",
              "  </tbody>\n",
              "</table>\n",
              "</div>"
            ],
            "text/plain": [
              "        class Vote_1 Vote_2 Vote_3  ... Vote_13 Vote_14 Vote_15 Vote_16\n",
              "0  republican      n      y      n  ...       y       y       n       y\n",
              "1  republican      n      y      n  ...       y       y       n       ?\n",
              "2    democrat      ?      y      y  ...       y       y       n       n\n",
              "3    democrat      n      y      y  ...       y       n       n       y\n",
              "4    democrat      y      y      y  ...       y       y       y       y\n",
              "\n",
              "[5 rows x 17 columns]"
            ]
          },
          "metadata": {},
          "execution_count": 35
        }
      ]
    },
    {
      "cell_type": "code",
      "metadata": {
        "colab": {
          "base_uri": "https://localhost:8080/"
        },
        "id": "0Vwpy_qERekW",
        "outputId": "1a932742-7e46-4975-9b6b-d2c901b75b0a"
      },
      "source": [
        "df.shape"
      ],
      "execution_count": null,
      "outputs": [
        {
          "output_type": "execute_result",
          "data": {
            "text/plain": [
              "(435, 17)"
            ]
          },
          "metadata": {},
          "execution_count": 36
        }
      ]
    },
    {
      "cell_type": "markdown",
      "metadata": {
        "id": "Zp2b3etoryDq"
      },
      "source": [
        "## Preparação dos Dados\n",
        "\n",
        "Não existem dados ausentes, a as abstenções '?' são um grande número de casos. Vamos esperar que elas possam também ajudar a identificar o partido do congressista uma vez que isso parece ser mais uma informação importante do que exatamente ausência de informação."
      ]
    },
    {
      "cell_type": "code",
      "metadata": {
        "colab": {
          "base_uri": "https://localhost:8080/"
        },
        "id": "CSs8mDLPRSlv",
        "outputId": "38b150aa-8287-430e-c318-0de2ce407092"
      },
      "source": [
        "df.isnull().sum().sum()"
      ],
      "execution_count": null,
      "outputs": [
        {
          "output_type": "execute_result",
          "data": {
            "text/plain": [
              "0"
            ]
          },
          "metadata": {},
          "execution_count": 37
        }
      ]
    },
    {
      "cell_type": "code",
      "metadata": {
        "colab": {
          "base_uri": "https://localhost:8080/"
        },
        "id": "RnjnDtYsTSqB",
        "outputId": "7560f6f5-8c28-468b-dce6-6070c26d3104"
      },
      "source": [
        "(df == '?').sum()"
      ],
      "execution_count": null,
      "outputs": [
        {
          "output_type": "execute_result",
          "data": {
            "text/plain": [
              "class        0\n",
              "Vote_1      12\n",
              "Vote_2      48\n",
              "Vote_3      11\n",
              "Vote_4      11\n",
              "Vote_5      15\n",
              "Vote_6      11\n",
              "Vote_7      14\n",
              "Vote_8      15\n",
              "Vote_9      22\n",
              "Vote_10      7\n",
              "Vote_11     21\n",
              "Vote_12     31\n",
              "Vote_13     25\n",
              "Vote_14     17\n",
              "Vote_15     28\n",
              "Vote_16    104\n",
              "dtype: int64"
            ]
          },
          "metadata": {},
          "execution_count": 38
        }
      ]
    },
    {
      "cell_type": "markdown",
      "metadata": {
        "id": "Pd-T6ICbSWgH"
      },
      "source": [
        "Agora precisamos fazer o encode dos dados. A rigor deveríamos fazer o hot encode, mas por simplificidade será suficiente aqui fazermos apenas o label encode do dados."
      ]
    },
    {
      "cell_type": "code",
      "metadata": {
        "colab": {
          "base_uri": "https://localhost:8080/",
          "height": 204
        },
        "id": "ez5xNF-ASU_D",
        "outputId": "f4d29493-1f7c-49ae-de66-795cd301edc4"
      },
      "source": [
        "from sklearn.preprocessing import OneHotEncoder, LabelEncoder\n",
        "\n",
        "df_labels = df.drop(columns=['class']).apply(LabelEncoder().fit_transform)\n",
        "\n",
        "pd.concat([ df_labels, df[['class']] ], axis=1).head()"
      ],
      "execution_count": null,
      "outputs": [
        {
          "output_type": "execute_result",
          "data": {
            "text/html": [
              "<div>\n",
              "<style scoped>\n",
              "    .dataframe tbody tr th:only-of-type {\n",
              "        vertical-align: middle;\n",
              "    }\n",
              "\n",
              "    .dataframe tbody tr th {\n",
              "        vertical-align: top;\n",
              "    }\n",
              "\n",
              "    .dataframe thead th {\n",
              "        text-align: right;\n",
              "    }\n",
              "</style>\n",
              "<table border=\"1\" class=\"dataframe\">\n",
              "  <thead>\n",
              "    <tr style=\"text-align: right;\">\n",
              "      <th></th>\n",
              "      <th>Vote_1</th>\n",
              "      <th>Vote_2</th>\n",
              "      <th>Vote_3</th>\n",
              "      <th>Vote_4</th>\n",
              "      <th>Vote_5</th>\n",
              "      <th>Vote_6</th>\n",
              "      <th>Vote_7</th>\n",
              "      <th>Vote_8</th>\n",
              "      <th>Vote_9</th>\n",
              "      <th>Vote_10</th>\n",
              "      <th>Vote_11</th>\n",
              "      <th>Vote_12</th>\n",
              "      <th>Vote_13</th>\n",
              "      <th>Vote_14</th>\n",
              "      <th>Vote_15</th>\n",
              "      <th>Vote_16</th>\n",
              "      <th>class</th>\n",
              "    </tr>\n",
              "  </thead>\n",
              "  <tbody>\n",
              "    <tr>\n",
              "      <th>0</th>\n",
              "      <td>1</td>\n",
              "      <td>2</td>\n",
              "      <td>1</td>\n",
              "      <td>2</td>\n",
              "      <td>2</td>\n",
              "      <td>2</td>\n",
              "      <td>1</td>\n",
              "      <td>1</td>\n",
              "      <td>1</td>\n",
              "      <td>2</td>\n",
              "      <td>0</td>\n",
              "      <td>2</td>\n",
              "      <td>2</td>\n",
              "      <td>2</td>\n",
              "      <td>1</td>\n",
              "      <td>2</td>\n",
              "      <td>republican</td>\n",
              "    </tr>\n",
              "    <tr>\n",
              "      <th>1</th>\n",
              "      <td>1</td>\n",
              "      <td>2</td>\n",
              "      <td>1</td>\n",
              "      <td>2</td>\n",
              "      <td>2</td>\n",
              "      <td>2</td>\n",
              "      <td>1</td>\n",
              "      <td>1</td>\n",
              "      <td>1</td>\n",
              "      <td>1</td>\n",
              "      <td>1</td>\n",
              "      <td>2</td>\n",
              "      <td>2</td>\n",
              "      <td>2</td>\n",
              "      <td>1</td>\n",
              "      <td>0</td>\n",
              "      <td>republican</td>\n",
              "    </tr>\n",
              "    <tr>\n",
              "      <th>2</th>\n",
              "      <td>0</td>\n",
              "      <td>2</td>\n",
              "      <td>2</td>\n",
              "      <td>0</td>\n",
              "      <td>2</td>\n",
              "      <td>2</td>\n",
              "      <td>1</td>\n",
              "      <td>1</td>\n",
              "      <td>1</td>\n",
              "      <td>1</td>\n",
              "      <td>2</td>\n",
              "      <td>1</td>\n",
              "      <td>2</td>\n",
              "      <td>2</td>\n",
              "      <td>1</td>\n",
              "      <td>1</td>\n",
              "      <td>democrat</td>\n",
              "    </tr>\n",
              "    <tr>\n",
              "      <th>3</th>\n",
              "      <td>1</td>\n",
              "      <td>2</td>\n",
              "      <td>2</td>\n",
              "      <td>1</td>\n",
              "      <td>0</td>\n",
              "      <td>2</td>\n",
              "      <td>1</td>\n",
              "      <td>1</td>\n",
              "      <td>1</td>\n",
              "      <td>1</td>\n",
              "      <td>2</td>\n",
              "      <td>1</td>\n",
              "      <td>2</td>\n",
              "      <td>1</td>\n",
              "      <td>1</td>\n",
              "      <td>2</td>\n",
              "      <td>democrat</td>\n",
              "    </tr>\n",
              "    <tr>\n",
              "      <th>4</th>\n",
              "      <td>2</td>\n",
              "      <td>2</td>\n",
              "      <td>2</td>\n",
              "      <td>1</td>\n",
              "      <td>2</td>\n",
              "      <td>2</td>\n",
              "      <td>1</td>\n",
              "      <td>1</td>\n",
              "      <td>1</td>\n",
              "      <td>1</td>\n",
              "      <td>2</td>\n",
              "      <td>0</td>\n",
              "      <td>2</td>\n",
              "      <td>2</td>\n",
              "      <td>2</td>\n",
              "      <td>2</td>\n",
              "      <td>democrat</td>\n",
              "    </tr>\n",
              "  </tbody>\n",
              "</table>\n",
              "</div>"
            ],
            "text/plain": [
              "   Vote_1  Vote_2  Vote_3  Vote_4  ...  Vote_14  Vote_15  Vote_16       class\n",
              "0       1       2       1       2  ...        2        1        2  republican\n",
              "1       1       2       1       2  ...        2        1        0  republican\n",
              "2       0       2       2       0  ...        2        1        1    democrat\n",
              "3       1       2       2       1  ...        1        1        2    democrat\n",
              "4       2       2       2       1  ...        2        2        2    democrat\n",
              "\n",
              "[5 rows x 17 columns]"
            ]
          },
          "metadata": {},
          "execution_count": 39
        }
      ]
    },
    {
      "cell_type": "markdown",
      "metadata": {
        "id": "7s9pgzpu9YBG"
      },
      "source": [
        "Antes de testarmos diferentes classificadores vamos aplicar um modelo básico para verificar o formato dos dados para aplicação do modelo."
      ]
    },
    {
      "cell_type": "code",
      "metadata": {
        "colab": {
          "base_uri": "https://localhost:8080/"
        },
        "id": "0y5DheBgSU_D",
        "outputId": "1389a8b5-0749-47bd-f413-97406278a3b5"
      },
      "source": [
        "from sklearn.tree import DecisionTreeClassifier\n",
        "\n",
        "X = df_labels\n",
        "y = df['class']\n",
        "\n",
        "clf = DecisionTreeClassifier()\n",
        "\n",
        "clf.fit(X,y)\n",
        "y_pred = clf.predict(X)\n",
        "print( clf.score(X,y) )\n"
      ],
      "execution_count": null,
      "outputs": [
        {
          "output_type": "stream",
          "name": "stdout",
          "text": [
            "1.0\n"
          ]
        }
      ]
    },
    {
      "cell_type": "markdown",
      "metadata": {
        "id": "SRGCiRV09qzt"
      },
      "source": [
        "Parece tudo certo e podemos ainda verificar a árvore produzida neste treinamento."
      ]
    },
    {
      "cell_type": "code",
      "metadata": {
        "colab": {
          "base_uri": "https://localhost:8080/",
          "height": 1000
        },
        "id": "P29JgD6ASU_D",
        "outputId": "d4d690fd-7e83-47fb-a61d-1b83c679e1f5"
      },
      "source": [
        "import graphviz\n",
        "dot_data = tree.export_graphviz(clf, out_file=None,\n",
        "                     feature_names=list(df_labels.columns.values),\n",
        "                     class_names=list(sorted(df['class'].unique())),\n",
        "                     filled=True, rounded=True,\n",
        "                     special_characters=False,\n",
        "                     proportion=False, impurity=False, node_ids=False,label=None)\n",
        "graph = graphviz.Source(dot_data)\n",
        "graph.render('graph_cartoons') # para gravação em .pdf\n",
        "graph"
      ],
      "execution_count": null,
      "outputs": [
        {
          "output_type": "execute_result",
          "data": {
            "text/plain": [
              "<graphviz.files.Source at 0x7f05b7c59650>"
            ],
            "image/svg+xml": "<?xml version=\"1.0\" encoding=\"UTF-8\" standalone=\"no\"?>\n<!DOCTYPE svg PUBLIC \"-//W3C//DTD SVG 1.1//EN\"\n \"http://www.w3.org/Graphics/SVG/1.1/DTD/svg11.dtd\">\n<!-- Generated by graphviz version 2.40.1 (20161225.0304)\n -->\n<!-- Title: Tree Pages: 1 -->\n<svg width=\"1525pt\" height=\"1205pt\"\n viewBox=\"0.00 0.00 1524.50 1205.00\" xmlns=\"http://www.w3.org/2000/svg\" xmlns:xlink=\"http://www.w3.org/1999/xlink\">\n<g id=\"graph0\" class=\"graph\" transform=\"scale(1 1) rotate(0) translate(4 1201)\">\n<title>Tree</title>\n<polygon fill=\"#ffffff\" stroke=\"transparent\" points=\"-4,4 -4,-1201 1520.5,-1201 1520.5,4 -4,4\"/>\n<!-- 0 -->\n<g id=\"node1\" class=\"node\">\n<title>0</title>\n<path fill=\"#f5d0b6\" stroke=\"#000000\" d=\"M599.5,-1197C599.5,-1197 516.5,-1197 516.5,-1197 510.5,-1197 504.5,-1191 504.5,-1185 504.5,-1185 504.5,-1141 504.5,-1141 504.5,-1135 510.5,-1129 516.5,-1129 516.5,-1129 599.5,-1129 599.5,-1129 605.5,-1129 611.5,-1135 611.5,-1141 611.5,-1141 611.5,-1185 611.5,-1185 611.5,-1191 605.5,-1197 599.5,-1197\"/>\n<text text-anchor=\"middle\" x=\"558\" y=\"-1181.8\" font-family=\"Helvetica,sans-Serif\" font-size=\"14.00\" fill=\"#000000\">Vote_4 &lt;= 1.5</text>\n<text text-anchor=\"middle\" x=\"558\" y=\"-1166.8\" font-family=\"Helvetica,sans-Serif\" font-size=\"14.00\" fill=\"#000000\">435</text>\n<text text-anchor=\"middle\" x=\"558\" y=\"-1151.8\" font-family=\"Helvetica,sans-Serif\" font-size=\"14.00\" fill=\"#000000\">[267, 168]</text>\n<text text-anchor=\"middle\" x=\"558\" y=\"-1136.8\" font-family=\"Helvetica,sans-Serif\" font-size=\"14.00\" fill=\"#000000\">democrat</text>\n</g>\n<!-- 1 -->\n<g id=\"node2\" class=\"node\">\n<title>1</title>\n<path fill=\"#e6833d\" stroke=\"#000000\" d=\"M437.5,-1093C437.5,-1093 354.5,-1093 354.5,-1093 348.5,-1093 342.5,-1087 342.5,-1081 342.5,-1081 342.5,-1037 342.5,-1037 342.5,-1031 348.5,-1025 354.5,-1025 354.5,-1025 437.5,-1025 437.5,-1025 443.5,-1025 449.5,-1031 449.5,-1037 449.5,-1037 449.5,-1081 449.5,-1081 449.5,-1087 443.5,-1093 437.5,-1093\"/>\n<text text-anchor=\"middle\" x=\"396\" y=\"-1077.8\" font-family=\"Helvetica,sans-Serif\" font-size=\"14.00\" fill=\"#000000\">Vote_3 &lt;= 0.5</text>\n<text text-anchor=\"middle\" x=\"396\" y=\"-1062.8\" font-family=\"Helvetica,sans-Serif\" font-size=\"14.00\" fill=\"#000000\">258</text>\n<text text-anchor=\"middle\" x=\"396\" y=\"-1047.8\" font-family=\"Helvetica,sans-Serif\" font-size=\"14.00\" fill=\"#000000\">[253, 5]</text>\n<text text-anchor=\"middle\" x=\"396\" y=\"-1032.8\" font-family=\"Helvetica,sans-Serif\" font-size=\"14.00\" fill=\"#000000\">democrat</text>\n</g>\n<!-- 0&#45;&gt;1 -->\n<g id=\"edge1\" class=\"edge\">\n<title>0&#45;&gt;1</title>\n<path fill=\"none\" stroke=\"#000000\" d=\"M504.9551,-1128.9465C489.8505,-1119.2497 473.2676,-1108.6039 457.6954,-1098.6069\"/>\n<polygon fill=\"#000000\" stroke=\"#000000\" points=\"459.47,-1095.5871 449.164,-1093.13 455.6884,-1101.4777 459.47,-1095.5871\"/>\n<text text-anchor=\"middle\" x=\"454.49\" y=\"-1113.8561\" font-family=\"Helvetica,sans-Serif\" font-size=\"14.00\" fill=\"#000000\">True</text>\n</g>\n<!-- 20 -->\n<g id=\"node21\" class=\"node\">\n<title>20</title>\n<path fill=\"#4aa5e7\" stroke=\"#000000\" d=\"M728.5,-1093C728.5,-1093 637.5,-1093 637.5,-1093 631.5,-1093 625.5,-1087 625.5,-1081 625.5,-1081 625.5,-1037 625.5,-1037 625.5,-1031 631.5,-1025 637.5,-1025 637.5,-1025 728.5,-1025 728.5,-1025 734.5,-1025 740.5,-1031 740.5,-1037 740.5,-1037 740.5,-1081 740.5,-1081 740.5,-1087 734.5,-1093 728.5,-1093\"/>\n<text text-anchor=\"middle\" x=\"683\" y=\"-1077.8\" font-family=\"Helvetica,sans-Serif\" font-size=\"14.00\" fill=\"#000000\">Vote_11 &lt;= 1.5</text>\n<text text-anchor=\"middle\" x=\"683\" y=\"-1062.8\" font-family=\"Helvetica,sans-Serif\" font-size=\"14.00\" fill=\"#000000\">177</text>\n<text text-anchor=\"middle\" x=\"683\" y=\"-1047.8\" font-family=\"Helvetica,sans-Serif\" font-size=\"14.00\" fill=\"#000000\">[14, 163]</text>\n<text text-anchor=\"middle\" x=\"683\" y=\"-1032.8\" font-family=\"Helvetica,sans-Serif\" font-size=\"14.00\" fill=\"#000000\">republican</text>\n</g>\n<!-- 0&#45;&gt;20 -->\n<g id=\"edge20\" class=\"edge\">\n<title>0&#45;&gt;20</title>\n<path fill=\"none\" stroke=\"#000000\" d=\"M598.9297,-1128.9465C610.1528,-1119.6088 622.4337,-1109.3911 634.0573,-1099.7203\"/>\n<polygon fill=\"#000000\" stroke=\"#000000\" points=\"636.5296,-1102.2164 641.9784,-1093.13 632.0526,-1096.8353 636.5296,-1102.2164\"/>\n<text text-anchor=\"middle\" x=\"639.6954\" y=\"-1114.3255\" font-family=\"Helvetica,sans-Serif\" font-size=\"14.00\" fill=\"#000000\">False</text>\n</g>\n<!-- 2 -->\n<g id=\"node3\" class=\"node\">\n<title>2</title>\n<path fill=\"#f2c09c\" stroke=\"#000000\" d=\"M200.5,-989C200.5,-989 117.5,-989 117.5,-989 111.5,-989 105.5,-983 105.5,-977 105.5,-977 105.5,-933 105.5,-933 105.5,-927 111.5,-921 117.5,-921 117.5,-921 200.5,-921 200.5,-921 206.5,-921 212.5,-927 212.5,-933 212.5,-933 212.5,-977 212.5,-977 212.5,-983 206.5,-989 200.5,-989\"/>\n<text text-anchor=\"middle\" x=\"159\" y=\"-973.8\" font-family=\"Helvetica,sans-Serif\" font-size=\"14.00\" fill=\"#000000\">Vote_9 &lt;= 0.5</text>\n<text text-anchor=\"middle\" x=\"159\" y=\"-958.8\" font-family=\"Helvetica,sans-Serif\" font-size=\"14.00\" fill=\"#000000\">9</text>\n<text text-anchor=\"middle\" x=\"159\" y=\"-943.8\" font-family=\"Helvetica,sans-Serif\" font-size=\"14.00\" fill=\"#000000\">[6, 3]</text>\n<text text-anchor=\"middle\" x=\"159\" y=\"-928.8\" font-family=\"Helvetica,sans-Serif\" font-size=\"14.00\" fill=\"#000000\">democrat</text>\n</g>\n<!-- 1&#45;&gt;2 -->\n<g id=\"edge2\" class=\"edge\">\n<title>1&#45;&gt;2</title>\n<path fill=\"none\" stroke=\"#000000\" d=\"M342.221,-1035.4008C306.4647,-1019.7103 259.3677,-999.0432 221.8777,-982.5919\"/>\n<polygon fill=\"#000000\" stroke=\"#000000\" points=\"223.1297,-979.3192 212.5661,-978.5058 220.3169,-985.7292 223.1297,-979.3192\"/>\n</g>\n<!-- 9 -->\n<g id=\"node10\" class=\"node\">\n<title>9</title>\n<path fill=\"#e5823b\" stroke=\"#000000\" d=\"M437.5,-989C437.5,-989 354.5,-989 354.5,-989 348.5,-989 342.5,-983 342.5,-977 342.5,-977 342.5,-933 342.5,-933 342.5,-927 348.5,-921 354.5,-921 354.5,-921 437.5,-921 437.5,-921 443.5,-921 449.5,-927 449.5,-933 449.5,-933 449.5,-977 449.5,-977 449.5,-983 443.5,-989 437.5,-989\"/>\n<text text-anchor=\"middle\" x=\"396\" y=\"-973.8\" font-family=\"Helvetica,sans-Serif\" font-size=\"14.00\" fill=\"#000000\">Vote_3 &lt;= 1.5</text>\n<text text-anchor=\"middle\" x=\"396\" y=\"-958.8\" font-family=\"Helvetica,sans-Serif\" font-size=\"14.00\" fill=\"#000000\">249</text>\n<text text-anchor=\"middle\" x=\"396\" y=\"-943.8\" font-family=\"Helvetica,sans-Serif\" font-size=\"14.00\" fill=\"#000000\">[247, 2]</text>\n<text text-anchor=\"middle\" x=\"396\" y=\"-928.8\" font-family=\"Helvetica,sans-Serif\" font-size=\"14.00\" fill=\"#000000\">democrat</text>\n</g>\n<!-- 1&#45;&gt;9 -->\n<g id=\"edge9\" class=\"edge\">\n<title>1&#45;&gt;9</title>\n<path fill=\"none\" stroke=\"#000000\" d=\"M396,-1024.9465C396,-1016.776 396,-1007.9318 396,-999.3697\"/>\n<polygon fill=\"#000000\" stroke=\"#000000\" points=\"399.5001,-999.13 396,-989.13 392.5001,-999.13 399.5001,-999.13\"/>\n</g>\n<!-- 3 -->\n<g id=\"node4\" class=\"node\">\n<title>3</title>\n<path fill=\"#399de5\" stroke=\"#000000\" d=\"M72,-877.5C72,-877.5 12,-877.5 12,-877.5 6,-877.5 0,-871.5 0,-865.5 0,-865.5 0,-836.5 0,-836.5 0,-830.5 6,-824.5 12,-824.5 12,-824.5 72,-824.5 72,-824.5 78,-824.5 84,-830.5 84,-836.5 84,-836.5 84,-865.5 84,-865.5 84,-871.5 78,-877.5 72,-877.5\"/>\n<text text-anchor=\"middle\" x=\"42\" y=\"-862.3\" font-family=\"Helvetica,sans-Serif\" font-size=\"14.00\" fill=\"#000000\">2</text>\n<text text-anchor=\"middle\" x=\"42\" y=\"-847.3\" font-family=\"Helvetica,sans-Serif\" font-size=\"14.00\" fill=\"#000000\">[0, 2]</text>\n<text text-anchor=\"middle\" x=\"42\" y=\"-832.3\" font-family=\"Helvetica,sans-Serif\" font-size=\"14.00\" fill=\"#000000\">republican</text>\n</g>\n<!-- 2&#45;&gt;3 -->\n<g id=\"edge3\" class=\"edge\">\n<title>2&#45;&gt;3</title>\n<path fill=\"none\" stroke=\"#000000\" d=\"M120.6898,-920.9465C107.4306,-909.1606 92.5942,-895.9726 79.4084,-884.2519\"/>\n<polygon fill=\"#000000\" stroke=\"#000000\" points=\"81.6593,-881.5699 71.8599,-877.5422 77.0088,-886.8018 81.6593,-881.5699\"/>\n</g>\n<!-- 4 -->\n<g id=\"node5\" class=\"node\">\n<title>4</title>\n<path fill=\"#e9965a\" stroke=\"#000000\" d=\"M204.5,-885C204.5,-885 113.5,-885 113.5,-885 107.5,-885 101.5,-879 101.5,-873 101.5,-873 101.5,-829 101.5,-829 101.5,-823 107.5,-817 113.5,-817 113.5,-817 204.5,-817 204.5,-817 210.5,-817 216.5,-823 216.5,-829 216.5,-829 216.5,-873 216.5,-873 216.5,-879 210.5,-885 204.5,-885\"/>\n<text text-anchor=\"middle\" x=\"159\" y=\"-869.8\" font-family=\"Helvetica,sans-Serif\" font-size=\"14.00\" fill=\"#000000\">Vote_12 &lt;= 1.5</text>\n<text text-anchor=\"middle\" x=\"159\" y=\"-854.8\" font-family=\"Helvetica,sans-Serif\" font-size=\"14.00\" fill=\"#000000\">7</text>\n<text text-anchor=\"middle\" x=\"159\" y=\"-839.8\" font-family=\"Helvetica,sans-Serif\" font-size=\"14.00\" fill=\"#000000\">[6, 1]</text>\n<text text-anchor=\"middle\" x=\"159\" y=\"-824.8\" font-family=\"Helvetica,sans-Serif\" font-size=\"14.00\" fill=\"#000000\">democrat</text>\n</g>\n<!-- 2&#45;&gt;4 -->\n<g id=\"edge4\" class=\"edge\">\n<title>2&#45;&gt;4</title>\n<path fill=\"none\" stroke=\"#000000\" d=\"M159,-920.9465C159,-912.776 159,-903.9318 159,-895.3697\"/>\n<polygon fill=\"#000000\" stroke=\"#000000\" points=\"162.5001,-895.13 159,-885.13 155.5001,-895.13 162.5001,-895.13\"/>\n</g>\n<!-- 5 -->\n<g id=\"node6\" class=\"node\">\n<title>5</title>\n<path fill=\"#e58139\" stroke=\"#000000\" d=\"M75.5,-773.5C75.5,-773.5 22.5,-773.5 22.5,-773.5 16.5,-773.5 10.5,-767.5 10.5,-761.5 10.5,-761.5 10.5,-732.5 10.5,-732.5 10.5,-726.5 16.5,-720.5 22.5,-720.5 22.5,-720.5 75.5,-720.5 75.5,-720.5 81.5,-720.5 87.5,-726.5 87.5,-732.5 87.5,-732.5 87.5,-761.5 87.5,-761.5 87.5,-767.5 81.5,-773.5 75.5,-773.5\"/>\n<text text-anchor=\"middle\" x=\"49\" y=\"-758.3\" font-family=\"Helvetica,sans-Serif\" font-size=\"14.00\" fill=\"#000000\">5</text>\n<text text-anchor=\"middle\" x=\"49\" y=\"-743.3\" font-family=\"Helvetica,sans-Serif\" font-size=\"14.00\" fill=\"#000000\">[5, 0]</text>\n<text text-anchor=\"middle\" x=\"49\" y=\"-728.3\" font-family=\"Helvetica,sans-Serif\" font-size=\"14.00\" fill=\"#000000\">democrat</text>\n</g>\n<!-- 4&#45;&gt;5 -->\n<g id=\"edge5\" class=\"edge\">\n<title>4&#45;&gt;5</title>\n<path fill=\"none\" stroke=\"#000000\" d=\"M122.9819,-816.9465C110.6325,-805.2707 96.8278,-792.219 84.5183,-780.5809\"/>\n<polygon fill=\"#000000\" stroke=\"#000000\" points=\"86.7445,-777.869 77.0734,-773.5422 81.9354,-782.9556 86.7445,-777.869\"/>\n</g>\n<!-- 6 -->\n<g id=\"node7\" class=\"node\">\n<title>6</title>\n<path fill=\"#ffffff\" stroke=\"#000000\" d=\"M200.5,-781C200.5,-781 117.5,-781 117.5,-781 111.5,-781 105.5,-775 105.5,-769 105.5,-769 105.5,-725 105.5,-725 105.5,-719 111.5,-713 117.5,-713 117.5,-713 200.5,-713 200.5,-713 206.5,-713 212.5,-719 212.5,-725 212.5,-725 212.5,-769 212.5,-769 212.5,-775 206.5,-781 200.5,-781\"/>\n<text text-anchor=\"middle\" x=\"159\" y=\"-765.8\" font-family=\"Helvetica,sans-Serif\" font-size=\"14.00\" fill=\"#000000\">Vote_1 &lt;= 0.5</text>\n<text text-anchor=\"middle\" x=\"159\" y=\"-750.8\" font-family=\"Helvetica,sans-Serif\" font-size=\"14.00\" fill=\"#000000\">2</text>\n<text text-anchor=\"middle\" x=\"159\" y=\"-735.8\" font-family=\"Helvetica,sans-Serif\" font-size=\"14.00\" fill=\"#000000\">[1, 1]</text>\n<text text-anchor=\"middle\" x=\"159\" y=\"-720.8\" font-family=\"Helvetica,sans-Serif\" font-size=\"14.00\" fill=\"#000000\">democrat</text>\n</g>\n<!-- 4&#45;&gt;6 -->\n<g id=\"edge6\" class=\"edge\">\n<title>4&#45;&gt;6</title>\n<path fill=\"none\" stroke=\"#000000\" d=\"M159,-816.9465C159,-808.776 159,-799.9318 159,-791.3697\"/>\n<polygon fill=\"#000000\" stroke=\"#000000\" points=\"162.5001,-791.13 159,-781.13 155.5001,-791.13 162.5001,-791.13\"/>\n</g>\n<!-- 7 -->\n<g id=\"node8\" class=\"node\">\n<title>7</title>\n<path fill=\"#399de5\" stroke=\"#000000\" d=\"M91,-669.5C91,-669.5 31,-669.5 31,-669.5 25,-669.5 19,-663.5 19,-657.5 19,-657.5 19,-628.5 19,-628.5 19,-622.5 25,-616.5 31,-616.5 31,-616.5 91,-616.5 91,-616.5 97,-616.5 103,-622.5 103,-628.5 103,-628.5 103,-657.5 103,-657.5 103,-663.5 97,-669.5 91,-669.5\"/>\n<text text-anchor=\"middle\" x=\"61\" y=\"-654.3\" font-family=\"Helvetica,sans-Serif\" font-size=\"14.00\" fill=\"#000000\">1</text>\n<text text-anchor=\"middle\" x=\"61\" y=\"-639.3\" font-family=\"Helvetica,sans-Serif\" font-size=\"14.00\" fill=\"#000000\">[0, 1]</text>\n<text text-anchor=\"middle\" x=\"61\" y=\"-624.3\" font-family=\"Helvetica,sans-Serif\" font-size=\"14.00\" fill=\"#000000\">republican</text>\n</g>\n<!-- 6&#45;&gt;7 -->\n<g id=\"edge7\" class=\"edge\">\n<title>6&#45;&gt;7</title>\n<path fill=\"none\" stroke=\"#000000\" d=\"M126.9111,-712.9465C116.0127,-701.3809 103.8422,-688.4652 92.9543,-676.9107\"/>\n<polygon fill=\"#000000\" stroke=\"#000000\" points=\"95.4162,-674.4198 86.0109,-669.5422 90.3217,-679.2204 95.4162,-674.4198\"/>\n</g>\n<!-- 8 -->\n<g id=\"node9\" class=\"node\">\n<title>8</title>\n<path fill=\"#e58139\" stroke=\"#000000\" d=\"M186.5,-669.5C186.5,-669.5 133.5,-669.5 133.5,-669.5 127.5,-669.5 121.5,-663.5 121.5,-657.5 121.5,-657.5 121.5,-628.5 121.5,-628.5 121.5,-622.5 127.5,-616.5 133.5,-616.5 133.5,-616.5 186.5,-616.5 186.5,-616.5 192.5,-616.5 198.5,-622.5 198.5,-628.5 198.5,-628.5 198.5,-657.5 198.5,-657.5 198.5,-663.5 192.5,-669.5 186.5,-669.5\"/>\n<text text-anchor=\"middle\" x=\"160\" y=\"-654.3\" font-family=\"Helvetica,sans-Serif\" font-size=\"14.00\" fill=\"#000000\">1</text>\n<text text-anchor=\"middle\" x=\"160\" y=\"-639.3\" font-family=\"Helvetica,sans-Serif\" font-size=\"14.00\" fill=\"#000000\">[1, 0]</text>\n<text text-anchor=\"middle\" x=\"160\" y=\"-624.3\" font-family=\"Helvetica,sans-Serif\" font-size=\"14.00\" fill=\"#000000\">democrat</text>\n</g>\n<!-- 6&#45;&gt;8 -->\n<g id=\"edge8\" class=\"edge\">\n<title>6&#45;&gt;8</title>\n<path fill=\"none\" stroke=\"#000000\" d=\"M159.3274,-712.9465C159.4302,-702.2621 159.544,-690.4254 159.6483,-679.5742\"/>\n<polygon fill=\"#000000\" stroke=\"#000000\" points=\"163.1484,-679.5754 159.7448,-669.5422 156.1487,-679.508 163.1484,-679.5754\"/>\n</g>\n<!-- 10 -->\n<g id=\"node11\" class=\"node\">\n<title>10</title>\n<path fill=\"#e78c4a\" stroke=\"#000000\" d=\"M384.5,-885C384.5,-885 293.5,-885 293.5,-885 287.5,-885 281.5,-879 281.5,-873 281.5,-873 281.5,-829 281.5,-829 281.5,-823 287.5,-817 293.5,-817 293.5,-817 384.5,-817 384.5,-817 390.5,-817 396.5,-823 396.5,-829 396.5,-829 396.5,-873 396.5,-873 396.5,-879 390.5,-885 384.5,-885\"/>\n<text text-anchor=\"middle\" x=\"339\" y=\"-869.8\" font-family=\"Helvetica,sans-Serif\" font-size=\"14.00\" fill=\"#000000\">Vote_12 &lt;= 0.5</text>\n<text text-anchor=\"middle\" x=\"339\" y=\"-854.8\" font-family=\"Helvetica,sans-Serif\" font-size=\"14.00\" fill=\"#000000\">25</text>\n<text text-anchor=\"middle\" x=\"339\" y=\"-839.8\" font-family=\"Helvetica,sans-Serif\" font-size=\"14.00\" fill=\"#000000\">[23, 2]</text>\n<text text-anchor=\"middle\" x=\"339\" y=\"-824.8\" font-family=\"Helvetica,sans-Serif\" font-size=\"14.00\" fill=\"#000000\">democrat</text>\n</g>\n<!-- 9&#45;&gt;10 -->\n<g id=\"edge10\" class=\"edge\">\n<title>9&#45;&gt;10</title>\n<path fill=\"none\" stroke=\"#000000\" d=\"M377.3361,-920.9465C372.612,-912.3271 367.4769,-902.9579 362.546,-893.9611\"/>\n<polygon fill=\"#000000\" stroke=\"#000000\" points=\"365.5814,-892.2171 357.7059,-885.13 359.4429,-895.5815 365.5814,-892.2171\"/>\n</g>\n<!-- 19 -->\n<g id=\"node20\" class=\"node\">\n<title>19</title>\n<path fill=\"#e58139\" stroke=\"#000000\" d=\"M479.5,-877.5C479.5,-877.5 426.5,-877.5 426.5,-877.5 420.5,-877.5 414.5,-871.5 414.5,-865.5 414.5,-865.5 414.5,-836.5 414.5,-836.5 414.5,-830.5 420.5,-824.5 426.5,-824.5 426.5,-824.5 479.5,-824.5 479.5,-824.5 485.5,-824.5 491.5,-830.5 491.5,-836.5 491.5,-836.5 491.5,-865.5 491.5,-865.5 491.5,-871.5 485.5,-877.5 479.5,-877.5\"/>\n<text text-anchor=\"middle\" x=\"453\" y=\"-862.3\" font-family=\"Helvetica,sans-Serif\" font-size=\"14.00\" fill=\"#000000\">224</text>\n<text text-anchor=\"middle\" x=\"453\" y=\"-847.3\" font-family=\"Helvetica,sans-Serif\" font-size=\"14.00\" fill=\"#000000\">[224, 0]</text>\n<text text-anchor=\"middle\" x=\"453\" y=\"-832.3\" font-family=\"Helvetica,sans-Serif\" font-size=\"14.00\" fill=\"#000000\">democrat</text>\n</g>\n<!-- 9&#45;&gt;19 -->\n<g id=\"edge19\" class=\"edge\">\n<title>9&#45;&gt;19</title>\n<path fill=\"none\" stroke=\"#000000\" d=\"M414.6639,-920.9465C420.7009,-909.9316 427.4091,-897.6922 433.5047,-886.5703\"/>\n<polygon fill=\"#000000\" stroke=\"#000000\" points=\"436.7158,-887.9936 438.4529,-877.5422 430.5773,-884.6292 436.7158,-887.9936\"/>\n</g>\n<!-- 11 -->\n<g id=\"node12\" class=\"node\">\n<title>11</title>\n<path fill=\"#399de5\" stroke=\"#000000\" d=\"M303,-773.5C303,-773.5 243,-773.5 243,-773.5 237,-773.5 231,-767.5 231,-761.5 231,-761.5 231,-732.5 231,-732.5 231,-726.5 237,-720.5 243,-720.5 243,-720.5 303,-720.5 303,-720.5 309,-720.5 315,-726.5 315,-732.5 315,-732.5 315,-761.5 315,-761.5 315,-767.5 309,-773.5 303,-773.5\"/>\n<text text-anchor=\"middle\" x=\"273\" y=\"-758.3\" font-family=\"Helvetica,sans-Serif\" font-size=\"14.00\" fill=\"#000000\">1</text>\n<text text-anchor=\"middle\" x=\"273\" y=\"-743.3\" font-family=\"Helvetica,sans-Serif\" font-size=\"14.00\" fill=\"#000000\">[0, 1]</text>\n<text text-anchor=\"middle\" x=\"273\" y=\"-728.3\" font-family=\"Helvetica,sans-Serif\" font-size=\"14.00\" fill=\"#000000\">republican</text>\n</g>\n<!-- 10&#45;&gt;11 -->\n<g id=\"edge11\" class=\"edge\">\n<title>10&#45;&gt;11</title>\n<path fill=\"none\" stroke=\"#000000\" d=\"M317.3891,-816.9465C310.329,-805.8215 302.4761,-793.4473 295.3619,-782.237\"/>\n<polygon fill=\"#000000\" stroke=\"#000000\" points=\"298.1575,-780.1101 289.8441,-773.5422 292.2472,-783.8609 298.1575,-780.1101\"/>\n</g>\n<!-- 12 -->\n<g id=\"node13\" class=\"node\">\n<title>12</title>\n<path fill=\"#e68642\" stroke=\"#000000\" d=\"M427.5,-781C427.5,-781 344.5,-781 344.5,-781 338.5,-781 332.5,-775 332.5,-769 332.5,-769 332.5,-725 332.5,-725 332.5,-719 338.5,-713 344.5,-713 344.5,-713 427.5,-713 427.5,-713 433.5,-713 439.5,-719 439.5,-725 439.5,-725 439.5,-769 439.5,-769 439.5,-775 433.5,-781 427.5,-781\"/>\n<text text-anchor=\"middle\" x=\"386\" y=\"-765.8\" font-family=\"Helvetica,sans-Serif\" font-size=\"14.00\" fill=\"#000000\">Vote_6 &lt;= 1.5</text>\n<text text-anchor=\"middle\" x=\"386\" y=\"-750.8\" font-family=\"Helvetica,sans-Serif\" font-size=\"14.00\" fill=\"#000000\">24</text>\n<text text-anchor=\"middle\" x=\"386\" y=\"-735.8\" font-family=\"Helvetica,sans-Serif\" font-size=\"14.00\" fill=\"#000000\">[23, 1]</text>\n<text text-anchor=\"middle\" x=\"386\" y=\"-720.8\" font-family=\"Helvetica,sans-Serif\" font-size=\"14.00\" fill=\"#000000\">democrat</text>\n</g>\n<!-- 10&#45;&gt;12 -->\n<g id=\"edge12\" class=\"edge\">\n<title>10&#45;&gt;12</title>\n<path fill=\"none\" stroke=\"#000000\" d=\"M354.3896,-816.9465C358.2037,-808.5067 362.3428,-799.3479 366.3306,-790.5239\"/>\n<polygon fill=\"#000000\" stroke=\"#000000\" points=\"369.647,-791.684 370.5759,-781.13 363.2682,-788.8013 369.647,-791.684\"/>\n</g>\n<!-- 13 -->\n<g id=\"node14\" class=\"node\">\n<title>13</title>\n<path fill=\"#e99355\" stroke=\"#000000\" d=\"M321.5,-677C321.5,-677 230.5,-677 230.5,-677 224.5,-677 218.5,-671 218.5,-665 218.5,-665 218.5,-621 218.5,-621 218.5,-615 224.5,-609 230.5,-609 230.5,-609 321.5,-609 321.5,-609 327.5,-609 333.5,-615 333.5,-621 333.5,-621 333.5,-665 333.5,-665 333.5,-671 327.5,-677 321.5,-677\"/>\n<text text-anchor=\"middle\" x=\"276\" y=\"-661.8\" font-family=\"Helvetica,sans-Serif\" font-size=\"14.00\" fill=\"#000000\">Vote_15 &lt;= 1.5</text>\n<text text-anchor=\"middle\" x=\"276\" y=\"-646.8\" font-family=\"Helvetica,sans-Serif\" font-size=\"14.00\" fill=\"#000000\">8</text>\n<text text-anchor=\"middle\" x=\"276\" y=\"-631.8\" font-family=\"Helvetica,sans-Serif\" font-size=\"14.00\" fill=\"#000000\">[7, 1]</text>\n<text text-anchor=\"middle\" x=\"276\" y=\"-616.8\" font-family=\"Helvetica,sans-Serif\" font-size=\"14.00\" fill=\"#000000\">democrat</text>\n</g>\n<!-- 12&#45;&gt;13 -->\n<g id=\"edge13\" class=\"edge\">\n<title>12&#45;&gt;13</title>\n<path fill=\"none\" stroke=\"#000000\" d=\"M349.9819,-712.9465C340.2954,-703.7884 329.7136,-693.7838 319.6603,-684.2788\"/>\n<polygon fill=\"#000000\" stroke=\"#000000\" points=\"321.7701,-681.4569 312.099,-677.13 316.961,-686.5434 321.7701,-681.4569\"/>\n</g>\n<!-- 18 -->\n<g id=\"node19\" class=\"node\">\n<title>18</title>\n<path fill=\"#e58139\" stroke=\"#000000\" d=\"M416.5,-669.5C416.5,-669.5 363.5,-669.5 363.5,-669.5 357.5,-669.5 351.5,-663.5 351.5,-657.5 351.5,-657.5 351.5,-628.5 351.5,-628.5 351.5,-622.5 357.5,-616.5 363.5,-616.5 363.5,-616.5 416.5,-616.5 416.5,-616.5 422.5,-616.5 428.5,-622.5 428.5,-628.5 428.5,-628.5 428.5,-657.5 428.5,-657.5 428.5,-663.5 422.5,-669.5 416.5,-669.5\"/>\n<text text-anchor=\"middle\" x=\"390\" y=\"-654.3\" font-family=\"Helvetica,sans-Serif\" font-size=\"14.00\" fill=\"#000000\">16</text>\n<text text-anchor=\"middle\" x=\"390\" y=\"-639.3\" font-family=\"Helvetica,sans-Serif\" font-size=\"14.00\" fill=\"#000000\">[16, 0]</text>\n<text text-anchor=\"middle\" x=\"390\" y=\"-624.3\" font-family=\"Helvetica,sans-Serif\" font-size=\"14.00\" fill=\"#000000\">democrat</text>\n</g>\n<!-- 12&#45;&gt;18 -->\n<g id=\"edge18\" class=\"edge\">\n<title>12&#45;&gt;18</title>\n<path fill=\"none\" stroke=\"#000000\" d=\"M387.3097,-712.9465C387.7207,-702.2621 388.1759,-690.4254 388.5933,-679.5742\"/>\n<polygon fill=\"#000000\" stroke=\"#000000\" points=\"392.0921,-679.6693 388.9791,-669.5422 385.0973,-679.4002 392.0921,-679.6693\"/>\n</g>\n<!-- 14 -->\n<g id=\"node15\" class=\"node\">\n<title>14</title>\n<path fill=\"#ffffff\" stroke=\"#000000\" d=\"M232.5,-573C232.5,-573 141.5,-573 141.5,-573 135.5,-573 129.5,-567 129.5,-561 129.5,-561 129.5,-517 129.5,-517 129.5,-511 135.5,-505 141.5,-505 141.5,-505 232.5,-505 232.5,-505 238.5,-505 244.5,-511 244.5,-517 244.5,-517 244.5,-561 244.5,-561 244.5,-567 238.5,-573 232.5,-573\"/>\n<text text-anchor=\"middle\" x=\"187\" y=\"-557.8\" font-family=\"Helvetica,sans-Serif\" font-size=\"14.00\" fill=\"#000000\">Vote_10 &lt;= 1.5</text>\n<text text-anchor=\"middle\" x=\"187\" y=\"-542.8\" font-family=\"Helvetica,sans-Serif\" font-size=\"14.00\" fill=\"#000000\">2</text>\n<text text-anchor=\"middle\" x=\"187\" y=\"-527.8\" font-family=\"Helvetica,sans-Serif\" font-size=\"14.00\" fill=\"#000000\">[1, 1]</text>\n<text text-anchor=\"middle\" x=\"187\" y=\"-512.8\" font-family=\"Helvetica,sans-Serif\" font-size=\"14.00\" fill=\"#000000\">democrat</text>\n</g>\n<!-- 13&#45;&gt;14 -->\n<g id=\"edge14\" class=\"edge\">\n<title>13&#45;&gt;14</title>\n<path fill=\"none\" stroke=\"#000000\" d=\"M246.8581,-608.9465C239.1745,-599.968 230.7947,-590.1758 222.8041,-580.8385\"/>\n<polygon fill=\"#000000\" stroke=\"#000000\" points=\"225.3685,-578.4521 216.2074,-573.13 220.0501,-583.0034 225.3685,-578.4521\"/>\n</g>\n<!-- 17 -->\n<g id=\"node18\" class=\"node\">\n<title>17</title>\n<path fill=\"#e58139\" stroke=\"#000000\" d=\"M327.5,-565.5C327.5,-565.5 274.5,-565.5 274.5,-565.5 268.5,-565.5 262.5,-559.5 262.5,-553.5 262.5,-553.5 262.5,-524.5 262.5,-524.5 262.5,-518.5 268.5,-512.5 274.5,-512.5 274.5,-512.5 327.5,-512.5 327.5,-512.5 333.5,-512.5 339.5,-518.5 339.5,-524.5 339.5,-524.5 339.5,-553.5 339.5,-553.5 339.5,-559.5 333.5,-565.5 327.5,-565.5\"/>\n<text text-anchor=\"middle\" x=\"301\" y=\"-550.3\" font-family=\"Helvetica,sans-Serif\" font-size=\"14.00\" fill=\"#000000\">6</text>\n<text text-anchor=\"middle\" x=\"301\" y=\"-535.3\" font-family=\"Helvetica,sans-Serif\" font-size=\"14.00\" fill=\"#000000\">[6, 0]</text>\n<text text-anchor=\"middle\" x=\"301\" y=\"-520.3\" font-family=\"Helvetica,sans-Serif\" font-size=\"14.00\" fill=\"#000000\">democrat</text>\n</g>\n<!-- 13&#45;&gt;17 -->\n<g id=\"edge17\" class=\"edge\">\n<title>13&#45;&gt;17</title>\n<path fill=\"none\" stroke=\"#000000\" d=\"M284.1859,-608.9465C286.7543,-598.2621 289.5997,-586.4254 292.2081,-575.5742\"/>\n<polygon fill=\"#000000\" stroke=\"#000000\" points=\"295.6854,-576.0833 294.6197,-565.5422 288.8793,-574.4471 295.6854,-576.0833\"/>\n</g>\n<!-- 15 -->\n<g id=\"node16\" class=\"node\">\n<title>15</title>\n<path fill=\"#e58139\" stroke=\"#000000\" d=\"M164.5,-461.5C164.5,-461.5 111.5,-461.5 111.5,-461.5 105.5,-461.5 99.5,-455.5 99.5,-449.5 99.5,-449.5 99.5,-420.5 99.5,-420.5 99.5,-414.5 105.5,-408.5 111.5,-408.5 111.5,-408.5 164.5,-408.5 164.5,-408.5 170.5,-408.5 176.5,-414.5 176.5,-420.5 176.5,-420.5 176.5,-449.5 176.5,-449.5 176.5,-455.5 170.5,-461.5 164.5,-461.5\"/>\n<text text-anchor=\"middle\" x=\"138\" y=\"-446.3\" font-family=\"Helvetica,sans-Serif\" font-size=\"14.00\" fill=\"#000000\">1</text>\n<text text-anchor=\"middle\" x=\"138\" y=\"-431.3\" font-family=\"Helvetica,sans-Serif\" font-size=\"14.00\" fill=\"#000000\">[1, 0]</text>\n<text text-anchor=\"middle\" x=\"138\" y=\"-416.3\" font-family=\"Helvetica,sans-Serif\" font-size=\"14.00\" fill=\"#000000\">democrat</text>\n</g>\n<!-- 14&#45;&gt;15 -->\n<g id=\"edge15\" class=\"edge\">\n<title>14&#45;&gt;15</title>\n<path fill=\"none\" stroke=\"#000000\" d=\"M170.9556,-504.9465C165.8178,-494.0418 160.1145,-481.9368 154.9164,-470.9043\"/>\n<polygon fill=\"#000000\" stroke=\"#000000\" points=\"157.9338,-469.0966 150.5054,-461.5422 151.6015,-472.0802 157.9338,-469.0966\"/>\n</g>\n<!-- 16 -->\n<g id=\"node17\" class=\"node\">\n<title>16</title>\n<path fill=\"#399de5\" stroke=\"#000000\" d=\"M267,-461.5C267,-461.5 207,-461.5 207,-461.5 201,-461.5 195,-455.5 195,-449.5 195,-449.5 195,-420.5 195,-420.5 195,-414.5 201,-408.5 207,-408.5 207,-408.5 267,-408.5 267,-408.5 273,-408.5 279,-414.5 279,-420.5 279,-420.5 279,-449.5 279,-449.5 279,-455.5 273,-461.5 267,-461.5\"/>\n<text text-anchor=\"middle\" x=\"237\" y=\"-446.3\" font-family=\"Helvetica,sans-Serif\" font-size=\"14.00\" fill=\"#000000\">1</text>\n<text text-anchor=\"middle\" x=\"237\" y=\"-431.3\" font-family=\"Helvetica,sans-Serif\" font-size=\"14.00\" fill=\"#000000\">[0, 1]</text>\n<text text-anchor=\"middle\" x=\"237\" y=\"-416.3\" font-family=\"Helvetica,sans-Serif\" font-size=\"14.00\" fill=\"#000000\">republican</text>\n</g>\n<!-- 14&#45;&gt;16 -->\n<g id=\"edge16\" class=\"edge\">\n<title>14&#45;&gt;16</title>\n<path fill=\"none\" stroke=\"#000000\" d=\"M203.3719,-504.9465C208.6675,-493.9316 214.5518,-481.6922 219.8989,-470.5703\"/>\n<polygon fill=\"#000000\" stroke=\"#000000\" points=\"223.0607,-472.0712 224.2393,-461.5422 216.752,-469.0381 223.0607,-472.0712\"/>\n</g>\n<!-- 21 -->\n<g id=\"node22\" class=\"node\">\n<title>21</title>\n<path fill=\"#3d9fe6\" stroke=\"#000000\" d=\"M728.5,-989C728.5,-989 637.5,-989 637.5,-989 631.5,-989 625.5,-983 625.5,-977 625.5,-977 625.5,-933 625.5,-933 625.5,-927 631.5,-921 637.5,-921 637.5,-921 728.5,-921 728.5,-921 734.5,-921 740.5,-927 740.5,-933 740.5,-933 740.5,-977 740.5,-977 740.5,-983 734.5,-989 728.5,-989\"/>\n<text text-anchor=\"middle\" x=\"683\" y=\"-973.8\" font-family=\"Helvetica,sans-Serif\" font-size=\"14.00\" fill=\"#000000\">Vote_15 &lt;= 1.5</text>\n<text text-anchor=\"middle\" x=\"683\" y=\"-958.8\" font-family=\"Helvetica,sans-Serif\" font-size=\"14.00\" fill=\"#000000\">145</text>\n<text text-anchor=\"middle\" x=\"683\" y=\"-943.8\" font-family=\"Helvetica,sans-Serif\" font-size=\"14.00\" fill=\"#000000\">[3, 142]</text>\n<text text-anchor=\"middle\" x=\"683\" y=\"-928.8\" font-family=\"Helvetica,sans-Serif\" font-size=\"14.00\" fill=\"#000000\">republican</text>\n</g>\n<!-- 20&#45;&gt;21 -->\n<g id=\"edge21\" class=\"edge\">\n<title>20&#45;&gt;21</title>\n<path fill=\"none\" stroke=\"#000000\" d=\"M683,-1024.9465C683,-1016.776 683,-1007.9318 683,-999.3697\"/>\n<polygon fill=\"#000000\" stroke=\"#000000\" points=\"686.5001,-999.13 683,-989.13 679.5001,-999.13 686.5001,-999.13\"/>\n</g>\n<!-- 36 -->\n<g id=\"node37\" class=\"node\">\n<title>36</title>\n<path fill=\"#a1d0f3\" stroke=\"#000000\" d=\"M1163.5,-989C1163.5,-989 1080.5,-989 1080.5,-989 1074.5,-989 1068.5,-983 1068.5,-977 1068.5,-977 1068.5,-933 1068.5,-933 1068.5,-927 1074.5,-921 1080.5,-921 1080.5,-921 1163.5,-921 1163.5,-921 1169.5,-921 1175.5,-927 1175.5,-933 1175.5,-933 1175.5,-977 1175.5,-977 1175.5,-983 1169.5,-989 1163.5,-989\"/>\n<text text-anchor=\"middle\" x=\"1122\" y=\"-973.8\" font-family=\"Helvetica,sans-Serif\" font-size=\"14.00\" fill=\"#000000\">Vote_9 &lt;= 1.5</text>\n<text text-anchor=\"middle\" x=\"1122\" y=\"-958.8\" font-family=\"Helvetica,sans-Serif\" font-size=\"14.00\" fill=\"#000000\">32</text>\n<text text-anchor=\"middle\" x=\"1122\" y=\"-943.8\" font-family=\"Helvetica,sans-Serif\" font-size=\"14.00\" fill=\"#000000\">[11, 21]</text>\n<text text-anchor=\"middle\" x=\"1122\" y=\"-928.8\" font-family=\"Helvetica,sans-Serif\" font-size=\"14.00\" fill=\"#000000\">republican</text>\n</g>\n<!-- 20&#45;&gt;36 -->\n<g id=\"edge36\" class=\"edge\">\n<title>20&#45;&gt;36</title>\n<path fill=\"none\" stroke=\"#000000\" d=\"M740.843,-1045.2969C823.0362,-1025.8251 973.0898,-990.2771 1058.3496,-970.0789\"/>\n<polygon fill=\"#000000\" stroke=\"#000000\" points=\"1059.2402,-973.4649 1068.164,-967.7539 1057.6264,-966.6534 1059.2402,-973.4649\"/>\n</g>\n<!-- 22 -->\n<g id=\"node23\" class=\"node\">\n<title>22</title>\n<path fill=\"#3b9ee5\" stroke=\"#000000\" d=\"M658.5,-885C658.5,-885 575.5,-885 575.5,-885 569.5,-885 563.5,-879 563.5,-873 563.5,-873 563.5,-829 563.5,-829 563.5,-823 569.5,-817 575.5,-817 575.5,-817 658.5,-817 658.5,-817 664.5,-817 670.5,-823 670.5,-829 670.5,-829 670.5,-873 670.5,-873 670.5,-879 664.5,-885 658.5,-885\"/>\n<text text-anchor=\"middle\" x=\"617\" y=\"-869.8\" font-family=\"Helvetica,sans-Serif\" font-size=\"14.00\" fill=\"#000000\">Vote_3 &lt;= 1.5</text>\n<text text-anchor=\"middle\" x=\"617\" y=\"-854.8\" font-family=\"Helvetica,sans-Serif\" font-size=\"14.00\" fill=\"#000000\">132</text>\n<text text-anchor=\"middle\" x=\"617\" y=\"-839.8\" font-family=\"Helvetica,sans-Serif\" font-size=\"14.00\" fill=\"#000000\">[1, 131]</text>\n<text text-anchor=\"middle\" x=\"617\" y=\"-824.8\" font-family=\"Helvetica,sans-Serif\" font-size=\"14.00\" fill=\"#000000\">republican</text>\n</g>\n<!-- 21&#45;&gt;22 -->\n<g id=\"edge22\" class=\"edge\">\n<title>21&#45;&gt;22</title>\n<path fill=\"none\" stroke=\"#000000\" d=\"M661.3891,-920.9465C655.8622,-912.2373 649.8494,-902.7626 644.0854,-893.6801\"/>\n<polygon fill=\"#000000\" stroke=\"#000000\" points=\"646.9729,-891.6979 638.6594,-885.13 641.0626,-895.4487 646.9729,-891.6979\"/>\n</g>\n<!-- 29 -->\n<g id=\"node30\" class=\"node\">\n<title>29</title>\n<path fill=\"#5dafea\" stroke=\"#000000\" d=\"M795.5,-885C795.5,-885 704.5,-885 704.5,-885 698.5,-885 692.5,-879 692.5,-873 692.5,-873 692.5,-829 692.5,-829 692.5,-823 698.5,-817 704.5,-817 704.5,-817 795.5,-817 795.5,-817 801.5,-817 807.5,-823 807.5,-829 807.5,-829 807.5,-873 807.5,-873 807.5,-879 801.5,-885 795.5,-885\"/>\n<text text-anchor=\"middle\" x=\"750\" y=\"-869.8\" font-family=\"Helvetica,sans-Serif\" font-size=\"14.00\" fill=\"#000000\">Vote_10 &lt;= 1.5</text>\n<text text-anchor=\"middle\" x=\"750\" y=\"-854.8\" font-family=\"Helvetica,sans-Serif\" font-size=\"14.00\" fill=\"#000000\">13</text>\n<text text-anchor=\"middle\" x=\"750\" y=\"-839.8\" font-family=\"Helvetica,sans-Serif\" font-size=\"14.00\" fill=\"#000000\">[2, 11]</text>\n<text text-anchor=\"middle\" x=\"750\" y=\"-824.8\" font-family=\"Helvetica,sans-Serif\" font-size=\"14.00\" fill=\"#000000\">republican</text>\n</g>\n<!-- 21&#45;&gt;29 -->\n<g id=\"edge29\" class=\"edge\">\n<title>21&#45;&gt;29</title>\n<path fill=\"none\" stroke=\"#000000\" d=\"M704.9383,-920.9465C710.549,-912.2373 716.6529,-902.7626 722.5042,-893.6801\"/>\n<polygon fill=\"#000000\" stroke=\"#000000\" points=\"725.5389,-895.4321 728.0124,-885.13 719.6543,-891.641 725.5389,-895.4321\"/>\n</g>\n<!-- 23 -->\n<g id=\"node24\" class=\"node\">\n<title>23</title>\n<path fill=\"#399de5\" stroke=\"#000000\" d=\"M530,-773.5C530,-773.5 470,-773.5 470,-773.5 464,-773.5 458,-767.5 458,-761.5 458,-761.5 458,-732.5 458,-732.5 458,-726.5 464,-720.5 470,-720.5 470,-720.5 530,-720.5 530,-720.5 536,-720.5 542,-726.5 542,-732.5 542,-732.5 542,-761.5 542,-761.5 542,-767.5 536,-773.5 530,-773.5\"/>\n<text text-anchor=\"middle\" x=\"500\" y=\"-758.3\" font-family=\"Helvetica,sans-Serif\" font-size=\"14.00\" fill=\"#000000\">118</text>\n<text text-anchor=\"middle\" x=\"500\" y=\"-743.3\" font-family=\"Helvetica,sans-Serif\" font-size=\"14.00\" fill=\"#000000\">[0, 118]</text>\n<text text-anchor=\"middle\" x=\"500\" y=\"-728.3\" font-family=\"Helvetica,sans-Serif\" font-size=\"14.00\" fill=\"#000000\">republican</text>\n</g>\n<!-- 22&#45;&gt;23 -->\n<g id=\"edge23\" class=\"edge\">\n<title>22&#45;&gt;23</title>\n<path fill=\"none\" stroke=\"#000000\" d=\"M578.6898,-816.9465C565.4306,-805.1606 550.5942,-791.9726 537.4084,-780.2519\"/>\n<polygon fill=\"#000000\" stroke=\"#000000\" points=\"539.6593,-777.5699 529.8599,-773.5422 535.0088,-782.8018 539.6593,-777.5699\"/>\n</g>\n<!-- 24 -->\n<g id=\"node25\" class=\"node\">\n<title>24</title>\n<path fill=\"#48a5e7\" stroke=\"#000000\" d=\"M662.5,-781C662.5,-781 571.5,-781 571.5,-781 565.5,-781 559.5,-775 559.5,-769 559.5,-769 559.5,-725 559.5,-725 559.5,-719 565.5,-713 571.5,-713 571.5,-713 662.5,-713 662.5,-713 668.5,-713 674.5,-719 674.5,-725 674.5,-725 674.5,-769 674.5,-769 674.5,-775 668.5,-781 662.5,-781\"/>\n<text text-anchor=\"middle\" x=\"617\" y=\"-765.8\" font-family=\"Helvetica,sans-Serif\" font-size=\"14.00\" fill=\"#000000\">Vote_16 &lt;= 1.0</text>\n<text text-anchor=\"middle\" x=\"617\" y=\"-750.8\" font-family=\"Helvetica,sans-Serif\" font-size=\"14.00\" fill=\"#000000\">14</text>\n<text text-anchor=\"middle\" x=\"617\" y=\"-735.8\" font-family=\"Helvetica,sans-Serif\" font-size=\"14.00\" fill=\"#000000\">[1, 13]</text>\n<text text-anchor=\"middle\" x=\"617\" y=\"-720.8\" font-family=\"Helvetica,sans-Serif\" font-size=\"14.00\" fill=\"#000000\">republican</text>\n</g>\n<!-- 22&#45;&gt;24 -->\n<g id=\"edge24\" class=\"edge\">\n<title>22&#45;&gt;24</title>\n<path fill=\"none\" stroke=\"#000000\" d=\"M617,-816.9465C617,-808.776 617,-799.9318 617,-791.3697\"/>\n<polygon fill=\"#000000\" stroke=\"#000000\" points=\"620.5001,-791.13 617,-781.13 613.5001,-791.13 620.5001,-791.13\"/>\n</g>\n<!-- 25 -->\n<g id=\"node26\" class=\"node\">\n<title>25</title>\n<path fill=\"#ffffff\" stroke=\"#000000\" d=\"M544.5,-677C544.5,-677 461.5,-677 461.5,-677 455.5,-677 449.5,-671 449.5,-665 449.5,-665 449.5,-621 449.5,-621 449.5,-615 455.5,-609 461.5,-609 461.5,-609 544.5,-609 544.5,-609 550.5,-609 556.5,-615 556.5,-621 556.5,-621 556.5,-665 556.5,-665 556.5,-671 550.5,-677 544.5,-677\"/>\n<text text-anchor=\"middle\" x=\"503\" y=\"-661.8\" font-family=\"Helvetica,sans-Serif\" font-size=\"14.00\" fill=\"#000000\">Vote_8 &lt;= 1.5</text>\n<text text-anchor=\"middle\" x=\"503\" y=\"-646.8\" font-family=\"Helvetica,sans-Serif\" font-size=\"14.00\" fill=\"#000000\">2</text>\n<text text-anchor=\"middle\" x=\"503\" y=\"-631.8\" font-family=\"Helvetica,sans-Serif\" font-size=\"14.00\" fill=\"#000000\">[1, 1]</text>\n<text text-anchor=\"middle\" x=\"503\" y=\"-616.8\" font-family=\"Helvetica,sans-Serif\" font-size=\"14.00\" fill=\"#000000\">democrat</text>\n</g>\n<!-- 24&#45;&gt;25 -->\n<g id=\"edge25\" class=\"edge\">\n<title>24&#45;&gt;25</title>\n<path fill=\"none\" stroke=\"#000000\" d=\"M579.6721,-712.9465C569.535,-703.6986 558.4517,-693.5876 547.9417,-683.9994\"/>\n<polygon fill=\"#000000\" stroke=\"#000000\" points=\"550.1583,-681.284 540.4117,-677.13 545.4405,-686.4553 550.1583,-681.284\"/>\n</g>\n<!-- 28 -->\n<g id=\"node29\" class=\"node\">\n<title>28</title>\n<path fill=\"#399de5\" stroke=\"#000000\" d=\"M647,-669.5C647,-669.5 587,-669.5 587,-669.5 581,-669.5 575,-663.5 575,-657.5 575,-657.5 575,-628.5 575,-628.5 575,-622.5 581,-616.5 587,-616.5 587,-616.5 647,-616.5 647,-616.5 653,-616.5 659,-622.5 659,-628.5 659,-628.5 659,-657.5 659,-657.5 659,-663.5 653,-669.5 647,-669.5\"/>\n<text text-anchor=\"middle\" x=\"617\" y=\"-654.3\" font-family=\"Helvetica,sans-Serif\" font-size=\"14.00\" fill=\"#000000\">12</text>\n<text text-anchor=\"middle\" x=\"617\" y=\"-639.3\" font-family=\"Helvetica,sans-Serif\" font-size=\"14.00\" fill=\"#000000\">[0, 12]</text>\n<text text-anchor=\"middle\" x=\"617\" y=\"-624.3\" font-family=\"Helvetica,sans-Serif\" font-size=\"14.00\" fill=\"#000000\">republican</text>\n</g>\n<!-- 24&#45;&gt;28 -->\n<g id=\"edge28\" class=\"edge\">\n<title>24&#45;&gt;28</title>\n<path fill=\"none\" stroke=\"#000000\" d=\"M617,-712.9465C617,-702.2621 617,-690.4254 617,-679.5742\"/>\n<polygon fill=\"#000000\" stroke=\"#000000\" points=\"620.5001,-679.5421 617,-669.5422 613.5001,-679.5422 620.5001,-679.5421\"/>\n</g>\n<!-- 26 -->\n<g id=\"node27\" class=\"node\">\n<title>26</title>\n<path fill=\"#e58139\" stroke=\"#000000\" d=\"M450.5,-565.5C450.5,-565.5 397.5,-565.5 397.5,-565.5 391.5,-565.5 385.5,-559.5 385.5,-553.5 385.5,-553.5 385.5,-524.5 385.5,-524.5 385.5,-518.5 391.5,-512.5 397.5,-512.5 397.5,-512.5 450.5,-512.5 450.5,-512.5 456.5,-512.5 462.5,-518.5 462.5,-524.5 462.5,-524.5 462.5,-553.5 462.5,-553.5 462.5,-559.5 456.5,-565.5 450.5,-565.5\"/>\n<text text-anchor=\"middle\" x=\"424\" y=\"-550.3\" font-family=\"Helvetica,sans-Serif\" font-size=\"14.00\" fill=\"#000000\">1</text>\n<text text-anchor=\"middle\" x=\"424\" y=\"-535.3\" font-family=\"Helvetica,sans-Serif\" font-size=\"14.00\" fill=\"#000000\">[1, 0]</text>\n<text text-anchor=\"middle\" x=\"424\" y=\"-520.3\" font-family=\"Helvetica,sans-Serif\" font-size=\"14.00\" fill=\"#000000\">democrat</text>\n</g>\n<!-- 25&#45;&gt;26 -->\n<g id=\"edge26\" class=\"edge\">\n<title>25&#45;&gt;26</title>\n<path fill=\"none\" stroke=\"#000000\" d=\"M477.1324,-608.9465C468.5143,-597.6012 458.9094,-584.9567 450.2617,-573.5724\"/>\n<polygon fill=\"#000000\" stroke=\"#000000\" points=\"452.9979,-571.3882 444.1618,-565.5422 447.4237,-575.6224 452.9979,-571.3882\"/>\n</g>\n<!-- 27 -->\n<g id=\"node28\" class=\"node\">\n<title>27</title>\n<path fill=\"#399de5\" stroke=\"#000000\" d=\"M553,-565.5C553,-565.5 493,-565.5 493,-565.5 487,-565.5 481,-559.5 481,-553.5 481,-553.5 481,-524.5 481,-524.5 481,-518.5 487,-512.5 493,-512.5 493,-512.5 553,-512.5 553,-512.5 559,-512.5 565,-518.5 565,-524.5 565,-524.5 565,-553.5 565,-553.5 565,-559.5 559,-565.5 553,-565.5\"/>\n<text text-anchor=\"middle\" x=\"523\" y=\"-550.3\" font-family=\"Helvetica,sans-Serif\" font-size=\"14.00\" fill=\"#000000\">1</text>\n<text text-anchor=\"middle\" x=\"523\" y=\"-535.3\" font-family=\"Helvetica,sans-Serif\" font-size=\"14.00\" fill=\"#000000\">[0, 1]</text>\n<text text-anchor=\"middle\" x=\"523\" y=\"-520.3\" font-family=\"Helvetica,sans-Serif\" font-size=\"14.00\" fill=\"#000000\">republican</text>\n</g>\n<!-- 25&#45;&gt;27 -->\n<g id=\"edge27\" class=\"edge\">\n<title>25&#45;&gt;27</title>\n<path fill=\"none\" stroke=\"#000000\" d=\"M509.5487,-608.9465C511.6035,-598.2621 513.8797,-586.4254 515.9665,-575.5742\"/>\n<polygon fill=\"#000000\" stroke=\"#000000\" points=\"519.4442,-576.0232 517.8957,-565.5422 512.5702,-574.7012 519.4442,-576.0232\"/>\n</g>\n<!-- 30 -->\n<g id=\"node31\" class=\"node\">\n<title>30</title>\n<path fill=\"#ffffff\" stroke=\"#000000\" d=\"M795.5,-781C795.5,-781 704.5,-781 704.5,-781 698.5,-781 692.5,-775 692.5,-769 692.5,-769 692.5,-725 692.5,-725 692.5,-719 698.5,-713 704.5,-713 704.5,-713 795.5,-713 795.5,-713 801.5,-713 807.5,-719 807.5,-725 807.5,-725 807.5,-769 807.5,-769 807.5,-775 801.5,-781 795.5,-781\"/>\n<text text-anchor=\"middle\" x=\"750\" y=\"-765.8\" font-family=\"Helvetica,sans-Serif\" font-size=\"14.00\" fill=\"#000000\">Vote_16 &lt;= 1.5</text>\n<text text-anchor=\"middle\" x=\"750\" y=\"-750.8\" font-family=\"Helvetica,sans-Serif\" font-size=\"14.00\" fill=\"#000000\">4</text>\n<text text-anchor=\"middle\" x=\"750\" y=\"-735.8\" font-family=\"Helvetica,sans-Serif\" font-size=\"14.00\" fill=\"#000000\">[2, 2]</text>\n<text text-anchor=\"middle\" x=\"750\" y=\"-720.8\" font-family=\"Helvetica,sans-Serif\" font-size=\"14.00\" fill=\"#000000\">democrat</text>\n</g>\n<!-- 29&#45;&gt;30 -->\n<g id=\"edge30\" class=\"edge\">\n<title>29&#45;&gt;30</title>\n<path fill=\"none\" stroke=\"#000000\" d=\"M750,-816.9465C750,-808.776 750,-799.9318 750,-791.3697\"/>\n<polygon fill=\"#000000\" stroke=\"#000000\" points=\"753.5001,-791.13 750,-781.13 746.5001,-791.13 753.5001,-791.13\"/>\n</g>\n<!-- 35 -->\n<g id=\"node36\" class=\"node\">\n<title>35</title>\n<path fill=\"#399de5\" stroke=\"#000000\" d=\"M898,-773.5C898,-773.5 838,-773.5 838,-773.5 832,-773.5 826,-767.5 826,-761.5 826,-761.5 826,-732.5 826,-732.5 826,-726.5 832,-720.5 838,-720.5 838,-720.5 898,-720.5 898,-720.5 904,-720.5 910,-726.5 910,-732.5 910,-732.5 910,-761.5 910,-761.5 910,-767.5 904,-773.5 898,-773.5\"/>\n<text text-anchor=\"middle\" x=\"868\" y=\"-758.3\" font-family=\"Helvetica,sans-Serif\" font-size=\"14.00\" fill=\"#000000\">9</text>\n<text text-anchor=\"middle\" x=\"868\" y=\"-743.3\" font-family=\"Helvetica,sans-Serif\" font-size=\"14.00\" fill=\"#000000\">[0, 9]</text>\n<text text-anchor=\"middle\" x=\"868\" y=\"-728.3\" font-family=\"Helvetica,sans-Serif\" font-size=\"14.00\" fill=\"#000000\">republican</text>\n</g>\n<!-- 29&#45;&gt;35 -->\n<g id=\"edge35\" class=\"edge\">\n<title>29&#45;&gt;35</title>\n<path fill=\"none\" stroke=\"#000000\" d=\"M788.6376,-816.9465C802.0101,-805.1606 816.9734,-791.9726 830.2719,-780.2519\"/>\n<polygon fill=\"#000000\" stroke=\"#000000\" points=\"832.697,-782.7799 837.8849,-773.5422 828.0685,-777.5285 832.697,-782.7799\"/>\n</g>\n<!-- 31 -->\n<g id=\"node32\" class=\"node\">\n<title>31</title>\n<path fill=\"#9ccef2\" stroke=\"#000000\" d=\"M771.5,-677C771.5,-677 688.5,-677 688.5,-677 682.5,-677 676.5,-671 676.5,-665 676.5,-665 676.5,-621 676.5,-621 676.5,-615 682.5,-609 688.5,-609 688.5,-609 771.5,-609 771.5,-609 777.5,-609 783.5,-615 783.5,-621 783.5,-621 783.5,-665 783.5,-665 783.5,-671 777.5,-677 771.5,-677\"/>\n<text text-anchor=\"middle\" x=\"730\" y=\"-661.8\" font-family=\"Helvetica,sans-Serif\" font-size=\"14.00\" fill=\"#000000\">Vote_9 &lt;= 1.5</text>\n<text text-anchor=\"middle\" x=\"730\" y=\"-646.8\" font-family=\"Helvetica,sans-Serif\" font-size=\"14.00\" fill=\"#000000\">3</text>\n<text text-anchor=\"middle\" x=\"730\" y=\"-631.8\" font-family=\"Helvetica,sans-Serif\" font-size=\"14.00\" fill=\"#000000\">[1, 2]</text>\n<text text-anchor=\"middle\" x=\"730\" y=\"-616.8\" font-family=\"Helvetica,sans-Serif\" font-size=\"14.00\" fill=\"#000000\">republican</text>\n</g>\n<!-- 30&#45;&gt;31 -->\n<g id=\"edge31\" class=\"edge\">\n<title>30&#45;&gt;31</title>\n<path fill=\"none\" stroke=\"#000000\" d=\"M743.4513,-712.9465C741.8627,-704.6863 740.1418,-695.7374 738.4784,-687.0875\"/>\n<polygon fill=\"#000000\" stroke=\"#000000\" points=\"741.889,-686.2891 736.5635,-677.13 735.015,-687.6111 741.889,-686.2891\"/>\n</g>\n<!-- 34 -->\n<g id=\"node35\" class=\"node\">\n<title>34</title>\n<path fill=\"#e58139\" stroke=\"#000000\" d=\"M866.5,-669.5C866.5,-669.5 813.5,-669.5 813.5,-669.5 807.5,-669.5 801.5,-663.5 801.5,-657.5 801.5,-657.5 801.5,-628.5 801.5,-628.5 801.5,-622.5 807.5,-616.5 813.5,-616.5 813.5,-616.5 866.5,-616.5 866.5,-616.5 872.5,-616.5 878.5,-622.5 878.5,-628.5 878.5,-628.5 878.5,-657.5 878.5,-657.5 878.5,-663.5 872.5,-669.5 866.5,-669.5\"/>\n<text text-anchor=\"middle\" x=\"840\" y=\"-654.3\" font-family=\"Helvetica,sans-Serif\" font-size=\"14.00\" fill=\"#000000\">1</text>\n<text text-anchor=\"middle\" x=\"840\" y=\"-639.3\" font-family=\"Helvetica,sans-Serif\" font-size=\"14.00\" fill=\"#000000\">[1, 0]</text>\n<text text-anchor=\"middle\" x=\"840\" y=\"-624.3\" font-family=\"Helvetica,sans-Serif\" font-size=\"14.00\" fill=\"#000000\">democrat</text>\n</g>\n<!-- 30&#45;&gt;34 -->\n<g id=\"edge34\" class=\"edge\">\n<title>30&#45;&gt;34</title>\n<path fill=\"none\" stroke=\"#000000\" d=\"M779.4694,-712.9465C789.3828,-701.491 800.4424,-688.711 810.3682,-677.2412\"/>\n<polygon fill=\"#000000\" stroke=\"#000000\" points=\"813.1336,-679.3942 817.0308,-669.5422 807.8404,-674.8135 813.1336,-679.3942\"/>\n</g>\n<!-- 32 -->\n<g id=\"node33\" class=\"node\">\n<title>32</title>\n<path fill=\"#399de5\" stroke=\"#000000\" d=\"M668,-565.5C668,-565.5 608,-565.5 608,-565.5 602,-565.5 596,-559.5 596,-553.5 596,-553.5 596,-524.5 596,-524.5 596,-518.5 602,-512.5 608,-512.5 608,-512.5 668,-512.5 668,-512.5 674,-512.5 680,-518.5 680,-524.5 680,-524.5 680,-553.5 680,-553.5 680,-559.5 674,-565.5 668,-565.5\"/>\n<text text-anchor=\"middle\" x=\"638\" y=\"-550.3\" font-family=\"Helvetica,sans-Serif\" font-size=\"14.00\" fill=\"#000000\">2</text>\n<text text-anchor=\"middle\" x=\"638\" y=\"-535.3\" font-family=\"Helvetica,sans-Serif\" font-size=\"14.00\" fill=\"#000000\">[0, 2]</text>\n<text text-anchor=\"middle\" x=\"638\" y=\"-520.3\" font-family=\"Helvetica,sans-Serif\" font-size=\"14.00\" fill=\"#000000\">republican</text>\n</g>\n<!-- 31&#45;&gt;32 -->\n<g id=\"edge32\" class=\"edge\">\n<title>31&#45;&gt;32</title>\n<path fill=\"none\" stroke=\"#000000\" d=\"M699.8758,-608.9465C689.742,-597.491 678.4367,-584.711 668.2903,-573.2412\"/>\n<polygon fill=\"#000000\" stroke=\"#000000\" points=\"670.7269,-570.7131 661.4796,-565.5422 665.4839,-575.3512 670.7269,-570.7131\"/>\n</g>\n<!-- 33 -->\n<g id=\"node34\" class=\"node\">\n<title>33</title>\n<path fill=\"#e58139\" stroke=\"#000000\" d=\"M763.5,-565.5C763.5,-565.5 710.5,-565.5 710.5,-565.5 704.5,-565.5 698.5,-559.5 698.5,-553.5 698.5,-553.5 698.5,-524.5 698.5,-524.5 698.5,-518.5 704.5,-512.5 710.5,-512.5 710.5,-512.5 763.5,-512.5 763.5,-512.5 769.5,-512.5 775.5,-518.5 775.5,-524.5 775.5,-524.5 775.5,-553.5 775.5,-553.5 775.5,-559.5 769.5,-565.5 763.5,-565.5\"/>\n<text text-anchor=\"middle\" x=\"737\" y=\"-550.3\" font-family=\"Helvetica,sans-Serif\" font-size=\"14.00\" fill=\"#000000\">1</text>\n<text text-anchor=\"middle\" x=\"737\" y=\"-535.3\" font-family=\"Helvetica,sans-Serif\" font-size=\"14.00\" fill=\"#000000\">[1, 0]</text>\n<text text-anchor=\"middle\" x=\"737\" y=\"-520.3\" font-family=\"Helvetica,sans-Serif\" font-size=\"14.00\" fill=\"#000000\">democrat</text>\n</g>\n<!-- 31&#45;&gt;33 -->\n<g id=\"edge33\" class=\"edge\">\n<title>31&#45;&gt;33</title>\n<path fill=\"none\" stroke=\"#000000\" d=\"M732.2921,-608.9465C733.0112,-598.2621 733.8079,-586.4254 734.5383,-575.5742\"/>\n<polygon fill=\"#000000\" stroke=\"#000000\" points=\"738.034,-575.7547 735.2135,-565.5422 731.0498,-575.2845 738.034,-575.7547\"/>\n</g>\n<!-- 37 -->\n<g id=\"node38\" class=\"node\">\n<title>37</title>\n<path fill=\"#7ebfee\" stroke=\"#000000\" d=\"M1163.5,-885C1163.5,-885 1080.5,-885 1080.5,-885 1074.5,-885 1068.5,-879 1068.5,-873 1068.5,-873 1068.5,-829 1068.5,-829 1068.5,-823 1074.5,-817 1080.5,-817 1080.5,-817 1163.5,-817 1163.5,-817 1169.5,-817 1175.5,-823 1175.5,-829 1175.5,-829 1175.5,-873 1175.5,-873 1175.5,-879 1169.5,-885 1163.5,-885\"/>\n<text text-anchor=\"middle\" x=\"1122\" y=\"-869.8\" font-family=\"Helvetica,sans-Serif\" font-size=\"14.00\" fill=\"#000000\">Vote_3 &lt;= 1.5</text>\n<text text-anchor=\"middle\" x=\"1122\" y=\"-854.8\" font-family=\"Helvetica,sans-Serif\" font-size=\"14.00\" fill=\"#000000\">27</text>\n<text text-anchor=\"middle\" x=\"1122\" y=\"-839.8\" font-family=\"Helvetica,sans-Serif\" font-size=\"14.00\" fill=\"#000000\">[7, 20]</text>\n<text text-anchor=\"middle\" x=\"1122\" y=\"-824.8\" font-family=\"Helvetica,sans-Serif\" font-size=\"14.00\" fill=\"#000000\">republican</text>\n</g>\n<!-- 36&#45;&gt;37 -->\n<g id=\"edge37\" class=\"edge\">\n<title>36&#45;&gt;37</title>\n<path fill=\"none\" stroke=\"#000000\" d=\"M1122,-920.9465C1122,-912.776 1122,-903.9318 1122,-895.3697\"/>\n<polygon fill=\"#000000\" stroke=\"#000000\" points=\"1125.5001,-895.13 1122,-885.13 1118.5001,-895.13 1125.5001,-895.13\"/>\n</g>\n<!-- 56 -->\n<g id=\"node57\" class=\"node\">\n<title>56</title>\n<path fill=\"#eca06a\" stroke=\"#000000\" d=\"M1413.5,-885C1413.5,-885 1322.5,-885 1322.5,-885 1316.5,-885 1310.5,-879 1310.5,-873 1310.5,-873 1310.5,-829 1310.5,-829 1310.5,-823 1316.5,-817 1322.5,-817 1322.5,-817 1413.5,-817 1413.5,-817 1419.5,-817 1425.5,-823 1425.5,-829 1425.5,-829 1425.5,-873 1425.5,-873 1425.5,-879 1419.5,-885 1413.5,-885\"/>\n<text text-anchor=\"middle\" x=\"1368\" y=\"-869.8\" font-family=\"Helvetica,sans-Serif\" font-size=\"14.00\" fill=\"#000000\">Vote_13 &lt;= 1.5</text>\n<text text-anchor=\"middle\" x=\"1368\" y=\"-854.8\" font-family=\"Helvetica,sans-Serif\" font-size=\"14.00\" fill=\"#000000\">5</text>\n<text text-anchor=\"middle\" x=\"1368\" y=\"-839.8\" font-family=\"Helvetica,sans-Serif\" font-size=\"14.00\" fill=\"#000000\">[4, 1]</text>\n<text text-anchor=\"middle\" x=\"1368\" y=\"-824.8\" font-family=\"Helvetica,sans-Serif\" font-size=\"14.00\" fill=\"#000000\">democrat</text>\n</g>\n<!-- 36&#45;&gt;56 -->\n<g id=\"edge56\" class=\"edge\">\n<title>36&#45;&gt;56</title>\n<path fill=\"none\" stroke=\"#000000\" d=\"M1175.6818,-932.3053C1212.4591,-916.7571 1261.5126,-896.019 1300.873,-879.3789\"/>\n<polygon fill=\"#000000\" stroke=\"#000000\" points=\"1302.2934,-882.5784 1310.1412,-875.4606 1299.5675,-876.1309 1302.2934,-882.5784\"/>\n</g>\n<!-- 38 -->\n<g id=\"node39\" class=\"node\">\n<title>38</title>\n<path fill=\"#5aade9\" stroke=\"#000000\" d=\"M1103.5,-781C1103.5,-781 1012.5,-781 1012.5,-781 1006.5,-781 1000.5,-775 1000.5,-769 1000.5,-769 1000.5,-725 1000.5,-725 1000.5,-719 1006.5,-713 1012.5,-713 1012.5,-713 1103.5,-713 1103.5,-713 1109.5,-713 1115.5,-719 1115.5,-725 1115.5,-725 1115.5,-769 1115.5,-769 1115.5,-775 1109.5,-781 1103.5,-781\"/>\n<text text-anchor=\"middle\" x=\"1058\" y=\"-765.8\" font-family=\"Helvetica,sans-Serif\" font-size=\"14.00\" fill=\"#000000\">Vote_16 &lt;= 1.5</text>\n<text text-anchor=\"middle\" x=\"1058\" y=\"-750.8\" font-family=\"Helvetica,sans-Serif\" font-size=\"14.00\" fill=\"#000000\">21</text>\n<text text-anchor=\"middle\" x=\"1058\" y=\"-735.8\" font-family=\"Helvetica,sans-Serif\" font-size=\"14.00\" fill=\"#000000\">[3, 18]</text>\n<text text-anchor=\"middle\" x=\"1058\" y=\"-720.8\" font-family=\"Helvetica,sans-Serif\" font-size=\"14.00\" fill=\"#000000\">republican</text>\n</g>\n<!-- 37&#45;&gt;38 -->\n<g id=\"edge38\" class=\"edge\">\n<title>37&#45;&gt;38</title>\n<path fill=\"none\" stroke=\"#000000\" d=\"M1101.044,-816.9465C1095.6845,-808.2373 1089.8539,-798.7626 1084.2647,-789.6801\"/>\n<polygon fill=\"#000000\" stroke=\"#000000\" points=\"1087.2249,-787.8122 1079.0031,-781.13 1081.2633,-791.481 1087.2249,-787.8122\"/>\n</g>\n<!-- 53 -->\n<g id=\"node54\" class=\"node\">\n<title>53</title>\n<path fill=\"#f2c09c\" stroke=\"#000000\" d=\"M1228.5,-781C1228.5,-781 1145.5,-781 1145.5,-781 1139.5,-781 1133.5,-775 1133.5,-769 1133.5,-769 1133.5,-725 1133.5,-725 1133.5,-719 1139.5,-713 1145.5,-713 1145.5,-713 1228.5,-713 1228.5,-713 1234.5,-713 1240.5,-719 1240.5,-725 1240.5,-725 1240.5,-769 1240.5,-769 1240.5,-775 1234.5,-781 1228.5,-781\"/>\n<text text-anchor=\"middle\" x=\"1187\" y=\"-765.8\" font-family=\"Helvetica,sans-Serif\" font-size=\"14.00\" fill=\"#000000\">Vote_2 &lt;= 1.5</text>\n<text text-anchor=\"middle\" x=\"1187\" y=\"-750.8\" font-family=\"Helvetica,sans-Serif\" font-size=\"14.00\" fill=\"#000000\">6</text>\n<text text-anchor=\"middle\" x=\"1187\" y=\"-735.8\" font-family=\"Helvetica,sans-Serif\" font-size=\"14.00\" fill=\"#000000\">[4, 2]</text>\n<text text-anchor=\"middle\" x=\"1187\" y=\"-720.8\" font-family=\"Helvetica,sans-Serif\" font-size=\"14.00\" fill=\"#000000\">democrat</text>\n</g>\n<!-- 37&#45;&gt;53 -->\n<g id=\"edge53\" class=\"edge\">\n<title>37&#45;&gt;53</title>\n<path fill=\"none\" stroke=\"#000000\" d=\"M1143.2834,-816.9465C1148.7267,-808.2373 1154.6484,-798.7626 1160.325,-789.6801\"/>\n<polygon fill=\"#000000\" stroke=\"#000000\" points=\"1163.3367,-791.465 1165.6688,-781.13 1157.4007,-787.755 1163.3367,-791.465\"/>\n</g>\n<!-- 39 -->\n<g id=\"node40\" class=\"node\">\n<title>39</title>\n<path fill=\"#83c2ef\" stroke=\"#000000\" d=\"M999.5,-677C999.5,-677 908.5,-677 908.5,-677 902.5,-677 896.5,-671 896.5,-665 896.5,-665 896.5,-621 896.5,-621 896.5,-615 902.5,-609 908.5,-609 908.5,-609 999.5,-609 999.5,-609 1005.5,-609 1011.5,-615 1011.5,-621 1011.5,-621 1011.5,-665 1011.5,-665 1011.5,-671 1005.5,-677 999.5,-677\"/>\n<text text-anchor=\"middle\" x=\"954\" y=\"-661.8\" font-family=\"Helvetica,sans-Serif\" font-size=\"14.00\" fill=\"#000000\">Vote_13 &lt;= 1.5</text>\n<text text-anchor=\"middle\" x=\"954\" y=\"-646.8\" font-family=\"Helvetica,sans-Serif\" font-size=\"14.00\" fill=\"#000000\">11</text>\n<text text-anchor=\"middle\" x=\"954\" y=\"-631.8\" font-family=\"Helvetica,sans-Serif\" font-size=\"14.00\" fill=\"#000000\">[3, 8]</text>\n<text text-anchor=\"middle\" x=\"954\" y=\"-616.8\" font-family=\"Helvetica,sans-Serif\" font-size=\"14.00\" fill=\"#000000\">republican</text>\n</g>\n<!-- 38&#45;&gt;39 -->\n<g id=\"edge39\" class=\"edge\">\n<title>38&#45;&gt;39</title>\n<path fill=\"none\" stroke=\"#000000\" d=\"M1023.9465,-712.9465C1014.7884,-703.7884 1004.7838,-693.7838 995.2788,-684.2788\"/>\n<polygon fill=\"#000000\" stroke=\"#000000\" points=\"997.676,-681.7262 988.13,-677.13 992.7262,-686.676 997.676,-681.7262\"/>\n</g>\n<!-- 52 -->\n<g id=\"node53\" class=\"node\">\n<title>52</title>\n<path fill=\"#399de5\" stroke=\"#000000\" d=\"M1102,-669.5C1102,-669.5 1042,-669.5 1042,-669.5 1036,-669.5 1030,-663.5 1030,-657.5 1030,-657.5 1030,-628.5 1030,-628.5 1030,-622.5 1036,-616.5 1042,-616.5 1042,-616.5 1102,-616.5 1102,-616.5 1108,-616.5 1114,-622.5 1114,-628.5 1114,-628.5 1114,-657.5 1114,-657.5 1114,-663.5 1108,-669.5 1102,-669.5\"/>\n<text text-anchor=\"middle\" x=\"1072\" y=\"-654.3\" font-family=\"Helvetica,sans-Serif\" font-size=\"14.00\" fill=\"#000000\">10</text>\n<text text-anchor=\"middle\" x=\"1072\" y=\"-639.3\" font-family=\"Helvetica,sans-Serif\" font-size=\"14.00\" fill=\"#000000\">[0, 10]</text>\n<text text-anchor=\"middle\" x=\"1072\" y=\"-624.3\" font-family=\"Helvetica,sans-Serif\" font-size=\"14.00\" fill=\"#000000\">republican</text>\n</g>\n<!-- 38&#45;&gt;52 -->\n<g id=\"edge52\" class=\"edge\">\n<title>38&#45;&gt;52</title>\n<path fill=\"none\" stroke=\"#000000\" d=\"M1062.5841,-712.9465C1064.0224,-702.2621 1065.6158,-690.4254 1067.0765,-679.5742\"/>\n<polygon fill=\"#000000\" stroke=\"#000000\" points=\"1070.5615,-679.9197 1068.427,-669.5422 1063.6241,-678.9858 1070.5615,-679.9197\"/>\n</g>\n<!-- 40 -->\n<g id=\"node41\" class=\"node\">\n<title>40</title>\n<path fill=\"#e58139\" stroke=\"#000000\" d=\"M923.5,-565.5C923.5,-565.5 870.5,-565.5 870.5,-565.5 864.5,-565.5 858.5,-559.5 858.5,-553.5 858.5,-553.5 858.5,-524.5 858.5,-524.5 858.5,-518.5 864.5,-512.5 870.5,-512.5 870.5,-512.5 923.5,-512.5 923.5,-512.5 929.5,-512.5 935.5,-518.5 935.5,-524.5 935.5,-524.5 935.5,-553.5 935.5,-553.5 935.5,-559.5 929.5,-565.5 923.5,-565.5\"/>\n<text text-anchor=\"middle\" x=\"897\" y=\"-550.3\" font-family=\"Helvetica,sans-Serif\" font-size=\"14.00\" fill=\"#000000\">1</text>\n<text text-anchor=\"middle\" x=\"897\" y=\"-535.3\" font-family=\"Helvetica,sans-Serif\" font-size=\"14.00\" fill=\"#000000\">[1, 0]</text>\n<text text-anchor=\"middle\" x=\"897\" y=\"-520.3\" font-family=\"Helvetica,sans-Serif\" font-size=\"14.00\" fill=\"#000000\">democrat</text>\n</g>\n<!-- 39&#45;&gt;40 -->\n<g id=\"edge40\" class=\"edge\">\n<title>39&#45;&gt;40</title>\n<path fill=\"none\" stroke=\"#000000\" d=\"M935.3361,-608.9465C929.2991,-597.9316 922.5909,-585.6922 916.4953,-574.5703\"/>\n<polygon fill=\"#000000\" stroke=\"#000000\" points=\"919.4227,-572.6292 911.5471,-565.5422 913.2842,-575.9936 919.4227,-572.6292\"/>\n</g>\n<!-- 41 -->\n<g id=\"node42\" class=\"node\">\n<title>41</title>\n<path fill=\"#6ab6ec\" stroke=\"#000000\" d=\"M1056.5,-573C1056.5,-573 965.5,-573 965.5,-573 959.5,-573 953.5,-567 953.5,-561 953.5,-561 953.5,-517 953.5,-517 953.5,-511 959.5,-505 965.5,-505 965.5,-505 1056.5,-505 1056.5,-505 1062.5,-505 1068.5,-511 1068.5,-517 1068.5,-517 1068.5,-561 1068.5,-561 1068.5,-567 1062.5,-573 1056.5,-573\"/>\n<text text-anchor=\"middle\" x=\"1011\" y=\"-557.8\" font-family=\"Helvetica,sans-Serif\" font-size=\"14.00\" fill=\"#000000\">Vote_10 &lt;= 1.5</text>\n<text text-anchor=\"middle\" x=\"1011\" y=\"-542.8\" font-family=\"Helvetica,sans-Serif\" font-size=\"14.00\" fill=\"#000000\">10</text>\n<text text-anchor=\"middle\" x=\"1011\" y=\"-527.8\" font-family=\"Helvetica,sans-Serif\" font-size=\"14.00\" fill=\"#000000\">[2, 8]</text>\n<text text-anchor=\"middle\" x=\"1011\" y=\"-512.8\" font-family=\"Helvetica,sans-Serif\" font-size=\"14.00\" fill=\"#000000\">republican</text>\n</g>\n<!-- 39&#45;&gt;41 -->\n<g id=\"edge41\" class=\"edge\">\n<title>39&#45;&gt;41</title>\n<path fill=\"none\" stroke=\"#000000\" d=\"M972.6639,-608.9465C977.388,-600.3271 982.5231,-590.9579 987.454,-581.9611\"/>\n<polygon fill=\"#000000\" stroke=\"#000000\" points=\"990.5571,-583.5815 992.2941,-573.13 984.4186,-580.2171 990.5571,-583.5815\"/>\n</g>\n<!-- 42 -->\n<g id=\"node43\" class=\"node\">\n<title>42</title>\n<path fill=\"#9ccef2\" stroke=\"#000000\" d=\"M997.5,-469C997.5,-469 906.5,-469 906.5,-469 900.5,-469 894.5,-463 894.5,-457 894.5,-457 894.5,-413 894.5,-413 894.5,-407 900.5,-401 906.5,-401 906.5,-401 997.5,-401 997.5,-401 1003.5,-401 1009.5,-407 1009.5,-413 1009.5,-413 1009.5,-457 1009.5,-457 1009.5,-463 1003.5,-469 997.5,-469\"/>\n<text text-anchor=\"middle\" x=\"952\" y=\"-453.8\" font-family=\"Helvetica,sans-Serif\" font-size=\"14.00\" fill=\"#000000\">Vote_15 &lt;= 0.5</text>\n<text text-anchor=\"middle\" x=\"952\" y=\"-438.8\" font-family=\"Helvetica,sans-Serif\" font-size=\"14.00\" fill=\"#000000\">6</text>\n<text text-anchor=\"middle\" x=\"952\" y=\"-423.8\" font-family=\"Helvetica,sans-Serif\" font-size=\"14.00\" fill=\"#000000\">[2, 4]</text>\n<text text-anchor=\"middle\" x=\"952\" y=\"-408.8\" font-family=\"Helvetica,sans-Serif\" font-size=\"14.00\" fill=\"#000000\">republican</text>\n</g>\n<!-- 41&#45;&gt;42 -->\n<g id=\"edge42\" class=\"edge\">\n<title>41&#45;&gt;42</title>\n<path fill=\"none\" stroke=\"#000000\" d=\"M991.6812,-504.9465C986.7913,-496.3271 981.4761,-486.9579 976.3722,-477.9611\"/>\n<polygon fill=\"#000000\" stroke=\"#000000\" points=\"979.3408,-476.1008 971.3622,-469.13 973.2524,-479.5549 979.3408,-476.1008\"/>\n</g>\n<!-- 51 -->\n<g id=\"node52\" class=\"node\">\n<title>51</title>\n<path fill=\"#399de5\" stroke=\"#000000\" d=\"M1100,-461.5C1100,-461.5 1040,-461.5 1040,-461.5 1034,-461.5 1028,-455.5 1028,-449.5 1028,-449.5 1028,-420.5 1028,-420.5 1028,-414.5 1034,-408.5 1040,-408.5 1040,-408.5 1100,-408.5 1100,-408.5 1106,-408.5 1112,-414.5 1112,-420.5 1112,-420.5 1112,-449.5 1112,-449.5 1112,-455.5 1106,-461.5 1100,-461.5\"/>\n<text text-anchor=\"middle\" x=\"1070\" y=\"-446.3\" font-family=\"Helvetica,sans-Serif\" font-size=\"14.00\" fill=\"#000000\">4</text>\n<text text-anchor=\"middle\" x=\"1070\" y=\"-431.3\" font-family=\"Helvetica,sans-Serif\" font-size=\"14.00\" fill=\"#000000\">[0, 4]</text>\n<text text-anchor=\"middle\" x=\"1070\" y=\"-416.3\" font-family=\"Helvetica,sans-Serif\" font-size=\"14.00\" fill=\"#000000\">republican</text>\n</g>\n<!-- 41&#45;&gt;51 -->\n<g id=\"edge51\" class=\"edge\">\n<title>41&#45;&gt;51</title>\n<path fill=\"none\" stroke=\"#000000\" d=\"M1030.3188,-504.9465C1036.5676,-493.9316 1043.5112,-481.6922 1049.8207,-470.5703\"/>\n<polygon fill=\"#000000\" stroke=\"#000000\" points=\"1053.0523,-471.967 1054.9424,-461.5422 1046.9638,-468.513 1053.0523,-471.967\"/>\n</g>\n<!-- 43 -->\n<g id=\"node44\" class=\"node\">\n<title>43</title>\n<path fill=\"#399de5\" stroke=\"#000000\" d=\"M924,-357.5C924,-357.5 864,-357.5 864,-357.5 858,-357.5 852,-351.5 852,-345.5 852,-345.5 852,-316.5 852,-316.5 852,-310.5 858,-304.5 864,-304.5 864,-304.5 924,-304.5 924,-304.5 930,-304.5 936,-310.5 936,-316.5 936,-316.5 936,-345.5 936,-345.5 936,-351.5 930,-357.5 924,-357.5\"/>\n<text text-anchor=\"middle\" x=\"894\" y=\"-342.3\" font-family=\"Helvetica,sans-Serif\" font-size=\"14.00\" fill=\"#000000\">1</text>\n<text text-anchor=\"middle\" x=\"894\" y=\"-327.3\" font-family=\"Helvetica,sans-Serif\" font-size=\"14.00\" fill=\"#000000\">[0, 1]</text>\n<text text-anchor=\"middle\" x=\"894\" y=\"-312.3\" font-family=\"Helvetica,sans-Serif\" font-size=\"14.00\" fill=\"#000000\">republican</text>\n</g>\n<!-- 42&#45;&gt;43 -->\n<g id=\"edge43\" class=\"edge\">\n<title>42&#45;&gt;43</title>\n<path fill=\"none\" stroke=\"#000000\" d=\"M933.0086,-400.9465C926.8657,-389.9316 920.0399,-377.6922 913.8373,-366.5703\"/>\n<polygon fill=\"#000000\" stroke=\"#000000\" points=\"916.7299,-364.5711 908.8024,-357.5422 910.6163,-367.9806 916.7299,-364.5711\"/>\n</g>\n<!-- 44 -->\n<g id=\"node45\" class=\"node\">\n<title>44</title>\n<path fill=\"#bddef6\" stroke=\"#000000\" d=\"M1056.5,-365C1056.5,-365 965.5,-365 965.5,-365 959.5,-365 953.5,-359 953.5,-353 953.5,-353 953.5,-309 953.5,-309 953.5,-303 959.5,-297 965.5,-297 965.5,-297 1056.5,-297 1056.5,-297 1062.5,-297 1068.5,-303 1068.5,-309 1068.5,-309 1068.5,-353 1068.5,-353 1068.5,-359 1062.5,-365 1056.5,-365\"/>\n<text text-anchor=\"middle\" x=\"1011\" y=\"-349.8\" font-family=\"Helvetica,sans-Serif\" font-size=\"14.00\" fill=\"#000000\">Vote_16 &lt;= 0.5</text>\n<text text-anchor=\"middle\" x=\"1011\" y=\"-334.8\" font-family=\"Helvetica,sans-Serif\" font-size=\"14.00\" fill=\"#000000\">5</text>\n<text text-anchor=\"middle\" x=\"1011\" y=\"-319.8\" font-family=\"Helvetica,sans-Serif\" font-size=\"14.00\" fill=\"#000000\">[2, 3]</text>\n<text text-anchor=\"middle\" x=\"1011\" y=\"-304.8\" font-family=\"Helvetica,sans-Serif\" font-size=\"14.00\" fill=\"#000000\">republican</text>\n</g>\n<!-- 42&#45;&gt;44 -->\n<g id=\"edge44\" class=\"edge\">\n<title>42&#45;&gt;44</title>\n<path fill=\"none\" stroke=\"#000000\" d=\"M971.3188,-400.9465C976.2087,-392.3271 981.5239,-382.9579 986.6278,-373.9611\"/>\n<polygon fill=\"#000000\" stroke=\"#000000\" points=\"989.7476,-375.5549 991.6378,-365.13 983.6592,-372.1008 989.7476,-375.5549\"/>\n</g>\n<!-- 45 -->\n<g id=\"node46\" class=\"node\">\n<title>45</title>\n<path fill=\"#e58139\" stroke=\"#000000\" d=\"M982.5,-253.5C982.5,-253.5 929.5,-253.5 929.5,-253.5 923.5,-253.5 917.5,-247.5 917.5,-241.5 917.5,-241.5 917.5,-212.5 917.5,-212.5 917.5,-206.5 923.5,-200.5 929.5,-200.5 929.5,-200.5 982.5,-200.5 982.5,-200.5 988.5,-200.5 994.5,-206.5 994.5,-212.5 994.5,-212.5 994.5,-241.5 994.5,-241.5 994.5,-247.5 988.5,-253.5 982.5,-253.5\"/>\n<text text-anchor=\"middle\" x=\"956\" y=\"-238.3\" font-family=\"Helvetica,sans-Serif\" font-size=\"14.00\" fill=\"#000000\">1</text>\n<text text-anchor=\"middle\" x=\"956\" y=\"-223.3\" font-family=\"Helvetica,sans-Serif\" font-size=\"14.00\" fill=\"#000000\">[1, 0]</text>\n<text text-anchor=\"middle\" x=\"956\" y=\"-208.3\" font-family=\"Helvetica,sans-Serif\" font-size=\"14.00\" fill=\"#000000\">democrat</text>\n</g>\n<!-- 44&#45;&gt;45 -->\n<g id=\"edge45\" class=\"edge\">\n<title>44&#45;&gt;45</title>\n<path fill=\"none\" stroke=\"#000000\" d=\"M992.9909,-296.9465C987.1658,-285.9316 980.693,-273.6922 974.8112,-262.5703\"/>\n<polygon fill=\"#000000\" stroke=\"#000000\" points=\"977.8057,-260.7459 970.0367,-253.5422 971.6178,-264.0184 977.8057,-260.7459\"/>\n</g>\n<!-- 46 -->\n<g id=\"node47\" class=\"node\">\n<title>46</title>\n<path fill=\"#7bbeee\" stroke=\"#000000\" d=\"M1107.5,-261C1107.5,-261 1024.5,-261 1024.5,-261 1018.5,-261 1012.5,-255 1012.5,-249 1012.5,-249 1012.5,-205 1012.5,-205 1012.5,-199 1018.5,-193 1024.5,-193 1024.5,-193 1107.5,-193 1107.5,-193 1113.5,-193 1119.5,-199 1119.5,-205 1119.5,-205 1119.5,-249 1119.5,-249 1119.5,-255 1113.5,-261 1107.5,-261\"/>\n<text text-anchor=\"middle\" x=\"1066\" y=\"-245.8\" font-family=\"Helvetica,sans-Serif\" font-size=\"14.00\" fill=\"#000000\">Vote_2 &lt;= 1.5</text>\n<text text-anchor=\"middle\" x=\"1066\" y=\"-230.8\" font-family=\"Helvetica,sans-Serif\" font-size=\"14.00\" fill=\"#000000\">4</text>\n<text text-anchor=\"middle\" x=\"1066\" y=\"-215.8\" font-family=\"Helvetica,sans-Serif\" font-size=\"14.00\" fill=\"#000000\">[1, 3]</text>\n<text text-anchor=\"middle\" x=\"1066\" y=\"-200.8\" font-family=\"Helvetica,sans-Serif\" font-size=\"14.00\" fill=\"#000000\">republican</text>\n</g>\n<!-- 44&#45;&gt;46 -->\n<g id=\"edge46\" class=\"edge\">\n<title>44&#45;&gt;46</title>\n<path fill=\"none\" stroke=\"#000000\" d=\"M1029.0091,-296.9465C1033.5199,-288.4169 1038.4191,-279.153 1043.1314,-270.2424\"/>\n<polygon fill=\"#000000\" stroke=\"#000000\" points=\"1046.3694,-271.6062 1047.9505,-261.13 1040.1815,-268.3337 1046.3694,-271.6062\"/>\n</g>\n<!-- 47 -->\n<g id=\"node48\" class=\"node\">\n<title>47</title>\n<path fill=\"#ffffff\" stroke=\"#000000\" d=\"M1050.5,-157C1050.5,-157 967.5,-157 967.5,-157 961.5,-157 955.5,-151 955.5,-145 955.5,-145 955.5,-101 955.5,-101 955.5,-95 961.5,-89 967.5,-89 967.5,-89 1050.5,-89 1050.5,-89 1056.5,-89 1062.5,-95 1062.5,-101 1062.5,-101 1062.5,-145 1062.5,-145 1062.5,-151 1056.5,-157 1050.5,-157\"/>\n<text text-anchor=\"middle\" x=\"1009\" y=\"-141.8\" font-family=\"Helvetica,sans-Serif\" font-size=\"14.00\" fill=\"#000000\">Vote_1 &lt;= 1.5</text>\n<text text-anchor=\"middle\" x=\"1009\" y=\"-126.8\" font-family=\"Helvetica,sans-Serif\" font-size=\"14.00\" fill=\"#000000\">2</text>\n<text text-anchor=\"middle\" x=\"1009\" y=\"-111.8\" font-family=\"Helvetica,sans-Serif\" font-size=\"14.00\" fill=\"#000000\">[1, 1]</text>\n<text text-anchor=\"middle\" x=\"1009\" y=\"-96.8\" font-family=\"Helvetica,sans-Serif\" font-size=\"14.00\" fill=\"#000000\">democrat</text>\n</g>\n<!-- 46&#45;&gt;47 -->\n<g id=\"edge47\" class=\"edge\">\n<title>46&#45;&gt;47</title>\n<path fill=\"none\" stroke=\"#000000\" d=\"M1047.3361,-192.9465C1042.612,-184.3271 1037.4769,-174.9579 1032.546,-165.9611\"/>\n<polygon fill=\"#000000\" stroke=\"#000000\" points=\"1035.5814,-164.2171 1027.7059,-157.13 1029.4429,-167.5815 1035.5814,-164.2171\"/>\n</g>\n<!-- 50 -->\n<g id=\"node51\" class=\"node\">\n<title>50</title>\n<path fill=\"#399de5\" stroke=\"#000000\" d=\"M1153,-149.5C1153,-149.5 1093,-149.5 1093,-149.5 1087,-149.5 1081,-143.5 1081,-137.5 1081,-137.5 1081,-108.5 1081,-108.5 1081,-102.5 1087,-96.5 1093,-96.5 1093,-96.5 1153,-96.5 1153,-96.5 1159,-96.5 1165,-102.5 1165,-108.5 1165,-108.5 1165,-137.5 1165,-137.5 1165,-143.5 1159,-149.5 1153,-149.5\"/>\n<text text-anchor=\"middle\" x=\"1123\" y=\"-134.3\" font-family=\"Helvetica,sans-Serif\" font-size=\"14.00\" fill=\"#000000\">2</text>\n<text text-anchor=\"middle\" x=\"1123\" y=\"-119.3\" font-family=\"Helvetica,sans-Serif\" font-size=\"14.00\" fill=\"#000000\">[0, 2]</text>\n<text text-anchor=\"middle\" x=\"1123\" y=\"-104.3\" font-family=\"Helvetica,sans-Serif\" font-size=\"14.00\" fill=\"#000000\">republican</text>\n</g>\n<!-- 46&#45;&gt;50 -->\n<g id=\"edge50\" class=\"edge\">\n<title>46&#45;&gt;50</title>\n<path fill=\"none\" stroke=\"#000000\" d=\"M1084.6639,-192.9465C1090.7009,-181.9316 1097.4091,-169.6922 1103.5047,-158.5703\"/>\n<polygon fill=\"#000000\" stroke=\"#000000\" points=\"1106.7158,-159.9936 1108.4529,-149.5422 1100.5773,-156.6292 1106.7158,-159.9936\"/>\n</g>\n<!-- 48 -->\n<g id=\"node49\" class=\"node\">\n<title>48</title>\n<path fill=\"#e58139\" stroke=\"#000000\" d=\"M986.5,-53C986.5,-53 933.5,-53 933.5,-53 927.5,-53 921.5,-47 921.5,-41 921.5,-41 921.5,-12 921.5,-12 921.5,-6 927.5,0 933.5,0 933.5,0 986.5,0 986.5,0 992.5,0 998.5,-6 998.5,-12 998.5,-12 998.5,-41 998.5,-41 998.5,-47 992.5,-53 986.5,-53\"/>\n<text text-anchor=\"middle\" x=\"960\" y=\"-37.8\" font-family=\"Helvetica,sans-Serif\" font-size=\"14.00\" fill=\"#000000\">1</text>\n<text text-anchor=\"middle\" x=\"960\" y=\"-22.8\" font-family=\"Helvetica,sans-Serif\" font-size=\"14.00\" fill=\"#000000\">[1, 0]</text>\n<text text-anchor=\"middle\" x=\"960\" y=\"-7.8\" font-family=\"Helvetica,sans-Serif\" font-size=\"14.00\" fill=\"#000000\">democrat</text>\n</g>\n<!-- 47&#45;&gt;48 -->\n<g id=\"edge48\" class=\"edge\">\n<title>47&#45;&gt;48</title>\n<path fill=\"none\" stroke=\"#000000\" d=\"M991.7244,-88.9777C987.3538,-80.3702 982.6462,-71.0992 978.23,-62.402\"/>\n<polygon fill=\"#000000\" stroke=\"#000000\" points=\"981.2304,-60.5802 973.5821,-53.2485 974.9889,-63.7495 981.2304,-60.5802\"/>\n</g>\n<!-- 49 -->\n<g id=\"node50\" class=\"node\">\n<title>49</title>\n<path fill=\"#399de5\" stroke=\"#000000\" d=\"M1089,-53C1089,-53 1029,-53 1029,-53 1023,-53 1017,-47 1017,-41 1017,-41 1017,-12 1017,-12 1017,-6 1023,0 1029,0 1029,0 1089,0 1089,0 1095,0 1101,-6 1101,-12 1101,-12 1101,-41 1101,-41 1101,-47 1095,-53 1089,-53\"/>\n<text text-anchor=\"middle\" x=\"1059\" y=\"-37.8\" font-family=\"Helvetica,sans-Serif\" font-size=\"14.00\" fill=\"#000000\">1</text>\n<text text-anchor=\"middle\" x=\"1059\" y=\"-22.8\" font-family=\"Helvetica,sans-Serif\" font-size=\"14.00\" fill=\"#000000\">[0, 1]</text>\n<text text-anchor=\"middle\" x=\"1059\" y=\"-7.8\" font-family=\"Helvetica,sans-Serif\" font-size=\"14.00\" fill=\"#000000\">republican</text>\n</g>\n<!-- 47&#45;&gt;49 -->\n<g id=\"edge49\" class=\"edge\">\n<title>47&#45;&gt;49</title>\n<path fill=\"none\" stroke=\"#000000\" d=\"M1026.6281,-88.9777C1031.088,-80.3702 1035.8916,-71.0992 1040.3979,-62.402\"/>\n<polygon fill=\"#000000\" stroke=\"#000000\" points=\"1043.6478,-63.7376 1045.1407,-53.2485 1037.4325,-60.5172 1043.6478,-63.7376\"/>\n</g>\n<!-- 54 -->\n<g id=\"node55\" class=\"node\">\n<title>54</title>\n<path fill=\"#399de5\" stroke=\"#000000\" d=\"M1204,-669.5C1204,-669.5 1144,-669.5 1144,-669.5 1138,-669.5 1132,-663.5 1132,-657.5 1132,-657.5 1132,-628.5 1132,-628.5 1132,-622.5 1138,-616.5 1144,-616.5 1144,-616.5 1204,-616.5 1204,-616.5 1210,-616.5 1216,-622.5 1216,-628.5 1216,-628.5 1216,-657.5 1216,-657.5 1216,-663.5 1210,-669.5 1204,-669.5\"/>\n<text text-anchor=\"middle\" x=\"1174\" y=\"-654.3\" font-family=\"Helvetica,sans-Serif\" font-size=\"14.00\" fill=\"#000000\">2</text>\n<text text-anchor=\"middle\" x=\"1174\" y=\"-639.3\" font-family=\"Helvetica,sans-Serif\" font-size=\"14.00\" fill=\"#000000\">[0, 2]</text>\n<text text-anchor=\"middle\" x=\"1174\" y=\"-624.3\" font-family=\"Helvetica,sans-Serif\" font-size=\"14.00\" fill=\"#000000\">republican</text>\n</g>\n<!-- 53&#45;&gt;54 -->\n<g id=\"edge54\" class=\"edge\">\n<title>53&#45;&gt;54</title>\n<path fill=\"none\" stroke=\"#000000\" d=\"M1182.7433,-712.9465C1181.4078,-702.2621 1179.9282,-690.4254 1178.5718,-679.5742\"/>\n<polygon fill=\"#000000\" stroke=\"#000000\" points=\"1182.0312,-679.0308 1177.3178,-669.5422 1175.0852,-679.8991 1182.0312,-679.0308\"/>\n</g>\n<!-- 55 -->\n<g id=\"node56\" class=\"node\">\n<title>55</title>\n<path fill=\"#e58139\" stroke=\"#000000\" d=\"M1299.5,-669.5C1299.5,-669.5 1246.5,-669.5 1246.5,-669.5 1240.5,-669.5 1234.5,-663.5 1234.5,-657.5 1234.5,-657.5 1234.5,-628.5 1234.5,-628.5 1234.5,-622.5 1240.5,-616.5 1246.5,-616.5 1246.5,-616.5 1299.5,-616.5 1299.5,-616.5 1305.5,-616.5 1311.5,-622.5 1311.5,-628.5 1311.5,-628.5 1311.5,-657.5 1311.5,-657.5 1311.5,-663.5 1305.5,-669.5 1299.5,-669.5\"/>\n<text text-anchor=\"middle\" x=\"1273\" y=\"-654.3\" font-family=\"Helvetica,sans-Serif\" font-size=\"14.00\" fill=\"#000000\">4</text>\n<text text-anchor=\"middle\" x=\"1273\" y=\"-639.3\" font-family=\"Helvetica,sans-Serif\" font-size=\"14.00\" fill=\"#000000\">[4, 0]</text>\n<text text-anchor=\"middle\" x=\"1273\" y=\"-624.3\" font-family=\"Helvetica,sans-Serif\" font-size=\"14.00\" fill=\"#000000\">democrat</text>\n</g>\n<!-- 53&#45;&gt;55 -->\n<g id=\"edge55\" class=\"edge\">\n<title>53&#45;&gt;55</title>\n<path fill=\"none\" stroke=\"#000000\" d=\"M1215.1596,-712.9465C1224.5413,-701.6012 1234.9973,-688.9567 1244.4113,-677.5724\"/>\n<polygon fill=\"#000000\" stroke=\"#000000\" points=\"1247.3763,-679.4791 1251.0517,-669.5422 1241.9817,-675.0182 1247.3763,-679.4791\"/>\n</g>\n<!-- 57 -->\n<g id=\"node58\" class=\"node\">\n<title>57</title>\n<path fill=\"#ffffff\" stroke=\"#000000\" d=\"M1409.5,-781C1409.5,-781 1326.5,-781 1326.5,-781 1320.5,-781 1314.5,-775 1314.5,-769 1314.5,-769 1314.5,-725 1314.5,-725 1314.5,-719 1320.5,-713 1326.5,-713 1326.5,-713 1409.5,-713 1409.5,-713 1415.5,-713 1421.5,-719 1421.5,-725 1421.5,-725 1421.5,-769 1421.5,-769 1421.5,-775 1415.5,-781 1409.5,-781\"/>\n<text text-anchor=\"middle\" x=\"1368\" y=\"-765.8\" font-family=\"Helvetica,sans-Serif\" font-size=\"14.00\" fill=\"#000000\">Vote_3 &lt;= 1.5</text>\n<text text-anchor=\"middle\" x=\"1368\" y=\"-750.8\" font-family=\"Helvetica,sans-Serif\" font-size=\"14.00\" fill=\"#000000\">2</text>\n<text text-anchor=\"middle\" x=\"1368\" y=\"-735.8\" font-family=\"Helvetica,sans-Serif\" font-size=\"14.00\" fill=\"#000000\">[1, 1]</text>\n<text text-anchor=\"middle\" x=\"1368\" y=\"-720.8\" font-family=\"Helvetica,sans-Serif\" font-size=\"14.00\" fill=\"#000000\">democrat</text>\n</g>\n<!-- 56&#45;&gt;57 -->\n<g id=\"edge57\" class=\"edge\">\n<title>56&#45;&gt;57</title>\n<path fill=\"none\" stroke=\"#000000\" d=\"M1368,-816.9465C1368,-808.776 1368,-799.9318 1368,-791.3697\"/>\n<polygon fill=\"#000000\" stroke=\"#000000\" points=\"1371.5001,-791.13 1368,-781.13 1364.5001,-791.13 1371.5001,-791.13\"/>\n</g>\n<!-- 60 -->\n<g id=\"node61\" class=\"node\">\n<title>60</title>\n<path fill=\"#e58139\" stroke=\"#000000\" d=\"M1504.5,-773.5C1504.5,-773.5 1451.5,-773.5 1451.5,-773.5 1445.5,-773.5 1439.5,-767.5 1439.5,-761.5 1439.5,-761.5 1439.5,-732.5 1439.5,-732.5 1439.5,-726.5 1445.5,-720.5 1451.5,-720.5 1451.5,-720.5 1504.5,-720.5 1504.5,-720.5 1510.5,-720.5 1516.5,-726.5 1516.5,-732.5 1516.5,-732.5 1516.5,-761.5 1516.5,-761.5 1516.5,-767.5 1510.5,-773.5 1504.5,-773.5\"/>\n<text text-anchor=\"middle\" x=\"1478\" y=\"-758.3\" font-family=\"Helvetica,sans-Serif\" font-size=\"14.00\" fill=\"#000000\">3</text>\n<text text-anchor=\"middle\" x=\"1478\" y=\"-743.3\" font-family=\"Helvetica,sans-Serif\" font-size=\"14.00\" fill=\"#000000\">[3, 0]</text>\n<text text-anchor=\"middle\" x=\"1478\" y=\"-728.3\" font-family=\"Helvetica,sans-Serif\" font-size=\"14.00\" fill=\"#000000\">democrat</text>\n</g>\n<!-- 56&#45;&gt;60 -->\n<g id=\"edge60\" class=\"edge\">\n<title>56&#45;&gt;60</title>\n<path fill=\"none\" stroke=\"#000000\" d=\"M1404.0181,-816.9465C1416.3675,-805.2707 1430.1722,-792.219 1442.4817,-780.5809\"/>\n<polygon fill=\"#000000\" stroke=\"#000000\" points=\"1445.0646,-782.9556 1449.9266,-773.5422 1440.2555,-777.869 1445.0646,-782.9556\"/>\n</g>\n<!-- 58 -->\n<g id=\"node59\" class=\"node\">\n<title>58</title>\n<path fill=\"#e58139\" stroke=\"#000000\" d=\"M1394.5,-669.5C1394.5,-669.5 1341.5,-669.5 1341.5,-669.5 1335.5,-669.5 1329.5,-663.5 1329.5,-657.5 1329.5,-657.5 1329.5,-628.5 1329.5,-628.5 1329.5,-622.5 1335.5,-616.5 1341.5,-616.5 1341.5,-616.5 1394.5,-616.5 1394.5,-616.5 1400.5,-616.5 1406.5,-622.5 1406.5,-628.5 1406.5,-628.5 1406.5,-657.5 1406.5,-657.5 1406.5,-663.5 1400.5,-669.5 1394.5,-669.5\"/>\n<text text-anchor=\"middle\" x=\"1368\" y=\"-654.3\" font-family=\"Helvetica,sans-Serif\" font-size=\"14.00\" fill=\"#000000\">1</text>\n<text text-anchor=\"middle\" x=\"1368\" y=\"-639.3\" font-family=\"Helvetica,sans-Serif\" font-size=\"14.00\" fill=\"#000000\">[1, 0]</text>\n<text text-anchor=\"middle\" x=\"1368\" y=\"-624.3\" font-family=\"Helvetica,sans-Serif\" font-size=\"14.00\" fill=\"#000000\">democrat</text>\n</g>\n<!-- 57&#45;&gt;58 -->\n<g id=\"edge58\" class=\"edge\">\n<title>57&#45;&gt;58</title>\n<path fill=\"none\" stroke=\"#000000\" d=\"M1368,-712.9465C1368,-702.2621 1368,-690.4254 1368,-679.5742\"/>\n<polygon fill=\"#000000\" stroke=\"#000000\" points=\"1371.5001,-679.5421 1368,-669.5422 1364.5001,-679.5422 1371.5001,-679.5421\"/>\n</g>\n<!-- 59 -->\n<g id=\"node60\" class=\"node\">\n<title>59</title>\n<path fill=\"#399de5\" stroke=\"#000000\" d=\"M1497,-669.5C1497,-669.5 1437,-669.5 1437,-669.5 1431,-669.5 1425,-663.5 1425,-657.5 1425,-657.5 1425,-628.5 1425,-628.5 1425,-622.5 1431,-616.5 1437,-616.5 1437,-616.5 1497,-616.5 1497,-616.5 1503,-616.5 1509,-622.5 1509,-628.5 1509,-628.5 1509,-657.5 1509,-657.5 1509,-663.5 1503,-669.5 1497,-669.5\"/>\n<text text-anchor=\"middle\" x=\"1467\" y=\"-654.3\" font-family=\"Helvetica,sans-Serif\" font-size=\"14.00\" fill=\"#000000\">1</text>\n<text text-anchor=\"middle\" x=\"1467\" y=\"-639.3\" font-family=\"Helvetica,sans-Serif\" font-size=\"14.00\" fill=\"#000000\">[0, 1]</text>\n<text text-anchor=\"middle\" x=\"1467\" y=\"-624.3\" font-family=\"Helvetica,sans-Serif\" font-size=\"14.00\" fill=\"#000000\">republican</text>\n</g>\n<!-- 57&#45;&gt;59 -->\n<g id=\"edge59\" class=\"edge\">\n<title>57&#45;&gt;59</title>\n<path fill=\"none\" stroke=\"#000000\" d=\"M1400.4163,-712.9465C1411.4259,-701.3809 1423.7207,-688.4652 1434.7196,-676.9107\"/>\n<polygon fill=\"#000000\" stroke=\"#000000\" points=\"1437.3741,-679.1984 1441.7339,-669.5422 1432.304,-674.372 1437.3741,-679.1984\"/>\n</g>\n</g>\n</svg>\n"
          },
          "metadata": {},
          "execution_count": 41
        }
      ]
    },
    {
      "cell_type": "markdown",
      "metadata": {
        "id": "gsiwZZ6Z_S-i"
      },
      "source": [
        "e os valores de informações mútua e importância dos atributos."
      ]
    },
    {
      "cell_type": "code",
      "metadata": {
        "colab": {
          "base_uri": "https://localhost:8080/"
        },
        "id": "QnMfsbK6UJYL",
        "outputId": "2d3dd961-17b0-483f-8963-a8d8f35c3047"
      },
      "source": [
        "print('Mutual information and the attribute with higher Mutual Info: \\n')\n",
        "print(mutual_info_classif(X, y, discrete_features=True))\n",
        "print(X.columns[ mutual_info_classif(X, y, discrete_features=True).argmax() ])\n",
        "print()\n",
        "print('Feature Importances and the attribute with higher Feature Importances: \\n')\n",
        "print(clf.feature_importances_)\n",
        "print(X.columns[ clf.feature_importances_.argmax() ])"
      ],
      "execution_count": null,
      "outputs": [
        {
          "output_type": "stream",
          "name": "stdout",
          "text": [
            "Mutual information and the attribute with higher Mutual Info: \n",
            "\n",
            "[8.73872293e-02 2.49962316e-04 2.99660509e-01 5.12951549e-01\n",
            " 2.92820364e-01 1.02055280e-01 1.37023508e-01 2.35826473e-01\n",
            " 2.15261646e-01 3.52248115e-03 7.43690939e-02 2.59411124e-01\n",
            " 1.57899640e-01 2.32400929e-01 1.52771138e-01 7.06865546e-02]\n",
            "Vote_4\n",
            "\n",
            "Feature Importances and the attribute with higher Feature Importances: \n",
            "\n",
            "[9.69769930e-03 1.53546906e-02 2.81948666e-02 8.27422108e-01\n",
            " 0.00000000e+00 8.08141609e-04 0.00000000e+00 4.84884965e-03\n",
            " 2.95109584e-02 1.41486946e-02 2.65326564e-02 1.20136023e-02\n",
            " 8.55160757e-03 0.00000000e+00 7.38511255e-03 1.55310124e-02]\n",
            "Vote_4\n"
          ]
        }
      ]
    },
    {
      "cell_type": "markdown",
      "metadata": {
        "id": "pNT8osyq_ak1"
      },
      "source": [
        "Vamos então aplicar os classificadores que aprendemos até aqui variando alguns de seus parâmetros."
      ]
    },
    {
      "cell_type": "code",
      "metadata": {
        "colab": {
          "base_uri": "https://localhost:8080/"
        },
        "id": "59WHDVSCUXdG",
        "outputId": "2bfad96c-11b4-44e4-c287-67d3644ca964"
      },
      "source": [
        "from sklearn.linear_model import LogisticRegression\n",
        "from sklearn.neighbors import KNeighborsClassifier\n",
        "from sklearn.tree import DecisionTreeClassifier\n",
        "from sklearn.ensemble import RandomForestClassifier\n",
        "\n",
        "from sklearn.model_selection import train_test_split\n",
        "from sklearn import neighbors\n",
        "from sklearn.preprocessing import MinMaxScaler\n",
        "from sklearn.preprocessing import OneHotEncoder, LabelEncoder\n",
        "from sklearn.model_selection import GridSearchCV\n",
        "from sklearn.metrics import classification_report\n",
        "\n",
        "X_train, X_test, y_train, y_test = train_test_split(X, y, stratify=y, test_size=0.3, random_state=123)\n",
        "\n",
        "base_estimators = [ LogisticRegression(),\n",
        "                    neighbors.KNeighborsClassifier(),\n",
        "                    DecisionTreeClassifier(),\n",
        "                    RandomForestClassifier() ]\n",
        "\n",
        "param_grids = [ {},\n",
        "                {'n_neighbors': [3,4,5,6,7]},\n",
        "                {'max_depth': [2,3,4,5,6,7,8,9,10], 'criterion': ['gini','entropy']},\n",
        "                {'n_estimators':[3,4,5,6]}]\n",
        "\n",
        "save_estimators = []\n",
        "\n",
        "for i in range(len(base_estimators)):\n",
        "  clf = GridSearchCV(base_estimators[i], param_grids[i], cv=5, scoring='accuracy')\n",
        "  clf.fit(X_train, y_train)\n",
        "  # print(clf.cv_results_)\n",
        "  print(clf.best_estimator_)\n",
        "  save_estimators.append(clf.best_estimator_)\n",
        "  print()\n",
        "  print(\"Detailed classification report:\")\n",
        "  print()\n",
        "  y_pred = clf.predict(X_test)\n",
        "  print(classification_report(y_test, y_pred))\n",
        "  print()\n",
        "\n",
        "\n"
      ],
      "execution_count": null,
      "outputs": [
        {
          "output_type": "stream",
          "name": "stdout",
          "text": [
            "LogisticRegression()\n",
            "\n",
            "Detailed classification report:\n",
            "\n",
            "              precision    recall  f1-score   support\n",
            "\n",
            "    democrat       0.93      0.97      0.95        80\n",
            "  republican       0.96      0.88      0.92        51\n",
            "\n",
            "    accuracy                           0.94       131\n",
            "   macro avg       0.94      0.93      0.93       131\n",
            "weighted avg       0.94      0.94      0.94       131\n",
            "\n",
            "\n",
            "KNeighborsClassifier(n_neighbors=4)\n",
            "\n",
            "Detailed classification report:\n",
            "\n",
            "              precision    recall  f1-score   support\n",
            "\n",
            "    democrat       0.94      0.94      0.94        80\n",
            "  republican       0.90      0.90      0.90        51\n",
            "\n",
            "    accuracy                           0.92       131\n",
            "   macro avg       0.92      0.92      0.92       131\n",
            "weighted avg       0.92      0.92      0.92       131\n",
            "\n",
            "\n",
            "DecisionTreeClassifier(max_depth=2)\n",
            "\n",
            "Detailed classification report:\n",
            "\n",
            "              precision    recall  f1-score   support\n",
            "\n",
            "    democrat       0.95      0.96      0.96        80\n",
            "  republican       0.94      0.92      0.93        51\n",
            "\n",
            "    accuracy                           0.95       131\n",
            "   macro avg       0.95      0.94      0.94       131\n",
            "weighted avg       0.95      0.95      0.95       131\n",
            "\n",
            "\n",
            "RandomForestClassifier(n_estimators=5)\n",
            "\n",
            "Detailed classification report:\n",
            "\n",
            "              precision    recall  f1-score   support\n",
            "\n",
            "    democrat       0.92      0.97      0.95        80\n",
            "  republican       0.96      0.86      0.91        51\n",
            "\n",
            "    accuracy                           0.93       131\n",
            "   macro avg       0.94      0.92      0.93       131\n",
            "weighted avg       0.93      0.93      0.93       131\n",
            "\n",
            "\n"
          ]
        }
      ]
    },
    {
      "cell_type": "markdown",
      "metadata": {
        "id": "HwXpG1wEBRIe"
      },
      "source": [
        "Com os parâmetros acima o melhor estimador foi a Árvore de Decisão com o critério `gini` de seleção dos atributos e com uma profundidade máxima de 2 da árvore."
      ]
    },
    {
      "cell_type": "code",
      "metadata": {
        "colab": {
          "base_uri": "https://localhost:8080/"
        },
        "id": "PugVY0KaARIe",
        "outputId": "5856d52a-aed4-401b-adb7-c82e40709cee"
      },
      "source": [
        "[x.score(X_test, y_test) for x in save_estimators]"
      ],
      "execution_count": null,
      "outputs": [
        {
          "output_type": "execute_result",
          "data": {
            "text/plain": [
              "[0.9389312977099237,\n",
              " 0.9236641221374046,\n",
              " 0.9465648854961832,\n",
              " 0.9312977099236641]"
            ]
          },
          "metadata": {},
          "execution_count": 44
        }
      ]
    },
    {
      "cell_type": "code",
      "metadata": {
        "colab": {
          "base_uri": "https://localhost:8080/"
        },
        "id": "j9FBylUOAvi-",
        "outputId": "f55c20fe-6d3c-4512-ed7a-3a559021ea65"
      },
      "source": [
        "best = np.array( [x.score(X_test, y_test) for x in save_estimators] ).argmax()\n",
        "save_estimators[best]"
      ],
      "execution_count": null,
      "outputs": [
        {
          "output_type": "execute_result",
          "data": {
            "text/plain": [
              "DecisionTreeClassifier(max_depth=2)"
            ]
          },
          "metadata": {},
          "execution_count": 45
        }
      ]
    },
    {
      "cell_type": "code",
      "metadata": {
        "colab": {
          "base_uri": "https://localhost:8080/",
          "height": 380
        },
        "id": "nwrdbTK-VYS6",
        "outputId": "f2789fcd-2b7d-4e51-903f-544f1103dfaf"
      },
      "source": [
        "clf = save_estimators[best]\n",
        "\n",
        "import graphviz\n",
        "dot_data = tree.export_graphviz(clf, out_file=None,\n",
        "                     feature_names=list(df_labels.columns.values),\n",
        "                     class_names=list(sorted(df['class'].unique())),\n",
        "                     filled=True, rounded=True,\n",
        "                     special_characters=False,\n",
        "                     proportion=False, impurity=False, node_ids=False,label=None)\n",
        "graph = graphviz.Source(dot_data)\n",
        "graph.render('graph_cartoons') # para gravação em .pdf\n",
        "graph"
      ],
      "execution_count": null,
      "outputs": [
        {
          "output_type": "execute_result",
          "data": {
            "text/plain": [
              "<graphviz.files.Source at 0x7f05ad55fb50>"
            ],
            "image/svg+xml": "<?xml version=\"1.0\" encoding=\"UTF-8\" standalone=\"no\"?>\n<!DOCTYPE svg PUBLIC \"-//W3C//DTD SVG 1.1//EN\"\n \"http://www.w3.org/Graphics/SVG/1.1/DTD/svg11.dtd\">\n<!-- Generated by graphviz version 2.40.1 (20161225.0304)\n -->\n<!-- Title: Tree Pages: 1 -->\n<svg width=\"400pt\" height=\"269pt\"\n viewBox=\"0.00 0.00 399.50 269.00\" xmlns=\"http://www.w3.org/2000/svg\" xmlns:xlink=\"http://www.w3.org/1999/xlink\">\n<g id=\"graph0\" class=\"graph\" transform=\"scale(1 1) rotate(0) translate(4 265)\">\n<title>Tree</title>\n<polygon fill=\"#ffffff\" stroke=\"transparent\" points=\"-4,4 -4,-265 395.5,-265 395.5,4 -4,4\"/>\n<!-- 0 -->\n<g id=\"node1\" class=\"node\">\n<title>0</title>\n<path fill=\"#f5d0b5\" stroke=\"#000000\" d=\"M231,-261C231,-261 148,-261 148,-261 142,-261 136,-255 136,-249 136,-249 136,-205 136,-205 136,-199 142,-193 148,-193 148,-193 231,-193 231,-193 237,-193 243,-199 243,-205 243,-205 243,-249 243,-249 243,-255 237,-261 231,-261\"/>\n<text text-anchor=\"middle\" x=\"189.5\" y=\"-245.8\" font-family=\"Helvetica,sans-Serif\" font-size=\"14.00\" fill=\"#000000\">Vote_4 &lt;= 1.5</text>\n<text text-anchor=\"middle\" x=\"189.5\" y=\"-230.8\" font-family=\"Helvetica,sans-Serif\" font-size=\"14.00\" fill=\"#000000\">304</text>\n<text text-anchor=\"middle\" x=\"189.5\" y=\"-215.8\" font-family=\"Helvetica,sans-Serif\" font-size=\"14.00\" fill=\"#000000\">[187, 117]</text>\n<text text-anchor=\"middle\" x=\"189.5\" y=\"-200.8\" font-family=\"Helvetica,sans-Serif\" font-size=\"14.00\" fill=\"#000000\">democrat</text>\n</g>\n<!-- 1 -->\n<g id=\"node2\" class=\"node\">\n<title>1</title>\n<path fill=\"#e5823a\" stroke=\"#000000\" d=\"M167,-157C167,-157 84,-157 84,-157 78,-157 72,-151 72,-145 72,-145 72,-101 72,-101 72,-95 78,-89 84,-89 84,-89 167,-89 167,-89 173,-89 179,-95 179,-101 179,-101 179,-145 179,-145 179,-151 173,-157 167,-157\"/>\n<text text-anchor=\"middle\" x=\"125.5\" y=\"-141.8\" font-family=\"Helvetica,sans-Serif\" font-size=\"14.00\" fill=\"#000000\">Vote_3 &lt;= 1.5</text>\n<text text-anchor=\"middle\" x=\"125.5\" y=\"-126.8\" font-family=\"Helvetica,sans-Serif\" font-size=\"14.00\" fill=\"#000000\">177</text>\n<text text-anchor=\"middle\" x=\"125.5\" y=\"-111.8\" font-family=\"Helvetica,sans-Serif\" font-size=\"14.00\" fill=\"#000000\">[176, 1]</text>\n<text text-anchor=\"middle\" x=\"125.5\" y=\"-96.8\" font-family=\"Helvetica,sans-Serif\" font-size=\"14.00\" fill=\"#000000\">democrat</text>\n</g>\n<!-- 0&#45;&gt;1 -->\n<g id=\"edge1\" class=\"edge\">\n<title>0&#45;&gt;1</title>\n<path fill=\"none\" stroke=\"#000000\" d=\"M168.544,-192.9465C163.1845,-184.2373 157.3539,-174.7626 151.7647,-165.6801\"/>\n<polygon fill=\"#000000\" stroke=\"#000000\" points=\"154.7249,-163.8122 146.5031,-157.13 148.7633,-167.481 154.7249,-163.8122\"/>\n<text text-anchor=\"middle\" x=\"140.7126\" y=\"-177.7502\" font-family=\"Helvetica,sans-Serif\" font-size=\"14.00\" fill=\"#000000\">True</text>\n</g>\n<!-- 4 -->\n<g id=\"node5\" class=\"node\">\n<title>4</title>\n<path fill=\"#4ca6e7\" stroke=\"#000000\" d=\"M300,-157C300,-157 209,-157 209,-157 203,-157 197,-151 197,-145 197,-145 197,-101 197,-101 197,-95 203,-89 209,-89 209,-89 300,-89 300,-89 306,-89 312,-95 312,-101 312,-101 312,-145 312,-145 312,-151 306,-157 300,-157\"/>\n<text text-anchor=\"middle\" x=\"254.5\" y=\"-141.8\" font-family=\"Helvetica,sans-Serif\" font-size=\"14.00\" fill=\"#000000\">Vote_11 &lt;= 1.5</text>\n<text text-anchor=\"middle\" x=\"254.5\" y=\"-126.8\" font-family=\"Helvetica,sans-Serif\" font-size=\"14.00\" fill=\"#000000\">127</text>\n<text text-anchor=\"middle\" x=\"254.5\" y=\"-111.8\" font-family=\"Helvetica,sans-Serif\" font-size=\"14.00\" fill=\"#000000\">[11, 116]</text>\n<text text-anchor=\"middle\" x=\"254.5\" y=\"-96.8\" font-family=\"Helvetica,sans-Serif\" font-size=\"14.00\" fill=\"#000000\">republican</text>\n</g>\n<!-- 0&#45;&gt;4 -->\n<g id=\"edge4\" class=\"edge\">\n<title>0&#45;&gt;4</title>\n<path fill=\"none\" stroke=\"#000000\" d=\"M210.7834,-192.9465C216.2267,-184.2373 222.1484,-174.7626 227.825,-165.6801\"/>\n<polygon fill=\"#000000\" stroke=\"#000000\" points=\"230.8367,-167.465 233.1688,-157.13 224.9007,-163.755 230.8367,-167.465\"/>\n<text text-anchor=\"middle\" x=\"238.7902\" y=\"-177.7898\" font-family=\"Helvetica,sans-Serif\" font-size=\"14.00\" fill=\"#000000\">False</text>\n</g>\n<!-- 2 -->\n<g id=\"node3\" class=\"node\">\n<title>2</title>\n<path fill=\"#e68742\" stroke=\"#000000\" d=\"M65,-53C65,-53 12,-53 12,-53 6,-53 0,-47 0,-41 0,-41 0,-12 0,-12 0,-6 6,0 12,0 12,0 65,0 65,0 71,0 77,-6 77,-12 77,-12 77,-41 77,-41 77,-47 71,-53 65,-53\"/>\n<text text-anchor=\"middle\" x=\"38.5\" y=\"-37.8\" font-family=\"Helvetica,sans-Serif\" font-size=\"14.00\" fill=\"#000000\">23</text>\n<text text-anchor=\"middle\" x=\"38.5\" y=\"-22.8\" font-family=\"Helvetica,sans-Serif\" font-size=\"14.00\" fill=\"#000000\">[22, 1]</text>\n<text text-anchor=\"middle\" x=\"38.5\" y=\"-7.8\" font-family=\"Helvetica,sans-Serif\" font-size=\"14.00\" fill=\"#000000\">democrat</text>\n</g>\n<!-- 1&#45;&gt;2 -->\n<g id=\"edge2\" class=\"edge\">\n<title>1&#45;&gt;2</title>\n<path fill=\"none\" stroke=\"#000000\" d=\"M94.8271,-88.9777C86.5715,-79.8207 77.6391,-69.9129 69.3728,-60.744\"/>\n<polygon fill=\"#000000\" stroke=\"#000000\" points=\"71.9108,-58.3321 62.6152,-53.2485 66.7117,-63.0193 71.9108,-58.3321\"/>\n</g>\n<!-- 3 -->\n<g id=\"node4\" class=\"node\">\n<title>3</title>\n<path fill=\"#e58139\" stroke=\"#000000\" d=\"M160,-53C160,-53 107,-53 107,-53 101,-53 95,-47 95,-41 95,-41 95,-12 95,-12 95,-6 101,0 107,0 107,0 160,0 160,0 166,0 172,-6 172,-12 172,-12 172,-41 172,-41 172,-47 166,-53 160,-53\"/>\n<text text-anchor=\"middle\" x=\"133.5\" y=\"-37.8\" font-family=\"Helvetica,sans-Serif\" font-size=\"14.00\" fill=\"#000000\">154</text>\n<text text-anchor=\"middle\" x=\"133.5\" y=\"-22.8\" font-family=\"Helvetica,sans-Serif\" font-size=\"14.00\" fill=\"#000000\">[154, 0]</text>\n<text text-anchor=\"middle\" x=\"133.5\" y=\"-7.8\" font-family=\"Helvetica,sans-Serif\" font-size=\"14.00\" fill=\"#000000\">democrat</text>\n</g>\n<!-- 1&#45;&gt;3 -->\n<g id=\"edge3\" class=\"edge\">\n<title>1&#45;&gt;3</title>\n<path fill=\"none\" stroke=\"#000000\" d=\"M128.3205,-88.9777C129.0113,-80.6449 129.7537,-71.6903 130.4545,-63.2364\"/>\n<polygon fill=\"#000000\" stroke=\"#000000\" points=\"133.9443,-63.5035 131.2825,-53.2485 126.9682,-62.9251 133.9443,-63.5035\"/>\n</g>\n<!-- 5 -->\n<g id=\"node6\" class=\"node\">\n<title>5</title>\n<path fill=\"#3fa0e6\" stroke=\"#000000\" d=\"M277.5,-53C277.5,-53 217.5,-53 217.5,-53 211.5,-53 205.5,-47 205.5,-41 205.5,-41 205.5,-12 205.5,-12 205.5,-6 211.5,0 217.5,0 217.5,0 277.5,0 277.5,0 283.5,0 289.5,-6 289.5,-12 289.5,-12 289.5,-41 289.5,-41 289.5,-47 283.5,-53 277.5,-53\"/>\n<text text-anchor=\"middle\" x=\"247.5\" y=\"-37.8\" font-family=\"Helvetica,sans-Serif\" font-size=\"14.00\" fill=\"#000000\">106</text>\n<text text-anchor=\"middle\" x=\"247.5\" y=\"-22.8\" font-family=\"Helvetica,sans-Serif\" font-size=\"14.00\" fill=\"#000000\">[3, 103]</text>\n<text text-anchor=\"middle\" x=\"247.5\" y=\"-7.8\" font-family=\"Helvetica,sans-Serif\" font-size=\"14.00\" fill=\"#000000\">republican</text>\n</g>\n<!-- 4&#45;&gt;5 -->\n<g id=\"edge5\" class=\"edge\">\n<title>4&#45;&gt;5</title>\n<path fill=\"none\" stroke=\"#000000\" d=\"M252.0321,-88.9777C251.4276,-80.6449 250.778,-71.6903 250.1648,-63.2364\"/>\n<polygon fill=\"#000000\" stroke=\"#000000\" points=\"253.6547,-62.969 249.4403,-53.2485 246.6731,-63.4755 253.6547,-62.969\"/>\n</g>\n<!-- 6 -->\n<g id=\"node7\" class=\"node\">\n<title>6</title>\n<path fill=\"#b3d9f5\" stroke=\"#000000\" d=\"M379.5,-53C379.5,-53 319.5,-53 319.5,-53 313.5,-53 307.5,-47 307.5,-41 307.5,-41 307.5,-12 307.5,-12 307.5,-6 313.5,0 319.5,0 319.5,0 379.5,0 379.5,0 385.5,0 391.5,-6 391.5,-12 391.5,-12 391.5,-41 391.5,-41 391.5,-47 385.5,-53 379.5,-53\"/>\n<text text-anchor=\"middle\" x=\"349.5\" y=\"-37.8\" font-family=\"Helvetica,sans-Serif\" font-size=\"14.00\" fill=\"#000000\">21</text>\n<text text-anchor=\"middle\" x=\"349.5\" y=\"-22.8\" font-family=\"Helvetica,sans-Serif\" font-size=\"14.00\" fill=\"#000000\">[8, 13]</text>\n<text text-anchor=\"middle\" x=\"349.5\" y=\"-7.8\" font-family=\"Helvetica,sans-Serif\" font-size=\"14.00\" fill=\"#000000\">republican</text>\n</g>\n<!-- 4&#45;&gt;6 -->\n<g id=\"edge6\" class=\"edge\">\n<title>4&#45;&gt;6</title>\n<path fill=\"none\" stroke=\"#000000\" d=\"M287.9934,-88.9777C297.0982,-79.7292 306.957,-69.7147 316.0589,-60.4691\"/>\n<polygon fill=\"#000000\" stroke=\"#000000\" points=\"318.646,-62.8302 323.1673,-53.2485 313.6576,-57.9193 318.646,-62.8302\"/>\n</g>\n</g>\n</svg>\n"
          },
          "metadata": {},
          "execution_count": 46
        }
      ]
    },
    {
      "cell_type": "markdown",
      "metadata": {
        "id": "hvdu6gtXWzNb"
      },
      "source": [
        "Você pode acessar a documentação dos dados (http://archive.ics.uci.edu/ml/machine-learning-databases/voting-records/house-votes-84.names) e verificar a que eleições se referem os votos acima:\n",
        "\n",
        "* Vote_4: physician-fee-freeze\n",
        "* Vote_3: adoption-of-the-budget-resolution\n",
        "* Vote_11: synfuels-corporation-cutback\n",
        "\n",
        "E, de fato, seria suficiente ainda somente a informação do Vote_4: physician-fee-freeze para classificar os congressistas. Em 1984, o governo federal impõe um congelamento de um ano nos pagamentos para os serviços de saúde, sendo os serviços de saúde  um tema polêmico que ainda hoje divide republicamos e democratas.\n"
      ]
    },
    {
      "cell_type": "markdown",
      "metadata": {
        "id": "k4noMRT_YUd7"
      },
      "source": [
        "# Para Saber Mais\n",
        "\n",
        "* Acesso https://ml-playground.com/# e experimente alguns modelos de classificação sem qualquer programação. Se estiver interessado ainda pode verificar como exportar e importar dados do https://ml-playground.com/# para o Python. Dica, os dados são salvos e carregados em formato .json.\n",
        "\n",
        "* O exemplo clássico Árvores de Decisão de Mitchell, Tom Michael (1997) em **Machine Learning** é também explorado em Sayad, Saed (2021). **An Introduction to Data Science**,\n",
        "Disponível em: https://www.saedsayad.com/data_mining_map.htm e ajuda a entender em um passo a passo como é construída uma árvore de decisão e são calculados o ganho de informação.\n",
        "\n",
        "\n"
      ]
    },
    {
      "cell_type": "markdown",
      "metadata": {
        "id": "fa24d435"
      },
      "source": [
        "# Referências"
      ]
    },
    {
      "cell_type": "markdown",
      "metadata": {
        "id": "zlJfWteFyhFy"
      },
      "source": [
        "Weinberger, Kilian. **Machine Learning for Intelligent Systems**, Lecture 28: Decision / Regression Trees\n",
        "Disponível em:\n",
        "http://www.cs.cornell.edu/courses/cs4780/2018fa/page18/\n",
        "Acesso: 14 de Novembro de 2021.\n",
        "\n",
        "Mitchell, Tom Michael (1997). **Machine Learning**. New York, NY: McGraw-Hill. ISBN 0070428077.\n",
        "\n",
        "Jake VanderPlas. **Python Data Science Handbook**  O'Reilly Media, Inc. (2016). ISBN: 9781491912058. Disponível em: https://jakevdp.github.io/PythonDataScienceHandbook/. Acesso: 06 de Novembro de 2021.\n",
        "\n"
      ]
    }
  ]
}