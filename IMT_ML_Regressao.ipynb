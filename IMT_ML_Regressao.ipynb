{
  "nbformat": 4,
  "nbformat_minor": 0,
  "metadata": {
    "kernelspec": {
      "display_name": "Python 3",
      "language": "python",
      "name": "python3"
    },
    "language_info": {
      "codemirror_mode": {
        "name": "ipython",
        "version": 3
      },
      "file_extension": ".py",
      "mimetype": "text/x-python",
      "name": "python",
      "nbconvert_exporter": "python",
      "pygments_lexer": "ipython3",
      "version": "3.7.4"
    },
    "colab": {
      "provenance": [],
      "include_colab_link": true
    }
  },
  "cells": [
    {
      "cell_type": "markdown",
      "metadata": {
        "id": "view-in-github",
        "colab_type": "text"
      },
      "source": [
        "<a href=\"https://colab.research.google.com/github/Rogerio-mack/IMT_Ciencia_de_Dados/blob/main/IMT_ML_Regressao.ipynb\" target=\"_parent\"><img src=\"https://colab.research.google.com/assets/colab-badge.svg\" alt=\"Open In Colab\"/></a>"
      ]
    },
    {
      "cell_type": "markdown",
      "metadata": {
        "id": "80CF3Eq9EXDW"
      },
      "source": [
        "<head>\n",
        "  <meta name=\"author\" content=\"Rogério de Oliveira\">\n",
        "  <meta institution=\"author\" content=\"ITM\">\n",
        "</head>\n",
        "\n",
        "<img src=\"https://maua.br/images/selo-60-anos-maua.svg\" width=300, align=\"right\">\n",
        "<!-- <h1 align=left><font size = 6, style=\"color:rgb(200,0,0)\"> optional title </font></h1> -->\n"
      ]
    },
    {
      "cell_type": "markdown",
      "metadata": {
        "id": "zQX8WQPeHTwc"
      },
      "source": [
        "# **Aprendizado Supervisionado e Regressão Linear**\n",
        "---\n",
        "\n",
        "Nesta aula você vai entender:\n",
        "\n",
        "* O Aprendizado Supervisionado e as tarefas de Regressão e Classificação \n",
        "* Como aplicar modelos de Regressão Linear Simples e Múltipla na Predição de Quantidades\n",
        "* Como avaliar a eficiência dos modelos de Regressão Linear"
      ]
    },
    {
      "cell_type": "markdown",
      "metadata": {
        "id": "zH-kFjI8TIUe"
      },
      "source": [
        "Nesta aula vamos nos deter sobre modelos de regressão linear para a predição de quantidades. Esses modelos são úteis e empregados em uma série de problemas de predição de preços de imóveis, alugueis, demanda de produtos e muitos casos onde predomina ou é de interesse analisar uma tendência linear de evolução dos dados. Por sua simplicidade modelos lineares são talvez o primeiro modelo que experimentamos ao tratar um problema de modelagem de dados para a predição de valores e, apesar de simples, eles se mostram tremendamente úteis na predição dos valores ou no entendimento das relações entre os dados. \n",
        "\n",
        "O modelo de regressão linear também é útil para entendermos de modo geral o funcionamento dos modelos de aprendizado supervisionado. Ele já traz em si todos os principais elementos que encontramos no aprendizado supervisionado: conjunto de treinamento, aprendizado, resultado probabilístico, métricas de eficiência do modelo etc. Assim, antes de prosseguirmos na aplicação de modelos de regressão vamos retomar e aprender mais sobre alguns conceitos do aprendizado supervisionado e das diferenças entre as tarefas de regressão e classificação. \n",
        "\n",
        "\n",
        "\n"
      ]
    },
    {
      "cell_type": "markdown",
      "source": [
        "# Regressão e Classificação\n",
        "\n",
        "O **Aprendizado Supervisionado** normalmente envolve dois tipos de problemas, problemas de Regressão e problemas de Classificação. Em ambos os casos você possui um conjunto de dados de treinamento com exemplos de entradas e saídas. Nos problemas de **Regressão** os rótulos dos dados (as saídas) são valores contínuos como o preço de imóveis ou a quantidade de clicks em página Web, sendo essas as quantidades que você quer prever para novos valores de entrada (por exemplo, uma data futura). Já nos problemas de **Classificação** os rótulos dos dados são valores discretos como `[Yes, No]`, `[True, False]`, `[Safe, Unsafe, Dangerous]`, `[Fraud, Not Fraud]` ou ainda `[Dogs, Cats, Fishes, Others]` em um conjunto de fotos de animais domésticos. Vamos empregar aqui dois exemplos de brinquedo apenas para você se familiarizar com esses modelos e entender a diferença.\n",
        "\n"
      ],
      "metadata": {
        "id": "SXUcLVfk9EfM"
      }
    },
    {
      "cell_type": "markdown",
      "source": [
        "## Exemplo de Regressão: Grilos e Temperatura\n",
        "\n",
        "Grilos gorjeiam com mais frequência em dias quentes que em dias freios e profissionais e amadores coletaram dados sobre o gorjeio desses insetos por minuto e as temperaturas chegando a modelo linear que permite, através do número de gorjeios por minuto (a variável ou atributo preditor) estimar a temperatura (o rótulo, ou a variável objetivo). Os dados a seguir simulam esses dados. "
      ],
      "metadata": {
        "id": "AjTwTcvjJptJ"
      }
    },
    {
      "cell_type": "code",
      "source": [
        "import numpy as np\n",
        "import pandas as pd\n",
        "import matplotlib.pyplot as plt\n",
        "%matplotlib inline\n",
        "import seaborn as sns\n"
      ],
      "metadata": {
        "id": "NnPj7lRMSO9J"
      },
      "execution_count": null,
      "outputs": []
    },
    {
      "cell_type": "code",
      "source": [
        "from IPython.display import YouTubeVideo\n",
        "YouTubeVideo('ssSCGwy_Qfo')"
      ],
      "metadata": {
        "colab": {
          "base_uri": "https://localhost:8080/",
          "height": 321
        },
        "id": "PZp3M8rpJ3Oo",
        "outputId": "0dd7430d-d92f-46f7-d71c-d1d8381ce35f"
      },
      "execution_count": null,
      "outputs": [
        {
          "output_type": "execute_result",
          "data": {
            "text/html": [
              "\n",
              "        <iframe\n",
              "            width=\"400\"\n",
              "            height=\"300\"\n",
              "            src=\"https://www.youtube.com/embed/ssSCGwy_Qfo\"\n",
              "            frameborder=\"0\"\n",
              "            allowfullscreen\n",
              "        ></iframe>\n",
              "        "
            ],
            "text/plain": [
              "<IPython.lib.display.YouTubeVideo at 0x7f519691c890>"
            ],
            "image/jpeg": "[encoded data removed]"
          },
          "metadata": {},
          "execution_count": 52
        }
      ]
    },
    {
      "cell_type": "code",
      "source": [
        "np.random.seed(1)\n",
        "df = pd.DataFrame()\n",
        "\n",
        "df['temperature'] = np.arange(0,45,1)\n",
        "df['chirps'] = (20 * df['temperature'] - 4) / 16 \n",
        "df['chirps'] = df['chirps'] + np.round(np.random.sample(len(df))*5,0)"
      ],
      "metadata": {
        "id": "E8U8EUrHLmji"
      },
      "execution_count": null,
      "outputs": []
    },
    {
      "cell_type": "code",
      "source": [
        "plt.scatter(df['chirps'],df['temperature'])\n",
        "\n",
        "plt.title('Gorjeios dos Grilos $\\\\times$ Temperatura', fontsize=14, weight='bold')\n",
        "plt.xlabel('Gorjeios/min')\n",
        "plt.ylabel('temperatura $\\^{o}C$')\n",
        "plt.show()"
      ],
      "metadata": {
        "colab": {
          "base_uri": "https://localhost:8080/",
          "height": 298
        },
        "id": "velBW7UaFT-J",
        "outputId": "0476e5dd-6c1c-4c27-f5ca-cbdf1f217d87"
      },
      "execution_count": null,
      "outputs": [
        {
          "output_type": "display_data",
          "data": {
            "image/png": "[encoded data removed]",
            "text/plain": [
              "<Figure size 432x288 with 1 Axes>"
            ]
          },
          "metadata": {
            "needs_background": "light"
          }
        }
      ]
    },
    {
      "cell_type": "markdown",
      "source": [
        "Como você pode ver os dados se aproximam bastante de uma 'reta', um modelo linear, e podemos esperar escrever algo como:\n",
        "\n",
        "$$ \\text{Temperatura} = a_0 + a_1 \\times \\text{Gorjeios/min} $$\n",
        "\n",
        "Que é a equação de uma reta.\n",
        "\n",
        "Modelos de regressão podem ser ainda polinomiais, exponenciais etc., (diferentes classes de modelos de regressão), mas  escolhemos um modelo linear para aproximar os dados por quê observando os dados *esperamos* poder aproximá-los por uma reta! Os modelos lineares é a classe de modelos de regressão que escolhemos para aproximar nossos dados. "
      ],
      "metadata": {
        "id": "xrv2GCasMNFk"
      }
    },
    {
      "cell_type": "code",
      "source": [
        "sns.lmplot(x='chirps',y='temperature', data=df)\n",
        "\n",
        "plt.title('Gorjeios dos Grilos $\\\\times$ Temperatura', fontsize=14, weight='bold')\n",
        "plt.xlabel('Gorjeios/min')\n",
        "plt.ylabel('temperatura $\\^{o}C$')\n",
        "plt.show()"
      ],
      "metadata": {
        "colab": {
          "base_uri": "https://localhost:8080/",
          "height": 388
        },
        "id": "6M5qwD6eM10R",
        "outputId": "4d425ea8-63a7-4250-9656-b580ac3856ef"
      },
      "execution_count": null,
      "outputs": [
        {
          "output_type": "display_data",
          "data": {
            "image/png": "[encoded data removed]",
            "text/plain": [
              "<Figure size 360x360 with 1 Axes>"
            ]
          },
          "metadata": {
            "needs_background": "light"
          }
        }
      ]
    },
    {
      "cell_type": "markdown",
      "source": [
        "Um modelo de regressão linear busca encontrar a reta que melhor se ajusta a esse conjunto de dados calculando os melhores coeficientes $a_0$ e $a_1$ que tornam os valores $\\text{Temperatura}$ mais próximos dos valores reais. "
      ],
      "metadata": {
        "id": "4CkaSMjeNHYx"
      }
    },
    {
      "cell_type": "code",
      "source": [
        "import statsmodels.formula.api as sm\n",
        "\n",
        "# Definição do modelo\n",
        "lm = sm.ols(formula='temperature ~ chirps', data=df)\n",
        "\n",
        "# Treinamento\n",
        "lm = lm.fit()\n",
        "\n",
        "# Resultados\n",
        "print(lm.summary())\n",
        "\n"
      ],
      "metadata": {
        "colab": {
          "base_uri": "https://localhost:8080/"
        },
        "id": "GFkU5xeVNGac",
        "outputId": "7f68b8ff-5915-47cf-af8a-85688ce9b946"
      },
      "execution_count": null,
      "outputs": [
        {
          "output_type": "stream",
          "name": "stdout",
          "text": [
            "                            OLS Regression Results                            \n",
            "==============================================================================\n",
            "Dep. Variable:            temperature   R-squared:                       0.992\n",
            "Model:                            OLS   Adj. R-squared:                  0.992\n",
            "Method:                 Least Squares   F-statistic:                     5334.\n",
            "Date:                Sun, 06 Mar 2022   Prob (F-statistic):           9.94e-47\n",
            "Time:                        02:06:15   Log-Likelihood:                -70.585\n",
            "No. Observations:                  45   AIC:                             145.2\n",
            "Df Residuals:                      43   BIC:                             148.8\n",
            "Df Model:                           1                                         \n",
            "Covariance Type:            nonrobust                                         \n",
            "==============================================================================\n",
            "                 coef    std err          t      P>|t|      [0.025      0.975]\n",
            "------------------------------------------------------------------------------\n",
            "Intercept     -0.9595      0.361     -2.659      0.011      -1.687      -0.232\n",
            "chirps         0.7761      0.011     73.034      0.000       0.755       0.798\n",
            "==============================================================================\n",
            "Omnibus:                        3.593   Durbin-Watson:                   2.175\n",
            "Prob(Omnibus):                  0.166   Jarque-Bera (JB):                1.946\n",
            "Skew:                           0.230   Prob(JB):                        0.378\n",
            "Kurtosis:                       2.091   Cond. No.                         69.2\n",
            "==============================================================================\n",
            "\n",
            "Warnings:\n",
            "[1] Standard Errors assume that the covariance matrix of the errors is correctly specified.\n"
          ]
        }
      ]
    },
    {
      "cell_type": "markdown",
      "source": [
        "Por hora, note apenas que os resultados do modelo acima mostram os coeficientes obtidos, `Intercept` e `chirps`. O  `Intercept` é o coeficiente livre da equação da reta que não está associado a qualquer variável preditora e recebe este nome por ser o valor que 'intercepta' o eixo $y$ quando os valores de todas as variáveis preditoras é nulo. `chirps` é o coeficiente dos gorjeios.\n",
        "\n",
        "$$ \\text{Temperatura} = -0.9595 + 0.7761 \\times \\text{Gorjeios/min} $$\n"
      ],
      "metadata": {
        "id": "IZdZCaFCN6Ch"
      }
    },
    {
      "cell_type": "markdown",
      "source": [
        "E podemos empregar essa expressão para estimar a temperatura no caso de observarmos 32 gorjeios por minuto,\n",
        "\n"
      ],
      "metadata": {
        "id": "zTaV1GxwQBcJ"
      }
    },
    {
      "cell_type": "code",
      "source": [
        "Gorjeios_Observados = 32\n",
        "Temperatura_Estimada = -0.9595 + 0.7761 * Gorjeios_Observados \n",
        "print(f'{Temperatura_Estimada:.2f} oC')"
      ],
      "metadata": {
        "colab": {
          "base_uri": "https://localhost:8080/"
        },
        "id": "-bZmXBgfQQlY",
        "outputId": "d698b9fa-09ca-4e04-f3b2-f4c683c83905"
      },
      "execution_count": null,
      "outputs": [
        {
          "output_type": "stream",
          "name": "stdout",
          "text": [
            "23.88 oC\n"
          ]
        }
      ]
    },
    {
      "cell_type": "markdown",
      "source": [
        "Ou, o que é mais comum e em geral mais simples, empregar a função `predict` que aplica o modelo, "
      ],
      "metadata": {
        "id": "xg17eLRfQwoA"
      }
    },
    {
      "cell_type": "code",
      "source": [
        "Gorjeios_Observados = pd.DataFrame({'chirps': [32]})\n",
        "Temperatura_Estimada = lm.predict(Gorjeios_Observados)[0]\n",
        "\n",
        "print(f'{Temperatura_Estimada:.2f} oC')"
      ],
      "metadata": {
        "colab": {
          "base_uri": "https://localhost:8080/"
        },
        "id": "mctoQWPGQt5A",
        "outputId": "bbaea7e3-f9fe-42c0-fa1a-59675a8b34ae"
      },
      "execution_count": null,
      "outputs": [
        {
          "output_type": "stream",
          "name": "stdout",
          "text": [
            "23.88 oC\n"
          ]
        }
      ]
    },
    {
      "cell_type": "markdown",
      "source": [
        "<small> \n",
        "Este exemplo foi inspirado em, \n",
        "https://developers.google.com/machine-learning/crash-course/descending-into-ml/linear-regression."
      ],
      "metadata": {
        "id": "qi73RJJgSMWB"
      }
    },
    {
      "cell_type": "markdown",
      "source": [
        "## Exemplo de Classificação: Default Credit\n",
        "\n",
        "Empresas de crédito estão bastante empenhadas e identificar possíveis 'calotes' (*default*) no pagamento do crédito cedido aos seus clientes e para isso elas buscam prever possíveis não pagamentos a partir do histórico de várias operações de crédito e dados dos seus clientes. Dados do cliente (como renda, idade, estado civil e escolaridade) e do crédito (valor, seu propósito, tempo) são os recursos empregados como variáveis preditoras e `default[True,False]` o rótulo dos dados que queremos prever para novas concessões de crédito ou créditos em andamento que desejamos avaliar o risco. Os dados abaixo simulam um conjunto de dados desse tipo com dados sobre renda, saldo e o pagamento ou não do crédito.\n",
        "\n"
      ],
      "metadata": {
        "id": "3AgyqfxZSj40"
      }
    },
    {
      "cell_type": "code",
      "source": [
        "from sklearn.datasets import make_moons, make_circles, make_classification\n",
        "\n",
        "X, y = make_classification(n_samples=120, class_sep=0.85, weights=[0.7,0.3],\n",
        "    n_features=2, n_redundant=0, n_informative=2, random_state=0, n_clusters_per_class=2\n",
        ")\n",
        "\n",
        "df = pd.DataFrame()\n",
        "df['income'] = ( X[:,0] + 3 ) * 10000\n",
        "df['balance'] = X[:,1] * 1000\n",
        "df['default'] = y\n",
        "df['default'] = df['default'].astype('bool')"
      ],
      "metadata": {
        "id": "tTLh5pznVPL3"
      },
      "execution_count": null,
      "outputs": []
    },
    {
      "cell_type": "code",
      "source": [
        "sns.scatterplot(x='income',y='balance',hue='default',data=df,palette=['blue','red'])\n",
        "plt.title('Default Credit', fontsize=14, weight='bold')\n",
        "plt.xlabel('income')\n",
        "plt.ylabel('balance')\n",
        "plt.legend(title='Default',loc='lower right')\n",
        "plt.show()\n",
        "\n",
        "plt.show()"
      ],
      "metadata": {
        "colab": {
          "base_uri": "https://localhost:8080/",
          "height": 296
        },
        "id": "D_a9Ky9yU7kc",
        "outputId": "fcb1edc4-6b9f-4b11-88f2-8e47de09d91f"
      },
      "execution_count": null,
      "outputs": [
        {
          "output_type": "display_data",
          "data": {
            "image/png": "[encoded data removed]",
            "text/plain": [
              "<Figure size 432x288 with 1 Axes>"
            ]
          },
          "metadata": {
            "needs_background": "light"
          }
        }
      ]
    },
    {
      "cell_type": "markdown",
      "source": [
        "Veja que a cor (azul ou vermelho) no gráfico acima adiciona uma dimensão dos dados ao representar o valor `default[True,False]` dos dados. Apesar de dois eixos temos 3 dimensões dos dados! income, balance e default!\n",
        "\n",
        "Esse é um modo bastante comum de representarmos problemas de classificação envolvendo duas variáveis preditoras. \n"
      ],
      "metadata": {
        "id": "ekY_kUmsVur5"
      }
    },
    {
      "cell_type": "code",
      "source": [
        "sns.scatterplot(x='income',y='balance',hue='default',data=df,palette=['blue','red'])\n",
        "plt.plot(31500,1000,marker='o',color='red',markersize=20,alpha=0.5)\n",
        "plt.text(31500,1000,'?',fontsize=40)\n",
        "plt.title('Default Credit', fontsize=14, weight='bold')\n",
        "plt.xlabel('income')\n",
        "plt.ylabel('balance')\n",
        "plt.legend(title='Default',loc='lower right')\n",
        "plt.show()\n"
      ],
      "metadata": {
        "colab": {
          "base_uri": "https://localhost:8080/",
          "height": 296
        },
        "id": "TCITtwjJWcn3",
        "outputId": "3d8fce87-86de-4298-9a0e-52676c6a1100"
      },
      "execution_count": null,
      "outputs": [
        {
          "output_type": "display_data",
          "data": {
            "image/png": "[encoded data removed]",
            "text/plain": [
              "<Figure size 432x288 with 1 Axes>"
            ]
          },
          "metadata": {
            "needs_background": "light"
          }
        }
      ]
    },
    {
      "cell_type": "markdown",
      "source": [
        "O propósito do modelo é então classificarmos uma nova operação de crédito, digamos para um cliente com `[income, balance] = [31500,1000]`, como uma transação de sucesso ou não (`default[True|False]`). \n",
        "\n",
        "Assim como na Regressão, existem várias classes de modelos de classificação, como Árvores de Decisão, K-Vizinhos mais Próximos etc. que empregam princípios e parâmetros diferentes para a estimar as classes. Mas por hora estamos interessados apenas em observar o resultado das classificações sendo indiferente o método que vamos aplicar. Vamos empregar aqui o modelo de K-Vizinhos mais Próximos, e você verá mais sobre ele nas aulas adiante."
      ],
      "metadata": {
        "id": "mExbTv2eXg5P"
      }
    },
    {
      "cell_type": "code",
      "source": [
        "from sklearn.neighbors import KNeighborsClassifier\n",
        "\n",
        "# Define as entradas e saídas do modelo\n",
        "X = df[['income','balance']]\n",
        "y = df['default']\n",
        "\n",
        "# Define o modelo a ser empregado \n",
        "clf = KNeighborsClassifier(n_neighbors=3)\n",
        "\n",
        "# Treina o modelo\n",
        "clf.fit(X, y)\n",
        "\n"
      ],
      "metadata": {
        "colab": {
          "base_uri": "https://localhost:8080/"
        },
        "id": "m1qzp2L5aHZI",
        "outputId": "c1094c0e-4aab-47b9-c693-6442c9b0b983"
      },
      "execution_count": null,
      "outputs": [
        {
          "output_type": "execute_result",
          "data": {
            "text/plain": [
              "KNeighborsClassifier(n_neighbors=3)"
            ]
          },
          "metadata": {},
          "execution_count": 62
        }
      ]
    },
    {
      "cell_type": "markdown",
      "source": [
        "A forma de uso do modelo é bastante semelhante ao modelo de regressão. Definimos o modelo para em seguida buscar os parâmetros que melhor ajustam o modelo aos dados. \n",
        "\n",
        "Obtido o melhor modelo podemos fazer a predição de novos casos."
      ],
      "metadata": {
        "id": "3U9rqaL2dEXn"
      }
    },
    {
      "cell_type": "code",
      "source": [
        "novo_credito = pd.DataFrame({'income':[31500], 'balance':[1000]})\n",
        "\n",
        "clf.predict(novo_credito)"
      ],
      "metadata": {
        "colab": {
          "base_uri": "https://localhost:8080/"
        },
        "id": "UrPWjEZ1a4RP",
        "outputId": "9602988a-0094-4d6b-848b-303c423ac4de"
      },
      "execution_count": null,
      "outputs": [
        {
          "output_type": "execute_result",
          "data": {
            "text/plain": [
              "array([False])"
            ]
          },
          "metadata": {},
          "execution_count": 63
        }
      ]
    },
    {
      "cell_type": "markdown",
      "source": [
        "E para o crédito a um cliente com `[income, balance] = [31500,1000]` concluímos que o padrão dos dados sugere que não deverá calote nessa operação e que, portanto, o crédito poderia se concedido. "
      ],
      "metadata": {
        "id": "VbvvFWSIdc-G"
      }
    },
    {
      "cell_type": "markdown",
      "source": [
        "# Modelos\n",
        "\n",
        "Esses exemplos de brinquedo, embora simples, com poucos dados e atributos, já permite ter uma boa ideia de como esses modelos de aprendizado supervisionado funcionam e podemos agora prosseguir para entender melhor como eles realmente funcionam e têm em comum com muitos outros casos e modelos de aprendizado supervisionado que vamos estudar."
      ],
      "metadata": {
        "id": "j3IQDwaIj-BH"
      }
    },
    {
      "cell_type": "markdown",
      "source": [
        "\n",
        "\n",
        "<img src=\"https://github.com/Rogerio-mack/Machine-Learning-I/raw/main/Figures/ML/Slide4.PNG\" width=800, align=\"center\">"
      ],
      "metadata": {
        "id": "Qu0yB4NQEcpb"
      }
    },
    {
      "cell_type": "markdown",
      "source": [
        "<small>\n",
        "\n",
        "<b>\n",
        "Figura 1. Esquema geral do Aprendizado de Máquina Supervisionado."
      ],
      "metadata": {
        "id": "BgCq7bGYJbTx"
      }
    },
    {
      "cell_type": "markdown",
      "source": [
        "Um conjunto de dados $X \\rightarrow y$ é define uma função $f:X \\rightarrow y$ que podemos não conhecer (mesmo não existir no sentido de uma fórmula ou expressão como conhecemos). Você pode pensar na função que leva o número de gorjeios dos grilos às temperaturas ou os valores de balanço e renda à classificação de *default* nas operações de crédito. Essa é uma função desconhecida, mas que queremos aproximar encontrando uma função $g(x)$ que melhor se aproxima aos dados.\n",
        "\n",
        "$$ f(x) \\approx g(x)$$ \n",
        "\n",
        "$g(x)$ é um modelo que buscamos para os dados e vamos buscar inferir, ou obter essa função a partir de uma amostra dos pares $(X,y)$, nosso conjunto de treinamento onde $y$ são os rótulos dos dados.\n",
        "\n",
        "Além dos dados rotulados (modelos Supervisionados), o Aprendizado de Máquina também requer como entrada uma classe de modelos que queremos empregar. Como você viu, existem modelos de Regressão e de classificação, e dentro desses modelos podemos por exemplo, escolher um modelo de regressão linear ou polinomial ou, para classificação, escolher entre um modelo de Árvore de Decisão ou K-Vizinhos mais Próximos. É nossa 'hipótese' de que os dados podem ser aproximados pelo modelo que escolhemos (o que vai poder funcionar ou não, mas veremos mais adiante sobre isso).\n",
        "\n",
        "O Aprendizado de Máquina vai consistir, então, em buscar os melhores parâmetros para a família de modelos escolhida. Isso, em geral, se resume a buscar parâmetros que buscam minimizar o erro, ou a diferença, entre os valores estimados pelo modelo para e os dados, e há diferentes formas de se medir isso (acima representamos isso por $|| f(x) - g(x) ||$. Quando escolhemos acima um modelo linear  $ \\text{Temperatura} = a_0 + a_1 \\times \\text{Gorjeios/min} $ ele corresponde a um número infinito de modelos possíveis já que há infinitos valores para os parâmetros $a_0$ e $a_1$, e o aprendizado consiste em encontrar os valores de $a_0$ e $a_1$ que melhor aproximam os dados. \n",
        "\n",
        "\n",
        "\n"
      ],
      "metadata": {
        "id": "8AUmsBMolJu2"
      }
    },
    {
      "cell_type": "markdown",
      "source": [
        "\n",
        "\n",
        "<img src=\"https://github.com/Rogerio-mack/Machine-Learning-I/raw/main/Figures/ML/Slide5.PNG\" width=800, align=\"center\">"
      ],
      "metadata": {
        "id": "zwUUPhdVrZ49"
      }
    },
    {
      "cell_type": "markdown",
      "source": [
        "<small>\n",
        "\n",
        "<b>\n",
        "Figura 2. Esquema geral do Aprendizado de Máquina Supervisionado em poucas linhas de código. "
      ],
      "metadata": {
        "id": "b0RHwYrIrZ5B"
      }
    },
    {
      "cell_type": "markdown",
      "source": [
        "Isso nos dá a forma geral de como se dá o aprendizado em termos de sua programação:\n",
        "\n",
        "1. **Definimos as Entradas e Saídas do Modelo**. Seus recursos e rótulos.\n",
        "2. **Definimos a Classe de Modelos a ser empregada**. \n",
        "3. **Treinamos o Modelo**. Isto é, buscam-se os parâmetros que melhor ajustam o modelo aos dados.\n",
        "4. **Prevemos novos casos**. Aplicamos o modelo para novos casos."
      ],
      "metadata": {
        "id": "t2s-ZedokUFG"
      }
    },
    {
      "cell_type": "markdown",
      "source": [
        "# Modelos são Probabilísticos\n",
        "\n",
        "Diferente de uma fórmula os modelos não são determinísticos. Quando você prevê que a temperatura será 30oC com base na medida de gorjeios dos grilos ou quando prevê que o cliente não dará calote se você conceder crédito à ele isso pode ou não acontecer. Pode ser que a temperatura seja de fato abaixo ou acima e que o cliente, independente da sua predição dê um calote e que você tenha feito um mal negócio. Mas a ideia é que os modelos buscam retornar o valor ou a classe *mais provável* e que, portanto, independente de se mostrar correta ou não a predição o modelo, buscam fornecer respostas que aumentam as suas chances de estar correto. De fato, é famoso o aforismo do estatístico George Box de que *nenhum modelo é correto, mas alguns são úteis*.\n",
        "\n",
        "\n",
        "\n",
        "\n",
        "\n",
        "\n",
        "\n",
        "\n",
        "\n"
      ],
      "metadata": {
        "id": "2E3BB7MtsjkN"
      }
    },
    {
      "cell_type": "markdown",
      "source": [
        "\n",
        "\n",
        "<img src=\"https://upload.wikimedia.org/wikipedia/commons/thumb/a/a2/GeorgeEPBox.jpg/200px-GeorgeEPBox.jpg\" width=200, align=\"center\">"
      ],
      "metadata": {
        "id": "f2jZ7u3HucG3"
      }
    },
    {
      "cell_type": "markdown",
      "source": [
        "<small>\n",
        "\n",
        "<b>\n",
        "Figura 3. (George Box) <it> \"Nenhum modelo é correto, mas alguns são úteis\" </it>. Tenha isso sempre em mente ao empregar modelos de Aprendizado de Máquina."
      ],
      "metadata": {
        "id": "njEBbvx3ucG4"
      }
    },
    {
      "cell_type": "markdown",
      "source": [
        "> **(George Box) <it> \"Nenhum modelo é correto, mas alguns são úteis\" </it>. Tenha isso sempre em mente ao empregar modelos de Aprendizado de Máquina.**"
      ],
      "metadata": {
        "id": "3R3HYYum8W4y"
      }
    },
    {
      "cell_type": "markdown",
      "source": [
        "Em consequência disso existem várias abordagens ou princípios diferentes que os modelos podem adotar na buscar de uma resposta mais provável e, desse modo, diferentes modelos podem levar a diferentes respostas e não há um único modelo 'certo'!"
      ],
      "metadata": {
        "id": "V-3JkTxQvOAN"
      }
    },
    {
      "cell_type": "code",
      "source": [
        "# you can skip this code!\n",
        "\n",
        "# Adaptado de Introduction to Machine Learning with Python by Andreas C. Müller, Sarah Guido\n",
        "from matplotlib.colors import ListedColormap, colorConverter, LinearSegmentedColormap\n",
        "\n",
        "cm3 = ListedColormap(['#0000aa', '#ff2020', '#50ff50'])\n",
        "cm2 = ListedColormap(['#0000aa', '#ff2020'])\n",
        "\n",
        "def plot_2d_separator(classifier, X, fill=False, ax=None, eps=None, alpha=1,\n",
        "                      cm=cm2, linewidth=None, threshold=None,\n",
        "                      linestyle=\"solid\"):\n",
        "    # binary?\n",
        "    if eps is None:\n",
        "        eps = X.std() / 2.\n",
        "\n",
        "    if ax is None:\n",
        "        ax = plt.gca()\n",
        "\n",
        "    x_min, x_max = X[:, 0].min() - eps, X[:, 0].max() + eps\n",
        "    y_min, y_max = X[:, 1].min() - eps, X[:, 1].max() + eps\n",
        "    xx = np.linspace(x_min, x_max, 1000)\n",
        "    yy = np.linspace(y_min, y_max, 1000)\n",
        "\n",
        "    X1, X2 = np.meshgrid(xx, yy)\n",
        "    X_grid = np.c_[X1.ravel(), X2.ravel()]\n",
        "    try:\n",
        "        decision_values = classifier.decision_function(X_grid)\n",
        "        levels = [0] if threshold is None else [threshold]\n",
        "        fill_levels = [decision_values.min()] + levels + [\n",
        "            decision_values.max()]\n",
        "    except AttributeError:\n",
        "        # no decision_function\n",
        "        decision_values = classifier.predict_proba(X_grid)[:, 1]\n",
        "        levels = [.5] if threshold is None else [threshold]\n",
        "        fill_levels = [0] + levels + [1]\n",
        "    if fill:\n",
        "        ax.contourf(X1, X2, decision_values.reshape(X1.shape),\n",
        "                    levels=fill_levels, alpha=alpha, cmap=cm)\n",
        "    else:\n",
        "        ax.contour(X1, X2, decision_values.reshape(X1.shape), levels=levels,\n",
        "                   colors=\"black\", alpha=alpha, linewidths=linewidth,\n",
        "                   linestyles=linestyle, zorder=5)\n",
        "\n",
        "    ax.set_xlim(x_min, x_max)\n",
        "    ax.set_ylim(y_min, y_max)\n",
        "    ax.set_xticks(())\n",
        "    ax.set_yticks(())"
      ],
      "metadata": {
        "id": "Mv0A0J0cvAkP"
      },
      "execution_count": null,
      "outputs": []
    },
    {
      "cell_type": "code",
      "source": [
        "from sklearn.neighbors import KNeighborsClassifier\n",
        "from sklearn.tree import DecisionTreeClassifier\n",
        "from sklearn.svm import SVC\n",
        "\n",
        "X = np.array(df[['income','balance']])\n",
        "y = df['default']\n",
        "\n",
        "models = [KNeighborsClassifier(n_neighbors=5),\n",
        "          SVC(),\n",
        "          DecisionTreeClassifier()]\n",
        "\n",
        "fig, axes = plt.subplots(1, 3, figsize=(15, 4))\n",
        "for model, ax in zip(models, axes):\n",
        "    print(model)\n",
        "    clf = model.fit(X, y)\n",
        "    plot_2d_separator(clf, X, fill=True, eps=0.5, ax=ax, alpha=.4)\n",
        "    sns.scatterplot(x=X[:,0],y=X[:,1],hue=y, ax=ax)\n",
        "    ax.set_title(model, fontsize=14, weight='bold')\n",
        "    ax.set_xlabel('income')\n",
        "    ax.set_ylabel('balance')\n",
        "\n",
        "plt.tight_layout()\n",
        "plt.show()"
      ],
      "metadata": {
        "colab": {
          "base_uri": "https://localhost:8080/",
          "height": 349
        },
        "id": "MzidjacTZYQA",
        "outputId": "95c5a439-e0db-4c53-f2c3-be465252ccaa"
      },
      "execution_count": null,
      "outputs": [
        {
          "output_type": "stream",
          "name": "stdout",
          "text": [
            "KNeighborsClassifier()\n",
            "SVC()\n",
            "DecisionTreeClassifier()\n"
          ]
        },
        {
          "output_type": "display_data",
          "data": {
            "image/png": "[encoded data removed]",
            "text/plain": [
              "<Figure size 1080x288 with 3 Axes>"
            ]
          },
          "metadata": {}
        }
      ]
    },
    {
      "cell_type": "markdown",
      "source": [
        "Por exemplo, no nosso exemplo de predição de crédito podemos aplicar modelos de  K-Vizinhos Mais Próximos, Support Vector Machines e de Árvores de Decisão. Os gráficos acima exibem a **fronteira de decisão** dos modelos, isto é, mostram as regiões associadas a cada uma das classes previstas pelo modelo.\n",
        "Cada modelo emprega um princípio diferente (você pode pensar uma forma de cálculo diferente) na busca dos resultados mais prováveis. Levam, portanto, à predições diferentes das classes e não há, de modo geral, como afirmar que este ou aquele modelo é o modelo 'correto'. Nenhum é! Existem, entretanto, algumas métricas que podem ajudar na escolha de modelos *melhores* que outros. "
      ],
      "metadata": {
        "id": "RA54yzr1xhmj"
      }
    },
    {
      "cell_type": "markdown",
      "source": [
        "## O Fez Classificações Erradas? \n",
        "\n",
        "Talvez você tenha notado no exemplo acima que os modelos não classificam corretamente todos os dados do conjunto de treinamento. Você pode ver em todos eles pontos 'True' na região 'False' (área azul) e pontos 'False' na região 'True' (área vermelha do gráfico). Isso é algo comum nos modelos e que vamos estudar em detalhe. Por hora você deve lembrar que os modelos são construídos para classificação de *novos casos*. Um dado do conjunto de treinamento (não é um novo caso!) classificado errado apenas indica um caso que, apesar da maior probabilidade de pertencer a uma classe ele *ocorreu* de modo diferente. Você pode pensar estes casos como *outliers* ou exceções, que não seguiram as classes mais prováveis segundo algum critério."
      ],
      "metadata": {
        "id": "QuO536NA3KzE"
      }
    },
    {
      "cell_type": "markdown",
      "metadata": {
        "id": "qzlZWciD8tOj"
      },
      "source": [
        "# Regressão Linear \n",
        "\n",
        "Entendido como funcionam os modelos em geral podemos agora nos concentrar unicamente em como criar e avaliar modelos de Regressão Linear. \n",
        "\n",
        "Um modelo linear aproxima o valor de variável objetivo $Y$ a partir de uma combinação linear das variáveis preditoras $X$. \n",
        "\n",
        "$$ \\widehat y = a_0 + a_{1} x_1 + a_{2} x_2 + ... + a_{n} x_n $$\n",
        " \n",
        "A cada variável preditora corresponde um coeficiente $a_n$, havendo um coeficiente independente que corresponte ao valor de $\\widehat y$ para $X=0$ (*intercept*). Se temos uma única variável preditora $x_1$ nosso modelo é uma reta e temos um modelo de **Regressão Simples**. Se temos mais dimensões temos um *hiperplano* e o modelo é uma **Regressão Múltipla**.  \n",
        "\n",
        "Existem também outros modelos de Regressão. Por exemplo, um modelo de Regressão Polinomial busca aproximar os dados a um polinômio de grau $n$ e $ \\widehat y = a_0 + a_{1} x_1^1 + a_{2} x_1^2 + ... + a_{n} x_1^n $ seria um modelo de Regressão Polinomial Simples de grau 2. Esses são modelos de **regressão não linear**, mas nos deteremos aqui unicamente em modelos lineares.\n",
        "\n",
        "\n",
        "\n",
        "\n"
      ]
    },
    {
      "cell_type": "markdown",
      "metadata": {
        "id": "uW3h47tEPfhu"
      },
      "source": [
        "## Calculando os Coeficientes de uma Regressão Simples\n",
        "\n",
        "No caso mais simples, nosso problema consiste em dados um conjunto de pontos $(x,y)$,  determinar os coeficientes da reta que melhor aproxima $r: x\\rightarrow y$."
      ]
    },
    {
      "cell_type": "code",
      "metadata": {
        "id": "v4QTBg3nTRSn"
      },
      "source": [
        "# you can skip this code!\n",
        "from scipy.stats import norm\n",
        "\n",
        "x = np.arange(0, 100)\n",
        "y = 2*x + 3\n",
        "y = y + norm.rvs(loc=0, scale=50, size=100, random_state=1234)"
      ],
      "execution_count": null,
      "outputs": []
    },
    {
      "cell_type": "code",
      "metadata": {
        "colab": {
          "base_uri": "https://localhost:8080/",
          "height": 301
        },
        "id": "a5gKCyZvTfvG",
        "outputId": "6a2bcdca-a337-4eba-e9e0-68f06caf7dd1"
      },
      "source": [
        "plt.scatter(x,y,alpha=0.6)\n",
        "plt.title('Pontos para uma Regressão Linear Simples', fontsize=14, weight='bold')\n",
        "plt.xlabel('$x$', fontsize=16)\n",
        "plt.ylabel('$y$', fontsize=16)\n",
        "plt.show()"
      ],
      "execution_count": null,
      "outputs": [
        {
          "output_type": "display_data",
          "data": {
            "image/png": "[encoded data removed]",
            "text/plain": [
              "<Figure size 432x288 with 1 Axes>"
            ]
          },
          "metadata": {
            "needs_background": "light"
          }
        }
      ]
    },
    {
      "cell_type": "markdown",
      "metadata": {
        "id": "Xvc5uTZpS19Q"
      },
      "source": [
        "Dado um conjunto de pontos podemos traçar várias retas que *aproximam* de diferentes modos o conjunto de pontos. A regressão linear simples é definida pela reta que minimiza o erro ou a distância dos pontos $y$ dos valores estimados $\\hat{y}$. \n",
        "\n",
        "Dado um conjunto de pontos $(x_i,y_i), i=0,...,n$ queremos buscar a reta $\\hat{y} = a + b x$ que reduz o erro das estimativas de $y$. Esse erro pode ser medido pela distância dos pontos $y$ e $\\hat{y}$, ou mais simplesmente pela distância quadrática, e podemos escrever esse erro em função de $a$ e $b$, que ainda não conhecemos os valores:\n",
        "\n",
        "$$ E(a,b) = \\sum_{i=1}^{n}(y_i - \\hat{y}_i)^2 $$\n",
        "$$ E(a,b) = \\sum_{i=1}^{n}(y_i - a - b x_i)^2 $$\n",
        "\n",
        "O ponto de mínimo da função de Erro $E(a,b)$ fornece os valores $a$ e $b$ dos coeficientes da reta,\n",
        "\n",
        "$$ \\min_{a, b} E(a,b) = \\min_{a, b} \\sum_{i=1}^{n}(y_i - a - b x_i)^2 $$\n",
        "\n",
        "e pode ser obtido a partir das derivadas com relação a esses parâmetros,\n",
        "\n",
        "$$ \\partial E / \\partial a =  -2 \\sum_{i=1}^{n}(y_i - a - b x_i) = 0$$\n",
        "\n",
        "$$ \\partial E / \\partial b =  -2 \\sum_{i=1}^{n}x_i(y_i - a - b x_i) = 0 $$\n",
        "\n",
        "Resolvendo-se esse sistema de equações você obtêm:\n",
        "\n",
        "$$ a = \\bar{y} - b \\bar{x} $$\n",
        "onde $\\bar{y}$ e $\\bar{x}$ são a média dos valores $y_i$ e $x_i$, e:\n",
        "\n",
        "$$ b = \\frac{ \\sum_{i=1}^{n} (x_i - \\bar{x}) (y_i - \\bar{y})}{\\sum_{i=1}^{n} (x_i - \\bar{x})^2 } $$\n",
        "\n",
        "Os valores dessa expressão não devem ser estranhos a você. De fato,  eles são a $cov(x,y)$ e a $var(x)$ e, desse modo, podemos escrever simplesmente:\n",
        "\n",
        "\n",
        "$$ b = \\frac{cov(x,y)}{var(x)}  $$ \n",
        "\n",
        "<br>\n",
        "\n",
        "$$ a = \\bar{y} - b \\bar{x} $$\n",
        "\n",
        "Empregando o conjunto de pontos acima podemos verificar os coeficientes produzidos: \n"
      ]
    },
    {
      "cell_type": "code",
      "source": [
        "# A diagonal da matriz contém a covariância entre cada variável e ela mesma\n",
        "\n",
        "b = np.cov(x,y)[1,0] / np.var(x); print(b)\n",
        "a = np.mean(y) - b*np.mean(x); print(a)"
      ],
      "metadata": {
        "colab": {
          "base_uri": "https://localhost:8080/"
        },
        "id": "hS1JfUGbMV4f",
        "outputId": "5b6273fc-5b46-44ef-d615-1287575e121e"
      },
      "execution_count": null,
      "outputs": [
        {
          "output_type": "stream",
          "name": "stdout",
          "text": [
            "1.9850551363966769\n",
            "5.495384904636339\n"
          ]
        }
      ]
    },
    {
      "cell_type": "code",
      "metadata": {
        "colab": {
          "base_uri": "https://localhost:8080/",
          "height": 302
        },
        "id": "XpKwQS8HXTqg",
        "outputId": "847234fb-7ba8-42c0-f63b-32fe81bbdd15"
      },
      "source": [
        "# you can skip this code!\n",
        "\n",
        "y2 = a + b*x\n",
        "y3 = (y2[51] - 50*(b-1))+(b-1)*x\n",
        "y4 = (y2[51] - 50*(b+1))+(b+1)*x\n",
        "y5 = (y2[51] - 50*(b+2))+(b+2)*x\n",
        "\n",
        "plt.scatter(x, y, alpha=0.6)\n",
        "plt.plot(x, y2, c='red', lw=2, alpha=0.8)\n",
        "plt.plot(x, y3, linestyle='dotted')\n",
        "plt.plot(x, y4, linestyle='dotted')\n",
        "plt.plot(x, y5, linestyle='dotted')\n",
        "\n",
        "plt.title('Várias retas que aproximam o conjunto de pontos', fontsize=14, weight='bold')\n",
        "plt.xlabel('$x$', fontsize=16)\n",
        "plt.ylabel('$y$', fontsize=16)\n",
        "plt.show()"
      ],
      "execution_count": null,
      "outputs": [
        {
          "output_type": "display_data",
          "data": {
            "image/png": "[encoded data removed]",
            "text/plain": [
              "<Figure size 432x288 with 1 Axes>"
            ]
          },
          "metadata": {
            "needs_background": "light"
          }
        }
      ]
    },
    {
      "cell_type": "markdown",
      "metadata": {
        "id": "6itdrf-nZlYw"
      },
      "source": [
        "E, assim, determinamos a reta que melhor estima os valores de $y$:\n",
        "\n",
        "$$ \\hat{y} = a + bx = 1.98 + 5.49 x $$"
      ]
    },
    {
      "cell_type": "code",
      "metadata": {
        "colab": {
          "base_uri": "https://localhost:8080/",
          "height": 301
        },
        "id": "98j27ZFaZ33f",
        "outputId": "af583cbb-aac4-4cb0-9137-83496ecf9dce"
      },
      "source": [
        "# you can skip this code!\n",
        "\n",
        "plt.scatter(x, y, alpha=0.6)\n",
        "plt.plot(x, y2, c='red', lw=2, alpha=0.8)\n",
        "\n",
        "plt.title('Modelo de Regressão Linear', fontsize=14, weight='bold')\n",
        "plt.xlabel('$x$', fontsize=16)\n",
        "plt.ylabel('$y$', fontsize=16)\n",
        "plt.text(55,-60,'$ \\hat{y} = 1.98 + 5.49 x $', fontsize=16)\n",
        "plt.show()"
      ],
      "execution_count": null,
      "outputs": [
        {
          "output_type": "display_data",
          "data": {
            "image/png": "[encoded data removed]",
            "text/plain": [
              "<Figure size 432x288 with 1 Axes>"
            ]
          },
          "metadata": {
            "needs_background": "light"
          }
        }
      ]
    },
    {
      "cell_type": "markdown",
      "metadata": {
        "id": "Li1FPlObIQAh"
      },
      "source": [
        "# Regressão Linear Múltipla\n",
        "\n",
        "No modelo linear mais geral o valor de variável objetivo, ou dependente, $y$ é obtido a partir de uma combinação linear de um conjunto de variáveis preditoras, ou dependentes, $X$. \n",
        "\n",
        "$$  \\widehat y = a_0 + a_{1} x_{1} + a_{2} x_{2} + ... + a_{n} x_{n} $$ \n",
        " \n",
        "Agora, a cada variável preditora corresponde um coeficiente $a_n$, havendo um coeficiente independente que corresponte ao valor de $\\widehat y$ para $X_i=0$ (*intercept*). \n",
        "\n",
        "Os coeficientes $a_n$ são obtidos do mesmo modo que na regressão simples, minimizando-se o erro  entre os valores de $y$  nos dados e os valores estimados $\\widehat y$, e podemos escrever:\n",
        "\n",
        "$$ \\min_{a_i}\\sum (y_i - \\widehat y_i )^2 = $$ \n",
        "\n",
        "$$ \\min_{a_i} \\sum (y_i - (a_0 + a_{1} x_{1} + ... + a_{n} x_{n}) )^2 $$ \n",
        "\n",
        "Não há, entretanto, nenhuma fórmula ou expressão para obtermos de forma algébrica os valores de $a_i$ que são obitidos, de modo geral, aplicando-se algum método de otimização, como o  método de mínimos quadrados, sendo o erro uma função convexa que garante a existência de um único ponto de mínimo.\n",
        "\n",
        "> **Para quaisquer conjuntos de dados $(X, y)$ sempre é possível se calcular os coeficientes de uma regressão linear. Esses coeficientes fornecem sempre a melhor reta ou *hiperplano* que se ajusta os dados. A pergunta é: seria esse ajuste é suficientemente bom?** \n",
        "\n",
        "\n",
        "\n",
        "\n",
        "\n",
        "\n"
      ]
    },
    {
      "cell_type": "markdown",
      "metadata": {
        "id": "JasBr9LEMGuY"
      },
      "source": [
        "# Avaliando a Eficiência do Modelo: Coeficiente de Determinação, $R^2$ \n",
        "\n",
        "No caso de uma regressão simples podemos calcular diretamente os coeficientes $a$ e $b$ empregando apenas os valores médios de $x$ e $y$, a $cov(x,y)$ e a $var(x)$. Assim, para quaisquer conjuntos de dados podemos *sempre* calcular um modelo de regressão *mesmo que o modelo linear não represente exatamente nossos dados*.  Isso é ilustrado pelo exemplo a seguir.\n"
      ]
    },
    {
      "cell_type": "code",
      "metadata": {
        "id": "71Ah6tXZUy04"
      },
      "source": [
        "# you can skip this code!\n",
        "\n",
        "x = np.arange(-10,10,1)\n",
        "ruido = norm.rvs(loc=0, scale=1, size=len(x), random_state=1234)\n",
        "df = pd.DataFrame({'dataset':'I','x':x,'y': 2*x + 3 + ruido})\n",
        "df = pd.concat( [df, pd.DataFrame({'dataset':'II','x':x,'y': 2*x**2 + 3 }) ])\n",
        "df = pd.concat( [df, pd.DataFrame({'dataset':'III','x':x,'y': x**3 - 2*x }) ])\n",
        "df = pd.concat( [df, pd.DataFrame({'dataset':'IV','x':x,'y': np.exp(1)**x }) ])"
      ],
      "execution_count": null,
      "outputs": []
    },
    {
      "cell_type": "code",
      "metadata": {
        "colab": {
          "base_uri": "https://localhost:8080/",
          "height": 424
        },
        "id": "w6Ky9RjvWme6",
        "outputId": "85c9fbe2-021a-430e-f21b-38b23334c8a6"
      },
      "source": [
        "df"
      ],
      "execution_count": null,
      "outputs": [
        {
          "output_type": "execute_result",
          "data": {
            "text/html": [
              "\n",
              "  <div id=\"df-6eafff1d-93c8-41d0-8bdc-7dd2271b187a\">\n",
              "    <div class=\"colab-df-container\">\n",
              "      <div>\n",
              "<style scoped>\n",
              "    .dataframe tbody tr th:only-of-type {\n",
              "        vertical-align: middle;\n",
              "    }\n",
              "\n",
              "    .dataframe tbody tr th {\n",
              "        vertical-align: top;\n",
              "    }\n",
              "\n",
              "    .dataframe thead th {\n",
              "        text-align: right;\n",
              "    }\n",
              "</style>\n",
              "<table border=\"1\" class=\"dataframe\">\n",
              "  <thead>\n",
              "    <tr style=\"text-align: right;\">\n",
              "      <th></th>\n",
              "      <th>dataset</th>\n",
              "      <th>x</th>\n",
              "      <th>y</th>\n",
              "    </tr>\n",
              "  </thead>\n",
              "  <tbody>\n",
              "    <tr>\n",
              "      <th>0</th>\n",
              "      <td>I</td>\n",
              "      <td>-10</td>\n",
              "      <td>-16.528565</td>\n",
              "    </tr>\n",
              "    <tr>\n",
              "      <th>1</th>\n",
              "      <td>I</td>\n",
              "      <td>-9</td>\n",
              "      <td>-16.190976</td>\n",
              "    </tr>\n",
              "    <tr>\n",
              "      <th>2</th>\n",
              "      <td>I</td>\n",
              "      <td>-8</td>\n",
              "      <td>-11.567293</td>\n",
              "    </tr>\n",
              "    <tr>\n",
              "      <th>3</th>\n",
              "      <td>I</td>\n",
              "      <td>-7</td>\n",
              "      <td>-11.312652</td>\n",
              "    </tr>\n",
              "    <tr>\n",
              "      <th>4</th>\n",
              "      <td>I</td>\n",
              "      <td>-6</td>\n",
              "      <td>-9.720589</td>\n",
              "    </tr>\n",
              "    <tr>\n",
              "      <th>...</th>\n",
              "      <td>...</td>\n",
              "      <td>...</td>\n",
              "      <td>...</td>\n",
              "    </tr>\n",
              "    <tr>\n",
              "      <th>15</th>\n",
              "      <td>IV</td>\n",
              "      <td>5</td>\n",
              "      <td>148.413159</td>\n",
              "    </tr>\n",
              "    <tr>\n",
              "      <th>16</th>\n",
              "      <td>IV</td>\n",
              "      <td>6</td>\n",
              "      <td>403.428793</td>\n",
              "    </tr>\n",
              "    <tr>\n",
              "      <th>17</th>\n",
              "      <td>IV</td>\n",
              "      <td>7</td>\n",
              "      <td>1096.633158</td>\n",
              "    </tr>\n",
              "    <tr>\n",
              "      <th>18</th>\n",
              "      <td>IV</td>\n",
              "      <td>8</td>\n",
              "      <td>2980.957987</td>\n",
              "    </tr>\n",
              "    <tr>\n",
              "      <th>19</th>\n",
              "      <td>IV</td>\n",
              "      <td>9</td>\n",
              "      <td>8103.083928</td>\n",
              "    </tr>\n",
              "  </tbody>\n",
              "</table>\n",
              "<p>80 rows × 3 columns</p>\n",
              "</div>\n",
              "      <button class=\"colab-df-convert\" onclick=\"convertToInteractive('df-6eafff1d-93c8-41d0-8bdc-7dd2271b187a')\"\n",
              "              title=\"Convert this dataframe to an interactive table.\"\n",
              "              style=\"display:none;\">\n",
              "        \n",
              "  <svg xmlns=\"http://www.w3.org/2000/svg\" height=\"24px\"viewBox=\"0 0 24 24\"\n",
              "       width=\"24px\">\n",
              "    <path d=\"M0 0h24v24H0V0z\" fill=\"none\"/>\n",
              "    <path d=\"M18.56 5.44l.94 2.06.94-2.06 2.06-.94-2.06-.94-.94-2.06-.94 2.06-2.06.94zm-11 1L8.5 8.5l.94-2.06 2.06-.94-2.06-.94L8.5 2.5l-.94 2.06-2.06.94zm10 10l.94 2.06.94-2.06 2.06-.94-2.06-.94-.94-2.06-.94 2.06-2.06.94z\"/><path d=\"M17.41 7.96l-1.37-1.37c-.4-.4-.92-.59-1.43-.59-.52 0-1.04.2-1.43.59L10.3 9.45l-7.72 7.72c-.78.78-.78 2.05 0 2.83L4 21.41c.39.39.9.59 1.41.59.51 0 1.02-.2 1.41-.59l7.78-7.78 2.81-2.81c.8-.78.8-2.07 0-2.86zM5.41 20L4 18.59l7.72-7.72 1.47 1.35L5.41 20z\"/>\n",
              "  </svg>\n",
              "      </button>\n",
              "      \n",
              "  <style>\n",
              "    .colab-df-container {\n",
              "      display:flex;\n",
              "      flex-wrap:wrap;\n",
              "      gap: 12px;\n",
              "    }\n",
              "\n",
              "    .colab-df-convert {\n",
              "      background-color: #E8F0FE;\n",
              "      border: none;\n",
              "      border-radius: 50%;\n",
              "      cursor: pointer;\n",
              "      display: none;\n",
              "      fill: #1967D2;\n",
              "      height: 32px;\n",
              "      padding: 0 0 0 0;\n",
              "      width: 32px;\n",
              "    }\n",
              "\n",
              "    .colab-df-convert:hover {\n",
              "      background-color: #E2EBFA;\n",
              "      box-shadow: 0px 1px 2px rgba(60, 64, 67, 0.3), 0px 1px 3px 1px rgba(60, 64, 67, 0.15);\n",
              "      fill: #174EA6;\n",
              "    }\n",
              "\n",
              "    [theme=dark] .colab-df-convert {\n",
              "      background-color: #3B4455;\n",
              "      fill: #D2E3FC;\n",
              "    }\n",
              "\n",
              "    [theme=dark] .colab-df-convert:hover {\n",
              "      background-color: #434B5C;\n",
              "      box-shadow: 0px 1px 3px 1px rgba(0, 0, 0, 0.15);\n",
              "      filter: drop-shadow(0px 1px 2px rgba(0, 0, 0, 0.3));\n",
              "      fill: #FFFFFF;\n",
              "    }\n",
              "  </style>\n",
              "\n",
              "      <script>\n",
              "        const buttonEl =\n",
              "          document.querySelector('#df-6eafff1d-93c8-41d0-8bdc-7dd2271b187a button.colab-df-convert');\n",
              "        buttonEl.style.display =\n",
              "          google.colab.kernel.accessAllowed ? 'block' : 'none';\n",
              "\n",
              "        async function convertToInteractive(key) {\n",
              "          const element = document.querySelector('#df-6eafff1d-93c8-41d0-8bdc-7dd2271b187a');\n",
              "          const dataTable =\n",
              "            await google.colab.kernel.invokeFunction('convertToInteractive',\n",
              "                                                     [key], {});\n",
              "          if (!dataTable) return;\n",
              "\n",
              "          const docLinkHtml = 'Like what you see? Visit the ' +\n",
              "            '<a target=\"_blank\" href=https://colab.research.google.com/notebooks/data_table.ipynb>data table notebook</a>'\n",
              "            + ' to learn more about interactive tables.';\n",
              "          element.innerHTML = '';\n",
              "          dataTable['output_type'] = 'display_data';\n",
              "          await google.colab.output.renderOutput(dataTable, element);\n",
              "          const docLink = document.createElement('div');\n",
              "          docLink.innerHTML = docLinkHtml;\n",
              "          element.appendChild(docLink);\n",
              "        }\n",
              "      </script>\n",
              "    </div>\n",
              "  </div>\n",
              "  "
            ],
            "text/plain": [
              "   dataset   x            y\n",
              "0        I -10   -16.528565\n",
              "1        I  -9   -16.190976\n",
              "2        I  -8   -11.567293\n",
              "3        I  -7   -11.312652\n",
              "4        I  -6    -9.720589\n",
              "..     ...  ..          ...\n",
              "15      IV   5   148.413159\n",
              "16      IV   6   403.428793\n",
              "17      IV   7  1096.633158\n",
              "18      IV   8  2980.957987\n",
              "19      IV   9  8103.083928\n",
              "\n",
              "[80 rows x 3 columns]"
            ]
          },
          "metadata": {},
          "execution_count": 24
        }
      ]
    },
    {
      "cell_type": "code",
      "metadata": {
        "colab": {
          "base_uri": "https://localhost:8080/",
          "height": 764
        },
        "id": "SOPxG8E2LMQh",
        "outputId": "27a4b117-3946-495f-f414-c0f146994f97"
      },
      "source": [
        "# you can skip this code!\n",
        "\n",
        "fig, ax = plt.subplots(2,2,figsize=(12,8))\n",
        "\n",
        "fig.suptitle('Regressões Lineares', fontsize=14, weight='bold', y=1.05)\n",
        "\n",
        "i = 0\n",
        "for ds_type in df.dataset.unique():\n",
        "  ds = df[df.dataset == ds_type]\n",
        "\n",
        "  z = np.polyfit(ds.x, ds.y, 1)\n",
        "  p = np.poly1d(z)\n",
        "  print('Modelo de Regressão, Dataset:', ds_type, p)\n",
        "\n",
        "  ax[i//2,i%2].scatter(ds.x,ds.y)\n",
        "\n",
        "  x = np.arange(ds.x.min(), ds.x.max(), 0.1)\n",
        "  ax[i//2,i%2].plot(x,p(x),color='darkorange', linestyle='dashed')\n",
        "\n",
        "  ax[i//2,i%2].set_title('Dataset ' + ds_type)\n",
        "\n",
        "  i += 1\n",
        "\n",
        "plt.tight_layout()\n",
        "plt.show()"
      ],
      "execution_count": null,
      "outputs": [
        {
          "output_type": "stream",
          "name": "stdout",
          "text": [
            "Modelo de Regressão, Dataset: I  \n",
            "1.991 x + 2.984\n",
            "Modelo de Regressão, Dataset: II  \n",
            "-2 x + 69\n",
            "Modelo de Regressão, Dataset: III  \n",
            "58.4 x - 19.8\n",
            "Modelo de Regressão, Dataset: IV  \n",
            "171.9 x + 726.9\n"
          ]
        },
        {
          "output_type": "display_data",
          "data": {
            "image/png": "[encoded data removed]",
            "text/plain": [
              "<Figure size 864x576 with 4 Axes>"
            ]
          },
          "metadata": {
            "needs_background": "light"
          }
        }
      ]
    },
    {
      "cell_type": "markdown",
      "metadata": {
        "id": "D2NezwEROyvR"
      },
      "source": [
        "Os quatro conjuntos de dados acima foram obtidos aplicando-se as funções: \n",
        "\n",
        "$ (I) \\space \\space  \\space \\space y = 2x + 3 + \\epsilon , \\text{onde} \\space  \\epsilon = \\text{noise} $ \n",
        "\n",
        "$ (II) \\space \\space  \\space \\space y = 2x^2 + 3   $\n",
        "\n",
        "$ (III) \\space \\space  \\space \\space y  =  x^3 - 2x  $\n",
        "\n",
        "$ (IV) \\space \\space  \\space \\space y  = x cos(x) + x   $\n",
        "\n",
        "Embora apenas o conjunto de dados $I$ se ajuste de fato a um modelo linear você pode notar que podemos calcular o modelo linear em todos os casos, *mesmo ele não se ajustando aos dados*!\n",
        "\n",
        "No caso de uma regressão simples você pode observar o ajuste ou não do modelo fazendo uma inspeção visual como acima. Mas o mesmo pode ocorrer no caso de uma regressão múltipla e, neste caso, havendo mais dimensões você não poderá observar o ajuste dos dados ao modelo. Por isso é necessário termos uma métrica, uma medida que avalia a **eficiência do modelo**, ou o quanto os dados se ajustam ao nosso modelo proposto. A métrica mais importante para uma regressão linear é o **Coeficiente de Determinação**, $R^2$ ou ainda $R-Square$.\n",
        "\n",
        "O **Coeficiente de Determinação** é uma medida no intervalo $[0,1]$ que indica o quanto um modelo linear explica a variância de um conjunto de dados. Quanto mais próximo de $1$ o valor do $R^2$, mais os dados se ajustam ao  modelo linear. \n",
        "\n",
        "$$ R^2 = 1 - \\frac{E_{res}}{E_{total}} $$\n",
        "\n",
        "\n",
        "onde \n",
        "\n",
        "$$E_{res} = \\sum (y_i - \\widehat y_i )^2 $$  é a *soma dos quadrados residuais* e,\n",
        "\n",
        "$$E_{total} = \\sum (y_i - \\bar y )^2 $$ \n",
        "\n",
        "\n",
        "é a *soma total dos quadrados*.\n",
        "\n",
        "\n"
      ]
    },
    {
      "cell_type": "markdown",
      "metadata": {
        "id": "InZzynQHcsId"
      },
      "source": [
        "De fato, como você pode observar, somente o primeiro conjunto dos quatro conjuntos de dados acima têm apresentam um coeficiente de determinação próximo de 1."
      ]
    },
    {
      "cell_type": "code",
      "metadata": {
        "colab": {
          "base_uri": "https://localhost:8080/"
        },
        "id": "ng78NB6ES7KB",
        "outputId": "c91520da-0b7e-4f00-f6f0-2450519fb608"
      },
      "source": [
        "# you can skip this code!\n",
        "\n",
        "R2 = {}\n",
        "for ds_type in df.dataset.unique():\n",
        "  ds = df[df.dataset == ds_type]\n",
        "\n",
        "  z = np.polyfit(ds.x, ds.y, 1)\n",
        "  p = np.poly1d(z)\n",
        "\n",
        "  R2[ds_type] = 1 - sum((ds.y - p(ds.x))**2) / sum((ds.y - np.mean(y))**2)\n",
        " \n",
        "for dataset, r2 in R2.items():\n",
        "  print('Dataset ' + dataset + ', R-Square = ' + str(np.round(r2,4)))\n",
        "  "
      ],
      "execution_count": null,
      "outputs": [
        {
          "output_type": "stream",
          "name": "stdout",
          "text": [
            "Dataset I, R-Square = 0.9999\n",
            "Dataset II, R-Square = 0.266\n",
            "Dataset III, R-Square = 0.8505\n",
            "Dataset IV, R-Square = 0.3459\n"
          ]
        }
      ]
    },
    {
      "cell_type": "markdown",
      "metadata": {
        "id": "cp1JP41VSzOa"
      },
      "source": [
        "Basicamente o coeficiente de determinação é uma medida de proporção que verifica o quanto variância dos dados está representada no modelo com relação ao modelo trivial $y = \\bar{x}$.\n",
        "\n",
        "\n",
        "<br>\n",
        "<br>\n",
        "<br>\n",
        "<img src=\"https://upload.wikimedia.org/wikipedia/commons/8/86/Coefficient_of_Determination.svg\"  width=500, align=\"center\">\n",
        "<br>\n",
        "<br>\n",
        "<br>\n",
        "\n",
        "<small>\n",
        "<b>\n",
        "Figura 4. À esquerda, em vermelho, as variâncias com relação ao modelo trivial e, à direita, as variâncias do modelo de regressão (em azul). <br></b>(Fonte: Wikipedia)"
      ]
    },
    {
      "cell_type": "markdown",
      "metadata": {
        "id": "SO9fBOTCdOZe"
      },
      "source": [
        "O $R^2$ é útil para avaliarmos a adequação de um modelo de regressão linear aos dados e pode também ser empregado para compararmos modelos que disputam entre si. Por exemplo, você pode ter dois modelos de regressão múltipla para obter o preço de imóveis. Um deles considera um atributo adicional *bairro  do imóvel*, o outro não. O coeficiente então pode ser empregado para avaliar qual o melhor modelo. \n",
        "\n",
        "> **Você vai encontrar essas métricas de avaliação de eficiência dos modelos para quaisquer modelos supervisionados e elas podem ser empregadas na busca de um melhor modelo, ajustando parâmetros de um modelo ou na seleção entre vários modelos que competem.**"
      ]
    },
    {
      "cell_type": "markdown",
      "metadata": {
        "id": "s1cnLdlQfal-"
      },
      "source": [
        "# $R^2$ Ajustado\n",
        "\n",
        "O $R^2$ Ajustado é uma medida alternativa para avaliação do modelo e existem ainda outras métricas. \n",
        "\n",
        "A inclusão de inúmeras variáveis, mesmo com pouco poder explicativo sobre a variável dependente, podem sempre aumentar o valor de $R^2$. Isso é um incentivo para a inclusão indiscriminada de variáveis, prejudicando o princípio da parcimônia (princípio da *navalha de Ockham*) em que o aumento de complexidade não leva a ganhos proporcionais no modelo. Para evitar isso você pode empregar o coeficiente de determinação ajustado que penaliza a inclusão de preditores pouco explicativos no modelo:  \n",
        "\n",
        "$${\\displaystyle {\\bar {R^{2}}}=1-{\\frac {n-1}{n-(k+1)}}\\left(1-R^{2}\\right),}\n",
        " $$\n",
        "\n",
        "$k+1 $ representa o número de variáveis explicativas mais a constante, e a inclusão de variáveis pouco explicativas passa a penalizar o valor do $R^2$ com o valor ajustado para baixo."
      ]
    },
    {
      "cell_type": "markdown",
      "metadata": {
        "deletable": true,
        "editable": true,
        "id": "qK4Wi5vshpPc"
      },
      "source": [
        "# Modelos de Regressão em Python\n",
        "\n",
        "Você vai aprender agora como obter modelos de regressão simples e múltipla empregando o pacote `statsmodels` do Python. Vamos começar com uma regressão simples de valores aleatórios, algo que já fizemos antes, mas agora vamos fazer passo a passo para você se familiarizar com a construção do modelo. "
      ]
    },
    {
      "cell_type": "code",
      "metadata": {
        "id": "UPVeFK3a5i6d"
      },
      "source": [
        "import statsmodels.formula.api as sm"
      ],
      "execution_count": null,
      "outputs": []
    },
    {
      "cell_type": "markdown",
      "metadata": {
        "id": "hsCr050-MUNR"
      },
      "source": [
        "Vamos gerar uma amostra de 50 valores \"aleatórios\" a partir de uma função linear.    "
      ]
    },
    {
      "cell_type": "code",
      "metadata": {
        "id": "-s5TcBJLs5Z0",
        "colab": {
          "base_uri": "https://localhost:8080/",
          "height": 490
        },
        "outputId": "69e4d591-888d-4c82-f75e-604382aee4f3"
      },
      "source": [
        "rng = np.random.RandomState(1)\n",
        "x = 10 * rng.rand(50)\n",
        "y = 2 * x - 5 + rng.randn(50)\n",
        "sns.scatterplot(x=x, y=y)\n",
        "\n",
        "plt.title('Modelo de Regressão Linear', fontsize=14, weight='bold')\n",
        "plt.xlabel('$x$', fontsize=16)\n",
        "plt.ylabel('$y$', fontsize=16)\n",
        "plt.show()\n",
        "\n",
        "\n",
        "df = pd.DataFrame({'x':x,'y':y})\n",
        "df.head()"
      ],
      "execution_count": null,
      "outputs": [
        {
          "output_type": "display_data",
          "data": {
            "image/png": "[encoded data removed]",
            "text/plain": [
              "<Figure size 432x288 with 1 Axes>"
            ]
          },
          "metadata": {
            "needs_background": "light"
          }
        },
        {
          "output_type": "execute_result",
          "data": {
            "text/html": [
              "\n",
              "  <div id=\"df-39155d4a-86c2-4c9b-b27b-4c90161e8357\">\n",
              "    <div class=\"colab-df-container\">\n",
              "      <div>\n",
              "<style scoped>\n",
              "    .dataframe tbody tr th:only-of-type {\n",
              "        vertical-align: middle;\n",
              "    }\n",
              "\n",
              "    .dataframe tbody tr th {\n",
              "        vertical-align: top;\n",
              "    }\n",
              "\n",
              "    .dataframe thead th {\n",
              "        text-align: right;\n",
              "    }\n",
              "</style>\n",
              "<table border=\"1\" class=\"dataframe\">\n",
              "  <thead>\n",
              "    <tr style=\"text-align: right;\">\n",
              "      <th></th>\n",
              "      <th>x</th>\n",
              "      <th>y</th>\n",
              "    </tr>\n",
              "  </thead>\n",
              "  <tbody>\n",
              "    <tr>\n",
              "      <th>0</th>\n",
              "      <td>4.170220</td>\n",
              "      <td>2.653267</td>\n",
              "    </tr>\n",
              "    <tr>\n",
              "      <th>1</th>\n",
              "      <td>7.203245</td>\n",
              "      <td>8.561284</td>\n",
              "    </tr>\n",
              "    <tr>\n",
              "      <th>2</th>\n",
              "      <td>0.001144</td>\n",
              "      <td>-5.668959</td>\n",
              "    </tr>\n",
              "    <tr>\n",
              "      <th>3</th>\n",
              "      <td>3.023326</td>\n",
              "      <td>1.033987</td>\n",
              "    </tr>\n",
              "    <tr>\n",
              "      <th>4</th>\n",
              "      <td>1.467559</td>\n",
              "      <td>-3.182193</td>\n",
              "    </tr>\n",
              "  </tbody>\n",
              "</table>\n",
              "</div>\n",
              "      <button class=\"colab-df-convert\" onclick=\"convertToInteractive('df-39155d4a-86c2-4c9b-b27b-4c90161e8357')\"\n",
              "              title=\"Convert this dataframe to an interactive table.\"\n",
              "              style=\"display:none;\">\n",
              "        \n",
              "  <svg xmlns=\"http://www.w3.org/2000/svg\" height=\"24px\"viewBox=\"0 0 24 24\"\n",
              "       width=\"24px\">\n",
              "    <path d=\"M0 0h24v24H0V0z\" fill=\"none\"/>\n",
              "    <path d=\"M18.56 5.44l.94 2.06.94-2.06 2.06-.94-2.06-.94-.94-2.06-.94 2.06-2.06.94zm-11 1L8.5 8.5l.94-2.06 2.06-.94-2.06-.94L8.5 2.5l-.94 2.06-2.06.94zm10 10l.94 2.06.94-2.06 2.06-.94-2.06-.94-.94-2.06-.94 2.06-2.06.94z\"/><path d=\"M17.41 7.96l-1.37-1.37c-.4-.4-.92-.59-1.43-.59-.52 0-1.04.2-1.43.59L10.3 9.45l-7.72 7.72c-.78.78-.78 2.05 0 2.83L4 21.41c.39.39.9.59 1.41.59.51 0 1.02-.2 1.41-.59l7.78-7.78 2.81-2.81c.8-.78.8-2.07 0-2.86zM5.41 20L4 18.59l7.72-7.72 1.47 1.35L5.41 20z\"/>\n",
              "  </svg>\n",
              "      </button>\n",
              "      \n",
              "  <style>\n",
              "    .colab-df-container {\n",
              "      display:flex;\n",
              "      flex-wrap:wrap;\n",
              "      gap: 12px;\n",
              "    }\n",
              "\n",
              "    .colab-df-convert {\n",
              "      background-color: #E8F0FE;\n",
              "      border: none;\n",
              "      border-radius: 50%;\n",
              "      cursor: pointer;\n",
              "      display: none;\n",
              "      fill: #1967D2;\n",
              "      height: 32px;\n",
              "      padding: 0 0 0 0;\n",
              "      width: 32px;\n",
              "    }\n",
              "\n",
              "    .colab-df-convert:hover {\n",
              "      background-color: #E2EBFA;\n",
              "      box-shadow: 0px 1px 2px rgba(60, 64, 67, 0.3), 0px 1px 3px 1px rgba(60, 64, 67, 0.15);\n",
              "      fill: #174EA6;\n",
              "    }\n",
              "\n",
              "    [theme=dark] .colab-df-convert {\n",
              "      background-color: #3B4455;\n",
              "      fill: #D2E3FC;\n",
              "    }\n",
              "\n",
              "    [theme=dark] .colab-df-convert:hover {\n",
              "      background-color: #434B5C;\n",
              "      box-shadow: 0px 1px 3px 1px rgba(0, 0, 0, 0.15);\n",
              "      filter: drop-shadow(0px 1px 2px rgba(0, 0, 0, 0.3));\n",
              "      fill: #FFFFFF;\n",
              "    }\n",
              "  </style>\n",
              "\n",
              "      <script>\n",
              "        const buttonEl =\n",
              "          document.querySelector('#df-39155d4a-86c2-4c9b-b27b-4c90161e8357 button.colab-df-convert');\n",
              "        buttonEl.style.display =\n",
              "          google.colab.kernel.accessAllowed ? 'block' : 'none';\n",
              "\n",
              "        async function convertToInteractive(key) {\n",
              "          const element = document.querySelector('#df-39155d4a-86c2-4c9b-b27b-4c90161e8357');\n",
              "          const dataTable =\n",
              "            await google.colab.kernel.invokeFunction('convertToInteractive',\n",
              "                                                     [key], {});\n",
              "          if (!dataTable) return;\n",
              "\n",
              "          const docLinkHtml = 'Like what you see? Visit the ' +\n",
              "            '<a target=\"_blank\" href=https://colab.research.google.com/notebooks/data_table.ipynb>data table notebook</a>'\n",
              "            + ' to learn more about interactive tables.';\n",
              "          element.innerHTML = '';\n",
              "          dataTable['output_type'] = 'display_data';\n",
              "          await google.colab.output.renderOutput(dataTable, element);\n",
              "          const docLink = document.createElement('div');\n",
              "          docLink.innerHTML = docLinkHtml;\n",
              "          element.appendChild(docLink);\n",
              "        }\n",
              "      </script>\n",
              "    </div>\n",
              "  </div>\n",
              "  "
            ],
            "text/plain": [
              "          x         y\n",
              "0  4.170220  2.653267\n",
              "1  7.203245  8.561284\n",
              "2  0.001144 -5.668959\n",
              "3  3.023326  1.033987\n",
              "4  1.467559 -3.182193"
            ]
          },
          "metadata": {},
          "execution_count": 28
        }
      ]
    },
    {
      "cell_type": "markdown",
      "metadata": {
        "id": "Pxs0RHZfOQKQ"
      },
      "source": [
        "## Construindo o modelo linear, `sm.ols(formula = , data= )`\n",
        "\n",
        "A função `sm.ols()` (ordinary least squares, se refere ao método de otimização empregado) requer um conjunto de treinamento e um parâmetro `formula` (*patsy* fórmula, um formato bastante empregado em modelos) que indica a variável dependente (objetivo) e as variáveis independentes (preditoras) do modelo. \n",
        "\n",
        "````\n",
        "                                                              formula = 'y ~ x' \n",
        "````\n",
        "significa\n",
        "\n",
        "$$ y \\leftarrow  x $$\n",
        "\n",
        "para um modelo\n",
        "\n",
        "$$ \\widehat y = a_0 + a_1 x $$\n",
        "\n"
      ]
    },
    {
      "cell_type": "markdown",
      "source": [
        "Podemos então declarar o modelo,"
      ],
      "metadata": {
        "id": "Eb5Xgt3KVaMR"
      }
    },
    {
      "cell_type": "code",
      "metadata": {
        "id": "nFLNCFPcNePO"
      },
      "source": [
        "# Define o modelo\n",
        "model = sm.ols(formula='y ~ x', data=df)\n"
      ],
      "execution_count": null,
      "outputs": []
    },
    {
      "cell_type": "markdown",
      "source": [
        "E em seguida fazer o ajuste, *fit*, do modelo aos dados. É o treinamento ou aprendizado do modelo. "
      ],
      "metadata": {
        "id": "viNTStynVeL1"
      }
    },
    {
      "cell_type": "code",
      "metadata": {
        "id": "c-3iMXYENePT"
      },
      "source": [
        "# Treinamento\n",
        "result = model.fit()\n"
      ],
      "execution_count": null,
      "outputs": []
    },
    {
      "cell_type": "markdown",
      "source": [
        "O método `summary()` apresenta, então, vários resultados do modelo."
      ],
      "metadata": {
        "id": "B52-lL5cV0C9"
      }
    },
    {
      "cell_type": "code",
      "source": [
        "print(result.summary())"
      ],
      "metadata": {
        "colab": {
          "base_uri": "https://localhost:8080/"
        },
        "id": "OxNMLs8BVzG-",
        "outputId": "674062f2-83bd-471f-c1f2-26974cbf9532"
      },
      "execution_count": null,
      "outputs": [
        {
          "output_type": "stream",
          "name": "stdout",
          "text": [
            "                            OLS Regression Results                            \n",
            "==============================================================================\n",
            "Dep. Variable:                      y   R-squared:                       0.979\n",
            "Model:                            OLS   Adj. R-squared:                  0.979\n",
            "Method:                 Least Squares   F-statistic:                     2246.\n",
            "Date:                Sun, 06 Mar 2022   Prob (F-statistic):           5.71e-42\n",
            "Time:                        02:04:52   Log-Likelihood:                -65.935\n",
            "No. Observations:                  50   AIC:                             135.9\n",
            "Df Residuals:                      48   BIC:                             139.7\n",
            "Df Model:                           1                                         \n",
            "Covariance Type:            nonrobust                                         \n",
            "==============================================================================\n",
            "                 coef    std err          t      P>|t|      [0.025      0.975]\n",
            "------------------------------------------------------------------------------\n",
            "Intercept     -4.9986      0.239    -20.948      0.000      -5.478      -4.519\n",
            "x              2.0272      0.043     47.397      0.000       1.941       2.113\n",
            "==============================================================================\n",
            "Omnibus:                        0.058   Durbin-Watson:                   1.590\n",
            "Prob(Omnibus):                  0.971   Jarque-Bera (JB):                0.057\n",
            "Skew:                           0.048   Prob(JB):                        0.972\n",
            "Kurtosis:                       2.865   Cond. No.                         10.4\n",
            "==============================================================================\n",
            "\n",
            "Warnings:\n",
            "[1] Standard Errors assume that the covariance matrix of the errors is correctly specified.\n"
          ]
        }
      ]
    },
    {
      "cell_type": "markdown",
      "metadata": {
        "id": "Xjaa4yXuQSkg"
      },
      "source": [
        "Observando os coeficientes no sumário do modelo acima vemos que o modelo de aproximação linear é dado por:\n",
        "\n",
        "$$ \\hat y = -4.9986 + 2.0272 x $$\n",
        "\n",
        "E podemos empregar o modelo para estimar   valores de $y$, isto é $\\bar y$ (`predicted`), e  comparar seus valores. \n"
      ]
    },
    {
      "cell_type": "code",
      "metadata": {
        "id": "U_A0fYshQqOb"
      },
      "source": [
        "df['predicted'] = result.predict(df.x)"
      ],
      "execution_count": null,
      "outputs": []
    },
    {
      "cell_type": "code",
      "metadata": {
        "id": "yMYyQouNRpXq",
        "colab": {
          "base_uri": "https://localhost:8080/",
          "height": 301
        },
        "outputId": "11ca426c-a798-4cae-8910-65f32ea7123e"
      },
      "source": [
        "sns.scatterplot(x='x',y='y',data=df)\n",
        "sns.scatterplot(x='x',y='predicted',data=df)\n",
        "sns.lineplot(x='x',y='predicted',data=df,color='red', label='predicted')\n",
        "\n",
        "plt.title('Modelo de Regressão Linear', fontsize=14, weight='bold')\n",
        "plt.xlabel('$x$', fontsize=16)\n",
        "plt.ylabel('$y$', fontsize=16)\n",
        "\n",
        "plt.legend()\n",
        "plt.show()"
      ],
      "execution_count": null,
      "outputs": [
        {
          "output_type": "display_data",
          "data": {
            "image/png": "[encoded data removed]",
            "text/plain": [
              "<Figure size 432x288 with 1 Axes>"
            ]
          },
          "metadata": {
            "needs_background": "light"
          }
        }
      ]
    },
    {
      "cell_type": "markdown",
      "metadata": {
        "id": "jpETdDCPnVPm"
      },
      "source": [
        "## Analisando a Eficiência do Modelo\n",
        "\n",
        "O Sumário acima ainda traz o Coeficiente de Determinação e os *p-values* dos coeficientes. O primeiro você já conhece e é uma medida geral da eficiência do modelo.\n",
        "\n",
        "$$ R^2 = 0.979 $$\n",
        "\n",
        "Esse é um valor bastante próximo de 1 e que garante termos um modelo que explica bastante bem os dados.\n",
        "\n",
        "Outra medida importante de se observar são os $p-values$ dos coeficientes. Eles são um teste de hipótese sobre os valores dos coeficientes onde a hipótese nula é de que os coeficientes são não significativos ($= 0$). A hipótese alternativa é de que o coeficiente é significativo (e, portanto $\\ne 0$). Assim, $ p-values < 0.05 $ indicarão que o coeficiente é significativo para o modelo e podemos observar que para os dois coeficientes acima (`Intercept` e `x`) os valores são significativos.\n",
        "\n",
        "$$ p-value(a_i) < 0.05 \\Rightarrow a_i \\space \\text{é Significativo} $$\n",
        "\n",
        "Podemos assim, dizer que\n",
        "\n",
        "$$ \\hat y = -4.9986 + 2.0272 x $$ \n",
        "\n",
        "é um modelo que aproxima bastante bem os dados.\n",
        "\n",
        "Existem várias outras métricas nos resultados acima, mas para os nossos propósitos a análise acima já é suficiente.\n",
        "\n",
        "> **$R^2$ qual é um bom valor? Novamente não existe um modelo 'certo' e a questão é melhor formulada em termos de: qual é um bom resultado para os seus propósitos? Mas de modo geral valores $R^2 > 0.8$ já são bastante úteis mesmo para predições e com valores abaixo $R^2 < 0.6$ recomendaríamos buscar outros modelos de aproximação dos dados.**\n"
      ]
    },
    {
      "cell_type": "markdown",
      "metadata": {
        "id": "RUkrHCJKSYn3"
      },
      "source": [
        "# CASO: Estimando o Preço de Veículos\n",
        "\n",
        "Vamos empregar agora um conjunto de dados mais interessante e estimar o Preço de veículos com base em suas características. Vamos empregar o seguinte conjunto de dados:"
      ]
    },
    {
      "cell_type": "code",
      "metadata": {
        "id": "V5gWRJ945fCy",
        "colab": {
          "base_uri": "https://localhost:8080/",
          "height": 386
        },
        "outputId": "f30cfa82-92e9-4786-bfd1-3e52a47a5828"
      },
      "source": [
        "df = pd.read_csv(\"https://vincentarelbundock.github.io/Rdatasets/csv/MASS/Cars93.csv\",index_col=0)\n",
        "df.head()"
      ],
      "execution_count": null,
      "outputs": [
        {
          "output_type": "execute_result",
          "data": {
            "text/html": [
              "\n",
              "  <div id=\"df-c5192c4a-15dd-4f20-8c8b-037f5992308a\">\n",
              "    <div class=\"colab-df-container\">\n",
              "      <div>\n",
              "<style scoped>\n",
              "    .dataframe tbody tr th:only-of-type {\n",
              "        vertical-align: middle;\n",
              "    }\n",
              "\n",
              "    .dataframe tbody tr th {\n",
              "        vertical-align: top;\n",
              "    }\n",
              "\n",
              "    .dataframe thead th {\n",
              "        text-align: right;\n",
              "    }\n",
              "</style>\n",
              "<table border=\"1\" class=\"dataframe\">\n",
              "  <thead>\n",
              "    <tr style=\"text-align: right;\">\n",
              "      <th></th>\n",
              "      <th>Manufacturer</th>\n",
              "      <th>Model</th>\n",
              "      <th>Type</th>\n",
              "      <th>Min.Price</th>\n",
              "      <th>Price</th>\n",
              "      <th>Max.Price</th>\n",
              "      <th>MPG.city</th>\n",
              "      <th>MPG.highway</th>\n",
              "      <th>AirBags</th>\n",
              "      <th>DriveTrain</th>\n",
              "      <th>...</th>\n",
              "      <th>Passengers</th>\n",
              "      <th>Length</th>\n",
              "      <th>Wheelbase</th>\n",
              "      <th>Width</th>\n",
              "      <th>Turn.circle</th>\n",
              "      <th>Rear.seat.room</th>\n",
              "      <th>Luggage.room</th>\n",
              "      <th>Weight</th>\n",
              "      <th>Origin</th>\n",
              "      <th>Make</th>\n",
              "    </tr>\n",
              "  </thead>\n",
              "  <tbody>\n",
              "    <tr>\n",
              "      <th>1</th>\n",
              "      <td>Acura</td>\n",
              "      <td>Integra</td>\n",
              "      <td>Small</td>\n",
              "      <td>12.9</td>\n",
              "      <td>15.9</td>\n",
              "      <td>18.8</td>\n",
              "      <td>25</td>\n",
              "      <td>31</td>\n",
              "      <td>None</td>\n",
              "      <td>Front</td>\n",
              "      <td>...</td>\n",
              "      <td>5</td>\n",
              "      <td>177</td>\n",
              "      <td>102</td>\n",
              "      <td>68</td>\n",
              "      <td>37</td>\n",
              "      <td>26.5</td>\n",
              "      <td>11.0</td>\n",
              "      <td>2705</td>\n",
              "      <td>non-USA</td>\n",
              "      <td>Acura Integra</td>\n",
              "    </tr>\n",
              "    <tr>\n",
              "      <th>2</th>\n",
              "      <td>Acura</td>\n",
              "      <td>Legend</td>\n",
              "      <td>Midsize</td>\n",
              "      <td>29.2</td>\n",
              "      <td>33.9</td>\n",
              "      <td>38.7</td>\n",
              "      <td>18</td>\n",
              "      <td>25</td>\n",
              "      <td>Driver &amp; Passenger</td>\n",
              "      <td>Front</td>\n",
              "      <td>...</td>\n",
              "      <td>5</td>\n",
              "      <td>195</td>\n",
              "      <td>115</td>\n",
              "      <td>71</td>\n",
              "      <td>38</td>\n",
              "      <td>30.0</td>\n",
              "      <td>15.0</td>\n",
              "      <td>3560</td>\n",
              "      <td>non-USA</td>\n",
              "      <td>Acura Legend</td>\n",
              "    </tr>\n",
              "    <tr>\n",
              "      <th>3</th>\n",
              "      <td>Audi</td>\n",
              "      <td>90</td>\n",
              "      <td>Compact</td>\n",
              "      <td>25.9</td>\n",
              "      <td>29.1</td>\n",
              "      <td>32.3</td>\n",
              "      <td>20</td>\n",
              "      <td>26</td>\n",
              "      <td>Driver only</td>\n",
              "      <td>Front</td>\n",
              "      <td>...</td>\n",
              "      <td>5</td>\n",
              "      <td>180</td>\n",
              "      <td>102</td>\n",
              "      <td>67</td>\n",
              "      <td>37</td>\n",
              "      <td>28.0</td>\n",
              "      <td>14.0</td>\n",
              "      <td>3375</td>\n",
              "      <td>non-USA</td>\n",
              "      <td>Audi 90</td>\n",
              "    </tr>\n",
              "    <tr>\n",
              "      <th>4</th>\n",
              "      <td>Audi</td>\n",
              "      <td>100</td>\n",
              "      <td>Midsize</td>\n",
              "      <td>30.8</td>\n",
              "      <td>37.7</td>\n",
              "      <td>44.6</td>\n",
              "      <td>19</td>\n",
              "      <td>26</td>\n",
              "      <td>Driver &amp; Passenger</td>\n",
              "      <td>Front</td>\n",
              "      <td>...</td>\n",
              "      <td>6</td>\n",
              "      <td>193</td>\n",
              "      <td>106</td>\n",
              "      <td>70</td>\n",
              "      <td>37</td>\n",
              "      <td>31.0</td>\n",
              "      <td>17.0</td>\n",
              "      <td>3405</td>\n",
              "      <td>non-USA</td>\n",
              "      <td>Audi 100</td>\n",
              "    </tr>\n",
              "    <tr>\n",
              "      <th>5</th>\n",
              "      <td>BMW</td>\n",
              "      <td>535i</td>\n",
              "      <td>Midsize</td>\n",
              "      <td>23.7</td>\n",
              "      <td>30.0</td>\n",
              "      <td>36.2</td>\n",
              "      <td>22</td>\n",
              "      <td>30</td>\n",
              "      <td>Driver only</td>\n",
              "      <td>Rear</td>\n",
              "      <td>...</td>\n",
              "      <td>4</td>\n",
              "      <td>186</td>\n",
              "      <td>109</td>\n",
              "      <td>69</td>\n",
              "      <td>39</td>\n",
              "      <td>27.0</td>\n",
              "      <td>13.0</td>\n",
              "      <td>3640</td>\n",
              "      <td>non-USA</td>\n",
              "      <td>BMW 535i</td>\n",
              "    </tr>\n",
              "  </tbody>\n",
              "</table>\n",
              "<p>5 rows × 27 columns</p>\n",
              "</div>\n",
              "      <button class=\"colab-df-convert\" onclick=\"convertToInteractive('df-c5192c4a-15dd-4f20-8c8b-037f5992308a')\"\n",
              "              title=\"Convert this dataframe to an interactive table.\"\n",
              "              style=\"display:none;\">\n",
              "        \n",
              "  <svg xmlns=\"http://www.w3.org/2000/svg\" height=\"24px\"viewBox=\"0 0 24 24\"\n",
              "       width=\"24px\">\n",
              "    <path d=\"M0 0h24v24H0V0z\" fill=\"none\"/>\n",
              "    <path d=\"M18.56 5.44l.94 2.06.94-2.06 2.06-.94-2.06-.94-.94-2.06-.94 2.06-2.06.94zm-11 1L8.5 8.5l.94-2.06 2.06-.94-2.06-.94L8.5 2.5l-.94 2.06-2.06.94zm10 10l.94 2.06.94-2.06 2.06-.94-2.06-.94-.94-2.06-.94 2.06-2.06.94z\"/><path d=\"M17.41 7.96l-1.37-1.37c-.4-.4-.92-.59-1.43-.59-.52 0-1.04.2-1.43.59L10.3 9.45l-7.72 7.72c-.78.78-.78 2.05 0 2.83L4 21.41c.39.39.9.59 1.41.59.51 0 1.02-.2 1.41-.59l7.78-7.78 2.81-2.81c.8-.78.8-2.07 0-2.86zM5.41 20L4 18.59l7.72-7.72 1.47 1.35L5.41 20z\"/>\n",
              "  </svg>\n",
              "      </button>\n",
              "      \n",
              "  <style>\n",
              "    .colab-df-container {\n",
              "      display:flex;\n",
              "      flex-wrap:wrap;\n",
              "      gap: 12px;\n",
              "    }\n",
              "\n",
              "    .colab-df-convert {\n",
              "      background-color: #E8F0FE;\n",
              "      border: none;\n",
              "      border-radius: 50%;\n",
              "      cursor: pointer;\n",
              "      display: none;\n",
              "      fill: #1967D2;\n",
              "      height: 32px;\n",
              "      padding: 0 0 0 0;\n",
              "      width: 32px;\n",
              "    }\n",
              "\n",
              "    .colab-df-convert:hover {\n",
              "      background-color: #E2EBFA;\n",
              "      box-shadow: 0px 1px 2px rgba(60, 64, 67, 0.3), 0px 1px 3px 1px rgba(60, 64, 67, 0.15);\n",
              "      fill: #174EA6;\n",
              "    }\n",
              "\n",
              "    [theme=dark] .colab-df-convert {\n",
              "      background-color: #3B4455;\n",
              "      fill: #D2E3FC;\n",
              "    }\n",
              "\n",
              "    [theme=dark] .colab-df-convert:hover {\n",
              "      background-color: #434B5C;\n",
              "      box-shadow: 0px 1px 3px 1px rgba(0, 0, 0, 0.15);\n",
              "      filter: drop-shadow(0px 1px 2px rgba(0, 0, 0, 0.3));\n",
              "      fill: #FFFFFF;\n",
              "    }\n",
              "  </style>\n",
              "\n",
              "      <script>\n",
              "        const buttonEl =\n",
              "          document.querySelector('#df-c5192c4a-15dd-4f20-8c8b-037f5992308a button.colab-df-convert');\n",
              "        buttonEl.style.display =\n",
              "          google.colab.kernel.accessAllowed ? 'block' : 'none';\n",
              "\n",
              "        async function convertToInteractive(key) {\n",
              "          const element = document.querySelector('#df-c5192c4a-15dd-4f20-8c8b-037f5992308a');\n",
              "          const dataTable =\n",
              "            await google.colab.kernel.invokeFunction('convertToInteractive',\n",
              "                                                     [key], {});\n",
              "          if (!dataTable) return;\n",
              "\n",
              "          const docLinkHtml = 'Like what you see? Visit the ' +\n",
              "            '<a target=\"_blank\" href=https://colab.research.google.com/notebooks/data_table.ipynb>data table notebook</a>'\n",
              "            + ' to learn more about interactive tables.';\n",
              "          element.innerHTML = '';\n",
              "          dataTable['output_type'] = 'display_data';\n",
              "          await google.colab.output.renderOutput(dataTable, element);\n",
              "          const docLink = document.createElement('div');\n",
              "          docLink.innerHTML = docLinkHtml;\n",
              "          element.appendChild(docLink);\n",
              "        }\n",
              "      </script>\n",
              "    </div>\n",
              "  </div>\n",
              "  "
            ],
            "text/plain": [
              "  Manufacturer    Model     Type  Min.Price  Price  Max.Price  MPG.city  \\\n",
              "1        Acura  Integra    Small       12.9   15.9       18.8        25   \n",
              "2        Acura   Legend  Midsize       29.2   33.9       38.7        18   \n",
              "3         Audi       90  Compact       25.9   29.1       32.3        20   \n",
              "4         Audi      100  Midsize       30.8   37.7       44.6        19   \n",
              "5          BMW     535i  Midsize       23.7   30.0       36.2        22   \n",
              "\n",
              "   MPG.highway             AirBags DriveTrain  ... Passengers  Length  \\\n",
              "1           31                None      Front  ...          5     177   \n",
              "2           25  Driver & Passenger      Front  ...          5     195   \n",
              "3           26         Driver only      Front  ...          5     180   \n",
              "4           26  Driver & Passenger      Front  ...          6     193   \n",
              "5           30         Driver only       Rear  ...          4     186   \n",
              "\n",
              "   Wheelbase  Width  Turn.circle Rear.seat.room  Luggage.room  Weight  \\\n",
              "1        102     68           37           26.5          11.0    2705   \n",
              "2        115     71           38           30.0          15.0    3560   \n",
              "3        102     67           37           28.0          14.0    3375   \n",
              "4        106     70           37           31.0          17.0    3405   \n",
              "5        109     69           39           27.0          13.0    3640   \n",
              "\n",
              "    Origin           Make  \n",
              "1  non-USA  Acura Integra  \n",
              "2  non-USA   Acura Legend  \n",
              "3  non-USA        Audi 90  \n",
              "4  non-USA       Audi 100  \n",
              "5  non-USA       BMW 535i  \n",
              "\n",
              "[5 rows x 27 columns]"
            ]
          },
          "metadata": {},
          "execution_count": 34
        }
      ]
    },
    {
      "cell_type": "markdown",
      "metadata": {
        "id": "EOoDmfOBnDJI"
      },
      "source": [
        "## Preparação dos Dados"
      ]
    },
    {
      "cell_type": "markdown",
      "metadata": {
        "id": "nsgvcBy7nkgP"
      },
      "source": [
        "A **Fase de Preparação dos Dados** difere caso a caso, mas um princípio geral é nesta fase precisamos preparar o dado da melhor forma para que sejam aplicados os modelos. É uma boa prática, senão obrigatório, uma exploração dos dados para que você conheça os dados antes de aplicar os modelos.\n",
        "\n",
        "Aqui a api `statsmodels.formula.api` não suporta nome de atributos com '.' e precisamos adequar o nomde dos atributos antes de aplicar o modelo."
      ]
    },
    {
      "cell_type": "code",
      "metadata": {
        "id": "Bu5L-7Lkm_Tv"
      },
      "source": [
        "df.columns = [ x.replace('.','') for x in df.columns ]"
      ],
      "execution_count": null,
      "outputs": []
    },
    {
      "cell_type": "code",
      "metadata": {
        "colab": {
          "base_uri": "https://localhost:8080/",
          "height": 386
        },
        "id": "SaGIaq8loZV3",
        "outputId": "b626052c-b0d7-4ad5-a08b-e870ce3d3578"
      },
      "source": [
        "df.head()"
      ],
      "execution_count": null,
      "outputs": [
        {
          "output_type": "execute_result",
          "data": {
            "text/html": [
              "\n",
              "  <div id=\"df-a2c95c59-bb51-4b36-8cda-544f307ade9f\">\n",
              "    <div class=\"colab-df-container\">\n",
              "      <div>\n",
              "<style scoped>\n",
              "    .dataframe tbody tr th:only-of-type {\n",
              "        vertical-align: middle;\n",
              "    }\n",
              "\n",
              "    .dataframe tbody tr th {\n",
              "        vertical-align: top;\n",
              "    }\n",
              "\n",
              "    .dataframe thead th {\n",
              "        text-align: right;\n",
              "    }\n",
              "</style>\n",
              "<table border=\"1\" class=\"dataframe\">\n",
              "  <thead>\n",
              "    <tr style=\"text-align: right;\">\n",
              "      <th></th>\n",
              "      <th>Manufacturer</th>\n",
              "      <th>Model</th>\n",
              "      <th>Type</th>\n",
              "      <th>MinPrice</th>\n",
              "      <th>Price</th>\n",
              "      <th>MaxPrice</th>\n",
              "      <th>MPGcity</th>\n",
              "      <th>MPGhighway</th>\n",
              "      <th>AirBags</th>\n",
              "      <th>DriveTrain</th>\n",
              "      <th>...</th>\n",
              "      <th>Passengers</th>\n",
              "      <th>Length</th>\n",
              "      <th>Wheelbase</th>\n",
              "      <th>Width</th>\n",
              "      <th>Turncircle</th>\n",
              "      <th>Rearseatroom</th>\n",
              "      <th>Luggageroom</th>\n",
              "      <th>Weight</th>\n",
              "      <th>Origin</th>\n",
              "      <th>Make</th>\n",
              "    </tr>\n",
              "  </thead>\n",
              "  <tbody>\n",
              "    <tr>\n",
              "      <th>1</th>\n",
              "      <td>Acura</td>\n",
              "      <td>Integra</td>\n",
              "      <td>Small</td>\n",
              "      <td>12.9</td>\n",
              "      <td>15.9</td>\n",
              "      <td>18.8</td>\n",
              "      <td>25</td>\n",
              "      <td>31</td>\n",
              "      <td>None</td>\n",
              "      <td>Front</td>\n",
              "      <td>...</td>\n",
              "      <td>5</td>\n",
              "      <td>177</td>\n",
              "      <td>102</td>\n",
              "      <td>68</td>\n",
              "      <td>37</td>\n",
              "      <td>26.5</td>\n",
              "      <td>11.0</td>\n",
              "      <td>2705</td>\n",
              "      <td>non-USA</td>\n",
              "      <td>Acura Integra</td>\n",
              "    </tr>\n",
              "    <tr>\n",
              "      <th>2</th>\n",
              "      <td>Acura</td>\n",
              "      <td>Legend</td>\n",
              "      <td>Midsize</td>\n",
              "      <td>29.2</td>\n",
              "      <td>33.9</td>\n",
              "      <td>38.7</td>\n",
              "      <td>18</td>\n",
              "      <td>25</td>\n",
              "      <td>Driver &amp; Passenger</td>\n",
              "      <td>Front</td>\n",
              "      <td>...</td>\n",
              "      <td>5</td>\n",
              "      <td>195</td>\n",
              "      <td>115</td>\n",
              "      <td>71</td>\n",
              "      <td>38</td>\n",
              "      <td>30.0</td>\n",
              "      <td>15.0</td>\n",
              "      <td>3560</td>\n",
              "      <td>non-USA</td>\n",
              "      <td>Acura Legend</td>\n",
              "    </tr>\n",
              "    <tr>\n",
              "      <th>3</th>\n",
              "      <td>Audi</td>\n",
              "      <td>90</td>\n",
              "      <td>Compact</td>\n",
              "      <td>25.9</td>\n",
              "      <td>29.1</td>\n",
              "      <td>32.3</td>\n",
              "      <td>20</td>\n",
              "      <td>26</td>\n",
              "      <td>Driver only</td>\n",
              "      <td>Front</td>\n",
              "      <td>...</td>\n",
              "      <td>5</td>\n",
              "      <td>180</td>\n",
              "      <td>102</td>\n",
              "      <td>67</td>\n",
              "      <td>37</td>\n",
              "      <td>28.0</td>\n",
              "      <td>14.0</td>\n",
              "      <td>3375</td>\n",
              "      <td>non-USA</td>\n",
              "      <td>Audi 90</td>\n",
              "    </tr>\n",
              "    <tr>\n",
              "      <th>4</th>\n",
              "      <td>Audi</td>\n",
              "      <td>100</td>\n",
              "      <td>Midsize</td>\n",
              "      <td>30.8</td>\n",
              "      <td>37.7</td>\n",
              "      <td>44.6</td>\n",
              "      <td>19</td>\n",
              "      <td>26</td>\n",
              "      <td>Driver &amp; Passenger</td>\n",
              "      <td>Front</td>\n",
              "      <td>...</td>\n",
              "      <td>6</td>\n",
              "      <td>193</td>\n",
              "      <td>106</td>\n",
              "      <td>70</td>\n",
              "      <td>37</td>\n",
              "      <td>31.0</td>\n",
              "      <td>17.0</td>\n",
              "      <td>3405</td>\n",
              "      <td>non-USA</td>\n",
              "      <td>Audi 100</td>\n",
              "    </tr>\n",
              "    <tr>\n",
              "      <th>5</th>\n",
              "      <td>BMW</td>\n",
              "      <td>535i</td>\n",
              "      <td>Midsize</td>\n",
              "      <td>23.7</td>\n",
              "      <td>30.0</td>\n",
              "      <td>36.2</td>\n",
              "      <td>22</td>\n",
              "      <td>30</td>\n",
              "      <td>Driver only</td>\n",
              "      <td>Rear</td>\n",
              "      <td>...</td>\n",
              "      <td>4</td>\n",
              "      <td>186</td>\n",
              "      <td>109</td>\n",
              "      <td>69</td>\n",
              "      <td>39</td>\n",
              "      <td>27.0</td>\n",
              "      <td>13.0</td>\n",
              "      <td>3640</td>\n",
              "      <td>non-USA</td>\n",
              "      <td>BMW 535i</td>\n",
              "    </tr>\n",
              "  </tbody>\n",
              "</table>\n",
              "<p>5 rows × 27 columns</p>\n",
              "</div>\n",
              "      <button class=\"colab-df-convert\" onclick=\"convertToInteractive('df-a2c95c59-bb51-4b36-8cda-544f307ade9f')\"\n",
              "              title=\"Convert this dataframe to an interactive table.\"\n",
              "              style=\"display:none;\">\n",
              "        \n",
              "  <svg xmlns=\"http://www.w3.org/2000/svg\" height=\"24px\"viewBox=\"0 0 24 24\"\n",
              "       width=\"24px\">\n",
              "    <path d=\"M0 0h24v24H0V0z\" fill=\"none\"/>\n",
              "    <path d=\"M18.56 5.44l.94 2.06.94-2.06 2.06-.94-2.06-.94-.94-2.06-.94 2.06-2.06.94zm-11 1L8.5 8.5l.94-2.06 2.06-.94-2.06-.94L8.5 2.5l-.94 2.06-2.06.94zm10 10l.94 2.06.94-2.06 2.06-.94-2.06-.94-.94-2.06-.94 2.06-2.06.94z\"/><path d=\"M17.41 7.96l-1.37-1.37c-.4-.4-.92-.59-1.43-.59-.52 0-1.04.2-1.43.59L10.3 9.45l-7.72 7.72c-.78.78-.78 2.05 0 2.83L4 21.41c.39.39.9.59 1.41.59.51 0 1.02-.2 1.41-.59l7.78-7.78 2.81-2.81c.8-.78.8-2.07 0-2.86zM5.41 20L4 18.59l7.72-7.72 1.47 1.35L5.41 20z\"/>\n",
              "  </svg>\n",
              "      </button>\n",
              "      \n",
              "  <style>\n",
              "    .colab-df-container {\n",
              "      display:flex;\n",
              "      flex-wrap:wrap;\n",
              "      gap: 12px;\n",
              "    }\n",
              "\n",
              "    .colab-df-convert {\n",
              "      background-color: #E8F0FE;\n",
              "      border: none;\n",
              "      border-radius: 50%;\n",
              "      cursor: pointer;\n",
              "      display: none;\n",
              "      fill: #1967D2;\n",
              "      height: 32px;\n",
              "      padding: 0 0 0 0;\n",
              "      width: 32px;\n",
              "    }\n",
              "\n",
              "    .colab-df-convert:hover {\n",
              "      background-color: #E2EBFA;\n",
              "      box-shadow: 0px 1px 2px rgba(60, 64, 67, 0.3), 0px 1px 3px 1px rgba(60, 64, 67, 0.15);\n",
              "      fill: #174EA6;\n",
              "    }\n",
              "\n",
              "    [theme=dark] .colab-df-convert {\n",
              "      background-color: #3B4455;\n",
              "      fill: #D2E3FC;\n",
              "    }\n",
              "\n",
              "    [theme=dark] .colab-df-convert:hover {\n",
              "      background-color: #434B5C;\n",
              "      box-shadow: 0px 1px 3px 1px rgba(0, 0, 0, 0.15);\n",
              "      filter: drop-shadow(0px 1px 2px rgba(0, 0, 0, 0.3));\n",
              "      fill: #FFFFFF;\n",
              "    }\n",
              "  </style>\n",
              "\n",
              "      <script>\n",
              "        const buttonEl =\n",
              "          document.querySelector('#df-a2c95c59-bb51-4b36-8cda-544f307ade9f button.colab-df-convert');\n",
              "        buttonEl.style.display =\n",
              "          google.colab.kernel.accessAllowed ? 'block' : 'none';\n",
              "\n",
              "        async function convertToInteractive(key) {\n",
              "          const element = document.querySelector('#df-a2c95c59-bb51-4b36-8cda-544f307ade9f');\n",
              "          const dataTable =\n",
              "            await google.colab.kernel.invokeFunction('convertToInteractive',\n",
              "                                                     [key], {});\n",
              "          if (!dataTable) return;\n",
              "\n",
              "          const docLinkHtml = 'Like what you see? Visit the ' +\n",
              "            '<a target=\"_blank\" href=https://colab.research.google.com/notebooks/data_table.ipynb>data table notebook</a>'\n",
              "            + ' to learn more about interactive tables.';\n",
              "          element.innerHTML = '';\n",
              "          dataTable['output_type'] = 'display_data';\n",
              "          await google.colab.output.renderOutput(dataTable, element);\n",
              "          const docLink = document.createElement('div');\n",
              "          docLink.innerHTML = docLinkHtml;\n",
              "          element.appendChild(docLink);\n",
              "        }\n",
              "      </script>\n",
              "    </div>\n",
              "  </div>\n",
              "  "
            ],
            "text/plain": [
              "  Manufacturer    Model     Type  MinPrice  Price  MaxPrice  MPGcity  \\\n",
              "1        Acura  Integra    Small      12.9   15.9      18.8       25   \n",
              "2        Acura   Legend  Midsize      29.2   33.9      38.7       18   \n",
              "3         Audi       90  Compact      25.9   29.1      32.3       20   \n",
              "4         Audi      100  Midsize      30.8   37.7      44.6       19   \n",
              "5          BMW     535i  Midsize      23.7   30.0      36.2       22   \n",
              "\n",
              "   MPGhighway             AirBags DriveTrain  ... Passengers  Length  \\\n",
              "1          31                None      Front  ...          5     177   \n",
              "2          25  Driver & Passenger      Front  ...          5     195   \n",
              "3          26         Driver only      Front  ...          5     180   \n",
              "4          26  Driver & Passenger      Front  ...          6     193   \n",
              "5          30         Driver only       Rear  ...          4     186   \n",
              "\n",
              "   Wheelbase  Width  Turncircle Rearseatroom  Luggageroom  Weight   Origin  \\\n",
              "1        102     68          37         26.5         11.0    2705  non-USA   \n",
              "2        115     71          38         30.0         15.0    3560  non-USA   \n",
              "3        102     67          37         28.0         14.0    3375  non-USA   \n",
              "4        106     70          37         31.0         17.0    3405  non-USA   \n",
              "5        109     69          39         27.0         13.0    3640  non-USA   \n",
              "\n",
              "            Make  \n",
              "1  Acura Integra  \n",
              "2   Acura Legend  \n",
              "3        Audi 90  \n",
              "4       Audi 100  \n",
              "5       BMW 535i  \n",
              "\n",
              "[5 rows x 27 columns]"
            ]
          },
          "metadata": {},
          "execution_count": 36
        }
      ]
    },
    {
      "cell_type": "markdown",
      "source": [
        "A avaliação de valores ausentes é uma boa prática,"
      ],
      "metadata": {
        "id": "kg4vu4-Ib0tF"
      }
    },
    {
      "cell_type": "code",
      "metadata": {
        "colab": {
          "base_uri": "https://localhost:8080/"
        },
        "id": "zipvcxWqvuRF",
        "outputId": "491f20f4-69c2-4076-cbf0-79be84173d23"
      },
      "source": [
        "df.isnull().sum()"
      ],
      "execution_count": null,
      "outputs": [
        {
          "output_type": "execute_result",
          "data": {
            "text/plain": [
              "Manufacturer         0\n",
              "Model                0\n",
              "Type                 0\n",
              "MinPrice             0\n",
              "Price                0\n",
              "MaxPrice             0\n",
              "MPGcity              0\n",
              "MPGhighway           0\n",
              "AirBags              0\n",
              "DriveTrain           0\n",
              "Cylinders            0\n",
              "EngineSize           0\n",
              "Horsepower           0\n",
              "RPM                  0\n",
              "Revpermile           0\n",
              "Mantransavail        0\n",
              "Fueltankcapacity     0\n",
              "Passengers           0\n",
              "Length               0\n",
              "Wheelbase            0\n",
              "Width                0\n",
              "Turncircle           0\n",
              "Rearseatroom         2\n",
              "Luggageroom         11\n",
              "Weight               0\n",
              "Origin               0\n",
              "Make                 0\n",
              "dtype: int64"
            ]
          },
          "metadata": {},
          "execution_count": 37
        }
      ]
    },
    {
      "cell_type": "markdown",
      "source": [
        "Mas os valores ausentes neste caso não impactam nossos modelos (eles não serão variáveis nem dependente e nem independentes no modelo). "
      ],
      "metadata": {
        "id": "YPI5OpiabtZM"
      }
    },
    {
      "cell_type": "markdown",
      "metadata": {
        "id": "jDzqv-PuodNH"
      },
      "source": [
        "## Regressão Linear Simples"
      ]
    },
    {
      "cell_type": "markdown",
      "metadata": {
        "id": "FdCovytDWnRM"
      },
      "source": [
        "Inicialmente vamos empregar somente variáveis numéricas para estimar o Preço, `Price`, dos veículos começando por um modelo de regressão linear simples empregando apenas a potência do motor, `Horsepower`, como variável preditora."
      ]
    },
    {
      "cell_type": "code",
      "metadata": {
        "id": "_AgJXt_DWS3a",
        "colab": {
          "base_uri": "https://localhost:8080/",
          "height": 369
        },
        "outputId": "ba808968-777e-47c4-de70-54fd8b751f55"
      },
      "source": [
        "sns.lmplot(x='Horsepower',y='Price',data=df)\n",
        "plt.show()"
      ],
      "execution_count": null,
      "outputs": [
        {
          "output_type": "display_data",
          "data": {
            "image/png": "[encoded data removed]",
            "text/plain": [
              "<Figure size 360x360 with 1 Axes>"
            ]
          },
          "metadata": {
            "needs_background": "light"
          }
        }
      ]
    },
    {
      "cell_type": "markdown",
      "metadata": {
        "id": "llKd1p1FVRop"
      },
      "source": [
        "Vamos, portanto, tentar inicialmente determinar o preço a partir somente da potência dos veículos, isto é:\n",
        "\n",
        "$$ \\hat{Price} =  a_0 + a_1 \\text{Horsepower} $$\n",
        "\n"
      ]
    },
    {
      "cell_type": "code",
      "metadata": {
        "id": "eISSxlPk6Xkq"
      },
      "source": [
        "model = sm.ols(formula=\"Price ~ Horsepower\", data=df)\n"
      ],
      "execution_count": null,
      "outputs": []
    },
    {
      "cell_type": "code",
      "metadata": {
        "id": "oIwL-5zA6mWi",
        "colab": {
          "base_uri": "https://localhost:8080/"
        },
        "outputId": "2e274a5c-a383-44b0-a8fa-c43dae4231f8"
      },
      "source": [
        "result = model.fit()\n",
        "print(result.summary())"
      ],
      "execution_count": null,
      "outputs": [
        {
          "output_type": "stream",
          "name": "stdout",
          "text": [
            "                            OLS Regression Results                            \n",
            "==============================================================================\n",
            "Dep. Variable:                  Price   R-squared:                       0.621\n",
            "Model:                            OLS   Adj. R-squared:                  0.617\n",
            "Method:                 Least Squares   F-statistic:                     149.3\n",
            "Date:                Sun, 06 Mar 2022   Prob (F-statistic):           6.84e-21\n",
            "Time:                        02:04:53   Log-Likelihood:                -297.23\n",
            "No. Observations:                  93   AIC:                             598.5\n",
            "Df Residuals:                      91   BIC:                             603.5\n",
            "Df Model:                           1                                         \n",
            "Covariance Type:            nonrobust                                         \n",
            "==============================================================================\n",
            "                 coef    std err          t      P>|t|      [0.025      0.975]\n",
            "------------------------------------------------------------------------------\n",
            "Intercept     -1.3988      1.820     -0.769      0.444      -5.014       2.216\n",
            "Horsepower     0.1454      0.012     12.218      0.000       0.122       0.169\n",
            "==============================================================================\n",
            "Omnibus:                       55.766   Durbin-Watson:                   1.466\n",
            "Prob(Omnibus):                  0.000   Jarque-Bera (JB):              308.782\n",
            "Skew:                           1.805   Prob(JB):                     8.89e-68\n",
            "Kurtosis:                      11.164   Cond. No.                         449.\n",
            "==============================================================================\n",
            "\n",
            "Warnings:\n",
            "[1] Standard Errors assume that the covariance matrix of the errors is correctly specified.\n"
          ]
        }
      ]
    },
    {
      "cell_type": "markdown",
      "metadata": {
        "id": "123_FRbZ6v0Y"
      },
      "source": [
        "Obtemos assim o modelo:\n",
        "\n",
        "$$ \\hat{Price} =  -1.3988 + 0.1454 \\times \\text{Horsepower} $$   \n",
        " \n",
        "\n"
      ]
    },
    {
      "cell_type": "markdown",
      "metadata": {
        "id": "UArNPQQOYppn"
      },
      "source": [
        "## Predição de novos valores, `predict(x)`\n",
        "\n",
        "Podemos agora empregar nosso modelo para estimar o preço de um novo veículo para o qual conhecemos a potência:"
      ]
    },
    {
      "cell_type": "code",
      "metadata": {
        "id": "Rc7ckqg98J8V",
        "colab": {
          "base_uri": "https://localhost:8080/"
        },
        "outputId": "acdfa79c-d530-4dc7-d101-eab87f670306"
      },
      "source": [
        "x = pd.DataFrame({'Horsepower': [150,180]})\n",
        "result.predict(x)"
      ],
      "execution_count": null,
      "outputs": [
        {
          "output_type": "execute_result",
          "data": {
            "text/plain": [
              "0    20.406915\n",
              "1    24.768052\n",
              "dtype: float64"
            ]
          },
          "metadata": {},
          "execution_count": 41
        }
      ]
    },
    {
      "cell_type": "markdown",
      "metadata": {
        "id": "XyRl09f4Zne7"
      },
      "source": [
        "## Avaliando o Modelo\n",
        "\n"
      ]
    },
    {
      "cell_type": "markdown",
      "metadata": {
        "id": "RPZI1rIGYKyE"
      },
      "source": [
        "Sendo uma regressão simples podemos fazer uma inspeção visual do modelo."
      ]
    },
    {
      "cell_type": "code",
      "metadata": {
        "id": "_wgtCaq_7IuB"
      },
      "source": [
        "df['predicted'] = result.predict()"
      ],
      "execution_count": null,
      "outputs": []
    },
    {
      "cell_type": "code",
      "metadata": {
        "id": "Zo48GSLV7bEQ",
        "colab": {
          "base_uri": "https://localhost:8080/",
          "height": 305
        },
        "outputId": "f297a7e0-5a3f-41f7-af3a-b4849801798c"
      },
      "source": [
        "sns.scatterplot(x='Horsepower', y='Price', data=df)\n",
        "sns.lineplot(x='Horsepower', y='predicted', data=df, color='red')\n",
        "\n",
        "plt.title('Modelo de Regressão Linear', fontsize=14, weight='bold')\n",
        "plt.xlabel('$Horsepower$', fontsize=16)\n",
        "plt.ylabel('$Price$', fontsize=16)\n",
        "\n",
        "plt.show()\n"
      ],
      "execution_count": null,
      "outputs": [
        {
          "output_type": "display_data",
          "data": {
            "image/png": "[encoded data removed]",
            "text/plain": [
              "<Figure size 432x288 with 1 Axes>"
            ]
          },
          "metadata": {
            "needs_background": "light"
          }
        }
      ]
    },
    {
      "cell_type": "markdown",
      "metadata": {
        "id": "wcN3EJtSaHBz"
      },
      "source": [
        "Os dados parecem se ajustar muito parcialmente aos dados. Mas a inspeção visual é bastante limitada e, no máximo, pode permitir a avaliação de modelos de regressão simples, em duas dimensões."
      ]
    },
    {
      "cell_type": "markdown",
      "metadata": {
        "id": "zCBxb243aavi"
      },
      "source": [
        "### Analisando o $R^2$ e *p-values*\n",
        "\n",
        "$$ R^2 = 0.621$$\n",
        "$$ p-values = 0.444 > 0.05 \\text{, para o intercept}$$\n",
        "\n",
        "A análise do coeficiente de determinação e do *p-value* dos coeficientes é uma forma mais efetiva de avaliação e pode ser aplicada também a modelos de regressão múltipla (com mais de uma variável preditora). Os valores também mostram que os dados se ajustam de modo bastante parcial ao modelo, que explica somente 62.1% da variação dos dados havendo ainda um coeficiente (*intercept*) não significativo para o modelo. O intervalo de confiança seria ainda uma verificação adicional e fornece o intervalo de valores de cada coeficiente, e que podemos empregar para identificar possíveis desvios nos coeficientes. "
      ]
    },
    {
      "cell_type": "markdown",
      "metadata": {
        "id": "Y6suW5Jtb3fv"
      },
      "source": [
        "## Regressão Múltipla: Adicionando Mais Variáveis ao Modelo\n",
        "\n",
        "Sendo o ajuste do modelo anterior parcial vamos buscar aprimorar o modelo adicionando mais variáveis preditoras. Vamos, entretanto, ainda nos atermos a entradas numéricas no modelo."
      ]
    },
    {
      "cell_type": "code",
      "metadata": {
        "id": "Q1YXxDVo70fN",
        "colab": {
          "base_uri": "https://localhost:8080/"
        },
        "outputId": "d56b105e-45ba-4a8e-ce66-92eb28efa7fb"
      },
      "source": [
        "model = sm.ols(formula=\"Price ~ Passengers +\tLength +\tWheelbase\t+ \\\n",
        "              Width\t+ Turncircle + Luggageroom + \\\n",
        "              Weight + Horsepower + EngineSize + \\\n",
        "              RPM + Wheelbase \", data=df)\n",
        "result = model.fit()\n",
        "print(result.summary())"
      ],
      "execution_count": null,
      "outputs": [
        {
          "output_type": "stream",
          "name": "stdout",
          "text": [
            "                            OLS Regression Results                            \n",
            "==============================================================================\n",
            "Dep. Variable:                  Price   R-squared:                       0.727\n",
            "Model:                            OLS   Adj. R-squared:                  0.689\n",
            "Method:                 Least Squares   F-statistic:                     18.94\n",
            "Date:                Sun, 06 Mar 2022   Prob (F-statistic):           2.32e-16\n",
            "Time:                        02:04:54   Log-Likelihood:                -251.04\n",
            "No. Observations:                  82   AIC:                             524.1\n",
            "Df Residuals:                      71   BIC:                             550.6\n",
            "Df Model:                          10                                         \n",
            "Covariance Type:            nonrobust                                         \n",
            "===============================================================================\n",
            "                  coef    std err          t      P>|t|      [0.025      0.975]\n",
            "-------------------------------------------------------------------------------\n",
            "Intercept      53.1792     28.749      1.850      0.069      -4.146     110.504\n",
            "Passengers     -0.3768      1.317     -0.286      0.776      -3.004       2.250\n",
            "Length          0.0090      0.130      0.069      0.945      -0.251       0.269\n",
            "Wheelbase       0.6436      0.280      2.301      0.024       0.086       1.201\n",
            "Width          -1.5020      0.457     -3.289      0.002      -2.413      -0.591\n",
            "Turncircle     -0.5811      0.374     -1.555      0.124      -1.326       0.164\n",
            "Luggageroom     0.0801      0.349      0.230      0.819      -0.615       0.776\n",
            "Weight          0.0066      0.005      1.366      0.176      -0.003       0.016\n",
            "Horsepower      0.1430      0.046      3.123      0.003       0.052       0.234\n",
            "EngineSize     -0.7457      2.409     -0.310      0.758      -5.549       4.057\n",
            "RPM            -0.0025      0.002     -1.081      0.283      -0.007       0.002\n",
            "==============================================================================\n",
            "Omnibus:                       28.002   Durbin-Watson:                   1.869\n",
            "Prob(Omnibus):                  0.000   Jarque-Bera (JB):               81.343\n",
            "Skew:                           1.048   Prob(JB):                     2.17e-18\n",
            "Kurtosis:                       7.406   Cond. No.                     2.88e+05\n",
            "==============================================================================\n",
            "\n",
            "Warnings:\n",
            "[1] Standard Errors assume that the covariance matrix of the errors is correctly specified.\n",
            "[2] The condition number is large, 2.88e+05. This might indicate that there are\n",
            "strong multicollinearity or other numerical problems.\n"
          ]
        }
      ]
    },
    {
      "cell_type": "markdown",
      "metadata": {
        "id": "Vdl5fnNjdbYj"
      },
      "source": [
        "A inspeção visual agora não é mais possível mas podemos analisar as métricas do modelo. O modelo agora apresenta um resultado melhor, mas ainda assim parcial. \n",
        "\n",
        "$ \\bar{R}^2 = 0.689 $, note, estamos vendo agora o $\\bar{R}^2$ **ajustado**!\n",
        "\n",
        "$ p-values > 0.05 $\n",
        "\n",
        "O $\\bar{R}^2$, ajustado, ainda é bastante inferior a $0.8$ (um valor a partir do qual as predições começam a ficar interessantes) e ainda existem estimadores não sigficantes, incluindo o `Intercept`. \n",
        "\n",
        "Um modelo melhor pode ser obtido. Vamos empregar agora somente os estimadores relevantes, e empregaremos o $-1$ na fórmula para excluir o `Intercept` do modelo. "
      ]
    },
    {
      "cell_type": "code",
      "metadata": {
        "colab": {
          "base_uri": "https://localhost:8080/"
        },
        "id": "i4kX6uAUwDSy",
        "outputId": "894e662e-473d-4427-cf84-b487636d7ade"
      },
      "source": [
        "model = sm.ols(formula=\"Price ~ Wheelbase\t+ Width\t+ Horsepower - 1\", data=df)\n",
        "result = model.fit()\n",
        "print(result.summary())"
      ],
      "execution_count": null,
      "outputs": [
        {
          "output_type": "stream",
          "name": "stdout",
          "text": [
            "                                 OLS Regression Results                                \n",
            "=======================================================================================\n",
            "Dep. Variable:                  Price   R-squared (uncentered):                   0.941\n",
            "Model:                            OLS   Adj. R-squared (uncentered):              0.939\n",
            "Method:                 Least Squares   F-statistic:                              476.8\n",
            "Date:                Sun, 06 Mar 2022   Prob (F-statistic):                    4.19e-55\n",
            "Time:                        02:04:54   Log-Likelihood:                         -286.90\n",
            "No. Observations:                  93   AIC:                                      579.8\n",
            "Df Residuals:                      90   BIC:                                      587.4\n",
            "Df Model:                           3                                                  \n",
            "Covariance Type:            nonrobust                                                  \n",
            "==============================================================================\n",
            "                 coef    std err          t      P>|t|      [0.025      0.975]\n",
            "------------------------------------------------------------------------------\n",
            "Wheelbase      0.6567      0.140      4.702      0.000       0.379       0.934\n",
            "Width         -1.0195      0.213     -4.789      0.000      -1.442      -0.597\n",
            "Horsepower     0.1526      0.012     12.931      0.000       0.129       0.176\n",
            "==============================================================================\n",
            "Omnibus:                       44.686   Durbin-Watson:                   1.663\n",
            "Prob(Omnibus):                  0.000   Jarque-Bera (JB):              187.154\n",
            "Skew:                           1.475   Prob(JB):                     2.29e-41\n",
            "Kurtosis:                       9.292   Cond. No.                         89.0\n",
            "==============================================================================\n",
            "\n",
            "Warnings:\n",
            "[1] Standard Errors assume that the covariance matrix of the errors is correctly specified.\n"
          ]
        }
      ]
    },
    {
      "cell_type": "markdown",
      "metadata": {
        "id": "oHcGxXdjyDQa"
      },
      "source": [
        "Conseguimos agora um modelo que parece suficientemente bom e que explica mais de 93% da variação dos preços dos veículos. \n",
        "\n",
        "$$ \\bar{R}^2 = 0.939 $$\n",
        "$$ p-values < 0.05 $$\n",
        "\n",
        "Este é um modelo bastante bom e que podemos agora empregar para fazer predições de preços de uma forma mais ou menos segura. Podemos, por exemplo, estimar o preço de um veículo hipotético com as medidas médias de `Wheelbase`,`Width` e `Horsepower`. "
      ]
    },
    {
      "cell_type": "code",
      "metadata": {
        "colab": {
          "base_uri": "https://localhost:8080/"
        },
        "id": "705BTPh7ypDi",
        "outputId": "20bd9b80-2c24-4707-f174-e1a7692632c0"
      },
      "source": [
        "x = pd.DataFrame({'Wheelbase': [ df.Wheelbase.mean() ],\n",
        "                  'Width': [ df.Width.mean() ],\n",
        "                  'Horsepower': [ df.Horsepower.mean() ]})\n",
        "preco_estimado = result.predict(x)[0]\n",
        "\n",
        "print(f'Preço estimado (US$ 1000): {preco_estimado:.2f}')"
      ],
      "execution_count": null,
      "outputs": [
        {
          "output_type": "stream",
          "name": "stdout",
          "text": [
            "Preço estimado (US$ 1000): 19.48\n"
          ]
        }
      ]
    },
    {
      "cell_type": "markdown",
      "metadata": {
        "id": "pZvQpFO20oST"
      },
      "source": [
        "# Adicionando Variáveis Categóricas\n",
        "\n",
        "O pacote `statsmodel` permite empregar variáveis categóricas diretamente. Como o cálculo dos coeficientes requer atributos numéricos o pacote transforma esses atributos internamente fazendo o *hot encode* dos dados. "
      ]
    },
    {
      "cell_type": "code",
      "metadata": {
        "colab": {
          "base_uri": "https://localhost:8080/"
        },
        "id": "NZmN2ZEozoBi",
        "outputId": "55e3ecb6-251d-472a-a4f4-515fd899a48e"
      },
      "source": [
        "model = sm.ols(formula=\"Price ~ Origin + Wheelbase + Width\t+ Horsepower - 1\", data=df)\n",
        "result = model.fit()\n",
        "print(result.summary())"
      ],
      "execution_count": null,
      "outputs": [
        {
          "output_type": "stream",
          "name": "stdout",
          "text": [
            "                            OLS Regression Results                            \n",
            "==============================================================================\n",
            "Dep. Variable:                  Price   R-squared:                       0.710\n",
            "Model:                            OLS   Adj. R-squared:                  0.697\n",
            "Method:                 Least Squares   F-statistic:                     53.85\n",
            "Date:                Sun, 06 Mar 2022   Prob (F-statistic):           7.17e-23\n",
            "Time:                        02:04:54   Log-Likelihood:                -284.82\n",
            "No. Observations:                  93   AIC:                             579.6\n",
            "Df Residuals:                      88   BIC:                             592.3\n",
            "Df Model:                           4                                         \n",
            "Covariance Type:            nonrobust                                         \n",
            "===================================================================================\n",
            "                      coef    std err          t      P>|t|      [0.025      0.975]\n",
            "-----------------------------------------------------------------------------------\n",
            "Origin[USA]        -0.2091     14.536     -0.014      0.989     -29.096      28.678\n",
            "Origin[non-USA]     1.9900     13.860      0.144      0.886     -25.555      29.534\n",
            "Wheelbase           0.6152      0.140      4.380      0.000       0.336       0.894\n",
            "Width              -0.9700      0.324     -2.998      0.004      -1.613      -0.327\n",
            "Horsepower          0.1530      0.015     10.457      0.000       0.124       0.182\n",
            "==============================================================================\n",
            "Omnibus:                       44.115   Durbin-Watson:                   1.660\n",
            "Prob(Omnibus):                  0.000   Jarque-Bera (JB):              167.993\n",
            "Skew:                           1.498   Prob(JB):                     3.32e-37\n",
            "Kurtosis:                       8.863   Cond. No.                     7.11e+03\n",
            "==============================================================================\n",
            "\n",
            "Warnings:\n",
            "[1] Standard Errors assume that the covariance matrix of the errors is correctly specified.\n",
            "[2] The condition number is large, 7.11e+03. This might indicate that there are\n",
            "strong multicollinearity or other numerical problems.\n"
          ]
        }
      ]
    },
    {
      "cell_type": "markdown",
      "metadata": {
        "id": "_hVwrve-1QKL"
      },
      "source": [
        "Por exemplo, ao incluir o atributo categórico `Origin`, que possui valores `USA` e `non-USA`, o pacote cria as variáveis binárias (*hot encode*) `Origin[USA]` e `Origin[non-USA]` para serem empregadas no modelo. Aqui o modelo apresentou um resultado pior que o modelo anterior, mas seu  objetivo aqui é apenas de mostrar o uso de atributos categóricos em um modelo de regressão.\n",
        "\n",
        "O uso de variáveis categóricas é muito importante em várias aplicações de modelos de regressão e você pode, por exemplo, pensar na importância de um atributo categórico como *bairro* ou *marca* para a estimativa de preços de imóveis ou veículos."
      ]
    },
    {
      "cell_type": "markdown",
      "source": [
        "# Erros Comuns na Interpretação do Modelo\n",
        "\n",
        "Dois erros são bastante comuns na intepretação de modelos de regressão linear e nos dois casos, podem levar a conclusões bastante errôneas.\n",
        "\n",
        "\n",
        "\n"
      ],
      "metadata": {
        "id": "aQRY5-UqgOFz"
      }
    },
    {
      "cell_type": "markdown",
      "source": [
        "## $R^2 \\approx  0 \\Rightarrow $ não há relação entre os dados.\n",
        "\n",
        "Isso não é necessariamente verdade. "
      ],
      "metadata": {
        "id": "Ranjyxe3gj2s"
      }
    },
    {
      "cell_type": "code",
      "source": [
        "data = pd.DataFrame()\n",
        "data['x'] = np.arange(-10,10,0.1)\n",
        "data['y'] = data['x']**2\n",
        "\n",
        "model = sm.ols(formula=\"y ~ x\", data=data)\n",
        "result = model.fit()\n",
        "print( result.summary() )"
      ],
      "metadata": {
        "colab": {
          "base_uri": "https://localhost:8080/"
        },
        "id": "SywheJ34hGZ9",
        "outputId": "3e9174c6-3c35-4fec-d1d6-2dbba449b2d2"
      },
      "execution_count": null,
      "outputs": [
        {
          "output_type": "stream",
          "name": "stdout",
          "text": [
            "                            OLS Regression Results                            \n",
            "==============================================================================\n",
            "Dep. Variable:                      y   R-squared:                       0.000\n",
            "Model:                            OLS   Adj. R-squared:                 -0.005\n",
            "Method:                 Least Squares   F-statistic:                   0.07426\n",
            "Date:                Sun, 06 Mar 2022   Prob (F-statistic):              0.786\n",
            "Time:                        02:04:54   Log-Likelihood:                -962.77\n",
            "No. Observations:                 200   AIC:                             1930.\n",
            "Df Residuals:                     198   BIC:                             1936.\n",
            "Df Model:                           1                                         \n",
            "Covariance Type:            nonrobust                                         \n",
            "==============================================================================\n",
            "                 coef    std err          t      P>|t|      [0.025      0.975]\n",
            "------------------------------------------------------------------------------\n",
            "Intercept     33.3300      2.119     15.731      0.000      29.152      37.508\n",
            "x             -0.1000      0.367     -0.273      0.786      -0.824       0.624\n",
            "==============================================================================\n",
            "Omnibus:                       30.369   Durbin-Watson:                   0.001\n",
            "Prob(Omnibus):                  0.000   Jarque-Bera (JB):               19.728\n",
            "Skew:                           0.639   Prob(JB):                     5.20e-05\n",
            "Kurtosis:                       2.142   Cond. No.                         5.77\n",
            "==============================================================================\n",
            "\n",
            "Warnings:\n",
            "[1] Standard Errors assume that the covariance matrix of the errors is correctly specified.\n"
          ]
        }
      ]
    },
    {
      "cell_type": "markdown",
      "source": [
        "A regressão acima tem $R^2 = 0$, mas os dados tem uma clara relação como mostra o gráfico."
      ],
      "metadata": {
        "id": "L2X8ZYMYhvNp"
      }
    },
    {
      "cell_type": "code",
      "source": [
        "plt.plot(data['x'],data['y'])\n",
        "plt.title('$y = x^2$, $R^2 = 0$',fontsize=14)\n",
        "plt.show()"
      ],
      "metadata": {
        "colab": {
          "base_uri": "https://localhost:8080/",
          "height": 287
        },
        "id": "7fyZjbNvh5uL",
        "outputId": "7adf4833-df42-4d38-aba4-be883a9da5b6"
      },
      "execution_count": null,
      "outputs": [
        {
          "output_type": "display_data",
          "data": {
            "image/png": "[encoded data removed]",
            "text/plain": [
              "<Figure size 432x288 with 1 Axes>"
            ]
          },
          "metadata": {
            "needs_background": "light"
          }
        }
      ]
    },
    {
      "cell_type": "markdown",
      "source": [
        "O coeficiente $R^2$ indica somente a presença de relações **lineares** entre os dados podendo haver muitas outras relações que não as relações lineares como mostra o exemplo acima. "
      ],
      "metadata": {
        "id": "eOmCZt_4iaTL"
      }
    },
    {
      "cell_type": "markdown",
      "source": [
        "## $R^2 \\approx 1 \\Rightarrow $ então $x$ é **causa** e $y$ **efeito**.\n",
        "\n",
        "Isso não é necessariamente verdade. \n",
        "\n",
        "Talvez ainda mais comum que o erro anterior e até mais grave é concluírmos a partir de uma regressão linear válida uma relação de **causa-efeito** entre essas variáveis, embora em muitos casos isso possa ser verdade.\n",
        "\n",
        "A área de um imóvel e sua idade tem, em geral, um efeito sobre o preço do imóvel, e a renda de um país tem um efeito sobre a expectativa de vida das pessoas, o que pode ser observado se implementamos um modelo, linear ou não. Mas a presença de relação linear entre os dados **não garante** que exista uma relação de causa-efeito. Uma relação linear apenas diz que observando os valores das variáveis independentes podemos estimar com alguma confiança os valores da variável dependente. Isso não permite determinar quem é a causa ou quem é o efeito e nem mesmo se existe uma relação de causa-efeito. Ambas, por exemplo, podem ter uma causa comum e, portanto, seus valores podem simplesmente *andarem* juntos e há uma série de casos de correlações espúrias entre os dados. \n",
        "\n"
      ],
      "metadata": {
        "id": "t9JR20Eii0Ao"
      }
    },
    {
      "cell_type": "markdown",
      "source": [
        "\n",
        "\n",
        "\n",
        "<img src=\"https://github.com/Rogerio-mack/Machine-Learning-I/raw/main/Figures/spurious1.png\" width=800, align=\"center\">\n",
        "\n",
        "\n",
        "<img src=\"https://github.com/Rogerio-mack/Machine-Learning-I/raw/main/Figures/spurious2.png\" width=800, align=\"center\">"
      ],
      "metadata": {
        "id": "0DlTRfTTnuIM"
      }
    },
    {
      "cell_type": "markdown",
      "source": [
        "<small>\n",
        "\n",
        "<b>\n",
        "Figura 4. Relações espúrias entre dados exibindo uma correlação bastante alta ~ 0.99. Uma interpretação errada poderia levar a entendermos que os gastos com ciência são a causa de um maior número de suicídios (acima) ou que um menor consumo de margarina pode levar a uma redução do número de divórcios (abaixo). Uma nota: não nos deteremos aqui nas diferenças de correlação e coeficiente de determinação, pois não altera o observado aqui e não tem relevância para os nossos propósitos. Fonte: https://www.tylervigen.com/spurious-correlations"
      ],
      "metadata": {
        "id": "7qtwYb2TnuIN"
      }
    },
    {
      "cell_type": "markdown",
      "metadata": {
        "id": "oO3RnKjR44_T"
      },
      "source": [
        "# Sumário da Aula\n",
        "\n",
        "A partir de modelos simples de regressão e classificação você pôde entender alguns conceitos importantes e comuns a vários modelos de Aprendizado Supervisionado como seu caráter **probabilístico, conjunto de treinamento, variáveis preditoras e objetivo, métricas de eficiência e classes de modelos**. \n",
        "\n",
        "Você compreendeu também a diferença entre problemas de **regressão**, que estimam quantidades, e problemas de **classificação**, estimam categorias ou classes dos dados. Ambos são modelos supervisionados onde os casos de treinamento são previamente rotulados e sobre o qual construímos modelos para a predição de novos casos. \n",
        "\n",
        "Você também aprendeu a criar modelos de **Regressão Linear Simples** e **Múltipla** empregando o pacote `statsmodels` e como avaliar esses modelos observando os valores de $R^2$ (coeficiente de determinação) e os **p-values** dos coeficientes. Com isso você pôde entender como podemos construir e refinar um modelo até obtermos um modelo útil para os nossos propósitos. Ao final você ainda viu alguns **erros comuns** e aos quais você deve estar atento na interpretação desses modelos. \n",
        "\n",
        "\n"
      ]
    },
    {
      "cell_type": "markdown",
      "metadata": {
        "id": "k4noMRT_YUd7"
      },
      "source": [
        "# Para Saber Mais\n",
        "\n",
        "* Modelos de regressão linear podem ser associados a transformações, como por exemplo a aplicação de $log()$, e podemos aplicar um modelo para aproxima $ Log(y) = a_0 + a_1 x_1 + a_2 x_2 + ...$ no lugar $y$. Isso expande a capacidade do modelo linear e é útil em uma série de problemas práticos como cálculo de preços de imóveis e aluguéis por exemplo. Pesquise sobre isso ou tente reproduzir o modelo de preços de veículos criado aqui obtendo um modelo de $Log(Price)$. \n",
        "\n",
        "* Vamos relembrar o que é o *Hot Encode*? Acesse: https://www.educative.io/blog/one-hot-encoding e veja também como fazer o *hot encode* com o `Pandas` ou ainda com `scikit-learn`. Modelos de regressão requerem valores numéricos e essa transformação é útil quando queremos incluir no nosso modelo variáveis categóricas, como no caso de bairro ou marca do veículo para um modelo de preços de imóveis ou carros. \n",
        "\n",
        "* Embora tenhamos usado aqui o pacote `statsmodel` o pacote `scikit-learn` é mais geral para modelos de aprendizado de máquina e é o que devemos usar daqui para diante na maior parte dos modelos. Mas ele também implementa modelos de regressão linear e você pode consultar o site https://scikit-learn.org e entender como implementar esses modelos ou ainda acessar Jake VanderPlas. **Python Data Science Handbook**  Disponível em: https://jakevdp.github.io/PythonDataScienceHandbook/ onde você encontra um capítulo dedicado à regressão linear.\n",
        "\n",
        "* Acesse também https://developers.google.com/machine-learning/crash-course/descending-into-ml/linear-regression e assista a um vídeo de introdução aos modelos de regressão linear na visão da Google."
      ]
    },
    {
      "cell_type": "markdown",
      "metadata": {
        "id": "fa24d435"
      },
      "source": [
        "# Referências"
      ]
    },
    {
      "cell_type": "markdown",
      "metadata": {
        "id": "zlJfWteFyhFy"
      },
      "source": [
        "* MÜLLER, Andreas C.; GUIDO, Sarah. **Introduction to machine learning with Python: a guide for data scientists.** O'Reilly Media, Inc., 2016. (parcial online: https://www.oreilly.com/library/view/introduction-to-machine/9781449369880/ch01.html).\n",
        "\n",
        "* Kotu, Vijay; Deshpande, Balachandre **Data Science: concepts and practice**. 2nd ed. Cambridge, [England]: Morgan Kaufmann, c2019. E-book (570 p.) ISBN 9780128147627 (electronic bk.). Disponível em: http://pergamum.mackenzie.br:8080/pergamumweb/vinculos/00003c/00003cef.jpg.\n",
        "\n",
        "* Jake VanderPlas. **Python Data Science Handbook**  O'Reilly Media, Inc. (2016). ISBN: 9781491912058. Disponível em: https://jakevdp.github.io/PythonDataScienceHandbook/. Acesso: 06 de Novembro de 2021.\n",
        "\n",
        "* Larose, Chantal D.; Larose, Daniel T. **Data Science Using Python and R** Hoboken: Wiley, c2019. E-book (259 p.) (Wiley Series on Methods and Applications in Data Mining Ser.). ISBN 9781119526834 (electronic bk.). Disponível em: https://www3.mackenzie.br/biblioteca_virtual/index.php?tipoBiblio=ebookcentral&flashObg=n\n",
        "\n",
        "* ___. **An introduction to machine learning with scikit-learn** Disponível em: https://scikit-learn.org/stable/tutorial/basic/tutorial.html Acesso em: 06 de Novembro de 2021.\n",
        "\n",
        "* ___. **scikit-learn: machine learning in Python** Disponível em: http://scipy-lectures.org/packages/scikit-learn/index.html Acesso em: 06 de Novembro de 2021.\n",
        "\n",
        "* ___.**Google, Crash Course - ML Introduction**. Disponível em: https://developers.google.com/machine-learning/crash-course/ml-intro. Acesso em: 03 de Março de 2022."
      ]
    }
  ]
}