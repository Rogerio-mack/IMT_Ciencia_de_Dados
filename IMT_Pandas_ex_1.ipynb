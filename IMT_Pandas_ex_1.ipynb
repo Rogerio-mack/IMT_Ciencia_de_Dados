{
  "nbformat": 4,
  "nbformat_minor": 0,
  "metadata": {
    "kernelspec": {
      "display_name": "Python 3",
      "language": "python",
      "name": "python3"
    },
    "language_info": {
      "codemirror_mode": {
        "name": "ipython",
        "version": 3
      },
      "file_extension": ".py",
      "mimetype": "text/x-python",
      "name": "python",
      "nbconvert_exporter": "python",
      "pygments_lexer": "ipython3",
      "version": "3.7.4"
    },
    "colab": {
      "provenance": [],
      "include_colab_link": true
    }
  },
  "cells": [
    {
      "cell_type": "markdown",
      "metadata": {
        "id": "view-in-github",
        "colab_type": "text"
      },
      "source": [
        "<a href=\"https://colab.research.google.com/github/Rogerio-mack/IMT_Ciencia_de_Dados/blob/main/IMT_Pandas_ex_1.ipynb\" target=\"_parent\"><img src=\"https://colab.research.google.com/assets/colab-badge.svg\" alt=\"Open In Colab\"/></a>"
      ]
    },
    {
      "cell_type": "markdown",
      "metadata": {
        "id": "80CF3Eq9EXDW"
      },
      "source": [
        "<head>\n",
        "  <meta name=\"author\" content=\"Rogério de Oliveira\">\n",
        "  <meta institution=\"author\" content=\"ITM\">\n",
        "</head>\n",
        "\n",
        "<img src=\"https://maua.br/images/selo-60-anos-maua.svg\" width=300, align=\"right\">\n",
        "<!-- <h1 align=left><font size = 6, style=\"color:rgb(200,0,0)\"> optional title </font></h1> -->\n"
      ]
    },
    {
      "cell_type": "markdown",
      "source": [
        "# Lab: Seleção de Dados em Pandas \n",
        "\n",
        "Referências e Materiais úteis para este Lab:\n",
        "\n",
        "- [Notas de Aula](https://colab.research.google.com/github/Rogerio-mack/IMT_Ciencia_de_Dados/blob/main/IMT_Pandas_I.ipynb)\n",
        "- [Pandas User Guide](https://pandas.pydata.org/docs/user_guide/index.html#user-guide)\n",
        "\n",
        "---\n",
        "\n"
      ],
      "metadata": {
        "id": "dEyV_GqcqtL1"
      }
    },
    {
      "cell_type": "code",
      "source": [
        "import pandas as pd\n",
        "import numpy as np"
      ],
      "metadata": {
        "id": "aA7x9VBqEhqM"
      },
      "execution_count": null,
      "outputs": []
    },
    {
      "cell_type": "markdown",
      "source": [
        "## **CASE Tips** "
      ],
      "metadata": {
        "id": "0bRkqJl0GMSV"
      }
    },
    {
      "cell_type": "markdown",
      "metadata": {
        "id": "kZJJx_XxUcIi"
      },
      "source": [
        "##### Q1. Considere a base de dados [`tips`](https://github.com/Rogerio-mack/IMT_Ciencia_de_Dados/raw/main/data/tips.csv). Considerando somente os finais de semana, quem tem média de participantes na mesa maior, fumantes ou não fumantes?\n",
        "\n"
      ]
    },
    {
      "cell_type": "markdown",
      "metadata": {
        "id": "k0HzcIvWZ6Vp"
      },
      "source": [
        "## **CASE Insurance** \n",
        "\n",
        "Acesse a base de dados [`insurance`](https://github.com/Rogerio-mack/IMT_Ciencia_de_Dados/raw/main/data/insurance.csv) para as questões a seguir.\n",
        "\n"
      ]
    },
    {
      "cell_type": "markdown",
      "metadata": {
        "id": "GC2yWSkjNwY8"
      },
      "source": [
        "##### Q2. Qual percentual de homens e mulheres assegurados na base? "
      ]
    },
    {
      "cell_type": "markdown",
      "metadata": {
        "id": "__VBwOtBQIHR"
      },
      "source": [
        "##### Q3. Qual o total do valor de seguro pago por homens e mulheres segurados na base? "
      ]
    },
    {
      "cell_type": "markdown",
      "metadata": {
        "id": "qgs0dgQ3RTVw"
      },
      "source": [
        "##### Q4. Qual o precentual de valor de seguros pagos por homens e mulheres segurados na base? "
      ]
    },
    {
      "cell_type": "markdown",
      "metadata": {
        "id": "M_Zokf5QRp3b"
      },
      "source": [
        "##### Q5. Não fumantes apresentam em média mais filhos? "
      ]
    },
    {
      "cell_type": "markdown",
      "metadata": {
        "id": "jFUFT8VAWV88"
      },
      "source": [
        "##### Q6. Qual a média e maior de idade dentre os segurados homem, das regiões northwest ou northeast?"
      ]
    },
    {
      "cell_type": "markdown",
      "metadata": {
        "id": "dokziaB0XLtj"
      },
      "source": [
        "\n",
        "\n",
        "## **CASE European Energy** \n",
        "\n",
        "Qual o tipo de Energia mais produzido na Europa? O uso de fontes renováveis já é significativo? \n",
        "\n",
        "<br>\n",
        "<br>\n",
        "\n",
        "<img src=\"https://camo.githubusercontent.com/a1a0f0c83b5fce8c06f95188889bf5bc4e63939541930179f8c0c5b406fb9ae1/68747470733a2f2f696d616765732e756e73706c6173682e636f6d2f70686f746f2d313533323630313232343437362d3135633739663266376135313f69786c69623d72622d312e322e3126697869643d65794a6863484266615751694f6a45794d446439266175746f3d666f726d6174266669743d63726f7026773d3133353026713d3830\" width=300, align=\"left\">\n",
        "\n",
        "<br>\n",
        "<br>\n",
        "<br>\n",
        "<br>\n",
        "<br>\n",
        "<br>\n",
        "<br>\n",
        "<br>\n",
        "<br>\n",
        "\n",
        "[European Energy link](https://github.com/rfordatascience/tidytuesday/blob/master/data/2020/2020-08-04/readme.md)\n",
        "\n",
        "Explore aqui como é a produção de Energia na Europa empregando a base de dados [`energy_types`](https://github.com/Rogerio-mack/IMT_Ciencia_de_Dados/raw/main/data/energy_types.csv). Você pode achar útil fazer uma exploração inicial dos dados antes de começar."
      ]
    },
    {
      "cell_type": "markdown",
      "metadata": {
        "id": "lY7B1YMKNVB9"
      },
      "source": [
        "##### Q7. Quantos tipos de energia e países diferentes há na base?"
      ]
    },
    {
      "cell_type": "markdown",
      "metadata": {
        "id": "GypmvP3lZEWR"
      },
      "source": [
        "##### Q8. Qual o percentual de energia nuclear produzido na Europa no ano de 2018?"
      ]
    },
    {
      "cell_type": "markdown",
      "metadata": {
        "id": "1cIu6LriZ1N7"
      },
      "source": [
        "##### Q9. Qual o percentual de energia nuclear produzido na França no ano de 2018?"
      ]
    },
    {
      "cell_type": "markdown",
      "metadata": {
        "id": "rEnUCFVtaNTa"
      },
      "source": [
        "##### Q10. Qual o percentual de energias limpas produzida na Europa no ano de 2018?\n",
        "\n",
        "*Energias limpas somente Hidroelétrica, Eólica, Solar e Geotérmica.*"
      ]
    },
    {
      "cell_type": "markdown",
      "metadata": {
        "id": "7pY3c6iabNag"
      },
      "source": [
        "##### Q11. Considerando os anos de 2016, 2017 e 2018, a produção de energias limpas tem aumentado na Europa? Verifique em termos absolutos e percentuais.\n",
        "\n",
        "*Energias limpas somente Hidroelétrica, Eólica, Solar e Geotérmica.*"
      ]
    }
  ]
}